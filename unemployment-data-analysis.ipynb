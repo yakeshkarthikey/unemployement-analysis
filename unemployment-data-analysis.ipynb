{
 "cells": [
  {
   "cell_type": "code",
   "execution_count": 1,
   "id": "359041e2",
   "metadata": {
    "execution": {
     "iopub.execute_input": "2023-01-24T18:21:04.896142Z",
     "iopub.status.busy": "2023-01-24T18:21:04.894735Z",
     "iopub.status.idle": "2023-01-24T18:21:06.287829Z",
     "shell.execute_reply": "2023-01-24T18:21:06.286723Z"
    },
    "papermill": {
     "duration": 1.404899,
     "end_time": "2023-01-24T18:21:06.290270",
     "exception": false,
     "start_time": "2023-01-24T18:21:04.885371",
     "status": "completed"
    },
    "tags": []
   },
   "outputs": [],
   "source": [
    "# import required library\n",
    "import pandas as pd\n",
    "import numpy as np\n",
    "\n",
    "import matplotlib.pyplot as plt\n",
    "import plotly.express as px\n",
    "import plotly.graph_objects as go\n",
    "\n",
    "import datetime as dt\n",
    "import calendar"
   ]
  },
  {
   "cell_type": "code",
   "execution_count": 2,
   "id": "c57ce5a1",
   "metadata": {
    "execution": {
     "iopub.execute_input": "2023-01-24T18:21:06.307790Z",
     "iopub.status.busy": "2023-01-24T18:21:06.307383Z",
     "iopub.status.idle": "2023-01-24T18:21:06.329151Z",
     "shell.execute_reply": "2023-01-24T18:21:06.328126Z"
    },
    "papermill": {
     "duration": 0.03359,
     "end_time": "2023-01-24T18:21:06.331774",
     "exception": false,
     "start_time": "2023-01-24T18:21:06.298184",
     "status": "completed"
    },
    "tags": []
   },
   "outputs": [],
   "source": [
    "# import unemployment data \n",
    "df=pd.read_csv(\"D:/oasis/unemployement analysis/Unemployment_Rate_upto_11_2020.csv\")"
   ]
  },
  {
   "cell_type": "code",
   "execution_count": 3,
   "id": "5e6dd507",
   "metadata": {
    "execution": {
     "iopub.execute_input": "2023-01-24T18:21:06.348664Z",
     "iopub.status.busy": "2023-01-24T18:21:06.348301Z",
     "iopub.status.idle": "2023-01-24T18:21:06.352439Z",
     "shell.execute_reply": "2023-01-24T18:21:06.351789Z"
    },
    "papermill": {
     "duration": 0.014956,
     "end_time": "2023-01-24T18:21:06.354676",
     "exception": false,
     "start_time": "2023-01-24T18:21:06.339720",
     "status": "completed"
    },
    "tags": []
   },
   "outputs": [],
   "source": [
    "# update column names\n",
    "df.columns=[\"state\",\"date\",\"frequency\",\"estimated unemployment rate\",\"estimated employed\",\"estimated labour participation rate\",\"region\", \"longitude\", \"latitude\"]"
   ]
  },
  {
   "cell_type": "code",
   "execution_count": 4,
   "id": "3bec1ea6",
   "metadata": {
    "execution": {
     "iopub.execute_input": "2023-01-24T18:21:06.373224Z",
     "iopub.status.busy": "2023-01-24T18:21:06.372786Z",
     "iopub.status.idle": "2023-01-24T18:21:06.395130Z",
     "shell.execute_reply": "2023-01-24T18:21:06.394429Z"
    },
    "papermill": {
     "duration": 0.033398,
     "end_time": "2023-01-24T18:21:06.397210",
     "exception": false,
     "start_time": "2023-01-24T18:21:06.363812",
     "status": "completed"
    },
    "tags": []
   },
   "outputs": [
    {
     "data": {
      "text/html": [
       "<div>\n",
       "<style scoped>\n",
       "    .dataframe tbody tr th:only-of-type {\n",
       "        vertical-align: middle;\n",
       "    }\n",
       "\n",
       "    .dataframe tbody tr th {\n",
       "        vertical-align: top;\n",
       "    }\n",
       "\n",
       "    .dataframe thead th {\n",
       "        text-align: right;\n",
       "    }\n",
       "</style>\n",
       "<table border=\"1\" class=\"dataframe\">\n",
       "  <thead>\n",
       "    <tr style=\"text-align: right;\">\n",
       "      <th></th>\n",
       "      <th>state</th>\n",
       "      <th>date</th>\n",
       "      <th>frequency</th>\n",
       "      <th>estimated unemployment rate</th>\n",
       "      <th>estimated employed</th>\n",
       "      <th>estimated labour participation rate</th>\n",
       "      <th>region</th>\n",
       "      <th>longitude</th>\n",
       "      <th>latitude</th>\n",
       "    </tr>\n",
       "  </thead>\n",
       "  <tbody>\n",
       "    <tr>\n",
       "      <th>0</th>\n",
       "      <td>Andhra Pradesh</td>\n",
       "      <td>31-01-2020</td>\n",
       "      <td>M</td>\n",
       "      <td>5.48</td>\n",
       "      <td>16635535</td>\n",
       "      <td>41.02</td>\n",
       "      <td>South</td>\n",
       "      <td>15.9129</td>\n",
       "      <td>79.74</td>\n",
       "    </tr>\n",
       "    <tr>\n",
       "      <th>1</th>\n",
       "      <td>Andhra Pradesh</td>\n",
       "      <td>29-02-2020</td>\n",
       "      <td>M</td>\n",
       "      <td>5.83</td>\n",
       "      <td>16545652</td>\n",
       "      <td>40.90</td>\n",
       "      <td>South</td>\n",
       "      <td>15.9129</td>\n",
       "      <td>79.74</td>\n",
       "    </tr>\n",
       "    <tr>\n",
       "      <th>2</th>\n",
       "      <td>Andhra Pradesh</td>\n",
       "      <td>31-03-2020</td>\n",
       "      <td>M</td>\n",
       "      <td>5.79</td>\n",
       "      <td>15881197</td>\n",
       "      <td>39.18</td>\n",
       "      <td>South</td>\n",
       "      <td>15.9129</td>\n",
       "      <td>79.74</td>\n",
       "    </tr>\n",
       "    <tr>\n",
       "      <th>3</th>\n",
       "      <td>Andhra Pradesh</td>\n",
       "      <td>30-04-2020</td>\n",
       "      <td>M</td>\n",
       "      <td>20.51</td>\n",
       "      <td>11336911</td>\n",
       "      <td>33.10</td>\n",
       "      <td>South</td>\n",
       "      <td>15.9129</td>\n",
       "      <td>79.74</td>\n",
       "    </tr>\n",
       "    <tr>\n",
       "      <th>4</th>\n",
       "      <td>Andhra Pradesh</td>\n",
       "      <td>31-05-2020</td>\n",
       "      <td>M</td>\n",
       "      <td>17.43</td>\n",
       "      <td>12988845</td>\n",
       "      <td>36.46</td>\n",
       "      <td>South</td>\n",
       "      <td>15.9129</td>\n",
       "      <td>79.74</td>\n",
       "    </tr>\n",
       "  </tbody>\n",
       "</table>\n",
       "</div>"
      ],
      "text/plain": [
       "            state         date frequency  estimated unemployment rate  \\\n",
       "0  Andhra Pradesh   31-01-2020         M                         5.48   \n",
       "1  Andhra Pradesh   29-02-2020         M                         5.83   \n",
       "2  Andhra Pradesh   31-03-2020         M                         5.79   \n",
       "3  Andhra Pradesh   30-04-2020         M                        20.51   \n",
       "4  Andhra Pradesh   31-05-2020         M                        17.43   \n",
       "\n",
       "   estimated employed  estimated labour participation rate region  longitude  \\\n",
       "0            16635535                                41.02  South    15.9129   \n",
       "1            16545652                                40.90  South    15.9129   \n",
       "2            15881197                                39.18  South    15.9129   \n",
       "3            11336911                                33.10  South    15.9129   \n",
       "4            12988845                                36.46  South    15.9129   \n",
       "\n",
       "   latitude  \n",
       "0     79.74  \n",
       "1     79.74  \n",
       "2     79.74  \n",
       "3     79.74  \n",
       "4     79.74  "
      ]
     },
     "execution_count": 4,
     "metadata": {},
     "output_type": "execute_result"
    }
   ],
   "source": [
    "df.head()"
   ]
  },
  {
   "cell_type": "code",
   "execution_count": 5,
   "id": "e6ab3bd2",
   "metadata": {
    "execution": {
     "iopub.execute_input": "2023-01-24T18:21:06.415244Z",
     "iopub.status.busy": "2023-01-24T18:21:06.414326Z",
     "iopub.status.idle": "2023-01-24T18:21:06.419980Z",
     "shell.execute_reply": "2023-01-24T18:21:06.419135Z"
    },
    "papermill": {
     "duration": 0.016783,
     "end_time": "2023-01-24T18:21:06.422045",
     "exception": false,
     "start_time": "2023-01-24T18:21:06.405262",
     "status": "completed"
    },
    "tags": []
   },
   "outputs": [
    {
     "data": {
      "text/plain": [
       "(267, 9)"
      ]
     },
     "execution_count": 5,
     "metadata": {},
     "output_type": "execute_result"
    }
   ],
   "source": [
    "# Number of rows and columns in the data set\n",
    "df.shape"
   ]
  },
  {
   "cell_type": "code",
   "execution_count": 6,
   "id": "48bfdb90",
   "metadata": {
    "execution": {
     "iopub.execute_input": "2023-01-24T18:21:06.439847Z",
     "iopub.status.busy": "2023-01-24T18:21:06.439505Z",
     "iopub.status.idle": "2023-01-24T18:21:06.463441Z",
     "shell.execute_reply": "2023-01-24T18:21:06.462515Z"
    },
    "papermill": {
     "duration": 0.035709,
     "end_time": "2023-01-24T18:21:06.465956",
     "exception": false,
     "start_time": "2023-01-24T18:21:06.430247",
     "status": "completed"
    },
    "tags": []
   },
   "outputs": [
    {
     "name": "stdout",
     "output_type": "stream",
     "text": [
      "<class 'pandas.core.frame.DataFrame'>\n",
      "RangeIndex: 267 entries, 0 to 266\n",
      "Data columns (total 9 columns):\n",
      " #   Column                               Non-Null Count  Dtype  \n",
      "---  ------                               --------------  -----  \n",
      " 0   state                                267 non-null    object \n",
      " 1   date                                 267 non-null    object \n",
      " 2   frequency                            267 non-null    object \n",
      " 3   estimated unemployment rate          267 non-null    float64\n",
      " 4   estimated employed                   267 non-null    int64  \n",
      " 5   estimated labour participation rate  267 non-null    float64\n",
      " 6   region                               267 non-null    object \n",
      " 7   longitude                            267 non-null    float64\n",
      " 8   latitude                             267 non-null    float64\n",
      "dtypes: float64(4), int64(1), object(4)\n",
      "memory usage: 18.9+ KB\n"
     ]
    }
   ],
   "source": [
    "df.info()"
   ]
  },
  {
   "cell_type": "code",
   "execution_count": 7,
   "id": "a325ec8b",
   "metadata": {
    "execution": {
     "iopub.execute_input": "2023-01-24T18:21:06.484434Z",
     "iopub.status.busy": "2023-01-24T18:21:06.483901Z",
     "iopub.status.idle": "2023-01-24T18:21:06.513498Z",
     "shell.execute_reply": "2023-01-24T18:21:06.512486Z"
    },
    "papermill": {
     "duration": 0.040624,
     "end_time": "2023-01-24T18:21:06.515337",
     "exception": false,
     "start_time": "2023-01-24T18:21:06.474713",
     "status": "completed"
    },
    "tags": []
   },
   "outputs": [
    {
     "data": {
      "text/html": [
       "<div>\n",
       "<style scoped>\n",
       "    .dataframe tbody tr th:only-of-type {\n",
       "        vertical-align: middle;\n",
       "    }\n",
       "\n",
       "    .dataframe tbody tr th {\n",
       "        vertical-align: top;\n",
       "    }\n",
       "\n",
       "    .dataframe thead th {\n",
       "        text-align: right;\n",
       "    }\n",
       "</style>\n",
       "<table border=\"1\" class=\"dataframe\">\n",
       "  <thead>\n",
       "    <tr style=\"text-align: right;\">\n",
       "      <th></th>\n",
       "      <th>count</th>\n",
       "      <th>mean</th>\n",
       "      <th>std</th>\n",
       "      <th>min</th>\n",
       "      <th>25%</th>\n",
       "      <th>50%</th>\n",
       "      <th>75%</th>\n",
       "      <th>max</th>\n",
       "    </tr>\n",
       "  </thead>\n",
       "  <tbody>\n",
       "    <tr>\n",
       "      <th>estimated unemployment rate</th>\n",
       "      <td>267.0</td>\n",
       "      <td>12.0</td>\n",
       "      <td>11.0</td>\n",
       "      <td>0.0</td>\n",
       "      <td>5.0</td>\n",
       "      <td>10.0</td>\n",
       "      <td>17.0</td>\n",
       "      <td>76.0</td>\n",
       "    </tr>\n",
       "    <tr>\n",
       "      <th>estimated employed</th>\n",
       "      <td>267.0</td>\n",
       "      <td>13962106.0</td>\n",
       "      <td>13366318.0</td>\n",
       "      <td>117542.0</td>\n",
       "      <td>2838930.0</td>\n",
       "      <td>9732417.0</td>\n",
       "      <td>21878686.0</td>\n",
       "      <td>59433759.0</td>\n",
       "    </tr>\n",
       "    <tr>\n",
       "      <th>estimated labour participation rate</th>\n",
       "      <td>267.0</td>\n",
       "      <td>42.0</td>\n",
       "      <td>8.0</td>\n",
       "      <td>17.0</td>\n",
       "      <td>37.0</td>\n",
       "      <td>40.0</td>\n",
       "      <td>44.0</td>\n",
       "      <td>70.0</td>\n",
       "    </tr>\n",
       "    <tr>\n",
       "      <th>longitude</th>\n",
       "      <td>267.0</td>\n",
       "      <td>23.0</td>\n",
       "      <td>6.0</td>\n",
       "      <td>11.0</td>\n",
       "      <td>18.0</td>\n",
       "      <td>24.0</td>\n",
       "      <td>27.0</td>\n",
       "      <td>34.0</td>\n",
       "    </tr>\n",
       "    <tr>\n",
       "      <th>latitude</th>\n",
       "      <td>267.0</td>\n",
       "      <td>81.0</td>\n",
       "      <td>6.0</td>\n",
       "      <td>71.0</td>\n",
       "      <td>76.0</td>\n",
       "      <td>79.0</td>\n",
       "      <td>85.0</td>\n",
       "      <td>93.0</td>\n",
       "    </tr>\n",
       "  </tbody>\n",
       "</table>\n",
       "</div>"
      ],
      "text/plain": [
       "                                     count        mean         std       min  \\\n",
       "estimated unemployment rate          267.0        12.0        11.0       0.0   \n",
       "estimated employed                   267.0  13962106.0  13366318.0  117542.0   \n",
       "estimated labour participation rate  267.0        42.0         8.0      17.0   \n",
       "longitude                            267.0        23.0         6.0      11.0   \n",
       "latitude                             267.0        81.0         6.0      71.0   \n",
       "\n",
       "                                           25%        50%         75%  \\\n",
       "estimated unemployment rate                5.0       10.0        17.0   \n",
       "estimated employed                   2838930.0  9732417.0  21878686.0   \n",
       "estimated labour participation rate       37.0       40.0        44.0   \n",
       "longitude                                 18.0       24.0        27.0   \n",
       "latitude                                  76.0       79.0        85.0   \n",
       "\n",
       "                                            max  \n",
       "estimated unemployment rate                76.0  \n",
       "estimated employed                   59433759.0  \n",
       "estimated labour participation rate        70.0  \n",
       "longitude                                  34.0  \n",
       "latitude                                   93.0  "
      ]
     },
     "execution_count": 7,
     "metadata": {},
     "output_type": "execute_result"
    }
   ],
   "source": [
    "round(df.describe().T)"
   ]
  },
  {
   "cell_type": "code",
   "execution_count": 8,
   "id": "609cef07",
   "metadata": {
    "execution": {
     "iopub.execute_input": "2023-01-24T18:21:06.548779Z",
     "iopub.status.busy": "2023-01-24T18:21:06.548283Z",
     "iopub.status.idle": "2023-01-24T18:21:06.555619Z",
     "shell.execute_reply": "2023-01-24T18:21:06.554938Z"
    },
    "papermill": {
     "duration": 0.018247,
     "end_time": "2023-01-24T18:21:06.557487",
     "exception": false,
     "start_time": "2023-01-24T18:21:06.539240",
     "status": "completed"
    },
    "tags": []
   },
   "outputs": [
    {
     "data": {
      "text/plain": [
       "state                                  0\n",
       "date                                   0\n",
       "frequency                              0\n",
       "estimated unemployment rate            0\n",
       "estimated employed                     0\n",
       "estimated labour participation rate    0\n",
       "region                                 0\n",
       "longitude                              0\n",
       "latitude                               0\n",
       "dtype: int64"
      ]
     },
     "execution_count": 8,
     "metadata": {},
     "output_type": "execute_result"
    }
   ],
   "source": [
    "# Check for Null values\n",
    "df.isnull().sum()"
   ]
  },
  {
   "cell_type": "code",
   "execution_count": 9,
   "id": "df68a7bf",
   "metadata": {
    "execution": {
     "iopub.execute_input": "2023-01-24T18:21:06.575886Z",
     "iopub.status.busy": "2023-01-24T18:21:06.575414Z",
     "iopub.status.idle": "2023-01-24T18:21:06.584201Z",
     "shell.execute_reply": "2023-01-24T18:21:06.582847Z"
    },
    "papermill": {
     "duration": 0.020498,
     "end_time": "2023-01-24T18:21:06.586366",
     "exception": false,
     "start_time": "2023-01-24T18:21:06.565868",
     "status": "completed"
    },
    "tags": []
   },
   "outputs": [
    {
     "data": {
      "text/plain": [
       "Andhra Pradesh      10\n",
       "Assam               10\n",
       "Uttarakhand         10\n",
       "Uttar Pradesh       10\n",
       "Tripura             10\n",
       "Telangana           10\n",
       "Tamil Nadu          10\n",
       "Rajasthan           10\n",
       "Punjab              10\n",
       "Puducherry          10\n",
       "Odisha              10\n",
       "Meghalaya           10\n",
       "Maharashtra         10\n",
       "Madhya Pradesh      10\n",
       "Kerala              10\n",
       "Karnataka           10\n",
       "Jharkhand           10\n",
       "Himachal Pradesh    10\n",
       "Haryana             10\n",
       "Gujarat             10\n",
       "Goa                 10\n",
       "Delhi               10\n",
       "Chhattisgarh        10\n",
       "Bihar               10\n",
       "West Bengal         10\n",
       "Jammu & Kashmir      9\n",
       "Sikkim               8\n",
       "Name: state, dtype: int64"
      ]
     },
     "execution_count": 9,
     "metadata": {},
     "output_type": "execute_result"
    }
   ],
   "source": [
    "df.state.value_counts()"
   ]
  },
  {
   "cell_type": "code",
   "execution_count": 10,
   "id": "672cc200",
   "metadata": {
    "execution": {
     "iopub.execute_input": "2023-01-24T18:21:06.605814Z",
     "iopub.status.busy": "2023-01-24T18:21:06.605242Z",
     "iopub.status.idle": "2023-01-24T18:21:06.630082Z",
     "shell.execute_reply": "2023-01-24T18:21:06.629121Z"
    },
    "papermill": {
     "duration": 0.037095,
     "end_time": "2023-01-24T18:21:06.632165",
     "exception": false,
     "start_time": "2023-01-24T18:21:06.595070",
     "status": "completed"
    },
    "tags": []
   },
   "outputs": [
    {
     "data": {
      "text/html": [
       "<div>\n",
       "<style scoped>\n",
       "    .dataframe tbody tr th:only-of-type {\n",
       "        vertical-align: middle;\n",
       "    }\n",
       "\n",
       "    .dataframe tbody tr th {\n",
       "        vertical-align: top;\n",
       "    }\n",
       "\n",
       "    .dataframe thead th {\n",
       "        text-align: right;\n",
       "    }\n",
       "</style>\n",
       "<table border=\"1\" class=\"dataframe\">\n",
       "  <thead>\n",
       "    <tr style=\"text-align: right;\">\n",
       "      <th></th>\n",
       "      <th>state</th>\n",
       "      <th>date</th>\n",
       "      <th>frequency</th>\n",
       "      <th>estimated unemployment rate</th>\n",
       "      <th>estimated employed</th>\n",
       "      <th>estimated labour participation rate</th>\n",
       "      <th>region</th>\n",
       "      <th>longitude</th>\n",
       "      <th>latitude</th>\n",
       "      <th>month_int</th>\n",
       "      <th>month</th>\n",
       "    </tr>\n",
       "  </thead>\n",
       "  <tbody>\n",
       "    <tr>\n",
       "      <th>0</th>\n",
       "      <td>Andhra Pradesh</td>\n",
       "      <td>2020-01-31</td>\n",
       "      <td>M</td>\n",
       "      <td>5.48</td>\n",
       "      <td>16635535</td>\n",
       "      <td>41.02</td>\n",
       "      <td>South</td>\n",
       "      <td>15.9129</td>\n",
       "      <td>79.74</td>\n",
       "      <td>1</td>\n",
       "      <td>Jan</td>\n",
       "    </tr>\n",
       "    <tr>\n",
       "      <th>1</th>\n",
       "      <td>Andhra Pradesh</td>\n",
       "      <td>2020-02-29</td>\n",
       "      <td>M</td>\n",
       "      <td>5.83</td>\n",
       "      <td>16545652</td>\n",
       "      <td>40.90</td>\n",
       "      <td>South</td>\n",
       "      <td>15.9129</td>\n",
       "      <td>79.74</td>\n",
       "      <td>2</td>\n",
       "      <td>Feb</td>\n",
       "    </tr>\n",
       "    <tr>\n",
       "      <th>2</th>\n",
       "      <td>Andhra Pradesh</td>\n",
       "      <td>2020-03-31</td>\n",
       "      <td>M</td>\n",
       "      <td>5.79</td>\n",
       "      <td>15881197</td>\n",
       "      <td>39.18</td>\n",
       "      <td>South</td>\n",
       "      <td>15.9129</td>\n",
       "      <td>79.74</td>\n",
       "      <td>3</td>\n",
       "      <td>Mar</td>\n",
       "    </tr>\n",
       "    <tr>\n",
       "      <th>3</th>\n",
       "      <td>Andhra Pradesh</td>\n",
       "      <td>2020-04-30</td>\n",
       "      <td>M</td>\n",
       "      <td>20.51</td>\n",
       "      <td>11336911</td>\n",
       "      <td>33.10</td>\n",
       "      <td>South</td>\n",
       "      <td>15.9129</td>\n",
       "      <td>79.74</td>\n",
       "      <td>4</td>\n",
       "      <td>Apr</td>\n",
       "    </tr>\n",
       "    <tr>\n",
       "      <th>4</th>\n",
       "      <td>Andhra Pradesh</td>\n",
       "      <td>2020-05-31</td>\n",
       "      <td>M</td>\n",
       "      <td>17.43</td>\n",
       "      <td>12988845</td>\n",
       "      <td>36.46</td>\n",
       "      <td>South</td>\n",
       "      <td>15.9129</td>\n",
       "      <td>79.74</td>\n",
       "      <td>5</td>\n",
       "      <td>May</td>\n",
       "    </tr>\n",
       "  </tbody>\n",
       "</table>\n",
       "</div>"
      ],
      "text/plain": [
       "            state       date frequency  estimated unemployment rate  \\\n",
       "0  Andhra Pradesh 2020-01-31         M                         5.48   \n",
       "1  Andhra Pradesh 2020-02-29         M                         5.83   \n",
       "2  Andhra Pradesh 2020-03-31         M                         5.79   \n",
       "3  Andhra Pradesh 2020-04-30         M                        20.51   \n",
       "4  Andhra Pradesh 2020-05-31         M                        17.43   \n",
       "\n",
       "   estimated employed  estimated labour participation rate region  longitude  \\\n",
       "0            16635535                                41.02  South    15.9129   \n",
       "1            16545652                                40.90  South    15.9129   \n",
       "2            15881197                                39.18  South    15.9129   \n",
       "3            11336911                                33.10  South    15.9129   \n",
       "4            12988845                                36.46  South    15.9129   \n",
       "\n",
       "   latitude  month_int month  \n",
       "0     79.74          1   Jan  \n",
       "1     79.74          2   Feb  \n",
       "2     79.74          3   Mar  \n",
       "3     79.74          4   Apr  \n",
       "4     79.74          5   May  "
      ]
     },
     "execution_count": 10,
     "metadata": {},
     "output_type": "execute_result"
    }
   ],
   "source": [
    "# create a new column for month\n",
    "\n",
    "df['date'] = pd.to_datetime(df['date'], dayfirst=True)\n",
    "df['month_int'] =  df['date'].dt.month\n",
    "df['month'] =  df['month_int'].apply(lambda x: calendar.month_abbr[x])\n",
    "df.head()"
   ]
  },
  {
   "cell_type": "code",
   "execution_count": 11,
   "id": "3c7d411c",
   "metadata": {
    "execution": {
     "iopub.execute_input": "2023-01-24T18:21:06.651232Z",
     "iopub.status.busy": "2023-01-24T18:21:06.650883Z",
     "iopub.status.idle": "2023-01-24T18:21:06.663630Z",
     "shell.execute_reply": "2023-01-24T18:21:06.662590Z"
    },
    "papermill": {
     "duration": 0.025046,
     "end_time": "2023-01-24T18:21:06.665997",
     "exception": false,
     "start_time": "2023-01-24T18:21:06.640951",
     "status": "completed"
    },
    "tags": []
   },
   "outputs": [],
   "source": [
    "# Numeric data grouped by months\n",
    "\n",
    "IND =  df.groupby([\"month\"])[['estimated unemployment rate', \"estimated employed\", \"estimated labour participation rate\"]].mean()\n",
    "IND = pd.DataFrame(IND).reset_index()"
   ]
  },
  {
   "cell_type": "code",
   "execution_count": 12,
   "id": "1ab92736",
   "metadata": {
    "execution": {
     "iopub.execute_input": "2023-01-24T18:21:06.702082Z",
     "iopub.status.busy": "2023-01-24T18:21:06.700697Z",
     "iopub.status.idle": "2023-01-24T18:21:06.798418Z",
     "shell.execute_reply": "2023-01-24T18:21:06.797546Z"
    },
    "papermill": {
     "duration": 0.109148,
     "end_time": "2023-01-24T18:21:06.800330",
     "exception": false,
     "start_time": "2023-01-24T18:21:06.691182",
     "status": "completed"
    },
    "tags": []
   },
   "outputs": [
    {
     "data": {
      "application/vnd.plotly.v1+json": {
       "config": {
        "plotlyServerURL": "https://plot.ly"
       },
       "data": [
        {
         "name": "Unemployment Rate",
         "type": "bar",
         "x": [
          "Apr",
          "Aug",
          "Feb",
          "Jan",
          "Jul",
          "Jun",
          "Mar",
          "May",
          "Oct",
          "Sep"
         ],
         "y": [
          22.236153846153847,
          10.313333333333333,
          9.266153846153847,
          9.196538461538463,
          9.834444444444443,
          10.911111111111111,
          10.782592592592593,
          23.244444444444444,
          8.026296296296296,
          8.705925925925927
         ]
        },
        {
         "name": "Labour Participation Rate",
         "type": "bar",
         "x": [
          "Apr",
          "Aug",
          "Feb",
          "Jan",
          "Jul",
          "Jun",
          "Mar",
          "May",
          "Oct",
          "Sep"
         ],
         "y": [
          35.29730769230769,
          42.39074074074074,
          44.18076923076923,
          44.62653846153846,
          42.27481481481482,
          41.20333333333333,
          43.74666666666667,
          39.647777777777776,
          41.438518518518514,
          41.974444444444444
         ]
        }
       ],
       "layout": {
        "template": {
         "data": {
          "bar": [
           {
            "error_x": {
             "color": "#2a3f5f"
            },
            "error_y": {
             "color": "#2a3f5f"
            },
            "marker": {
             "line": {
              "color": "#E5ECF6",
              "width": 0.5
             },
             "pattern": {
              "fillmode": "overlay",
              "size": 10,
              "solidity": 0.2
             }
            },
            "type": "bar"
           }
          ],
          "barpolar": [
           {
            "marker": {
             "line": {
              "color": "#E5ECF6",
              "width": 0.5
             },
             "pattern": {
              "fillmode": "overlay",
              "size": 10,
              "solidity": 0.2
             }
            },
            "type": "barpolar"
           }
          ],
          "carpet": [
           {
            "aaxis": {
             "endlinecolor": "#2a3f5f",
             "gridcolor": "white",
             "linecolor": "white",
             "minorgridcolor": "white",
             "startlinecolor": "#2a3f5f"
            },
            "baxis": {
             "endlinecolor": "#2a3f5f",
             "gridcolor": "white",
             "linecolor": "white",
             "minorgridcolor": "white",
             "startlinecolor": "#2a3f5f"
            },
            "type": "carpet"
           }
          ],
          "choropleth": [
           {
            "colorbar": {
             "outlinewidth": 0,
             "ticks": ""
            },
            "type": "choropleth"
           }
          ],
          "contour": [
           {
            "colorbar": {
             "outlinewidth": 0,
             "ticks": ""
            },
            "colorscale": [
             [
              0,
              "#0d0887"
             ],
             [
              0.1111111111111111,
              "#46039f"
             ],
             [
              0.2222222222222222,
              "#7201a8"
             ],
             [
              0.3333333333333333,
              "#9c179e"
             ],
             [
              0.4444444444444444,
              "#bd3786"
             ],
             [
              0.5555555555555556,
              "#d8576b"
             ],
             [
              0.6666666666666666,
              "#ed7953"
             ],
             [
              0.7777777777777778,
              "#fb9f3a"
             ],
             [
              0.8888888888888888,
              "#fdca26"
             ],
             [
              1,
              "#f0f921"
             ]
            ],
            "type": "contour"
           }
          ],
          "contourcarpet": [
           {
            "colorbar": {
             "outlinewidth": 0,
             "ticks": ""
            },
            "type": "contourcarpet"
           }
          ],
          "heatmap": [
           {
            "colorbar": {
             "outlinewidth": 0,
             "ticks": ""
            },
            "colorscale": [
             [
              0,
              "#0d0887"
             ],
             [
              0.1111111111111111,
              "#46039f"
             ],
             [
              0.2222222222222222,
              "#7201a8"
             ],
             [
              0.3333333333333333,
              "#9c179e"
             ],
             [
              0.4444444444444444,
              "#bd3786"
             ],
             [
              0.5555555555555556,
              "#d8576b"
             ],
             [
              0.6666666666666666,
              "#ed7953"
             ],
             [
              0.7777777777777778,
              "#fb9f3a"
             ],
             [
              0.8888888888888888,
              "#fdca26"
             ],
             [
              1,
              "#f0f921"
             ]
            ],
            "type": "heatmap"
           }
          ],
          "heatmapgl": [
           {
            "colorbar": {
             "outlinewidth": 0,
             "ticks": ""
            },
            "colorscale": [
             [
              0,
              "#0d0887"
             ],
             [
              0.1111111111111111,
              "#46039f"
             ],
             [
              0.2222222222222222,
              "#7201a8"
             ],
             [
              0.3333333333333333,
              "#9c179e"
             ],
             [
              0.4444444444444444,
              "#bd3786"
             ],
             [
              0.5555555555555556,
              "#d8576b"
             ],
             [
              0.6666666666666666,
              "#ed7953"
             ],
             [
              0.7777777777777778,
              "#fb9f3a"
             ],
             [
              0.8888888888888888,
              "#fdca26"
             ],
             [
              1,
              "#f0f921"
             ]
            ],
            "type": "heatmapgl"
           }
          ],
          "histogram": [
           {
            "marker": {
             "pattern": {
              "fillmode": "overlay",
              "size": 10,
              "solidity": 0.2
             }
            },
            "type": "histogram"
           }
          ],
          "histogram2d": [
           {
            "colorbar": {
             "outlinewidth": 0,
             "ticks": ""
            },
            "colorscale": [
             [
              0,
              "#0d0887"
             ],
             [
              0.1111111111111111,
              "#46039f"
             ],
             [
              0.2222222222222222,
              "#7201a8"
             ],
             [
              0.3333333333333333,
              "#9c179e"
             ],
             [
              0.4444444444444444,
              "#bd3786"
             ],
             [
              0.5555555555555556,
              "#d8576b"
             ],
             [
              0.6666666666666666,
              "#ed7953"
             ],
             [
              0.7777777777777778,
              "#fb9f3a"
             ],
             [
              0.8888888888888888,
              "#fdca26"
             ],
             [
              1,
              "#f0f921"
             ]
            ],
            "type": "histogram2d"
           }
          ],
          "histogram2dcontour": [
           {
            "colorbar": {
             "outlinewidth": 0,
             "ticks": ""
            },
            "colorscale": [
             [
              0,
              "#0d0887"
             ],
             [
              0.1111111111111111,
              "#46039f"
             ],
             [
              0.2222222222222222,
              "#7201a8"
             ],
             [
              0.3333333333333333,
              "#9c179e"
             ],
             [
              0.4444444444444444,
              "#bd3786"
             ],
             [
              0.5555555555555556,
              "#d8576b"
             ],
             [
              0.6666666666666666,
              "#ed7953"
             ],
             [
              0.7777777777777778,
              "#fb9f3a"
             ],
             [
              0.8888888888888888,
              "#fdca26"
             ],
             [
              1,
              "#f0f921"
             ]
            ],
            "type": "histogram2dcontour"
           }
          ],
          "mesh3d": [
           {
            "colorbar": {
             "outlinewidth": 0,
             "ticks": ""
            },
            "type": "mesh3d"
           }
          ],
          "parcoords": [
           {
            "line": {
             "colorbar": {
              "outlinewidth": 0,
              "ticks": ""
             }
            },
            "type": "parcoords"
           }
          ],
          "pie": [
           {
            "automargin": true,
            "type": "pie"
           }
          ],
          "scatter": [
           {
            "fillpattern": {
             "fillmode": "overlay",
             "size": 10,
             "solidity": 0.2
            },
            "type": "scatter"
           }
          ],
          "scatter3d": [
           {
            "line": {
             "colorbar": {
              "outlinewidth": 0,
              "ticks": ""
             }
            },
            "marker": {
             "colorbar": {
              "outlinewidth": 0,
              "ticks": ""
             }
            },
            "type": "scatter3d"
           }
          ],
          "scattercarpet": [
           {
            "marker": {
             "colorbar": {
              "outlinewidth": 0,
              "ticks": ""
             }
            },
            "type": "scattercarpet"
           }
          ],
          "scattergeo": [
           {
            "marker": {
             "colorbar": {
              "outlinewidth": 0,
              "ticks": ""
             }
            },
            "type": "scattergeo"
           }
          ],
          "scattergl": [
           {
            "marker": {
             "colorbar": {
              "outlinewidth": 0,
              "ticks": ""
             }
            },
            "type": "scattergl"
           }
          ],
          "scattermapbox": [
           {
            "marker": {
             "colorbar": {
              "outlinewidth": 0,
              "ticks": ""
             }
            },
            "type": "scattermapbox"
           }
          ],
          "scatterpolar": [
           {
            "marker": {
             "colorbar": {
              "outlinewidth": 0,
              "ticks": ""
             }
            },
            "type": "scatterpolar"
           }
          ],
          "scatterpolargl": [
           {
            "marker": {
             "colorbar": {
              "outlinewidth": 0,
              "ticks": ""
             }
            },
            "type": "scatterpolargl"
           }
          ],
          "scatterternary": [
           {
            "marker": {
             "colorbar": {
              "outlinewidth": 0,
              "ticks": ""
             }
            },
            "type": "scatterternary"
           }
          ],
          "surface": [
           {
            "colorbar": {
             "outlinewidth": 0,
             "ticks": ""
            },
            "colorscale": [
             [
              0,
              "#0d0887"
             ],
             [
              0.1111111111111111,
              "#46039f"
             ],
             [
              0.2222222222222222,
              "#7201a8"
             ],
             [
              0.3333333333333333,
              "#9c179e"
             ],
             [
              0.4444444444444444,
              "#bd3786"
             ],
             [
              0.5555555555555556,
              "#d8576b"
             ],
             [
              0.6666666666666666,
              "#ed7953"
             ],
             [
              0.7777777777777778,
              "#fb9f3a"
             ],
             [
              0.8888888888888888,
              "#fdca26"
             ],
             [
              1,
              "#f0f921"
             ]
            ],
            "type": "surface"
           }
          ],
          "table": [
           {
            "cells": {
             "fill": {
              "color": "#EBF0F8"
             },
             "line": {
              "color": "white"
             }
            },
            "header": {
             "fill": {
              "color": "#C8D4E3"
             },
             "line": {
              "color": "white"
             }
            },
            "type": "table"
           }
          ]
         },
         "layout": {
          "annotationdefaults": {
           "arrowcolor": "#2a3f5f",
           "arrowhead": 0,
           "arrowwidth": 1
          },
          "autotypenumbers": "strict",
          "coloraxis": {
           "colorbar": {
            "outlinewidth": 0,
            "ticks": ""
           }
          },
          "colorscale": {
           "diverging": [
            [
             0,
             "#8e0152"
            ],
            [
             0.1,
             "#c51b7d"
            ],
            [
             0.2,
             "#de77ae"
            ],
            [
             0.3,
             "#f1b6da"
            ],
            [
             0.4,
             "#fde0ef"
            ],
            [
             0.5,
             "#f7f7f7"
            ],
            [
             0.6,
             "#e6f5d0"
            ],
            [
             0.7,
             "#b8e186"
            ],
            [
             0.8,
             "#7fbc41"
            ],
            [
             0.9,
             "#4d9221"
            ],
            [
             1,
             "#276419"
            ]
           ],
           "sequential": [
            [
             0,
             "#0d0887"
            ],
            [
             0.1111111111111111,
             "#46039f"
            ],
            [
             0.2222222222222222,
             "#7201a8"
            ],
            [
             0.3333333333333333,
             "#9c179e"
            ],
            [
             0.4444444444444444,
             "#bd3786"
            ],
            [
             0.5555555555555556,
             "#d8576b"
            ],
            [
             0.6666666666666666,
             "#ed7953"
            ],
            [
             0.7777777777777778,
             "#fb9f3a"
            ],
            [
             0.8888888888888888,
             "#fdca26"
            ],
            [
             1,
             "#f0f921"
            ]
           ],
           "sequentialminus": [
            [
             0,
             "#0d0887"
            ],
            [
             0.1111111111111111,
             "#46039f"
            ],
            [
             0.2222222222222222,
             "#7201a8"
            ],
            [
             0.3333333333333333,
             "#9c179e"
            ],
            [
             0.4444444444444444,
             "#bd3786"
            ],
            [
             0.5555555555555556,
             "#d8576b"
            ],
            [
             0.6666666666666666,
             "#ed7953"
            ],
            [
             0.7777777777777778,
             "#fb9f3a"
            ],
            [
             0.8888888888888888,
             "#fdca26"
            ],
            [
             1,
             "#f0f921"
            ]
           ]
          },
          "colorway": [
           "#636efa",
           "#EF553B",
           "#00cc96",
           "#ab63fa",
           "#FFA15A",
           "#19d3f3",
           "#FF6692",
           "#B6E880",
           "#FF97FF",
           "#FECB52"
          ],
          "font": {
           "color": "#2a3f5f"
          },
          "geo": {
           "bgcolor": "white",
           "lakecolor": "white",
           "landcolor": "#E5ECF6",
           "showlakes": true,
           "showland": true,
           "subunitcolor": "white"
          },
          "hoverlabel": {
           "align": "left"
          },
          "hovermode": "closest",
          "mapbox": {
           "style": "light"
          },
          "paper_bgcolor": "white",
          "plot_bgcolor": "#E5ECF6",
          "polar": {
           "angularaxis": {
            "gridcolor": "white",
            "linecolor": "white",
            "ticks": ""
           },
           "bgcolor": "#E5ECF6",
           "radialaxis": {
            "gridcolor": "white",
            "linecolor": "white",
            "ticks": ""
           }
          },
          "scene": {
           "xaxis": {
            "backgroundcolor": "#E5ECF6",
            "gridcolor": "white",
            "gridwidth": 2,
            "linecolor": "white",
            "showbackground": true,
            "ticks": "",
            "zerolinecolor": "white"
           },
           "yaxis": {
            "backgroundcolor": "#E5ECF6",
            "gridcolor": "white",
            "gridwidth": 2,
            "linecolor": "white",
            "showbackground": true,
            "ticks": "",
            "zerolinecolor": "white"
           },
           "zaxis": {
            "backgroundcolor": "#E5ECF6",
            "gridcolor": "white",
            "gridwidth": 2,
            "linecolor": "white",
            "showbackground": true,
            "ticks": "",
            "zerolinecolor": "white"
           }
          },
          "shapedefaults": {
           "line": {
            "color": "#2a3f5f"
           }
          },
          "ternary": {
           "aaxis": {
            "gridcolor": "white",
            "linecolor": "white",
            "ticks": ""
           },
           "baxis": {
            "gridcolor": "white",
            "linecolor": "white",
            "ticks": ""
           },
           "bgcolor": "#E5ECF6",
           "caxis": {
            "gridcolor": "white",
            "linecolor": "white",
            "ticks": ""
           }
          },
          "title": {
           "x": 0.05
          },
          "xaxis": {
           "automargin": true,
           "gridcolor": "white",
           "linecolor": "white",
           "ticks": "",
           "title": {
            "standoff": 15
           },
           "zerolinecolor": "white",
           "zerolinewidth": 2
          },
          "yaxis": {
           "automargin": true,
           "gridcolor": "white",
           "linecolor": "white",
           "ticks": "",
           "title": {
            "standoff": 15
           },
           "zerolinecolor": "white",
           "zerolinewidth": 2
          }
         }
        },
        "title": {
         "text": "Uneployment Rate and Labour Participation Rate"
        },
        "xaxis": {
         "categoryarray": [
          "Jan",
          "Feb",
          "Mar",
          "Apr",
          "May",
          "Jun",
          "Jul",
          "Aug",
          "Sep",
          "Oct"
         ],
         "categoryorder": "array"
        }
       }
      }
     },
     "metadata": {},
     "output_type": "display_data"
    }
   ],
   "source": [
    "month = IND.month\n",
    "unemployment_rate = IND[\"estimated unemployment rate\"]\n",
    "labour_participation_rate = IND[\"estimated labour participation rate\"]\n",
    "\n",
    "fig = go.Figure()\n",
    "\n",
    "fig.add_trace(go.Bar(x = month, y = unemployment_rate, name= \"Unemployment Rate\"))\n",
    "fig.add_trace(go.Bar(x = month, y = labour_participation_rate, name= \"Labour Participation Rate\"))\n",
    "\n",
    "fig.update_layout(title=\"Uneployment Rate and Labour Participation Rate\",\n",
    "                  xaxis={\"categoryorder\":\"array\", \"categoryarray\":[\"Jan\", \"Feb\", \"Mar\", \"Apr\", \"May\", \"Jun\", \"Jul\", \"Aug\", \"Sep\", \"Oct\"]})\n",
    "\n",
    "fig.show()\n"
   ]
  },
  {
   "cell_type": "markdown",
   "id": "f16d2e0f",
   "metadata": {
    "papermill": {
     "duration": 0.008644,
     "end_time": "2023-01-24T18:21:06.818692",
     "exception": false,
     "start_time": "2023-01-24T18:21:06.810048",
     "status": "completed"
    },
    "tags": []
   },
   "source": [
    "#### Bar plot of estimated employed citizen in every month"
   ]
  },
  {
   "cell_type": "code",
   "execution_count": 13,
   "id": "ff14d2ec",
   "metadata": {
    "execution": {
     "iopub.execute_input": "2023-01-24T18:21:06.837738Z",
     "iopub.status.busy": "2023-01-24T18:21:06.837374Z",
     "iopub.status.idle": "2023-01-24T18:21:07.797234Z",
     "shell.execute_reply": "2023-01-24T18:21:07.796102Z"
    },
    "papermill": {
     "duration": 0.971883,
     "end_time": "2023-01-24T18:21:07.799361",
     "exception": false,
     "start_time": "2023-01-24T18:21:06.827478",
     "status": "completed"
    },
    "tags": []
   },
   "outputs": [
    {
     "data": {
      "application/vnd.plotly.v1+json": {
       "config": {
        "plotlyServerURL": "https://plot.ly"
       },
       "data": [
        {
         "alignmentgroup": "True",
         "hovertemplate": "month=%{x}<br>estimated employed=%{y}<extra></extra>",
         "legendgroup": "Jan",
         "marker": {
          "color": "#636efa",
          "pattern": {
           "shape": ""
          }
         },
         "name": "Jan",
         "offsetgroup": "Jan",
         "orientation": "v",
         "showlegend": true,
         "textposition": "auto",
         "type": "bar",
         "x": [
          "Jan"
         ],
         "xaxis": "x",
         "y": [
          15637199.76923077
         ],
         "yaxis": "y"
        },
        {
         "alignmentgroup": "True",
         "hovertemplate": "month=%{x}<br>estimated employed=%{y}<extra></extra>",
         "legendgroup": "Feb",
         "marker": {
          "color": "#EF553B",
          "pattern": {
           "shape": ""
          }
         },
         "name": "Feb",
         "offsetgroup": "Feb",
         "orientation": "v",
         "showlegend": true,
         "textposition": "auto",
         "type": "bar",
         "x": [
          "Feb"
         ],
         "xaxis": "x",
         "y": [
          15488266.038461538
         ],
         "yaxis": "y"
        },
        {
         "alignmentgroup": "True",
         "hovertemplate": "month=%{x}<br>estimated employed=%{y}<extra></extra>",
         "legendgroup": "Mar",
         "marker": {
          "color": "#00cc96",
          "pattern": {
           "shape": ""
          }
         },
         "name": "Mar",
         "offsetgroup": "Mar",
         "orientation": "v",
         "showlegend": true,
         "textposition": "auto",
         "type": "bar",
         "x": [
          "Mar"
         ],
         "xaxis": "x",
         "y": [
          14538659.888888888
         ],
         "yaxis": "y"
        },
        {
         "alignmentgroup": "True",
         "hovertemplate": "month=%{x}<br>estimated employed=%{y}<extra></extra>",
         "legendgroup": "Apr",
         "marker": {
          "color": "#ab63fa",
          "pattern": {
           "shape": ""
          }
         },
         "name": "Apr",
         "offsetgroup": "Apr",
         "orientation": "v",
         "showlegend": true,
         "textposition": "auto",
         "type": "bar",
         "x": [
          "Apr"
         ],
         "xaxis": "x",
         "y": [
          10570199
         ],
         "yaxis": "y"
        },
        {
         "alignmentgroup": "True",
         "hovertemplate": "month=%{x}<br>estimated employed=%{y}<extra></extra>",
         "legendgroup": "May",
         "marker": {
          "color": "#FFA15A",
          "pattern": {
           "shape": ""
          }
         },
         "name": "May",
         "offsetgroup": "May",
         "orientation": "v",
         "showlegend": true,
         "textposition": "auto",
         "type": "bar",
         "x": [
          "May"
         ],
         "xaxis": "x",
         "y": [
          11507394.851851853
         ],
         "yaxis": "y"
        },
        {
         "alignmentgroup": "True",
         "hovertemplate": "month=%{x}<br>estimated employed=%{y}<extra></extra>",
         "legendgroup": "Jun",
         "marker": {
          "color": "#19d3f3",
          "pattern": {
           "shape": ""
          }
         },
         "name": "Jun",
         "offsetgroup": "Jun",
         "orientation": "v",
         "showlegend": true,
         "textposition": "auto",
         "type": "bar",
         "x": [
          "Jun"
         ],
         "xaxis": "x",
         "y": [
          13857393.814814815
         ],
         "yaxis": "y"
        },
        {
         "alignmentgroup": "True",
         "hovertemplate": "month=%{x}<br>estimated employed=%{y}<extra></extra>",
         "legendgroup": "Jul",
         "marker": {
          "color": "#FF6692",
          "pattern": {
           "shape": ""
          }
         },
         "name": "Jul",
         "offsetgroup": "Jul",
         "orientation": "v",
         "showlegend": true,
         "textposition": "auto",
         "type": "bar",
         "x": [
          "Jul"
         ],
         "xaxis": "x",
         "y": [
          14418021.481481481
         ],
         "yaxis": "y"
        },
        {
         "alignmentgroup": "True",
         "hovertemplate": "month=%{x}<br>estimated employed=%{y}<extra></extra>",
         "legendgroup": "Aug",
         "marker": {
          "color": "#B6E880",
          "pattern": {
           "shape": ""
          }
         },
         "name": "Aug",
         "offsetgroup": "Aug",
         "orientation": "v",
         "showlegend": true,
         "textposition": "auto",
         "type": "bar",
         "x": [
          "Aug"
         ],
         "xaxis": "x",
         "y": [
          14429042.037037037
         ],
         "yaxis": "y"
        },
        {
         "alignmentgroup": "True",
         "hovertemplate": "month=%{x}<br>estimated employed=%{y}<extra></extra>",
         "legendgroup": "Sep",
         "marker": {
          "color": "#FF97FF",
          "pattern": {
           "shape": ""
          }
         },
         "name": "Sep",
         "offsetgroup": "Sep",
         "orientation": "v",
         "showlegend": true,
         "textposition": "auto",
         "type": "bar",
         "x": [
          "Sep"
         ],
         "xaxis": "x",
         "y": [
          14587838.629629629
         ],
         "yaxis": "y"
        },
        {
         "alignmentgroup": "True",
         "hovertemplate": "month=%{x}<br>estimated employed=%{y}<extra></extra>",
         "legendgroup": "Oct",
         "marker": {
          "color": "#FECB52",
          "pattern": {
           "shape": ""
          }
         },
         "name": "Oct",
         "offsetgroup": "Oct",
         "orientation": "v",
         "showlegend": true,
         "textposition": "auto",
         "type": "bar",
         "x": [
          "Oct"
         ],
         "xaxis": "x",
         "y": [
          14579980.518518519
         ],
         "yaxis": "y"
        }
       ],
       "layout": {
        "barmode": "relative",
        "legend": {
         "title": {
          "text": "month"
         },
         "tracegroupgap": 0
        },
        "template": {
         "data": {
          "bar": [
           {
            "error_x": {
             "color": "#2a3f5f"
            },
            "error_y": {
             "color": "#2a3f5f"
            },
            "marker": {
             "line": {
              "color": "#E5ECF6",
              "width": 0.5
             },
             "pattern": {
              "fillmode": "overlay",
              "size": 10,
              "solidity": 0.2
             }
            },
            "type": "bar"
           }
          ],
          "barpolar": [
           {
            "marker": {
             "line": {
              "color": "#E5ECF6",
              "width": 0.5
             },
             "pattern": {
              "fillmode": "overlay",
              "size": 10,
              "solidity": 0.2
             }
            },
            "type": "barpolar"
           }
          ],
          "carpet": [
           {
            "aaxis": {
             "endlinecolor": "#2a3f5f",
             "gridcolor": "white",
             "linecolor": "white",
             "minorgridcolor": "white",
             "startlinecolor": "#2a3f5f"
            },
            "baxis": {
             "endlinecolor": "#2a3f5f",
             "gridcolor": "white",
             "linecolor": "white",
             "minorgridcolor": "white",
             "startlinecolor": "#2a3f5f"
            },
            "type": "carpet"
           }
          ],
          "choropleth": [
           {
            "colorbar": {
             "outlinewidth": 0,
             "ticks": ""
            },
            "type": "choropleth"
           }
          ],
          "contour": [
           {
            "colorbar": {
             "outlinewidth": 0,
             "ticks": ""
            },
            "colorscale": [
             [
              0,
              "#0d0887"
             ],
             [
              0.1111111111111111,
              "#46039f"
             ],
             [
              0.2222222222222222,
              "#7201a8"
             ],
             [
              0.3333333333333333,
              "#9c179e"
             ],
             [
              0.4444444444444444,
              "#bd3786"
             ],
             [
              0.5555555555555556,
              "#d8576b"
             ],
             [
              0.6666666666666666,
              "#ed7953"
             ],
             [
              0.7777777777777778,
              "#fb9f3a"
             ],
             [
              0.8888888888888888,
              "#fdca26"
             ],
             [
              1,
              "#f0f921"
             ]
            ],
            "type": "contour"
           }
          ],
          "contourcarpet": [
           {
            "colorbar": {
             "outlinewidth": 0,
             "ticks": ""
            },
            "type": "contourcarpet"
           }
          ],
          "heatmap": [
           {
            "colorbar": {
             "outlinewidth": 0,
             "ticks": ""
            },
            "colorscale": [
             [
              0,
              "#0d0887"
             ],
             [
              0.1111111111111111,
              "#46039f"
             ],
             [
              0.2222222222222222,
              "#7201a8"
             ],
             [
              0.3333333333333333,
              "#9c179e"
             ],
             [
              0.4444444444444444,
              "#bd3786"
             ],
             [
              0.5555555555555556,
              "#d8576b"
             ],
             [
              0.6666666666666666,
              "#ed7953"
             ],
             [
              0.7777777777777778,
              "#fb9f3a"
             ],
             [
              0.8888888888888888,
              "#fdca26"
             ],
             [
              1,
              "#f0f921"
             ]
            ],
            "type": "heatmap"
           }
          ],
          "heatmapgl": [
           {
            "colorbar": {
             "outlinewidth": 0,
             "ticks": ""
            },
            "colorscale": [
             [
              0,
              "#0d0887"
             ],
             [
              0.1111111111111111,
              "#46039f"
             ],
             [
              0.2222222222222222,
              "#7201a8"
             ],
             [
              0.3333333333333333,
              "#9c179e"
             ],
             [
              0.4444444444444444,
              "#bd3786"
             ],
             [
              0.5555555555555556,
              "#d8576b"
             ],
             [
              0.6666666666666666,
              "#ed7953"
             ],
             [
              0.7777777777777778,
              "#fb9f3a"
             ],
             [
              0.8888888888888888,
              "#fdca26"
             ],
             [
              1,
              "#f0f921"
             ]
            ],
            "type": "heatmapgl"
           }
          ],
          "histogram": [
           {
            "marker": {
             "pattern": {
              "fillmode": "overlay",
              "size": 10,
              "solidity": 0.2
             }
            },
            "type": "histogram"
           }
          ],
          "histogram2d": [
           {
            "colorbar": {
             "outlinewidth": 0,
             "ticks": ""
            },
            "colorscale": [
             [
              0,
              "#0d0887"
             ],
             [
              0.1111111111111111,
              "#46039f"
             ],
             [
              0.2222222222222222,
              "#7201a8"
             ],
             [
              0.3333333333333333,
              "#9c179e"
             ],
             [
              0.4444444444444444,
              "#bd3786"
             ],
             [
              0.5555555555555556,
              "#d8576b"
             ],
             [
              0.6666666666666666,
              "#ed7953"
             ],
             [
              0.7777777777777778,
              "#fb9f3a"
             ],
             [
              0.8888888888888888,
              "#fdca26"
             ],
             [
              1,
              "#f0f921"
             ]
            ],
            "type": "histogram2d"
           }
          ],
          "histogram2dcontour": [
           {
            "colorbar": {
             "outlinewidth": 0,
             "ticks": ""
            },
            "colorscale": [
             [
              0,
              "#0d0887"
             ],
             [
              0.1111111111111111,
              "#46039f"
             ],
             [
              0.2222222222222222,
              "#7201a8"
             ],
             [
              0.3333333333333333,
              "#9c179e"
             ],
             [
              0.4444444444444444,
              "#bd3786"
             ],
             [
              0.5555555555555556,
              "#d8576b"
             ],
             [
              0.6666666666666666,
              "#ed7953"
             ],
             [
              0.7777777777777778,
              "#fb9f3a"
             ],
             [
              0.8888888888888888,
              "#fdca26"
             ],
             [
              1,
              "#f0f921"
             ]
            ],
            "type": "histogram2dcontour"
           }
          ],
          "mesh3d": [
           {
            "colorbar": {
             "outlinewidth": 0,
             "ticks": ""
            },
            "type": "mesh3d"
           }
          ],
          "parcoords": [
           {
            "line": {
             "colorbar": {
              "outlinewidth": 0,
              "ticks": ""
             }
            },
            "type": "parcoords"
           }
          ],
          "pie": [
           {
            "automargin": true,
            "type": "pie"
           }
          ],
          "scatter": [
           {
            "fillpattern": {
             "fillmode": "overlay",
             "size": 10,
             "solidity": 0.2
            },
            "type": "scatter"
           }
          ],
          "scatter3d": [
           {
            "line": {
             "colorbar": {
              "outlinewidth": 0,
              "ticks": ""
             }
            },
            "marker": {
             "colorbar": {
              "outlinewidth": 0,
              "ticks": ""
             }
            },
            "type": "scatter3d"
           }
          ],
          "scattercarpet": [
           {
            "marker": {
             "colorbar": {
              "outlinewidth": 0,
              "ticks": ""
             }
            },
            "type": "scattercarpet"
           }
          ],
          "scattergeo": [
           {
            "marker": {
             "colorbar": {
              "outlinewidth": 0,
              "ticks": ""
             }
            },
            "type": "scattergeo"
           }
          ],
          "scattergl": [
           {
            "marker": {
             "colorbar": {
              "outlinewidth": 0,
              "ticks": ""
             }
            },
            "type": "scattergl"
           }
          ],
          "scattermapbox": [
           {
            "marker": {
             "colorbar": {
              "outlinewidth": 0,
              "ticks": ""
             }
            },
            "type": "scattermapbox"
           }
          ],
          "scatterpolar": [
           {
            "marker": {
             "colorbar": {
              "outlinewidth": 0,
              "ticks": ""
             }
            },
            "type": "scatterpolar"
           }
          ],
          "scatterpolargl": [
           {
            "marker": {
             "colorbar": {
              "outlinewidth": 0,
              "ticks": ""
             }
            },
            "type": "scatterpolargl"
           }
          ],
          "scatterternary": [
           {
            "marker": {
             "colorbar": {
              "outlinewidth": 0,
              "ticks": ""
             }
            },
            "type": "scatterternary"
           }
          ],
          "surface": [
           {
            "colorbar": {
             "outlinewidth": 0,
             "ticks": ""
            },
            "colorscale": [
             [
              0,
              "#0d0887"
             ],
             [
              0.1111111111111111,
              "#46039f"
             ],
             [
              0.2222222222222222,
              "#7201a8"
             ],
             [
              0.3333333333333333,
              "#9c179e"
             ],
             [
              0.4444444444444444,
              "#bd3786"
             ],
             [
              0.5555555555555556,
              "#d8576b"
             ],
             [
              0.6666666666666666,
              "#ed7953"
             ],
             [
              0.7777777777777778,
              "#fb9f3a"
             ],
             [
              0.8888888888888888,
              "#fdca26"
             ],
             [
              1,
              "#f0f921"
             ]
            ],
            "type": "surface"
           }
          ],
          "table": [
           {
            "cells": {
             "fill": {
              "color": "#EBF0F8"
             },
             "line": {
              "color": "white"
             }
            },
            "header": {
             "fill": {
              "color": "#C8D4E3"
             },
             "line": {
              "color": "white"
             }
            },
            "type": "table"
           }
          ]
         },
         "layout": {
          "annotationdefaults": {
           "arrowcolor": "#2a3f5f",
           "arrowhead": 0,
           "arrowwidth": 1
          },
          "autotypenumbers": "strict",
          "coloraxis": {
           "colorbar": {
            "outlinewidth": 0,
            "ticks": ""
           }
          },
          "colorscale": {
           "diverging": [
            [
             0,
             "#8e0152"
            ],
            [
             0.1,
             "#c51b7d"
            ],
            [
             0.2,
             "#de77ae"
            ],
            [
             0.3,
             "#f1b6da"
            ],
            [
             0.4,
             "#fde0ef"
            ],
            [
             0.5,
             "#f7f7f7"
            ],
            [
             0.6,
             "#e6f5d0"
            ],
            [
             0.7,
             "#b8e186"
            ],
            [
             0.8,
             "#7fbc41"
            ],
            [
             0.9,
             "#4d9221"
            ],
            [
             1,
             "#276419"
            ]
           ],
           "sequential": [
            [
             0,
             "#0d0887"
            ],
            [
             0.1111111111111111,
             "#46039f"
            ],
            [
             0.2222222222222222,
             "#7201a8"
            ],
            [
             0.3333333333333333,
             "#9c179e"
            ],
            [
             0.4444444444444444,
             "#bd3786"
            ],
            [
             0.5555555555555556,
             "#d8576b"
            ],
            [
             0.6666666666666666,
             "#ed7953"
            ],
            [
             0.7777777777777778,
             "#fb9f3a"
            ],
            [
             0.8888888888888888,
             "#fdca26"
            ],
            [
             1,
             "#f0f921"
            ]
           ],
           "sequentialminus": [
            [
             0,
             "#0d0887"
            ],
            [
             0.1111111111111111,
             "#46039f"
            ],
            [
             0.2222222222222222,
             "#7201a8"
            ],
            [
             0.3333333333333333,
             "#9c179e"
            ],
            [
             0.4444444444444444,
             "#bd3786"
            ],
            [
             0.5555555555555556,
             "#d8576b"
            ],
            [
             0.6666666666666666,
             "#ed7953"
            ],
            [
             0.7777777777777778,
             "#fb9f3a"
            ],
            [
             0.8888888888888888,
             "#fdca26"
            ],
            [
             1,
             "#f0f921"
            ]
           ]
          },
          "colorway": [
           "#636efa",
           "#EF553B",
           "#00cc96",
           "#ab63fa",
           "#FFA15A",
           "#19d3f3",
           "#FF6692",
           "#B6E880",
           "#FF97FF",
           "#FECB52"
          ],
          "font": {
           "color": "#2a3f5f"
          },
          "geo": {
           "bgcolor": "white",
           "lakecolor": "white",
           "landcolor": "#E5ECF6",
           "showlakes": true,
           "showland": true,
           "subunitcolor": "white"
          },
          "hoverlabel": {
           "align": "left"
          },
          "hovermode": "closest",
          "mapbox": {
           "style": "light"
          },
          "paper_bgcolor": "white",
          "plot_bgcolor": "#E5ECF6",
          "polar": {
           "angularaxis": {
            "gridcolor": "white",
            "linecolor": "white",
            "ticks": ""
           },
           "bgcolor": "#E5ECF6",
           "radialaxis": {
            "gridcolor": "white",
            "linecolor": "white",
            "ticks": ""
           }
          },
          "scene": {
           "xaxis": {
            "backgroundcolor": "#E5ECF6",
            "gridcolor": "white",
            "gridwidth": 2,
            "linecolor": "white",
            "showbackground": true,
            "ticks": "",
            "zerolinecolor": "white"
           },
           "yaxis": {
            "backgroundcolor": "#E5ECF6",
            "gridcolor": "white",
            "gridwidth": 2,
            "linecolor": "white",
            "showbackground": true,
            "ticks": "",
            "zerolinecolor": "white"
           },
           "zaxis": {
            "backgroundcolor": "#E5ECF6",
            "gridcolor": "white",
            "gridwidth": 2,
            "linecolor": "white",
            "showbackground": true,
            "ticks": "",
            "zerolinecolor": "white"
           }
          },
          "shapedefaults": {
           "line": {
            "color": "#2a3f5f"
           }
          },
          "ternary": {
           "aaxis": {
            "gridcolor": "white",
            "linecolor": "white",
            "ticks": ""
           },
           "baxis": {
            "gridcolor": "white",
            "linecolor": "white",
            "ticks": ""
           },
           "bgcolor": "#E5ECF6",
           "caxis": {
            "gridcolor": "white",
            "linecolor": "white",
            "ticks": ""
           }
          },
          "title": {
           "x": 0.05
          },
          "xaxis": {
           "automargin": true,
           "gridcolor": "white",
           "linecolor": "white",
           "ticks": "",
           "title": {
            "standoff": 15
           },
           "zerolinecolor": "white",
           "zerolinewidth": 2
          },
          "yaxis": {
           "automargin": true,
           "gridcolor": "white",
           "linecolor": "white",
           "ticks": "",
           "title": {
            "standoff": 15
           },
           "zerolinecolor": "white",
           "zerolinewidth": 2
          }
         }
        },
        "title": {
         "text": "estimated employed people from Jan 2020 to Oct 2020"
        },
        "xaxis": {
         "anchor": "y",
         "categoryarray": [
          "Jan",
          "Feb",
          "Mar",
          "Apr",
          "May",
          "Jun",
          "Jul",
          "Aug",
          "Sep",
          "Oct"
         ],
         "categoryorder": "array",
         "domain": [
          0,
          1
         ],
         "title": {
          "text": "month"
         }
        },
        "yaxis": {
         "anchor": "x",
         "domain": [
          0,
          1
         ],
         "title": {
          "text": "estimated employed"
         }
        }
       }
      }
     },
     "metadata": {},
     "output_type": "display_data"
    }
   ],
   "source": [
    "fig = px.bar(IND, x='month',y='estimated employed', color='month',\n",
    "             category_orders = {\"month\": [\"Jan\", \"Feb\", \"Mar\", \"Apr\", \"May\", \"Jun\", \"Jul\", \"Aug\", \"Sep\", \"Oct\"]}, \n",
    "             title='estimated employed people from Jan 2020 to Oct 2020')\n",
    "\n",
    "fig.show()"
   ]
  },
  {
   "cell_type": "markdown",
   "id": "630007ee",
   "metadata": {
    "execution": {
     "iopub.execute_input": "2023-01-23T20:30:29.186570Z",
     "iopub.status.busy": "2023-01-23T20:30:29.186137Z",
     "iopub.status.idle": "2023-01-23T20:30:29.192399Z",
     "shell.execute_reply": "2023-01-23T20:30:29.190978Z",
     "shell.execute_reply.started": "2023-01-23T20:30:29.186537Z"
    },
    "papermill": {
     "duration": 0.00876,
     "end_time": "2023-01-24T18:21:07.817445",
     "exception": false,
     "start_time": "2023-01-24T18:21:07.808685",
     "status": "completed"
    },
    "tags": []
   },
   "source": [
    "## State wise Analysis"
   ]
  },
  {
   "cell_type": "code",
   "execution_count": 14,
   "id": "cd50b891",
   "metadata": {
    "execution": {
     "iopub.execute_input": "2023-01-24T18:21:07.838042Z",
     "iopub.status.busy": "2023-01-24T18:21:07.836965Z",
     "iopub.status.idle": "2023-01-24T18:21:07.846704Z",
     "shell.execute_reply": "2023-01-24T18:21:07.845521Z"
    },
    "papermill": {
     "duration": 0.022636,
     "end_time": "2023-01-24T18:21:07.849219",
     "exception": false,
     "start_time": "2023-01-24T18:21:07.826583",
     "status": "completed"
    },
    "tags": []
   },
   "outputs": [],
   "source": [
    "state = df.groupby([\"state\"])[[\"estimated unemployment rate\", \"estimated employed\", \"estimated labour participation rate\"]].mean()\n",
    "state = pd.DataFrame(state).reset_index()"
   ]
  },
  {
   "cell_type": "code",
   "execution_count": 15,
   "id": "8ef6707e",
   "metadata": {
    "execution": {
     "iopub.execute_input": "2023-01-24T18:21:07.870783Z",
     "iopub.status.busy": "2023-01-24T18:21:07.869724Z",
     "iopub.status.idle": "2023-01-24T18:21:08.018181Z",
     "shell.execute_reply": "2023-01-24T18:21:08.017319Z"
    },
    "papermill": {
     "duration": 0.16133,
     "end_time": "2023-01-24T18:21:08.020142",
     "exception": false,
     "start_time": "2023-01-24T18:21:07.858812",
     "status": "completed"
    },
    "tags": []
   },
   "outputs": [
    {
     "data": {
      "application/vnd.plotly.v1+json": {
       "config": {
        "plotlyServerURL": "https://plot.ly"
       },
       "data": [
        {
         "alignmentgroup": "True",
         "hovertemplate": "state=%{x}<br>estimated unemployment rate=%{y}<extra></extra>",
         "legendgroup": "Andhra Pradesh",
         "marker": {
          "color": "#636efa"
         },
         "name": "Andhra Pradesh",
         "notched": false,
         "offsetgroup": "Andhra Pradesh",
         "orientation": "v",
         "showlegend": true,
         "type": "box",
         "x": [
          "Andhra Pradesh",
          "Andhra Pradesh",
          "Andhra Pradesh",
          "Andhra Pradesh",
          "Andhra Pradesh",
          "Andhra Pradesh",
          "Andhra Pradesh",
          "Andhra Pradesh",
          "Andhra Pradesh",
          "Andhra Pradesh"
         ],
         "x0": " ",
         "xaxis": "x",
         "y": [
          5.48,
          5.83,
          5.79,
          20.51,
          17.43,
          3.31,
          8.34,
          6.96,
          6.4,
          6.59
         ],
         "y0": " ",
         "yaxis": "y"
        },
        {
         "alignmentgroup": "True",
         "hovertemplate": "state=%{x}<br>estimated unemployment rate=%{y}<extra></extra>",
         "legendgroup": "Assam",
         "marker": {
          "color": "#EF553B"
         },
         "name": "Assam",
         "notched": false,
         "offsetgroup": "Assam",
         "orientation": "v",
         "showlegend": true,
         "type": "box",
         "x": [
          "Assam",
          "Assam",
          "Assam",
          "Assam",
          "Assam",
          "Assam",
          "Assam",
          "Assam",
          "Assam",
          "Assam"
         ],
         "x0": " ",
         "xaxis": "x",
         "y": [
          4.66,
          4.41,
          4.77,
          11.06,
          9.55,
          0.6,
          3.77,
          5.53,
          1.19,
          3.02
         ],
         "y0": " ",
         "yaxis": "y"
        },
        {
         "alignmentgroup": "True",
         "hovertemplate": "state=%{x}<br>estimated unemployment rate=%{y}<extra></extra>",
         "legendgroup": "Bihar",
         "marker": {
          "color": "#00cc96"
         },
         "name": "Bihar",
         "notched": false,
         "offsetgroup": "Bihar",
         "orientation": "v",
         "showlegend": true,
         "type": "box",
         "x": [
          "Bihar",
          "Bihar",
          "Bihar",
          "Bihar",
          "Bihar",
          "Bihar",
          "Bihar",
          "Bihar",
          "Bihar",
          "Bihar"
         ],
         "x0": " ",
         "xaxis": "x",
         "y": [
          10.61,
          10.29,
          15.43,
          46.64,
          45.96,
          17.82,
          12.79,
          13.44,
          11.91,
          9.82
         ],
         "y0": " ",
         "yaxis": "y"
        },
        {
         "alignmentgroup": "True",
         "hovertemplate": "state=%{x}<br>estimated unemployment rate=%{y}<extra></extra>",
         "legendgroup": "Chhattisgarh",
         "marker": {
          "color": "#ab63fa"
         },
         "name": "Chhattisgarh",
         "notched": false,
         "offsetgroup": "Chhattisgarh",
         "orientation": "v",
         "showlegend": true,
         "type": "box",
         "x": [
          "Chhattisgarh",
          "Chhattisgarh",
          "Chhattisgarh",
          "Chhattisgarh",
          "Chhattisgarh",
          "Chhattisgarh",
          "Chhattisgarh",
          "Chhattisgarh",
          "Chhattisgarh",
          "Chhattisgarh"
         ],
         "x0": " ",
         "xaxis": "x",
         "y": [
          9.65,
          8.38,
          7.54,
          3.41,
          10.5,
          14.23,
          10.27,
          5.63,
          1.96,
          6.62
         ],
         "y0": " ",
         "yaxis": "y"
        },
        {
         "alignmentgroup": "True",
         "hovertemplate": "state=%{x}<br>estimated unemployment rate=%{y}<extra></extra>",
         "legendgroup": "Delhi",
         "marker": {
          "color": "#FFA15A"
         },
         "name": "Delhi",
         "notched": false,
         "offsetgroup": "Delhi",
         "orientation": "v",
         "showlegend": true,
         "type": "box",
         "x": [
          "Delhi",
          "Delhi",
          "Delhi",
          "Delhi",
          "Delhi",
          "Delhi",
          "Delhi",
          "Delhi",
          "Delhi",
          "Delhi"
         ],
         "x0": " ",
         "xaxis": "x",
         "y": [
          22.23,
          14.84,
          17.04,
          16.68,
          42.27,
          18.19,
          20.3,
          13.79,
          12.53,
          6.27
         ],
         "y0": " ",
         "yaxis": "y"
        },
        {
         "alignmentgroup": "True",
         "hovertemplate": "state=%{x}<br>estimated unemployment rate=%{y}<extra></extra>",
         "legendgroup": "Goa",
         "marker": {
          "color": "#19d3f3"
         },
         "name": "Goa",
         "notched": false,
         "offsetgroup": "Goa",
         "orientation": "v",
         "showlegend": true,
         "type": "box",
         "x": [
          "Goa",
          "Goa",
          "Goa",
          "Goa",
          "Goa",
          "Goa",
          "Goa",
          "Goa",
          "Goa",
          "Goa"
         ],
         "x0": " ",
         "xaxis": "x",
         "y": [
          8.89,
          2.81,
          5.25,
          13.31,
          21.25,
          9.96,
          17.07,
          16.21,
          15.38,
          11.54
         ],
         "y0": " ",
         "yaxis": "y"
        },
        {
         "alignmentgroup": "True",
         "hovertemplate": "state=%{x}<br>estimated unemployment rate=%{y}<extra></extra>",
         "legendgroup": "Gujarat",
         "marker": {
          "color": "#FF6692"
         },
         "name": "Gujarat",
         "notched": false,
         "offsetgroup": "Gujarat",
         "orientation": "v",
         "showlegend": true,
         "type": "box",
         "x": [
          "Gujarat",
          "Gujarat",
          "Gujarat",
          "Gujarat",
          "Gujarat",
          "Gujarat",
          "Gujarat",
          "Gujarat",
          "Gujarat",
          "Gujarat"
         ],
         "x0": " ",
         "xaxis": "x",
         "y": [
          5.54,
          6.38,
          6.66,
          18.71,
          12.11,
          3.2,
          1.84,
          1.87,
          3.42,
          4.03
         ],
         "y0": " ",
         "yaxis": "y"
        },
        {
         "alignmentgroup": "True",
         "hovertemplate": "state=%{x}<br>estimated unemployment rate=%{y}<extra></extra>",
         "legendgroup": "Haryana",
         "marker": {
          "color": "#B6E880"
         },
         "name": "Haryana",
         "notched": false,
         "offsetgroup": "Haryana",
         "orientation": "v",
         "showlegend": true,
         "type": "box",
         "x": [
          "Haryana",
          "Haryana",
          "Haryana",
          "Haryana",
          "Haryana",
          "Haryana",
          "Haryana",
          "Haryana",
          "Haryana",
          "Haryana"
         ],
         "x0": " ",
         "xaxis": "x",
         "y": [
          20.34,
          25.77,
          25.05,
          43.22,
          29.02,
          26.7,
          24.18,
          33.5,
          19.68,
          27.31
         ],
         "y0": " ",
         "yaxis": "y"
        },
        {
         "alignmentgroup": "True",
         "hovertemplate": "state=%{x}<br>estimated unemployment rate=%{y}<extra></extra>",
         "legendgroup": "Himachal Pradesh",
         "marker": {
          "color": "#FF97FF"
         },
         "name": "Himachal Pradesh",
         "notched": false,
         "offsetgroup": "Himachal Pradesh",
         "orientation": "v",
         "showlegend": true,
         "type": "box",
         "x": [
          "Himachal Pradesh",
          "Himachal Pradesh",
          "Himachal Pradesh",
          "Himachal Pradesh",
          "Himachal Pradesh",
          "Himachal Pradesh",
          "Himachal Pradesh",
          "Himachal Pradesh",
          "Himachal Pradesh",
          "Himachal Pradesh"
         ],
         "x0": " ",
         "xaxis": "x",
         "y": [
          16.83,
          16.84,
          18.76,
          2.2,
          26.95,
          13.47,
          24.31,
          15.79,
          12.04,
          13.46
         ],
         "y0": " ",
         "yaxis": "y"
        },
        {
         "alignmentgroup": "True",
         "hovertemplate": "state=%{x}<br>estimated unemployment rate=%{y}<extra></extra>",
         "legendgroup": "Jammu & Kashmir",
         "marker": {
          "color": "#FECB52"
         },
         "name": "Jammu & Kashmir",
         "notched": false,
         "offsetgroup": "Jammu & Kashmir",
         "orientation": "v",
         "showlegend": true,
         "type": "box",
         "x": [
          "Jammu & Kashmir",
          "Jammu & Kashmir",
          "Jammu & Kashmir",
          "Jammu & Kashmir",
          "Jammu & Kashmir",
          "Jammu & Kashmir",
          "Jammu & Kashmir",
          "Jammu & Kashmir",
          "Jammu & Kashmir"
         ],
         "x0": " ",
         "xaxis": "x",
         "y": [
          21.08,
          20.78,
          15.5,
          18.74,
          17.92,
          10.88,
          11.09,
          16.17,
          16.14
         ],
         "y0": " ",
         "yaxis": "y"
        },
        {
         "alignmentgroup": "True",
         "hovertemplate": "state=%{x}<br>estimated unemployment rate=%{y}<extra></extra>",
         "legendgroup": "Jharkhand",
         "marker": {
          "color": "#636efa"
         },
         "name": "Jharkhand",
         "notched": false,
         "offsetgroup": "Jharkhand",
         "orientation": "v",
         "showlegend": true,
         "type": "box",
         "x": [
          "Jharkhand",
          "Jharkhand",
          "Jharkhand",
          "Jharkhand",
          "Jharkhand",
          "Jharkhand",
          "Jharkhand",
          "Jharkhand",
          "Jharkhand",
          "Jharkhand"
         ],
         "x0": " ",
         "xaxis": "x",
         "y": [
          10.61,
          11.85,
          8.23,
          47.09,
          59.23,
          20.95,
          7.63,
          9.76,
          8.24,
          11.8
         ],
         "y0": " ",
         "yaxis": "y"
        },
        {
         "alignmentgroup": "True",
         "hovertemplate": "state=%{x}<br>estimated unemployment rate=%{y}<extra></extra>",
         "legendgroup": "Karnataka",
         "marker": {
          "color": "#EF553B"
         },
         "name": "Karnataka",
         "notched": false,
         "offsetgroup": "Karnataka",
         "orientation": "v",
         "showlegend": true,
         "type": "box",
         "x": [
          "Karnataka",
          "Karnataka",
          "Karnataka",
          "Karnataka",
          "Karnataka",
          "Karnataka",
          "Karnataka",
          "Karnataka",
          "Karnataka",
          "Karnataka"
         ],
         "x0": " ",
         "xaxis": "x",
         "y": [
          2.86,
          3.61,
          3.46,
          29.84,
          19.97,
          8.44,
          4.01,
          0.5,
          2.41,
          1.58
         ],
         "y0": " ",
         "yaxis": "y"
        },
        {
         "alignmentgroup": "True",
         "hovertemplate": "state=%{x}<br>estimated unemployment rate=%{y}<extra></extra>",
         "legendgroup": "Kerala",
         "marker": {
          "color": "#00cc96"
         },
         "name": "Kerala",
         "notched": false,
         "offsetgroup": "Kerala",
         "orientation": "v",
         "showlegend": true,
         "type": "box",
         "x": [
          "Kerala",
          "Kerala",
          "Kerala",
          "Kerala",
          "Kerala",
          "Kerala",
          "Kerala",
          "Kerala",
          "Kerala",
          "Kerala"
         ],
         "x0": " ",
         "xaxis": "x",
         "y": [
          5.31,
          7.6,
          8.99,
          16.99,
          17.88,
          9.71,
          7.09,
          10.98,
          5.91,
          3.88
         ],
         "y0": " ",
         "yaxis": "y"
        },
        {
         "alignmentgroup": "True",
         "hovertemplate": "state=%{x}<br>estimated unemployment rate=%{y}<extra></extra>",
         "legendgroup": "Madhya Pradesh",
         "marker": {
          "color": "#ab63fa"
         },
         "name": "Madhya Pradesh",
         "notched": false,
         "offsetgroup": "Madhya Pradesh",
         "orientation": "v",
         "showlegend": true,
         "type": "box",
         "x": [
          "Madhya Pradesh",
          "Madhya Pradesh",
          "Madhya Pradesh",
          "Madhya Pradesh",
          "Madhya Pradesh",
          "Madhya Pradesh",
          "Madhya Pradesh",
          "Madhya Pradesh",
          "Madhya Pradesh",
          "Madhya Pradesh"
         ],
         "x0": " ",
         "xaxis": "x",
         "y": [
          4.11,
          4.57,
          2.22,
          12.36,
          21.98,
          6.48,
          5.08,
          4.7,
          3.91,
          3.13
         ],
         "y0": " ",
         "yaxis": "y"
        },
        {
         "alignmentgroup": "True",
         "hovertemplate": "state=%{x}<br>estimated unemployment rate=%{y}<extra></extra>",
         "legendgroup": "Maharashtra",
         "marker": {
          "color": "#FFA15A"
         },
         "name": "Maharashtra",
         "notched": false,
         "offsetgroup": "Maharashtra",
         "orientation": "v",
         "showlegend": true,
         "type": "box",
         "x": [
          "Maharashtra",
          "Maharashtra",
          "Maharashtra",
          "Maharashtra",
          "Maharashtra",
          "Maharashtra",
          "Maharashtra",
          "Maharashtra",
          "Maharashtra",
          "Maharashtra"
         ],
         "x0": " ",
         "xaxis": "x",
         "y": [
          4.95,
          4.69,
          5.79,
          20.9,
          15.46,
          9.23,
          3.89,
          6.23,
          4.55,
          4.1
         ],
         "y0": " ",
         "yaxis": "y"
        },
        {
         "alignmentgroup": "True",
         "hovertemplate": "state=%{x}<br>estimated unemployment rate=%{y}<extra></extra>",
         "legendgroup": "Meghalaya",
         "marker": {
          "color": "#19d3f3"
         },
         "name": "Meghalaya",
         "notched": false,
         "offsetgroup": "Meghalaya",
         "orientation": "v",
         "showlegend": true,
         "type": "box",
         "x": [
          "Meghalaya",
          "Meghalaya",
          "Meghalaya",
          "Meghalaya",
          "Meghalaya",
          "Meghalaya",
          "Meghalaya",
          "Meghalaya",
          "Meghalaya",
          "Meghalaya"
         ],
         "x0": " ",
         "xaxis": "x",
         "y": [
          1.66,
          3.59,
          1.58,
          10.03,
          5.92,
          1.15,
          2.1,
          3.74,
          4.29,
          4.6
         ],
         "y0": " ",
         "yaxis": "y"
        },
        {
         "alignmentgroup": "True",
         "hovertemplate": "state=%{x}<br>estimated unemployment rate=%{y}<extra></extra>",
         "legendgroup": "Odisha",
         "marker": {
          "color": "#FF6692"
         },
         "name": "Odisha",
         "notched": false,
         "offsetgroup": "Odisha",
         "orientation": "v",
         "showlegend": true,
         "type": "box",
         "x": [
          "Odisha",
          "Odisha",
          "Odisha",
          "Odisha",
          "Odisha",
          "Odisha",
          "Odisha",
          "Odisha",
          "Odisha",
          "Odisha"
         ],
         "x0": " ",
         "xaxis": "x",
         "y": [
          1.9,
          3.12,
          13.08,
          23.76,
          11.41,
          3.77,
          1.88,
          1.42,
          2.1,
          2.18
         ],
         "y0": " ",
         "yaxis": "y"
        },
        {
         "alignmentgroup": "True",
         "hovertemplate": "state=%{x}<br>estimated unemployment rate=%{y}<extra></extra>",
         "legendgroup": "Puducherry",
         "marker": {
          "color": "#B6E880"
         },
         "name": "Puducherry",
         "notched": false,
         "offsetgroup": "Puducherry",
         "orientation": "v",
         "showlegend": true,
         "type": "box",
         "x": [
          "Puducherry",
          "Puducherry",
          "Puducherry",
          "Puducherry",
          "Puducherry",
          "Puducherry",
          "Puducherry",
          "Puducherry",
          "Puducherry",
          "Puducherry"
         ],
         "x0": " ",
         "xaxis": "x",
         "y": [
          0.58,
          1.76,
          1.2,
          75.85,
          58.19,
          4.24,
          15.47,
          5.05,
          10.9,
          6.18
         ],
         "y0": " ",
         "yaxis": "y"
        },
        {
         "alignmentgroup": "True",
         "hovertemplate": "state=%{x}<br>estimated unemployment rate=%{y}<extra></extra>",
         "legendgroup": "Punjab",
         "marker": {
          "color": "#FF97FF"
         },
         "name": "Punjab",
         "notched": false,
         "offsetgroup": "Punjab",
         "orientation": "v",
         "showlegend": true,
         "type": "box",
         "x": [
          "Punjab",
          "Punjab",
          "Punjab",
          "Punjab",
          "Punjab",
          "Punjab",
          "Punjab",
          "Punjab",
          "Punjab",
          "Punjab"
         ],
         "x0": " ",
         "xaxis": "x",
         "y": [
          11.11,
          10.97,
          10.32,
          2.86,
          28.33,
          16.55,
          9.19,
          10.99,
          9.61,
          9.88
         ],
         "y0": " ",
         "yaxis": "y"
        },
        {
         "alignmentgroup": "True",
         "hovertemplate": "state=%{x}<br>estimated unemployment rate=%{y}<extra></extra>",
         "legendgroup": "Rajasthan",
         "marker": {
          "color": "#FECB52"
         },
         "name": "Rajasthan",
         "notched": false,
         "offsetgroup": "Rajasthan",
         "orientation": "v",
         "showlegend": true,
         "type": "box",
         "x": [
          "Rajasthan",
          "Rajasthan",
          "Rajasthan",
          "Rajasthan",
          "Rajasthan",
          "Rajasthan",
          "Rajasthan",
          "Rajasthan",
          "Rajasthan",
          "Rajasthan"
         ],
         "x0": " ",
         "xaxis": "x",
         "y": [
          10.97,
          15.16,
          11.9,
          17.7,
          15.74,
          14.39,
          15.81,
          17.51,
          15.35,
          24.15
         ],
         "y0": " ",
         "yaxis": "y"
        },
        {
         "alignmentgroup": "True",
         "hovertemplate": "state=%{x}<br>estimated unemployment rate=%{y}<extra></extra>",
         "legendgroup": "Sikkim",
         "marker": {
          "color": "#636efa"
         },
         "name": "Sikkim",
         "notched": false,
         "offsetgroup": "Sikkim",
         "orientation": "v",
         "showlegend": true,
         "type": "box",
         "x": [
          "Sikkim",
          "Sikkim",
          "Sikkim",
          "Sikkim",
          "Sikkim",
          "Sikkim",
          "Sikkim",
          "Sikkim"
         ],
         "x0": " ",
         "xaxis": "x",
         "y": [
          23.57,
          2.28,
          24.51,
          4.46,
          4.45,
          12.49,
          5.7,
          0.88
         ],
         "y0": " ",
         "yaxis": "y"
        },
        {
         "alignmentgroup": "True",
         "hovertemplate": "state=%{x}<br>estimated unemployment rate=%{y}<extra></extra>",
         "legendgroup": "Tamil Nadu",
         "marker": {
          "color": "#EF553B"
         },
         "name": "Tamil Nadu",
         "notched": false,
         "offsetgroup": "Tamil Nadu",
         "orientation": "v",
         "showlegend": true,
         "type": "box",
         "x": [
          "Tamil Nadu",
          "Tamil Nadu",
          "Tamil Nadu",
          "Tamil Nadu",
          "Tamil Nadu",
          "Tamil Nadu",
          "Tamil Nadu",
          "Tamil Nadu",
          "Tamil Nadu",
          "Tamil Nadu"
         ],
         "x0": " ",
         "xaxis": "x",
         "y": [
          1.57,
          2.09,
          6.4,
          49.83,
          33.16,
          12.2,
          6.81,
          2.65,
          5,
          2.16
         ],
         "y0": " ",
         "yaxis": "y"
        },
        {
         "alignmentgroup": "True",
         "hovertemplate": "state=%{x}<br>estimated unemployment rate=%{y}<extra></extra>",
         "legendgroup": "Telangana",
         "marker": {
          "color": "#00cc96"
         },
         "name": "Telangana",
         "notched": false,
         "offsetgroup": "Telangana",
         "orientation": "v",
         "showlegend": true,
         "type": "box",
         "x": [
          "Telangana",
          "Telangana",
          "Telangana",
          "Telangana",
          "Telangana",
          "Telangana",
          "Telangana",
          "Telangana",
          "Telangana",
          "Telangana"
         ],
         "x0": " ",
         "xaxis": "x",
         "y": [
          5.49,
          8.29,
          5.77,
          6.25,
          14.7,
          10.55,
          5.36,
          5.79,
          3.27,
          2.86
         ],
         "y0": " ",
         "yaxis": "y"
        },
        {
         "alignmentgroup": "True",
         "hovertemplate": "state=%{x}<br>estimated unemployment rate=%{y}<extra></extra>",
         "legendgroup": "Tripura",
         "marker": {
          "color": "#ab63fa"
         },
         "name": "Tripura",
         "notched": false,
         "offsetgroup": "Tripura",
         "orientation": "v",
         "showlegend": true,
         "type": "box",
         "x": [
          "Tripura",
          "Tripura",
          "Tripura",
          "Tripura",
          "Tripura",
          "Tripura",
          "Tripura",
          "Tripura",
          "Tripura",
          "Tripura"
         ],
         "x0": " ",
         "xaxis": "x",
         "y": [
          32.67,
          28.4,
          29.95,
          41.23,
          21.51,
          21.71,
          18.24,
          27.92,
          17.35,
          11.57
         ],
         "y0": " ",
         "yaxis": "y"
        },
        {
         "alignmentgroup": "True",
         "hovertemplate": "state=%{x}<br>estimated unemployment rate=%{y}<extra></extra>",
         "legendgroup": "Uttar Pradesh",
         "marker": {
          "color": "#FFA15A"
         },
         "name": "Uttar Pradesh",
         "notched": false,
         "offsetgroup": "Uttar Pradesh",
         "orientation": "v",
         "showlegend": true,
         "type": "box",
         "x": [
          "Uttar Pradesh",
          "Uttar Pradesh",
          "Uttar Pradesh",
          "Uttar Pradesh",
          "Uttar Pradesh",
          "Uttar Pradesh",
          "Uttar Pradesh",
          "Uttar Pradesh",
          "Uttar Pradesh",
          "Uttar Pradesh"
         ],
         "x0": " ",
         "xaxis": "x",
         "y": [
          7.58,
          8.98,
          10.11,
          21.54,
          20.41,
          9.47,
          5.56,
          5.79,
          4.18,
          3.75
         ],
         "y0": " ",
         "yaxis": "y"
        },
        {
         "alignmentgroup": "True",
         "hovertemplate": "state=%{x}<br>estimated unemployment rate=%{y}<extra></extra>",
         "legendgroup": "Uttarakhand",
         "marker": {
          "color": "#19d3f3"
         },
         "name": "Uttarakhand",
         "notched": false,
         "offsetgroup": "Uttarakhand",
         "orientation": "v",
         "showlegend": true,
         "type": "box",
         "x": [
          "Uttarakhand",
          "Uttarakhand",
          "Uttarakhand",
          "Uttarakhand",
          "Uttarakhand",
          "Uttarakhand",
          "Uttarakhand",
          "Uttarakhand",
          "Uttarakhand",
          "Uttarakhand"
         ],
         "x0": " ",
         "xaxis": "x",
         "y": [
          5.49,
          4.99,
          19.85,
          6.48,
          8.01,
          8.61,
          12.38,
          14.26,
          22.26,
          9.23
         ],
         "y0": " ",
         "yaxis": "y"
        },
        {
         "alignmentgroup": "True",
         "hovertemplate": "state=%{x}<br>estimated unemployment rate=%{y}<extra></extra>",
         "legendgroup": "West Bengal",
         "marker": {
          "color": "#FF6692"
         },
         "name": "West Bengal",
         "notched": false,
         "offsetgroup": "West Bengal",
         "orientation": "v",
         "showlegend": true,
         "type": "box",
         "x": [
          "West Bengal",
          "West Bengal",
          "West Bengal",
          "West Bengal",
          "West Bengal",
          "West Bengal",
          "West Bengal",
          "West Bengal",
          "West Bengal",
          "West Bengal"
         ],
         "x0": " ",
         "xaxis": "x",
         "y": [
          6.94,
          4.92,
          6.92,
          17.41,
          17.41,
          7.29,
          6.83,
          14.87,
          9.35,
          9.98
         ],
         "y0": " ",
         "yaxis": "y"
        }
       ],
       "layout": {
        "boxmode": "overlay",
        "legend": {
         "title": {
          "text": "state"
         },
         "tracegroupgap": 0
        },
        "template": {
         "data": {
          "bar": [
           {
            "error_x": {
             "color": "#2a3f5f"
            },
            "error_y": {
             "color": "#2a3f5f"
            },
            "marker": {
             "line": {
              "color": "#E5ECF6",
              "width": 0.5
             },
             "pattern": {
              "fillmode": "overlay",
              "size": 10,
              "solidity": 0.2
             }
            },
            "type": "bar"
           }
          ],
          "barpolar": [
           {
            "marker": {
             "line": {
              "color": "#E5ECF6",
              "width": 0.5
             },
             "pattern": {
              "fillmode": "overlay",
              "size": 10,
              "solidity": 0.2
             }
            },
            "type": "barpolar"
           }
          ],
          "carpet": [
           {
            "aaxis": {
             "endlinecolor": "#2a3f5f",
             "gridcolor": "white",
             "linecolor": "white",
             "minorgridcolor": "white",
             "startlinecolor": "#2a3f5f"
            },
            "baxis": {
             "endlinecolor": "#2a3f5f",
             "gridcolor": "white",
             "linecolor": "white",
             "minorgridcolor": "white",
             "startlinecolor": "#2a3f5f"
            },
            "type": "carpet"
           }
          ],
          "choropleth": [
           {
            "colorbar": {
             "outlinewidth": 0,
             "ticks": ""
            },
            "type": "choropleth"
           }
          ],
          "contour": [
           {
            "colorbar": {
             "outlinewidth": 0,
             "ticks": ""
            },
            "colorscale": [
             [
              0,
              "#0d0887"
             ],
             [
              0.1111111111111111,
              "#46039f"
             ],
             [
              0.2222222222222222,
              "#7201a8"
             ],
             [
              0.3333333333333333,
              "#9c179e"
             ],
             [
              0.4444444444444444,
              "#bd3786"
             ],
             [
              0.5555555555555556,
              "#d8576b"
             ],
             [
              0.6666666666666666,
              "#ed7953"
             ],
             [
              0.7777777777777778,
              "#fb9f3a"
             ],
             [
              0.8888888888888888,
              "#fdca26"
             ],
             [
              1,
              "#f0f921"
             ]
            ],
            "type": "contour"
           }
          ],
          "contourcarpet": [
           {
            "colorbar": {
             "outlinewidth": 0,
             "ticks": ""
            },
            "type": "contourcarpet"
           }
          ],
          "heatmap": [
           {
            "colorbar": {
             "outlinewidth": 0,
             "ticks": ""
            },
            "colorscale": [
             [
              0,
              "#0d0887"
             ],
             [
              0.1111111111111111,
              "#46039f"
             ],
             [
              0.2222222222222222,
              "#7201a8"
             ],
             [
              0.3333333333333333,
              "#9c179e"
             ],
             [
              0.4444444444444444,
              "#bd3786"
             ],
             [
              0.5555555555555556,
              "#d8576b"
             ],
             [
              0.6666666666666666,
              "#ed7953"
             ],
             [
              0.7777777777777778,
              "#fb9f3a"
             ],
             [
              0.8888888888888888,
              "#fdca26"
             ],
             [
              1,
              "#f0f921"
             ]
            ],
            "type": "heatmap"
           }
          ],
          "heatmapgl": [
           {
            "colorbar": {
             "outlinewidth": 0,
             "ticks": ""
            },
            "colorscale": [
             [
              0,
              "#0d0887"
             ],
             [
              0.1111111111111111,
              "#46039f"
             ],
             [
              0.2222222222222222,
              "#7201a8"
             ],
             [
              0.3333333333333333,
              "#9c179e"
             ],
             [
              0.4444444444444444,
              "#bd3786"
             ],
             [
              0.5555555555555556,
              "#d8576b"
             ],
             [
              0.6666666666666666,
              "#ed7953"
             ],
             [
              0.7777777777777778,
              "#fb9f3a"
             ],
             [
              0.8888888888888888,
              "#fdca26"
             ],
             [
              1,
              "#f0f921"
             ]
            ],
            "type": "heatmapgl"
           }
          ],
          "histogram": [
           {
            "marker": {
             "pattern": {
              "fillmode": "overlay",
              "size": 10,
              "solidity": 0.2
             }
            },
            "type": "histogram"
           }
          ],
          "histogram2d": [
           {
            "colorbar": {
             "outlinewidth": 0,
             "ticks": ""
            },
            "colorscale": [
             [
              0,
              "#0d0887"
             ],
             [
              0.1111111111111111,
              "#46039f"
             ],
             [
              0.2222222222222222,
              "#7201a8"
             ],
             [
              0.3333333333333333,
              "#9c179e"
             ],
             [
              0.4444444444444444,
              "#bd3786"
             ],
             [
              0.5555555555555556,
              "#d8576b"
             ],
             [
              0.6666666666666666,
              "#ed7953"
             ],
             [
              0.7777777777777778,
              "#fb9f3a"
             ],
             [
              0.8888888888888888,
              "#fdca26"
             ],
             [
              1,
              "#f0f921"
             ]
            ],
            "type": "histogram2d"
           }
          ],
          "histogram2dcontour": [
           {
            "colorbar": {
             "outlinewidth": 0,
             "ticks": ""
            },
            "colorscale": [
             [
              0,
              "#0d0887"
             ],
             [
              0.1111111111111111,
              "#46039f"
             ],
             [
              0.2222222222222222,
              "#7201a8"
             ],
             [
              0.3333333333333333,
              "#9c179e"
             ],
             [
              0.4444444444444444,
              "#bd3786"
             ],
             [
              0.5555555555555556,
              "#d8576b"
             ],
             [
              0.6666666666666666,
              "#ed7953"
             ],
             [
              0.7777777777777778,
              "#fb9f3a"
             ],
             [
              0.8888888888888888,
              "#fdca26"
             ],
             [
              1,
              "#f0f921"
             ]
            ],
            "type": "histogram2dcontour"
           }
          ],
          "mesh3d": [
           {
            "colorbar": {
             "outlinewidth": 0,
             "ticks": ""
            },
            "type": "mesh3d"
           }
          ],
          "parcoords": [
           {
            "line": {
             "colorbar": {
              "outlinewidth": 0,
              "ticks": ""
             }
            },
            "type": "parcoords"
           }
          ],
          "pie": [
           {
            "automargin": true,
            "type": "pie"
           }
          ],
          "scatter": [
           {
            "fillpattern": {
             "fillmode": "overlay",
             "size": 10,
             "solidity": 0.2
            },
            "type": "scatter"
           }
          ],
          "scatter3d": [
           {
            "line": {
             "colorbar": {
              "outlinewidth": 0,
              "ticks": ""
             }
            },
            "marker": {
             "colorbar": {
              "outlinewidth": 0,
              "ticks": ""
             }
            },
            "type": "scatter3d"
           }
          ],
          "scattercarpet": [
           {
            "marker": {
             "colorbar": {
              "outlinewidth": 0,
              "ticks": ""
             }
            },
            "type": "scattercarpet"
           }
          ],
          "scattergeo": [
           {
            "marker": {
             "colorbar": {
              "outlinewidth": 0,
              "ticks": ""
             }
            },
            "type": "scattergeo"
           }
          ],
          "scattergl": [
           {
            "marker": {
             "colorbar": {
              "outlinewidth": 0,
              "ticks": ""
             }
            },
            "type": "scattergl"
           }
          ],
          "scattermapbox": [
           {
            "marker": {
             "colorbar": {
              "outlinewidth": 0,
              "ticks": ""
             }
            },
            "type": "scattermapbox"
           }
          ],
          "scatterpolar": [
           {
            "marker": {
             "colorbar": {
              "outlinewidth": 0,
              "ticks": ""
             }
            },
            "type": "scatterpolar"
           }
          ],
          "scatterpolargl": [
           {
            "marker": {
             "colorbar": {
              "outlinewidth": 0,
              "ticks": ""
             }
            },
            "type": "scatterpolargl"
           }
          ],
          "scatterternary": [
           {
            "marker": {
             "colorbar": {
              "outlinewidth": 0,
              "ticks": ""
             }
            },
            "type": "scatterternary"
           }
          ],
          "surface": [
           {
            "colorbar": {
             "outlinewidth": 0,
             "ticks": ""
            },
            "colorscale": [
             [
              0,
              "#0d0887"
             ],
             [
              0.1111111111111111,
              "#46039f"
             ],
             [
              0.2222222222222222,
              "#7201a8"
             ],
             [
              0.3333333333333333,
              "#9c179e"
             ],
             [
              0.4444444444444444,
              "#bd3786"
             ],
             [
              0.5555555555555556,
              "#d8576b"
             ],
             [
              0.6666666666666666,
              "#ed7953"
             ],
             [
              0.7777777777777778,
              "#fb9f3a"
             ],
             [
              0.8888888888888888,
              "#fdca26"
             ],
             [
              1,
              "#f0f921"
             ]
            ],
            "type": "surface"
           }
          ],
          "table": [
           {
            "cells": {
             "fill": {
              "color": "#EBF0F8"
             },
             "line": {
              "color": "white"
             }
            },
            "header": {
             "fill": {
              "color": "#C8D4E3"
             },
             "line": {
              "color": "white"
             }
            },
            "type": "table"
           }
          ]
         },
         "layout": {
          "annotationdefaults": {
           "arrowcolor": "#2a3f5f",
           "arrowhead": 0,
           "arrowwidth": 1
          },
          "autotypenumbers": "strict",
          "coloraxis": {
           "colorbar": {
            "outlinewidth": 0,
            "ticks": ""
           }
          },
          "colorscale": {
           "diverging": [
            [
             0,
             "#8e0152"
            ],
            [
             0.1,
             "#c51b7d"
            ],
            [
             0.2,
             "#de77ae"
            ],
            [
             0.3,
             "#f1b6da"
            ],
            [
             0.4,
             "#fde0ef"
            ],
            [
             0.5,
             "#f7f7f7"
            ],
            [
             0.6,
             "#e6f5d0"
            ],
            [
             0.7,
             "#b8e186"
            ],
            [
             0.8,
             "#7fbc41"
            ],
            [
             0.9,
             "#4d9221"
            ],
            [
             1,
             "#276419"
            ]
           ],
           "sequential": [
            [
             0,
             "#0d0887"
            ],
            [
             0.1111111111111111,
             "#46039f"
            ],
            [
             0.2222222222222222,
             "#7201a8"
            ],
            [
             0.3333333333333333,
             "#9c179e"
            ],
            [
             0.4444444444444444,
             "#bd3786"
            ],
            [
             0.5555555555555556,
             "#d8576b"
            ],
            [
             0.6666666666666666,
             "#ed7953"
            ],
            [
             0.7777777777777778,
             "#fb9f3a"
            ],
            [
             0.8888888888888888,
             "#fdca26"
            ],
            [
             1,
             "#f0f921"
            ]
           ],
           "sequentialminus": [
            [
             0,
             "#0d0887"
            ],
            [
             0.1111111111111111,
             "#46039f"
            ],
            [
             0.2222222222222222,
             "#7201a8"
            ],
            [
             0.3333333333333333,
             "#9c179e"
            ],
            [
             0.4444444444444444,
             "#bd3786"
            ],
            [
             0.5555555555555556,
             "#d8576b"
            ],
            [
             0.6666666666666666,
             "#ed7953"
            ],
            [
             0.7777777777777778,
             "#fb9f3a"
            ],
            [
             0.8888888888888888,
             "#fdca26"
            ],
            [
             1,
             "#f0f921"
            ]
           ]
          },
          "colorway": [
           "#636efa",
           "#EF553B",
           "#00cc96",
           "#ab63fa",
           "#FFA15A",
           "#19d3f3",
           "#FF6692",
           "#B6E880",
           "#FF97FF",
           "#FECB52"
          ],
          "font": {
           "color": "#2a3f5f"
          },
          "geo": {
           "bgcolor": "white",
           "lakecolor": "white",
           "landcolor": "#E5ECF6",
           "showlakes": true,
           "showland": true,
           "subunitcolor": "white"
          },
          "hoverlabel": {
           "align": "left"
          },
          "hovermode": "closest",
          "mapbox": {
           "style": "light"
          },
          "paper_bgcolor": "white",
          "plot_bgcolor": "#E5ECF6",
          "polar": {
           "angularaxis": {
            "gridcolor": "white",
            "linecolor": "white",
            "ticks": ""
           },
           "bgcolor": "#E5ECF6",
           "radialaxis": {
            "gridcolor": "white",
            "linecolor": "white",
            "ticks": ""
           }
          },
          "scene": {
           "xaxis": {
            "backgroundcolor": "#E5ECF6",
            "gridcolor": "white",
            "gridwidth": 2,
            "linecolor": "white",
            "showbackground": true,
            "ticks": "",
            "zerolinecolor": "white"
           },
           "yaxis": {
            "backgroundcolor": "#E5ECF6",
            "gridcolor": "white",
            "gridwidth": 2,
            "linecolor": "white",
            "showbackground": true,
            "ticks": "",
            "zerolinecolor": "white"
           },
           "zaxis": {
            "backgroundcolor": "#E5ECF6",
            "gridcolor": "white",
            "gridwidth": 2,
            "linecolor": "white",
            "showbackground": true,
            "ticks": "",
            "zerolinecolor": "white"
           }
          },
          "shapedefaults": {
           "line": {
            "color": "#2a3f5f"
           }
          },
          "ternary": {
           "aaxis": {
            "gridcolor": "white",
            "linecolor": "white",
            "ticks": ""
           },
           "baxis": {
            "gridcolor": "white",
            "linecolor": "white",
            "ticks": ""
           },
           "bgcolor": "#E5ECF6",
           "caxis": {
            "gridcolor": "white",
            "linecolor": "white",
            "ticks": ""
           }
          },
          "title": {
           "x": 0.05
          },
          "xaxis": {
           "automargin": true,
           "gridcolor": "white",
           "linecolor": "white",
           "ticks": "",
           "title": {
            "standoff": 15
           },
           "zerolinecolor": "white",
           "zerolinewidth": 2
          },
          "yaxis": {
           "automargin": true,
           "gridcolor": "white",
           "linecolor": "white",
           "ticks": "",
           "title": {
            "standoff": 15
           },
           "zerolinecolor": "white",
           "zerolinewidth": 2
          }
         }
        },
        "title": {
         "text": "Unemployment rate"
        },
        "xaxis": {
         "anchor": "y",
         "categoryarray": [
          "Andhra Pradesh",
          "Assam",
          "Bihar",
          "Chhattisgarh",
          "Delhi",
          "Goa",
          "Gujarat",
          "Haryana",
          "Himachal Pradesh",
          "Jammu & Kashmir",
          "Jharkhand",
          "Karnataka",
          "Kerala",
          "Madhya Pradesh",
          "Maharashtra",
          "Meghalaya",
          "Odisha",
          "Puducherry",
          "Punjab",
          "Rajasthan",
          "Sikkim",
          "Tamil Nadu",
          "Telangana",
          "Tripura",
          "Uttar Pradesh",
          "Uttarakhand",
          "West Bengal"
         ],
         "categoryorder": "total descending",
         "domain": [
          0,
          1
         ],
         "title": {
          "text": "state"
         }
        },
        "yaxis": {
         "anchor": "x",
         "domain": [
          0,
          1
         ],
         "title": {
          "text": "estimated unemployment rate"
         }
        }
       }
      }
     },
     "metadata": {},
     "output_type": "display_data"
    }
   ],
   "source": [
    "# Box plot\n",
    "\n",
    "fig = px.box(df,x='state',y='estimated unemployment rate',color='state',title='Unemployment rate')\n",
    "fig.update_layout(xaxis={'categoryorder':'total descending'})\n",
    "fig.show()"
   ]
  },
  {
   "cell_type": "code",
   "execution_count": 16,
   "id": "2d260995",
   "metadata": {
    "execution": {
     "iopub.execute_input": "2023-01-24T18:21:08.041284Z",
     "iopub.status.busy": "2023-01-24T18:21:08.040422Z",
     "iopub.status.idle": "2023-01-24T18:21:08.181459Z",
     "shell.execute_reply": "2023-01-24T18:21:08.180483Z"
    },
    "papermill": {
     "duration": 0.153462,
     "end_time": "2023-01-24T18:21:08.183250",
     "exception": false,
     "start_time": "2023-01-24T18:21:08.029788",
     "status": "completed"
    },
    "tags": []
   },
   "outputs": [
    {
     "data": {
      "application/vnd.plotly.v1+json": {
       "config": {
        "plotlyServerURL": "https://plot.ly"
       },
       "data": [
        {
         "alignmentgroup": "True",
         "hovertemplate": "state=%{x}<br>estimated unemployment rate=%{y}<extra></extra>",
         "legendgroup": "Andhra Pradesh",
         "marker": {
          "color": "#636efa",
          "pattern": {
           "shape": ""
          }
         },
         "name": "Andhra Pradesh",
         "offsetgroup": "Andhra Pradesh",
         "orientation": "v",
         "showlegend": true,
         "textposition": "auto",
         "type": "bar",
         "x": [
          "Andhra Pradesh"
         ],
         "xaxis": "x",
         "y": [
          8.664
         ],
         "yaxis": "y"
        },
        {
         "alignmentgroup": "True",
         "hovertemplate": "state=%{x}<br>estimated unemployment rate=%{y}<extra></extra>",
         "legendgroup": "Assam",
         "marker": {
          "color": "#EF553B",
          "pattern": {
           "shape": ""
          }
         },
         "name": "Assam",
         "offsetgroup": "Assam",
         "orientation": "v",
         "showlegend": true,
         "textposition": "auto",
         "type": "bar",
         "x": [
          "Assam"
         ],
         "xaxis": "x",
         "y": [
          4.856
         ],
         "yaxis": "y"
        },
        {
         "alignmentgroup": "True",
         "hovertemplate": "state=%{x}<br>estimated unemployment rate=%{y}<extra></extra>",
         "legendgroup": "Bihar",
         "marker": {
          "color": "#00cc96",
          "pattern": {
           "shape": ""
          }
         },
         "name": "Bihar",
         "offsetgroup": "Bihar",
         "orientation": "v",
         "showlegend": true,
         "textposition": "auto",
         "type": "bar",
         "x": [
          "Bihar"
         ],
         "xaxis": "x",
         "y": [
          19.471
         ],
         "yaxis": "y"
        },
        {
         "alignmentgroup": "True",
         "hovertemplate": "state=%{x}<br>estimated unemployment rate=%{y}<extra></extra>",
         "legendgroup": "Chhattisgarh",
         "marker": {
          "color": "#ab63fa",
          "pattern": {
           "shape": ""
          }
         },
         "name": "Chhattisgarh",
         "offsetgroup": "Chhattisgarh",
         "orientation": "v",
         "showlegend": true,
         "textposition": "auto",
         "type": "bar",
         "x": [
          "Chhattisgarh"
         ],
         "xaxis": "x",
         "y": [
          7.819
         ],
         "yaxis": "y"
        },
        {
         "alignmentgroup": "True",
         "hovertemplate": "state=%{x}<br>estimated unemployment rate=%{y}<extra></extra>",
         "legendgroup": "Delhi",
         "marker": {
          "color": "#FFA15A",
          "pattern": {
           "shape": ""
          }
         },
         "name": "Delhi",
         "offsetgroup": "Delhi",
         "orientation": "v",
         "showlegend": true,
         "textposition": "auto",
         "type": "bar",
         "x": [
          "Delhi"
         ],
         "xaxis": "x",
         "y": [
          18.414
         ],
         "yaxis": "y"
        },
        {
         "alignmentgroup": "True",
         "hovertemplate": "state=%{x}<br>estimated unemployment rate=%{y}<extra></extra>",
         "legendgroup": "Goa",
         "marker": {
          "color": "#19d3f3",
          "pattern": {
           "shape": ""
          }
         },
         "name": "Goa",
         "offsetgroup": "Goa",
         "orientation": "v",
         "showlegend": true,
         "textposition": "auto",
         "type": "bar",
         "x": [
          "Goa"
         ],
         "xaxis": "x",
         "y": [
          12.167
         ],
         "yaxis": "y"
        },
        {
         "alignmentgroup": "True",
         "hovertemplate": "state=%{x}<br>estimated unemployment rate=%{y}<extra></extra>",
         "legendgroup": "Gujarat",
         "marker": {
          "color": "#FF6692",
          "pattern": {
           "shape": ""
          }
         },
         "name": "Gujarat",
         "offsetgroup": "Gujarat",
         "orientation": "v",
         "showlegend": true,
         "textposition": "auto",
         "type": "bar",
         "x": [
          "Gujarat"
         ],
         "xaxis": "x",
         "y": [
          6.3759999999999994
         ],
         "yaxis": "y"
        },
        {
         "alignmentgroup": "True",
         "hovertemplate": "state=%{x}<br>estimated unemployment rate=%{y}<extra></extra>",
         "legendgroup": "Haryana",
         "marker": {
          "color": "#B6E880",
          "pattern": {
           "shape": ""
          }
         },
         "name": "Haryana",
         "offsetgroup": "Haryana",
         "orientation": "v",
         "showlegend": true,
         "textposition": "auto",
         "type": "bar",
         "x": [
          "Haryana"
         ],
         "xaxis": "x",
         "y": [
          27.476999999999997
         ],
         "yaxis": "y"
        },
        {
         "alignmentgroup": "True",
         "hovertemplate": "state=%{x}<br>estimated unemployment rate=%{y}<extra></extra>",
         "legendgroup": "Himachal Pradesh",
         "marker": {
          "color": "#FF97FF",
          "pattern": {
           "shape": ""
          }
         },
         "name": "Himachal Pradesh",
         "offsetgroup": "Himachal Pradesh",
         "orientation": "v",
         "showlegend": true,
         "textposition": "auto",
         "type": "bar",
         "x": [
          "Himachal Pradesh"
         ],
         "xaxis": "x",
         "y": [
          16.065
         ],
         "yaxis": "y"
        },
        {
         "alignmentgroup": "True",
         "hovertemplate": "state=%{x}<br>estimated unemployment rate=%{y}<extra></extra>",
         "legendgroup": "Jammu & Kashmir",
         "marker": {
          "color": "#FECB52",
          "pattern": {
           "shape": ""
          }
         },
         "name": "Jammu & Kashmir",
         "offsetgroup": "Jammu & Kashmir",
         "orientation": "v",
         "showlegend": true,
         "textposition": "auto",
         "type": "bar",
         "x": [
          "Jammu & Kashmir"
         ],
         "xaxis": "x",
         "y": [
          16.477777777777778
         ],
         "yaxis": "y"
        },
        {
         "alignmentgroup": "True",
         "hovertemplate": "state=%{x}<br>estimated unemployment rate=%{y}<extra></extra>",
         "legendgroup": "Jharkhand",
         "marker": {
          "color": "#636efa",
          "pattern": {
           "shape": ""
          }
         },
         "name": "Jharkhand",
         "offsetgroup": "Jharkhand",
         "orientation": "v",
         "showlegend": true,
         "textposition": "auto",
         "type": "bar",
         "x": [
          "Jharkhand"
         ],
         "xaxis": "x",
         "y": [
          19.538999999999998
         ],
         "yaxis": "y"
        },
        {
         "alignmentgroup": "True",
         "hovertemplate": "state=%{x}<br>estimated unemployment rate=%{y}<extra></extra>",
         "legendgroup": "Karnataka",
         "marker": {
          "color": "#EF553B",
          "pattern": {
           "shape": ""
          }
         },
         "name": "Karnataka",
         "offsetgroup": "Karnataka",
         "orientation": "v",
         "showlegend": true,
         "textposition": "auto",
         "type": "bar",
         "x": [
          "Karnataka"
         ],
         "xaxis": "x",
         "y": [
          7.667999999999999
         ],
         "yaxis": "y"
        },
        {
         "alignmentgroup": "True",
         "hovertemplate": "state=%{x}<br>estimated unemployment rate=%{y}<extra></extra>",
         "legendgroup": "Kerala",
         "marker": {
          "color": "#00cc96",
          "pattern": {
           "shape": ""
          }
         },
         "name": "Kerala",
         "offsetgroup": "Kerala",
         "orientation": "v",
         "showlegend": true,
         "textposition": "auto",
         "type": "bar",
         "x": [
          "Kerala"
         ],
         "xaxis": "x",
         "y": [
          9.434000000000001
         ],
         "yaxis": "y"
        },
        {
         "alignmentgroup": "True",
         "hovertemplate": "state=%{x}<br>estimated unemployment rate=%{y}<extra></extra>",
         "legendgroup": "Madhya Pradesh",
         "marker": {
          "color": "#ab63fa",
          "pattern": {
           "shape": ""
          }
         },
         "name": "Madhya Pradesh",
         "offsetgroup": "Madhya Pradesh",
         "orientation": "v",
         "showlegend": true,
         "textposition": "auto",
         "type": "bar",
         "x": [
          "Madhya Pradesh"
         ],
         "xaxis": "x",
         "y": [
          6.854000000000001
         ],
         "yaxis": "y"
        },
        {
         "alignmentgroup": "True",
         "hovertemplate": "state=%{x}<br>estimated unemployment rate=%{y}<extra></extra>",
         "legendgroup": "Maharashtra",
         "marker": {
          "color": "#FFA15A",
          "pattern": {
           "shape": ""
          }
         },
         "name": "Maharashtra",
         "offsetgroup": "Maharashtra",
         "orientation": "v",
         "showlegend": true,
         "textposition": "auto",
         "type": "bar",
         "x": [
          "Maharashtra"
         ],
         "xaxis": "x",
         "y": [
          7.979000000000001
         ],
         "yaxis": "y"
        },
        {
         "alignmentgroup": "True",
         "hovertemplate": "state=%{x}<br>estimated unemployment rate=%{y}<extra></extra>",
         "legendgroup": "Meghalaya",
         "marker": {
          "color": "#19d3f3",
          "pattern": {
           "shape": ""
          }
         },
         "name": "Meghalaya",
         "offsetgroup": "Meghalaya",
         "orientation": "v",
         "showlegend": true,
         "textposition": "auto",
         "type": "bar",
         "x": [
          "Meghalaya"
         ],
         "xaxis": "x",
         "y": [
          3.8659999999999997
         ],
         "yaxis": "y"
        },
        {
         "alignmentgroup": "True",
         "hovertemplate": "state=%{x}<br>estimated unemployment rate=%{y}<extra></extra>",
         "legendgroup": "Odisha",
         "marker": {
          "color": "#FF6692",
          "pattern": {
           "shape": ""
          }
         },
         "name": "Odisha",
         "offsetgroup": "Odisha",
         "orientation": "v",
         "showlegend": true,
         "textposition": "auto",
         "type": "bar",
         "x": [
          "Odisha"
         ],
         "xaxis": "x",
         "y": [
          6.462000000000001
         ],
         "yaxis": "y"
        },
        {
         "alignmentgroup": "True",
         "hovertemplate": "state=%{x}<br>estimated unemployment rate=%{y}<extra></extra>",
         "legendgroup": "Puducherry",
         "marker": {
          "color": "#B6E880",
          "pattern": {
           "shape": ""
          }
         },
         "name": "Puducherry",
         "offsetgroup": "Puducherry",
         "orientation": "v",
         "showlegend": true,
         "textposition": "auto",
         "type": "bar",
         "x": [
          "Puducherry"
         ],
         "xaxis": "x",
         "y": [
          17.942
         ],
         "yaxis": "y"
        },
        {
         "alignmentgroup": "True",
         "hovertemplate": "state=%{x}<br>estimated unemployment rate=%{y}<extra></extra>",
         "legendgroup": "Punjab",
         "marker": {
          "color": "#FF97FF",
          "pattern": {
           "shape": ""
          }
         },
         "name": "Punjab",
         "offsetgroup": "Punjab",
         "orientation": "v",
         "showlegend": true,
         "textposition": "auto",
         "type": "bar",
         "x": [
          "Punjab"
         ],
         "xaxis": "x",
         "y": [
          11.981
         ],
         "yaxis": "y"
        },
        {
         "alignmentgroup": "True",
         "hovertemplate": "state=%{x}<br>estimated unemployment rate=%{y}<extra></extra>",
         "legendgroup": "Rajasthan",
         "marker": {
          "color": "#FECB52",
          "pattern": {
           "shape": ""
          }
         },
         "name": "Rajasthan",
         "offsetgroup": "Rajasthan",
         "orientation": "v",
         "showlegend": true,
         "textposition": "auto",
         "type": "bar",
         "x": [
          "Rajasthan"
         ],
         "xaxis": "x",
         "y": [
          15.868
         ],
         "yaxis": "y"
        },
        {
         "alignmentgroup": "True",
         "hovertemplate": "state=%{x}<br>estimated unemployment rate=%{y}<extra></extra>",
         "legendgroup": "Sikkim",
         "marker": {
          "color": "#636efa",
          "pattern": {
           "shape": ""
          }
         },
         "name": "Sikkim",
         "offsetgroup": "Sikkim",
         "orientation": "v",
         "showlegend": true,
         "textposition": "auto",
         "type": "bar",
         "x": [
          "Sikkim"
         ],
         "xaxis": "x",
         "y": [
          9.7925
         ],
         "yaxis": "y"
        },
        {
         "alignmentgroup": "True",
         "hovertemplate": "state=%{x}<br>estimated unemployment rate=%{y}<extra></extra>",
         "legendgroup": "Tamil Nadu",
         "marker": {
          "color": "#EF553B",
          "pattern": {
           "shape": ""
          }
         },
         "name": "Tamil Nadu",
         "offsetgroup": "Tamil Nadu",
         "orientation": "v",
         "showlegend": true,
         "textposition": "auto",
         "type": "bar",
         "x": [
          "Tamil Nadu"
         ],
         "xaxis": "x",
         "y": [
          12.187
         ],
         "yaxis": "y"
        },
        {
         "alignmentgroup": "True",
         "hovertemplate": "state=%{x}<br>estimated unemployment rate=%{y}<extra></extra>",
         "legendgroup": "Telangana",
         "marker": {
          "color": "#00cc96",
          "pattern": {
           "shape": ""
          }
         },
         "name": "Telangana",
         "offsetgroup": "Telangana",
         "orientation": "v",
         "showlegend": true,
         "textposition": "auto",
         "type": "bar",
         "x": [
          "Telangana"
         ],
         "xaxis": "x",
         "y": [
          6.833
         ],
         "yaxis": "y"
        },
        {
         "alignmentgroup": "True",
         "hovertemplate": "state=%{x}<br>estimated unemployment rate=%{y}<extra></extra>",
         "legendgroup": "Tripura",
         "marker": {
          "color": "#ab63fa",
          "pattern": {
           "shape": ""
          }
         },
         "name": "Tripura",
         "offsetgroup": "Tripura",
         "orientation": "v",
         "showlegend": true,
         "textposition": "auto",
         "type": "bar",
         "x": [
          "Tripura"
         ],
         "xaxis": "x",
         "y": [
          25.055
         ],
         "yaxis": "y"
        },
        {
         "alignmentgroup": "True",
         "hovertemplate": "state=%{x}<br>estimated unemployment rate=%{y}<extra></extra>",
         "legendgroup": "Uttar Pradesh",
         "marker": {
          "color": "#FFA15A",
          "pattern": {
           "shape": ""
          }
         },
         "name": "Uttar Pradesh",
         "offsetgroup": "Uttar Pradesh",
         "orientation": "v",
         "showlegend": true,
         "textposition": "auto",
         "type": "bar",
         "x": [
          "Uttar Pradesh"
         ],
         "xaxis": "x",
         "y": [
          9.737
         ],
         "yaxis": "y"
        },
        {
         "alignmentgroup": "True",
         "hovertemplate": "state=%{x}<br>estimated unemployment rate=%{y}<extra></extra>",
         "legendgroup": "Uttarakhand",
         "marker": {
          "color": "#19d3f3",
          "pattern": {
           "shape": ""
          }
         },
         "name": "Uttarakhand",
         "offsetgroup": "Uttarakhand",
         "orientation": "v",
         "showlegend": true,
         "textposition": "auto",
         "type": "bar",
         "x": [
          "Uttarakhand"
         ],
         "xaxis": "x",
         "y": [
          11.156
         ],
         "yaxis": "y"
        },
        {
         "alignmentgroup": "True",
         "hovertemplate": "state=%{x}<br>estimated unemployment rate=%{y}<extra></extra>",
         "legendgroup": "West Bengal",
         "marker": {
          "color": "#FF6692",
          "pattern": {
           "shape": ""
          }
         },
         "name": "West Bengal",
         "offsetgroup": "West Bengal",
         "orientation": "v",
         "showlegend": true,
         "textposition": "auto",
         "type": "bar",
         "x": [
          "West Bengal"
         ],
         "xaxis": "x",
         "y": [
          10.192
         ],
         "yaxis": "y"
        }
       ],
       "layout": {
        "barmode": "relative",
        "legend": {
         "title": {
          "text": "state"
         },
         "tracegroupgap": 0
        },
        "template": {
         "data": {
          "bar": [
           {
            "error_x": {
             "color": "#2a3f5f"
            },
            "error_y": {
             "color": "#2a3f5f"
            },
            "marker": {
             "line": {
              "color": "#E5ECF6",
              "width": 0.5
             },
             "pattern": {
              "fillmode": "overlay",
              "size": 10,
              "solidity": 0.2
             }
            },
            "type": "bar"
           }
          ],
          "barpolar": [
           {
            "marker": {
             "line": {
              "color": "#E5ECF6",
              "width": 0.5
             },
             "pattern": {
              "fillmode": "overlay",
              "size": 10,
              "solidity": 0.2
             }
            },
            "type": "barpolar"
           }
          ],
          "carpet": [
           {
            "aaxis": {
             "endlinecolor": "#2a3f5f",
             "gridcolor": "white",
             "linecolor": "white",
             "minorgridcolor": "white",
             "startlinecolor": "#2a3f5f"
            },
            "baxis": {
             "endlinecolor": "#2a3f5f",
             "gridcolor": "white",
             "linecolor": "white",
             "minorgridcolor": "white",
             "startlinecolor": "#2a3f5f"
            },
            "type": "carpet"
           }
          ],
          "choropleth": [
           {
            "colorbar": {
             "outlinewidth": 0,
             "ticks": ""
            },
            "type": "choropleth"
           }
          ],
          "contour": [
           {
            "colorbar": {
             "outlinewidth": 0,
             "ticks": ""
            },
            "colorscale": [
             [
              0,
              "#0d0887"
             ],
             [
              0.1111111111111111,
              "#46039f"
             ],
             [
              0.2222222222222222,
              "#7201a8"
             ],
             [
              0.3333333333333333,
              "#9c179e"
             ],
             [
              0.4444444444444444,
              "#bd3786"
             ],
             [
              0.5555555555555556,
              "#d8576b"
             ],
             [
              0.6666666666666666,
              "#ed7953"
             ],
             [
              0.7777777777777778,
              "#fb9f3a"
             ],
             [
              0.8888888888888888,
              "#fdca26"
             ],
             [
              1,
              "#f0f921"
             ]
            ],
            "type": "contour"
           }
          ],
          "contourcarpet": [
           {
            "colorbar": {
             "outlinewidth": 0,
             "ticks": ""
            },
            "type": "contourcarpet"
           }
          ],
          "heatmap": [
           {
            "colorbar": {
             "outlinewidth": 0,
             "ticks": ""
            },
            "colorscale": [
             [
              0,
              "#0d0887"
             ],
             [
              0.1111111111111111,
              "#46039f"
             ],
             [
              0.2222222222222222,
              "#7201a8"
             ],
             [
              0.3333333333333333,
              "#9c179e"
             ],
             [
              0.4444444444444444,
              "#bd3786"
             ],
             [
              0.5555555555555556,
              "#d8576b"
             ],
             [
              0.6666666666666666,
              "#ed7953"
             ],
             [
              0.7777777777777778,
              "#fb9f3a"
             ],
             [
              0.8888888888888888,
              "#fdca26"
             ],
             [
              1,
              "#f0f921"
             ]
            ],
            "type": "heatmap"
           }
          ],
          "heatmapgl": [
           {
            "colorbar": {
             "outlinewidth": 0,
             "ticks": ""
            },
            "colorscale": [
             [
              0,
              "#0d0887"
             ],
             [
              0.1111111111111111,
              "#46039f"
             ],
             [
              0.2222222222222222,
              "#7201a8"
             ],
             [
              0.3333333333333333,
              "#9c179e"
             ],
             [
              0.4444444444444444,
              "#bd3786"
             ],
             [
              0.5555555555555556,
              "#d8576b"
             ],
             [
              0.6666666666666666,
              "#ed7953"
             ],
             [
              0.7777777777777778,
              "#fb9f3a"
             ],
             [
              0.8888888888888888,
              "#fdca26"
             ],
             [
              1,
              "#f0f921"
             ]
            ],
            "type": "heatmapgl"
           }
          ],
          "histogram": [
           {
            "marker": {
             "pattern": {
              "fillmode": "overlay",
              "size": 10,
              "solidity": 0.2
             }
            },
            "type": "histogram"
           }
          ],
          "histogram2d": [
           {
            "colorbar": {
             "outlinewidth": 0,
             "ticks": ""
            },
            "colorscale": [
             [
              0,
              "#0d0887"
             ],
             [
              0.1111111111111111,
              "#46039f"
             ],
             [
              0.2222222222222222,
              "#7201a8"
             ],
             [
              0.3333333333333333,
              "#9c179e"
             ],
             [
              0.4444444444444444,
              "#bd3786"
             ],
             [
              0.5555555555555556,
              "#d8576b"
             ],
             [
              0.6666666666666666,
              "#ed7953"
             ],
             [
              0.7777777777777778,
              "#fb9f3a"
             ],
             [
              0.8888888888888888,
              "#fdca26"
             ],
             [
              1,
              "#f0f921"
             ]
            ],
            "type": "histogram2d"
           }
          ],
          "histogram2dcontour": [
           {
            "colorbar": {
             "outlinewidth": 0,
             "ticks": ""
            },
            "colorscale": [
             [
              0,
              "#0d0887"
             ],
             [
              0.1111111111111111,
              "#46039f"
             ],
             [
              0.2222222222222222,
              "#7201a8"
             ],
             [
              0.3333333333333333,
              "#9c179e"
             ],
             [
              0.4444444444444444,
              "#bd3786"
             ],
             [
              0.5555555555555556,
              "#d8576b"
             ],
             [
              0.6666666666666666,
              "#ed7953"
             ],
             [
              0.7777777777777778,
              "#fb9f3a"
             ],
             [
              0.8888888888888888,
              "#fdca26"
             ],
             [
              1,
              "#f0f921"
             ]
            ],
            "type": "histogram2dcontour"
           }
          ],
          "mesh3d": [
           {
            "colorbar": {
             "outlinewidth": 0,
             "ticks": ""
            },
            "type": "mesh3d"
           }
          ],
          "parcoords": [
           {
            "line": {
             "colorbar": {
              "outlinewidth": 0,
              "ticks": ""
             }
            },
            "type": "parcoords"
           }
          ],
          "pie": [
           {
            "automargin": true,
            "type": "pie"
           }
          ],
          "scatter": [
           {
            "fillpattern": {
             "fillmode": "overlay",
             "size": 10,
             "solidity": 0.2
            },
            "type": "scatter"
           }
          ],
          "scatter3d": [
           {
            "line": {
             "colorbar": {
              "outlinewidth": 0,
              "ticks": ""
             }
            },
            "marker": {
             "colorbar": {
              "outlinewidth": 0,
              "ticks": ""
             }
            },
            "type": "scatter3d"
           }
          ],
          "scattercarpet": [
           {
            "marker": {
             "colorbar": {
              "outlinewidth": 0,
              "ticks": ""
             }
            },
            "type": "scattercarpet"
           }
          ],
          "scattergeo": [
           {
            "marker": {
             "colorbar": {
              "outlinewidth": 0,
              "ticks": ""
             }
            },
            "type": "scattergeo"
           }
          ],
          "scattergl": [
           {
            "marker": {
             "colorbar": {
              "outlinewidth": 0,
              "ticks": ""
             }
            },
            "type": "scattergl"
           }
          ],
          "scattermapbox": [
           {
            "marker": {
             "colorbar": {
              "outlinewidth": 0,
              "ticks": ""
             }
            },
            "type": "scattermapbox"
           }
          ],
          "scatterpolar": [
           {
            "marker": {
             "colorbar": {
              "outlinewidth": 0,
              "ticks": ""
             }
            },
            "type": "scatterpolar"
           }
          ],
          "scatterpolargl": [
           {
            "marker": {
             "colorbar": {
              "outlinewidth": 0,
              "ticks": ""
             }
            },
            "type": "scatterpolargl"
           }
          ],
          "scatterternary": [
           {
            "marker": {
             "colorbar": {
              "outlinewidth": 0,
              "ticks": ""
             }
            },
            "type": "scatterternary"
           }
          ],
          "surface": [
           {
            "colorbar": {
             "outlinewidth": 0,
             "ticks": ""
            },
            "colorscale": [
             [
              0,
              "#0d0887"
             ],
             [
              0.1111111111111111,
              "#46039f"
             ],
             [
              0.2222222222222222,
              "#7201a8"
             ],
             [
              0.3333333333333333,
              "#9c179e"
             ],
             [
              0.4444444444444444,
              "#bd3786"
             ],
             [
              0.5555555555555556,
              "#d8576b"
             ],
             [
              0.6666666666666666,
              "#ed7953"
             ],
             [
              0.7777777777777778,
              "#fb9f3a"
             ],
             [
              0.8888888888888888,
              "#fdca26"
             ],
             [
              1,
              "#f0f921"
             ]
            ],
            "type": "surface"
           }
          ],
          "table": [
           {
            "cells": {
             "fill": {
              "color": "#EBF0F8"
             },
             "line": {
              "color": "white"
             }
            },
            "header": {
             "fill": {
              "color": "#C8D4E3"
             },
             "line": {
              "color": "white"
             }
            },
            "type": "table"
           }
          ]
         },
         "layout": {
          "annotationdefaults": {
           "arrowcolor": "#2a3f5f",
           "arrowhead": 0,
           "arrowwidth": 1
          },
          "autotypenumbers": "strict",
          "coloraxis": {
           "colorbar": {
            "outlinewidth": 0,
            "ticks": ""
           }
          },
          "colorscale": {
           "diverging": [
            [
             0,
             "#8e0152"
            ],
            [
             0.1,
             "#c51b7d"
            ],
            [
             0.2,
             "#de77ae"
            ],
            [
             0.3,
             "#f1b6da"
            ],
            [
             0.4,
             "#fde0ef"
            ],
            [
             0.5,
             "#f7f7f7"
            ],
            [
             0.6,
             "#e6f5d0"
            ],
            [
             0.7,
             "#b8e186"
            ],
            [
             0.8,
             "#7fbc41"
            ],
            [
             0.9,
             "#4d9221"
            ],
            [
             1,
             "#276419"
            ]
           ],
           "sequential": [
            [
             0,
             "#0d0887"
            ],
            [
             0.1111111111111111,
             "#46039f"
            ],
            [
             0.2222222222222222,
             "#7201a8"
            ],
            [
             0.3333333333333333,
             "#9c179e"
            ],
            [
             0.4444444444444444,
             "#bd3786"
            ],
            [
             0.5555555555555556,
             "#d8576b"
            ],
            [
             0.6666666666666666,
             "#ed7953"
            ],
            [
             0.7777777777777778,
             "#fb9f3a"
            ],
            [
             0.8888888888888888,
             "#fdca26"
            ],
            [
             1,
             "#f0f921"
            ]
           ],
           "sequentialminus": [
            [
             0,
             "#0d0887"
            ],
            [
             0.1111111111111111,
             "#46039f"
            ],
            [
             0.2222222222222222,
             "#7201a8"
            ],
            [
             0.3333333333333333,
             "#9c179e"
            ],
            [
             0.4444444444444444,
             "#bd3786"
            ],
            [
             0.5555555555555556,
             "#d8576b"
            ],
            [
             0.6666666666666666,
             "#ed7953"
            ],
            [
             0.7777777777777778,
             "#fb9f3a"
            ],
            [
             0.8888888888888888,
             "#fdca26"
            ],
            [
             1,
             "#f0f921"
            ]
           ]
          },
          "colorway": [
           "#636efa",
           "#EF553B",
           "#00cc96",
           "#ab63fa",
           "#FFA15A",
           "#19d3f3",
           "#FF6692",
           "#B6E880",
           "#FF97FF",
           "#FECB52"
          ],
          "font": {
           "color": "#2a3f5f"
          },
          "geo": {
           "bgcolor": "white",
           "lakecolor": "white",
           "landcolor": "#E5ECF6",
           "showlakes": true,
           "showland": true,
           "subunitcolor": "white"
          },
          "hoverlabel": {
           "align": "left"
          },
          "hovermode": "closest",
          "mapbox": {
           "style": "light"
          },
          "paper_bgcolor": "white",
          "plot_bgcolor": "#E5ECF6",
          "polar": {
           "angularaxis": {
            "gridcolor": "white",
            "linecolor": "white",
            "ticks": ""
           },
           "bgcolor": "#E5ECF6",
           "radialaxis": {
            "gridcolor": "white",
            "linecolor": "white",
            "ticks": ""
           }
          },
          "scene": {
           "xaxis": {
            "backgroundcolor": "#E5ECF6",
            "gridcolor": "white",
            "gridwidth": 2,
            "linecolor": "white",
            "showbackground": true,
            "ticks": "",
            "zerolinecolor": "white"
           },
           "yaxis": {
            "backgroundcolor": "#E5ECF6",
            "gridcolor": "white",
            "gridwidth": 2,
            "linecolor": "white",
            "showbackground": true,
            "ticks": "",
            "zerolinecolor": "white"
           },
           "zaxis": {
            "backgroundcolor": "#E5ECF6",
            "gridcolor": "white",
            "gridwidth": 2,
            "linecolor": "white",
            "showbackground": true,
            "ticks": "",
            "zerolinecolor": "white"
           }
          },
          "shapedefaults": {
           "line": {
            "color": "#2a3f5f"
           }
          },
          "ternary": {
           "aaxis": {
            "gridcolor": "white",
            "linecolor": "white",
            "ticks": ""
           },
           "baxis": {
            "gridcolor": "white",
            "linecolor": "white",
            "ticks": ""
           },
           "bgcolor": "#E5ECF6",
           "caxis": {
            "gridcolor": "white",
            "linecolor": "white",
            "ticks": ""
           }
          },
          "title": {
           "x": 0.05
          },
          "xaxis": {
           "automargin": true,
           "gridcolor": "white",
           "linecolor": "white",
           "ticks": "",
           "title": {
            "standoff": 15
           },
           "zerolinecolor": "white",
           "zerolinewidth": 2
          },
          "yaxis": {
           "automargin": true,
           "gridcolor": "white",
           "linecolor": "white",
           "ticks": "",
           "title": {
            "standoff": 15
           },
           "zerolinecolor": "white",
           "zerolinewidth": 2
          }
         }
        },
        "title": {
         "text": "Average unemploment Rate (State)"
        },
        "xaxis": {
         "anchor": "y",
         "categoryarray": [
          "Andhra Pradesh",
          "Assam",
          "Bihar",
          "Chhattisgarh",
          "Delhi",
          "Goa",
          "Gujarat",
          "Haryana",
          "Himachal Pradesh",
          "Jammu & Kashmir",
          "Jharkhand",
          "Karnataka",
          "Kerala",
          "Madhya Pradesh",
          "Maharashtra",
          "Meghalaya",
          "Odisha",
          "Puducherry",
          "Punjab",
          "Rajasthan",
          "Sikkim",
          "Tamil Nadu",
          "Telangana",
          "Tripura",
          "Uttar Pradesh",
          "Uttarakhand",
          "West Bengal"
         ],
         "categoryorder": "total descending",
         "domain": [
          0,
          1
         ],
         "title": {
          "text": "state"
         }
        },
        "yaxis": {
         "anchor": "x",
         "domain": [
          0,
          1
         ],
         "title": {
          "text": "estimated unemployment rate"
         }
        }
       }
      }
     },
     "metadata": {},
     "output_type": "display_data"
    }
   ],
   "source": [
    "# average unemployment rate bar plot\n",
    "fig = px.bar(state, x='state', y=\"estimated unemployment rate\", color=\"state\", title=\"Average unemploment Rate (State)\")\n",
    "fig.update_layout(xaxis={'categoryorder':'total descending'})\n",
    "\n",
    "fig.show()"
   ]
  },
  {
   "cell_type": "code",
   "execution_count": 17,
   "id": "7400ded4",
   "metadata": {
    "execution": {
     "iopub.execute_input": "2023-01-24T18:21:08.205251Z",
     "iopub.status.busy": "2023-01-24T18:21:08.203952Z",
     "iopub.status.idle": "2023-01-24T18:21:09.357473Z",
     "shell.execute_reply": "2023-01-24T18:21:09.356470Z"
    },
    "papermill": {
     "duration": 1.166941,
     "end_time": "2023-01-24T18:21:09.359963",
     "exception": false,
     "start_time": "2023-01-24T18:21:08.193022",
     "status": "completed"
    },
    "tags": []
   },
   "outputs": [
    {
     "data": {
      "application/vnd.plotly.v1+json": {
       "config": {
        "plotlyServerURL": "https://plot.ly"
       },
       "data": [
        {
         "alignmentgroup": "True",
         "hovertemplate": "state=%{x}<br>month=Jan<br>estimated unemployment rate=%{y}<extra></extra>",
         "legendgroup": "Andhra Pradesh",
         "marker": {
          "color": "#636efa",
          "pattern": {
           "shape": ""
          }
         },
         "name": "Andhra Pradesh",
         "offsetgroup": "Andhra Pradesh",
         "orientation": "v",
         "showlegend": true,
         "textposition": "auto",
         "type": "bar",
         "x": [
          "Andhra Pradesh"
         ],
         "xaxis": "x",
         "y": [
          5.48
         ],
         "yaxis": "y"
        },
        {
         "alignmentgroup": "True",
         "hovertemplate": "state=%{x}<br>month=Jan<br>estimated unemployment rate=%{y}<extra></extra>",
         "legendgroup": "Assam",
         "marker": {
          "color": "#EF553B",
          "pattern": {
           "shape": ""
          }
         },
         "name": "Assam",
         "offsetgroup": "Assam",
         "orientation": "v",
         "showlegend": true,
         "textposition": "auto",
         "type": "bar",
         "x": [
          "Assam"
         ],
         "xaxis": "x",
         "y": [
          4.66
         ],
         "yaxis": "y"
        },
        {
         "alignmentgroup": "True",
         "hovertemplate": "state=%{x}<br>month=Jan<br>estimated unemployment rate=%{y}<extra></extra>",
         "legendgroup": "Bihar",
         "marker": {
          "color": "#00cc96",
          "pattern": {
           "shape": ""
          }
         },
         "name": "Bihar",
         "offsetgroup": "Bihar",
         "orientation": "v",
         "showlegend": true,
         "textposition": "auto",
         "type": "bar",
         "x": [
          "Bihar"
         ],
         "xaxis": "x",
         "y": [
          10.61
         ],
         "yaxis": "y"
        },
        {
         "alignmentgroup": "True",
         "hovertemplate": "state=%{x}<br>month=Jan<br>estimated unemployment rate=%{y}<extra></extra>",
         "legendgroup": "Chhattisgarh",
         "marker": {
          "color": "#ab63fa",
          "pattern": {
           "shape": ""
          }
         },
         "name": "Chhattisgarh",
         "offsetgroup": "Chhattisgarh",
         "orientation": "v",
         "showlegend": true,
         "textposition": "auto",
         "type": "bar",
         "x": [
          "Chhattisgarh"
         ],
         "xaxis": "x",
         "y": [
          9.65
         ],
         "yaxis": "y"
        },
        {
         "alignmentgroup": "True",
         "hovertemplate": "state=%{x}<br>month=Jan<br>estimated unemployment rate=%{y}<extra></extra>",
         "legendgroup": "Delhi",
         "marker": {
          "color": "#FFA15A",
          "pattern": {
           "shape": ""
          }
         },
         "name": "Delhi",
         "offsetgroup": "Delhi",
         "orientation": "v",
         "showlegend": true,
         "textposition": "auto",
         "type": "bar",
         "x": [
          "Delhi"
         ],
         "xaxis": "x",
         "y": [
          22.23
         ],
         "yaxis": "y"
        },
        {
         "alignmentgroup": "True",
         "hovertemplate": "state=%{x}<br>month=Jan<br>estimated unemployment rate=%{y}<extra></extra>",
         "legendgroup": "Goa",
         "marker": {
          "color": "#19d3f3",
          "pattern": {
           "shape": ""
          }
         },
         "name": "Goa",
         "offsetgroup": "Goa",
         "orientation": "v",
         "showlegend": true,
         "textposition": "auto",
         "type": "bar",
         "x": [
          "Goa"
         ],
         "xaxis": "x",
         "y": [
          8.89
         ],
         "yaxis": "y"
        },
        {
         "alignmentgroup": "True",
         "hovertemplate": "state=%{x}<br>month=Jan<br>estimated unemployment rate=%{y}<extra></extra>",
         "legendgroup": "Gujarat",
         "marker": {
          "color": "#FF6692",
          "pattern": {
           "shape": ""
          }
         },
         "name": "Gujarat",
         "offsetgroup": "Gujarat",
         "orientation": "v",
         "showlegend": true,
         "textposition": "auto",
         "type": "bar",
         "x": [
          "Gujarat"
         ],
         "xaxis": "x",
         "y": [
          5.54
         ],
         "yaxis": "y"
        },
        {
         "alignmentgroup": "True",
         "hovertemplate": "state=%{x}<br>month=Jan<br>estimated unemployment rate=%{y}<extra></extra>",
         "legendgroup": "Haryana",
         "marker": {
          "color": "#B6E880",
          "pattern": {
           "shape": ""
          }
         },
         "name": "Haryana",
         "offsetgroup": "Haryana",
         "orientation": "v",
         "showlegend": true,
         "textposition": "auto",
         "type": "bar",
         "x": [
          "Haryana"
         ],
         "xaxis": "x",
         "y": [
          20.34
         ],
         "yaxis": "y"
        },
        {
         "alignmentgroup": "True",
         "hovertemplate": "state=%{x}<br>month=Jan<br>estimated unemployment rate=%{y}<extra></extra>",
         "legendgroup": "Himachal Pradesh",
         "marker": {
          "color": "#FF97FF",
          "pattern": {
           "shape": ""
          }
         },
         "name": "Himachal Pradesh",
         "offsetgroup": "Himachal Pradesh",
         "orientation": "v",
         "showlegend": true,
         "textposition": "auto",
         "type": "bar",
         "x": [
          "Himachal Pradesh"
         ],
         "xaxis": "x",
         "y": [
          16.83
         ],
         "yaxis": "y"
        },
        {
         "alignmentgroup": "True",
         "hovertemplate": "state=%{x}<br>month=Jan<br>estimated unemployment rate=%{y}<extra></extra>",
         "legendgroup": "Jammu & Kashmir",
         "marker": {
          "color": "#FECB52",
          "pattern": {
           "shape": ""
          }
         },
         "name": "Jammu & Kashmir",
         "offsetgroup": "Jammu & Kashmir",
         "orientation": "v",
         "showlegend": true,
         "textposition": "auto",
         "type": "bar",
         "x": [
          "Jammu & Kashmir"
         ],
         "xaxis": "x",
         "y": [
          21.08
         ],
         "yaxis": "y"
        },
        {
         "alignmentgroup": "True",
         "hovertemplate": "state=%{x}<br>month=Jan<br>estimated unemployment rate=%{y}<extra></extra>",
         "legendgroup": "Jharkhand",
         "marker": {
          "color": "#636efa",
          "pattern": {
           "shape": ""
          }
         },
         "name": "Jharkhand",
         "offsetgroup": "Jharkhand",
         "orientation": "v",
         "showlegend": true,
         "textposition": "auto",
         "type": "bar",
         "x": [
          "Jharkhand"
         ],
         "xaxis": "x",
         "y": [
          10.61
         ],
         "yaxis": "y"
        },
        {
         "alignmentgroup": "True",
         "hovertemplate": "state=%{x}<br>month=Jan<br>estimated unemployment rate=%{y}<extra></extra>",
         "legendgroup": "Karnataka",
         "marker": {
          "color": "#EF553B",
          "pattern": {
           "shape": ""
          }
         },
         "name": "Karnataka",
         "offsetgroup": "Karnataka",
         "orientation": "v",
         "showlegend": true,
         "textposition": "auto",
         "type": "bar",
         "x": [
          "Karnataka"
         ],
         "xaxis": "x",
         "y": [
          2.86
         ],
         "yaxis": "y"
        },
        {
         "alignmentgroup": "True",
         "hovertemplate": "state=%{x}<br>month=Jan<br>estimated unemployment rate=%{y}<extra></extra>",
         "legendgroup": "Kerala",
         "marker": {
          "color": "#00cc96",
          "pattern": {
           "shape": ""
          }
         },
         "name": "Kerala",
         "offsetgroup": "Kerala",
         "orientation": "v",
         "showlegend": true,
         "textposition": "auto",
         "type": "bar",
         "x": [
          "Kerala"
         ],
         "xaxis": "x",
         "y": [
          5.31
         ],
         "yaxis": "y"
        },
        {
         "alignmentgroup": "True",
         "hovertemplate": "state=%{x}<br>month=Jan<br>estimated unemployment rate=%{y}<extra></extra>",
         "legendgroup": "Madhya Pradesh",
         "marker": {
          "color": "#ab63fa",
          "pattern": {
           "shape": ""
          }
         },
         "name": "Madhya Pradesh",
         "offsetgroup": "Madhya Pradesh",
         "orientation": "v",
         "showlegend": true,
         "textposition": "auto",
         "type": "bar",
         "x": [
          "Madhya Pradesh"
         ],
         "xaxis": "x",
         "y": [
          4.11
         ],
         "yaxis": "y"
        },
        {
         "alignmentgroup": "True",
         "hovertemplate": "state=%{x}<br>month=Jan<br>estimated unemployment rate=%{y}<extra></extra>",
         "legendgroup": "Maharashtra",
         "marker": {
          "color": "#FFA15A",
          "pattern": {
           "shape": ""
          }
         },
         "name": "Maharashtra",
         "offsetgroup": "Maharashtra",
         "orientation": "v",
         "showlegend": true,
         "textposition": "auto",
         "type": "bar",
         "x": [
          "Maharashtra"
         ],
         "xaxis": "x",
         "y": [
          4.95
         ],
         "yaxis": "y"
        },
        {
         "alignmentgroup": "True",
         "hovertemplate": "state=%{x}<br>month=Jan<br>estimated unemployment rate=%{y}<extra></extra>",
         "legendgroup": "Meghalaya",
         "marker": {
          "color": "#19d3f3",
          "pattern": {
           "shape": ""
          }
         },
         "name": "Meghalaya",
         "offsetgroup": "Meghalaya",
         "orientation": "v",
         "showlegend": true,
         "textposition": "auto",
         "type": "bar",
         "x": [
          "Meghalaya"
         ],
         "xaxis": "x",
         "y": [
          1.66
         ],
         "yaxis": "y"
        },
        {
         "alignmentgroup": "True",
         "hovertemplate": "state=%{x}<br>month=Jan<br>estimated unemployment rate=%{y}<extra></extra>",
         "legendgroup": "Odisha",
         "marker": {
          "color": "#FF6692",
          "pattern": {
           "shape": ""
          }
         },
         "name": "Odisha",
         "offsetgroup": "Odisha",
         "orientation": "v",
         "showlegend": true,
         "textposition": "auto",
         "type": "bar",
         "x": [
          "Odisha"
         ],
         "xaxis": "x",
         "y": [
          1.9
         ],
         "yaxis": "y"
        },
        {
         "alignmentgroup": "True",
         "hovertemplate": "state=%{x}<br>month=Jan<br>estimated unemployment rate=%{y}<extra></extra>",
         "legendgroup": "Puducherry",
         "marker": {
          "color": "#B6E880",
          "pattern": {
           "shape": ""
          }
         },
         "name": "Puducherry",
         "offsetgroup": "Puducherry",
         "orientation": "v",
         "showlegend": true,
         "textposition": "auto",
         "type": "bar",
         "x": [
          "Puducherry"
         ],
         "xaxis": "x",
         "y": [
          0.58
         ],
         "yaxis": "y"
        },
        {
         "alignmentgroup": "True",
         "hovertemplate": "state=%{x}<br>month=Jan<br>estimated unemployment rate=%{y}<extra></extra>",
         "legendgroup": "Punjab",
         "marker": {
          "color": "#FF97FF",
          "pattern": {
           "shape": ""
          }
         },
         "name": "Punjab",
         "offsetgroup": "Punjab",
         "orientation": "v",
         "showlegend": true,
         "textposition": "auto",
         "type": "bar",
         "x": [
          "Punjab"
         ],
         "xaxis": "x",
         "y": [
          11.11
         ],
         "yaxis": "y"
        },
        {
         "alignmentgroup": "True",
         "hovertemplate": "state=%{x}<br>month=Jan<br>estimated unemployment rate=%{y}<extra></extra>",
         "legendgroup": "Rajasthan",
         "marker": {
          "color": "#FECB52",
          "pattern": {
           "shape": ""
          }
         },
         "name": "Rajasthan",
         "offsetgroup": "Rajasthan",
         "orientation": "v",
         "showlegend": true,
         "textposition": "auto",
         "type": "bar",
         "x": [
          "Rajasthan"
         ],
         "xaxis": "x",
         "y": [
          10.97
         ],
         "yaxis": "y"
        },
        {
         "alignmentgroup": "True",
         "hovertemplate": "state=%{x}<br>month=Jan<br>estimated unemployment rate=%{y}<extra></extra>",
         "legendgroup": "Tamil Nadu",
         "marker": {
          "color": "#EF553B",
          "pattern": {
           "shape": ""
          }
         },
         "name": "Tamil Nadu",
         "offsetgroup": "Tamil Nadu",
         "orientation": "v",
         "showlegend": true,
         "textposition": "auto",
         "type": "bar",
         "x": [
          "Tamil Nadu"
         ],
         "xaxis": "x",
         "y": [
          1.57
         ],
         "yaxis": "y"
        },
        {
         "alignmentgroup": "True",
         "hovertemplate": "state=%{x}<br>month=Jan<br>estimated unemployment rate=%{y}<extra></extra>",
         "legendgroup": "Telangana",
         "marker": {
          "color": "#00cc96",
          "pattern": {
           "shape": ""
          }
         },
         "name": "Telangana",
         "offsetgroup": "Telangana",
         "orientation": "v",
         "showlegend": true,
         "textposition": "auto",
         "type": "bar",
         "x": [
          "Telangana"
         ],
         "xaxis": "x",
         "y": [
          5.49
         ],
         "yaxis": "y"
        },
        {
         "alignmentgroup": "True",
         "hovertemplate": "state=%{x}<br>month=Jan<br>estimated unemployment rate=%{y}<extra></extra>",
         "legendgroup": "Tripura",
         "marker": {
          "color": "#ab63fa",
          "pattern": {
           "shape": ""
          }
         },
         "name": "Tripura",
         "offsetgroup": "Tripura",
         "orientation": "v",
         "showlegend": true,
         "textposition": "auto",
         "type": "bar",
         "x": [
          "Tripura"
         ],
         "xaxis": "x",
         "y": [
          32.67
         ],
         "yaxis": "y"
        },
        {
         "alignmentgroup": "True",
         "hovertemplate": "state=%{x}<br>month=Jan<br>estimated unemployment rate=%{y}<extra></extra>",
         "legendgroup": "Uttar Pradesh",
         "marker": {
          "color": "#FFA15A",
          "pattern": {
           "shape": ""
          }
         },
         "name": "Uttar Pradesh",
         "offsetgroup": "Uttar Pradesh",
         "orientation": "v",
         "showlegend": true,
         "textposition": "auto",
         "type": "bar",
         "x": [
          "Uttar Pradesh"
         ],
         "xaxis": "x",
         "y": [
          7.58
         ],
         "yaxis": "y"
        },
        {
         "alignmentgroup": "True",
         "hovertemplate": "state=%{x}<br>month=Jan<br>estimated unemployment rate=%{y}<extra></extra>",
         "legendgroup": "Uttarakhand",
         "marker": {
          "color": "#19d3f3",
          "pattern": {
           "shape": ""
          }
         },
         "name": "Uttarakhand",
         "offsetgroup": "Uttarakhand",
         "orientation": "v",
         "showlegend": true,
         "textposition": "auto",
         "type": "bar",
         "x": [
          "Uttarakhand"
         ],
         "xaxis": "x",
         "y": [
          5.49
         ],
         "yaxis": "y"
        },
        {
         "alignmentgroup": "True",
         "hovertemplate": "state=%{x}<br>month=Jan<br>estimated unemployment rate=%{y}<extra></extra>",
         "legendgroup": "West Bengal",
         "marker": {
          "color": "#FF6692",
          "pattern": {
           "shape": ""
          }
         },
         "name": "West Bengal",
         "offsetgroup": "West Bengal",
         "orientation": "v",
         "showlegend": true,
         "textposition": "auto",
         "type": "bar",
         "x": [
          "West Bengal"
         ],
         "xaxis": "x",
         "y": [
          6.94
         ],
         "yaxis": "y"
        }
       ],
       "frames": [
        {
         "data": [
          {
           "alignmentgroup": "True",
           "hovertemplate": "state=%{x}<br>month=Jan<br>estimated unemployment rate=%{y}<extra></extra>",
           "legendgroup": "Andhra Pradesh",
           "marker": {
            "color": "#636efa",
            "pattern": {
             "shape": ""
            }
           },
           "name": "Andhra Pradesh",
           "offsetgroup": "Andhra Pradesh",
           "orientation": "v",
           "showlegend": true,
           "textposition": "auto",
           "type": "bar",
           "x": [
            "Andhra Pradesh"
           ],
           "xaxis": "x",
           "y": [
            5.48
           ],
           "yaxis": "y"
          },
          {
           "alignmentgroup": "True",
           "hovertemplate": "state=%{x}<br>month=Jan<br>estimated unemployment rate=%{y}<extra></extra>",
           "legendgroup": "Assam",
           "marker": {
            "color": "#EF553B",
            "pattern": {
             "shape": ""
            }
           },
           "name": "Assam",
           "offsetgroup": "Assam",
           "orientation": "v",
           "showlegend": true,
           "textposition": "auto",
           "type": "bar",
           "x": [
            "Assam"
           ],
           "xaxis": "x",
           "y": [
            4.66
           ],
           "yaxis": "y"
          },
          {
           "alignmentgroup": "True",
           "hovertemplate": "state=%{x}<br>month=Jan<br>estimated unemployment rate=%{y}<extra></extra>",
           "legendgroup": "Bihar",
           "marker": {
            "color": "#00cc96",
            "pattern": {
             "shape": ""
            }
           },
           "name": "Bihar",
           "offsetgroup": "Bihar",
           "orientation": "v",
           "showlegend": true,
           "textposition": "auto",
           "type": "bar",
           "x": [
            "Bihar"
           ],
           "xaxis": "x",
           "y": [
            10.61
           ],
           "yaxis": "y"
          },
          {
           "alignmentgroup": "True",
           "hovertemplate": "state=%{x}<br>month=Jan<br>estimated unemployment rate=%{y}<extra></extra>",
           "legendgroup": "Chhattisgarh",
           "marker": {
            "color": "#ab63fa",
            "pattern": {
             "shape": ""
            }
           },
           "name": "Chhattisgarh",
           "offsetgroup": "Chhattisgarh",
           "orientation": "v",
           "showlegend": true,
           "textposition": "auto",
           "type": "bar",
           "x": [
            "Chhattisgarh"
           ],
           "xaxis": "x",
           "y": [
            9.65
           ],
           "yaxis": "y"
          },
          {
           "alignmentgroup": "True",
           "hovertemplate": "state=%{x}<br>month=Jan<br>estimated unemployment rate=%{y}<extra></extra>",
           "legendgroup": "Delhi",
           "marker": {
            "color": "#FFA15A",
            "pattern": {
             "shape": ""
            }
           },
           "name": "Delhi",
           "offsetgroup": "Delhi",
           "orientation": "v",
           "showlegend": true,
           "textposition": "auto",
           "type": "bar",
           "x": [
            "Delhi"
           ],
           "xaxis": "x",
           "y": [
            22.23
           ],
           "yaxis": "y"
          },
          {
           "alignmentgroup": "True",
           "hovertemplate": "state=%{x}<br>month=Jan<br>estimated unemployment rate=%{y}<extra></extra>",
           "legendgroup": "Goa",
           "marker": {
            "color": "#19d3f3",
            "pattern": {
             "shape": ""
            }
           },
           "name": "Goa",
           "offsetgroup": "Goa",
           "orientation": "v",
           "showlegend": true,
           "textposition": "auto",
           "type": "bar",
           "x": [
            "Goa"
           ],
           "xaxis": "x",
           "y": [
            8.89
           ],
           "yaxis": "y"
          },
          {
           "alignmentgroup": "True",
           "hovertemplate": "state=%{x}<br>month=Jan<br>estimated unemployment rate=%{y}<extra></extra>",
           "legendgroup": "Gujarat",
           "marker": {
            "color": "#FF6692",
            "pattern": {
             "shape": ""
            }
           },
           "name": "Gujarat",
           "offsetgroup": "Gujarat",
           "orientation": "v",
           "showlegend": true,
           "textposition": "auto",
           "type": "bar",
           "x": [
            "Gujarat"
           ],
           "xaxis": "x",
           "y": [
            5.54
           ],
           "yaxis": "y"
          },
          {
           "alignmentgroup": "True",
           "hovertemplate": "state=%{x}<br>month=Jan<br>estimated unemployment rate=%{y}<extra></extra>",
           "legendgroup": "Haryana",
           "marker": {
            "color": "#B6E880",
            "pattern": {
             "shape": ""
            }
           },
           "name": "Haryana",
           "offsetgroup": "Haryana",
           "orientation": "v",
           "showlegend": true,
           "textposition": "auto",
           "type": "bar",
           "x": [
            "Haryana"
           ],
           "xaxis": "x",
           "y": [
            20.34
           ],
           "yaxis": "y"
          },
          {
           "alignmentgroup": "True",
           "hovertemplate": "state=%{x}<br>month=Jan<br>estimated unemployment rate=%{y}<extra></extra>",
           "legendgroup": "Himachal Pradesh",
           "marker": {
            "color": "#FF97FF",
            "pattern": {
             "shape": ""
            }
           },
           "name": "Himachal Pradesh",
           "offsetgroup": "Himachal Pradesh",
           "orientation": "v",
           "showlegend": true,
           "textposition": "auto",
           "type": "bar",
           "x": [
            "Himachal Pradesh"
           ],
           "xaxis": "x",
           "y": [
            16.83
           ],
           "yaxis": "y"
          },
          {
           "alignmentgroup": "True",
           "hovertemplate": "state=%{x}<br>month=Jan<br>estimated unemployment rate=%{y}<extra></extra>",
           "legendgroup": "Jammu & Kashmir",
           "marker": {
            "color": "#FECB52",
            "pattern": {
             "shape": ""
            }
           },
           "name": "Jammu & Kashmir",
           "offsetgroup": "Jammu & Kashmir",
           "orientation": "v",
           "showlegend": true,
           "textposition": "auto",
           "type": "bar",
           "x": [
            "Jammu & Kashmir"
           ],
           "xaxis": "x",
           "y": [
            21.08
           ],
           "yaxis": "y"
          },
          {
           "alignmentgroup": "True",
           "hovertemplate": "state=%{x}<br>month=Jan<br>estimated unemployment rate=%{y}<extra></extra>",
           "legendgroup": "Jharkhand",
           "marker": {
            "color": "#636efa",
            "pattern": {
             "shape": ""
            }
           },
           "name": "Jharkhand",
           "offsetgroup": "Jharkhand",
           "orientation": "v",
           "showlegend": true,
           "textposition": "auto",
           "type": "bar",
           "x": [
            "Jharkhand"
           ],
           "xaxis": "x",
           "y": [
            10.61
           ],
           "yaxis": "y"
          },
          {
           "alignmentgroup": "True",
           "hovertemplate": "state=%{x}<br>month=Jan<br>estimated unemployment rate=%{y}<extra></extra>",
           "legendgroup": "Karnataka",
           "marker": {
            "color": "#EF553B",
            "pattern": {
             "shape": ""
            }
           },
           "name": "Karnataka",
           "offsetgroup": "Karnataka",
           "orientation": "v",
           "showlegend": true,
           "textposition": "auto",
           "type": "bar",
           "x": [
            "Karnataka"
           ],
           "xaxis": "x",
           "y": [
            2.86
           ],
           "yaxis": "y"
          },
          {
           "alignmentgroup": "True",
           "hovertemplate": "state=%{x}<br>month=Jan<br>estimated unemployment rate=%{y}<extra></extra>",
           "legendgroup": "Kerala",
           "marker": {
            "color": "#00cc96",
            "pattern": {
             "shape": ""
            }
           },
           "name": "Kerala",
           "offsetgroup": "Kerala",
           "orientation": "v",
           "showlegend": true,
           "textposition": "auto",
           "type": "bar",
           "x": [
            "Kerala"
           ],
           "xaxis": "x",
           "y": [
            5.31
           ],
           "yaxis": "y"
          },
          {
           "alignmentgroup": "True",
           "hovertemplate": "state=%{x}<br>month=Jan<br>estimated unemployment rate=%{y}<extra></extra>",
           "legendgroup": "Madhya Pradesh",
           "marker": {
            "color": "#ab63fa",
            "pattern": {
             "shape": ""
            }
           },
           "name": "Madhya Pradesh",
           "offsetgroup": "Madhya Pradesh",
           "orientation": "v",
           "showlegend": true,
           "textposition": "auto",
           "type": "bar",
           "x": [
            "Madhya Pradesh"
           ],
           "xaxis": "x",
           "y": [
            4.11
           ],
           "yaxis": "y"
          },
          {
           "alignmentgroup": "True",
           "hovertemplate": "state=%{x}<br>month=Jan<br>estimated unemployment rate=%{y}<extra></extra>",
           "legendgroup": "Maharashtra",
           "marker": {
            "color": "#FFA15A",
            "pattern": {
             "shape": ""
            }
           },
           "name": "Maharashtra",
           "offsetgroup": "Maharashtra",
           "orientation": "v",
           "showlegend": true,
           "textposition": "auto",
           "type": "bar",
           "x": [
            "Maharashtra"
           ],
           "xaxis": "x",
           "y": [
            4.95
           ],
           "yaxis": "y"
          },
          {
           "alignmentgroup": "True",
           "hovertemplate": "state=%{x}<br>month=Jan<br>estimated unemployment rate=%{y}<extra></extra>",
           "legendgroup": "Meghalaya",
           "marker": {
            "color": "#19d3f3",
            "pattern": {
             "shape": ""
            }
           },
           "name": "Meghalaya",
           "offsetgroup": "Meghalaya",
           "orientation": "v",
           "showlegend": true,
           "textposition": "auto",
           "type": "bar",
           "x": [
            "Meghalaya"
           ],
           "xaxis": "x",
           "y": [
            1.66
           ],
           "yaxis": "y"
          },
          {
           "alignmentgroup": "True",
           "hovertemplate": "state=%{x}<br>month=Jan<br>estimated unemployment rate=%{y}<extra></extra>",
           "legendgroup": "Odisha",
           "marker": {
            "color": "#FF6692",
            "pattern": {
             "shape": ""
            }
           },
           "name": "Odisha",
           "offsetgroup": "Odisha",
           "orientation": "v",
           "showlegend": true,
           "textposition": "auto",
           "type": "bar",
           "x": [
            "Odisha"
           ],
           "xaxis": "x",
           "y": [
            1.9
           ],
           "yaxis": "y"
          },
          {
           "alignmentgroup": "True",
           "hovertemplate": "state=%{x}<br>month=Jan<br>estimated unemployment rate=%{y}<extra></extra>",
           "legendgroup": "Puducherry",
           "marker": {
            "color": "#B6E880",
            "pattern": {
             "shape": ""
            }
           },
           "name": "Puducherry",
           "offsetgroup": "Puducherry",
           "orientation": "v",
           "showlegend": true,
           "textposition": "auto",
           "type": "bar",
           "x": [
            "Puducherry"
           ],
           "xaxis": "x",
           "y": [
            0.58
           ],
           "yaxis": "y"
          },
          {
           "alignmentgroup": "True",
           "hovertemplate": "state=%{x}<br>month=Jan<br>estimated unemployment rate=%{y}<extra></extra>",
           "legendgroup": "Punjab",
           "marker": {
            "color": "#FF97FF",
            "pattern": {
             "shape": ""
            }
           },
           "name": "Punjab",
           "offsetgroup": "Punjab",
           "orientation": "v",
           "showlegend": true,
           "textposition": "auto",
           "type": "bar",
           "x": [
            "Punjab"
           ],
           "xaxis": "x",
           "y": [
            11.11
           ],
           "yaxis": "y"
          },
          {
           "alignmentgroup": "True",
           "hovertemplate": "state=%{x}<br>month=Jan<br>estimated unemployment rate=%{y}<extra></extra>",
           "legendgroup": "Rajasthan",
           "marker": {
            "color": "#FECB52",
            "pattern": {
             "shape": ""
            }
           },
           "name": "Rajasthan",
           "offsetgroup": "Rajasthan",
           "orientation": "v",
           "showlegend": true,
           "textposition": "auto",
           "type": "bar",
           "x": [
            "Rajasthan"
           ],
           "xaxis": "x",
           "y": [
            10.97
           ],
           "yaxis": "y"
          },
          {
           "alignmentgroup": "True",
           "hovertemplate": "state=%{x}<br>month=Jan<br>estimated unemployment rate=%{y}<extra></extra>",
           "legendgroup": "Tamil Nadu",
           "marker": {
            "color": "#EF553B",
            "pattern": {
             "shape": ""
            }
           },
           "name": "Tamil Nadu",
           "offsetgroup": "Tamil Nadu",
           "orientation": "v",
           "showlegend": true,
           "textposition": "auto",
           "type": "bar",
           "x": [
            "Tamil Nadu"
           ],
           "xaxis": "x",
           "y": [
            1.57
           ],
           "yaxis": "y"
          },
          {
           "alignmentgroup": "True",
           "hovertemplate": "state=%{x}<br>month=Jan<br>estimated unemployment rate=%{y}<extra></extra>",
           "legendgroup": "Telangana",
           "marker": {
            "color": "#00cc96",
            "pattern": {
             "shape": ""
            }
           },
           "name": "Telangana",
           "offsetgroup": "Telangana",
           "orientation": "v",
           "showlegend": true,
           "textposition": "auto",
           "type": "bar",
           "x": [
            "Telangana"
           ],
           "xaxis": "x",
           "y": [
            5.49
           ],
           "yaxis": "y"
          },
          {
           "alignmentgroup": "True",
           "hovertemplate": "state=%{x}<br>month=Jan<br>estimated unemployment rate=%{y}<extra></extra>",
           "legendgroup": "Tripura",
           "marker": {
            "color": "#ab63fa",
            "pattern": {
             "shape": ""
            }
           },
           "name": "Tripura",
           "offsetgroup": "Tripura",
           "orientation": "v",
           "showlegend": true,
           "textposition": "auto",
           "type": "bar",
           "x": [
            "Tripura"
           ],
           "xaxis": "x",
           "y": [
            32.67
           ],
           "yaxis": "y"
          },
          {
           "alignmentgroup": "True",
           "hovertemplate": "state=%{x}<br>month=Jan<br>estimated unemployment rate=%{y}<extra></extra>",
           "legendgroup": "Uttar Pradesh",
           "marker": {
            "color": "#FFA15A",
            "pattern": {
             "shape": ""
            }
           },
           "name": "Uttar Pradesh",
           "offsetgroup": "Uttar Pradesh",
           "orientation": "v",
           "showlegend": true,
           "textposition": "auto",
           "type": "bar",
           "x": [
            "Uttar Pradesh"
           ],
           "xaxis": "x",
           "y": [
            7.58
           ],
           "yaxis": "y"
          },
          {
           "alignmentgroup": "True",
           "hovertemplate": "state=%{x}<br>month=Jan<br>estimated unemployment rate=%{y}<extra></extra>",
           "legendgroup": "Uttarakhand",
           "marker": {
            "color": "#19d3f3",
            "pattern": {
             "shape": ""
            }
           },
           "name": "Uttarakhand",
           "offsetgroup": "Uttarakhand",
           "orientation": "v",
           "showlegend": true,
           "textposition": "auto",
           "type": "bar",
           "x": [
            "Uttarakhand"
           ],
           "xaxis": "x",
           "y": [
            5.49
           ],
           "yaxis": "y"
          },
          {
           "alignmentgroup": "True",
           "hovertemplate": "state=%{x}<br>month=Jan<br>estimated unemployment rate=%{y}<extra></extra>",
           "legendgroup": "West Bengal",
           "marker": {
            "color": "#FF6692",
            "pattern": {
             "shape": ""
            }
           },
           "name": "West Bengal",
           "offsetgroup": "West Bengal",
           "orientation": "v",
           "showlegend": true,
           "textposition": "auto",
           "type": "bar",
           "x": [
            "West Bengal"
           ],
           "xaxis": "x",
           "y": [
            6.94
           ],
           "yaxis": "y"
          }
         ],
         "name": "Jan"
        },
        {
         "data": [
          {
           "alignmentgroup": "True",
           "hovertemplate": "state=%{x}<br>month=Feb<br>estimated unemployment rate=%{y}<extra></extra>",
           "legendgroup": "Andhra Pradesh",
           "marker": {
            "color": "#636efa",
            "pattern": {
             "shape": ""
            }
           },
           "name": "Andhra Pradesh",
           "offsetgroup": "Andhra Pradesh",
           "orientation": "v",
           "showlegend": true,
           "textposition": "auto",
           "type": "bar",
           "x": [
            "Andhra Pradesh"
           ],
           "xaxis": "x",
           "y": [
            5.83
           ],
           "yaxis": "y"
          },
          {
           "alignmentgroup": "True",
           "hovertemplate": "state=%{x}<br>month=Feb<br>estimated unemployment rate=%{y}<extra></extra>",
           "legendgroup": "Assam",
           "marker": {
            "color": "#EF553B",
            "pattern": {
             "shape": ""
            }
           },
           "name": "Assam",
           "offsetgroup": "Assam",
           "orientation": "v",
           "showlegend": true,
           "textposition": "auto",
           "type": "bar",
           "x": [
            "Assam"
           ],
           "xaxis": "x",
           "y": [
            4.41
           ],
           "yaxis": "y"
          },
          {
           "alignmentgroup": "True",
           "hovertemplate": "state=%{x}<br>month=Feb<br>estimated unemployment rate=%{y}<extra></extra>",
           "legendgroup": "Bihar",
           "marker": {
            "color": "#00cc96",
            "pattern": {
             "shape": ""
            }
           },
           "name": "Bihar",
           "offsetgroup": "Bihar",
           "orientation": "v",
           "showlegend": true,
           "textposition": "auto",
           "type": "bar",
           "x": [
            "Bihar"
           ],
           "xaxis": "x",
           "y": [
            10.29
           ],
           "yaxis": "y"
          },
          {
           "alignmentgroup": "True",
           "hovertemplate": "state=%{x}<br>month=Feb<br>estimated unemployment rate=%{y}<extra></extra>",
           "legendgroup": "Chhattisgarh",
           "marker": {
            "color": "#ab63fa",
            "pattern": {
             "shape": ""
            }
           },
           "name": "Chhattisgarh",
           "offsetgroup": "Chhattisgarh",
           "orientation": "v",
           "showlegend": true,
           "textposition": "auto",
           "type": "bar",
           "x": [
            "Chhattisgarh"
           ],
           "xaxis": "x",
           "y": [
            8.38
           ],
           "yaxis": "y"
          },
          {
           "alignmentgroup": "True",
           "hovertemplate": "state=%{x}<br>month=Feb<br>estimated unemployment rate=%{y}<extra></extra>",
           "legendgroup": "Delhi",
           "marker": {
            "color": "#FFA15A",
            "pattern": {
             "shape": ""
            }
           },
           "name": "Delhi",
           "offsetgroup": "Delhi",
           "orientation": "v",
           "showlegend": true,
           "textposition": "auto",
           "type": "bar",
           "x": [
            "Delhi"
           ],
           "xaxis": "x",
           "y": [
            14.84
           ],
           "yaxis": "y"
          },
          {
           "alignmentgroup": "True",
           "hovertemplate": "state=%{x}<br>month=Feb<br>estimated unemployment rate=%{y}<extra></extra>",
           "legendgroup": "Goa",
           "marker": {
            "color": "#19d3f3",
            "pattern": {
             "shape": ""
            }
           },
           "name": "Goa",
           "offsetgroup": "Goa",
           "orientation": "v",
           "showlegend": true,
           "textposition": "auto",
           "type": "bar",
           "x": [
            "Goa"
           ],
           "xaxis": "x",
           "y": [
            2.81
           ],
           "yaxis": "y"
          },
          {
           "alignmentgroup": "True",
           "hovertemplate": "state=%{x}<br>month=Feb<br>estimated unemployment rate=%{y}<extra></extra>",
           "legendgroup": "Gujarat",
           "marker": {
            "color": "#FF6692",
            "pattern": {
             "shape": ""
            }
           },
           "name": "Gujarat",
           "offsetgroup": "Gujarat",
           "orientation": "v",
           "showlegend": true,
           "textposition": "auto",
           "type": "bar",
           "x": [
            "Gujarat"
           ],
           "xaxis": "x",
           "y": [
            6.38
           ],
           "yaxis": "y"
          },
          {
           "alignmentgroup": "True",
           "hovertemplate": "state=%{x}<br>month=Feb<br>estimated unemployment rate=%{y}<extra></extra>",
           "legendgroup": "Haryana",
           "marker": {
            "color": "#B6E880",
            "pattern": {
             "shape": ""
            }
           },
           "name": "Haryana",
           "offsetgroup": "Haryana",
           "orientation": "v",
           "showlegend": true,
           "textposition": "auto",
           "type": "bar",
           "x": [
            "Haryana"
           ],
           "xaxis": "x",
           "y": [
            25.77
           ],
           "yaxis": "y"
          },
          {
           "alignmentgroup": "True",
           "hovertemplate": "state=%{x}<br>month=Feb<br>estimated unemployment rate=%{y}<extra></extra>",
           "legendgroup": "Himachal Pradesh",
           "marker": {
            "color": "#FF97FF",
            "pattern": {
             "shape": ""
            }
           },
           "name": "Himachal Pradesh",
           "offsetgroup": "Himachal Pradesh",
           "orientation": "v",
           "showlegend": true,
           "textposition": "auto",
           "type": "bar",
           "x": [
            "Himachal Pradesh"
           ],
           "xaxis": "x",
           "y": [
            16.84
           ],
           "yaxis": "y"
          },
          {
           "alignmentgroup": "True",
           "hovertemplate": "state=%{x}<br>month=Feb<br>estimated unemployment rate=%{y}<extra></extra>",
           "legendgroup": "Jammu & Kashmir",
           "marker": {
            "color": "#FECB52",
            "pattern": {
             "shape": ""
            }
           },
           "name": "Jammu & Kashmir",
           "offsetgroup": "Jammu & Kashmir",
           "orientation": "v",
           "showlegend": true,
           "textposition": "auto",
           "type": "bar",
           "x": [
            "Jammu & Kashmir"
           ],
           "xaxis": "x",
           "y": [
            20.78
           ],
           "yaxis": "y"
          },
          {
           "alignmentgroup": "True",
           "hovertemplate": "state=%{x}<br>month=Feb<br>estimated unemployment rate=%{y}<extra></extra>",
           "legendgroup": "Jharkhand",
           "marker": {
            "color": "#636efa",
            "pattern": {
             "shape": ""
            }
           },
           "name": "Jharkhand",
           "offsetgroup": "Jharkhand",
           "orientation": "v",
           "showlegend": true,
           "textposition": "auto",
           "type": "bar",
           "x": [
            "Jharkhand"
           ],
           "xaxis": "x",
           "y": [
            11.85
           ],
           "yaxis": "y"
          },
          {
           "alignmentgroup": "True",
           "hovertemplate": "state=%{x}<br>month=Feb<br>estimated unemployment rate=%{y}<extra></extra>",
           "legendgroup": "Karnataka",
           "marker": {
            "color": "#EF553B",
            "pattern": {
             "shape": ""
            }
           },
           "name": "Karnataka",
           "offsetgroup": "Karnataka",
           "orientation": "v",
           "showlegend": true,
           "textposition": "auto",
           "type": "bar",
           "x": [
            "Karnataka"
           ],
           "xaxis": "x",
           "y": [
            3.61
           ],
           "yaxis": "y"
          },
          {
           "alignmentgroup": "True",
           "hovertemplate": "state=%{x}<br>month=Feb<br>estimated unemployment rate=%{y}<extra></extra>",
           "legendgroup": "Kerala",
           "marker": {
            "color": "#00cc96",
            "pattern": {
             "shape": ""
            }
           },
           "name": "Kerala",
           "offsetgroup": "Kerala",
           "orientation": "v",
           "showlegend": true,
           "textposition": "auto",
           "type": "bar",
           "x": [
            "Kerala"
           ],
           "xaxis": "x",
           "y": [
            7.6
           ],
           "yaxis": "y"
          },
          {
           "alignmentgroup": "True",
           "hovertemplate": "state=%{x}<br>month=Feb<br>estimated unemployment rate=%{y}<extra></extra>",
           "legendgroup": "Madhya Pradesh",
           "marker": {
            "color": "#ab63fa",
            "pattern": {
             "shape": ""
            }
           },
           "name": "Madhya Pradesh",
           "offsetgroup": "Madhya Pradesh",
           "orientation": "v",
           "showlegend": true,
           "textposition": "auto",
           "type": "bar",
           "x": [
            "Madhya Pradesh"
           ],
           "xaxis": "x",
           "y": [
            4.57
           ],
           "yaxis": "y"
          },
          {
           "alignmentgroup": "True",
           "hovertemplate": "state=%{x}<br>month=Feb<br>estimated unemployment rate=%{y}<extra></extra>",
           "legendgroup": "Maharashtra",
           "marker": {
            "color": "#FFA15A",
            "pattern": {
             "shape": ""
            }
           },
           "name": "Maharashtra",
           "offsetgroup": "Maharashtra",
           "orientation": "v",
           "showlegend": true,
           "textposition": "auto",
           "type": "bar",
           "x": [
            "Maharashtra"
           ],
           "xaxis": "x",
           "y": [
            4.69
           ],
           "yaxis": "y"
          },
          {
           "alignmentgroup": "True",
           "hovertemplate": "state=%{x}<br>month=Feb<br>estimated unemployment rate=%{y}<extra></extra>",
           "legendgroup": "Meghalaya",
           "marker": {
            "color": "#19d3f3",
            "pattern": {
             "shape": ""
            }
           },
           "name": "Meghalaya",
           "offsetgroup": "Meghalaya",
           "orientation": "v",
           "showlegend": true,
           "textposition": "auto",
           "type": "bar",
           "x": [
            "Meghalaya"
           ],
           "xaxis": "x",
           "y": [
            3.59
           ],
           "yaxis": "y"
          },
          {
           "alignmentgroup": "True",
           "hovertemplate": "state=%{x}<br>month=Feb<br>estimated unemployment rate=%{y}<extra></extra>",
           "legendgroup": "Odisha",
           "marker": {
            "color": "#FF6692",
            "pattern": {
             "shape": ""
            }
           },
           "name": "Odisha",
           "offsetgroup": "Odisha",
           "orientation": "v",
           "showlegend": true,
           "textposition": "auto",
           "type": "bar",
           "x": [
            "Odisha"
           ],
           "xaxis": "x",
           "y": [
            3.12
           ],
           "yaxis": "y"
          },
          {
           "alignmentgroup": "True",
           "hovertemplate": "state=%{x}<br>month=Feb<br>estimated unemployment rate=%{y}<extra></extra>",
           "legendgroup": "Puducherry",
           "marker": {
            "color": "#B6E880",
            "pattern": {
             "shape": ""
            }
           },
           "name": "Puducherry",
           "offsetgroup": "Puducherry",
           "orientation": "v",
           "showlegend": true,
           "textposition": "auto",
           "type": "bar",
           "x": [
            "Puducherry"
           ],
           "xaxis": "x",
           "y": [
            1.76
           ],
           "yaxis": "y"
          },
          {
           "alignmentgroup": "True",
           "hovertemplate": "state=%{x}<br>month=Feb<br>estimated unemployment rate=%{y}<extra></extra>",
           "legendgroup": "Punjab",
           "marker": {
            "color": "#FF97FF",
            "pattern": {
             "shape": ""
            }
           },
           "name": "Punjab",
           "offsetgroup": "Punjab",
           "orientation": "v",
           "showlegend": true,
           "textposition": "auto",
           "type": "bar",
           "x": [
            "Punjab"
           ],
           "xaxis": "x",
           "y": [
            10.97
           ],
           "yaxis": "y"
          },
          {
           "alignmentgroup": "True",
           "hovertemplate": "state=%{x}<br>month=Feb<br>estimated unemployment rate=%{y}<extra></extra>",
           "legendgroup": "Rajasthan",
           "marker": {
            "color": "#FECB52",
            "pattern": {
             "shape": ""
            }
           },
           "name": "Rajasthan",
           "offsetgroup": "Rajasthan",
           "orientation": "v",
           "showlegend": true,
           "textposition": "auto",
           "type": "bar",
           "x": [
            "Rajasthan"
           ],
           "xaxis": "x",
           "y": [
            15.16
           ],
           "yaxis": "y"
          },
          {
           "alignmentgroup": "True",
           "hovertemplate": "state=%{x}<br>month=Feb<br>estimated unemployment rate=%{y}<extra></extra>",
           "legendgroup": "Tamil Nadu",
           "marker": {
            "color": "#EF553B",
            "pattern": {
             "shape": ""
            }
           },
           "name": "Tamil Nadu",
           "offsetgroup": "Tamil Nadu",
           "orientation": "v",
           "showlegend": true,
           "textposition": "auto",
           "type": "bar",
           "x": [
            "Tamil Nadu"
           ],
           "xaxis": "x",
           "y": [
            2.09
           ],
           "yaxis": "y"
          },
          {
           "alignmentgroup": "True",
           "hovertemplate": "state=%{x}<br>month=Feb<br>estimated unemployment rate=%{y}<extra></extra>",
           "legendgroup": "Telangana",
           "marker": {
            "color": "#00cc96",
            "pattern": {
             "shape": ""
            }
           },
           "name": "Telangana",
           "offsetgroup": "Telangana",
           "orientation": "v",
           "showlegend": true,
           "textposition": "auto",
           "type": "bar",
           "x": [
            "Telangana"
           ],
           "xaxis": "x",
           "y": [
            8.29
           ],
           "yaxis": "y"
          },
          {
           "alignmentgroup": "True",
           "hovertemplate": "state=%{x}<br>month=Feb<br>estimated unemployment rate=%{y}<extra></extra>",
           "legendgroup": "Tripura",
           "marker": {
            "color": "#ab63fa",
            "pattern": {
             "shape": ""
            }
           },
           "name": "Tripura",
           "offsetgroup": "Tripura",
           "orientation": "v",
           "showlegend": true,
           "textposition": "auto",
           "type": "bar",
           "x": [
            "Tripura"
           ],
           "xaxis": "x",
           "y": [
            28.4
           ],
           "yaxis": "y"
          },
          {
           "alignmentgroup": "True",
           "hovertemplate": "state=%{x}<br>month=Feb<br>estimated unemployment rate=%{y}<extra></extra>",
           "legendgroup": "Uttar Pradesh",
           "marker": {
            "color": "#FFA15A",
            "pattern": {
             "shape": ""
            }
           },
           "name": "Uttar Pradesh",
           "offsetgroup": "Uttar Pradesh",
           "orientation": "v",
           "showlegend": true,
           "textposition": "auto",
           "type": "bar",
           "x": [
            "Uttar Pradesh"
           ],
           "xaxis": "x",
           "y": [
            8.98
           ],
           "yaxis": "y"
          },
          {
           "alignmentgroup": "True",
           "hovertemplate": "state=%{x}<br>month=Feb<br>estimated unemployment rate=%{y}<extra></extra>",
           "legendgroup": "Uttarakhand",
           "marker": {
            "color": "#19d3f3",
            "pattern": {
             "shape": ""
            }
           },
           "name": "Uttarakhand",
           "offsetgroup": "Uttarakhand",
           "orientation": "v",
           "showlegend": true,
           "textposition": "auto",
           "type": "bar",
           "x": [
            "Uttarakhand"
           ],
           "xaxis": "x",
           "y": [
            4.99
           ],
           "yaxis": "y"
          },
          {
           "alignmentgroup": "True",
           "hovertemplate": "state=%{x}<br>month=Feb<br>estimated unemployment rate=%{y}<extra></extra>",
           "legendgroup": "West Bengal",
           "marker": {
            "color": "#FF6692",
            "pattern": {
             "shape": ""
            }
           },
           "name": "West Bengal",
           "offsetgroup": "West Bengal",
           "orientation": "v",
           "showlegend": true,
           "textposition": "auto",
           "type": "bar",
           "x": [
            "West Bengal"
           ],
           "xaxis": "x",
           "y": [
            4.92
           ],
           "yaxis": "y"
          }
         ],
         "name": "Feb"
        },
        {
         "data": [
          {
           "alignmentgroup": "True",
           "hovertemplate": "state=%{x}<br>month=Mar<br>estimated unemployment rate=%{y}<extra></extra>",
           "legendgroup": "Andhra Pradesh",
           "marker": {
            "color": "#636efa",
            "pattern": {
             "shape": ""
            }
           },
           "name": "Andhra Pradesh",
           "offsetgroup": "Andhra Pradesh",
           "orientation": "v",
           "showlegend": true,
           "textposition": "auto",
           "type": "bar",
           "x": [
            "Andhra Pradesh"
           ],
           "xaxis": "x",
           "y": [
            5.79
           ],
           "yaxis": "y"
          },
          {
           "alignmentgroup": "True",
           "hovertemplate": "state=%{x}<br>month=Mar<br>estimated unemployment rate=%{y}<extra></extra>",
           "legendgroup": "Assam",
           "marker": {
            "color": "#EF553B",
            "pattern": {
             "shape": ""
            }
           },
           "name": "Assam",
           "offsetgroup": "Assam",
           "orientation": "v",
           "showlegend": true,
           "textposition": "auto",
           "type": "bar",
           "x": [
            "Assam"
           ],
           "xaxis": "x",
           "y": [
            4.77
           ],
           "yaxis": "y"
          },
          {
           "alignmentgroup": "True",
           "hovertemplate": "state=%{x}<br>month=Mar<br>estimated unemployment rate=%{y}<extra></extra>",
           "legendgroup": "Bihar",
           "marker": {
            "color": "#00cc96",
            "pattern": {
             "shape": ""
            }
           },
           "name": "Bihar",
           "offsetgroup": "Bihar",
           "orientation": "v",
           "showlegend": true,
           "textposition": "auto",
           "type": "bar",
           "x": [
            "Bihar"
           ],
           "xaxis": "x",
           "y": [
            15.43
           ],
           "yaxis": "y"
          },
          {
           "alignmentgroup": "True",
           "hovertemplate": "state=%{x}<br>month=Mar<br>estimated unemployment rate=%{y}<extra></extra>",
           "legendgroup": "Chhattisgarh",
           "marker": {
            "color": "#ab63fa",
            "pattern": {
             "shape": ""
            }
           },
           "name": "Chhattisgarh",
           "offsetgroup": "Chhattisgarh",
           "orientation": "v",
           "showlegend": true,
           "textposition": "auto",
           "type": "bar",
           "x": [
            "Chhattisgarh"
           ],
           "xaxis": "x",
           "y": [
            7.54
           ],
           "yaxis": "y"
          },
          {
           "alignmentgroup": "True",
           "hovertemplate": "state=%{x}<br>month=Mar<br>estimated unemployment rate=%{y}<extra></extra>",
           "legendgroup": "Delhi",
           "marker": {
            "color": "#FFA15A",
            "pattern": {
             "shape": ""
            }
           },
           "name": "Delhi",
           "offsetgroup": "Delhi",
           "orientation": "v",
           "showlegend": true,
           "textposition": "auto",
           "type": "bar",
           "x": [
            "Delhi"
           ],
           "xaxis": "x",
           "y": [
            17.04
           ],
           "yaxis": "y"
          },
          {
           "alignmentgroup": "True",
           "hovertemplate": "state=%{x}<br>month=Mar<br>estimated unemployment rate=%{y}<extra></extra>",
           "legendgroup": "Goa",
           "marker": {
            "color": "#19d3f3",
            "pattern": {
             "shape": ""
            }
           },
           "name": "Goa",
           "offsetgroup": "Goa",
           "orientation": "v",
           "showlegend": true,
           "textposition": "auto",
           "type": "bar",
           "x": [
            "Goa"
           ],
           "xaxis": "x",
           "y": [
            5.25
           ],
           "yaxis": "y"
          },
          {
           "alignmentgroup": "True",
           "hovertemplate": "state=%{x}<br>month=Mar<br>estimated unemployment rate=%{y}<extra></extra>",
           "legendgroup": "Gujarat",
           "marker": {
            "color": "#FF6692",
            "pattern": {
             "shape": ""
            }
           },
           "name": "Gujarat",
           "offsetgroup": "Gujarat",
           "orientation": "v",
           "showlegend": true,
           "textposition": "auto",
           "type": "bar",
           "x": [
            "Gujarat"
           ],
           "xaxis": "x",
           "y": [
            6.66
           ],
           "yaxis": "y"
          },
          {
           "alignmentgroup": "True",
           "hovertemplate": "state=%{x}<br>month=Mar<br>estimated unemployment rate=%{y}<extra></extra>",
           "legendgroup": "Haryana",
           "marker": {
            "color": "#B6E880",
            "pattern": {
             "shape": ""
            }
           },
           "name": "Haryana",
           "offsetgroup": "Haryana",
           "orientation": "v",
           "showlegend": true,
           "textposition": "auto",
           "type": "bar",
           "x": [
            "Haryana"
           ],
           "xaxis": "x",
           "y": [
            25.05
           ],
           "yaxis": "y"
          },
          {
           "alignmentgroup": "True",
           "hovertemplate": "state=%{x}<br>month=Mar<br>estimated unemployment rate=%{y}<extra></extra>",
           "legendgroup": "Himachal Pradesh",
           "marker": {
            "color": "#FF97FF",
            "pattern": {
             "shape": ""
            }
           },
           "name": "Himachal Pradesh",
           "offsetgroup": "Himachal Pradesh",
           "orientation": "v",
           "showlegend": true,
           "textposition": "auto",
           "type": "bar",
           "x": [
            "Himachal Pradesh"
           ],
           "xaxis": "x",
           "y": [
            18.76
           ],
           "yaxis": "y"
          },
          {
           "alignmentgroup": "True",
           "hovertemplate": "state=%{x}<br>month=Mar<br>estimated unemployment rate=%{y}<extra></extra>",
           "legendgroup": "Jammu & Kashmir",
           "marker": {
            "color": "#FECB52",
            "pattern": {
             "shape": ""
            }
           },
           "name": "Jammu & Kashmir",
           "offsetgroup": "Jammu & Kashmir",
           "orientation": "v",
           "showlegend": true,
           "textposition": "auto",
           "type": "bar",
           "x": [
            "Jammu & Kashmir"
           ],
           "xaxis": "x",
           "y": [
            15.5
           ],
           "yaxis": "y"
          },
          {
           "alignmentgroup": "True",
           "hovertemplate": "state=%{x}<br>month=Mar<br>estimated unemployment rate=%{y}<extra></extra>",
           "legendgroup": "Jharkhand",
           "marker": {
            "color": "#636efa",
            "pattern": {
             "shape": ""
            }
           },
           "name": "Jharkhand",
           "offsetgroup": "Jharkhand",
           "orientation": "v",
           "showlegend": true,
           "textposition": "auto",
           "type": "bar",
           "x": [
            "Jharkhand"
           ],
           "xaxis": "x",
           "y": [
            8.23
           ],
           "yaxis": "y"
          },
          {
           "alignmentgroup": "True",
           "hovertemplate": "state=%{x}<br>month=Mar<br>estimated unemployment rate=%{y}<extra></extra>",
           "legendgroup": "Karnataka",
           "marker": {
            "color": "#EF553B",
            "pattern": {
             "shape": ""
            }
           },
           "name": "Karnataka",
           "offsetgroup": "Karnataka",
           "orientation": "v",
           "showlegend": true,
           "textposition": "auto",
           "type": "bar",
           "x": [
            "Karnataka"
           ],
           "xaxis": "x",
           "y": [
            3.46
           ],
           "yaxis": "y"
          },
          {
           "alignmentgroup": "True",
           "hovertemplate": "state=%{x}<br>month=Mar<br>estimated unemployment rate=%{y}<extra></extra>",
           "legendgroup": "Kerala",
           "marker": {
            "color": "#00cc96",
            "pattern": {
             "shape": ""
            }
           },
           "name": "Kerala",
           "offsetgroup": "Kerala",
           "orientation": "v",
           "showlegend": true,
           "textposition": "auto",
           "type": "bar",
           "x": [
            "Kerala"
           ],
           "xaxis": "x",
           "y": [
            8.99
           ],
           "yaxis": "y"
          },
          {
           "alignmentgroup": "True",
           "hovertemplate": "state=%{x}<br>month=Mar<br>estimated unemployment rate=%{y}<extra></extra>",
           "legendgroup": "Madhya Pradesh",
           "marker": {
            "color": "#ab63fa",
            "pattern": {
             "shape": ""
            }
           },
           "name": "Madhya Pradesh",
           "offsetgroup": "Madhya Pradesh",
           "orientation": "v",
           "showlegend": true,
           "textposition": "auto",
           "type": "bar",
           "x": [
            "Madhya Pradesh"
           ],
           "xaxis": "x",
           "y": [
            2.22
           ],
           "yaxis": "y"
          },
          {
           "alignmentgroup": "True",
           "hovertemplate": "state=%{x}<br>month=Mar<br>estimated unemployment rate=%{y}<extra></extra>",
           "legendgroup": "Maharashtra",
           "marker": {
            "color": "#FFA15A",
            "pattern": {
             "shape": ""
            }
           },
           "name": "Maharashtra",
           "offsetgroup": "Maharashtra",
           "orientation": "v",
           "showlegend": true,
           "textposition": "auto",
           "type": "bar",
           "x": [
            "Maharashtra"
           ],
           "xaxis": "x",
           "y": [
            5.79
           ],
           "yaxis": "y"
          },
          {
           "alignmentgroup": "True",
           "hovertemplate": "state=%{x}<br>month=Mar<br>estimated unemployment rate=%{y}<extra></extra>",
           "legendgroup": "Meghalaya",
           "marker": {
            "color": "#19d3f3",
            "pattern": {
             "shape": ""
            }
           },
           "name": "Meghalaya",
           "offsetgroup": "Meghalaya",
           "orientation": "v",
           "showlegend": true,
           "textposition": "auto",
           "type": "bar",
           "x": [
            "Meghalaya"
           ],
           "xaxis": "x",
           "y": [
            1.58
           ],
           "yaxis": "y"
          },
          {
           "alignmentgroup": "True",
           "hovertemplate": "state=%{x}<br>month=Mar<br>estimated unemployment rate=%{y}<extra></extra>",
           "legendgroup": "Odisha",
           "marker": {
            "color": "#FF6692",
            "pattern": {
             "shape": ""
            }
           },
           "name": "Odisha",
           "offsetgroup": "Odisha",
           "orientation": "v",
           "showlegend": true,
           "textposition": "auto",
           "type": "bar",
           "x": [
            "Odisha"
           ],
           "xaxis": "x",
           "y": [
            13.08
           ],
           "yaxis": "y"
          },
          {
           "alignmentgroup": "True",
           "hovertemplate": "state=%{x}<br>month=Mar<br>estimated unemployment rate=%{y}<extra></extra>",
           "legendgroup": "Puducherry",
           "marker": {
            "color": "#B6E880",
            "pattern": {
             "shape": ""
            }
           },
           "name": "Puducherry",
           "offsetgroup": "Puducherry",
           "orientation": "v",
           "showlegend": true,
           "textposition": "auto",
           "type": "bar",
           "x": [
            "Puducherry"
           ],
           "xaxis": "x",
           "y": [
            1.2
           ],
           "yaxis": "y"
          },
          {
           "alignmentgroup": "True",
           "hovertemplate": "state=%{x}<br>month=Mar<br>estimated unemployment rate=%{y}<extra></extra>",
           "legendgroup": "Punjab",
           "marker": {
            "color": "#FF97FF",
            "pattern": {
             "shape": ""
            }
           },
           "name": "Punjab",
           "offsetgroup": "Punjab",
           "orientation": "v",
           "showlegend": true,
           "textposition": "auto",
           "type": "bar",
           "x": [
            "Punjab"
           ],
           "xaxis": "x",
           "y": [
            10.32
           ],
           "yaxis": "y"
          },
          {
           "alignmentgroup": "True",
           "hovertemplate": "state=%{x}<br>month=Mar<br>estimated unemployment rate=%{y}<extra></extra>",
           "legendgroup": "Rajasthan",
           "marker": {
            "color": "#FECB52",
            "pattern": {
             "shape": ""
            }
           },
           "name": "Rajasthan",
           "offsetgroup": "Rajasthan",
           "orientation": "v",
           "showlegend": true,
           "textposition": "auto",
           "type": "bar",
           "x": [
            "Rajasthan"
           ],
           "xaxis": "x",
           "y": [
            11.9
           ],
           "yaxis": "y"
          },
          {
           "alignmentgroup": "True",
           "hovertemplate": "state=%{x}<br>month=Mar<br>estimated unemployment rate=%{y}<extra></extra>",
           "legendgroup": "Sikkim",
           "marker": {
            "color": "#636efa",
            "pattern": {
             "shape": ""
            }
           },
           "name": "Sikkim",
           "offsetgroup": "Sikkim",
           "orientation": "v",
           "showlegend": true,
           "textposition": "auto",
           "type": "bar",
           "x": [
            "Sikkim"
           ],
           "xaxis": "x",
           "y": [
            23.57
           ],
           "yaxis": "y"
          },
          {
           "alignmentgroup": "True",
           "hovertemplate": "state=%{x}<br>month=Mar<br>estimated unemployment rate=%{y}<extra></extra>",
           "legendgroup": "Tamil Nadu",
           "marker": {
            "color": "#EF553B",
            "pattern": {
             "shape": ""
            }
           },
           "name": "Tamil Nadu",
           "offsetgroup": "Tamil Nadu",
           "orientation": "v",
           "showlegend": true,
           "textposition": "auto",
           "type": "bar",
           "x": [
            "Tamil Nadu"
           ],
           "xaxis": "x",
           "y": [
            6.4
           ],
           "yaxis": "y"
          },
          {
           "alignmentgroup": "True",
           "hovertemplate": "state=%{x}<br>month=Mar<br>estimated unemployment rate=%{y}<extra></extra>",
           "legendgroup": "Telangana",
           "marker": {
            "color": "#00cc96",
            "pattern": {
             "shape": ""
            }
           },
           "name": "Telangana",
           "offsetgroup": "Telangana",
           "orientation": "v",
           "showlegend": true,
           "textposition": "auto",
           "type": "bar",
           "x": [
            "Telangana"
           ],
           "xaxis": "x",
           "y": [
            5.77
           ],
           "yaxis": "y"
          },
          {
           "alignmentgroup": "True",
           "hovertemplate": "state=%{x}<br>month=Mar<br>estimated unemployment rate=%{y}<extra></extra>",
           "legendgroup": "Tripura",
           "marker": {
            "color": "#ab63fa",
            "pattern": {
             "shape": ""
            }
           },
           "name": "Tripura",
           "offsetgroup": "Tripura",
           "orientation": "v",
           "showlegend": true,
           "textposition": "auto",
           "type": "bar",
           "x": [
            "Tripura"
           ],
           "xaxis": "x",
           "y": [
            29.95
           ],
           "yaxis": "y"
          },
          {
           "alignmentgroup": "True",
           "hovertemplate": "state=%{x}<br>month=Mar<br>estimated unemployment rate=%{y}<extra></extra>",
           "legendgroup": "Uttar Pradesh",
           "marker": {
            "color": "#FFA15A",
            "pattern": {
             "shape": ""
            }
           },
           "name": "Uttar Pradesh",
           "offsetgroup": "Uttar Pradesh",
           "orientation": "v",
           "showlegend": true,
           "textposition": "auto",
           "type": "bar",
           "x": [
            "Uttar Pradesh"
           ],
           "xaxis": "x",
           "y": [
            10.11
           ],
           "yaxis": "y"
          },
          {
           "alignmentgroup": "True",
           "hovertemplate": "state=%{x}<br>month=Mar<br>estimated unemployment rate=%{y}<extra></extra>",
           "legendgroup": "Uttarakhand",
           "marker": {
            "color": "#19d3f3",
            "pattern": {
             "shape": ""
            }
           },
           "name": "Uttarakhand",
           "offsetgroup": "Uttarakhand",
           "orientation": "v",
           "showlegend": true,
           "textposition": "auto",
           "type": "bar",
           "x": [
            "Uttarakhand"
           ],
           "xaxis": "x",
           "y": [
            19.85
           ],
           "yaxis": "y"
          },
          {
           "alignmentgroup": "True",
           "hovertemplate": "state=%{x}<br>month=Mar<br>estimated unemployment rate=%{y}<extra></extra>",
           "legendgroup": "West Bengal",
           "marker": {
            "color": "#FF6692",
            "pattern": {
             "shape": ""
            }
           },
           "name": "West Bengal",
           "offsetgroup": "West Bengal",
           "orientation": "v",
           "showlegend": true,
           "textposition": "auto",
           "type": "bar",
           "x": [
            "West Bengal"
           ],
           "xaxis": "x",
           "y": [
            6.92
           ],
           "yaxis": "y"
          }
         ],
         "name": "Mar"
        },
        {
         "data": [
          {
           "alignmentgroup": "True",
           "hovertemplate": "state=%{x}<br>month=Apr<br>estimated unemployment rate=%{y}<extra></extra>",
           "legendgroup": "Andhra Pradesh",
           "marker": {
            "color": "#636efa",
            "pattern": {
             "shape": ""
            }
           },
           "name": "Andhra Pradesh",
           "offsetgroup": "Andhra Pradesh",
           "orientation": "v",
           "showlegend": true,
           "textposition": "auto",
           "type": "bar",
           "x": [
            "Andhra Pradesh"
           ],
           "xaxis": "x",
           "y": [
            20.51
           ],
           "yaxis": "y"
          },
          {
           "alignmentgroup": "True",
           "hovertemplate": "state=%{x}<br>month=Apr<br>estimated unemployment rate=%{y}<extra></extra>",
           "legendgroup": "Assam",
           "marker": {
            "color": "#EF553B",
            "pattern": {
             "shape": ""
            }
           },
           "name": "Assam",
           "offsetgroup": "Assam",
           "orientation": "v",
           "showlegend": true,
           "textposition": "auto",
           "type": "bar",
           "x": [
            "Assam"
           ],
           "xaxis": "x",
           "y": [
            11.06
           ],
           "yaxis": "y"
          },
          {
           "alignmentgroup": "True",
           "hovertemplate": "state=%{x}<br>month=Apr<br>estimated unemployment rate=%{y}<extra></extra>",
           "legendgroup": "Bihar",
           "marker": {
            "color": "#00cc96",
            "pattern": {
             "shape": ""
            }
           },
           "name": "Bihar",
           "offsetgroup": "Bihar",
           "orientation": "v",
           "showlegend": true,
           "textposition": "auto",
           "type": "bar",
           "x": [
            "Bihar"
           ],
           "xaxis": "x",
           "y": [
            46.64
           ],
           "yaxis": "y"
          },
          {
           "alignmentgroup": "True",
           "hovertemplate": "state=%{x}<br>month=Apr<br>estimated unemployment rate=%{y}<extra></extra>",
           "legendgroup": "Chhattisgarh",
           "marker": {
            "color": "#ab63fa",
            "pattern": {
             "shape": ""
            }
           },
           "name": "Chhattisgarh",
           "offsetgroup": "Chhattisgarh",
           "orientation": "v",
           "showlegend": true,
           "textposition": "auto",
           "type": "bar",
           "x": [
            "Chhattisgarh"
           ],
           "xaxis": "x",
           "y": [
            3.41
           ],
           "yaxis": "y"
          },
          {
           "alignmentgroup": "True",
           "hovertemplate": "state=%{x}<br>month=Apr<br>estimated unemployment rate=%{y}<extra></extra>",
           "legendgroup": "Delhi",
           "marker": {
            "color": "#FFA15A",
            "pattern": {
             "shape": ""
            }
           },
           "name": "Delhi",
           "offsetgroup": "Delhi",
           "orientation": "v",
           "showlegend": true,
           "textposition": "auto",
           "type": "bar",
           "x": [
            "Delhi"
           ],
           "xaxis": "x",
           "y": [
            16.68
           ],
           "yaxis": "y"
          },
          {
           "alignmentgroup": "True",
           "hovertemplate": "state=%{x}<br>month=Apr<br>estimated unemployment rate=%{y}<extra></extra>",
           "legendgroup": "Goa",
           "marker": {
            "color": "#19d3f3",
            "pattern": {
             "shape": ""
            }
           },
           "name": "Goa",
           "offsetgroup": "Goa",
           "orientation": "v",
           "showlegend": true,
           "textposition": "auto",
           "type": "bar",
           "x": [
            "Goa"
           ],
           "xaxis": "x",
           "y": [
            13.31
           ],
           "yaxis": "y"
          },
          {
           "alignmentgroup": "True",
           "hovertemplate": "state=%{x}<br>month=Apr<br>estimated unemployment rate=%{y}<extra></extra>",
           "legendgroup": "Gujarat",
           "marker": {
            "color": "#FF6692",
            "pattern": {
             "shape": ""
            }
           },
           "name": "Gujarat",
           "offsetgroup": "Gujarat",
           "orientation": "v",
           "showlegend": true,
           "textposition": "auto",
           "type": "bar",
           "x": [
            "Gujarat"
           ],
           "xaxis": "x",
           "y": [
            18.71
           ],
           "yaxis": "y"
          },
          {
           "alignmentgroup": "True",
           "hovertemplate": "state=%{x}<br>month=Apr<br>estimated unemployment rate=%{y}<extra></extra>",
           "legendgroup": "Haryana",
           "marker": {
            "color": "#B6E880",
            "pattern": {
             "shape": ""
            }
           },
           "name": "Haryana",
           "offsetgroup": "Haryana",
           "orientation": "v",
           "showlegend": true,
           "textposition": "auto",
           "type": "bar",
           "x": [
            "Haryana"
           ],
           "xaxis": "x",
           "y": [
            43.22
           ],
           "yaxis": "y"
          },
          {
           "alignmentgroup": "True",
           "hovertemplate": "state=%{x}<br>month=Apr<br>estimated unemployment rate=%{y}<extra></extra>",
           "legendgroup": "Himachal Pradesh",
           "marker": {
            "color": "#FF97FF",
            "pattern": {
             "shape": ""
            }
           },
           "name": "Himachal Pradesh",
           "offsetgroup": "Himachal Pradesh",
           "orientation": "v",
           "showlegend": true,
           "textposition": "auto",
           "type": "bar",
           "x": [
            "Himachal Pradesh"
           ],
           "xaxis": "x",
           "y": [
            2.2
           ],
           "yaxis": "y"
          },
          {
           "alignmentgroup": "True",
           "hovertemplate": "state=%{x}<br>month=Apr<br>estimated unemployment rate=%{y}<extra></extra>",
           "legendgroup": "Jharkhand",
           "marker": {
            "color": "#636efa",
            "pattern": {
             "shape": ""
            }
           },
           "name": "Jharkhand",
           "offsetgroup": "Jharkhand",
           "orientation": "v",
           "showlegend": true,
           "textposition": "auto",
           "type": "bar",
           "x": [
            "Jharkhand"
           ],
           "xaxis": "x",
           "y": [
            47.09
           ],
           "yaxis": "y"
          },
          {
           "alignmentgroup": "True",
           "hovertemplate": "state=%{x}<br>month=Apr<br>estimated unemployment rate=%{y}<extra></extra>",
           "legendgroup": "Karnataka",
           "marker": {
            "color": "#EF553B",
            "pattern": {
             "shape": ""
            }
           },
           "name": "Karnataka",
           "offsetgroup": "Karnataka",
           "orientation": "v",
           "showlegend": true,
           "textposition": "auto",
           "type": "bar",
           "x": [
            "Karnataka"
           ],
           "xaxis": "x",
           "y": [
            29.84
           ],
           "yaxis": "y"
          },
          {
           "alignmentgroup": "True",
           "hovertemplate": "state=%{x}<br>month=Apr<br>estimated unemployment rate=%{y}<extra></extra>",
           "legendgroup": "Kerala",
           "marker": {
            "color": "#00cc96",
            "pattern": {
             "shape": ""
            }
           },
           "name": "Kerala",
           "offsetgroup": "Kerala",
           "orientation": "v",
           "showlegend": true,
           "textposition": "auto",
           "type": "bar",
           "x": [
            "Kerala"
           ],
           "xaxis": "x",
           "y": [
            16.99
           ],
           "yaxis": "y"
          },
          {
           "alignmentgroup": "True",
           "hovertemplate": "state=%{x}<br>month=Apr<br>estimated unemployment rate=%{y}<extra></extra>",
           "legendgroup": "Madhya Pradesh",
           "marker": {
            "color": "#ab63fa",
            "pattern": {
             "shape": ""
            }
           },
           "name": "Madhya Pradesh",
           "offsetgroup": "Madhya Pradesh",
           "orientation": "v",
           "showlegend": true,
           "textposition": "auto",
           "type": "bar",
           "x": [
            "Madhya Pradesh"
           ],
           "xaxis": "x",
           "y": [
            12.36
           ],
           "yaxis": "y"
          },
          {
           "alignmentgroup": "True",
           "hovertemplate": "state=%{x}<br>month=Apr<br>estimated unemployment rate=%{y}<extra></extra>",
           "legendgroup": "Maharashtra",
           "marker": {
            "color": "#FFA15A",
            "pattern": {
             "shape": ""
            }
           },
           "name": "Maharashtra",
           "offsetgroup": "Maharashtra",
           "orientation": "v",
           "showlegend": true,
           "textposition": "auto",
           "type": "bar",
           "x": [
            "Maharashtra"
           ],
           "xaxis": "x",
           "y": [
            20.9
           ],
           "yaxis": "y"
          },
          {
           "alignmentgroup": "True",
           "hovertemplate": "state=%{x}<br>month=Apr<br>estimated unemployment rate=%{y}<extra></extra>",
           "legendgroup": "Meghalaya",
           "marker": {
            "color": "#19d3f3",
            "pattern": {
             "shape": ""
            }
           },
           "name": "Meghalaya",
           "offsetgroup": "Meghalaya",
           "orientation": "v",
           "showlegend": true,
           "textposition": "auto",
           "type": "bar",
           "x": [
            "Meghalaya"
           ],
           "xaxis": "x",
           "y": [
            10.03
           ],
           "yaxis": "y"
          },
          {
           "alignmentgroup": "True",
           "hovertemplate": "state=%{x}<br>month=Apr<br>estimated unemployment rate=%{y}<extra></extra>",
           "legendgroup": "Odisha",
           "marker": {
            "color": "#FF6692",
            "pattern": {
             "shape": ""
            }
           },
           "name": "Odisha",
           "offsetgroup": "Odisha",
           "orientation": "v",
           "showlegend": true,
           "textposition": "auto",
           "type": "bar",
           "x": [
            "Odisha"
           ],
           "xaxis": "x",
           "y": [
            23.76
           ],
           "yaxis": "y"
          },
          {
           "alignmentgroup": "True",
           "hovertemplate": "state=%{x}<br>month=Apr<br>estimated unemployment rate=%{y}<extra></extra>",
           "legendgroup": "Puducherry",
           "marker": {
            "color": "#B6E880",
            "pattern": {
             "shape": ""
            }
           },
           "name": "Puducherry",
           "offsetgroup": "Puducherry",
           "orientation": "v",
           "showlegend": true,
           "textposition": "auto",
           "type": "bar",
           "x": [
            "Puducherry"
           ],
           "xaxis": "x",
           "y": [
            75.85
           ],
           "yaxis": "y"
          },
          {
           "alignmentgroup": "True",
           "hovertemplate": "state=%{x}<br>month=Apr<br>estimated unemployment rate=%{y}<extra></extra>",
           "legendgroup": "Punjab",
           "marker": {
            "color": "#FF97FF",
            "pattern": {
             "shape": ""
            }
           },
           "name": "Punjab",
           "offsetgroup": "Punjab",
           "orientation": "v",
           "showlegend": true,
           "textposition": "auto",
           "type": "bar",
           "x": [
            "Punjab"
           ],
           "xaxis": "x",
           "y": [
            2.86
           ],
           "yaxis": "y"
          },
          {
           "alignmentgroup": "True",
           "hovertemplate": "state=%{x}<br>month=Apr<br>estimated unemployment rate=%{y}<extra></extra>",
           "legendgroup": "Rajasthan",
           "marker": {
            "color": "#FECB52",
            "pattern": {
             "shape": ""
            }
           },
           "name": "Rajasthan",
           "offsetgroup": "Rajasthan",
           "orientation": "v",
           "showlegend": true,
           "textposition": "auto",
           "type": "bar",
           "x": [
            "Rajasthan"
           ],
           "xaxis": "x",
           "y": [
            17.7
           ],
           "yaxis": "y"
          },
          {
           "alignmentgroup": "True",
           "hovertemplate": "state=%{x}<br>month=Apr<br>estimated unemployment rate=%{y}<extra></extra>",
           "legendgroup": "Sikkim",
           "marker": {
            "color": "#636efa",
            "pattern": {
             "shape": ""
            }
           },
           "name": "Sikkim",
           "offsetgroup": "Sikkim",
           "orientation": "v",
           "showlegend": true,
           "textposition": "auto",
           "type": "bar",
           "x": [
            "Sikkim"
           ],
           "xaxis": "x",
           "y": [
            2.28
           ],
           "yaxis": "y"
          },
          {
           "alignmentgroup": "True",
           "hovertemplate": "state=%{x}<br>month=Apr<br>estimated unemployment rate=%{y}<extra></extra>",
           "legendgroup": "Tamil Nadu",
           "marker": {
            "color": "#EF553B",
            "pattern": {
             "shape": ""
            }
           },
           "name": "Tamil Nadu",
           "offsetgroup": "Tamil Nadu",
           "orientation": "v",
           "showlegend": true,
           "textposition": "auto",
           "type": "bar",
           "x": [
            "Tamil Nadu"
           ],
           "xaxis": "x",
           "y": [
            49.83
           ],
           "yaxis": "y"
          },
          {
           "alignmentgroup": "True",
           "hovertemplate": "state=%{x}<br>month=Apr<br>estimated unemployment rate=%{y}<extra></extra>",
           "legendgroup": "Telangana",
           "marker": {
            "color": "#00cc96",
            "pattern": {
             "shape": ""
            }
           },
           "name": "Telangana",
           "offsetgroup": "Telangana",
           "orientation": "v",
           "showlegend": true,
           "textposition": "auto",
           "type": "bar",
           "x": [
            "Telangana"
           ],
           "xaxis": "x",
           "y": [
            6.25
           ],
           "yaxis": "y"
          },
          {
           "alignmentgroup": "True",
           "hovertemplate": "state=%{x}<br>month=Apr<br>estimated unemployment rate=%{y}<extra></extra>",
           "legendgroup": "Tripura",
           "marker": {
            "color": "#ab63fa",
            "pattern": {
             "shape": ""
            }
           },
           "name": "Tripura",
           "offsetgroup": "Tripura",
           "orientation": "v",
           "showlegend": true,
           "textposition": "auto",
           "type": "bar",
           "x": [
            "Tripura"
           ],
           "xaxis": "x",
           "y": [
            41.23
           ],
           "yaxis": "y"
          },
          {
           "alignmentgroup": "True",
           "hovertemplate": "state=%{x}<br>month=Apr<br>estimated unemployment rate=%{y}<extra></extra>",
           "legendgroup": "Uttar Pradesh",
           "marker": {
            "color": "#FFA15A",
            "pattern": {
             "shape": ""
            }
           },
           "name": "Uttar Pradesh",
           "offsetgroup": "Uttar Pradesh",
           "orientation": "v",
           "showlegend": true,
           "textposition": "auto",
           "type": "bar",
           "x": [
            "Uttar Pradesh"
           ],
           "xaxis": "x",
           "y": [
            21.54
           ],
           "yaxis": "y"
          },
          {
           "alignmentgroup": "True",
           "hovertemplate": "state=%{x}<br>month=Apr<br>estimated unemployment rate=%{y}<extra></extra>",
           "legendgroup": "Uttarakhand",
           "marker": {
            "color": "#19d3f3",
            "pattern": {
             "shape": ""
            }
           },
           "name": "Uttarakhand",
           "offsetgroup": "Uttarakhand",
           "orientation": "v",
           "showlegend": true,
           "textposition": "auto",
           "type": "bar",
           "x": [
            "Uttarakhand"
           ],
           "xaxis": "x",
           "y": [
            6.48
           ],
           "yaxis": "y"
          },
          {
           "alignmentgroup": "True",
           "hovertemplate": "state=%{x}<br>month=Apr<br>estimated unemployment rate=%{y}<extra></extra>",
           "legendgroup": "West Bengal",
           "marker": {
            "color": "#FF6692",
            "pattern": {
             "shape": ""
            }
           },
           "name": "West Bengal",
           "offsetgroup": "West Bengal",
           "orientation": "v",
           "showlegend": true,
           "textposition": "auto",
           "type": "bar",
           "x": [
            "West Bengal"
           ],
           "xaxis": "x",
           "y": [
            17.41
           ],
           "yaxis": "y"
          }
         ],
         "name": "Apr"
        },
        {
         "data": [
          {
           "alignmentgroup": "True",
           "hovertemplate": "state=%{x}<br>month=May<br>estimated unemployment rate=%{y}<extra></extra>",
           "legendgroup": "Andhra Pradesh",
           "marker": {
            "color": "#636efa",
            "pattern": {
             "shape": ""
            }
           },
           "name": "Andhra Pradesh",
           "offsetgroup": "Andhra Pradesh",
           "orientation": "v",
           "showlegend": true,
           "textposition": "auto",
           "type": "bar",
           "x": [
            "Andhra Pradesh"
           ],
           "xaxis": "x",
           "y": [
            17.43
           ],
           "yaxis": "y"
          },
          {
           "alignmentgroup": "True",
           "hovertemplate": "state=%{x}<br>month=May<br>estimated unemployment rate=%{y}<extra></extra>",
           "legendgroup": "Assam",
           "marker": {
            "color": "#EF553B",
            "pattern": {
             "shape": ""
            }
           },
           "name": "Assam",
           "offsetgroup": "Assam",
           "orientation": "v",
           "showlegend": true,
           "textposition": "auto",
           "type": "bar",
           "x": [
            "Assam"
           ],
           "xaxis": "x",
           "y": [
            9.55
           ],
           "yaxis": "y"
          },
          {
           "alignmentgroup": "True",
           "hovertemplate": "state=%{x}<br>month=May<br>estimated unemployment rate=%{y}<extra></extra>",
           "legendgroup": "Bihar",
           "marker": {
            "color": "#00cc96",
            "pattern": {
             "shape": ""
            }
           },
           "name": "Bihar",
           "offsetgroup": "Bihar",
           "orientation": "v",
           "showlegend": true,
           "textposition": "auto",
           "type": "bar",
           "x": [
            "Bihar"
           ],
           "xaxis": "x",
           "y": [
            45.96
           ],
           "yaxis": "y"
          },
          {
           "alignmentgroup": "True",
           "hovertemplate": "state=%{x}<br>month=May<br>estimated unemployment rate=%{y}<extra></extra>",
           "legendgroup": "Chhattisgarh",
           "marker": {
            "color": "#ab63fa",
            "pattern": {
             "shape": ""
            }
           },
           "name": "Chhattisgarh",
           "offsetgroup": "Chhattisgarh",
           "orientation": "v",
           "showlegend": true,
           "textposition": "auto",
           "type": "bar",
           "x": [
            "Chhattisgarh"
           ],
           "xaxis": "x",
           "y": [
            10.5
           ],
           "yaxis": "y"
          },
          {
           "alignmentgroup": "True",
           "hovertemplate": "state=%{x}<br>month=May<br>estimated unemployment rate=%{y}<extra></extra>",
           "legendgroup": "Delhi",
           "marker": {
            "color": "#FFA15A",
            "pattern": {
             "shape": ""
            }
           },
           "name": "Delhi",
           "offsetgroup": "Delhi",
           "orientation": "v",
           "showlegend": true,
           "textposition": "auto",
           "type": "bar",
           "x": [
            "Delhi"
           ],
           "xaxis": "x",
           "y": [
            42.27
           ],
           "yaxis": "y"
          },
          {
           "alignmentgroup": "True",
           "hovertemplate": "state=%{x}<br>month=May<br>estimated unemployment rate=%{y}<extra></extra>",
           "legendgroup": "Goa",
           "marker": {
            "color": "#19d3f3",
            "pattern": {
             "shape": ""
            }
           },
           "name": "Goa",
           "offsetgroup": "Goa",
           "orientation": "v",
           "showlegend": true,
           "textposition": "auto",
           "type": "bar",
           "x": [
            "Goa"
           ],
           "xaxis": "x",
           "y": [
            21.25
           ],
           "yaxis": "y"
          },
          {
           "alignmentgroup": "True",
           "hovertemplate": "state=%{x}<br>month=May<br>estimated unemployment rate=%{y}<extra></extra>",
           "legendgroup": "Gujarat",
           "marker": {
            "color": "#FF6692",
            "pattern": {
             "shape": ""
            }
           },
           "name": "Gujarat",
           "offsetgroup": "Gujarat",
           "orientation": "v",
           "showlegend": true,
           "textposition": "auto",
           "type": "bar",
           "x": [
            "Gujarat"
           ],
           "xaxis": "x",
           "y": [
            12.11
           ],
           "yaxis": "y"
          },
          {
           "alignmentgroup": "True",
           "hovertemplate": "state=%{x}<br>month=May<br>estimated unemployment rate=%{y}<extra></extra>",
           "legendgroup": "Haryana",
           "marker": {
            "color": "#B6E880",
            "pattern": {
             "shape": ""
            }
           },
           "name": "Haryana",
           "offsetgroup": "Haryana",
           "orientation": "v",
           "showlegend": true,
           "textposition": "auto",
           "type": "bar",
           "x": [
            "Haryana"
           ],
           "xaxis": "x",
           "y": [
            29.02
           ],
           "yaxis": "y"
          },
          {
           "alignmentgroup": "True",
           "hovertemplate": "state=%{x}<br>month=May<br>estimated unemployment rate=%{y}<extra></extra>",
           "legendgroup": "Himachal Pradesh",
           "marker": {
            "color": "#FF97FF",
            "pattern": {
             "shape": ""
            }
           },
           "name": "Himachal Pradesh",
           "offsetgroup": "Himachal Pradesh",
           "orientation": "v",
           "showlegend": true,
           "textposition": "auto",
           "type": "bar",
           "x": [
            "Himachal Pradesh"
           ],
           "xaxis": "x",
           "y": [
            26.95
           ],
           "yaxis": "y"
          },
          {
           "alignmentgroup": "True",
           "hovertemplate": "state=%{x}<br>month=May<br>estimated unemployment rate=%{y}<extra></extra>",
           "legendgroup": "Jammu & Kashmir",
           "marker": {
            "color": "#FECB52",
            "pattern": {
             "shape": ""
            }
           },
           "name": "Jammu & Kashmir",
           "offsetgroup": "Jammu & Kashmir",
           "orientation": "v",
           "showlegend": true,
           "textposition": "auto",
           "type": "bar",
           "x": [
            "Jammu & Kashmir"
           ],
           "xaxis": "x",
           "y": [
            18.74
           ],
           "yaxis": "y"
          },
          {
           "alignmentgroup": "True",
           "hovertemplate": "state=%{x}<br>month=May<br>estimated unemployment rate=%{y}<extra></extra>",
           "legendgroup": "Jharkhand",
           "marker": {
            "color": "#636efa",
            "pattern": {
             "shape": ""
            }
           },
           "name": "Jharkhand",
           "offsetgroup": "Jharkhand",
           "orientation": "v",
           "showlegend": true,
           "textposition": "auto",
           "type": "bar",
           "x": [
            "Jharkhand"
           ],
           "xaxis": "x",
           "y": [
            59.23
           ],
           "yaxis": "y"
          },
          {
           "alignmentgroup": "True",
           "hovertemplate": "state=%{x}<br>month=May<br>estimated unemployment rate=%{y}<extra></extra>",
           "legendgroup": "Karnataka",
           "marker": {
            "color": "#EF553B",
            "pattern": {
             "shape": ""
            }
           },
           "name": "Karnataka",
           "offsetgroup": "Karnataka",
           "orientation": "v",
           "showlegend": true,
           "textposition": "auto",
           "type": "bar",
           "x": [
            "Karnataka"
           ],
           "xaxis": "x",
           "y": [
            19.97
           ],
           "yaxis": "y"
          },
          {
           "alignmentgroup": "True",
           "hovertemplate": "state=%{x}<br>month=May<br>estimated unemployment rate=%{y}<extra></extra>",
           "legendgroup": "Kerala",
           "marker": {
            "color": "#00cc96",
            "pattern": {
             "shape": ""
            }
           },
           "name": "Kerala",
           "offsetgroup": "Kerala",
           "orientation": "v",
           "showlegend": true,
           "textposition": "auto",
           "type": "bar",
           "x": [
            "Kerala"
           ],
           "xaxis": "x",
           "y": [
            17.88
           ],
           "yaxis": "y"
          },
          {
           "alignmentgroup": "True",
           "hovertemplate": "state=%{x}<br>month=May<br>estimated unemployment rate=%{y}<extra></extra>",
           "legendgroup": "Madhya Pradesh",
           "marker": {
            "color": "#ab63fa",
            "pattern": {
             "shape": ""
            }
           },
           "name": "Madhya Pradesh",
           "offsetgroup": "Madhya Pradesh",
           "orientation": "v",
           "showlegend": true,
           "textposition": "auto",
           "type": "bar",
           "x": [
            "Madhya Pradesh"
           ],
           "xaxis": "x",
           "y": [
            21.98
           ],
           "yaxis": "y"
          },
          {
           "alignmentgroup": "True",
           "hovertemplate": "state=%{x}<br>month=May<br>estimated unemployment rate=%{y}<extra></extra>",
           "legendgroup": "Maharashtra",
           "marker": {
            "color": "#FFA15A",
            "pattern": {
             "shape": ""
            }
           },
           "name": "Maharashtra",
           "offsetgroup": "Maharashtra",
           "orientation": "v",
           "showlegend": true,
           "textposition": "auto",
           "type": "bar",
           "x": [
            "Maharashtra"
           ],
           "xaxis": "x",
           "y": [
            15.46
           ],
           "yaxis": "y"
          },
          {
           "alignmentgroup": "True",
           "hovertemplate": "state=%{x}<br>month=May<br>estimated unemployment rate=%{y}<extra></extra>",
           "legendgroup": "Meghalaya",
           "marker": {
            "color": "#19d3f3",
            "pattern": {
             "shape": ""
            }
           },
           "name": "Meghalaya",
           "offsetgroup": "Meghalaya",
           "orientation": "v",
           "showlegend": true,
           "textposition": "auto",
           "type": "bar",
           "x": [
            "Meghalaya"
           ],
           "xaxis": "x",
           "y": [
            5.92
           ],
           "yaxis": "y"
          },
          {
           "alignmentgroup": "True",
           "hovertemplate": "state=%{x}<br>month=May<br>estimated unemployment rate=%{y}<extra></extra>",
           "legendgroup": "Odisha",
           "marker": {
            "color": "#FF6692",
            "pattern": {
             "shape": ""
            }
           },
           "name": "Odisha",
           "offsetgroup": "Odisha",
           "orientation": "v",
           "showlegend": true,
           "textposition": "auto",
           "type": "bar",
           "x": [
            "Odisha"
           ],
           "xaxis": "x",
           "y": [
            11.41
           ],
           "yaxis": "y"
          },
          {
           "alignmentgroup": "True",
           "hovertemplate": "state=%{x}<br>month=May<br>estimated unemployment rate=%{y}<extra></extra>",
           "legendgroup": "Puducherry",
           "marker": {
            "color": "#B6E880",
            "pattern": {
             "shape": ""
            }
           },
           "name": "Puducherry",
           "offsetgroup": "Puducherry",
           "orientation": "v",
           "showlegend": true,
           "textposition": "auto",
           "type": "bar",
           "x": [
            "Puducherry"
           ],
           "xaxis": "x",
           "y": [
            58.19
           ],
           "yaxis": "y"
          },
          {
           "alignmentgroup": "True",
           "hovertemplate": "state=%{x}<br>month=May<br>estimated unemployment rate=%{y}<extra></extra>",
           "legendgroup": "Punjab",
           "marker": {
            "color": "#FF97FF",
            "pattern": {
             "shape": ""
            }
           },
           "name": "Punjab",
           "offsetgroup": "Punjab",
           "orientation": "v",
           "showlegend": true,
           "textposition": "auto",
           "type": "bar",
           "x": [
            "Punjab"
           ],
           "xaxis": "x",
           "y": [
            28.33
           ],
           "yaxis": "y"
          },
          {
           "alignmentgroup": "True",
           "hovertemplate": "state=%{x}<br>month=May<br>estimated unemployment rate=%{y}<extra></extra>",
           "legendgroup": "Rajasthan",
           "marker": {
            "color": "#FECB52",
            "pattern": {
             "shape": ""
            }
           },
           "name": "Rajasthan",
           "offsetgroup": "Rajasthan",
           "orientation": "v",
           "showlegend": true,
           "textposition": "auto",
           "type": "bar",
           "x": [
            "Rajasthan"
           ],
           "xaxis": "x",
           "y": [
            15.74
           ],
           "yaxis": "y"
          },
          {
           "alignmentgroup": "True",
           "hovertemplate": "state=%{x}<br>month=May<br>estimated unemployment rate=%{y}<extra></extra>",
           "legendgroup": "Sikkim",
           "marker": {
            "color": "#636efa",
            "pattern": {
             "shape": ""
            }
           },
           "name": "Sikkim",
           "offsetgroup": "Sikkim",
           "orientation": "v",
           "showlegend": true,
           "textposition": "auto",
           "type": "bar",
           "x": [
            "Sikkim"
           ],
           "xaxis": "x",
           "y": [
            24.51
           ],
           "yaxis": "y"
          },
          {
           "alignmentgroup": "True",
           "hovertemplate": "state=%{x}<br>month=May<br>estimated unemployment rate=%{y}<extra></extra>",
           "legendgroup": "Tamil Nadu",
           "marker": {
            "color": "#EF553B",
            "pattern": {
             "shape": ""
            }
           },
           "name": "Tamil Nadu",
           "offsetgroup": "Tamil Nadu",
           "orientation": "v",
           "showlegend": true,
           "textposition": "auto",
           "type": "bar",
           "x": [
            "Tamil Nadu"
           ],
           "xaxis": "x",
           "y": [
            33.16
           ],
           "yaxis": "y"
          },
          {
           "alignmentgroup": "True",
           "hovertemplate": "state=%{x}<br>month=May<br>estimated unemployment rate=%{y}<extra></extra>",
           "legendgroup": "Telangana",
           "marker": {
            "color": "#00cc96",
            "pattern": {
             "shape": ""
            }
           },
           "name": "Telangana",
           "offsetgroup": "Telangana",
           "orientation": "v",
           "showlegend": true,
           "textposition": "auto",
           "type": "bar",
           "x": [
            "Telangana"
           ],
           "xaxis": "x",
           "y": [
            14.7
           ],
           "yaxis": "y"
          },
          {
           "alignmentgroup": "True",
           "hovertemplate": "state=%{x}<br>month=May<br>estimated unemployment rate=%{y}<extra></extra>",
           "legendgroup": "Tripura",
           "marker": {
            "color": "#ab63fa",
            "pattern": {
             "shape": ""
            }
           },
           "name": "Tripura",
           "offsetgroup": "Tripura",
           "orientation": "v",
           "showlegend": true,
           "textposition": "auto",
           "type": "bar",
           "x": [
            "Tripura"
           ],
           "xaxis": "x",
           "y": [
            21.51
           ],
           "yaxis": "y"
          },
          {
           "alignmentgroup": "True",
           "hovertemplate": "state=%{x}<br>month=May<br>estimated unemployment rate=%{y}<extra></extra>",
           "legendgroup": "Uttar Pradesh",
           "marker": {
            "color": "#FFA15A",
            "pattern": {
             "shape": ""
            }
           },
           "name": "Uttar Pradesh",
           "offsetgroup": "Uttar Pradesh",
           "orientation": "v",
           "showlegend": true,
           "textposition": "auto",
           "type": "bar",
           "x": [
            "Uttar Pradesh"
           ],
           "xaxis": "x",
           "y": [
            20.41
           ],
           "yaxis": "y"
          },
          {
           "alignmentgroup": "True",
           "hovertemplate": "state=%{x}<br>month=May<br>estimated unemployment rate=%{y}<extra></extra>",
           "legendgroup": "Uttarakhand",
           "marker": {
            "color": "#19d3f3",
            "pattern": {
             "shape": ""
            }
           },
           "name": "Uttarakhand",
           "offsetgroup": "Uttarakhand",
           "orientation": "v",
           "showlegend": true,
           "textposition": "auto",
           "type": "bar",
           "x": [
            "Uttarakhand"
           ],
           "xaxis": "x",
           "y": [
            8.01
           ],
           "yaxis": "y"
          },
          {
           "alignmentgroup": "True",
           "hovertemplate": "state=%{x}<br>month=May<br>estimated unemployment rate=%{y}<extra></extra>",
           "legendgroup": "West Bengal",
           "marker": {
            "color": "#FF6692",
            "pattern": {
             "shape": ""
            }
           },
           "name": "West Bengal",
           "offsetgroup": "West Bengal",
           "orientation": "v",
           "showlegend": true,
           "textposition": "auto",
           "type": "bar",
           "x": [
            "West Bengal"
           ],
           "xaxis": "x",
           "y": [
            17.41
           ],
           "yaxis": "y"
          }
         ],
         "name": "May"
        },
        {
         "data": [
          {
           "alignmentgroup": "True",
           "hovertemplate": "state=%{x}<br>month=Jun<br>estimated unemployment rate=%{y}<extra></extra>",
           "legendgroup": "Andhra Pradesh",
           "marker": {
            "color": "#636efa",
            "pattern": {
             "shape": ""
            }
           },
           "name": "Andhra Pradesh",
           "offsetgroup": "Andhra Pradesh",
           "orientation": "v",
           "showlegend": true,
           "textposition": "auto",
           "type": "bar",
           "x": [
            "Andhra Pradesh"
           ],
           "xaxis": "x",
           "y": [
            3.31
           ],
           "yaxis": "y"
          },
          {
           "alignmentgroup": "True",
           "hovertemplate": "state=%{x}<br>month=Jun<br>estimated unemployment rate=%{y}<extra></extra>",
           "legendgroup": "Assam",
           "marker": {
            "color": "#EF553B",
            "pattern": {
             "shape": ""
            }
           },
           "name": "Assam",
           "offsetgroup": "Assam",
           "orientation": "v",
           "showlegend": true,
           "textposition": "auto",
           "type": "bar",
           "x": [
            "Assam"
           ],
           "xaxis": "x",
           "y": [
            0.6
           ],
           "yaxis": "y"
          },
          {
           "alignmentgroup": "True",
           "hovertemplate": "state=%{x}<br>month=Jun<br>estimated unemployment rate=%{y}<extra></extra>",
           "legendgroup": "Bihar",
           "marker": {
            "color": "#00cc96",
            "pattern": {
             "shape": ""
            }
           },
           "name": "Bihar",
           "offsetgroup": "Bihar",
           "orientation": "v",
           "showlegend": true,
           "textposition": "auto",
           "type": "bar",
           "x": [
            "Bihar"
           ],
           "xaxis": "x",
           "y": [
            17.82
           ],
           "yaxis": "y"
          },
          {
           "alignmentgroup": "True",
           "hovertemplate": "state=%{x}<br>month=Jun<br>estimated unemployment rate=%{y}<extra></extra>",
           "legendgroup": "Chhattisgarh",
           "marker": {
            "color": "#ab63fa",
            "pattern": {
             "shape": ""
            }
           },
           "name": "Chhattisgarh",
           "offsetgroup": "Chhattisgarh",
           "orientation": "v",
           "showlegend": true,
           "textposition": "auto",
           "type": "bar",
           "x": [
            "Chhattisgarh"
           ],
           "xaxis": "x",
           "y": [
            14.23
           ],
           "yaxis": "y"
          },
          {
           "alignmentgroup": "True",
           "hovertemplate": "state=%{x}<br>month=Jun<br>estimated unemployment rate=%{y}<extra></extra>",
           "legendgroup": "Delhi",
           "marker": {
            "color": "#FFA15A",
            "pattern": {
             "shape": ""
            }
           },
           "name": "Delhi",
           "offsetgroup": "Delhi",
           "orientation": "v",
           "showlegend": true,
           "textposition": "auto",
           "type": "bar",
           "x": [
            "Delhi"
           ],
           "xaxis": "x",
           "y": [
            18.19
           ],
           "yaxis": "y"
          },
          {
           "alignmentgroup": "True",
           "hovertemplate": "state=%{x}<br>month=Jun<br>estimated unemployment rate=%{y}<extra></extra>",
           "legendgroup": "Goa",
           "marker": {
            "color": "#19d3f3",
            "pattern": {
             "shape": ""
            }
           },
           "name": "Goa",
           "offsetgroup": "Goa",
           "orientation": "v",
           "showlegend": true,
           "textposition": "auto",
           "type": "bar",
           "x": [
            "Goa"
           ],
           "xaxis": "x",
           "y": [
            9.96
           ],
           "yaxis": "y"
          },
          {
           "alignmentgroup": "True",
           "hovertemplate": "state=%{x}<br>month=Jun<br>estimated unemployment rate=%{y}<extra></extra>",
           "legendgroup": "Gujarat",
           "marker": {
            "color": "#FF6692",
            "pattern": {
             "shape": ""
            }
           },
           "name": "Gujarat",
           "offsetgroup": "Gujarat",
           "orientation": "v",
           "showlegend": true,
           "textposition": "auto",
           "type": "bar",
           "x": [
            "Gujarat"
           ],
           "xaxis": "x",
           "y": [
            3.2
           ],
           "yaxis": "y"
          },
          {
           "alignmentgroup": "True",
           "hovertemplate": "state=%{x}<br>month=Jun<br>estimated unemployment rate=%{y}<extra></extra>",
           "legendgroup": "Haryana",
           "marker": {
            "color": "#B6E880",
            "pattern": {
             "shape": ""
            }
           },
           "name": "Haryana",
           "offsetgroup": "Haryana",
           "orientation": "v",
           "showlegend": true,
           "textposition": "auto",
           "type": "bar",
           "x": [
            "Haryana"
           ],
           "xaxis": "x",
           "y": [
            26.7
           ],
           "yaxis": "y"
          },
          {
           "alignmentgroup": "True",
           "hovertemplate": "state=%{x}<br>month=Jun<br>estimated unemployment rate=%{y}<extra></extra>",
           "legendgroup": "Himachal Pradesh",
           "marker": {
            "color": "#FF97FF",
            "pattern": {
             "shape": ""
            }
           },
           "name": "Himachal Pradesh",
           "offsetgroup": "Himachal Pradesh",
           "orientation": "v",
           "showlegend": true,
           "textposition": "auto",
           "type": "bar",
           "x": [
            "Himachal Pradesh"
           ],
           "xaxis": "x",
           "y": [
            13.47
           ],
           "yaxis": "y"
          },
          {
           "alignmentgroup": "True",
           "hovertemplate": "state=%{x}<br>month=Jun<br>estimated unemployment rate=%{y}<extra></extra>",
           "legendgroup": "Jammu & Kashmir",
           "marker": {
            "color": "#FECB52",
            "pattern": {
             "shape": ""
            }
           },
           "name": "Jammu & Kashmir",
           "offsetgroup": "Jammu & Kashmir",
           "orientation": "v",
           "showlegend": true,
           "textposition": "auto",
           "type": "bar",
           "x": [
            "Jammu & Kashmir"
           ],
           "xaxis": "x",
           "y": [
            17.92
           ],
           "yaxis": "y"
          },
          {
           "alignmentgroup": "True",
           "hovertemplate": "state=%{x}<br>month=Jun<br>estimated unemployment rate=%{y}<extra></extra>",
           "legendgroup": "Jharkhand",
           "marker": {
            "color": "#636efa",
            "pattern": {
             "shape": ""
            }
           },
           "name": "Jharkhand",
           "offsetgroup": "Jharkhand",
           "orientation": "v",
           "showlegend": true,
           "textposition": "auto",
           "type": "bar",
           "x": [
            "Jharkhand"
           ],
           "xaxis": "x",
           "y": [
            20.95
           ],
           "yaxis": "y"
          },
          {
           "alignmentgroup": "True",
           "hovertemplate": "state=%{x}<br>month=Jun<br>estimated unemployment rate=%{y}<extra></extra>",
           "legendgroup": "Karnataka",
           "marker": {
            "color": "#EF553B",
            "pattern": {
             "shape": ""
            }
           },
           "name": "Karnataka",
           "offsetgroup": "Karnataka",
           "orientation": "v",
           "showlegend": true,
           "textposition": "auto",
           "type": "bar",
           "x": [
            "Karnataka"
           ],
           "xaxis": "x",
           "y": [
            8.44
           ],
           "yaxis": "y"
          },
          {
           "alignmentgroup": "True",
           "hovertemplate": "state=%{x}<br>month=Jun<br>estimated unemployment rate=%{y}<extra></extra>",
           "legendgroup": "Kerala",
           "marker": {
            "color": "#00cc96",
            "pattern": {
             "shape": ""
            }
           },
           "name": "Kerala",
           "offsetgroup": "Kerala",
           "orientation": "v",
           "showlegend": true,
           "textposition": "auto",
           "type": "bar",
           "x": [
            "Kerala"
           ],
           "xaxis": "x",
           "y": [
            9.71
           ],
           "yaxis": "y"
          },
          {
           "alignmentgroup": "True",
           "hovertemplate": "state=%{x}<br>month=Jun<br>estimated unemployment rate=%{y}<extra></extra>",
           "legendgroup": "Madhya Pradesh",
           "marker": {
            "color": "#ab63fa",
            "pattern": {
             "shape": ""
            }
           },
           "name": "Madhya Pradesh",
           "offsetgroup": "Madhya Pradesh",
           "orientation": "v",
           "showlegend": true,
           "textposition": "auto",
           "type": "bar",
           "x": [
            "Madhya Pradesh"
           ],
           "xaxis": "x",
           "y": [
            6.48
           ],
           "yaxis": "y"
          },
          {
           "alignmentgroup": "True",
           "hovertemplate": "state=%{x}<br>month=Jun<br>estimated unemployment rate=%{y}<extra></extra>",
           "legendgroup": "Maharashtra",
           "marker": {
            "color": "#FFA15A",
            "pattern": {
             "shape": ""
            }
           },
           "name": "Maharashtra",
           "offsetgroup": "Maharashtra",
           "orientation": "v",
           "showlegend": true,
           "textposition": "auto",
           "type": "bar",
           "x": [
            "Maharashtra"
           ],
           "xaxis": "x",
           "y": [
            9.23
           ],
           "yaxis": "y"
          },
          {
           "alignmentgroup": "True",
           "hovertemplate": "state=%{x}<br>month=Jun<br>estimated unemployment rate=%{y}<extra></extra>",
           "legendgroup": "Meghalaya",
           "marker": {
            "color": "#19d3f3",
            "pattern": {
             "shape": ""
            }
           },
           "name": "Meghalaya",
           "offsetgroup": "Meghalaya",
           "orientation": "v",
           "showlegend": true,
           "textposition": "auto",
           "type": "bar",
           "x": [
            "Meghalaya"
           ],
           "xaxis": "x",
           "y": [
            1.15
           ],
           "yaxis": "y"
          },
          {
           "alignmentgroup": "True",
           "hovertemplate": "state=%{x}<br>month=Jun<br>estimated unemployment rate=%{y}<extra></extra>",
           "legendgroup": "Odisha",
           "marker": {
            "color": "#FF6692",
            "pattern": {
             "shape": ""
            }
           },
           "name": "Odisha",
           "offsetgroup": "Odisha",
           "orientation": "v",
           "showlegend": true,
           "textposition": "auto",
           "type": "bar",
           "x": [
            "Odisha"
           ],
           "xaxis": "x",
           "y": [
            3.77
           ],
           "yaxis": "y"
          },
          {
           "alignmentgroup": "True",
           "hovertemplate": "state=%{x}<br>month=Jun<br>estimated unemployment rate=%{y}<extra></extra>",
           "legendgroup": "Puducherry",
           "marker": {
            "color": "#B6E880",
            "pattern": {
             "shape": ""
            }
           },
           "name": "Puducherry",
           "offsetgroup": "Puducherry",
           "orientation": "v",
           "showlegend": true,
           "textposition": "auto",
           "type": "bar",
           "x": [
            "Puducherry"
           ],
           "xaxis": "x",
           "y": [
            4.24
           ],
           "yaxis": "y"
          },
          {
           "alignmentgroup": "True",
           "hovertemplate": "state=%{x}<br>month=Jun<br>estimated unemployment rate=%{y}<extra></extra>",
           "legendgroup": "Punjab",
           "marker": {
            "color": "#FF97FF",
            "pattern": {
             "shape": ""
            }
           },
           "name": "Punjab",
           "offsetgroup": "Punjab",
           "orientation": "v",
           "showlegend": true,
           "textposition": "auto",
           "type": "bar",
           "x": [
            "Punjab"
           ],
           "xaxis": "x",
           "y": [
            16.55
           ],
           "yaxis": "y"
          },
          {
           "alignmentgroup": "True",
           "hovertemplate": "state=%{x}<br>month=Jun<br>estimated unemployment rate=%{y}<extra></extra>",
           "legendgroup": "Rajasthan",
           "marker": {
            "color": "#FECB52",
            "pattern": {
             "shape": ""
            }
           },
           "name": "Rajasthan",
           "offsetgroup": "Rajasthan",
           "orientation": "v",
           "showlegend": true,
           "textposition": "auto",
           "type": "bar",
           "x": [
            "Rajasthan"
           ],
           "xaxis": "x",
           "y": [
            14.39
           ],
           "yaxis": "y"
          },
          {
           "alignmentgroup": "True",
           "hovertemplate": "state=%{x}<br>month=Jun<br>estimated unemployment rate=%{y}<extra></extra>",
           "legendgroup": "Sikkim",
           "marker": {
            "color": "#636efa",
            "pattern": {
             "shape": ""
            }
           },
           "name": "Sikkim",
           "offsetgroup": "Sikkim",
           "orientation": "v",
           "showlegend": true,
           "textposition": "auto",
           "type": "bar",
           "x": [
            "Sikkim"
           ],
           "xaxis": "x",
           "y": [
            4.46
           ],
           "yaxis": "y"
          },
          {
           "alignmentgroup": "True",
           "hovertemplate": "state=%{x}<br>month=Jun<br>estimated unemployment rate=%{y}<extra></extra>",
           "legendgroup": "Tamil Nadu",
           "marker": {
            "color": "#EF553B",
            "pattern": {
             "shape": ""
            }
           },
           "name": "Tamil Nadu",
           "offsetgroup": "Tamil Nadu",
           "orientation": "v",
           "showlegend": true,
           "textposition": "auto",
           "type": "bar",
           "x": [
            "Tamil Nadu"
           ],
           "xaxis": "x",
           "y": [
            12.2
           ],
           "yaxis": "y"
          },
          {
           "alignmentgroup": "True",
           "hovertemplate": "state=%{x}<br>month=Jun<br>estimated unemployment rate=%{y}<extra></extra>",
           "legendgroup": "Telangana",
           "marker": {
            "color": "#00cc96",
            "pattern": {
             "shape": ""
            }
           },
           "name": "Telangana",
           "offsetgroup": "Telangana",
           "orientation": "v",
           "showlegend": true,
           "textposition": "auto",
           "type": "bar",
           "x": [
            "Telangana"
           ],
           "xaxis": "x",
           "y": [
            10.55
           ],
           "yaxis": "y"
          },
          {
           "alignmentgroup": "True",
           "hovertemplate": "state=%{x}<br>month=Jun<br>estimated unemployment rate=%{y}<extra></extra>",
           "legendgroup": "Tripura",
           "marker": {
            "color": "#ab63fa",
            "pattern": {
             "shape": ""
            }
           },
           "name": "Tripura",
           "offsetgroup": "Tripura",
           "orientation": "v",
           "showlegend": true,
           "textposition": "auto",
           "type": "bar",
           "x": [
            "Tripura"
           ],
           "xaxis": "x",
           "y": [
            21.71
           ],
           "yaxis": "y"
          },
          {
           "alignmentgroup": "True",
           "hovertemplate": "state=%{x}<br>month=Jun<br>estimated unemployment rate=%{y}<extra></extra>",
           "legendgroup": "Uttar Pradesh",
           "marker": {
            "color": "#FFA15A",
            "pattern": {
             "shape": ""
            }
           },
           "name": "Uttar Pradesh",
           "offsetgroup": "Uttar Pradesh",
           "orientation": "v",
           "showlegend": true,
           "textposition": "auto",
           "type": "bar",
           "x": [
            "Uttar Pradesh"
           ],
           "xaxis": "x",
           "y": [
            9.47
           ],
           "yaxis": "y"
          },
          {
           "alignmentgroup": "True",
           "hovertemplate": "state=%{x}<br>month=Jun<br>estimated unemployment rate=%{y}<extra></extra>",
           "legendgroup": "Uttarakhand",
           "marker": {
            "color": "#19d3f3",
            "pattern": {
             "shape": ""
            }
           },
           "name": "Uttarakhand",
           "offsetgroup": "Uttarakhand",
           "orientation": "v",
           "showlegend": true,
           "textposition": "auto",
           "type": "bar",
           "x": [
            "Uttarakhand"
           ],
           "xaxis": "x",
           "y": [
            8.61
           ],
           "yaxis": "y"
          },
          {
           "alignmentgroup": "True",
           "hovertemplate": "state=%{x}<br>month=Jun<br>estimated unemployment rate=%{y}<extra></extra>",
           "legendgroup": "West Bengal",
           "marker": {
            "color": "#FF6692",
            "pattern": {
             "shape": ""
            }
           },
           "name": "West Bengal",
           "offsetgroup": "West Bengal",
           "orientation": "v",
           "showlegend": true,
           "textposition": "auto",
           "type": "bar",
           "x": [
            "West Bengal"
           ],
           "xaxis": "x",
           "y": [
            7.29
           ],
           "yaxis": "y"
          }
         ],
         "name": "Jun"
        },
        {
         "data": [
          {
           "alignmentgroup": "True",
           "hovertemplate": "state=%{x}<br>month=Jul<br>estimated unemployment rate=%{y}<extra></extra>",
           "legendgroup": "Andhra Pradesh",
           "marker": {
            "color": "#636efa",
            "pattern": {
             "shape": ""
            }
           },
           "name": "Andhra Pradesh",
           "offsetgroup": "Andhra Pradesh",
           "orientation": "v",
           "showlegend": true,
           "textposition": "auto",
           "type": "bar",
           "x": [
            "Andhra Pradesh"
           ],
           "xaxis": "x",
           "y": [
            8.34
           ],
           "yaxis": "y"
          },
          {
           "alignmentgroup": "True",
           "hovertemplate": "state=%{x}<br>month=Jul<br>estimated unemployment rate=%{y}<extra></extra>",
           "legendgroup": "Assam",
           "marker": {
            "color": "#EF553B",
            "pattern": {
             "shape": ""
            }
           },
           "name": "Assam",
           "offsetgroup": "Assam",
           "orientation": "v",
           "showlegend": true,
           "textposition": "auto",
           "type": "bar",
           "x": [
            "Assam"
           ],
           "xaxis": "x",
           "y": [
            3.77
           ],
           "yaxis": "y"
          },
          {
           "alignmentgroup": "True",
           "hovertemplate": "state=%{x}<br>month=Jul<br>estimated unemployment rate=%{y}<extra></extra>",
           "legendgroup": "Bihar",
           "marker": {
            "color": "#00cc96",
            "pattern": {
             "shape": ""
            }
           },
           "name": "Bihar",
           "offsetgroup": "Bihar",
           "orientation": "v",
           "showlegend": true,
           "textposition": "auto",
           "type": "bar",
           "x": [
            "Bihar"
           ],
           "xaxis": "x",
           "y": [
            12.79
           ],
           "yaxis": "y"
          },
          {
           "alignmentgroup": "True",
           "hovertemplate": "state=%{x}<br>month=Jul<br>estimated unemployment rate=%{y}<extra></extra>",
           "legendgroup": "Chhattisgarh",
           "marker": {
            "color": "#ab63fa",
            "pattern": {
             "shape": ""
            }
           },
           "name": "Chhattisgarh",
           "offsetgroup": "Chhattisgarh",
           "orientation": "v",
           "showlegend": true,
           "textposition": "auto",
           "type": "bar",
           "x": [
            "Chhattisgarh"
           ],
           "xaxis": "x",
           "y": [
            10.27
           ],
           "yaxis": "y"
          },
          {
           "alignmentgroup": "True",
           "hovertemplate": "state=%{x}<br>month=Jul<br>estimated unemployment rate=%{y}<extra></extra>",
           "legendgroup": "Delhi",
           "marker": {
            "color": "#FFA15A",
            "pattern": {
             "shape": ""
            }
           },
           "name": "Delhi",
           "offsetgroup": "Delhi",
           "orientation": "v",
           "showlegend": true,
           "textposition": "auto",
           "type": "bar",
           "x": [
            "Delhi"
           ],
           "xaxis": "x",
           "y": [
            20.3
           ],
           "yaxis": "y"
          },
          {
           "alignmentgroup": "True",
           "hovertemplate": "state=%{x}<br>month=Jul<br>estimated unemployment rate=%{y}<extra></extra>",
           "legendgroup": "Goa",
           "marker": {
            "color": "#19d3f3",
            "pattern": {
             "shape": ""
            }
           },
           "name": "Goa",
           "offsetgroup": "Goa",
           "orientation": "v",
           "showlegend": true,
           "textposition": "auto",
           "type": "bar",
           "x": [
            "Goa"
           ],
           "xaxis": "x",
           "y": [
            17.07
           ],
           "yaxis": "y"
          },
          {
           "alignmentgroup": "True",
           "hovertemplate": "state=%{x}<br>month=Jul<br>estimated unemployment rate=%{y}<extra></extra>",
           "legendgroup": "Gujarat",
           "marker": {
            "color": "#FF6692",
            "pattern": {
             "shape": ""
            }
           },
           "name": "Gujarat",
           "offsetgroup": "Gujarat",
           "orientation": "v",
           "showlegend": true,
           "textposition": "auto",
           "type": "bar",
           "x": [
            "Gujarat"
           ],
           "xaxis": "x",
           "y": [
            1.84
           ],
           "yaxis": "y"
          },
          {
           "alignmentgroup": "True",
           "hovertemplate": "state=%{x}<br>month=Jul<br>estimated unemployment rate=%{y}<extra></extra>",
           "legendgroup": "Haryana",
           "marker": {
            "color": "#B6E880",
            "pattern": {
             "shape": ""
            }
           },
           "name": "Haryana",
           "offsetgroup": "Haryana",
           "orientation": "v",
           "showlegend": true,
           "textposition": "auto",
           "type": "bar",
           "x": [
            "Haryana"
           ],
           "xaxis": "x",
           "y": [
            24.18
           ],
           "yaxis": "y"
          },
          {
           "alignmentgroup": "True",
           "hovertemplate": "state=%{x}<br>month=Jul<br>estimated unemployment rate=%{y}<extra></extra>",
           "legendgroup": "Himachal Pradesh",
           "marker": {
            "color": "#FF97FF",
            "pattern": {
             "shape": ""
            }
           },
           "name": "Himachal Pradesh",
           "offsetgroup": "Himachal Pradesh",
           "orientation": "v",
           "showlegend": true,
           "textposition": "auto",
           "type": "bar",
           "x": [
            "Himachal Pradesh"
           ],
           "xaxis": "x",
           "y": [
            24.31
           ],
           "yaxis": "y"
          },
          {
           "alignmentgroup": "True",
           "hovertemplate": "state=%{x}<br>month=Jul<br>estimated unemployment rate=%{y}<extra></extra>",
           "legendgroup": "Jammu & Kashmir",
           "marker": {
            "color": "#FECB52",
            "pattern": {
             "shape": ""
            }
           },
           "name": "Jammu & Kashmir",
           "offsetgroup": "Jammu & Kashmir",
           "orientation": "v",
           "showlegend": true,
           "textposition": "auto",
           "type": "bar",
           "x": [
            "Jammu & Kashmir"
           ],
           "xaxis": "x",
           "y": [
            10.88
           ],
           "yaxis": "y"
          },
          {
           "alignmentgroup": "True",
           "hovertemplate": "state=%{x}<br>month=Jul<br>estimated unemployment rate=%{y}<extra></extra>",
           "legendgroup": "Jharkhand",
           "marker": {
            "color": "#636efa",
            "pattern": {
             "shape": ""
            }
           },
           "name": "Jharkhand",
           "offsetgroup": "Jharkhand",
           "orientation": "v",
           "showlegend": true,
           "textposition": "auto",
           "type": "bar",
           "x": [
            "Jharkhand"
           ],
           "xaxis": "x",
           "y": [
            7.63
           ],
           "yaxis": "y"
          },
          {
           "alignmentgroup": "True",
           "hovertemplate": "state=%{x}<br>month=Jul<br>estimated unemployment rate=%{y}<extra></extra>",
           "legendgroup": "Karnataka",
           "marker": {
            "color": "#EF553B",
            "pattern": {
             "shape": ""
            }
           },
           "name": "Karnataka",
           "offsetgroup": "Karnataka",
           "orientation": "v",
           "showlegend": true,
           "textposition": "auto",
           "type": "bar",
           "x": [
            "Karnataka"
           ],
           "xaxis": "x",
           "y": [
            4.01
           ],
           "yaxis": "y"
          },
          {
           "alignmentgroup": "True",
           "hovertemplate": "state=%{x}<br>month=Jul<br>estimated unemployment rate=%{y}<extra></extra>",
           "legendgroup": "Kerala",
           "marker": {
            "color": "#00cc96",
            "pattern": {
             "shape": ""
            }
           },
           "name": "Kerala",
           "offsetgroup": "Kerala",
           "orientation": "v",
           "showlegend": true,
           "textposition": "auto",
           "type": "bar",
           "x": [
            "Kerala"
           ],
           "xaxis": "x",
           "y": [
            7.09
           ],
           "yaxis": "y"
          },
          {
           "alignmentgroup": "True",
           "hovertemplate": "state=%{x}<br>month=Jul<br>estimated unemployment rate=%{y}<extra></extra>",
           "legendgroup": "Madhya Pradesh",
           "marker": {
            "color": "#ab63fa",
            "pattern": {
             "shape": ""
            }
           },
           "name": "Madhya Pradesh",
           "offsetgroup": "Madhya Pradesh",
           "orientation": "v",
           "showlegend": true,
           "textposition": "auto",
           "type": "bar",
           "x": [
            "Madhya Pradesh"
           ],
           "xaxis": "x",
           "y": [
            5.08
           ],
           "yaxis": "y"
          },
          {
           "alignmentgroup": "True",
           "hovertemplate": "state=%{x}<br>month=Jul<br>estimated unemployment rate=%{y}<extra></extra>",
           "legendgroup": "Maharashtra",
           "marker": {
            "color": "#FFA15A",
            "pattern": {
             "shape": ""
            }
           },
           "name": "Maharashtra",
           "offsetgroup": "Maharashtra",
           "orientation": "v",
           "showlegend": true,
           "textposition": "auto",
           "type": "bar",
           "x": [
            "Maharashtra"
           ],
           "xaxis": "x",
           "y": [
            3.89
           ],
           "yaxis": "y"
          },
          {
           "alignmentgroup": "True",
           "hovertemplate": "state=%{x}<br>month=Jul<br>estimated unemployment rate=%{y}<extra></extra>",
           "legendgroup": "Meghalaya",
           "marker": {
            "color": "#19d3f3",
            "pattern": {
             "shape": ""
            }
           },
           "name": "Meghalaya",
           "offsetgroup": "Meghalaya",
           "orientation": "v",
           "showlegend": true,
           "textposition": "auto",
           "type": "bar",
           "x": [
            "Meghalaya"
           ],
           "xaxis": "x",
           "y": [
            2.1
           ],
           "yaxis": "y"
          },
          {
           "alignmentgroup": "True",
           "hovertemplate": "state=%{x}<br>month=Jul<br>estimated unemployment rate=%{y}<extra></extra>",
           "legendgroup": "Odisha",
           "marker": {
            "color": "#FF6692",
            "pattern": {
             "shape": ""
            }
           },
           "name": "Odisha",
           "offsetgroup": "Odisha",
           "orientation": "v",
           "showlegend": true,
           "textposition": "auto",
           "type": "bar",
           "x": [
            "Odisha"
           ],
           "xaxis": "x",
           "y": [
            1.88
           ],
           "yaxis": "y"
          },
          {
           "alignmentgroup": "True",
           "hovertemplate": "state=%{x}<br>month=Jul<br>estimated unemployment rate=%{y}<extra></extra>",
           "legendgroup": "Puducherry",
           "marker": {
            "color": "#B6E880",
            "pattern": {
             "shape": ""
            }
           },
           "name": "Puducherry",
           "offsetgroup": "Puducherry",
           "orientation": "v",
           "showlegend": true,
           "textposition": "auto",
           "type": "bar",
           "x": [
            "Puducherry"
           ],
           "xaxis": "x",
           "y": [
            15.47
           ],
           "yaxis": "y"
          },
          {
           "alignmentgroup": "True",
           "hovertemplate": "state=%{x}<br>month=Jul<br>estimated unemployment rate=%{y}<extra></extra>",
           "legendgroup": "Punjab",
           "marker": {
            "color": "#FF97FF",
            "pattern": {
             "shape": ""
            }
           },
           "name": "Punjab",
           "offsetgroup": "Punjab",
           "orientation": "v",
           "showlegend": true,
           "textposition": "auto",
           "type": "bar",
           "x": [
            "Punjab"
           ],
           "xaxis": "x",
           "y": [
            9.19
           ],
           "yaxis": "y"
          },
          {
           "alignmentgroup": "True",
           "hovertemplate": "state=%{x}<br>month=Jul<br>estimated unemployment rate=%{y}<extra></extra>",
           "legendgroup": "Rajasthan",
           "marker": {
            "color": "#FECB52",
            "pattern": {
             "shape": ""
            }
           },
           "name": "Rajasthan",
           "offsetgroup": "Rajasthan",
           "orientation": "v",
           "showlegend": true,
           "textposition": "auto",
           "type": "bar",
           "x": [
            "Rajasthan"
           ],
           "xaxis": "x",
           "y": [
            15.81
           ],
           "yaxis": "y"
          },
          {
           "alignmentgroup": "True",
           "hovertemplate": "state=%{x}<br>month=Jul<br>estimated unemployment rate=%{y}<extra></extra>",
           "legendgroup": "Sikkim",
           "marker": {
            "color": "#636efa",
            "pattern": {
             "shape": ""
            }
           },
           "name": "Sikkim",
           "offsetgroup": "Sikkim",
           "orientation": "v",
           "showlegend": true,
           "textposition": "auto",
           "type": "bar",
           "x": [
            "Sikkim"
           ],
           "xaxis": "x",
           "y": [
            4.45
           ],
           "yaxis": "y"
          },
          {
           "alignmentgroup": "True",
           "hovertemplate": "state=%{x}<br>month=Jul<br>estimated unemployment rate=%{y}<extra></extra>",
           "legendgroup": "Tamil Nadu",
           "marker": {
            "color": "#EF553B",
            "pattern": {
             "shape": ""
            }
           },
           "name": "Tamil Nadu",
           "offsetgroup": "Tamil Nadu",
           "orientation": "v",
           "showlegend": true,
           "textposition": "auto",
           "type": "bar",
           "x": [
            "Tamil Nadu"
           ],
           "xaxis": "x",
           "y": [
            6.81
           ],
           "yaxis": "y"
          },
          {
           "alignmentgroup": "True",
           "hovertemplate": "state=%{x}<br>month=Jul<br>estimated unemployment rate=%{y}<extra></extra>",
           "legendgroup": "Telangana",
           "marker": {
            "color": "#00cc96",
            "pattern": {
             "shape": ""
            }
           },
           "name": "Telangana",
           "offsetgroup": "Telangana",
           "orientation": "v",
           "showlegend": true,
           "textposition": "auto",
           "type": "bar",
           "x": [
            "Telangana"
           ],
           "xaxis": "x",
           "y": [
            5.36
           ],
           "yaxis": "y"
          },
          {
           "alignmentgroup": "True",
           "hovertemplate": "state=%{x}<br>month=Jul<br>estimated unemployment rate=%{y}<extra></extra>",
           "legendgroup": "Tripura",
           "marker": {
            "color": "#ab63fa",
            "pattern": {
             "shape": ""
            }
           },
           "name": "Tripura",
           "offsetgroup": "Tripura",
           "orientation": "v",
           "showlegend": true,
           "textposition": "auto",
           "type": "bar",
           "x": [
            "Tripura"
           ],
           "xaxis": "x",
           "y": [
            18.24
           ],
           "yaxis": "y"
          },
          {
           "alignmentgroup": "True",
           "hovertemplate": "state=%{x}<br>month=Jul<br>estimated unemployment rate=%{y}<extra></extra>",
           "legendgroup": "Uttar Pradesh",
           "marker": {
            "color": "#FFA15A",
            "pattern": {
             "shape": ""
            }
           },
           "name": "Uttar Pradesh",
           "offsetgroup": "Uttar Pradesh",
           "orientation": "v",
           "showlegend": true,
           "textposition": "auto",
           "type": "bar",
           "x": [
            "Uttar Pradesh"
           ],
           "xaxis": "x",
           "y": [
            5.56
           ],
           "yaxis": "y"
          },
          {
           "alignmentgroup": "True",
           "hovertemplate": "state=%{x}<br>month=Jul<br>estimated unemployment rate=%{y}<extra></extra>",
           "legendgroup": "Uttarakhand",
           "marker": {
            "color": "#19d3f3",
            "pattern": {
             "shape": ""
            }
           },
           "name": "Uttarakhand",
           "offsetgroup": "Uttarakhand",
           "orientation": "v",
           "showlegend": true,
           "textposition": "auto",
           "type": "bar",
           "x": [
            "Uttarakhand"
           ],
           "xaxis": "x",
           "y": [
            12.38
           ],
           "yaxis": "y"
          },
          {
           "alignmentgroup": "True",
           "hovertemplate": "state=%{x}<br>month=Jul<br>estimated unemployment rate=%{y}<extra></extra>",
           "legendgroup": "West Bengal",
           "marker": {
            "color": "#FF6692",
            "pattern": {
             "shape": ""
            }
           },
           "name": "West Bengal",
           "offsetgroup": "West Bengal",
           "orientation": "v",
           "showlegend": true,
           "textposition": "auto",
           "type": "bar",
           "x": [
            "West Bengal"
           ],
           "xaxis": "x",
           "y": [
            6.83
           ],
           "yaxis": "y"
          }
         ],
         "name": "Jul"
        },
        {
         "data": [
          {
           "alignmentgroup": "True",
           "hovertemplate": "state=%{x}<br>month=Aug<br>estimated unemployment rate=%{y}<extra></extra>",
           "legendgroup": "Andhra Pradesh",
           "marker": {
            "color": "#636efa",
            "pattern": {
             "shape": ""
            }
           },
           "name": "Andhra Pradesh",
           "offsetgroup": "Andhra Pradesh",
           "orientation": "v",
           "showlegend": true,
           "textposition": "auto",
           "type": "bar",
           "x": [
            "Andhra Pradesh"
           ],
           "xaxis": "x",
           "y": [
            6.96
           ],
           "yaxis": "y"
          },
          {
           "alignmentgroup": "True",
           "hovertemplate": "state=%{x}<br>month=Aug<br>estimated unemployment rate=%{y}<extra></extra>",
           "legendgroup": "Assam",
           "marker": {
            "color": "#EF553B",
            "pattern": {
             "shape": ""
            }
           },
           "name": "Assam",
           "offsetgroup": "Assam",
           "orientation": "v",
           "showlegend": true,
           "textposition": "auto",
           "type": "bar",
           "x": [
            "Assam"
           ],
           "xaxis": "x",
           "y": [
            5.53
           ],
           "yaxis": "y"
          },
          {
           "alignmentgroup": "True",
           "hovertemplate": "state=%{x}<br>month=Aug<br>estimated unemployment rate=%{y}<extra></extra>",
           "legendgroup": "Bihar",
           "marker": {
            "color": "#00cc96",
            "pattern": {
             "shape": ""
            }
           },
           "name": "Bihar",
           "offsetgroup": "Bihar",
           "orientation": "v",
           "showlegend": true,
           "textposition": "auto",
           "type": "bar",
           "x": [
            "Bihar"
           ],
           "xaxis": "x",
           "y": [
            13.44
           ],
           "yaxis": "y"
          },
          {
           "alignmentgroup": "True",
           "hovertemplate": "state=%{x}<br>month=Aug<br>estimated unemployment rate=%{y}<extra></extra>",
           "legendgroup": "Chhattisgarh",
           "marker": {
            "color": "#ab63fa",
            "pattern": {
             "shape": ""
            }
           },
           "name": "Chhattisgarh",
           "offsetgroup": "Chhattisgarh",
           "orientation": "v",
           "showlegend": true,
           "textposition": "auto",
           "type": "bar",
           "x": [
            "Chhattisgarh"
           ],
           "xaxis": "x",
           "y": [
            5.63
           ],
           "yaxis": "y"
          },
          {
           "alignmentgroup": "True",
           "hovertemplate": "state=%{x}<br>month=Aug<br>estimated unemployment rate=%{y}<extra></extra>",
           "legendgroup": "Delhi",
           "marker": {
            "color": "#FFA15A",
            "pattern": {
             "shape": ""
            }
           },
           "name": "Delhi",
           "offsetgroup": "Delhi",
           "orientation": "v",
           "showlegend": true,
           "textposition": "auto",
           "type": "bar",
           "x": [
            "Delhi"
           ],
           "xaxis": "x",
           "y": [
            13.79
           ],
           "yaxis": "y"
          },
          {
           "alignmentgroup": "True",
           "hovertemplate": "state=%{x}<br>month=Aug<br>estimated unemployment rate=%{y}<extra></extra>",
           "legendgroup": "Goa",
           "marker": {
            "color": "#19d3f3",
            "pattern": {
             "shape": ""
            }
           },
           "name": "Goa",
           "offsetgroup": "Goa",
           "orientation": "v",
           "showlegend": true,
           "textposition": "auto",
           "type": "bar",
           "x": [
            "Goa"
           ],
           "xaxis": "x",
           "y": [
            16.21
           ],
           "yaxis": "y"
          },
          {
           "alignmentgroup": "True",
           "hovertemplate": "state=%{x}<br>month=Aug<br>estimated unemployment rate=%{y}<extra></extra>",
           "legendgroup": "Gujarat",
           "marker": {
            "color": "#FF6692",
            "pattern": {
             "shape": ""
            }
           },
           "name": "Gujarat",
           "offsetgroup": "Gujarat",
           "orientation": "v",
           "showlegend": true,
           "textposition": "auto",
           "type": "bar",
           "x": [
            "Gujarat"
           ],
           "xaxis": "x",
           "y": [
            1.87
           ],
           "yaxis": "y"
          },
          {
           "alignmentgroup": "True",
           "hovertemplate": "state=%{x}<br>month=Aug<br>estimated unemployment rate=%{y}<extra></extra>",
           "legendgroup": "Haryana",
           "marker": {
            "color": "#B6E880",
            "pattern": {
             "shape": ""
            }
           },
           "name": "Haryana",
           "offsetgroup": "Haryana",
           "orientation": "v",
           "showlegend": true,
           "textposition": "auto",
           "type": "bar",
           "x": [
            "Haryana"
           ],
           "xaxis": "x",
           "y": [
            33.5
           ],
           "yaxis": "y"
          },
          {
           "alignmentgroup": "True",
           "hovertemplate": "state=%{x}<br>month=Aug<br>estimated unemployment rate=%{y}<extra></extra>",
           "legendgroup": "Himachal Pradesh",
           "marker": {
            "color": "#FF97FF",
            "pattern": {
             "shape": ""
            }
           },
           "name": "Himachal Pradesh",
           "offsetgroup": "Himachal Pradesh",
           "orientation": "v",
           "showlegend": true,
           "textposition": "auto",
           "type": "bar",
           "x": [
            "Himachal Pradesh"
           ],
           "xaxis": "x",
           "y": [
            15.79
           ],
           "yaxis": "y"
          },
          {
           "alignmentgroup": "True",
           "hovertemplate": "state=%{x}<br>month=Aug<br>estimated unemployment rate=%{y}<extra></extra>",
           "legendgroup": "Jammu & Kashmir",
           "marker": {
            "color": "#FECB52",
            "pattern": {
             "shape": ""
            }
           },
           "name": "Jammu & Kashmir",
           "offsetgroup": "Jammu & Kashmir",
           "orientation": "v",
           "showlegend": true,
           "textposition": "auto",
           "type": "bar",
           "x": [
            "Jammu & Kashmir"
           ],
           "xaxis": "x",
           "y": [
            11.09
           ],
           "yaxis": "y"
          },
          {
           "alignmentgroup": "True",
           "hovertemplate": "state=%{x}<br>month=Aug<br>estimated unemployment rate=%{y}<extra></extra>",
           "legendgroup": "Jharkhand",
           "marker": {
            "color": "#636efa",
            "pattern": {
             "shape": ""
            }
           },
           "name": "Jharkhand",
           "offsetgroup": "Jharkhand",
           "orientation": "v",
           "showlegend": true,
           "textposition": "auto",
           "type": "bar",
           "x": [
            "Jharkhand"
           ],
           "xaxis": "x",
           "y": [
            9.76
           ],
           "yaxis": "y"
          },
          {
           "alignmentgroup": "True",
           "hovertemplate": "state=%{x}<br>month=Aug<br>estimated unemployment rate=%{y}<extra></extra>",
           "legendgroup": "Karnataka",
           "marker": {
            "color": "#EF553B",
            "pattern": {
             "shape": ""
            }
           },
           "name": "Karnataka",
           "offsetgroup": "Karnataka",
           "orientation": "v",
           "showlegend": true,
           "textposition": "auto",
           "type": "bar",
           "x": [
            "Karnataka"
           ],
           "xaxis": "x",
           "y": [
            0.5
           ],
           "yaxis": "y"
          },
          {
           "alignmentgroup": "True",
           "hovertemplate": "state=%{x}<br>month=Aug<br>estimated unemployment rate=%{y}<extra></extra>",
           "legendgroup": "Kerala",
           "marker": {
            "color": "#00cc96",
            "pattern": {
             "shape": ""
            }
           },
           "name": "Kerala",
           "offsetgroup": "Kerala",
           "orientation": "v",
           "showlegend": true,
           "textposition": "auto",
           "type": "bar",
           "x": [
            "Kerala"
           ],
           "xaxis": "x",
           "y": [
            10.98
           ],
           "yaxis": "y"
          },
          {
           "alignmentgroup": "True",
           "hovertemplate": "state=%{x}<br>month=Aug<br>estimated unemployment rate=%{y}<extra></extra>",
           "legendgroup": "Madhya Pradesh",
           "marker": {
            "color": "#ab63fa",
            "pattern": {
             "shape": ""
            }
           },
           "name": "Madhya Pradesh",
           "offsetgroup": "Madhya Pradesh",
           "orientation": "v",
           "showlegend": true,
           "textposition": "auto",
           "type": "bar",
           "x": [
            "Madhya Pradesh"
           ],
           "xaxis": "x",
           "y": [
            4.7
           ],
           "yaxis": "y"
          },
          {
           "alignmentgroup": "True",
           "hovertemplate": "state=%{x}<br>month=Aug<br>estimated unemployment rate=%{y}<extra></extra>",
           "legendgroup": "Maharashtra",
           "marker": {
            "color": "#FFA15A",
            "pattern": {
             "shape": ""
            }
           },
           "name": "Maharashtra",
           "offsetgroup": "Maharashtra",
           "orientation": "v",
           "showlegend": true,
           "textposition": "auto",
           "type": "bar",
           "x": [
            "Maharashtra"
           ],
           "xaxis": "x",
           "y": [
            6.23
           ],
           "yaxis": "y"
          },
          {
           "alignmentgroup": "True",
           "hovertemplate": "state=%{x}<br>month=Aug<br>estimated unemployment rate=%{y}<extra></extra>",
           "legendgroup": "Meghalaya",
           "marker": {
            "color": "#19d3f3",
            "pattern": {
             "shape": ""
            }
           },
           "name": "Meghalaya",
           "offsetgroup": "Meghalaya",
           "orientation": "v",
           "showlegend": true,
           "textposition": "auto",
           "type": "bar",
           "x": [
            "Meghalaya"
           ],
           "xaxis": "x",
           "y": [
            3.74
           ],
           "yaxis": "y"
          },
          {
           "alignmentgroup": "True",
           "hovertemplate": "state=%{x}<br>month=Aug<br>estimated unemployment rate=%{y}<extra></extra>",
           "legendgroup": "Odisha",
           "marker": {
            "color": "#FF6692",
            "pattern": {
             "shape": ""
            }
           },
           "name": "Odisha",
           "offsetgroup": "Odisha",
           "orientation": "v",
           "showlegend": true,
           "textposition": "auto",
           "type": "bar",
           "x": [
            "Odisha"
           ],
           "xaxis": "x",
           "y": [
            1.42
           ],
           "yaxis": "y"
          },
          {
           "alignmentgroup": "True",
           "hovertemplate": "state=%{x}<br>month=Aug<br>estimated unemployment rate=%{y}<extra></extra>",
           "legendgroup": "Puducherry",
           "marker": {
            "color": "#B6E880",
            "pattern": {
             "shape": ""
            }
           },
           "name": "Puducherry",
           "offsetgroup": "Puducherry",
           "orientation": "v",
           "showlegend": true,
           "textposition": "auto",
           "type": "bar",
           "x": [
            "Puducherry"
           ],
           "xaxis": "x",
           "y": [
            5.05
           ],
           "yaxis": "y"
          },
          {
           "alignmentgroup": "True",
           "hovertemplate": "state=%{x}<br>month=Aug<br>estimated unemployment rate=%{y}<extra></extra>",
           "legendgroup": "Punjab",
           "marker": {
            "color": "#FF97FF",
            "pattern": {
             "shape": ""
            }
           },
           "name": "Punjab",
           "offsetgroup": "Punjab",
           "orientation": "v",
           "showlegend": true,
           "textposition": "auto",
           "type": "bar",
           "x": [
            "Punjab"
           ],
           "xaxis": "x",
           "y": [
            10.99
           ],
           "yaxis": "y"
          },
          {
           "alignmentgroup": "True",
           "hovertemplate": "state=%{x}<br>month=Aug<br>estimated unemployment rate=%{y}<extra></extra>",
           "legendgroup": "Rajasthan",
           "marker": {
            "color": "#FECB52",
            "pattern": {
             "shape": ""
            }
           },
           "name": "Rajasthan",
           "offsetgroup": "Rajasthan",
           "orientation": "v",
           "showlegend": true,
           "textposition": "auto",
           "type": "bar",
           "x": [
            "Rajasthan"
           ],
           "xaxis": "x",
           "y": [
            17.51
           ],
           "yaxis": "y"
          },
          {
           "alignmentgroup": "True",
           "hovertemplate": "state=%{x}<br>month=Aug<br>estimated unemployment rate=%{y}<extra></extra>",
           "legendgroup": "Sikkim",
           "marker": {
            "color": "#636efa",
            "pattern": {
             "shape": ""
            }
           },
           "name": "Sikkim",
           "offsetgroup": "Sikkim",
           "orientation": "v",
           "showlegend": true,
           "textposition": "auto",
           "type": "bar",
           "x": [
            "Sikkim"
           ],
           "xaxis": "x",
           "y": [
            12.49
           ],
           "yaxis": "y"
          },
          {
           "alignmentgroup": "True",
           "hovertemplate": "state=%{x}<br>month=Aug<br>estimated unemployment rate=%{y}<extra></extra>",
           "legendgroup": "Tamil Nadu",
           "marker": {
            "color": "#EF553B",
            "pattern": {
             "shape": ""
            }
           },
           "name": "Tamil Nadu",
           "offsetgroup": "Tamil Nadu",
           "orientation": "v",
           "showlegend": true,
           "textposition": "auto",
           "type": "bar",
           "x": [
            "Tamil Nadu"
           ],
           "xaxis": "x",
           "y": [
            2.65
           ],
           "yaxis": "y"
          },
          {
           "alignmentgroup": "True",
           "hovertemplate": "state=%{x}<br>month=Aug<br>estimated unemployment rate=%{y}<extra></extra>",
           "legendgroup": "Telangana",
           "marker": {
            "color": "#00cc96",
            "pattern": {
             "shape": ""
            }
           },
           "name": "Telangana",
           "offsetgroup": "Telangana",
           "orientation": "v",
           "showlegend": true,
           "textposition": "auto",
           "type": "bar",
           "x": [
            "Telangana"
           ],
           "xaxis": "x",
           "y": [
            5.79
           ],
           "yaxis": "y"
          },
          {
           "alignmentgroup": "True",
           "hovertemplate": "state=%{x}<br>month=Aug<br>estimated unemployment rate=%{y}<extra></extra>",
           "legendgroup": "Tripura",
           "marker": {
            "color": "#ab63fa",
            "pattern": {
             "shape": ""
            }
           },
           "name": "Tripura",
           "offsetgroup": "Tripura",
           "orientation": "v",
           "showlegend": true,
           "textposition": "auto",
           "type": "bar",
           "x": [
            "Tripura"
           ],
           "xaxis": "x",
           "y": [
            27.92
           ],
           "yaxis": "y"
          },
          {
           "alignmentgroup": "True",
           "hovertemplate": "state=%{x}<br>month=Aug<br>estimated unemployment rate=%{y}<extra></extra>",
           "legendgroup": "Uttar Pradesh",
           "marker": {
            "color": "#FFA15A",
            "pattern": {
             "shape": ""
            }
           },
           "name": "Uttar Pradesh",
           "offsetgroup": "Uttar Pradesh",
           "orientation": "v",
           "showlegend": true,
           "textposition": "auto",
           "type": "bar",
           "x": [
            "Uttar Pradesh"
           ],
           "xaxis": "x",
           "y": [
            5.79
           ],
           "yaxis": "y"
          },
          {
           "alignmentgroup": "True",
           "hovertemplate": "state=%{x}<br>month=Aug<br>estimated unemployment rate=%{y}<extra></extra>",
           "legendgroup": "Uttarakhand",
           "marker": {
            "color": "#19d3f3",
            "pattern": {
             "shape": ""
            }
           },
           "name": "Uttarakhand",
           "offsetgroup": "Uttarakhand",
           "orientation": "v",
           "showlegend": true,
           "textposition": "auto",
           "type": "bar",
           "x": [
            "Uttarakhand"
           ],
           "xaxis": "x",
           "y": [
            14.26
           ],
           "yaxis": "y"
          },
          {
           "alignmentgroup": "True",
           "hovertemplate": "state=%{x}<br>month=Aug<br>estimated unemployment rate=%{y}<extra></extra>",
           "legendgroup": "West Bengal",
           "marker": {
            "color": "#FF6692",
            "pattern": {
             "shape": ""
            }
           },
           "name": "West Bengal",
           "offsetgroup": "West Bengal",
           "orientation": "v",
           "showlegend": true,
           "textposition": "auto",
           "type": "bar",
           "x": [
            "West Bengal"
           ],
           "xaxis": "x",
           "y": [
            14.87
           ],
           "yaxis": "y"
          }
         ],
         "name": "Aug"
        },
        {
         "data": [
          {
           "alignmentgroup": "True",
           "hovertemplate": "state=%{x}<br>month=Sep<br>estimated unemployment rate=%{y}<extra></extra>",
           "legendgroup": "Andhra Pradesh",
           "marker": {
            "color": "#636efa",
            "pattern": {
             "shape": ""
            }
           },
           "name": "Andhra Pradesh",
           "offsetgroup": "Andhra Pradesh",
           "orientation": "v",
           "showlegend": true,
           "textposition": "auto",
           "type": "bar",
           "x": [
            "Andhra Pradesh"
           ],
           "xaxis": "x",
           "y": [
            6.4
           ],
           "yaxis": "y"
          },
          {
           "alignmentgroup": "True",
           "hovertemplate": "state=%{x}<br>month=Sep<br>estimated unemployment rate=%{y}<extra></extra>",
           "legendgroup": "Assam",
           "marker": {
            "color": "#EF553B",
            "pattern": {
             "shape": ""
            }
           },
           "name": "Assam",
           "offsetgroup": "Assam",
           "orientation": "v",
           "showlegend": true,
           "textposition": "auto",
           "type": "bar",
           "x": [
            "Assam"
           ],
           "xaxis": "x",
           "y": [
            1.19
           ],
           "yaxis": "y"
          },
          {
           "alignmentgroup": "True",
           "hovertemplate": "state=%{x}<br>month=Sep<br>estimated unemployment rate=%{y}<extra></extra>",
           "legendgroup": "Bihar",
           "marker": {
            "color": "#00cc96",
            "pattern": {
             "shape": ""
            }
           },
           "name": "Bihar",
           "offsetgroup": "Bihar",
           "orientation": "v",
           "showlegend": true,
           "textposition": "auto",
           "type": "bar",
           "x": [
            "Bihar"
           ],
           "xaxis": "x",
           "y": [
            11.91
           ],
           "yaxis": "y"
          },
          {
           "alignmentgroup": "True",
           "hovertemplate": "state=%{x}<br>month=Sep<br>estimated unemployment rate=%{y}<extra></extra>",
           "legendgroup": "Chhattisgarh",
           "marker": {
            "color": "#ab63fa",
            "pattern": {
             "shape": ""
            }
           },
           "name": "Chhattisgarh",
           "offsetgroup": "Chhattisgarh",
           "orientation": "v",
           "showlegend": true,
           "textposition": "auto",
           "type": "bar",
           "x": [
            "Chhattisgarh"
           ],
           "xaxis": "x",
           "y": [
            1.96
           ],
           "yaxis": "y"
          },
          {
           "alignmentgroup": "True",
           "hovertemplate": "state=%{x}<br>month=Sep<br>estimated unemployment rate=%{y}<extra></extra>",
           "legendgroup": "Delhi",
           "marker": {
            "color": "#FFA15A",
            "pattern": {
             "shape": ""
            }
           },
           "name": "Delhi",
           "offsetgroup": "Delhi",
           "orientation": "v",
           "showlegend": true,
           "textposition": "auto",
           "type": "bar",
           "x": [
            "Delhi"
           ],
           "xaxis": "x",
           "y": [
            12.53
           ],
           "yaxis": "y"
          },
          {
           "alignmentgroup": "True",
           "hovertemplate": "state=%{x}<br>month=Sep<br>estimated unemployment rate=%{y}<extra></extra>",
           "legendgroup": "Goa",
           "marker": {
            "color": "#19d3f3",
            "pattern": {
             "shape": ""
            }
           },
           "name": "Goa",
           "offsetgroup": "Goa",
           "orientation": "v",
           "showlegend": true,
           "textposition": "auto",
           "type": "bar",
           "x": [
            "Goa"
           ],
           "xaxis": "x",
           "y": [
            15.38
           ],
           "yaxis": "y"
          },
          {
           "alignmentgroup": "True",
           "hovertemplate": "state=%{x}<br>month=Sep<br>estimated unemployment rate=%{y}<extra></extra>",
           "legendgroup": "Gujarat",
           "marker": {
            "color": "#FF6692",
            "pattern": {
             "shape": ""
            }
           },
           "name": "Gujarat",
           "offsetgroup": "Gujarat",
           "orientation": "v",
           "showlegend": true,
           "textposition": "auto",
           "type": "bar",
           "x": [
            "Gujarat"
           ],
           "xaxis": "x",
           "y": [
            3.42
           ],
           "yaxis": "y"
          },
          {
           "alignmentgroup": "True",
           "hovertemplate": "state=%{x}<br>month=Sep<br>estimated unemployment rate=%{y}<extra></extra>",
           "legendgroup": "Haryana",
           "marker": {
            "color": "#B6E880",
            "pattern": {
             "shape": ""
            }
           },
           "name": "Haryana",
           "offsetgroup": "Haryana",
           "orientation": "v",
           "showlegend": true,
           "textposition": "auto",
           "type": "bar",
           "x": [
            "Haryana"
           ],
           "xaxis": "x",
           "y": [
            19.68
           ],
           "yaxis": "y"
          },
          {
           "alignmentgroup": "True",
           "hovertemplate": "state=%{x}<br>month=Sep<br>estimated unemployment rate=%{y}<extra></extra>",
           "legendgroup": "Himachal Pradesh",
           "marker": {
            "color": "#FF97FF",
            "pattern": {
             "shape": ""
            }
           },
           "name": "Himachal Pradesh",
           "offsetgroup": "Himachal Pradesh",
           "orientation": "v",
           "showlegend": true,
           "textposition": "auto",
           "type": "bar",
           "x": [
            "Himachal Pradesh"
           ],
           "xaxis": "x",
           "y": [
            12.04
           ],
           "yaxis": "y"
          },
          {
           "alignmentgroup": "True",
           "hovertemplate": "state=%{x}<br>month=Sep<br>estimated unemployment rate=%{y}<extra></extra>",
           "legendgroup": "Jammu & Kashmir",
           "marker": {
            "color": "#FECB52",
            "pattern": {
             "shape": ""
            }
           },
           "name": "Jammu & Kashmir",
           "offsetgroup": "Jammu & Kashmir",
           "orientation": "v",
           "showlegend": true,
           "textposition": "auto",
           "type": "bar",
           "x": [
            "Jammu & Kashmir"
           ],
           "xaxis": "x",
           "y": [
            16.17
           ],
           "yaxis": "y"
          },
          {
           "alignmentgroup": "True",
           "hovertemplate": "state=%{x}<br>month=Sep<br>estimated unemployment rate=%{y}<extra></extra>",
           "legendgroup": "Jharkhand",
           "marker": {
            "color": "#636efa",
            "pattern": {
             "shape": ""
            }
           },
           "name": "Jharkhand",
           "offsetgroup": "Jharkhand",
           "orientation": "v",
           "showlegend": true,
           "textposition": "auto",
           "type": "bar",
           "x": [
            "Jharkhand"
           ],
           "xaxis": "x",
           "y": [
            8.24
           ],
           "yaxis": "y"
          },
          {
           "alignmentgroup": "True",
           "hovertemplate": "state=%{x}<br>month=Sep<br>estimated unemployment rate=%{y}<extra></extra>",
           "legendgroup": "Karnataka",
           "marker": {
            "color": "#EF553B",
            "pattern": {
             "shape": ""
            }
           },
           "name": "Karnataka",
           "offsetgroup": "Karnataka",
           "orientation": "v",
           "showlegend": true,
           "textposition": "auto",
           "type": "bar",
           "x": [
            "Karnataka"
           ],
           "xaxis": "x",
           "y": [
            2.41
           ],
           "yaxis": "y"
          },
          {
           "alignmentgroup": "True",
           "hovertemplate": "state=%{x}<br>month=Sep<br>estimated unemployment rate=%{y}<extra></extra>",
           "legendgroup": "Kerala",
           "marker": {
            "color": "#00cc96",
            "pattern": {
             "shape": ""
            }
           },
           "name": "Kerala",
           "offsetgroup": "Kerala",
           "orientation": "v",
           "showlegend": true,
           "textposition": "auto",
           "type": "bar",
           "x": [
            "Kerala"
           ],
           "xaxis": "x",
           "y": [
            5.91
           ],
           "yaxis": "y"
          },
          {
           "alignmentgroup": "True",
           "hovertemplate": "state=%{x}<br>month=Sep<br>estimated unemployment rate=%{y}<extra></extra>",
           "legendgroup": "Madhya Pradesh",
           "marker": {
            "color": "#ab63fa",
            "pattern": {
             "shape": ""
            }
           },
           "name": "Madhya Pradesh",
           "offsetgroup": "Madhya Pradesh",
           "orientation": "v",
           "showlegend": true,
           "textposition": "auto",
           "type": "bar",
           "x": [
            "Madhya Pradesh"
           ],
           "xaxis": "x",
           "y": [
            3.91
           ],
           "yaxis": "y"
          },
          {
           "alignmentgroup": "True",
           "hovertemplate": "state=%{x}<br>month=Sep<br>estimated unemployment rate=%{y}<extra></extra>",
           "legendgroup": "Maharashtra",
           "marker": {
            "color": "#FFA15A",
            "pattern": {
             "shape": ""
            }
           },
           "name": "Maharashtra",
           "offsetgroup": "Maharashtra",
           "orientation": "v",
           "showlegend": true,
           "textposition": "auto",
           "type": "bar",
           "x": [
            "Maharashtra"
           ],
           "xaxis": "x",
           "y": [
            4.55
           ],
           "yaxis": "y"
          },
          {
           "alignmentgroup": "True",
           "hovertemplate": "state=%{x}<br>month=Sep<br>estimated unemployment rate=%{y}<extra></extra>",
           "legendgroup": "Meghalaya",
           "marker": {
            "color": "#19d3f3",
            "pattern": {
             "shape": ""
            }
           },
           "name": "Meghalaya",
           "offsetgroup": "Meghalaya",
           "orientation": "v",
           "showlegend": true,
           "textposition": "auto",
           "type": "bar",
           "x": [
            "Meghalaya"
           ],
           "xaxis": "x",
           "y": [
            4.29
           ],
           "yaxis": "y"
          },
          {
           "alignmentgroup": "True",
           "hovertemplate": "state=%{x}<br>month=Sep<br>estimated unemployment rate=%{y}<extra></extra>",
           "legendgroup": "Odisha",
           "marker": {
            "color": "#FF6692",
            "pattern": {
             "shape": ""
            }
           },
           "name": "Odisha",
           "offsetgroup": "Odisha",
           "orientation": "v",
           "showlegend": true,
           "textposition": "auto",
           "type": "bar",
           "x": [
            "Odisha"
           ],
           "xaxis": "x",
           "y": [
            2.1
           ],
           "yaxis": "y"
          },
          {
           "alignmentgroup": "True",
           "hovertemplate": "state=%{x}<br>month=Sep<br>estimated unemployment rate=%{y}<extra></extra>",
           "legendgroup": "Puducherry",
           "marker": {
            "color": "#B6E880",
            "pattern": {
             "shape": ""
            }
           },
           "name": "Puducherry",
           "offsetgroup": "Puducherry",
           "orientation": "v",
           "showlegend": true,
           "textposition": "auto",
           "type": "bar",
           "x": [
            "Puducherry"
           ],
           "xaxis": "x",
           "y": [
            10.9
           ],
           "yaxis": "y"
          },
          {
           "alignmentgroup": "True",
           "hovertemplate": "state=%{x}<br>month=Sep<br>estimated unemployment rate=%{y}<extra></extra>",
           "legendgroup": "Punjab",
           "marker": {
            "color": "#FF97FF",
            "pattern": {
             "shape": ""
            }
           },
           "name": "Punjab",
           "offsetgroup": "Punjab",
           "orientation": "v",
           "showlegend": true,
           "textposition": "auto",
           "type": "bar",
           "x": [
            "Punjab"
           ],
           "xaxis": "x",
           "y": [
            9.61
           ],
           "yaxis": "y"
          },
          {
           "alignmentgroup": "True",
           "hovertemplate": "state=%{x}<br>month=Sep<br>estimated unemployment rate=%{y}<extra></extra>",
           "legendgroup": "Rajasthan",
           "marker": {
            "color": "#FECB52",
            "pattern": {
             "shape": ""
            }
           },
           "name": "Rajasthan",
           "offsetgroup": "Rajasthan",
           "orientation": "v",
           "showlegend": true,
           "textposition": "auto",
           "type": "bar",
           "x": [
            "Rajasthan"
           ],
           "xaxis": "x",
           "y": [
            15.35
           ],
           "yaxis": "y"
          },
          {
           "alignmentgroup": "True",
           "hovertemplate": "state=%{x}<br>month=Sep<br>estimated unemployment rate=%{y}<extra></extra>",
           "legendgroup": "Sikkim",
           "marker": {
            "color": "#636efa",
            "pattern": {
             "shape": ""
            }
           },
           "name": "Sikkim",
           "offsetgroup": "Sikkim",
           "orientation": "v",
           "showlegend": true,
           "textposition": "auto",
           "type": "bar",
           "x": [
            "Sikkim"
           ],
           "xaxis": "x",
           "y": [
            5.7
           ],
           "yaxis": "y"
          },
          {
           "alignmentgroup": "True",
           "hovertemplate": "state=%{x}<br>month=Sep<br>estimated unemployment rate=%{y}<extra></extra>",
           "legendgroup": "Tamil Nadu",
           "marker": {
            "color": "#EF553B",
            "pattern": {
             "shape": ""
            }
           },
           "name": "Tamil Nadu",
           "offsetgroup": "Tamil Nadu",
           "orientation": "v",
           "showlegend": true,
           "textposition": "auto",
           "type": "bar",
           "x": [
            "Tamil Nadu"
           ],
           "xaxis": "x",
           "y": [
            5
           ],
           "yaxis": "y"
          },
          {
           "alignmentgroup": "True",
           "hovertemplate": "state=%{x}<br>month=Sep<br>estimated unemployment rate=%{y}<extra></extra>",
           "legendgroup": "Telangana",
           "marker": {
            "color": "#00cc96",
            "pattern": {
             "shape": ""
            }
           },
           "name": "Telangana",
           "offsetgroup": "Telangana",
           "orientation": "v",
           "showlegend": true,
           "textposition": "auto",
           "type": "bar",
           "x": [
            "Telangana"
           ],
           "xaxis": "x",
           "y": [
            3.27
           ],
           "yaxis": "y"
          },
          {
           "alignmentgroup": "True",
           "hovertemplate": "state=%{x}<br>month=Sep<br>estimated unemployment rate=%{y}<extra></extra>",
           "legendgroup": "Tripura",
           "marker": {
            "color": "#ab63fa",
            "pattern": {
             "shape": ""
            }
           },
           "name": "Tripura",
           "offsetgroup": "Tripura",
           "orientation": "v",
           "showlegend": true,
           "textposition": "auto",
           "type": "bar",
           "x": [
            "Tripura"
           ],
           "xaxis": "x",
           "y": [
            17.35
           ],
           "yaxis": "y"
          },
          {
           "alignmentgroup": "True",
           "hovertemplate": "state=%{x}<br>month=Sep<br>estimated unemployment rate=%{y}<extra></extra>",
           "legendgroup": "Uttar Pradesh",
           "marker": {
            "color": "#FFA15A",
            "pattern": {
             "shape": ""
            }
           },
           "name": "Uttar Pradesh",
           "offsetgroup": "Uttar Pradesh",
           "orientation": "v",
           "showlegend": true,
           "textposition": "auto",
           "type": "bar",
           "x": [
            "Uttar Pradesh"
           ],
           "xaxis": "x",
           "y": [
            4.18
           ],
           "yaxis": "y"
          },
          {
           "alignmentgroup": "True",
           "hovertemplate": "state=%{x}<br>month=Sep<br>estimated unemployment rate=%{y}<extra></extra>",
           "legendgroup": "Uttarakhand",
           "marker": {
            "color": "#19d3f3",
            "pattern": {
             "shape": ""
            }
           },
           "name": "Uttarakhand",
           "offsetgroup": "Uttarakhand",
           "orientation": "v",
           "showlegend": true,
           "textposition": "auto",
           "type": "bar",
           "x": [
            "Uttarakhand"
           ],
           "xaxis": "x",
           "y": [
            22.26
           ],
           "yaxis": "y"
          },
          {
           "alignmentgroup": "True",
           "hovertemplate": "state=%{x}<br>month=Sep<br>estimated unemployment rate=%{y}<extra></extra>",
           "legendgroup": "West Bengal",
           "marker": {
            "color": "#FF6692",
            "pattern": {
             "shape": ""
            }
           },
           "name": "West Bengal",
           "offsetgroup": "West Bengal",
           "orientation": "v",
           "showlegend": true,
           "textposition": "auto",
           "type": "bar",
           "x": [
            "West Bengal"
           ],
           "xaxis": "x",
           "y": [
            9.35
           ],
           "yaxis": "y"
          }
         ],
         "name": "Sep"
        },
        {
         "data": [
          {
           "alignmentgroup": "True",
           "hovertemplate": "state=%{x}<br>month=Oct<br>estimated unemployment rate=%{y}<extra></extra>",
           "legendgroup": "Andhra Pradesh",
           "marker": {
            "color": "#636efa",
            "pattern": {
             "shape": ""
            }
           },
           "name": "Andhra Pradesh",
           "offsetgroup": "Andhra Pradesh",
           "orientation": "v",
           "showlegend": true,
           "textposition": "auto",
           "type": "bar",
           "x": [
            "Andhra Pradesh"
           ],
           "xaxis": "x",
           "y": [
            6.59
           ],
           "yaxis": "y"
          },
          {
           "alignmentgroup": "True",
           "hovertemplate": "state=%{x}<br>month=Oct<br>estimated unemployment rate=%{y}<extra></extra>",
           "legendgroup": "Assam",
           "marker": {
            "color": "#EF553B",
            "pattern": {
             "shape": ""
            }
           },
           "name": "Assam",
           "offsetgroup": "Assam",
           "orientation": "v",
           "showlegend": true,
           "textposition": "auto",
           "type": "bar",
           "x": [
            "Assam"
           ],
           "xaxis": "x",
           "y": [
            3.02
           ],
           "yaxis": "y"
          },
          {
           "alignmentgroup": "True",
           "hovertemplate": "state=%{x}<br>month=Oct<br>estimated unemployment rate=%{y}<extra></extra>",
           "legendgroup": "Bihar",
           "marker": {
            "color": "#00cc96",
            "pattern": {
             "shape": ""
            }
           },
           "name": "Bihar",
           "offsetgroup": "Bihar",
           "orientation": "v",
           "showlegend": true,
           "textposition": "auto",
           "type": "bar",
           "x": [
            "Bihar"
           ],
           "xaxis": "x",
           "y": [
            9.82
           ],
           "yaxis": "y"
          },
          {
           "alignmentgroup": "True",
           "hovertemplate": "state=%{x}<br>month=Oct<br>estimated unemployment rate=%{y}<extra></extra>",
           "legendgroup": "Chhattisgarh",
           "marker": {
            "color": "#ab63fa",
            "pattern": {
             "shape": ""
            }
           },
           "name": "Chhattisgarh",
           "offsetgroup": "Chhattisgarh",
           "orientation": "v",
           "showlegend": true,
           "textposition": "auto",
           "type": "bar",
           "x": [
            "Chhattisgarh"
           ],
           "xaxis": "x",
           "y": [
            6.62
           ],
           "yaxis": "y"
          },
          {
           "alignmentgroup": "True",
           "hovertemplate": "state=%{x}<br>month=Oct<br>estimated unemployment rate=%{y}<extra></extra>",
           "legendgroup": "Delhi",
           "marker": {
            "color": "#FFA15A",
            "pattern": {
             "shape": ""
            }
           },
           "name": "Delhi",
           "offsetgroup": "Delhi",
           "orientation": "v",
           "showlegend": true,
           "textposition": "auto",
           "type": "bar",
           "x": [
            "Delhi"
           ],
           "xaxis": "x",
           "y": [
            6.27
           ],
           "yaxis": "y"
          },
          {
           "alignmentgroup": "True",
           "hovertemplate": "state=%{x}<br>month=Oct<br>estimated unemployment rate=%{y}<extra></extra>",
           "legendgroup": "Goa",
           "marker": {
            "color": "#19d3f3",
            "pattern": {
             "shape": ""
            }
           },
           "name": "Goa",
           "offsetgroup": "Goa",
           "orientation": "v",
           "showlegend": true,
           "textposition": "auto",
           "type": "bar",
           "x": [
            "Goa"
           ],
           "xaxis": "x",
           "y": [
            11.54
           ],
           "yaxis": "y"
          },
          {
           "alignmentgroup": "True",
           "hovertemplate": "state=%{x}<br>month=Oct<br>estimated unemployment rate=%{y}<extra></extra>",
           "legendgroup": "Gujarat",
           "marker": {
            "color": "#FF6692",
            "pattern": {
             "shape": ""
            }
           },
           "name": "Gujarat",
           "offsetgroup": "Gujarat",
           "orientation": "v",
           "showlegend": true,
           "textposition": "auto",
           "type": "bar",
           "x": [
            "Gujarat"
           ],
           "xaxis": "x",
           "y": [
            4.03
           ],
           "yaxis": "y"
          },
          {
           "alignmentgroup": "True",
           "hovertemplate": "state=%{x}<br>month=Oct<br>estimated unemployment rate=%{y}<extra></extra>",
           "legendgroup": "Haryana",
           "marker": {
            "color": "#B6E880",
            "pattern": {
             "shape": ""
            }
           },
           "name": "Haryana",
           "offsetgroup": "Haryana",
           "orientation": "v",
           "showlegend": true,
           "textposition": "auto",
           "type": "bar",
           "x": [
            "Haryana"
           ],
           "xaxis": "x",
           "y": [
            27.31
           ],
           "yaxis": "y"
          },
          {
           "alignmentgroup": "True",
           "hovertemplate": "state=%{x}<br>month=Oct<br>estimated unemployment rate=%{y}<extra></extra>",
           "legendgroup": "Himachal Pradesh",
           "marker": {
            "color": "#FF97FF",
            "pattern": {
             "shape": ""
            }
           },
           "name": "Himachal Pradesh",
           "offsetgroup": "Himachal Pradesh",
           "orientation": "v",
           "showlegend": true,
           "textposition": "auto",
           "type": "bar",
           "x": [
            "Himachal Pradesh"
           ],
           "xaxis": "x",
           "y": [
            13.46
           ],
           "yaxis": "y"
          },
          {
           "alignmentgroup": "True",
           "hovertemplate": "state=%{x}<br>month=Oct<br>estimated unemployment rate=%{y}<extra></extra>",
           "legendgroup": "Jammu & Kashmir",
           "marker": {
            "color": "#FECB52",
            "pattern": {
             "shape": ""
            }
           },
           "name": "Jammu & Kashmir",
           "offsetgroup": "Jammu & Kashmir",
           "orientation": "v",
           "showlegend": true,
           "textposition": "auto",
           "type": "bar",
           "x": [
            "Jammu & Kashmir"
           ],
           "xaxis": "x",
           "y": [
            16.14
           ],
           "yaxis": "y"
          },
          {
           "alignmentgroup": "True",
           "hovertemplate": "state=%{x}<br>month=Oct<br>estimated unemployment rate=%{y}<extra></extra>",
           "legendgroup": "Jharkhand",
           "marker": {
            "color": "#636efa",
            "pattern": {
             "shape": ""
            }
           },
           "name": "Jharkhand",
           "offsetgroup": "Jharkhand",
           "orientation": "v",
           "showlegend": true,
           "textposition": "auto",
           "type": "bar",
           "x": [
            "Jharkhand"
           ],
           "xaxis": "x",
           "y": [
            11.8
           ],
           "yaxis": "y"
          },
          {
           "alignmentgroup": "True",
           "hovertemplate": "state=%{x}<br>month=Oct<br>estimated unemployment rate=%{y}<extra></extra>",
           "legendgroup": "Karnataka",
           "marker": {
            "color": "#EF553B",
            "pattern": {
             "shape": ""
            }
           },
           "name": "Karnataka",
           "offsetgroup": "Karnataka",
           "orientation": "v",
           "showlegend": true,
           "textposition": "auto",
           "type": "bar",
           "x": [
            "Karnataka"
           ],
           "xaxis": "x",
           "y": [
            1.58
           ],
           "yaxis": "y"
          },
          {
           "alignmentgroup": "True",
           "hovertemplate": "state=%{x}<br>month=Oct<br>estimated unemployment rate=%{y}<extra></extra>",
           "legendgroup": "Kerala",
           "marker": {
            "color": "#00cc96",
            "pattern": {
             "shape": ""
            }
           },
           "name": "Kerala",
           "offsetgroup": "Kerala",
           "orientation": "v",
           "showlegend": true,
           "textposition": "auto",
           "type": "bar",
           "x": [
            "Kerala"
           ],
           "xaxis": "x",
           "y": [
            3.88
           ],
           "yaxis": "y"
          },
          {
           "alignmentgroup": "True",
           "hovertemplate": "state=%{x}<br>month=Oct<br>estimated unemployment rate=%{y}<extra></extra>",
           "legendgroup": "Madhya Pradesh",
           "marker": {
            "color": "#ab63fa",
            "pattern": {
             "shape": ""
            }
           },
           "name": "Madhya Pradesh",
           "offsetgroup": "Madhya Pradesh",
           "orientation": "v",
           "showlegend": true,
           "textposition": "auto",
           "type": "bar",
           "x": [
            "Madhya Pradesh"
           ],
           "xaxis": "x",
           "y": [
            3.13
           ],
           "yaxis": "y"
          },
          {
           "alignmentgroup": "True",
           "hovertemplate": "state=%{x}<br>month=Oct<br>estimated unemployment rate=%{y}<extra></extra>",
           "legendgroup": "Maharashtra",
           "marker": {
            "color": "#FFA15A",
            "pattern": {
             "shape": ""
            }
           },
           "name": "Maharashtra",
           "offsetgroup": "Maharashtra",
           "orientation": "v",
           "showlegend": true,
           "textposition": "auto",
           "type": "bar",
           "x": [
            "Maharashtra"
           ],
           "xaxis": "x",
           "y": [
            4.1
           ],
           "yaxis": "y"
          },
          {
           "alignmentgroup": "True",
           "hovertemplate": "state=%{x}<br>month=Oct<br>estimated unemployment rate=%{y}<extra></extra>",
           "legendgroup": "Meghalaya",
           "marker": {
            "color": "#19d3f3",
            "pattern": {
             "shape": ""
            }
           },
           "name": "Meghalaya",
           "offsetgroup": "Meghalaya",
           "orientation": "v",
           "showlegend": true,
           "textposition": "auto",
           "type": "bar",
           "x": [
            "Meghalaya"
           ],
           "xaxis": "x",
           "y": [
            4.6
           ],
           "yaxis": "y"
          },
          {
           "alignmentgroup": "True",
           "hovertemplate": "state=%{x}<br>month=Oct<br>estimated unemployment rate=%{y}<extra></extra>",
           "legendgroup": "Odisha",
           "marker": {
            "color": "#FF6692",
            "pattern": {
             "shape": ""
            }
           },
           "name": "Odisha",
           "offsetgroup": "Odisha",
           "orientation": "v",
           "showlegend": true,
           "textposition": "auto",
           "type": "bar",
           "x": [
            "Odisha"
           ],
           "xaxis": "x",
           "y": [
            2.18
           ],
           "yaxis": "y"
          },
          {
           "alignmentgroup": "True",
           "hovertemplate": "state=%{x}<br>month=Oct<br>estimated unemployment rate=%{y}<extra></extra>",
           "legendgroup": "Puducherry",
           "marker": {
            "color": "#B6E880",
            "pattern": {
             "shape": ""
            }
           },
           "name": "Puducherry",
           "offsetgroup": "Puducherry",
           "orientation": "v",
           "showlegend": true,
           "textposition": "auto",
           "type": "bar",
           "x": [
            "Puducherry"
           ],
           "xaxis": "x",
           "y": [
            6.18
           ],
           "yaxis": "y"
          },
          {
           "alignmentgroup": "True",
           "hovertemplate": "state=%{x}<br>month=Oct<br>estimated unemployment rate=%{y}<extra></extra>",
           "legendgroup": "Punjab",
           "marker": {
            "color": "#FF97FF",
            "pattern": {
             "shape": ""
            }
           },
           "name": "Punjab",
           "offsetgroup": "Punjab",
           "orientation": "v",
           "showlegend": true,
           "textposition": "auto",
           "type": "bar",
           "x": [
            "Punjab"
           ],
           "xaxis": "x",
           "y": [
            9.88
           ],
           "yaxis": "y"
          },
          {
           "alignmentgroup": "True",
           "hovertemplate": "state=%{x}<br>month=Oct<br>estimated unemployment rate=%{y}<extra></extra>",
           "legendgroup": "Rajasthan",
           "marker": {
            "color": "#FECB52",
            "pattern": {
             "shape": ""
            }
           },
           "name": "Rajasthan",
           "offsetgroup": "Rajasthan",
           "orientation": "v",
           "showlegend": true,
           "textposition": "auto",
           "type": "bar",
           "x": [
            "Rajasthan"
           ],
           "xaxis": "x",
           "y": [
            24.15
           ],
           "yaxis": "y"
          },
          {
           "alignmentgroup": "True",
           "hovertemplate": "state=%{x}<br>month=Oct<br>estimated unemployment rate=%{y}<extra></extra>",
           "legendgroup": "Sikkim",
           "marker": {
            "color": "#636efa",
            "pattern": {
             "shape": ""
            }
           },
           "name": "Sikkim",
           "offsetgroup": "Sikkim",
           "orientation": "v",
           "showlegend": true,
           "textposition": "auto",
           "type": "bar",
           "x": [
            "Sikkim"
           ],
           "xaxis": "x",
           "y": [
            0.88
           ],
           "yaxis": "y"
          },
          {
           "alignmentgroup": "True",
           "hovertemplate": "state=%{x}<br>month=Oct<br>estimated unemployment rate=%{y}<extra></extra>",
           "legendgroup": "Tamil Nadu",
           "marker": {
            "color": "#EF553B",
            "pattern": {
             "shape": ""
            }
           },
           "name": "Tamil Nadu",
           "offsetgroup": "Tamil Nadu",
           "orientation": "v",
           "showlegend": true,
           "textposition": "auto",
           "type": "bar",
           "x": [
            "Tamil Nadu"
           ],
           "xaxis": "x",
           "y": [
            2.16
           ],
           "yaxis": "y"
          },
          {
           "alignmentgroup": "True",
           "hovertemplate": "state=%{x}<br>month=Oct<br>estimated unemployment rate=%{y}<extra></extra>",
           "legendgroup": "Telangana",
           "marker": {
            "color": "#00cc96",
            "pattern": {
             "shape": ""
            }
           },
           "name": "Telangana",
           "offsetgroup": "Telangana",
           "orientation": "v",
           "showlegend": true,
           "textposition": "auto",
           "type": "bar",
           "x": [
            "Telangana"
           ],
           "xaxis": "x",
           "y": [
            2.86
           ],
           "yaxis": "y"
          },
          {
           "alignmentgroup": "True",
           "hovertemplate": "state=%{x}<br>month=Oct<br>estimated unemployment rate=%{y}<extra></extra>",
           "legendgroup": "Tripura",
           "marker": {
            "color": "#ab63fa",
            "pattern": {
             "shape": ""
            }
           },
           "name": "Tripura",
           "offsetgroup": "Tripura",
           "orientation": "v",
           "showlegend": true,
           "textposition": "auto",
           "type": "bar",
           "x": [
            "Tripura"
           ],
           "xaxis": "x",
           "y": [
            11.57
           ],
           "yaxis": "y"
          },
          {
           "alignmentgroup": "True",
           "hovertemplate": "state=%{x}<br>month=Oct<br>estimated unemployment rate=%{y}<extra></extra>",
           "legendgroup": "Uttar Pradesh",
           "marker": {
            "color": "#FFA15A",
            "pattern": {
             "shape": ""
            }
           },
           "name": "Uttar Pradesh",
           "offsetgroup": "Uttar Pradesh",
           "orientation": "v",
           "showlegend": true,
           "textposition": "auto",
           "type": "bar",
           "x": [
            "Uttar Pradesh"
           ],
           "xaxis": "x",
           "y": [
            3.75
           ],
           "yaxis": "y"
          },
          {
           "alignmentgroup": "True",
           "hovertemplate": "state=%{x}<br>month=Oct<br>estimated unemployment rate=%{y}<extra></extra>",
           "legendgroup": "Uttarakhand",
           "marker": {
            "color": "#19d3f3",
            "pattern": {
             "shape": ""
            }
           },
           "name": "Uttarakhand",
           "offsetgroup": "Uttarakhand",
           "orientation": "v",
           "showlegend": true,
           "textposition": "auto",
           "type": "bar",
           "x": [
            "Uttarakhand"
           ],
           "xaxis": "x",
           "y": [
            9.23
           ],
           "yaxis": "y"
          },
          {
           "alignmentgroup": "True",
           "hovertemplate": "state=%{x}<br>month=Oct<br>estimated unemployment rate=%{y}<extra></extra>",
           "legendgroup": "West Bengal",
           "marker": {
            "color": "#FF6692",
            "pattern": {
             "shape": ""
            }
           },
           "name": "West Bengal",
           "offsetgroup": "West Bengal",
           "orientation": "v",
           "showlegend": true,
           "textposition": "auto",
           "type": "bar",
           "x": [
            "West Bengal"
           ],
           "xaxis": "x",
           "y": [
            9.98
           ],
           "yaxis": "y"
          }
         ],
         "name": "Oct"
        }
       ],
       "layout": {
        "barmode": "relative",
        "legend": {
         "title": {
          "text": "state"
         },
         "tracegroupgap": 0
        },
        "sliders": [
         {
          "active": 0,
          "currentvalue": {
           "prefix": "month="
          },
          "len": 0.9,
          "pad": {
           "b": 10,
           "t": 60
          },
          "steps": [
           {
            "args": [
             [
              "Jan"
             ],
             {
              "frame": {
               "duration": 0,
               "redraw": true
              },
              "fromcurrent": true,
              "mode": "immediate",
              "transition": {
               "duration": 0,
               "easing": "linear"
              }
             }
            ],
            "label": "Jan",
            "method": "animate"
           },
           {
            "args": [
             [
              "Feb"
             ],
             {
              "frame": {
               "duration": 0,
               "redraw": true
              },
              "fromcurrent": true,
              "mode": "immediate",
              "transition": {
               "duration": 0,
               "easing": "linear"
              }
             }
            ],
            "label": "Feb",
            "method": "animate"
           },
           {
            "args": [
             [
              "Mar"
             ],
             {
              "frame": {
               "duration": 0,
               "redraw": true
              },
              "fromcurrent": true,
              "mode": "immediate",
              "transition": {
               "duration": 0,
               "easing": "linear"
              }
             }
            ],
            "label": "Mar",
            "method": "animate"
           },
           {
            "args": [
             [
              "Apr"
             ],
             {
              "frame": {
               "duration": 0,
               "redraw": true
              },
              "fromcurrent": true,
              "mode": "immediate",
              "transition": {
               "duration": 0,
               "easing": "linear"
              }
             }
            ],
            "label": "Apr",
            "method": "animate"
           },
           {
            "args": [
             [
              "May"
             ],
             {
              "frame": {
               "duration": 0,
               "redraw": true
              },
              "fromcurrent": true,
              "mode": "immediate",
              "transition": {
               "duration": 0,
               "easing": "linear"
              }
             }
            ],
            "label": "May",
            "method": "animate"
           },
           {
            "args": [
             [
              "Jun"
             ],
             {
              "frame": {
               "duration": 0,
               "redraw": true
              },
              "fromcurrent": true,
              "mode": "immediate",
              "transition": {
               "duration": 0,
               "easing": "linear"
              }
             }
            ],
            "label": "Jun",
            "method": "animate"
           },
           {
            "args": [
             [
              "Jul"
             ],
             {
              "frame": {
               "duration": 0,
               "redraw": true
              },
              "fromcurrent": true,
              "mode": "immediate",
              "transition": {
               "duration": 0,
               "easing": "linear"
              }
             }
            ],
            "label": "Jul",
            "method": "animate"
           },
           {
            "args": [
             [
              "Aug"
             ],
             {
              "frame": {
               "duration": 0,
               "redraw": true
              },
              "fromcurrent": true,
              "mode": "immediate",
              "transition": {
               "duration": 0,
               "easing": "linear"
              }
             }
            ],
            "label": "Aug",
            "method": "animate"
           },
           {
            "args": [
             [
              "Sep"
             ],
             {
              "frame": {
               "duration": 0,
               "redraw": true
              },
              "fromcurrent": true,
              "mode": "immediate",
              "transition": {
               "duration": 0,
               "easing": "linear"
              }
             }
            ],
            "label": "Sep",
            "method": "animate"
           },
           {
            "args": [
             [
              "Oct"
             ],
             {
              "frame": {
               "duration": 0,
               "redraw": true
              },
              "fromcurrent": true,
              "mode": "immediate",
              "transition": {
               "duration": 0,
               "easing": "linear"
              }
             }
            ],
            "label": "Oct",
            "method": "animate"
           }
          ],
          "x": 0.1,
          "xanchor": "left",
          "y": 0,
          "yanchor": "top"
         }
        ],
        "template": {
         "data": {
          "bar": [
           {
            "error_x": {
             "color": "#2a3f5f"
            },
            "error_y": {
             "color": "#2a3f5f"
            },
            "marker": {
             "line": {
              "color": "#E5ECF6",
              "width": 0.5
             },
             "pattern": {
              "fillmode": "overlay",
              "size": 10,
              "solidity": 0.2
             }
            },
            "type": "bar"
           }
          ],
          "barpolar": [
           {
            "marker": {
             "line": {
              "color": "#E5ECF6",
              "width": 0.5
             },
             "pattern": {
              "fillmode": "overlay",
              "size": 10,
              "solidity": 0.2
             }
            },
            "type": "barpolar"
           }
          ],
          "carpet": [
           {
            "aaxis": {
             "endlinecolor": "#2a3f5f",
             "gridcolor": "white",
             "linecolor": "white",
             "minorgridcolor": "white",
             "startlinecolor": "#2a3f5f"
            },
            "baxis": {
             "endlinecolor": "#2a3f5f",
             "gridcolor": "white",
             "linecolor": "white",
             "minorgridcolor": "white",
             "startlinecolor": "#2a3f5f"
            },
            "type": "carpet"
           }
          ],
          "choropleth": [
           {
            "colorbar": {
             "outlinewidth": 0,
             "ticks": ""
            },
            "type": "choropleth"
           }
          ],
          "contour": [
           {
            "colorbar": {
             "outlinewidth": 0,
             "ticks": ""
            },
            "colorscale": [
             [
              0,
              "#0d0887"
             ],
             [
              0.1111111111111111,
              "#46039f"
             ],
             [
              0.2222222222222222,
              "#7201a8"
             ],
             [
              0.3333333333333333,
              "#9c179e"
             ],
             [
              0.4444444444444444,
              "#bd3786"
             ],
             [
              0.5555555555555556,
              "#d8576b"
             ],
             [
              0.6666666666666666,
              "#ed7953"
             ],
             [
              0.7777777777777778,
              "#fb9f3a"
             ],
             [
              0.8888888888888888,
              "#fdca26"
             ],
             [
              1,
              "#f0f921"
             ]
            ],
            "type": "contour"
           }
          ],
          "contourcarpet": [
           {
            "colorbar": {
             "outlinewidth": 0,
             "ticks": ""
            },
            "type": "contourcarpet"
           }
          ],
          "heatmap": [
           {
            "colorbar": {
             "outlinewidth": 0,
             "ticks": ""
            },
            "colorscale": [
             [
              0,
              "#0d0887"
             ],
             [
              0.1111111111111111,
              "#46039f"
             ],
             [
              0.2222222222222222,
              "#7201a8"
             ],
             [
              0.3333333333333333,
              "#9c179e"
             ],
             [
              0.4444444444444444,
              "#bd3786"
             ],
             [
              0.5555555555555556,
              "#d8576b"
             ],
             [
              0.6666666666666666,
              "#ed7953"
             ],
             [
              0.7777777777777778,
              "#fb9f3a"
             ],
             [
              0.8888888888888888,
              "#fdca26"
             ],
             [
              1,
              "#f0f921"
             ]
            ],
            "type": "heatmap"
           }
          ],
          "heatmapgl": [
           {
            "colorbar": {
             "outlinewidth": 0,
             "ticks": ""
            },
            "colorscale": [
             [
              0,
              "#0d0887"
             ],
             [
              0.1111111111111111,
              "#46039f"
             ],
             [
              0.2222222222222222,
              "#7201a8"
             ],
             [
              0.3333333333333333,
              "#9c179e"
             ],
             [
              0.4444444444444444,
              "#bd3786"
             ],
             [
              0.5555555555555556,
              "#d8576b"
             ],
             [
              0.6666666666666666,
              "#ed7953"
             ],
             [
              0.7777777777777778,
              "#fb9f3a"
             ],
             [
              0.8888888888888888,
              "#fdca26"
             ],
             [
              1,
              "#f0f921"
             ]
            ],
            "type": "heatmapgl"
           }
          ],
          "histogram": [
           {
            "marker": {
             "pattern": {
              "fillmode": "overlay",
              "size": 10,
              "solidity": 0.2
             }
            },
            "type": "histogram"
           }
          ],
          "histogram2d": [
           {
            "colorbar": {
             "outlinewidth": 0,
             "ticks": ""
            },
            "colorscale": [
             [
              0,
              "#0d0887"
             ],
             [
              0.1111111111111111,
              "#46039f"
             ],
             [
              0.2222222222222222,
              "#7201a8"
             ],
             [
              0.3333333333333333,
              "#9c179e"
             ],
             [
              0.4444444444444444,
              "#bd3786"
             ],
             [
              0.5555555555555556,
              "#d8576b"
             ],
             [
              0.6666666666666666,
              "#ed7953"
             ],
             [
              0.7777777777777778,
              "#fb9f3a"
             ],
             [
              0.8888888888888888,
              "#fdca26"
             ],
             [
              1,
              "#f0f921"
             ]
            ],
            "type": "histogram2d"
           }
          ],
          "histogram2dcontour": [
           {
            "colorbar": {
             "outlinewidth": 0,
             "ticks": ""
            },
            "colorscale": [
             [
              0,
              "#0d0887"
             ],
             [
              0.1111111111111111,
              "#46039f"
             ],
             [
              0.2222222222222222,
              "#7201a8"
             ],
             [
              0.3333333333333333,
              "#9c179e"
             ],
             [
              0.4444444444444444,
              "#bd3786"
             ],
             [
              0.5555555555555556,
              "#d8576b"
             ],
             [
              0.6666666666666666,
              "#ed7953"
             ],
             [
              0.7777777777777778,
              "#fb9f3a"
             ],
             [
              0.8888888888888888,
              "#fdca26"
             ],
             [
              1,
              "#f0f921"
             ]
            ],
            "type": "histogram2dcontour"
           }
          ],
          "mesh3d": [
           {
            "colorbar": {
             "outlinewidth": 0,
             "ticks": ""
            },
            "type": "mesh3d"
           }
          ],
          "parcoords": [
           {
            "line": {
             "colorbar": {
              "outlinewidth": 0,
              "ticks": ""
             }
            },
            "type": "parcoords"
           }
          ],
          "pie": [
           {
            "automargin": true,
            "type": "pie"
           }
          ],
          "scatter": [
           {
            "fillpattern": {
             "fillmode": "overlay",
             "size": 10,
             "solidity": 0.2
            },
            "type": "scatter"
           }
          ],
          "scatter3d": [
           {
            "line": {
             "colorbar": {
              "outlinewidth": 0,
              "ticks": ""
             }
            },
            "marker": {
             "colorbar": {
              "outlinewidth": 0,
              "ticks": ""
             }
            },
            "type": "scatter3d"
           }
          ],
          "scattercarpet": [
           {
            "marker": {
             "colorbar": {
              "outlinewidth": 0,
              "ticks": ""
             }
            },
            "type": "scattercarpet"
           }
          ],
          "scattergeo": [
           {
            "marker": {
             "colorbar": {
              "outlinewidth": 0,
              "ticks": ""
             }
            },
            "type": "scattergeo"
           }
          ],
          "scattergl": [
           {
            "marker": {
             "colorbar": {
              "outlinewidth": 0,
              "ticks": ""
             }
            },
            "type": "scattergl"
           }
          ],
          "scattermapbox": [
           {
            "marker": {
             "colorbar": {
              "outlinewidth": 0,
              "ticks": ""
             }
            },
            "type": "scattermapbox"
           }
          ],
          "scatterpolar": [
           {
            "marker": {
             "colorbar": {
              "outlinewidth": 0,
              "ticks": ""
             }
            },
            "type": "scatterpolar"
           }
          ],
          "scatterpolargl": [
           {
            "marker": {
             "colorbar": {
              "outlinewidth": 0,
              "ticks": ""
             }
            },
            "type": "scatterpolargl"
           }
          ],
          "scatterternary": [
           {
            "marker": {
             "colorbar": {
              "outlinewidth": 0,
              "ticks": ""
             }
            },
            "type": "scatterternary"
           }
          ],
          "surface": [
           {
            "colorbar": {
             "outlinewidth": 0,
             "ticks": ""
            },
            "colorscale": [
             [
              0,
              "#0d0887"
             ],
             [
              0.1111111111111111,
              "#46039f"
             ],
             [
              0.2222222222222222,
              "#7201a8"
             ],
             [
              0.3333333333333333,
              "#9c179e"
             ],
             [
              0.4444444444444444,
              "#bd3786"
             ],
             [
              0.5555555555555556,
              "#d8576b"
             ],
             [
              0.6666666666666666,
              "#ed7953"
             ],
             [
              0.7777777777777778,
              "#fb9f3a"
             ],
             [
              0.8888888888888888,
              "#fdca26"
             ],
             [
              1,
              "#f0f921"
             ]
            ],
            "type": "surface"
           }
          ],
          "table": [
           {
            "cells": {
             "fill": {
              "color": "#EBF0F8"
             },
             "line": {
              "color": "white"
             }
            },
            "header": {
             "fill": {
              "color": "#C8D4E3"
             },
             "line": {
              "color": "white"
             }
            },
            "type": "table"
           }
          ]
         },
         "layout": {
          "annotationdefaults": {
           "arrowcolor": "#2a3f5f",
           "arrowhead": 0,
           "arrowwidth": 1
          },
          "autotypenumbers": "strict",
          "coloraxis": {
           "colorbar": {
            "outlinewidth": 0,
            "ticks": ""
           }
          },
          "colorscale": {
           "diverging": [
            [
             0,
             "#8e0152"
            ],
            [
             0.1,
             "#c51b7d"
            ],
            [
             0.2,
             "#de77ae"
            ],
            [
             0.3,
             "#f1b6da"
            ],
            [
             0.4,
             "#fde0ef"
            ],
            [
             0.5,
             "#f7f7f7"
            ],
            [
             0.6,
             "#e6f5d0"
            ],
            [
             0.7,
             "#b8e186"
            ],
            [
             0.8,
             "#7fbc41"
            ],
            [
             0.9,
             "#4d9221"
            ],
            [
             1,
             "#276419"
            ]
           ],
           "sequential": [
            [
             0,
             "#0d0887"
            ],
            [
             0.1111111111111111,
             "#46039f"
            ],
            [
             0.2222222222222222,
             "#7201a8"
            ],
            [
             0.3333333333333333,
             "#9c179e"
            ],
            [
             0.4444444444444444,
             "#bd3786"
            ],
            [
             0.5555555555555556,
             "#d8576b"
            ],
            [
             0.6666666666666666,
             "#ed7953"
            ],
            [
             0.7777777777777778,
             "#fb9f3a"
            ],
            [
             0.8888888888888888,
             "#fdca26"
            ],
            [
             1,
             "#f0f921"
            ]
           ],
           "sequentialminus": [
            [
             0,
             "#0d0887"
            ],
            [
             0.1111111111111111,
             "#46039f"
            ],
            [
             0.2222222222222222,
             "#7201a8"
            ],
            [
             0.3333333333333333,
             "#9c179e"
            ],
            [
             0.4444444444444444,
             "#bd3786"
            ],
            [
             0.5555555555555556,
             "#d8576b"
            ],
            [
             0.6666666666666666,
             "#ed7953"
            ],
            [
             0.7777777777777778,
             "#fb9f3a"
            ],
            [
             0.8888888888888888,
             "#fdca26"
            ],
            [
             1,
             "#f0f921"
            ]
           ]
          },
          "colorway": [
           "#636efa",
           "#EF553B",
           "#00cc96",
           "#ab63fa",
           "#FFA15A",
           "#19d3f3",
           "#FF6692",
           "#B6E880",
           "#FF97FF",
           "#FECB52"
          ],
          "font": {
           "color": "#2a3f5f"
          },
          "geo": {
           "bgcolor": "white",
           "lakecolor": "white",
           "landcolor": "#E5ECF6",
           "showlakes": true,
           "showland": true,
           "subunitcolor": "white"
          },
          "hoverlabel": {
           "align": "left"
          },
          "hovermode": "closest",
          "mapbox": {
           "style": "light"
          },
          "paper_bgcolor": "white",
          "plot_bgcolor": "#E5ECF6",
          "polar": {
           "angularaxis": {
            "gridcolor": "white",
            "linecolor": "white",
            "ticks": ""
           },
           "bgcolor": "#E5ECF6",
           "radialaxis": {
            "gridcolor": "white",
            "linecolor": "white",
            "ticks": ""
           }
          },
          "scene": {
           "xaxis": {
            "backgroundcolor": "#E5ECF6",
            "gridcolor": "white",
            "gridwidth": 2,
            "linecolor": "white",
            "showbackground": true,
            "ticks": "",
            "zerolinecolor": "white"
           },
           "yaxis": {
            "backgroundcolor": "#E5ECF6",
            "gridcolor": "white",
            "gridwidth": 2,
            "linecolor": "white",
            "showbackground": true,
            "ticks": "",
            "zerolinecolor": "white"
           },
           "zaxis": {
            "backgroundcolor": "#E5ECF6",
            "gridcolor": "white",
            "gridwidth": 2,
            "linecolor": "white",
            "showbackground": true,
            "ticks": "",
            "zerolinecolor": "white"
           }
          },
          "shapedefaults": {
           "line": {
            "color": "#2a3f5f"
           }
          },
          "ternary": {
           "aaxis": {
            "gridcolor": "white",
            "linecolor": "white",
            "ticks": ""
           },
           "baxis": {
            "gridcolor": "white",
            "linecolor": "white",
            "ticks": ""
           },
           "bgcolor": "#E5ECF6",
           "caxis": {
            "gridcolor": "white",
            "linecolor": "white",
            "ticks": ""
           }
          },
          "title": {
           "x": 0.05
          },
          "xaxis": {
           "automargin": true,
           "gridcolor": "white",
           "linecolor": "white",
           "ticks": "",
           "title": {
            "standoff": 15
           },
           "zerolinecolor": "white",
           "zerolinewidth": 2
          },
          "yaxis": {
           "automargin": true,
           "gridcolor": "white",
           "linecolor": "white",
           "ticks": "",
           "title": {
            "standoff": 15
           },
           "zerolinecolor": "white",
           "zerolinewidth": 2
          }
         }
        },
        "title": {
         "text": "Unemployment rate from Jan 2020 to Oct 2020 (State)"
        },
        "updatemenus": [
         {
          "buttons": [
           {
            "args": [
             null,
             {
              "frame": {
               "duration": 2000,
               "redraw": true
              },
              "fromcurrent": true,
              "mode": "immediate",
              "transition": {
               "duration": 500,
               "easing": "linear"
              }
             }
            ],
            "label": "&#9654;",
            "method": "animate"
           },
           {
            "args": [
             [
              null
             ],
             {
              "frame": {
               "duration": 0,
               "redraw": true
              },
              "fromcurrent": true,
              "mode": "immediate",
              "transition": {
               "duration": 0,
               "easing": "linear"
              }
             }
            ],
            "label": "&#9724;",
            "method": "animate"
           }
          ],
          "direction": "left",
          "pad": {
           "r": 10,
           "t": 70
          },
          "showactive": false,
          "type": "buttons",
          "x": 0.1,
          "xanchor": "right",
          "y": 0,
          "yanchor": "top"
         }
        ],
        "xaxis": {
         "anchor": "y",
         "categoryarray": [
          "Andhra Pradesh",
          "Assam",
          "Bihar",
          "Chhattisgarh",
          "Delhi",
          "Goa",
          "Gujarat",
          "Haryana",
          "Himachal Pradesh",
          "Jammu & Kashmir",
          "Jharkhand",
          "Karnataka",
          "Kerala",
          "Madhya Pradesh",
          "Maharashtra",
          "Meghalaya",
          "Odisha",
          "Puducherry",
          "Punjab",
          "Rajasthan",
          "Sikkim",
          "Tamil Nadu",
          "Telangana",
          "Tripura",
          "Uttar Pradesh",
          "Uttarakhand",
          "West Bengal"
         ],
         "categoryorder": "total descending",
         "domain": [
          0,
          1
         ],
         "title": {
          "text": "state"
         }
        },
        "yaxis": {
         "anchor": "x",
         "domain": [
          0,
          1
         ],
         "title": {
          "text": "estimated unemployment rate"
         }
        }
       }
      }
     },
     "metadata": {},
     "output_type": "display_data"
    }
   ],
   "source": [
    "# bar plot unemployment rate (monthly)\n",
    "\n",
    "fig = px.bar(df, x='state',y='estimated unemployment rate', animation_frame = 'month', color='state',\n",
    "            title='Unemployment rate from Jan 2020 to Oct 2020 (State)')\n",
    "\n",
    "fig.update_layout(xaxis={'categoryorder':'total descending'})\n",
    "\n",
    "fig.layout.updatemenus[0].buttons[0].args[1][\"frame\"][\"duration\"]=2000\n",
    "\n",
    "fig.show()"
   ]
  },
  {
   "cell_type": "markdown",
   "id": "15f86545",
   "metadata": {
    "execution": {
     "iopub.execute_input": "2023-01-24T13:16:13.404723Z",
     "iopub.status.busy": "2023-01-24T13:16:13.404216Z",
     "iopub.status.idle": "2023-01-24T13:16:13.409742Z",
     "shell.execute_reply": "2023-01-24T13:16:13.408833Z",
     "shell.execute_reply.started": "2023-01-24T13:16:13.404683Z"
    },
    "papermill": {
     "duration": 0.011328,
     "end_time": "2023-01-24T18:21:09.383188",
     "exception": false,
     "start_time": "2023-01-24T18:21:09.371860",
     "status": "completed"
    },
    "tags": []
   },
   "source": [
    "#### Monthly unemployment rate"
   ]
  },
  {
   "cell_type": "code",
   "execution_count": 18,
   "id": "4062ea52",
   "metadata": {
    "execution": {
     "iopub.execute_input": "2023-01-24T18:21:09.406298Z",
     "iopub.status.busy": "2023-01-24T18:21:09.405963Z",
     "iopub.status.idle": "2023-01-24T18:21:10.458360Z",
     "shell.execute_reply": "2023-01-24T18:21:10.457072Z"
    },
    "papermill": {
     "duration": 1.067466,
     "end_time": "2023-01-24T18:21:10.461473",
     "exception": false,
     "start_time": "2023-01-24T18:21:09.394007",
     "status": "completed"
    },
    "tags": []
   },
   "outputs": [
    {
     "data": {
      "application/vnd.plotly.v1+json": {
       "config": {
        "plotlyServerURL": "https://plot.ly"
       },
       "data": [
        {
         "geo": "geo",
         "hovertemplate": "<b>%{hovertext}</b><br><br>state=Andhra Pradesh<br>month=Jan<br>estimated unemployment rate=%{marker.size}<br>longitude=%{lat}<br>latitude=%{lon}<extra></extra>",
         "hovertext": [
          "Andhra Pradesh"
         ],
         "lat": [
          15.9129
         ],
         "legendgroup": "Andhra Pradesh",
         "lon": [
          79.74
         ],
         "marker": {
          "color": "#636efa",
          "size": [
           5.48
          ],
          "sizemode": "area",
          "sizeref": 0.189625,
          "symbol": "circle"
         },
         "mode": "markers",
         "name": "Andhra Pradesh",
         "showlegend": true,
         "type": "scattergeo"
        },
        {
         "geo": "geo",
         "hovertemplate": "<b>%{hovertext}</b><br><br>state=Assam<br>month=Jan<br>estimated unemployment rate=%{marker.size}<br>longitude=%{lat}<br>latitude=%{lon}<extra></extra>",
         "hovertext": [
          "Assam"
         ],
         "lat": [
          26.2006
         ],
         "legendgroup": "Assam",
         "lon": [
          92.9376
         ],
         "marker": {
          "color": "#EF553B",
          "size": [
           4.66
          ],
          "sizemode": "area",
          "sizeref": 0.189625,
          "symbol": "circle"
         },
         "mode": "markers",
         "name": "Assam",
         "showlegend": true,
         "type": "scattergeo"
        },
        {
         "geo": "geo",
         "hovertemplate": "<b>%{hovertext}</b><br><br>state=Bihar<br>month=Jan<br>estimated unemployment rate=%{marker.size}<br>longitude=%{lat}<br>latitude=%{lon}<extra></extra>",
         "hovertext": [
          "Bihar"
         ],
         "lat": [
          25.0961
         ],
         "legendgroup": "Bihar",
         "lon": [
          85.3131
         ],
         "marker": {
          "color": "#00cc96",
          "size": [
           10.61
          ],
          "sizemode": "area",
          "sizeref": 0.189625,
          "symbol": "circle"
         },
         "mode": "markers",
         "name": "Bihar",
         "showlegend": true,
         "type": "scattergeo"
        },
        {
         "geo": "geo",
         "hovertemplate": "<b>%{hovertext}</b><br><br>state=Chhattisgarh<br>month=Jan<br>estimated unemployment rate=%{marker.size}<br>longitude=%{lat}<br>latitude=%{lon}<extra></extra>",
         "hovertext": [
          "Chhattisgarh"
         ],
         "lat": [
          21.2787
         ],
         "legendgroup": "Chhattisgarh",
         "lon": [
          81.8661
         ],
         "marker": {
          "color": "#ab63fa",
          "size": [
           9.65
          ],
          "sizemode": "area",
          "sizeref": 0.189625,
          "symbol": "circle"
         },
         "mode": "markers",
         "name": "Chhattisgarh",
         "showlegend": true,
         "type": "scattergeo"
        },
        {
         "geo": "geo",
         "hovertemplate": "<b>%{hovertext}</b><br><br>state=Delhi<br>month=Jan<br>estimated unemployment rate=%{marker.size}<br>longitude=%{lat}<br>latitude=%{lon}<extra></extra>",
         "hovertext": [
          "Delhi"
         ],
         "lat": [
          28.7041
         ],
         "legendgroup": "Delhi",
         "lon": [
          77.1025
         ],
         "marker": {
          "color": "#FFA15A",
          "size": [
           22.23
          ],
          "sizemode": "area",
          "sizeref": 0.189625,
          "symbol": "circle"
         },
         "mode": "markers",
         "name": "Delhi",
         "showlegend": true,
         "type": "scattergeo"
        },
        {
         "geo": "geo",
         "hovertemplate": "<b>%{hovertext}</b><br><br>state=Goa<br>month=Jan<br>estimated unemployment rate=%{marker.size}<br>longitude=%{lat}<br>latitude=%{lon}<extra></extra>",
         "hovertext": [
          "Goa"
         ],
         "lat": [
          15.2993
         ],
         "legendgroup": "Goa",
         "lon": [
          74.124
         ],
         "marker": {
          "color": "#19d3f3",
          "size": [
           8.89
          ],
          "sizemode": "area",
          "sizeref": 0.189625,
          "symbol": "circle"
         },
         "mode": "markers",
         "name": "Goa",
         "showlegend": true,
         "type": "scattergeo"
        },
        {
         "geo": "geo",
         "hovertemplate": "<b>%{hovertext}</b><br><br>state=Gujarat<br>month=Jan<br>estimated unemployment rate=%{marker.size}<br>longitude=%{lat}<br>latitude=%{lon}<extra></extra>",
         "hovertext": [
          "Gujarat"
         ],
         "lat": [
          22.2587
         ],
         "legendgroup": "Gujarat",
         "lon": [
          71.1924
         ],
         "marker": {
          "color": "#FF6692",
          "size": [
           5.54
          ],
          "sizemode": "area",
          "sizeref": 0.189625,
          "symbol": "circle"
         },
         "mode": "markers",
         "name": "Gujarat",
         "showlegend": true,
         "type": "scattergeo"
        },
        {
         "geo": "geo",
         "hovertemplate": "<b>%{hovertext}</b><br><br>state=Haryana<br>month=Jan<br>estimated unemployment rate=%{marker.size}<br>longitude=%{lat}<br>latitude=%{lon}<extra></extra>",
         "hovertext": [
          "Haryana"
         ],
         "lat": [
          29.0588
         ],
         "legendgroup": "Haryana",
         "lon": [
          76.0856
         ],
         "marker": {
          "color": "#B6E880",
          "size": [
           20.34
          ],
          "sizemode": "area",
          "sizeref": 0.189625,
          "symbol": "circle"
         },
         "mode": "markers",
         "name": "Haryana",
         "showlegend": true,
         "type": "scattergeo"
        },
        {
         "geo": "geo",
         "hovertemplate": "<b>%{hovertext}</b><br><br>state=Himachal Pradesh<br>month=Jan<br>estimated unemployment rate=%{marker.size}<br>longitude=%{lat}<br>latitude=%{lon}<extra></extra>",
         "hovertext": [
          "Himachal Pradesh"
         ],
         "lat": [
          31.1048
         ],
         "legendgroup": "Himachal Pradesh",
         "lon": [
          77.1734
         ],
         "marker": {
          "color": "#FF97FF",
          "size": [
           16.83
          ],
          "sizemode": "area",
          "sizeref": 0.189625,
          "symbol": "circle"
         },
         "mode": "markers",
         "name": "Himachal Pradesh",
         "showlegend": true,
         "type": "scattergeo"
        },
        {
         "geo": "geo",
         "hovertemplate": "<b>%{hovertext}</b><br><br>state=Jammu & Kashmir<br>month=Jan<br>estimated unemployment rate=%{marker.size}<br>longitude=%{lat}<br>latitude=%{lon}<extra></extra>",
         "hovertext": [
          "Jammu & Kashmir"
         ],
         "lat": [
          33.7782
         ],
         "legendgroup": "Jammu & Kashmir",
         "lon": [
          76.5762
         ],
         "marker": {
          "color": "#FECB52",
          "size": [
           21.08
          ],
          "sizemode": "area",
          "sizeref": 0.189625,
          "symbol": "circle"
         },
         "mode": "markers",
         "name": "Jammu & Kashmir",
         "showlegend": true,
         "type": "scattergeo"
        },
        {
         "geo": "geo",
         "hovertemplate": "<b>%{hovertext}</b><br><br>state=Jharkhand<br>month=Jan<br>estimated unemployment rate=%{marker.size}<br>longitude=%{lat}<br>latitude=%{lon}<extra></extra>",
         "hovertext": [
          "Jharkhand"
         ],
         "lat": [
          23.6102
         ],
         "legendgroup": "Jharkhand",
         "lon": [
          85.2799
         ],
         "marker": {
          "color": "#636efa",
          "size": [
           10.61
          ],
          "sizemode": "area",
          "sizeref": 0.189625,
          "symbol": "circle"
         },
         "mode": "markers",
         "name": "Jharkhand",
         "showlegend": true,
         "type": "scattergeo"
        },
        {
         "geo": "geo",
         "hovertemplate": "<b>%{hovertext}</b><br><br>state=Karnataka<br>month=Jan<br>estimated unemployment rate=%{marker.size}<br>longitude=%{lat}<br>latitude=%{lon}<extra></extra>",
         "hovertext": [
          "Karnataka"
         ],
         "lat": [
          15.3173
         ],
         "legendgroup": "Karnataka",
         "lon": [
          75.7139
         ],
         "marker": {
          "color": "#EF553B",
          "size": [
           2.86
          ],
          "sizemode": "area",
          "sizeref": 0.189625,
          "symbol": "circle"
         },
         "mode": "markers",
         "name": "Karnataka",
         "showlegend": true,
         "type": "scattergeo"
        },
        {
         "geo": "geo",
         "hovertemplate": "<b>%{hovertext}</b><br><br>state=Kerala<br>month=Jan<br>estimated unemployment rate=%{marker.size}<br>longitude=%{lat}<br>latitude=%{lon}<extra></extra>",
         "hovertext": [
          "Kerala"
         ],
         "lat": [
          10.8505
         ],
         "legendgroup": "Kerala",
         "lon": [
          76.2711
         ],
         "marker": {
          "color": "#00cc96",
          "size": [
           5.31
          ],
          "sizemode": "area",
          "sizeref": 0.189625,
          "symbol": "circle"
         },
         "mode": "markers",
         "name": "Kerala",
         "showlegend": true,
         "type": "scattergeo"
        },
        {
         "geo": "geo",
         "hovertemplate": "<b>%{hovertext}</b><br><br>state=Madhya Pradesh<br>month=Jan<br>estimated unemployment rate=%{marker.size}<br>longitude=%{lat}<br>latitude=%{lon}<extra></extra>",
         "hovertext": [
          "Madhya Pradesh"
         ],
         "lat": [
          22.9734
         ],
         "legendgroup": "Madhya Pradesh",
         "lon": [
          78.6569
         ],
         "marker": {
          "color": "#ab63fa",
          "size": [
           4.11
          ],
          "sizemode": "area",
          "sizeref": 0.189625,
          "symbol": "circle"
         },
         "mode": "markers",
         "name": "Madhya Pradesh",
         "showlegend": true,
         "type": "scattergeo"
        },
        {
         "geo": "geo",
         "hovertemplate": "<b>%{hovertext}</b><br><br>state=Maharashtra<br>month=Jan<br>estimated unemployment rate=%{marker.size}<br>longitude=%{lat}<br>latitude=%{lon}<extra></extra>",
         "hovertext": [
          "Maharashtra"
         ],
         "lat": [
          19.7515
         ],
         "legendgroup": "Maharashtra",
         "lon": [
          75.7139
         ],
         "marker": {
          "color": "#FFA15A",
          "size": [
           4.95
          ],
          "sizemode": "area",
          "sizeref": 0.189625,
          "symbol": "circle"
         },
         "mode": "markers",
         "name": "Maharashtra",
         "showlegend": true,
         "type": "scattergeo"
        },
        {
         "geo": "geo",
         "hovertemplate": "<b>%{hovertext}</b><br><br>state=Meghalaya<br>month=Jan<br>estimated unemployment rate=%{marker.size}<br>longitude=%{lat}<br>latitude=%{lon}<extra></extra>",
         "hovertext": [
          "Meghalaya"
         ],
         "lat": [
          25.467
         ],
         "legendgroup": "Meghalaya",
         "lon": [
          91.3662
         ],
         "marker": {
          "color": "#19d3f3",
          "size": [
           1.66
          ],
          "sizemode": "area",
          "sizeref": 0.189625,
          "symbol": "circle"
         },
         "mode": "markers",
         "name": "Meghalaya",
         "showlegend": true,
         "type": "scattergeo"
        },
        {
         "geo": "geo",
         "hovertemplate": "<b>%{hovertext}</b><br><br>state=Odisha<br>month=Jan<br>estimated unemployment rate=%{marker.size}<br>longitude=%{lat}<br>latitude=%{lon}<extra></extra>",
         "hovertext": [
          "Odisha"
         ],
         "lat": [
          20.9517
         ],
         "legendgroup": "Odisha",
         "lon": [
          85.0985
         ],
         "marker": {
          "color": "#FF6692",
          "size": [
           1.9
          ],
          "sizemode": "area",
          "sizeref": 0.189625,
          "symbol": "circle"
         },
         "mode": "markers",
         "name": "Odisha",
         "showlegend": true,
         "type": "scattergeo"
        },
        {
         "geo": "geo",
         "hovertemplate": "<b>%{hovertext}</b><br><br>state=Puducherry<br>month=Jan<br>estimated unemployment rate=%{marker.size}<br>longitude=%{lat}<br>latitude=%{lon}<extra></extra>",
         "hovertext": [
          "Puducherry"
         ],
         "lat": [
          11.9416
         ],
         "legendgroup": "Puducherry",
         "lon": [
          79.8083
         ],
         "marker": {
          "color": "#B6E880",
          "size": [
           0.58
          ],
          "sizemode": "area",
          "sizeref": 0.189625,
          "symbol": "circle"
         },
         "mode": "markers",
         "name": "Puducherry",
         "showlegend": true,
         "type": "scattergeo"
        },
        {
         "geo": "geo",
         "hovertemplate": "<b>%{hovertext}</b><br><br>state=Punjab<br>month=Jan<br>estimated unemployment rate=%{marker.size}<br>longitude=%{lat}<br>latitude=%{lon}<extra></extra>",
         "hovertext": [
          "Punjab"
         ],
         "lat": [
          31.1471
         ],
         "legendgroup": "Punjab",
         "lon": [
          75.3412
         ],
         "marker": {
          "color": "#FF97FF",
          "size": [
           11.11
          ],
          "sizemode": "area",
          "sizeref": 0.189625,
          "symbol": "circle"
         },
         "mode": "markers",
         "name": "Punjab",
         "showlegend": true,
         "type": "scattergeo"
        },
        {
         "geo": "geo",
         "hovertemplate": "<b>%{hovertext}</b><br><br>state=Rajasthan<br>month=Jan<br>estimated unemployment rate=%{marker.size}<br>longitude=%{lat}<br>latitude=%{lon}<extra></extra>",
         "hovertext": [
          "Rajasthan"
         ],
         "lat": [
          27.0238
         ],
         "legendgroup": "Rajasthan",
         "lon": [
          74.2179
         ],
         "marker": {
          "color": "#FECB52",
          "size": [
           10.97
          ],
          "sizemode": "area",
          "sizeref": 0.189625,
          "symbol": "circle"
         },
         "mode": "markers",
         "name": "Rajasthan",
         "showlegend": true,
         "type": "scattergeo"
        },
        {
         "geo": "geo",
         "hovertemplate": "<b>%{hovertext}</b><br><br>state=Tamil Nadu<br>month=Jan<br>estimated unemployment rate=%{marker.size}<br>longitude=%{lat}<br>latitude=%{lon}<extra></extra>",
         "hovertext": [
          "Tamil Nadu"
         ],
         "lat": [
          11.1271
         ],
         "legendgroup": "Tamil Nadu",
         "lon": [
          78.6569
         ],
         "marker": {
          "color": "#EF553B",
          "size": [
           1.57
          ],
          "sizemode": "area",
          "sizeref": 0.189625,
          "symbol": "circle"
         },
         "mode": "markers",
         "name": "Tamil Nadu",
         "showlegend": true,
         "type": "scattergeo"
        },
        {
         "geo": "geo",
         "hovertemplate": "<b>%{hovertext}</b><br><br>state=Telangana<br>month=Jan<br>estimated unemployment rate=%{marker.size}<br>longitude=%{lat}<br>latitude=%{lon}<extra></extra>",
         "hovertext": [
          "Telangana"
         ],
         "lat": [
          18.1124
         ],
         "legendgroup": "Telangana",
         "lon": [
          79.0193
         ],
         "marker": {
          "color": "#00cc96",
          "size": [
           5.49
          ],
          "sizemode": "area",
          "sizeref": 0.189625,
          "symbol": "circle"
         },
         "mode": "markers",
         "name": "Telangana",
         "showlegend": true,
         "type": "scattergeo"
        },
        {
         "geo": "geo",
         "hovertemplate": "<b>%{hovertext}</b><br><br>state=Tripura<br>month=Jan<br>estimated unemployment rate=%{marker.size}<br>longitude=%{lat}<br>latitude=%{lon}<extra></extra>",
         "hovertext": [
          "Tripura"
         ],
         "lat": [
          23.9408
         ],
         "legendgroup": "Tripura",
         "lon": [
          91.9882
         ],
         "marker": {
          "color": "#ab63fa",
          "size": [
           32.67
          ],
          "sizemode": "area",
          "sizeref": 0.189625,
          "symbol": "circle"
         },
         "mode": "markers",
         "name": "Tripura",
         "showlegend": true,
         "type": "scattergeo"
        },
        {
         "geo": "geo",
         "hovertemplate": "<b>%{hovertext}</b><br><br>state=Uttar Pradesh<br>month=Jan<br>estimated unemployment rate=%{marker.size}<br>longitude=%{lat}<br>latitude=%{lon}<extra></extra>",
         "hovertext": [
          "Uttar Pradesh"
         ],
         "lat": [
          26.8467
         ],
         "legendgroup": "Uttar Pradesh",
         "lon": [
          80.9462
         ],
         "marker": {
          "color": "#FFA15A",
          "size": [
           7.58
          ],
          "sizemode": "area",
          "sizeref": 0.189625,
          "symbol": "circle"
         },
         "mode": "markers",
         "name": "Uttar Pradesh",
         "showlegend": true,
         "type": "scattergeo"
        },
        {
         "geo": "geo",
         "hovertemplate": "<b>%{hovertext}</b><br><br>state=Uttarakhand<br>month=Jan<br>estimated unemployment rate=%{marker.size}<br>longitude=%{lat}<br>latitude=%{lon}<extra></extra>",
         "hovertext": [
          "Uttarakhand"
         ],
         "lat": [
          30.0668
         ],
         "legendgroup": "Uttarakhand",
         "lon": [
          79.0193
         ],
         "marker": {
          "color": "#19d3f3",
          "size": [
           5.49
          ],
          "sizemode": "area",
          "sizeref": 0.189625,
          "symbol": "circle"
         },
         "mode": "markers",
         "name": "Uttarakhand",
         "showlegend": true,
         "type": "scattergeo"
        },
        {
         "geo": "geo",
         "hovertemplate": "<b>%{hovertext}</b><br><br>state=West Bengal<br>month=Jan<br>estimated unemployment rate=%{marker.size}<br>longitude=%{lat}<br>latitude=%{lon}<extra></extra>",
         "hovertext": [
          "West Bengal"
         ],
         "lat": [
          22.9868
         ],
         "legendgroup": "West Bengal",
         "lon": [
          87.855
         ],
         "marker": {
          "color": "#FF6692",
          "size": [
           6.94
          ],
          "sizemode": "area",
          "sizeref": 0.189625,
          "symbol": "circle"
         },
         "mode": "markers",
         "name": "West Bengal",
         "showlegend": true,
         "type": "scattergeo"
        }
       ],
       "frames": [
        {
         "data": [
          {
           "geo": "geo",
           "hovertemplate": "<b>%{hovertext}</b><br><br>state=Andhra Pradesh<br>month=Jan<br>estimated unemployment rate=%{marker.size}<br>longitude=%{lat}<br>latitude=%{lon}<extra></extra>",
           "hovertext": [
            "Andhra Pradesh"
           ],
           "lat": [
            15.9129
           ],
           "legendgroup": "Andhra Pradesh",
           "lon": [
            79.74
           ],
           "marker": {
            "color": "#636efa",
            "size": [
             5.48
            ],
            "sizemode": "area",
            "sizeref": 0.189625,
            "symbol": "circle"
           },
           "mode": "markers",
           "name": "Andhra Pradesh",
           "showlegend": true,
           "type": "scattergeo"
          },
          {
           "geo": "geo",
           "hovertemplate": "<b>%{hovertext}</b><br><br>state=Assam<br>month=Jan<br>estimated unemployment rate=%{marker.size}<br>longitude=%{lat}<br>latitude=%{lon}<extra></extra>",
           "hovertext": [
            "Assam"
           ],
           "lat": [
            26.2006
           ],
           "legendgroup": "Assam",
           "lon": [
            92.9376
           ],
           "marker": {
            "color": "#EF553B",
            "size": [
             4.66
            ],
            "sizemode": "area",
            "sizeref": 0.189625,
            "symbol": "circle"
           },
           "mode": "markers",
           "name": "Assam",
           "showlegend": true,
           "type": "scattergeo"
          },
          {
           "geo": "geo",
           "hovertemplate": "<b>%{hovertext}</b><br><br>state=Bihar<br>month=Jan<br>estimated unemployment rate=%{marker.size}<br>longitude=%{lat}<br>latitude=%{lon}<extra></extra>",
           "hovertext": [
            "Bihar"
           ],
           "lat": [
            25.0961
           ],
           "legendgroup": "Bihar",
           "lon": [
            85.3131
           ],
           "marker": {
            "color": "#00cc96",
            "size": [
             10.61
            ],
            "sizemode": "area",
            "sizeref": 0.189625,
            "symbol": "circle"
           },
           "mode": "markers",
           "name": "Bihar",
           "showlegend": true,
           "type": "scattergeo"
          },
          {
           "geo": "geo",
           "hovertemplate": "<b>%{hovertext}</b><br><br>state=Chhattisgarh<br>month=Jan<br>estimated unemployment rate=%{marker.size}<br>longitude=%{lat}<br>latitude=%{lon}<extra></extra>",
           "hovertext": [
            "Chhattisgarh"
           ],
           "lat": [
            21.2787
           ],
           "legendgroup": "Chhattisgarh",
           "lon": [
            81.8661
           ],
           "marker": {
            "color": "#ab63fa",
            "size": [
             9.65
            ],
            "sizemode": "area",
            "sizeref": 0.189625,
            "symbol": "circle"
           },
           "mode": "markers",
           "name": "Chhattisgarh",
           "showlegend": true,
           "type": "scattergeo"
          },
          {
           "geo": "geo",
           "hovertemplate": "<b>%{hovertext}</b><br><br>state=Delhi<br>month=Jan<br>estimated unemployment rate=%{marker.size}<br>longitude=%{lat}<br>latitude=%{lon}<extra></extra>",
           "hovertext": [
            "Delhi"
           ],
           "lat": [
            28.7041
           ],
           "legendgroup": "Delhi",
           "lon": [
            77.1025
           ],
           "marker": {
            "color": "#FFA15A",
            "size": [
             22.23
            ],
            "sizemode": "area",
            "sizeref": 0.189625,
            "symbol": "circle"
           },
           "mode": "markers",
           "name": "Delhi",
           "showlegend": true,
           "type": "scattergeo"
          },
          {
           "geo": "geo",
           "hovertemplate": "<b>%{hovertext}</b><br><br>state=Goa<br>month=Jan<br>estimated unemployment rate=%{marker.size}<br>longitude=%{lat}<br>latitude=%{lon}<extra></extra>",
           "hovertext": [
            "Goa"
           ],
           "lat": [
            15.2993
           ],
           "legendgroup": "Goa",
           "lon": [
            74.124
           ],
           "marker": {
            "color": "#19d3f3",
            "size": [
             8.89
            ],
            "sizemode": "area",
            "sizeref": 0.189625,
            "symbol": "circle"
           },
           "mode": "markers",
           "name": "Goa",
           "showlegend": true,
           "type": "scattergeo"
          },
          {
           "geo": "geo",
           "hovertemplate": "<b>%{hovertext}</b><br><br>state=Gujarat<br>month=Jan<br>estimated unemployment rate=%{marker.size}<br>longitude=%{lat}<br>latitude=%{lon}<extra></extra>",
           "hovertext": [
            "Gujarat"
           ],
           "lat": [
            22.2587
           ],
           "legendgroup": "Gujarat",
           "lon": [
            71.1924
           ],
           "marker": {
            "color": "#FF6692",
            "size": [
             5.54
            ],
            "sizemode": "area",
            "sizeref": 0.189625,
            "symbol": "circle"
           },
           "mode": "markers",
           "name": "Gujarat",
           "showlegend": true,
           "type": "scattergeo"
          },
          {
           "geo": "geo",
           "hovertemplate": "<b>%{hovertext}</b><br><br>state=Haryana<br>month=Jan<br>estimated unemployment rate=%{marker.size}<br>longitude=%{lat}<br>latitude=%{lon}<extra></extra>",
           "hovertext": [
            "Haryana"
           ],
           "lat": [
            29.0588
           ],
           "legendgroup": "Haryana",
           "lon": [
            76.0856
           ],
           "marker": {
            "color": "#B6E880",
            "size": [
             20.34
            ],
            "sizemode": "area",
            "sizeref": 0.189625,
            "symbol": "circle"
           },
           "mode": "markers",
           "name": "Haryana",
           "showlegend": true,
           "type": "scattergeo"
          },
          {
           "geo": "geo",
           "hovertemplate": "<b>%{hovertext}</b><br><br>state=Himachal Pradesh<br>month=Jan<br>estimated unemployment rate=%{marker.size}<br>longitude=%{lat}<br>latitude=%{lon}<extra></extra>",
           "hovertext": [
            "Himachal Pradesh"
           ],
           "lat": [
            31.1048
           ],
           "legendgroup": "Himachal Pradesh",
           "lon": [
            77.1734
           ],
           "marker": {
            "color": "#FF97FF",
            "size": [
             16.83
            ],
            "sizemode": "area",
            "sizeref": 0.189625,
            "symbol": "circle"
           },
           "mode": "markers",
           "name": "Himachal Pradesh",
           "showlegend": true,
           "type": "scattergeo"
          },
          {
           "geo": "geo",
           "hovertemplate": "<b>%{hovertext}</b><br><br>state=Jammu & Kashmir<br>month=Jan<br>estimated unemployment rate=%{marker.size}<br>longitude=%{lat}<br>latitude=%{lon}<extra></extra>",
           "hovertext": [
            "Jammu & Kashmir"
           ],
           "lat": [
            33.7782
           ],
           "legendgroup": "Jammu & Kashmir",
           "lon": [
            76.5762
           ],
           "marker": {
            "color": "#FECB52",
            "size": [
             21.08
            ],
            "sizemode": "area",
            "sizeref": 0.189625,
            "symbol": "circle"
           },
           "mode": "markers",
           "name": "Jammu & Kashmir",
           "showlegend": true,
           "type": "scattergeo"
          },
          {
           "geo": "geo",
           "hovertemplate": "<b>%{hovertext}</b><br><br>state=Jharkhand<br>month=Jan<br>estimated unemployment rate=%{marker.size}<br>longitude=%{lat}<br>latitude=%{lon}<extra></extra>",
           "hovertext": [
            "Jharkhand"
           ],
           "lat": [
            23.6102
           ],
           "legendgroup": "Jharkhand",
           "lon": [
            85.2799
           ],
           "marker": {
            "color": "#636efa",
            "size": [
             10.61
            ],
            "sizemode": "area",
            "sizeref": 0.189625,
            "symbol": "circle"
           },
           "mode": "markers",
           "name": "Jharkhand",
           "showlegend": true,
           "type": "scattergeo"
          },
          {
           "geo": "geo",
           "hovertemplate": "<b>%{hovertext}</b><br><br>state=Karnataka<br>month=Jan<br>estimated unemployment rate=%{marker.size}<br>longitude=%{lat}<br>latitude=%{lon}<extra></extra>",
           "hovertext": [
            "Karnataka"
           ],
           "lat": [
            15.3173
           ],
           "legendgroup": "Karnataka",
           "lon": [
            75.7139
           ],
           "marker": {
            "color": "#EF553B",
            "size": [
             2.86
            ],
            "sizemode": "area",
            "sizeref": 0.189625,
            "symbol": "circle"
           },
           "mode": "markers",
           "name": "Karnataka",
           "showlegend": true,
           "type": "scattergeo"
          },
          {
           "geo": "geo",
           "hovertemplate": "<b>%{hovertext}</b><br><br>state=Kerala<br>month=Jan<br>estimated unemployment rate=%{marker.size}<br>longitude=%{lat}<br>latitude=%{lon}<extra></extra>",
           "hovertext": [
            "Kerala"
           ],
           "lat": [
            10.8505
           ],
           "legendgroup": "Kerala",
           "lon": [
            76.2711
           ],
           "marker": {
            "color": "#00cc96",
            "size": [
             5.31
            ],
            "sizemode": "area",
            "sizeref": 0.189625,
            "symbol": "circle"
           },
           "mode": "markers",
           "name": "Kerala",
           "showlegend": true,
           "type": "scattergeo"
          },
          {
           "geo": "geo",
           "hovertemplate": "<b>%{hovertext}</b><br><br>state=Madhya Pradesh<br>month=Jan<br>estimated unemployment rate=%{marker.size}<br>longitude=%{lat}<br>latitude=%{lon}<extra></extra>",
           "hovertext": [
            "Madhya Pradesh"
           ],
           "lat": [
            22.9734
           ],
           "legendgroup": "Madhya Pradesh",
           "lon": [
            78.6569
           ],
           "marker": {
            "color": "#ab63fa",
            "size": [
             4.11
            ],
            "sizemode": "area",
            "sizeref": 0.189625,
            "symbol": "circle"
           },
           "mode": "markers",
           "name": "Madhya Pradesh",
           "showlegend": true,
           "type": "scattergeo"
          },
          {
           "geo": "geo",
           "hovertemplate": "<b>%{hovertext}</b><br><br>state=Maharashtra<br>month=Jan<br>estimated unemployment rate=%{marker.size}<br>longitude=%{lat}<br>latitude=%{lon}<extra></extra>",
           "hovertext": [
            "Maharashtra"
           ],
           "lat": [
            19.7515
           ],
           "legendgroup": "Maharashtra",
           "lon": [
            75.7139
           ],
           "marker": {
            "color": "#FFA15A",
            "size": [
             4.95
            ],
            "sizemode": "area",
            "sizeref": 0.189625,
            "symbol": "circle"
           },
           "mode": "markers",
           "name": "Maharashtra",
           "showlegend": true,
           "type": "scattergeo"
          },
          {
           "geo": "geo",
           "hovertemplate": "<b>%{hovertext}</b><br><br>state=Meghalaya<br>month=Jan<br>estimated unemployment rate=%{marker.size}<br>longitude=%{lat}<br>latitude=%{lon}<extra></extra>",
           "hovertext": [
            "Meghalaya"
           ],
           "lat": [
            25.467
           ],
           "legendgroup": "Meghalaya",
           "lon": [
            91.3662
           ],
           "marker": {
            "color": "#19d3f3",
            "size": [
             1.66
            ],
            "sizemode": "area",
            "sizeref": 0.189625,
            "symbol": "circle"
           },
           "mode": "markers",
           "name": "Meghalaya",
           "showlegend": true,
           "type": "scattergeo"
          },
          {
           "geo": "geo",
           "hovertemplate": "<b>%{hovertext}</b><br><br>state=Odisha<br>month=Jan<br>estimated unemployment rate=%{marker.size}<br>longitude=%{lat}<br>latitude=%{lon}<extra></extra>",
           "hovertext": [
            "Odisha"
           ],
           "lat": [
            20.9517
           ],
           "legendgroup": "Odisha",
           "lon": [
            85.0985
           ],
           "marker": {
            "color": "#FF6692",
            "size": [
             1.9
            ],
            "sizemode": "area",
            "sizeref": 0.189625,
            "symbol": "circle"
           },
           "mode": "markers",
           "name": "Odisha",
           "showlegend": true,
           "type": "scattergeo"
          },
          {
           "geo": "geo",
           "hovertemplate": "<b>%{hovertext}</b><br><br>state=Puducherry<br>month=Jan<br>estimated unemployment rate=%{marker.size}<br>longitude=%{lat}<br>latitude=%{lon}<extra></extra>",
           "hovertext": [
            "Puducherry"
           ],
           "lat": [
            11.9416
           ],
           "legendgroup": "Puducherry",
           "lon": [
            79.8083
           ],
           "marker": {
            "color": "#B6E880",
            "size": [
             0.58
            ],
            "sizemode": "area",
            "sizeref": 0.189625,
            "symbol": "circle"
           },
           "mode": "markers",
           "name": "Puducherry",
           "showlegend": true,
           "type": "scattergeo"
          },
          {
           "geo": "geo",
           "hovertemplate": "<b>%{hovertext}</b><br><br>state=Punjab<br>month=Jan<br>estimated unemployment rate=%{marker.size}<br>longitude=%{lat}<br>latitude=%{lon}<extra></extra>",
           "hovertext": [
            "Punjab"
           ],
           "lat": [
            31.1471
           ],
           "legendgroup": "Punjab",
           "lon": [
            75.3412
           ],
           "marker": {
            "color": "#FF97FF",
            "size": [
             11.11
            ],
            "sizemode": "area",
            "sizeref": 0.189625,
            "symbol": "circle"
           },
           "mode": "markers",
           "name": "Punjab",
           "showlegend": true,
           "type": "scattergeo"
          },
          {
           "geo": "geo",
           "hovertemplate": "<b>%{hovertext}</b><br><br>state=Rajasthan<br>month=Jan<br>estimated unemployment rate=%{marker.size}<br>longitude=%{lat}<br>latitude=%{lon}<extra></extra>",
           "hovertext": [
            "Rajasthan"
           ],
           "lat": [
            27.0238
           ],
           "legendgroup": "Rajasthan",
           "lon": [
            74.2179
           ],
           "marker": {
            "color": "#FECB52",
            "size": [
             10.97
            ],
            "sizemode": "area",
            "sizeref": 0.189625,
            "symbol": "circle"
           },
           "mode": "markers",
           "name": "Rajasthan",
           "showlegend": true,
           "type": "scattergeo"
          },
          {
           "geo": "geo",
           "hovertemplate": "<b>%{hovertext}</b><br><br>state=Tamil Nadu<br>month=Jan<br>estimated unemployment rate=%{marker.size}<br>longitude=%{lat}<br>latitude=%{lon}<extra></extra>",
           "hovertext": [
            "Tamil Nadu"
           ],
           "lat": [
            11.1271
           ],
           "legendgroup": "Tamil Nadu",
           "lon": [
            78.6569
           ],
           "marker": {
            "color": "#EF553B",
            "size": [
             1.57
            ],
            "sizemode": "area",
            "sizeref": 0.189625,
            "symbol": "circle"
           },
           "mode": "markers",
           "name": "Tamil Nadu",
           "showlegend": true,
           "type": "scattergeo"
          },
          {
           "geo": "geo",
           "hovertemplate": "<b>%{hovertext}</b><br><br>state=Telangana<br>month=Jan<br>estimated unemployment rate=%{marker.size}<br>longitude=%{lat}<br>latitude=%{lon}<extra></extra>",
           "hovertext": [
            "Telangana"
           ],
           "lat": [
            18.1124
           ],
           "legendgroup": "Telangana",
           "lon": [
            79.0193
           ],
           "marker": {
            "color": "#00cc96",
            "size": [
             5.49
            ],
            "sizemode": "area",
            "sizeref": 0.189625,
            "symbol": "circle"
           },
           "mode": "markers",
           "name": "Telangana",
           "showlegend": true,
           "type": "scattergeo"
          },
          {
           "geo": "geo",
           "hovertemplate": "<b>%{hovertext}</b><br><br>state=Tripura<br>month=Jan<br>estimated unemployment rate=%{marker.size}<br>longitude=%{lat}<br>latitude=%{lon}<extra></extra>",
           "hovertext": [
            "Tripura"
           ],
           "lat": [
            23.9408
           ],
           "legendgroup": "Tripura",
           "lon": [
            91.9882
           ],
           "marker": {
            "color": "#ab63fa",
            "size": [
             32.67
            ],
            "sizemode": "area",
            "sizeref": 0.189625,
            "symbol": "circle"
           },
           "mode": "markers",
           "name": "Tripura",
           "showlegend": true,
           "type": "scattergeo"
          },
          {
           "geo": "geo",
           "hovertemplate": "<b>%{hovertext}</b><br><br>state=Uttar Pradesh<br>month=Jan<br>estimated unemployment rate=%{marker.size}<br>longitude=%{lat}<br>latitude=%{lon}<extra></extra>",
           "hovertext": [
            "Uttar Pradesh"
           ],
           "lat": [
            26.8467
           ],
           "legendgroup": "Uttar Pradesh",
           "lon": [
            80.9462
           ],
           "marker": {
            "color": "#FFA15A",
            "size": [
             7.58
            ],
            "sizemode": "area",
            "sizeref": 0.189625,
            "symbol": "circle"
           },
           "mode": "markers",
           "name": "Uttar Pradesh",
           "showlegend": true,
           "type": "scattergeo"
          },
          {
           "geo": "geo",
           "hovertemplate": "<b>%{hovertext}</b><br><br>state=Uttarakhand<br>month=Jan<br>estimated unemployment rate=%{marker.size}<br>longitude=%{lat}<br>latitude=%{lon}<extra></extra>",
           "hovertext": [
            "Uttarakhand"
           ],
           "lat": [
            30.0668
           ],
           "legendgroup": "Uttarakhand",
           "lon": [
            79.0193
           ],
           "marker": {
            "color": "#19d3f3",
            "size": [
             5.49
            ],
            "sizemode": "area",
            "sizeref": 0.189625,
            "symbol": "circle"
           },
           "mode": "markers",
           "name": "Uttarakhand",
           "showlegend": true,
           "type": "scattergeo"
          },
          {
           "geo": "geo",
           "hovertemplate": "<b>%{hovertext}</b><br><br>state=West Bengal<br>month=Jan<br>estimated unemployment rate=%{marker.size}<br>longitude=%{lat}<br>latitude=%{lon}<extra></extra>",
           "hovertext": [
            "West Bengal"
           ],
           "lat": [
            22.9868
           ],
           "legendgroup": "West Bengal",
           "lon": [
            87.855
           ],
           "marker": {
            "color": "#FF6692",
            "size": [
             6.94
            ],
            "sizemode": "area",
            "sizeref": 0.189625,
            "symbol": "circle"
           },
           "mode": "markers",
           "name": "West Bengal",
           "showlegend": true,
           "type": "scattergeo"
          }
         ],
         "name": "Jan"
        },
        {
         "data": [
          {
           "geo": "geo",
           "hovertemplate": "<b>%{hovertext}</b><br><br>state=Andhra Pradesh<br>month=Feb<br>estimated unemployment rate=%{marker.size}<br>longitude=%{lat}<br>latitude=%{lon}<extra></extra>",
           "hovertext": [
            "Andhra Pradesh"
           ],
           "lat": [
            15.9129
           ],
           "legendgroup": "Andhra Pradesh",
           "lon": [
            79.74
           ],
           "marker": {
            "color": "#636efa",
            "size": [
             5.83
            ],
            "sizemode": "area",
            "sizeref": 0.189625,
            "symbol": "circle"
           },
           "mode": "markers",
           "name": "Andhra Pradesh",
           "showlegend": true,
           "type": "scattergeo"
          },
          {
           "geo": "geo",
           "hovertemplate": "<b>%{hovertext}</b><br><br>state=Assam<br>month=Feb<br>estimated unemployment rate=%{marker.size}<br>longitude=%{lat}<br>latitude=%{lon}<extra></extra>",
           "hovertext": [
            "Assam"
           ],
           "lat": [
            26.2006
           ],
           "legendgroup": "Assam",
           "lon": [
            92.9376
           ],
           "marker": {
            "color": "#EF553B",
            "size": [
             4.41
            ],
            "sizemode": "area",
            "sizeref": 0.189625,
            "symbol": "circle"
           },
           "mode": "markers",
           "name": "Assam",
           "showlegend": true,
           "type": "scattergeo"
          },
          {
           "geo": "geo",
           "hovertemplate": "<b>%{hovertext}</b><br><br>state=Bihar<br>month=Feb<br>estimated unemployment rate=%{marker.size}<br>longitude=%{lat}<br>latitude=%{lon}<extra></extra>",
           "hovertext": [
            "Bihar"
           ],
           "lat": [
            25.0961
           ],
           "legendgroup": "Bihar",
           "lon": [
            85.3131
           ],
           "marker": {
            "color": "#00cc96",
            "size": [
             10.29
            ],
            "sizemode": "area",
            "sizeref": 0.189625,
            "symbol": "circle"
           },
           "mode": "markers",
           "name": "Bihar",
           "showlegend": true,
           "type": "scattergeo"
          },
          {
           "geo": "geo",
           "hovertemplate": "<b>%{hovertext}</b><br><br>state=Chhattisgarh<br>month=Feb<br>estimated unemployment rate=%{marker.size}<br>longitude=%{lat}<br>latitude=%{lon}<extra></extra>",
           "hovertext": [
            "Chhattisgarh"
           ],
           "lat": [
            21.2787
           ],
           "legendgroup": "Chhattisgarh",
           "lon": [
            81.8661
           ],
           "marker": {
            "color": "#ab63fa",
            "size": [
             8.38
            ],
            "sizemode": "area",
            "sizeref": 0.189625,
            "symbol": "circle"
           },
           "mode": "markers",
           "name": "Chhattisgarh",
           "showlegend": true,
           "type": "scattergeo"
          },
          {
           "geo": "geo",
           "hovertemplate": "<b>%{hovertext}</b><br><br>state=Delhi<br>month=Feb<br>estimated unemployment rate=%{marker.size}<br>longitude=%{lat}<br>latitude=%{lon}<extra></extra>",
           "hovertext": [
            "Delhi"
           ],
           "lat": [
            28.7041
           ],
           "legendgroup": "Delhi",
           "lon": [
            77.1025
           ],
           "marker": {
            "color": "#FFA15A",
            "size": [
             14.84
            ],
            "sizemode": "area",
            "sizeref": 0.189625,
            "symbol": "circle"
           },
           "mode": "markers",
           "name": "Delhi",
           "showlegend": true,
           "type": "scattergeo"
          },
          {
           "geo": "geo",
           "hovertemplate": "<b>%{hovertext}</b><br><br>state=Goa<br>month=Feb<br>estimated unemployment rate=%{marker.size}<br>longitude=%{lat}<br>latitude=%{lon}<extra></extra>",
           "hovertext": [
            "Goa"
           ],
           "lat": [
            15.2993
           ],
           "legendgroup": "Goa",
           "lon": [
            74.124
           ],
           "marker": {
            "color": "#19d3f3",
            "size": [
             2.81
            ],
            "sizemode": "area",
            "sizeref": 0.189625,
            "symbol": "circle"
           },
           "mode": "markers",
           "name": "Goa",
           "showlegend": true,
           "type": "scattergeo"
          },
          {
           "geo": "geo",
           "hovertemplate": "<b>%{hovertext}</b><br><br>state=Gujarat<br>month=Feb<br>estimated unemployment rate=%{marker.size}<br>longitude=%{lat}<br>latitude=%{lon}<extra></extra>",
           "hovertext": [
            "Gujarat"
           ],
           "lat": [
            22.2587
           ],
           "legendgroup": "Gujarat",
           "lon": [
            71.1924
           ],
           "marker": {
            "color": "#FF6692",
            "size": [
             6.38
            ],
            "sizemode": "area",
            "sizeref": 0.189625,
            "symbol": "circle"
           },
           "mode": "markers",
           "name": "Gujarat",
           "showlegend": true,
           "type": "scattergeo"
          },
          {
           "geo": "geo",
           "hovertemplate": "<b>%{hovertext}</b><br><br>state=Haryana<br>month=Feb<br>estimated unemployment rate=%{marker.size}<br>longitude=%{lat}<br>latitude=%{lon}<extra></extra>",
           "hovertext": [
            "Haryana"
           ],
           "lat": [
            29.0588
           ],
           "legendgroup": "Haryana",
           "lon": [
            76.0856
           ],
           "marker": {
            "color": "#B6E880",
            "size": [
             25.77
            ],
            "sizemode": "area",
            "sizeref": 0.189625,
            "symbol": "circle"
           },
           "mode": "markers",
           "name": "Haryana",
           "showlegend": true,
           "type": "scattergeo"
          },
          {
           "geo": "geo",
           "hovertemplate": "<b>%{hovertext}</b><br><br>state=Himachal Pradesh<br>month=Feb<br>estimated unemployment rate=%{marker.size}<br>longitude=%{lat}<br>latitude=%{lon}<extra></extra>",
           "hovertext": [
            "Himachal Pradesh"
           ],
           "lat": [
            31.1048
           ],
           "legendgroup": "Himachal Pradesh",
           "lon": [
            77.1734
           ],
           "marker": {
            "color": "#FF97FF",
            "size": [
             16.84
            ],
            "sizemode": "area",
            "sizeref": 0.189625,
            "symbol": "circle"
           },
           "mode": "markers",
           "name": "Himachal Pradesh",
           "showlegend": true,
           "type": "scattergeo"
          },
          {
           "geo": "geo",
           "hovertemplate": "<b>%{hovertext}</b><br><br>state=Jammu & Kashmir<br>month=Feb<br>estimated unemployment rate=%{marker.size}<br>longitude=%{lat}<br>latitude=%{lon}<extra></extra>",
           "hovertext": [
            "Jammu & Kashmir"
           ],
           "lat": [
            33.7782
           ],
           "legendgroup": "Jammu & Kashmir",
           "lon": [
            76.5762
           ],
           "marker": {
            "color": "#FECB52",
            "size": [
             20.78
            ],
            "sizemode": "area",
            "sizeref": 0.189625,
            "symbol": "circle"
           },
           "mode": "markers",
           "name": "Jammu & Kashmir",
           "showlegend": true,
           "type": "scattergeo"
          },
          {
           "geo": "geo",
           "hovertemplate": "<b>%{hovertext}</b><br><br>state=Jharkhand<br>month=Feb<br>estimated unemployment rate=%{marker.size}<br>longitude=%{lat}<br>latitude=%{lon}<extra></extra>",
           "hovertext": [
            "Jharkhand"
           ],
           "lat": [
            23.6102
           ],
           "legendgroup": "Jharkhand",
           "lon": [
            85.2799
           ],
           "marker": {
            "color": "#636efa",
            "size": [
             11.85
            ],
            "sizemode": "area",
            "sizeref": 0.189625,
            "symbol": "circle"
           },
           "mode": "markers",
           "name": "Jharkhand",
           "showlegend": true,
           "type": "scattergeo"
          },
          {
           "geo": "geo",
           "hovertemplate": "<b>%{hovertext}</b><br><br>state=Karnataka<br>month=Feb<br>estimated unemployment rate=%{marker.size}<br>longitude=%{lat}<br>latitude=%{lon}<extra></extra>",
           "hovertext": [
            "Karnataka"
           ],
           "lat": [
            15.3173
           ],
           "legendgroup": "Karnataka",
           "lon": [
            75.7139
           ],
           "marker": {
            "color": "#EF553B",
            "size": [
             3.61
            ],
            "sizemode": "area",
            "sizeref": 0.189625,
            "symbol": "circle"
           },
           "mode": "markers",
           "name": "Karnataka",
           "showlegend": true,
           "type": "scattergeo"
          },
          {
           "geo": "geo",
           "hovertemplate": "<b>%{hovertext}</b><br><br>state=Kerala<br>month=Feb<br>estimated unemployment rate=%{marker.size}<br>longitude=%{lat}<br>latitude=%{lon}<extra></extra>",
           "hovertext": [
            "Kerala"
           ],
           "lat": [
            10.8505
           ],
           "legendgroup": "Kerala",
           "lon": [
            76.2711
           ],
           "marker": {
            "color": "#00cc96",
            "size": [
             7.6
            ],
            "sizemode": "area",
            "sizeref": 0.189625,
            "symbol": "circle"
           },
           "mode": "markers",
           "name": "Kerala",
           "showlegend": true,
           "type": "scattergeo"
          },
          {
           "geo": "geo",
           "hovertemplate": "<b>%{hovertext}</b><br><br>state=Madhya Pradesh<br>month=Feb<br>estimated unemployment rate=%{marker.size}<br>longitude=%{lat}<br>latitude=%{lon}<extra></extra>",
           "hovertext": [
            "Madhya Pradesh"
           ],
           "lat": [
            22.9734
           ],
           "legendgroup": "Madhya Pradesh",
           "lon": [
            78.6569
           ],
           "marker": {
            "color": "#ab63fa",
            "size": [
             4.57
            ],
            "sizemode": "area",
            "sizeref": 0.189625,
            "symbol": "circle"
           },
           "mode": "markers",
           "name": "Madhya Pradesh",
           "showlegend": true,
           "type": "scattergeo"
          },
          {
           "geo": "geo",
           "hovertemplate": "<b>%{hovertext}</b><br><br>state=Maharashtra<br>month=Feb<br>estimated unemployment rate=%{marker.size}<br>longitude=%{lat}<br>latitude=%{lon}<extra></extra>",
           "hovertext": [
            "Maharashtra"
           ],
           "lat": [
            19.7515
           ],
           "legendgroup": "Maharashtra",
           "lon": [
            75.7139
           ],
           "marker": {
            "color": "#FFA15A",
            "size": [
             4.69
            ],
            "sizemode": "area",
            "sizeref": 0.189625,
            "symbol": "circle"
           },
           "mode": "markers",
           "name": "Maharashtra",
           "showlegend": true,
           "type": "scattergeo"
          },
          {
           "geo": "geo",
           "hovertemplate": "<b>%{hovertext}</b><br><br>state=Meghalaya<br>month=Feb<br>estimated unemployment rate=%{marker.size}<br>longitude=%{lat}<br>latitude=%{lon}<extra></extra>",
           "hovertext": [
            "Meghalaya"
           ],
           "lat": [
            25.467
           ],
           "legendgroup": "Meghalaya",
           "lon": [
            91.3662
           ],
           "marker": {
            "color": "#19d3f3",
            "size": [
             3.59
            ],
            "sizemode": "area",
            "sizeref": 0.189625,
            "symbol": "circle"
           },
           "mode": "markers",
           "name": "Meghalaya",
           "showlegend": true,
           "type": "scattergeo"
          },
          {
           "geo": "geo",
           "hovertemplate": "<b>%{hovertext}</b><br><br>state=Odisha<br>month=Feb<br>estimated unemployment rate=%{marker.size}<br>longitude=%{lat}<br>latitude=%{lon}<extra></extra>",
           "hovertext": [
            "Odisha"
           ],
           "lat": [
            20.9517
           ],
           "legendgroup": "Odisha",
           "lon": [
            85.0985
           ],
           "marker": {
            "color": "#FF6692",
            "size": [
             3.12
            ],
            "sizemode": "area",
            "sizeref": 0.189625,
            "symbol": "circle"
           },
           "mode": "markers",
           "name": "Odisha",
           "showlegend": true,
           "type": "scattergeo"
          },
          {
           "geo": "geo",
           "hovertemplate": "<b>%{hovertext}</b><br><br>state=Puducherry<br>month=Feb<br>estimated unemployment rate=%{marker.size}<br>longitude=%{lat}<br>latitude=%{lon}<extra></extra>",
           "hovertext": [
            "Puducherry"
           ],
           "lat": [
            11.9416
           ],
           "legendgroup": "Puducherry",
           "lon": [
            79.8083
           ],
           "marker": {
            "color": "#B6E880",
            "size": [
             1.76
            ],
            "sizemode": "area",
            "sizeref": 0.189625,
            "symbol": "circle"
           },
           "mode": "markers",
           "name": "Puducherry",
           "showlegend": true,
           "type": "scattergeo"
          },
          {
           "geo": "geo",
           "hovertemplate": "<b>%{hovertext}</b><br><br>state=Punjab<br>month=Feb<br>estimated unemployment rate=%{marker.size}<br>longitude=%{lat}<br>latitude=%{lon}<extra></extra>",
           "hovertext": [
            "Punjab"
           ],
           "lat": [
            31.1471
           ],
           "legendgroup": "Punjab",
           "lon": [
            75.3412
           ],
           "marker": {
            "color": "#FF97FF",
            "size": [
             10.97
            ],
            "sizemode": "area",
            "sizeref": 0.189625,
            "symbol": "circle"
           },
           "mode": "markers",
           "name": "Punjab",
           "showlegend": true,
           "type": "scattergeo"
          },
          {
           "geo": "geo",
           "hovertemplate": "<b>%{hovertext}</b><br><br>state=Rajasthan<br>month=Feb<br>estimated unemployment rate=%{marker.size}<br>longitude=%{lat}<br>latitude=%{lon}<extra></extra>",
           "hovertext": [
            "Rajasthan"
           ],
           "lat": [
            27.0238
           ],
           "legendgroup": "Rajasthan",
           "lon": [
            74.2179
           ],
           "marker": {
            "color": "#FECB52",
            "size": [
             15.16
            ],
            "sizemode": "area",
            "sizeref": 0.189625,
            "symbol": "circle"
           },
           "mode": "markers",
           "name": "Rajasthan",
           "showlegend": true,
           "type": "scattergeo"
          },
          {
           "geo": "geo",
           "hovertemplate": "<b>%{hovertext}</b><br><br>state=Tamil Nadu<br>month=Feb<br>estimated unemployment rate=%{marker.size}<br>longitude=%{lat}<br>latitude=%{lon}<extra></extra>",
           "hovertext": [
            "Tamil Nadu"
           ],
           "lat": [
            11.1271
           ],
           "legendgroup": "Tamil Nadu",
           "lon": [
            78.6569
           ],
           "marker": {
            "color": "#EF553B",
            "size": [
             2.09
            ],
            "sizemode": "area",
            "sizeref": 0.189625,
            "symbol": "circle"
           },
           "mode": "markers",
           "name": "Tamil Nadu",
           "showlegend": true,
           "type": "scattergeo"
          },
          {
           "geo": "geo",
           "hovertemplate": "<b>%{hovertext}</b><br><br>state=Telangana<br>month=Feb<br>estimated unemployment rate=%{marker.size}<br>longitude=%{lat}<br>latitude=%{lon}<extra></extra>",
           "hovertext": [
            "Telangana"
           ],
           "lat": [
            18.1124
           ],
           "legendgroup": "Telangana",
           "lon": [
            79.0193
           ],
           "marker": {
            "color": "#00cc96",
            "size": [
             8.29
            ],
            "sizemode": "area",
            "sizeref": 0.189625,
            "symbol": "circle"
           },
           "mode": "markers",
           "name": "Telangana",
           "showlegend": true,
           "type": "scattergeo"
          },
          {
           "geo": "geo",
           "hovertemplate": "<b>%{hovertext}</b><br><br>state=Tripura<br>month=Feb<br>estimated unemployment rate=%{marker.size}<br>longitude=%{lat}<br>latitude=%{lon}<extra></extra>",
           "hovertext": [
            "Tripura"
           ],
           "lat": [
            23.9408
           ],
           "legendgroup": "Tripura",
           "lon": [
            91.9882
           ],
           "marker": {
            "color": "#ab63fa",
            "size": [
             28.4
            ],
            "sizemode": "area",
            "sizeref": 0.189625,
            "symbol": "circle"
           },
           "mode": "markers",
           "name": "Tripura",
           "showlegend": true,
           "type": "scattergeo"
          },
          {
           "geo": "geo",
           "hovertemplate": "<b>%{hovertext}</b><br><br>state=Uttar Pradesh<br>month=Feb<br>estimated unemployment rate=%{marker.size}<br>longitude=%{lat}<br>latitude=%{lon}<extra></extra>",
           "hovertext": [
            "Uttar Pradesh"
           ],
           "lat": [
            26.8467
           ],
           "legendgroup": "Uttar Pradesh",
           "lon": [
            80.9462
           ],
           "marker": {
            "color": "#FFA15A",
            "size": [
             8.98
            ],
            "sizemode": "area",
            "sizeref": 0.189625,
            "symbol": "circle"
           },
           "mode": "markers",
           "name": "Uttar Pradesh",
           "showlegend": true,
           "type": "scattergeo"
          },
          {
           "geo": "geo",
           "hovertemplate": "<b>%{hovertext}</b><br><br>state=Uttarakhand<br>month=Feb<br>estimated unemployment rate=%{marker.size}<br>longitude=%{lat}<br>latitude=%{lon}<extra></extra>",
           "hovertext": [
            "Uttarakhand"
           ],
           "lat": [
            30.0668
           ],
           "legendgroup": "Uttarakhand",
           "lon": [
            79.0193
           ],
           "marker": {
            "color": "#19d3f3",
            "size": [
             4.99
            ],
            "sizemode": "area",
            "sizeref": 0.189625,
            "symbol": "circle"
           },
           "mode": "markers",
           "name": "Uttarakhand",
           "showlegend": true,
           "type": "scattergeo"
          },
          {
           "geo": "geo",
           "hovertemplate": "<b>%{hovertext}</b><br><br>state=West Bengal<br>month=Feb<br>estimated unemployment rate=%{marker.size}<br>longitude=%{lat}<br>latitude=%{lon}<extra></extra>",
           "hovertext": [
            "West Bengal"
           ],
           "lat": [
            22.9868
           ],
           "legendgroup": "West Bengal",
           "lon": [
            87.855
           ],
           "marker": {
            "color": "#FF6692",
            "size": [
             4.92
            ],
            "sizemode": "area",
            "sizeref": 0.189625,
            "symbol": "circle"
           },
           "mode": "markers",
           "name": "West Bengal",
           "showlegend": true,
           "type": "scattergeo"
          }
         ],
         "name": "Feb"
        },
        {
         "data": [
          {
           "geo": "geo",
           "hovertemplate": "<b>%{hovertext}</b><br><br>state=Andhra Pradesh<br>month=Mar<br>estimated unemployment rate=%{marker.size}<br>longitude=%{lat}<br>latitude=%{lon}<extra></extra>",
           "hovertext": [
            "Andhra Pradesh"
           ],
           "lat": [
            15.9129
           ],
           "legendgroup": "Andhra Pradesh",
           "lon": [
            79.74
           ],
           "marker": {
            "color": "#636efa",
            "size": [
             5.79
            ],
            "sizemode": "area",
            "sizeref": 0.189625,
            "symbol": "circle"
           },
           "mode": "markers",
           "name": "Andhra Pradesh",
           "showlegend": true,
           "type": "scattergeo"
          },
          {
           "geo": "geo",
           "hovertemplate": "<b>%{hovertext}</b><br><br>state=Assam<br>month=Mar<br>estimated unemployment rate=%{marker.size}<br>longitude=%{lat}<br>latitude=%{lon}<extra></extra>",
           "hovertext": [
            "Assam"
           ],
           "lat": [
            26.2006
           ],
           "legendgroup": "Assam",
           "lon": [
            92.9376
           ],
           "marker": {
            "color": "#EF553B",
            "size": [
             4.77
            ],
            "sizemode": "area",
            "sizeref": 0.189625,
            "symbol": "circle"
           },
           "mode": "markers",
           "name": "Assam",
           "showlegend": true,
           "type": "scattergeo"
          },
          {
           "geo": "geo",
           "hovertemplate": "<b>%{hovertext}</b><br><br>state=Bihar<br>month=Mar<br>estimated unemployment rate=%{marker.size}<br>longitude=%{lat}<br>latitude=%{lon}<extra></extra>",
           "hovertext": [
            "Bihar"
           ],
           "lat": [
            25.0961
           ],
           "legendgroup": "Bihar",
           "lon": [
            85.3131
           ],
           "marker": {
            "color": "#00cc96",
            "size": [
             15.43
            ],
            "sizemode": "area",
            "sizeref": 0.189625,
            "symbol": "circle"
           },
           "mode": "markers",
           "name": "Bihar",
           "showlegend": true,
           "type": "scattergeo"
          },
          {
           "geo": "geo",
           "hovertemplate": "<b>%{hovertext}</b><br><br>state=Chhattisgarh<br>month=Mar<br>estimated unemployment rate=%{marker.size}<br>longitude=%{lat}<br>latitude=%{lon}<extra></extra>",
           "hovertext": [
            "Chhattisgarh"
           ],
           "lat": [
            21.2787
           ],
           "legendgroup": "Chhattisgarh",
           "lon": [
            81.8661
           ],
           "marker": {
            "color": "#ab63fa",
            "size": [
             7.54
            ],
            "sizemode": "area",
            "sizeref": 0.189625,
            "symbol": "circle"
           },
           "mode": "markers",
           "name": "Chhattisgarh",
           "showlegend": true,
           "type": "scattergeo"
          },
          {
           "geo": "geo",
           "hovertemplate": "<b>%{hovertext}</b><br><br>state=Delhi<br>month=Mar<br>estimated unemployment rate=%{marker.size}<br>longitude=%{lat}<br>latitude=%{lon}<extra></extra>",
           "hovertext": [
            "Delhi"
           ],
           "lat": [
            28.7041
           ],
           "legendgroup": "Delhi",
           "lon": [
            77.1025
           ],
           "marker": {
            "color": "#FFA15A",
            "size": [
             17.04
            ],
            "sizemode": "area",
            "sizeref": 0.189625,
            "symbol": "circle"
           },
           "mode": "markers",
           "name": "Delhi",
           "showlegend": true,
           "type": "scattergeo"
          },
          {
           "geo": "geo",
           "hovertemplate": "<b>%{hovertext}</b><br><br>state=Goa<br>month=Mar<br>estimated unemployment rate=%{marker.size}<br>longitude=%{lat}<br>latitude=%{lon}<extra></extra>",
           "hovertext": [
            "Goa"
           ],
           "lat": [
            15.2993
           ],
           "legendgroup": "Goa",
           "lon": [
            74.124
           ],
           "marker": {
            "color": "#19d3f3",
            "size": [
             5.25
            ],
            "sizemode": "area",
            "sizeref": 0.189625,
            "symbol": "circle"
           },
           "mode": "markers",
           "name": "Goa",
           "showlegend": true,
           "type": "scattergeo"
          },
          {
           "geo": "geo",
           "hovertemplate": "<b>%{hovertext}</b><br><br>state=Gujarat<br>month=Mar<br>estimated unemployment rate=%{marker.size}<br>longitude=%{lat}<br>latitude=%{lon}<extra></extra>",
           "hovertext": [
            "Gujarat"
           ],
           "lat": [
            22.2587
           ],
           "legendgroup": "Gujarat",
           "lon": [
            71.1924
           ],
           "marker": {
            "color": "#FF6692",
            "size": [
             6.66
            ],
            "sizemode": "area",
            "sizeref": 0.189625,
            "symbol": "circle"
           },
           "mode": "markers",
           "name": "Gujarat",
           "showlegend": true,
           "type": "scattergeo"
          },
          {
           "geo": "geo",
           "hovertemplate": "<b>%{hovertext}</b><br><br>state=Haryana<br>month=Mar<br>estimated unemployment rate=%{marker.size}<br>longitude=%{lat}<br>latitude=%{lon}<extra></extra>",
           "hovertext": [
            "Haryana"
           ],
           "lat": [
            29.0588
           ],
           "legendgroup": "Haryana",
           "lon": [
            76.0856
           ],
           "marker": {
            "color": "#B6E880",
            "size": [
             25.05
            ],
            "sizemode": "area",
            "sizeref": 0.189625,
            "symbol": "circle"
           },
           "mode": "markers",
           "name": "Haryana",
           "showlegend": true,
           "type": "scattergeo"
          },
          {
           "geo": "geo",
           "hovertemplate": "<b>%{hovertext}</b><br><br>state=Himachal Pradesh<br>month=Mar<br>estimated unemployment rate=%{marker.size}<br>longitude=%{lat}<br>latitude=%{lon}<extra></extra>",
           "hovertext": [
            "Himachal Pradesh"
           ],
           "lat": [
            31.1048
           ],
           "legendgroup": "Himachal Pradesh",
           "lon": [
            77.1734
           ],
           "marker": {
            "color": "#FF97FF",
            "size": [
             18.76
            ],
            "sizemode": "area",
            "sizeref": 0.189625,
            "symbol": "circle"
           },
           "mode": "markers",
           "name": "Himachal Pradesh",
           "showlegend": true,
           "type": "scattergeo"
          },
          {
           "geo": "geo",
           "hovertemplate": "<b>%{hovertext}</b><br><br>state=Jammu & Kashmir<br>month=Mar<br>estimated unemployment rate=%{marker.size}<br>longitude=%{lat}<br>latitude=%{lon}<extra></extra>",
           "hovertext": [
            "Jammu & Kashmir"
           ],
           "lat": [
            33.7782
           ],
           "legendgroup": "Jammu & Kashmir",
           "lon": [
            76.5762
           ],
           "marker": {
            "color": "#FECB52",
            "size": [
             15.5
            ],
            "sizemode": "area",
            "sizeref": 0.189625,
            "symbol": "circle"
           },
           "mode": "markers",
           "name": "Jammu & Kashmir",
           "showlegend": true,
           "type": "scattergeo"
          },
          {
           "geo": "geo",
           "hovertemplate": "<b>%{hovertext}</b><br><br>state=Jharkhand<br>month=Mar<br>estimated unemployment rate=%{marker.size}<br>longitude=%{lat}<br>latitude=%{lon}<extra></extra>",
           "hovertext": [
            "Jharkhand"
           ],
           "lat": [
            23.6102
           ],
           "legendgroup": "Jharkhand",
           "lon": [
            85.2799
           ],
           "marker": {
            "color": "#636efa",
            "size": [
             8.23
            ],
            "sizemode": "area",
            "sizeref": 0.189625,
            "symbol": "circle"
           },
           "mode": "markers",
           "name": "Jharkhand",
           "showlegend": true,
           "type": "scattergeo"
          },
          {
           "geo": "geo",
           "hovertemplate": "<b>%{hovertext}</b><br><br>state=Karnataka<br>month=Mar<br>estimated unemployment rate=%{marker.size}<br>longitude=%{lat}<br>latitude=%{lon}<extra></extra>",
           "hovertext": [
            "Karnataka"
           ],
           "lat": [
            15.3173
           ],
           "legendgroup": "Karnataka",
           "lon": [
            75.7139
           ],
           "marker": {
            "color": "#EF553B",
            "size": [
             3.46
            ],
            "sizemode": "area",
            "sizeref": 0.189625,
            "symbol": "circle"
           },
           "mode": "markers",
           "name": "Karnataka",
           "showlegend": true,
           "type": "scattergeo"
          },
          {
           "geo": "geo",
           "hovertemplate": "<b>%{hovertext}</b><br><br>state=Kerala<br>month=Mar<br>estimated unemployment rate=%{marker.size}<br>longitude=%{lat}<br>latitude=%{lon}<extra></extra>",
           "hovertext": [
            "Kerala"
           ],
           "lat": [
            10.8505
           ],
           "legendgroup": "Kerala",
           "lon": [
            76.2711
           ],
           "marker": {
            "color": "#00cc96",
            "size": [
             8.99
            ],
            "sizemode": "area",
            "sizeref": 0.189625,
            "symbol": "circle"
           },
           "mode": "markers",
           "name": "Kerala",
           "showlegend": true,
           "type": "scattergeo"
          },
          {
           "geo": "geo",
           "hovertemplate": "<b>%{hovertext}</b><br><br>state=Madhya Pradesh<br>month=Mar<br>estimated unemployment rate=%{marker.size}<br>longitude=%{lat}<br>latitude=%{lon}<extra></extra>",
           "hovertext": [
            "Madhya Pradesh"
           ],
           "lat": [
            22.9734
           ],
           "legendgroup": "Madhya Pradesh",
           "lon": [
            78.6569
           ],
           "marker": {
            "color": "#ab63fa",
            "size": [
             2.22
            ],
            "sizemode": "area",
            "sizeref": 0.189625,
            "symbol": "circle"
           },
           "mode": "markers",
           "name": "Madhya Pradesh",
           "showlegend": true,
           "type": "scattergeo"
          },
          {
           "geo": "geo",
           "hovertemplate": "<b>%{hovertext}</b><br><br>state=Maharashtra<br>month=Mar<br>estimated unemployment rate=%{marker.size}<br>longitude=%{lat}<br>latitude=%{lon}<extra></extra>",
           "hovertext": [
            "Maharashtra"
           ],
           "lat": [
            19.7515
           ],
           "legendgroup": "Maharashtra",
           "lon": [
            75.7139
           ],
           "marker": {
            "color": "#FFA15A",
            "size": [
             5.79
            ],
            "sizemode": "area",
            "sizeref": 0.189625,
            "symbol": "circle"
           },
           "mode": "markers",
           "name": "Maharashtra",
           "showlegend": true,
           "type": "scattergeo"
          },
          {
           "geo": "geo",
           "hovertemplate": "<b>%{hovertext}</b><br><br>state=Meghalaya<br>month=Mar<br>estimated unemployment rate=%{marker.size}<br>longitude=%{lat}<br>latitude=%{lon}<extra></extra>",
           "hovertext": [
            "Meghalaya"
           ],
           "lat": [
            25.467
           ],
           "legendgroup": "Meghalaya",
           "lon": [
            91.3662
           ],
           "marker": {
            "color": "#19d3f3",
            "size": [
             1.58
            ],
            "sizemode": "area",
            "sizeref": 0.189625,
            "symbol": "circle"
           },
           "mode": "markers",
           "name": "Meghalaya",
           "showlegend": true,
           "type": "scattergeo"
          },
          {
           "geo": "geo",
           "hovertemplate": "<b>%{hovertext}</b><br><br>state=Odisha<br>month=Mar<br>estimated unemployment rate=%{marker.size}<br>longitude=%{lat}<br>latitude=%{lon}<extra></extra>",
           "hovertext": [
            "Odisha"
           ],
           "lat": [
            20.9517
           ],
           "legendgroup": "Odisha",
           "lon": [
            85.0985
           ],
           "marker": {
            "color": "#FF6692",
            "size": [
             13.08
            ],
            "sizemode": "area",
            "sizeref": 0.189625,
            "symbol": "circle"
           },
           "mode": "markers",
           "name": "Odisha",
           "showlegend": true,
           "type": "scattergeo"
          },
          {
           "geo": "geo",
           "hovertemplate": "<b>%{hovertext}</b><br><br>state=Puducherry<br>month=Mar<br>estimated unemployment rate=%{marker.size}<br>longitude=%{lat}<br>latitude=%{lon}<extra></extra>",
           "hovertext": [
            "Puducherry"
           ],
           "lat": [
            11.9416
           ],
           "legendgroup": "Puducherry",
           "lon": [
            79.8083
           ],
           "marker": {
            "color": "#B6E880",
            "size": [
             1.2
            ],
            "sizemode": "area",
            "sizeref": 0.189625,
            "symbol": "circle"
           },
           "mode": "markers",
           "name": "Puducherry",
           "showlegend": true,
           "type": "scattergeo"
          },
          {
           "geo": "geo",
           "hovertemplate": "<b>%{hovertext}</b><br><br>state=Punjab<br>month=Mar<br>estimated unemployment rate=%{marker.size}<br>longitude=%{lat}<br>latitude=%{lon}<extra></extra>",
           "hovertext": [
            "Punjab"
           ],
           "lat": [
            31.1471
           ],
           "legendgroup": "Punjab",
           "lon": [
            75.3412
           ],
           "marker": {
            "color": "#FF97FF",
            "size": [
             10.32
            ],
            "sizemode": "area",
            "sizeref": 0.189625,
            "symbol": "circle"
           },
           "mode": "markers",
           "name": "Punjab",
           "showlegend": true,
           "type": "scattergeo"
          },
          {
           "geo": "geo",
           "hovertemplate": "<b>%{hovertext}</b><br><br>state=Rajasthan<br>month=Mar<br>estimated unemployment rate=%{marker.size}<br>longitude=%{lat}<br>latitude=%{lon}<extra></extra>",
           "hovertext": [
            "Rajasthan"
           ],
           "lat": [
            27.0238
           ],
           "legendgroup": "Rajasthan",
           "lon": [
            74.2179
           ],
           "marker": {
            "color": "#FECB52",
            "size": [
             11.9
            ],
            "sizemode": "area",
            "sizeref": 0.189625,
            "symbol": "circle"
           },
           "mode": "markers",
           "name": "Rajasthan",
           "showlegend": true,
           "type": "scattergeo"
          },
          {
           "geo": "geo",
           "hovertemplate": "<b>%{hovertext}</b><br><br>state=Sikkim<br>month=Mar<br>estimated unemployment rate=%{marker.size}<br>longitude=%{lat}<br>latitude=%{lon}<extra></extra>",
           "hovertext": [
            "Sikkim"
           ],
           "lat": [
            27.533
           ],
           "legendgroup": "Sikkim",
           "lon": [
            88.5122
           ],
           "marker": {
            "color": "#636efa",
            "size": [
             23.57
            ],
            "sizemode": "area",
            "sizeref": 0.189625,
            "symbol": "circle"
           },
           "mode": "markers",
           "name": "Sikkim",
           "showlegend": true,
           "type": "scattergeo"
          },
          {
           "geo": "geo",
           "hovertemplate": "<b>%{hovertext}</b><br><br>state=Tamil Nadu<br>month=Mar<br>estimated unemployment rate=%{marker.size}<br>longitude=%{lat}<br>latitude=%{lon}<extra></extra>",
           "hovertext": [
            "Tamil Nadu"
           ],
           "lat": [
            11.1271
           ],
           "legendgroup": "Tamil Nadu",
           "lon": [
            78.6569
           ],
           "marker": {
            "color": "#EF553B",
            "size": [
             6.4
            ],
            "sizemode": "area",
            "sizeref": 0.189625,
            "symbol": "circle"
           },
           "mode": "markers",
           "name": "Tamil Nadu",
           "showlegend": true,
           "type": "scattergeo"
          },
          {
           "geo": "geo",
           "hovertemplate": "<b>%{hovertext}</b><br><br>state=Telangana<br>month=Mar<br>estimated unemployment rate=%{marker.size}<br>longitude=%{lat}<br>latitude=%{lon}<extra></extra>",
           "hovertext": [
            "Telangana"
           ],
           "lat": [
            18.1124
           ],
           "legendgroup": "Telangana",
           "lon": [
            79.0193
           ],
           "marker": {
            "color": "#00cc96",
            "size": [
             5.77
            ],
            "sizemode": "area",
            "sizeref": 0.189625,
            "symbol": "circle"
           },
           "mode": "markers",
           "name": "Telangana",
           "showlegend": true,
           "type": "scattergeo"
          },
          {
           "geo": "geo",
           "hovertemplate": "<b>%{hovertext}</b><br><br>state=Tripura<br>month=Mar<br>estimated unemployment rate=%{marker.size}<br>longitude=%{lat}<br>latitude=%{lon}<extra></extra>",
           "hovertext": [
            "Tripura"
           ],
           "lat": [
            23.9408
           ],
           "legendgroup": "Tripura",
           "lon": [
            91.9882
           ],
           "marker": {
            "color": "#ab63fa",
            "size": [
             29.95
            ],
            "sizemode": "area",
            "sizeref": 0.189625,
            "symbol": "circle"
           },
           "mode": "markers",
           "name": "Tripura",
           "showlegend": true,
           "type": "scattergeo"
          },
          {
           "geo": "geo",
           "hovertemplate": "<b>%{hovertext}</b><br><br>state=Uttar Pradesh<br>month=Mar<br>estimated unemployment rate=%{marker.size}<br>longitude=%{lat}<br>latitude=%{lon}<extra></extra>",
           "hovertext": [
            "Uttar Pradesh"
           ],
           "lat": [
            26.8467
           ],
           "legendgroup": "Uttar Pradesh",
           "lon": [
            80.9462
           ],
           "marker": {
            "color": "#FFA15A",
            "size": [
             10.11
            ],
            "sizemode": "area",
            "sizeref": 0.189625,
            "symbol": "circle"
           },
           "mode": "markers",
           "name": "Uttar Pradesh",
           "showlegend": true,
           "type": "scattergeo"
          },
          {
           "geo": "geo",
           "hovertemplate": "<b>%{hovertext}</b><br><br>state=Uttarakhand<br>month=Mar<br>estimated unemployment rate=%{marker.size}<br>longitude=%{lat}<br>latitude=%{lon}<extra></extra>",
           "hovertext": [
            "Uttarakhand"
           ],
           "lat": [
            30.0668
           ],
           "legendgroup": "Uttarakhand",
           "lon": [
            79.0193
           ],
           "marker": {
            "color": "#19d3f3",
            "size": [
             19.85
            ],
            "sizemode": "area",
            "sizeref": 0.189625,
            "symbol": "circle"
           },
           "mode": "markers",
           "name": "Uttarakhand",
           "showlegend": true,
           "type": "scattergeo"
          },
          {
           "geo": "geo",
           "hovertemplate": "<b>%{hovertext}</b><br><br>state=West Bengal<br>month=Mar<br>estimated unemployment rate=%{marker.size}<br>longitude=%{lat}<br>latitude=%{lon}<extra></extra>",
           "hovertext": [
            "West Bengal"
           ],
           "lat": [
            22.9868
           ],
           "legendgroup": "West Bengal",
           "lon": [
            87.855
           ],
           "marker": {
            "color": "#FF6692",
            "size": [
             6.92
            ],
            "sizemode": "area",
            "sizeref": 0.189625,
            "symbol": "circle"
           },
           "mode": "markers",
           "name": "West Bengal",
           "showlegend": true,
           "type": "scattergeo"
          }
         ],
         "name": "Mar"
        },
        {
         "data": [
          {
           "geo": "geo",
           "hovertemplate": "<b>%{hovertext}</b><br><br>state=Andhra Pradesh<br>month=Apr<br>estimated unemployment rate=%{marker.size}<br>longitude=%{lat}<br>latitude=%{lon}<extra></extra>",
           "hovertext": [
            "Andhra Pradesh"
           ],
           "lat": [
            15.9129
           ],
           "legendgroup": "Andhra Pradesh",
           "lon": [
            79.74
           ],
           "marker": {
            "color": "#636efa",
            "size": [
             20.51
            ],
            "sizemode": "area",
            "sizeref": 0.189625,
            "symbol": "circle"
           },
           "mode": "markers",
           "name": "Andhra Pradesh",
           "showlegend": true,
           "type": "scattergeo"
          },
          {
           "geo": "geo",
           "hovertemplate": "<b>%{hovertext}</b><br><br>state=Assam<br>month=Apr<br>estimated unemployment rate=%{marker.size}<br>longitude=%{lat}<br>latitude=%{lon}<extra></extra>",
           "hovertext": [
            "Assam"
           ],
           "lat": [
            26.2006
           ],
           "legendgroup": "Assam",
           "lon": [
            92.9376
           ],
           "marker": {
            "color": "#EF553B",
            "size": [
             11.06
            ],
            "sizemode": "area",
            "sizeref": 0.189625,
            "symbol": "circle"
           },
           "mode": "markers",
           "name": "Assam",
           "showlegend": true,
           "type": "scattergeo"
          },
          {
           "geo": "geo",
           "hovertemplate": "<b>%{hovertext}</b><br><br>state=Bihar<br>month=Apr<br>estimated unemployment rate=%{marker.size}<br>longitude=%{lat}<br>latitude=%{lon}<extra></extra>",
           "hovertext": [
            "Bihar"
           ],
           "lat": [
            25.0961
           ],
           "legendgroup": "Bihar",
           "lon": [
            85.3131
           ],
           "marker": {
            "color": "#00cc96",
            "size": [
             46.64
            ],
            "sizemode": "area",
            "sizeref": 0.189625,
            "symbol": "circle"
           },
           "mode": "markers",
           "name": "Bihar",
           "showlegend": true,
           "type": "scattergeo"
          },
          {
           "geo": "geo",
           "hovertemplate": "<b>%{hovertext}</b><br><br>state=Chhattisgarh<br>month=Apr<br>estimated unemployment rate=%{marker.size}<br>longitude=%{lat}<br>latitude=%{lon}<extra></extra>",
           "hovertext": [
            "Chhattisgarh"
           ],
           "lat": [
            21.2787
           ],
           "legendgroup": "Chhattisgarh",
           "lon": [
            81.8661
           ],
           "marker": {
            "color": "#ab63fa",
            "size": [
             3.41
            ],
            "sizemode": "area",
            "sizeref": 0.189625,
            "symbol": "circle"
           },
           "mode": "markers",
           "name": "Chhattisgarh",
           "showlegend": true,
           "type": "scattergeo"
          },
          {
           "geo": "geo",
           "hovertemplate": "<b>%{hovertext}</b><br><br>state=Delhi<br>month=Apr<br>estimated unemployment rate=%{marker.size}<br>longitude=%{lat}<br>latitude=%{lon}<extra></extra>",
           "hovertext": [
            "Delhi"
           ],
           "lat": [
            28.7041
           ],
           "legendgroup": "Delhi",
           "lon": [
            77.1025
           ],
           "marker": {
            "color": "#FFA15A",
            "size": [
             16.68
            ],
            "sizemode": "area",
            "sizeref": 0.189625,
            "symbol": "circle"
           },
           "mode": "markers",
           "name": "Delhi",
           "showlegend": true,
           "type": "scattergeo"
          },
          {
           "geo": "geo",
           "hovertemplate": "<b>%{hovertext}</b><br><br>state=Goa<br>month=Apr<br>estimated unemployment rate=%{marker.size}<br>longitude=%{lat}<br>latitude=%{lon}<extra></extra>",
           "hovertext": [
            "Goa"
           ],
           "lat": [
            15.2993
           ],
           "legendgroup": "Goa",
           "lon": [
            74.124
           ],
           "marker": {
            "color": "#19d3f3",
            "size": [
             13.31
            ],
            "sizemode": "area",
            "sizeref": 0.189625,
            "symbol": "circle"
           },
           "mode": "markers",
           "name": "Goa",
           "showlegend": true,
           "type": "scattergeo"
          },
          {
           "geo": "geo",
           "hovertemplate": "<b>%{hovertext}</b><br><br>state=Gujarat<br>month=Apr<br>estimated unemployment rate=%{marker.size}<br>longitude=%{lat}<br>latitude=%{lon}<extra></extra>",
           "hovertext": [
            "Gujarat"
           ],
           "lat": [
            22.2587
           ],
           "legendgroup": "Gujarat",
           "lon": [
            71.1924
           ],
           "marker": {
            "color": "#FF6692",
            "size": [
             18.71
            ],
            "sizemode": "area",
            "sizeref": 0.189625,
            "symbol": "circle"
           },
           "mode": "markers",
           "name": "Gujarat",
           "showlegend": true,
           "type": "scattergeo"
          },
          {
           "geo": "geo",
           "hovertemplate": "<b>%{hovertext}</b><br><br>state=Haryana<br>month=Apr<br>estimated unemployment rate=%{marker.size}<br>longitude=%{lat}<br>latitude=%{lon}<extra></extra>",
           "hovertext": [
            "Haryana"
           ],
           "lat": [
            29.0588
           ],
           "legendgroup": "Haryana",
           "lon": [
            76.0856
           ],
           "marker": {
            "color": "#B6E880",
            "size": [
             43.22
            ],
            "sizemode": "area",
            "sizeref": 0.189625,
            "symbol": "circle"
           },
           "mode": "markers",
           "name": "Haryana",
           "showlegend": true,
           "type": "scattergeo"
          },
          {
           "geo": "geo",
           "hovertemplate": "<b>%{hovertext}</b><br><br>state=Himachal Pradesh<br>month=Apr<br>estimated unemployment rate=%{marker.size}<br>longitude=%{lat}<br>latitude=%{lon}<extra></extra>",
           "hovertext": [
            "Himachal Pradesh"
           ],
           "lat": [
            31.1048
           ],
           "legendgroup": "Himachal Pradesh",
           "lon": [
            77.1734
           ],
           "marker": {
            "color": "#FF97FF",
            "size": [
             2.2
            ],
            "sizemode": "area",
            "sizeref": 0.189625,
            "symbol": "circle"
           },
           "mode": "markers",
           "name": "Himachal Pradesh",
           "showlegend": true,
           "type": "scattergeo"
          },
          {
           "geo": "geo",
           "hovertemplate": "<b>%{hovertext}</b><br><br>state=Jharkhand<br>month=Apr<br>estimated unemployment rate=%{marker.size}<br>longitude=%{lat}<br>latitude=%{lon}<extra></extra>",
           "hovertext": [
            "Jharkhand"
           ],
           "lat": [
            23.6102
           ],
           "legendgroup": "Jharkhand",
           "lon": [
            85.2799
           ],
           "marker": {
            "color": "#636efa",
            "size": [
             47.09
            ],
            "sizemode": "area",
            "sizeref": 0.189625,
            "symbol": "circle"
           },
           "mode": "markers",
           "name": "Jharkhand",
           "showlegend": true,
           "type": "scattergeo"
          },
          {
           "geo": "geo",
           "hovertemplate": "<b>%{hovertext}</b><br><br>state=Karnataka<br>month=Apr<br>estimated unemployment rate=%{marker.size}<br>longitude=%{lat}<br>latitude=%{lon}<extra></extra>",
           "hovertext": [
            "Karnataka"
           ],
           "lat": [
            15.3173
           ],
           "legendgroup": "Karnataka",
           "lon": [
            75.7139
           ],
           "marker": {
            "color": "#EF553B",
            "size": [
             29.84
            ],
            "sizemode": "area",
            "sizeref": 0.189625,
            "symbol": "circle"
           },
           "mode": "markers",
           "name": "Karnataka",
           "showlegend": true,
           "type": "scattergeo"
          },
          {
           "geo": "geo",
           "hovertemplate": "<b>%{hovertext}</b><br><br>state=Kerala<br>month=Apr<br>estimated unemployment rate=%{marker.size}<br>longitude=%{lat}<br>latitude=%{lon}<extra></extra>",
           "hovertext": [
            "Kerala"
           ],
           "lat": [
            10.8505
           ],
           "legendgroup": "Kerala",
           "lon": [
            76.2711
           ],
           "marker": {
            "color": "#00cc96",
            "size": [
             16.99
            ],
            "sizemode": "area",
            "sizeref": 0.189625,
            "symbol": "circle"
           },
           "mode": "markers",
           "name": "Kerala",
           "showlegend": true,
           "type": "scattergeo"
          },
          {
           "geo": "geo",
           "hovertemplate": "<b>%{hovertext}</b><br><br>state=Madhya Pradesh<br>month=Apr<br>estimated unemployment rate=%{marker.size}<br>longitude=%{lat}<br>latitude=%{lon}<extra></extra>",
           "hovertext": [
            "Madhya Pradesh"
           ],
           "lat": [
            22.9734
           ],
           "legendgroup": "Madhya Pradesh",
           "lon": [
            78.6569
           ],
           "marker": {
            "color": "#ab63fa",
            "size": [
             12.36
            ],
            "sizemode": "area",
            "sizeref": 0.189625,
            "symbol": "circle"
           },
           "mode": "markers",
           "name": "Madhya Pradesh",
           "showlegend": true,
           "type": "scattergeo"
          },
          {
           "geo": "geo",
           "hovertemplate": "<b>%{hovertext}</b><br><br>state=Maharashtra<br>month=Apr<br>estimated unemployment rate=%{marker.size}<br>longitude=%{lat}<br>latitude=%{lon}<extra></extra>",
           "hovertext": [
            "Maharashtra"
           ],
           "lat": [
            19.7515
           ],
           "legendgroup": "Maharashtra",
           "lon": [
            75.7139
           ],
           "marker": {
            "color": "#FFA15A",
            "size": [
             20.9
            ],
            "sizemode": "area",
            "sizeref": 0.189625,
            "symbol": "circle"
           },
           "mode": "markers",
           "name": "Maharashtra",
           "showlegend": true,
           "type": "scattergeo"
          },
          {
           "geo": "geo",
           "hovertemplate": "<b>%{hovertext}</b><br><br>state=Meghalaya<br>month=Apr<br>estimated unemployment rate=%{marker.size}<br>longitude=%{lat}<br>latitude=%{lon}<extra></extra>",
           "hovertext": [
            "Meghalaya"
           ],
           "lat": [
            25.467
           ],
           "legendgroup": "Meghalaya",
           "lon": [
            91.3662
           ],
           "marker": {
            "color": "#19d3f3",
            "size": [
             10.03
            ],
            "sizemode": "area",
            "sizeref": 0.189625,
            "symbol": "circle"
           },
           "mode": "markers",
           "name": "Meghalaya",
           "showlegend": true,
           "type": "scattergeo"
          },
          {
           "geo": "geo",
           "hovertemplate": "<b>%{hovertext}</b><br><br>state=Odisha<br>month=Apr<br>estimated unemployment rate=%{marker.size}<br>longitude=%{lat}<br>latitude=%{lon}<extra></extra>",
           "hovertext": [
            "Odisha"
           ],
           "lat": [
            20.9517
           ],
           "legendgroup": "Odisha",
           "lon": [
            85.0985
           ],
           "marker": {
            "color": "#FF6692",
            "size": [
             23.76
            ],
            "sizemode": "area",
            "sizeref": 0.189625,
            "symbol": "circle"
           },
           "mode": "markers",
           "name": "Odisha",
           "showlegend": true,
           "type": "scattergeo"
          },
          {
           "geo": "geo",
           "hovertemplate": "<b>%{hovertext}</b><br><br>state=Puducherry<br>month=Apr<br>estimated unemployment rate=%{marker.size}<br>longitude=%{lat}<br>latitude=%{lon}<extra></extra>",
           "hovertext": [
            "Puducherry"
           ],
           "lat": [
            11.9416
           ],
           "legendgroup": "Puducherry",
           "lon": [
            79.8083
           ],
           "marker": {
            "color": "#B6E880",
            "size": [
             75.85
            ],
            "sizemode": "area",
            "sizeref": 0.189625,
            "symbol": "circle"
           },
           "mode": "markers",
           "name": "Puducherry",
           "showlegend": true,
           "type": "scattergeo"
          },
          {
           "geo": "geo",
           "hovertemplate": "<b>%{hovertext}</b><br><br>state=Punjab<br>month=Apr<br>estimated unemployment rate=%{marker.size}<br>longitude=%{lat}<br>latitude=%{lon}<extra></extra>",
           "hovertext": [
            "Punjab"
           ],
           "lat": [
            31.1471
           ],
           "legendgroup": "Punjab",
           "lon": [
            75.3412
           ],
           "marker": {
            "color": "#FF97FF",
            "size": [
             2.86
            ],
            "sizemode": "area",
            "sizeref": 0.189625,
            "symbol": "circle"
           },
           "mode": "markers",
           "name": "Punjab",
           "showlegend": true,
           "type": "scattergeo"
          },
          {
           "geo": "geo",
           "hovertemplate": "<b>%{hovertext}</b><br><br>state=Rajasthan<br>month=Apr<br>estimated unemployment rate=%{marker.size}<br>longitude=%{lat}<br>latitude=%{lon}<extra></extra>",
           "hovertext": [
            "Rajasthan"
           ],
           "lat": [
            27.0238
           ],
           "legendgroup": "Rajasthan",
           "lon": [
            74.2179
           ],
           "marker": {
            "color": "#FECB52",
            "size": [
             17.7
            ],
            "sizemode": "area",
            "sizeref": 0.189625,
            "symbol": "circle"
           },
           "mode": "markers",
           "name": "Rajasthan",
           "showlegend": true,
           "type": "scattergeo"
          },
          {
           "geo": "geo",
           "hovertemplate": "<b>%{hovertext}</b><br><br>state=Sikkim<br>month=Apr<br>estimated unemployment rate=%{marker.size}<br>longitude=%{lat}<br>latitude=%{lon}<extra></extra>",
           "hovertext": [
            "Sikkim"
           ],
           "lat": [
            27.533
           ],
           "legendgroup": "Sikkim",
           "lon": [
            88.5122
           ],
           "marker": {
            "color": "#636efa",
            "size": [
             2.28
            ],
            "sizemode": "area",
            "sizeref": 0.189625,
            "symbol": "circle"
           },
           "mode": "markers",
           "name": "Sikkim",
           "showlegend": true,
           "type": "scattergeo"
          },
          {
           "geo": "geo",
           "hovertemplate": "<b>%{hovertext}</b><br><br>state=Tamil Nadu<br>month=Apr<br>estimated unemployment rate=%{marker.size}<br>longitude=%{lat}<br>latitude=%{lon}<extra></extra>",
           "hovertext": [
            "Tamil Nadu"
           ],
           "lat": [
            11.1271
           ],
           "legendgroup": "Tamil Nadu",
           "lon": [
            78.6569
           ],
           "marker": {
            "color": "#EF553B",
            "size": [
             49.83
            ],
            "sizemode": "area",
            "sizeref": 0.189625,
            "symbol": "circle"
           },
           "mode": "markers",
           "name": "Tamil Nadu",
           "showlegend": true,
           "type": "scattergeo"
          },
          {
           "geo": "geo",
           "hovertemplate": "<b>%{hovertext}</b><br><br>state=Telangana<br>month=Apr<br>estimated unemployment rate=%{marker.size}<br>longitude=%{lat}<br>latitude=%{lon}<extra></extra>",
           "hovertext": [
            "Telangana"
           ],
           "lat": [
            18.1124
           ],
           "legendgroup": "Telangana",
           "lon": [
            79.0193
           ],
           "marker": {
            "color": "#00cc96",
            "size": [
             6.25
            ],
            "sizemode": "area",
            "sizeref": 0.189625,
            "symbol": "circle"
           },
           "mode": "markers",
           "name": "Telangana",
           "showlegend": true,
           "type": "scattergeo"
          },
          {
           "geo": "geo",
           "hovertemplate": "<b>%{hovertext}</b><br><br>state=Tripura<br>month=Apr<br>estimated unemployment rate=%{marker.size}<br>longitude=%{lat}<br>latitude=%{lon}<extra></extra>",
           "hovertext": [
            "Tripura"
           ],
           "lat": [
            23.9408
           ],
           "legendgroup": "Tripura",
           "lon": [
            91.9882
           ],
           "marker": {
            "color": "#ab63fa",
            "size": [
             41.23
            ],
            "sizemode": "area",
            "sizeref": 0.189625,
            "symbol": "circle"
           },
           "mode": "markers",
           "name": "Tripura",
           "showlegend": true,
           "type": "scattergeo"
          },
          {
           "geo": "geo",
           "hovertemplate": "<b>%{hovertext}</b><br><br>state=Uttar Pradesh<br>month=Apr<br>estimated unemployment rate=%{marker.size}<br>longitude=%{lat}<br>latitude=%{lon}<extra></extra>",
           "hovertext": [
            "Uttar Pradesh"
           ],
           "lat": [
            26.8467
           ],
           "legendgroup": "Uttar Pradesh",
           "lon": [
            80.9462
           ],
           "marker": {
            "color": "#FFA15A",
            "size": [
             21.54
            ],
            "sizemode": "area",
            "sizeref": 0.189625,
            "symbol": "circle"
           },
           "mode": "markers",
           "name": "Uttar Pradesh",
           "showlegend": true,
           "type": "scattergeo"
          },
          {
           "geo": "geo",
           "hovertemplate": "<b>%{hovertext}</b><br><br>state=Uttarakhand<br>month=Apr<br>estimated unemployment rate=%{marker.size}<br>longitude=%{lat}<br>latitude=%{lon}<extra></extra>",
           "hovertext": [
            "Uttarakhand"
           ],
           "lat": [
            30.0668
           ],
           "legendgroup": "Uttarakhand",
           "lon": [
            79.0193
           ],
           "marker": {
            "color": "#19d3f3",
            "size": [
             6.48
            ],
            "sizemode": "area",
            "sizeref": 0.189625,
            "symbol": "circle"
           },
           "mode": "markers",
           "name": "Uttarakhand",
           "showlegend": true,
           "type": "scattergeo"
          },
          {
           "geo": "geo",
           "hovertemplate": "<b>%{hovertext}</b><br><br>state=West Bengal<br>month=Apr<br>estimated unemployment rate=%{marker.size}<br>longitude=%{lat}<br>latitude=%{lon}<extra></extra>",
           "hovertext": [
            "West Bengal"
           ],
           "lat": [
            22.9868
           ],
           "legendgroup": "West Bengal",
           "lon": [
            87.855
           ],
           "marker": {
            "color": "#FF6692",
            "size": [
             17.41
            ],
            "sizemode": "area",
            "sizeref": 0.189625,
            "symbol": "circle"
           },
           "mode": "markers",
           "name": "West Bengal",
           "showlegend": true,
           "type": "scattergeo"
          }
         ],
         "name": "Apr"
        },
        {
         "data": [
          {
           "geo": "geo",
           "hovertemplate": "<b>%{hovertext}</b><br><br>state=Andhra Pradesh<br>month=May<br>estimated unemployment rate=%{marker.size}<br>longitude=%{lat}<br>latitude=%{lon}<extra></extra>",
           "hovertext": [
            "Andhra Pradesh"
           ],
           "lat": [
            15.9129
           ],
           "legendgroup": "Andhra Pradesh",
           "lon": [
            79.74
           ],
           "marker": {
            "color": "#636efa",
            "size": [
             17.43
            ],
            "sizemode": "area",
            "sizeref": 0.189625,
            "symbol": "circle"
           },
           "mode": "markers",
           "name": "Andhra Pradesh",
           "showlegend": true,
           "type": "scattergeo"
          },
          {
           "geo": "geo",
           "hovertemplate": "<b>%{hovertext}</b><br><br>state=Assam<br>month=May<br>estimated unemployment rate=%{marker.size}<br>longitude=%{lat}<br>latitude=%{lon}<extra></extra>",
           "hovertext": [
            "Assam"
           ],
           "lat": [
            26.2006
           ],
           "legendgroup": "Assam",
           "lon": [
            92.9376
           ],
           "marker": {
            "color": "#EF553B",
            "size": [
             9.55
            ],
            "sizemode": "area",
            "sizeref": 0.189625,
            "symbol": "circle"
           },
           "mode": "markers",
           "name": "Assam",
           "showlegend": true,
           "type": "scattergeo"
          },
          {
           "geo": "geo",
           "hovertemplate": "<b>%{hovertext}</b><br><br>state=Bihar<br>month=May<br>estimated unemployment rate=%{marker.size}<br>longitude=%{lat}<br>latitude=%{lon}<extra></extra>",
           "hovertext": [
            "Bihar"
           ],
           "lat": [
            25.0961
           ],
           "legendgroup": "Bihar",
           "lon": [
            85.3131
           ],
           "marker": {
            "color": "#00cc96",
            "size": [
             45.96
            ],
            "sizemode": "area",
            "sizeref": 0.189625,
            "symbol": "circle"
           },
           "mode": "markers",
           "name": "Bihar",
           "showlegend": true,
           "type": "scattergeo"
          },
          {
           "geo": "geo",
           "hovertemplate": "<b>%{hovertext}</b><br><br>state=Chhattisgarh<br>month=May<br>estimated unemployment rate=%{marker.size}<br>longitude=%{lat}<br>latitude=%{lon}<extra></extra>",
           "hovertext": [
            "Chhattisgarh"
           ],
           "lat": [
            21.2787
           ],
           "legendgroup": "Chhattisgarh",
           "lon": [
            81.8661
           ],
           "marker": {
            "color": "#ab63fa",
            "size": [
             10.5
            ],
            "sizemode": "area",
            "sizeref": 0.189625,
            "symbol": "circle"
           },
           "mode": "markers",
           "name": "Chhattisgarh",
           "showlegend": true,
           "type": "scattergeo"
          },
          {
           "geo": "geo",
           "hovertemplate": "<b>%{hovertext}</b><br><br>state=Delhi<br>month=May<br>estimated unemployment rate=%{marker.size}<br>longitude=%{lat}<br>latitude=%{lon}<extra></extra>",
           "hovertext": [
            "Delhi"
           ],
           "lat": [
            28.7041
           ],
           "legendgroup": "Delhi",
           "lon": [
            77.1025
           ],
           "marker": {
            "color": "#FFA15A",
            "size": [
             42.27
            ],
            "sizemode": "area",
            "sizeref": 0.189625,
            "symbol": "circle"
           },
           "mode": "markers",
           "name": "Delhi",
           "showlegend": true,
           "type": "scattergeo"
          },
          {
           "geo": "geo",
           "hovertemplate": "<b>%{hovertext}</b><br><br>state=Goa<br>month=May<br>estimated unemployment rate=%{marker.size}<br>longitude=%{lat}<br>latitude=%{lon}<extra></extra>",
           "hovertext": [
            "Goa"
           ],
           "lat": [
            15.2993
           ],
           "legendgroup": "Goa",
           "lon": [
            74.124
           ],
           "marker": {
            "color": "#19d3f3",
            "size": [
             21.25
            ],
            "sizemode": "area",
            "sizeref": 0.189625,
            "symbol": "circle"
           },
           "mode": "markers",
           "name": "Goa",
           "showlegend": true,
           "type": "scattergeo"
          },
          {
           "geo": "geo",
           "hovertemplate": "<b>%{hovertext}</b><br><br>state=Gujarat<br>month=May<br>estimated unemployment rate=%{marker.size}<br>longitude=%{lat}<br>latitude=%{lon}<extra></extra>",
           "hovertext": [
            "Gujarat"
           ],
           "lat": [
            22.2587
           ],
           "legendgroup": "Gujarat",
           "lon": [
            71.1924
           ],
           "marker": {
            "color": "#FF6692",
            "size": [
             12.11
            ],
            "sizemode": "area",
            "sizeref": 0.189625,
            "symbol": "circle"
           },
           "mode": "markers",
           "name": "Gujarat",
           "showlegend": true,
           "type": "scattergeo"
          },
          {
           "geo": "geo",
           "hovertemplate": "<b>%{hovertext}</b><br><br>state=Haryana<br>month=May<br>estimated unemployment rate=%{marker.size}<br>longitude=%{lat}<br>latitude=%{lon}<extra></extra>",
           "hovertext": [
            "Haryana"
           ],
           "lat": [
            29.0588
           ],
           "legendgroup": "Haryana",
           "lon": [
            76.0856
           ],
           "marker": {
            "color": "#B6E880",
            "size": [
             29.02
            ],
            "sizemode": "area",
            "sizeref": 0.189625,
            "symbol": "circle"
           },
           "mode": "markers",
           "name": "Haryana",
           "showlegend": true,
           "type": "scattergeo"
          },
          {
           "geo": "geo",
           "hovertemplate": "<b>%{hovertext}</b><br><br>state=Himachal Pradesh<br>month=May<br>estimated unemployment rate=%{marker.size}<br>longitude=%{lat}<br>latitude=%{lon}<extra></extra>",
           "hovertext": [
            "Himachal Pradesh"
           ],
           "lat": [
            31.1048
           ],
           "legendgroup": "Himachal Pradesh",
           "lon": [
            77.1734
           ],
           "marker": {
            "color": "#FF97FF",
            "size": [
             26.95
            ],
            "sizemode": "area",
            "sizeref": 0.189625,
            "symbol": "circle"
           },
           "mode": "markers",
           "name": "Himachal Pradesh",
           "showlegend": true,
           "type": "scattergeo"
          },
          {
           "geo": "geo",
           "hovertemplate": "<b>%{hovertext}</b><br><br>state=Jammu & Kashmir<br>month=May<br>estimated unemployment rate=%{marker.size}<br>longitude=%{lat}<br>latitude=%{lon}<extra></extra>",
           "hovertext": [
            "Jammu & Kashmir"
           ],
           "lat": [
            33.7782
           ],
           "legendgroup": "Jammu & Kashmir",
           "lon": [
            76.5762
           ],
           "marker": {
            "color": "#FECB52",
            "size": [
             18.74
            ],
            "sizemode": "area",
            "sizeref": 0.189625,
            "symbol": "circle"
           },
           "mode": "markers",
           "name": "Jammu & Kashmir",
           "showlegend": true,
           "type": "scattergeo"
          },
          {
           "geo": "geo",
           "hovertemplate": "<b>%{hovertext}</b><br><br>state=Jharkhand<br>month=May<br>estimated unemployment rate=%{marker.size}<br>longitude=%{lat}<br>latitude=%{lon}<extra></extra>",
           "hovertext": [
            "Jharkhand"
           ],
           "lat": [
            23.6102
           ],
           "legendgroup": "Jharkhand",
           "lon": [
            85.2799
           ],
           "marker": {
            "color": "#636efa",
            "size": [
             59.23
            ],
            "sizemode": "area",
            "sizeref": 0.189625,
            "symbol": "circle"
           },
           "mode": "markers",
           "name": "Jharkhand",
           "showlegend": true,
           "type": "scattergeo"
          },
          {
           "geo": "geo",
           "hovertemplate": "<b>%{hovertext}</b><br><br>state=Karnataka<br>month=May<br>estimated unemployment rate=%{marker.size}<br>longitude=%{lat}<br>latitude=%{lon}<extra></extra>",
           "hovertext": [
            "Karnataka"
           ],
           "lat": [
            15.3173
           ],
           "legendgroup": "Karnataka",
           "lon": [
            75.7139
           ],
           "marker": {
            "color": "#EF553B",
            "size": [
             19.97
            ],
            "sizemode": "area",
            "sizeref": 0.189625,
            "symbol": "circle"
           },
           "mode": "markers",
           "name": "Karnataka",
           "showlegend": true,
           "type": "scattergeo"
          },
          {
           "geo": "geo",
           "hovertemplate": "<b>%{hovertext}</b><br><br>state=Kerala<br>month=May<br>estimated unemployment rate=%{marker.size}<br>longitude=%{lat}<br>latitude=%{lon}<extra></extra>",
           "hovertext": [
            "Kerala"
           ],
           "lat": [
            10.8505
           ],
           "legendgroup": "Kerala",
           "lon": [
            76.2711
           ],
           "marker": {
            "color": "#00cc96",
            "size": [
             17.88
            ],
            "sizemode": "area",
            "sizeref": 0.189625,
            "symbol": "circle"
           },
           "mode": "markers",
           "name": "Kerala",
           "showlegend": true,
           "type": "scattergeo"
          },
          {
           "geo": "geo",
           "hovertemplate": "<b>%{hovertext}</b><br><br>state=Madhya Pradesh<br>month=May<br>estimated unemployment rate=%{marker.size}<br>longitude=%{lat}<br>latitude=%{lon}<extra></extra>",
           "hovertext": [
            "Madhya Pradesh"
           ],
           "lat": [
            22.9734
           ],
           "legendgroup": "Madhya Pradesh",
           "lon": [
            78.6569
           ],
           "marker": {
            "color": "#ab63fa",
            "size": [
             21.98
            ],
            "sizemode": "area",
            "sizeref": 0.189625,
            "symbol": "circle"
           },
           "mode": "markers",
           "name": "Madhya Pradesh",
           "showlegend": true,
           "type": "scattergeo"
          },
          {
           "geo": "geo",
           "hovertemplate": "<b>%{hovertext}</b><br><br>state=Maharashtra<br>month=May<br>estimated unemployment rate=%{marker.size}<br>longitude=%{lat}<br>latitude=%{lon}<extra></extra>",
           "hovertext": [
            "Maharashtra"
           ],
           "lat": [
            19.7515
           ],
           "legendgroup": "Maharashtra",
           "lon": [
            75.7139
           ],
           "marker": {
            "color": "#FFA15A",
            "size": [
             15.46
            ],
            "sizemode": "area",
            "sizeref": 0.189625,
            "symbol": "circle"
           },
           "mode": "markers",
           "name": "Maharashtra",
           "showlegend": true,
           "type": "scattergeo"
          },
          {
           "geo": "geo",
           "hovertemplate": "<b>%{hovertext}</b><br><br>state=Meghalaya<br>month=May<br>estimated unemployment rate=%{marker.size}<br>longitude=%{lat}<br>latitude=%{lon}<extra></extra>",
           "hovertext": [
            "Meghalaya"
           ],
           "lat": [
            25.467
           ],
           "legendgroup": "Meghalaya",
           "lon": [
            91.3662
           ],
           "marker": {
            "color": "#19d3f3",
            "size": [
             5.92
            ],
            "sizemode": "area",
            "sizeref": 0.189625,
            "symbol": "circle"
           },
           "mode": "markers",
           "name": "Meghalaya",
           "showlegend": true,
           "type": "scattergeo"
          },
          {
           "geo": "geo",
           "hovertemplate": "<b>%{hovertext}</b><br><br>state=Odisha<br>month=May<br>estimated unemployment rate=%{marker.size}<br>longitude=%{lat}<br>latitude=%{lon}<extra></extra>",
           "hovertext": [
            "Odisha"
           ],
           "lat": [
            20.9517
           ],
           "legendgroup": "Odisha",
           "lon": [
            85.0985
           ],
           "marker": {
            "color": "#FF6692",
            "size": [
             11.41
            ],
            "sizemode": "area",
            "sizeref": 0.189625,
            "symbol": "circle"
           },
           "mode": "markers",
           "name": "Odisha",
           "showlegend": true,
           "type": "scattergeo"
          },
          {
           "geo": "geo",
           "hovertemplate": "<b>%{hovertext}</b><br><br>state=Puducherry<br>month=May<br>estimated unemployment rate=%{marker.size}<br>longitude=%{lat}<br>latitude=%{lon}<extra></extra>",
           "hovertext": [
            "Puducherry"
           ],
           "lat": [
            11.9416
           ],
           "legendgroup": "Puducherry",
           "lon": [
            79.8083
           ],
           "marker": {
            "color": "#B6E880",
            "size": [
             58.19
            ],
            "sizemode": "area",
            "sizeref": 0.189625,
            "symbol": "circle"
           },
           "mode": "markers",
           "name": "Puducherry",
           "showlegend": true,
           "type": "scattergeo"
          },
          {
           "geo": "geo",
           "hovertemplate": "<b>%{hovertext}</b><br><br>state=Punjab<br>month=May<br>estimated unemployment rate=%{marker.size}<br>longitude=%{lat}<br>latitude=%{lon}<extra></extra>",
           "hovertext": [
            "Punjab"
           ],
           "lat": [
            31.1471
           ],
           "legendgroup": "Punjab",
           "lon": [
            75.3412
           ],
           "marker": {
            "color": "#FF97FF",
            "size": [
             28.33
            ],
            "sizemode": "area",
            "sizeref": 0.189625,
            "symbol": "circle"
           },
           "mode": "markers",
           "name": "Punjab",
           "showlegend": true,
           "type": "scattergeo"
          },
          {
           "geo": "geo",
           "hovertemplate": "<b>%{hovertext}</b><br><br>state=Rajasthan<br>month=May<br>estimated unemployment rate=%{marker.size}<br>longitude=%{lat}<br>latitude=%{lon}<extra></extra>",
           "hovertext": [
            "Rajasthan"
           ],
           "lat": [
            27.0238
           ],
           "legendgroup": "Rajasthan",
           "lon": [
            74.2179
           ],
           "marker": {
            "color": "#FECB52",
            "size": [
             15.74
            ],
            "sizemode": "area",
            "sizeref": 0.189625,
            "symbol": "circle"
           },
           "mode": "markers",
           "name": "Rajasthan",
           "showlegend": true,
           "type": "scattergeo"
          },
          {
           "geo": "geo",
           "hovertemplate": "<b>%{hovertext}</b><br><br>state=Sikkim<br>month=May<br>estimated unemployment rate=%{marker.size}<br>longitude=%{lat}<br>latitude=%{lon}<extra></extra>",
           "hovertext": [
            "Sikkim"
           ],
           "lat": [
            27.533
           ],
           "legendgroup": "Sikkim",
           "lon": [
            88.5122
           ],
           "marker": {
            "color": "#636efa",
            "size": [
             24.51
            ],
            "sizemode": "area",
            "sizeref": 0.189625,
            "symbol": "circle"
           },
           "mode": "markers",
           "name": "Sikkim",
           "showlegend": true,
           "type": "scattergeo"
          },
          {
           "geo": "geo",
           "hovertemplate": "<b>%{hovertext}</b><br><br>state=Tamil Nadu<br>month=May<br>estimated unemployment rate=%{marker.size}<br>longitude=%{lat}<br>latitude=%{lon}<extra></extra>",
           "hovertext": [
            "Tamil Nadu"
           ],
           "lat": [
            11.1271
           ],
           "legendgroup": "Tamil Nadu",
           "lon": [
            78.6569
           ],
           "marker": {
            "color": "#EF553B",
            "size": [
             33.16
            ],
            "sizemode": "area",
            "sizeref": 0.189625,
            "symbol": "circle"
           },
           "mode": "markers",
           "name": "Tamil Nadu",
           "showlegend": true,
           "type": "scattergeo"
          },
          {
           "geo": "geo",
           "hovertemplate": "<b>%{hovertext}</b><br><br>state=Telangana<br>month=May<br>estimated unemployment rate=%{marker.size}<br>longitude=%{lat}<br>latitude=%{lon}<extra></extra>",
           "hovertext": [
            "Telangana"
           ],
           "lat": [
            18.1124
           ],
           "legendgroup": "Telangana",
           "lon": [
            79.0193
           ],
           "marker": {
            "color": "#00cc96",
            "size": [
             14.7
            ],
            "sizemode": "area",
            "sizeref": 0.189625,
            "symbol": "circle"
           },
           "mode": "markers",
           "name": "Telangana",
           "showlegend": true,
           "type": "scattergeo"
          },
          {
           "geo": "geo",
           "hovertemplate": "<b>%{hovertext}</b><br><br>state=Tripura<br>month=May<br>estimated unemployment rate=%{marker.size}<br>longitude=%{lat}<br>latitude=%{lon}<extra></extra>",
           "hovertext": [
            "Tripura"
           ],
           "lat": [
            23.9408
           ],
           "legendgroup": "Tripura",
           "lon": [
            91.9882
           ],
           "marker": {
            "color": "#ab63fa",
            "size": [
             21.51
            ],
            "sizemode": "area",
            "sizeref": 0.189625,
            "symbol": "circle"
           },
           "mode": "markers",
           "name": "Tripura",
           "showlegend": true,
           "type": "scattergeo"
          },
          {
           "geo": "geo",
           "hovertemplate": "<b>%{hovertext}</b><br><br>state=Uttar Pradesh<br>month=May<br>estimated unemployment rate=%{marker.size}<br>longitude=%{lat}<br>latitude=%{lon}<extra></extra>",
           "hovertext": [
            "Uttar Pradesh"
           ],
           "lat": [
            26.8467
           ],
           "legendgroup": "Uttar Pradesh",
           "lon": [
            80.9462
           ],
           "marker": {
            "color": "#FFA15A",
            "size": [
             20.41
            ],
            "sizemode": "area",
            "sizeref": 0.189625,
            "symbol": "circle"
           },
           "mode": "markers",
           "name": "Uttar Pradesh",
           "showlegend": true,
           "type": "scattergeo"
          },
          {
           "geo": "geo",
           "hovertemplate": "<b>%{hovertext}</b><br><br>state=Uttarakhand<br>month=May<br>estimated unemployment rate=%{marker.size}<br>longitude=%{lat}<br>latitude=%{lon}<extra></extra>",
           "hovertext": [
            "Uttarakhand"
           ],
           "lat": [
            30.0668
           ],
           "legendgroup": "Uttarakhand",
           "lon": [
            79.0193
           ],
           "marker": {
            "color": "#19d3f3",
            "size": [
             8.01
            ],
            "sizemode": "area",
            "sizeref": 0.189625,
            "symbol": "circle"
           },
           "mode": "markers",
           "name": "Uttarakhand",
           "showlegend": true,
           "type": "scattergeo"
          },
          {
           "geo": "geo",
           "hovertemplate": "<b>%{hovertext}</b><br><br>state=West Bengal<br>month=May<br>estimated unemployment rate=%{marker.size}<br>longitude=%{lat}<br>latitude=%{lon}<extra></extra>",
           "hovertext": [
            "West Bengal"
           ],
           "lat": [
            22.9868
           ],
           "legendgroup": "West Bengal",
           "lon": [
            87.855
           ],
           "marker": {
            "color": "#FF6692",
            "size": [
             17.41
            ],
            "sizemode": "area",
            "sizeref": 0.189625,
            "symbol": "circle"
           },
           "mode": "markers",
           "name": "West Bengal",
           "showlegend": true,
           "type": "scattergeo"
          }
         ],
         "name": "May"
        },
        {
         "data": [
          {
           "geo": "geo",
           "hovertemplate": "<b>%{hovertext}</b><br><br>state=Andhra Pradesh<br>month=Jun<br>estimated unemployment rate=%{marker.size}<br>longitude=%{lat}<br>latitude=%{lon}<extra></extra>",
           "hovertext": [
            "Andhra Pradesh"
           ],
           "lat": [
            15.9129
           ],
           "legendgroup": "Andhra Pradesh",
           "lon": [
            79.74
           ],
           "marker": {
            "color": "#636efa",
            "size": [
             3.31
            ],
            "sizemode": "area",
            "sizeref": 0.189625,
            "symbol": "circle"
           },
           "mode": "markers",
           "name": "Andhra Pradesh",
           "showlegend": true,
           "type": "scattergeo"
          },
          {
           "geo": "geo",
           "hovertemplate": "<b>%{hovertext}</b><br><br>state=Assam<br>month=Jun<br>estimated unemployment rate=%{marker.size}<br>longitude=%{lat}<br>latitude=%{lon}<extra></extra>",
           "hovertext": [
            "Assam"
           ],
           "lat": [
            26.2006
           ],
           "legendgroup": "Assam",
           "lon": [
            92.9376
           ],
           "marker": {
            "color": "#EF553B",
            "size": [
             0.6
            ],
            "sizemode": "area",
            "sizeref": 0.189625,
            "symbol": "circle"
           },
           "mode": "markers",
           "name": "Assam",
           "showlegend": true,
           "type": "scattergeo"
          },
          {
           "geo": "geo",
           "hovertemplate": "<b>%{hovertext}</b><br><br>state=Bihar<br>month=Jun<br>estimated unemployment rate=%{marker.size}<br>longitude=%{lat}<br>latitude=%{lon}<extra></extra>",
           "hovertext": [
            "Bihar"
           ],
           "lat": [
            25.0961
           ],
           "legendgroup": "Bihar",
           "lon": [
            85.3131
           ],
           "marker": {
            "color": "#00cc96",
            "size": [
             17.82
            ],
            "sizemode": "area",
            "sizeref": 0.189625,
            "symbol": "circle"
           },
           "mode": "markers",
           "name": "Bihar",
           "showlegend": true,
           "type": "scattergeo"
          },
          {
           "geo": "geo",
           "hovertemplate": "<b>%{hovertext}</b><br><br>state=Chhattisgarh<br>month=Jun<br>estimated unemployment rate=%{marker.size}<br>longitude=%{lat}<br>latitude=%{lon}<extra></extra>",
           "hovertext": [
            "Chhattisgarh"
           ],
           "lat": [
            21.2787
           ],
           "legendgroup": "Chhattisgarh",
           "lon": [
            81.8661
           ],
           "marker": {
            "color": "#ab63fa",
            "size": [
             14.23
            ],
            "sizemode": "area",
            "sizeref": 0.189625,
            "symbol": "circle"
           },
           "mode": "markers",
           "name": "Chhattisgarh",
           "showlegend": true,
           "type": "scattergeo"
          },
          {
           "geo": "geo",
           "hovertemplate": "<b>%{hovertext}</b><br><br>state=Delhi<br>month=Jun<br>estimated unemployment rate=%{marker.size}<br>longitude=%{lat}<br>latitude=%{lon}<extra></extra>",
           "hovertext": [
            "Delhi"
           ],
           "lat": [
            28.7041
           ],
           "legendgroup": "Delhi",
           "lon": [
            77.1025
           ],
           "marker": {
            "color": "#FFA15A",
            "size": [
             18.19
            ],
            "sizemode": "area",
            "sizeref": 0.189625,
            "symbol": "circle"
           },
           "mode": "markers",
           "name": "Delhi",
           "showlegend": true,
           "type": "scattergeo"
          },
          {
           "geo": "geo",
           "hovertemplate": "<b>%{hovertext}</b><br><br>state=Goa<br>month=Jun<br>estimated unemployment rate=%{marker.size}<br>longitude=%{lat}<br>latitude=%{lon}<extra></extra>",
           "hovertext": [
            "Goa"
           ],
           "lat": [
            15.2993
           ],
           "legendgroup": "Goa",
           "lon": [
            74.124
           ],
           "marker": {
            "color": "#19d3f3",
            "size": [
             9.96
            ],
            "sizemode": "area",
            "sizeref": 0.189625,
            "symbol": "circle"
           },
           "mode": "markers",
           "name": "Goa",
           "showlegend": true,
           "type": "scattergeo"
          },
          {
           "geo": "geo",
           "hovertemplate": "<b>%{hovertext}</b><br><br>state=Gujarat<br>month=Jun<br>estimated unemployment rate=%{marker.size}<br>longitude=%{lat}<br>latitude=%{lon}<extra></extra>",
           "hovertext": [
            "Gujarat"
           ],
           "lat": [
            22.2587
           ],
           "legendgroup": "Gujarat",
           "lon": [
            71.1924
           ],
           "marker": {
            "color": "#FF6692",
            "size": [
             3.2
            ],
            "sizemode": "area",
            "sizeref": 0.189625,
            "symbol": "circle"
           },
           "mode": "markers",
           "name": "Gujarat",
           "showlegend": true,
           "type": "scattergeo"
          },
          {
           "geo": "geo",
           "hovertemplate": "<b>%{hovertext}</b><br><br>state=Haryana<br>month=Jun<br>estimated unemployment rate=%{marker.size}<br>longitude=%{lat}<br>latitude=%{lon}<extra></extra>",
           "hovertext": [
            "Haryana"
           ],
           "lat": [
            29.0588
           ],
           "legendgroup": "Haryana",
           "lon": [
            76.0856
           ],
           "marker": {
            "color": "#B6E880",
            "size": [
             26.7
            ],
            "sizemode": "area",
            "sizeref": 0.189625,
            "symbol": "circle"
           },
           "mode": "markers",
           "name": "Haryana",
           "showlegend": true,
           "type": "scattergeo"
          },
          {
           "geo": "geo",
           "hovertemplate": "<b>%{hovertext}</b><br><br>state=Himachal Pradesh<br>month=Jun<br>estimated unemployment rate=%{marker.size}<br>longitude=%{lat}<br>latitude=%{lon}<extra></extra>",
           "hovertext": [
            "Himachal Pradesh"
           ],
           "lat": [
            31.1048
           ],
           "legendgroup": "Himachal Pradesh",
           "lon": [
            77.1734
           ],
           "marker": {
            "color": "#FF97FF",
            "size": [
             13.47
            ],
            "sizemode": "area",
            "sizeref": 0.189625,
            "symbol": "circle"
           },
           "mode": "markers",
           "name": "Himachal Pradesh",
           "showlegend": true,
           "type": "scattergeo"
          },
          {
           "geo": "geo",
           "hovertemplate": "<b>%{hovertext}</b><br><br>state=Jammu & Kashmir<br>month=Jun<br>estimated unemployment rate=%{marker.size}<br>longitude=%{lat}<br>latitude=%{lon}<extra></extra>",
           "hovertext": [
            "Jammu & Kashmir"
           ],
           "lat": [
            33.7782
           ],
           "legendgroup": "Jammu & Kashmir",
           "lon": [
            76.5762
           ],
           "marker": {
            "color": "#FECB52",
            "size": [
             17.92
            ],
            "sizemode": "area",
            "sizeref": 0.189625,
            "symbol": "circle"
           },
           "mode": "markers",
           "name": "Jammu & Kashmir",
           "showlegend": true,
           "type": "scattergeo"
          },
          {
           "geo": "geo",
           "hovertemplate": "<b>%{hovertext}</b><br><br>state=Jharkhand<br>month=Jun<br>estimated unemployment rate=%{marker.size}<br>longitude=%{lat}<br>latitude=%{lon}<extra></extra>",
           "hovertext": [
            "Jharkhand"
           ],
           "lat": [
            23.6102
           ],
           "legendgroup": "Jharkhand",
           "lon": [
            85.2799
           ],
           "marker": {
            "color": "#636efa",
            "size": [
             20.95
            ],
            "sizemode": "area",
            "sizeref": 0.189625,
            "symbol": "circle"
           },
           "mode": "markers",
           "name": "Jharkhand",
           "showlegend": true,
           "type": "scattergeo"
          },
          {
           "geo": "geo",
           "hovertemplate": "<b>%{hovertext}</b><br><br>state=Karnataka<br>month=Jun<br>estimated unemployment rate=%{marker.size}<br>longitude=%{lat}<br>latitude=%{lon}<extra></extra>",
           "hovertext": [
            "Karnataka"
           ],
           "lat": [
            15.3173
           ],
           "legendgroup": "Karnataka",
           "lon": [
            75.7139
           ],
           "marker": {
            "color": "#EF553B",
            "size": [
             8.44
            ],
            "sizemode": "area",
            "sizeref": 0.189625,
            "symbol": "circle"
           },
           "mode": "markers",
           "name": "Karnataka",
           "showlegend": true,
           "type": "scattergeo"
          },
          {
           "geo": "geo",
           "hovertemplate": "<b>%{hovertext}</b><br><br>state=Kerala<br>month=Jun<br>estimated unemployment rate=%{marker.size}<br>longitude=%{lat}<br>latitude=%{lon}<extra></extra>",
           "hovertext": [
            "Kerala"
           ],
           "lat": [
            10.8505
           ],
           "legendgroup": "Kerala",
           "lon": [
            76.2711
           ],
           "marker": {
            "color": "#00cc96",
            "size": [
             9.71
            ],
            "sizemode": "area",
            "sizeref": 0.189625,
            "symbol": "circle"
           },
           "mode": "markers",
           "name": "Kerala",
           "showlegend": true,
           "type": "scattergeo"
          },
          {
           "geo": "geo",
           "hovertemplate": "<b>%{hovertext}</b><br><br>state=Madhya Pradesh<br>month=Jun<br>estimated unemployment rate=%{marker.size}<br>longitude=%{lat}<br>latitude=%{lon}<extra></extra>",
           "hovertext": [
            "Madhya Pradesh"
           ],
           "lat": [
            22.9734
           ],
           "legendgroup": "Madhya Pradesh",
           "lon": [
            78.6569
           ],
           "marker": {
            "color": "#ab63fa",
            "size": [
             6.48
            ],
            "sizemode": "area",
            "sizeref": 0.189625,
            "symbol": "circle"
           },
           "mode": "markers",
           "name": "Madhya Pradesh",
           "showlegend": true,
           "type": "scattergeo"
          },
          {
           "geo": "geo",
           "hovertemplate": "<b>%{hovertext}</b><br><br>state=Maharashtra<br>month=Jun<br>estimated unemployment rate=%{marker.size}<br>longitude=%{lat}<br>latitude=%{lon}<extra></extra>",
           "hovertext": [
            "Maharashtra"
           ],
           "lat": [
            19.7515
           ],
           "legendgroup": "Maharashtra",
           "lon": [
            75.7139
           ],
           "marker": {
            "color": "#FFA15A",
            "size": [
             9.23
            ],
            "sizemode": "area",
            "sizeref": 0.189625,
            "symbol": "circle"
           },
           "mode": "markers",
           "name": "Maharashtra",
           "showlegend": true,
           "type": "scattergeo"
          },
          {
           "geo": "geo",
           "hovertemplate": "<b>%{hovertext}</b><br><br>state=Meghalaya<br>month=Jun<br>estimated unemployment rate=%{marker.size}<br>longitude=%{lat}<br>latitude=%{lon}<extra></extra>",
           "hovertext": [
            "Meghalaya"
           ],
           "lat": [
            25.467
           ],
           "legendgroup": "Meghalaya",
           "lon": [
            91.3662
           ],
           "marker": {
            "color": "#19d3f3",
            "size": [
             1.15
            ],
            "sizemode": "area",
            "sizeref": 0.189625,
            "symbol": "circle"
           },
           "mode": "markers",
           "name": "Meghalaya",
           "showlegend": true,
           "type": "scattergeo"
          },
          {
           "geo": "geo",
           "hovertemplate": "<b>%{hovertext}</b><br><br>state=Odisha<br>month=Jun<br>estimated unemployment rate=%{marker.size}<br>longitude=%{lat}<br>latitude=%{lon}<extra></extra>",
           "hovertext": [
            "Odisha"
           ],
           "lat": [
            20.9517
           ],
           "legendgroup": "Odisha",
           "lon": [
            85.0985
           ],
           "marker": {
            "color": "#FF6692",
            "size": [
             3.77
            ],
            "sizemode": "area",
            "sizeref": 0.189625,
            "symbol": "circle"
           },
           "mode": "markers",
           "name": "Odisha",
           "showlegend": true,
           "type": "scattergeo"
          },
          {
           "geo": "geo",
           "hovertemplate": "<b>%{hovertext}</b><br><br>state=Puducherry<br>month=Jun<br>estimated unemployment rate=%{marker.size}<br>longitude=%{lat}<br>latitude=%{lon}<extra></extra>",
           "hovertext": [
            "Puducherry"
           ],
           "lat": [
            11.9416
           ],
           "legendgroup": "Puducherry",
           "lon": [
            79.8083
           ],
           "marker": {
            "color": "#B6E880",
            "size": [
             4.24
            ],
            "sizemode": "area",
            "sizeref": 0.189625,
            "symbol": "circle"
           },
           "mode": "markers",
           "name": "Puducherry",
           "showlegend": true,
           "type": "scattergeo"
          },
          {
           "geo": "geo",
           "hovertemplate": "<b>%{hovertext}</b><br><br>state=Punjab<br>month=Jun<br>estimated unemployment rate=%{marker.size}<br>longitude=%{lat}<br>latitude=%{lon}<extra></extra>",
           "hovertext": [
            "Punjab"
           ],
           "lat": [
            31.1471
           ],
           "legendgroup": "Punjab",
           "lon": [
            75.3412
           ],
           "marker": {
            "color": "#FF97FF",
            "size": [
             16.55
            ],
            "sizemode": "area",
            "sizeref": 0.189625,
            "symbol": "circle"
           },
           "mode": "markers",
           "name": "Punjab",
           "showlegend": true,
           "type": "scattergeo"
          },
          {
           "geo": "geo",
           "hovertemplate": "<b>%{hovertext}</b><br><br>state=Rajasthan<br>month=Jun<br>estimated unemployment rate=%{marker.size}<br>longitude=%{lat}<br>latitude=%{lon}<extra></extra>",
           "hovertext": [
            "Rajasthan"
           ],
           "lat": [
            27.0238
           ],
           "legendgroup": "Rajasthan",
           "lon": [
            74.2179
           ],
           "marker": {
            "color": "#FECB52",
            "size": [
             14.39
            ],
            "sizemode": "area",
            "sizeref": 0.189625,
            "symbol": "circle"
           },
           "mode": "markers",
           "name": "Rajasthan",
           "showlegend": true,
           "type": "scattergeo"
          },
          {
           "geo": "geo",
           "hovertemplate": "<b>%{hovertext}</b><br><br>state=Sikkim<br>month=Jun<br>estimated unemployment rate=%{marker.size}<br>longitude=%{lat}<br>latitude=%{lon}<extra></extra>",
           "hovertext": [
            "Sikkim"
           ],
           "lat": [
            27.533
           ],
           "legendgroup": "Sikkim",
           "lon": [
            88.5122
           ],
           "marker": {
            "color": "#636efa",
            "size": [
             4.46
            ],
            "sizemode": "area",
            "sizeref": 0.189625,
            "symbol": "circle"
           },
           "mode": "markers",
           "name": "Sikkim",
           "showlegend": true,
           "type": "scattergeo"
          },
          {
           "geo": "geo",
           "hovertemplate": "<b>%{hovertext}</b><br><br>state=Tamil Nadu<br>month=Jun<br>estimated unemployment rate=%{marker.size}<br>longitude=%{lat}<br>latitude=%{lon}<extra></extra>",
           "hovertext": [
            "Tamil Nadu"
           ],
           "lat": [
            11.1271
           ],
           "legendgroup": "Tamil Nadu",
           "lon": [
            78.6569
           ],
           "marker": {
            "color": "#EF553B",
            "size": [
             12.2
            ],
            "sizemode": "area",
            "sizeref": 0.189625,
            "symbol": "circle"
           },
           "mode": "markers",
           "name": "Tamil Nadu",
           "showlegend": true,
           "type": "scattergeo"
          },
          {
           "geo": "geo",
           "hovertemplate": "<b>%{hovertext}</b><br><br>state=Telangana<br>month=Jun<br>estimated unemployment rate=%{marker.size}<br>longitude=%{lat}<br>latitude=%{lon}<extra></extra>",
           "hovertext": [
            "Telangana"
           ],
           "lat": [
            18.1124
           ],
           "legendgroup": "Telangana",
           "lon": [
            79.0193
           ],
           "marker": {
            "color": "#00cc96",
            "size": [
             10.55
            ],
            "sizemode": "area",
            "sizeref": 0.189625,
            "symbol": "circle"
           },
           "mode": "markers",
           "name": "Telangana",
           "showlegend": true,
           "type": "scattergeo"
          },
          {
           "geo": "geo",
           "hovertemplate": "<b>%{hovertext}</b><br><br>state=Tripura<br>month=Jun<br>estimated unemployment rate=%{marker.size}<br>longitude=%{lat}<br>latitude=%{lon}<extra></extra>",
           "hovertext": [
            "Tripura"
           ],
           "lat": [
            23.9408
           ],
           "legendgroup": "Tripura",
           "lon": [
            91.9882
           ],
           "marker": {
            "color": "#ab63fa",
            "size": [
             21.71
            ],
            "sizemode": "area",
            "sizeref": 0.189625,
            "symbol": "circle"
           },
           "mode": "markers",
           "name": "Tripura",
           "showlegend": true,
           "type": "scattergeo"
          },
          {
           "geo": "geo",
           "hovertemplate": "<b>%{hovertext}</b><br><br>state=Uttar Pradesh<br>month=Jun<br>estimated unemployment rate=%{marker.size}<br>longitude=%{lat}<br>latitude=%{lon}<extra></extra>",
           "hovertext": [
            "Uttar Pradesh"
           ],
           "lat": [
            26.8467
           ],
           "legendgroup": "Uttar Pradesh",
           "lon": [
            80.9462
           ],
           "marker": {
            "color": "#FFA15A",
            "size": [
             9.47
            ],
            "sizemode": "area",
            "sizeref": 0.189625,
            "symbol": "circle"
           },
           "mode": "markers",
           "name": "Uttar Pradesh",
           "showlegend": true,
           "type": "scattergeo"
          },
          {
           "geo": "geo",
           "hovertemplate": "<b>%{hovertext}</b><br><br>state=Uttarakhand<br>month=Jun<br>estimated unemployment rate=%{marker.size}<br>longitude=%{lat}<br>latitude=%{lon}<extra></extra>",
           "hovertext": [
            "Uttarakhand"
           ],
           "lat": [
            30.0668
           ],
           "legendgroup": "Uttarakhand",
           "lon": [
            79.0193
           ],
           "marker": {
            "color": "#19d3f3",
            "size": [
             8.61
            ],
            "sizemode": "area",
            "sizeref": 0.189625,
            "symbol": "circle"
           },
           "mode": "markers",
           "name": "Uttarakhand",
           "showlegend": true,
           "type": "scattergeo"
          },
          {
           "geo": "geo",
           "hovertemplate": "<b>%{hovertext}</b><br><br>state=West Bengal<br>month=Jun<br>estimated unemployment rate=%{marker.size}<br>longitude=%{lat}<br>latitude=%{lon}<extra></extra>",
           "hovertext": [
            "West Bengal"
           ],
           "lat": [
            22.9868
           ],
           "legendgroup": "West Bengal",
           "lon": [
            87.855
           ],
           "marker": {
            "color": "#FF6692",
            "size": [
             7.29
            ],
            "sizemode": "area",
            "sizeref": 0.189625,
            "symbol": "circle"
           },
           "mode": "markers",
           "name": "West Bengal",
           "showlegend": true,
           "type": "scattergeo"
          }
         ],
         "name": "Jun"
        },
        {
         "data": [
          {
           "geo": "geo",
           "hovertemplate": "<b>%{hovertext}</b><br><br>state=Andhra Pradesh<br>month=Jul<br>estimated unemployment rate=%{marker.size}<br>longitude=%{lat}<br>latitude=%{lon}<extra></extra>",
           "hovertext": [
            "Andhra Pradesh"
           ],
           "lat": [
            15.9129
           ],
           "legendgroup": "Andhra Pradesh",
           "lon": [
            79.74
           ],
           "marker": {
            "color": "#636efa",
            "size": [
             8.34
            ],
            "sizemode": "area",
            "sizeref": 0.189625,
            "symbol": "circle"
           },
           "mode": "markers",
           "name": "Andhra Pradesh",
           "showlegend": true,
           "type": "scattergeo"
          },
          {
           "geo": "geo",
           "hovertemplate": "<b>%{hovertext}</b><br><br>state=Assam<br>month=Jul<br>estimated unemployment rate=%{marker.size}<br>longitude=%{lat}<br>latitude=%{lon}<extra></extra>",
           "hovertext": [
            "Assam"
           ],
           "lat": [
            26.2006
           ],
           "legendgroup": "Assam",
           "lon": [
            92.9376
           ],
           "marker": {
            "color": "#EF553B",
            "size": [
             3.77
            ],
            "sizemode": "area",
            "sizeref": 0.189625,
            "symbol": "circle"
           },
           "mode": "markers",
           "name": "Assam",
           "showlegend": true,
           "type": "scattergeo"
          },
          {
           "geo": "geo",
           "hovertemplate": "<b>%{hovertext}</b><br><br>state=Bihar<br>month=Jul<br>estimated unemployment rate=%{marker.size}<br>longitude=%{lat}<br>latitude=%{lon}<extra></extra>",
           "hovertext": [
            "Bihar"
           ],
           "lat": [
            25.0961
           ],
           "legendgroup": "Bihar",
           "lon": [
            85.3131
           ],
           "marker": {
            "color": "#00cc96",
            "size": [
             12.79
            ],
            "sizemode": "area",
            "sizeref": 0.189625,
            "symbol": "circle"
           },
           "mode": "markers",
           "name": "Bihar",
           "showlegend": true,
           "type": "scattergeo"
          },
          {
           "geo": "geo",
           "hovertemplate": "<b>%{hovertext}</b><br><br>state=Chhattisgarh<br>month=Jul<br>estimated unemployment rate=%{marker.size}<br>longitude=%{lat}<br>latitude=%{lon}<extra></extra>",
           "hovertext": [
            "Chhattisgarh"
           ],
           "lat": [
            21.2787
           ],
           "legendgroup": "Chhattisgarh",
           "lon": [
            81.8661
           ],
           "marker": {
            "color": "#ab63fa",
            "size": [
             10.27
            ],
            "sizemode": "area",
            "sizeref": 0.189625,
            "symbol": "circle"
           },
           "mode": "markers",
           "name": "Chhattisgarh",
           "showlegend": true,
           "type": "scattergeo"
          },
          {
           "geo": "geo",
           "hovertemplate": "<b>%{hovertext}</b><br><br>state=Delhi<br>month=Jul<br>estimated unemployment rate=%{marker.size}<br>longitude=%{lat}<br>latitude=%{lon}<extra></extra>",
           "hovertext": [
            "Delhi"
           ],
           "lat": [
            28.7041
           ],
           "legendgroup": "Delhi",
           "lon": [
            77.1025
           ],
           "marker": {
            "color": "#FFA15A",
            "size": [
             20.3
            ],
            "sizemode": "area",
            "sizeref": 0.189625,
            "symbol": "circle"
           },
           "mode": "markers",
           "name": "Delhi",
           "showlegend": true,
           "type": "scattergeo"
          },
          {
           "geo": "geo",
           "hovertemplate": "<b>%{hovertext}</b><br><br>state=Goa<br>month=Jul<br>estimated unemployment rate=%{marker.size}<br>longitude=%{lat}<br>latitude=%{lon}<extra></extra>",
           "hovertext": [
            "Goa"
           ],
           "lat": [
            15.2993
           ],
           "legendgroup": "Goa",
           "lon": [
            74.124
           ],
           "marker": {
            "color": "#19d3f3",
            "size": [
             17.07
            ],
            "sizemode": "area",
            "sizeref": 0.189625,
            "symbol": "circle"
           },
           "mode": "markers",
           "name": "Goa",
           "showlegend": true,
           "type": "scattergeo"
          },
          {
           "geo": "geo",
           "hovertemplate": "<b>%{hovertext}</b><br><br>state=Gujarat<br>month=Jul<br>estimated unemployment rate=%{marker.size}<br>longitude=%{lat}<br>latitude=%{lon}<extra></extra>",
           "hovertext": [
            "Gujarat"
           ],
           "lat": [
            22.2587
           ],
           "legendgroup": "Gujarat",
           "lon": [
            71.1924
           ],
           "marker": {
            "color": "#FF6692",
            "size": [
             1.84
            ],
            "sizemode": "area",
            "sizeref": 0.189625,
            "symbol": "circle"
           },
           "mode": "markers",
           "name": "Gujarat",
           "showlegend": true,
           "type": "scattergeo"
          },
          {
           "geo": "geo",
           "hovertemplate": "<b>%{hovertext}</b><br><br>state=Haryana<br>month=Jul<br>estimated unemployment rate=%{marker.size}<br>longitude=%{lat}<br>latitude=%{lon}<extra></extra>",
           "hovertext": [
            "Haryana"
           ],
           "lat": [
            29.0588
           ],
           "legendgroup": "Haryana",
           "lon": [
            76.0856
           ],
           "marker": {
            "color": "#B6E880",
            "size": [
             24.18
            ],
            "sizemode": "area",
            "sizeref": 0.189625,
            "symbol": "circle"
           },
           "mode": "markers",
           "name": "Haryana",
           "showlegend": true,
           "type": "scattergeo"
          },
          {
           "geo": "geo",
           "hovertemplate": "<b>%{hovertext}</b><br><br>state=Himachal Pradesh<br>month=Jul<br>estimated unemployment rate=%{marker.size}<br>longitude=%{lat}<br>latitude=%{lon}<extra></extra>",
           "hovertext": [
            "Himachal Pradesh"
           ],
           "lat": [
            31.1048
           ],
           "legendgroup": "Himachal Pradesh",
           "lon": [
            77.1734
           ],
           "marker": {
            "color": "#FF97FF",
            "size": [
             24.31
            ],
            "sizemode": "area",
            "sizeref": 0.189625,
            "symbol": "circle"
           },
           "mode": "markers",
           "name": "Himachal Pradesh",
           "showlegend": true,
           "type": "scattergeo"
          },
          {
           "geo": "geo",
           "hovertemplate": "<b>%{hovertext}</b><br><br>state=Jammu & Kashmir<br>month=Jul<br>estimated unemployment rate=%{marker.size}<br>longitude=%{lat}<br>latitude=%{lon}<extra></extra>",
           "hovertext": [
            "Jammu & Kashmir"
           ],
           "lat": [
            33.7782
           ],
           "legendgroup": "Jammu & Kashmir",
           "lon": [
            76.5762
           ],
           "marker": {
            "color": "#FECB52",
            "size": [
             10.88
            ],
            "sizemode": "area",
            "sizeref": 0.189625,
            "symbol": "circle"
           },
           "mode": "markers",
           "name": "Jammu & Kashmir",
           "showlegend": true,
           "type": "scattergeo"
          },
          {
           "geo": "geo",
           "hovertemplate": "<b>%{hovertext}</b><br><br>state=Jharkhand<br>month=Jul<br>estimated unemployment rate=%{marker.size}<br>longitude=%{lat}<br>latitude=%{lon}<extra></extra>",
           "hovertext": [
            "Jharkhand"
           ],
           "lat": [
            23.6102
           ],
           "legendgroup": "Jharkhand",
           "lon": [
            85.2799
           ],
           "marker": {
            "color": "#636efa",
            "size": [
             7.63
            ],
            "sizemode": "area",
            "sizeref": 0.189625,
            "symbol": "circle"
           },
           "mode": "markers",
           "name": "Jharkhand",
           "showlegend": true,
           "type": "scattergeo"
          },
          {
           "geo": "geo",
           "hovertemplate": "<b>%{hovertext}</b><br><br>state=Karnataka<br>month=Jul<br>estimated unemployment rate=%{marker.size}<br>longitude=%{lat}<br>latitude=%{lon}<extra></extra>",
           "hovertext": [
            "Karnataka"
           ],
           "lat": [
            15.3173
           ],
           "legendgroup": "Karnataka",
           "lon": [
            75.7139
           ],
           "marker": {
            "color": "#EF553B",
            "size": [
             4.01
            ],
            "sizemode": "area",
            "sizeref": 0.189625,
            "symbol": "circle"
           },
           "mode": "markers",
           "name": "Karnataka",
           "showlegend": true,
           "type": "scattergeo"
          },
          {
           "geo": "geo",
           "hovertemplate": "<b>%{hovertext}</b><br><br>state=Kerala<br>month=Jul<br>estimated unemployment rate=%{marker.size}<br>longitude=%{lat}<br>latitude=%{lon}<extra></extra>",
           "hovertext": [
            "Kerala"
           ],
           "lat": [
            10.8505
           ],
           "legendgroup": "Kerala",
           "lon": [
            76.2711
           ],
           "marker": {
            "color": "#00cc96",
            "size": [
             7.09
            ],
            "sizemode": "area",
            "sizeref": 0.189625,
            "symbol": "circle"
           },
           "mode": "markers",
           "name": "Kerala",
           "showlegend": true,
           "type": "scattergeo"
          },
          {
           "geo": "geo",
           "hovertemplate": "<b>%{hovertext}</b><br><br>state=Madhya Pradesh<br>month=Jul<br>estimated unemployment rate=%{marker.size}<br>longitude=%{lat}<br>latitude=%{lon}<extra></extra>",
           "hovertext": [
            "Madhya Pradesh"
           ],
           "lat": [
            22.9734
           ],
           "legendgroup": "Madhya Pradesh",
           "lon": [
            78.6569
           ],
           "marker": {
            "color": "#ab63fa",
            "size": [
             5.08
            ],
            "sizemode": "area",
            "sizeref": 0.189625,
            "symbol": "circle"
           },
           "mode": "markers",
           "name": "Madhya Pradesh",
           "showlegend": true,
           "type": "scattergeo"
          },
          {
           "geo": "geo",
           "hovertemplate": "<b>%{hovertext}</b><br><br>state=Maharashtra<br>month=Jul<br>estimated unemployment rate=%{marker.size}<br>longitude=%{lat}<br>latitude=%{lon}<extra></extra>",
           "hovertext": [
            "Maharashtra"
           ],
           "lat": [
            19.7515
           ],
           "legendgroup": "Maharashtra",
           "lon": [
            75.7139
           ],
           "marker": {
            "color": "#FFA15A",
            "size": [
             3.89
            ],
            "sizemode": "area",
            "sizeref": 0.189625,
            "symbol": "circle"
           },
           "mode": "markers",
           "name": "Maharashtra",
           "showlegend": true,
           "type": "scattergeo"
          },
          {
           "geo": "geo",
           "hovertemplate": "<b>%{hovertext}</b><br><br>state=Meghalaya<br>month=Jul<br>estimated unemployment rate=%{marker.size}<br>longitude=%{lat}<br>latitude=%{lon}<extra></extra>",
           "hovertext": [
            "Meghalaya"
           ],
           "lat": [
            25.467
           ],
           "legendgroup": "Meghalaya",
           "lon": [
            91.3662
           ],
           "marker": {
            "color": "#19d3f3",
            "size": [
             2.1
            ],
            "sizemode": "area",
            "sizeref": 0.189625,
            "symbol": "circle"
           },
           "mode": "markers",
           "name": "Meghalaya",
           "showlegend": true,
           "type": "scattergeo"
          },
          {
           "geo": "geo",
           "hovertemplate": "<b>%{hovertext}</b><br><br>state=Odisha<br>month=Jul<br>estimated unemployment rate=%{marker.size}<br>longitude=%{lat}<br>latitude=%{lon}<extra></extra>",
           "hovertext": [
            "Odisha"
           ],
           "lat": [
            20.9517
           ],
           "legendgroup": "Odisha",
           "lon": [
            85.0985
           ],
           "marker": {
            "color": "#FF6692",
            "size": [
             1.88
            ],
            "sizemode": "area",
            "sizeref": 0.189625,
            "symbol": "circle"
           },
           "mode": "markers",
           "name": "Odisha",
           "showlegend": true,
           "type": "scattergeo"
          },
          {
           "geo": "geo",
           "hovertemplate": "<b>%{hovertext}</b><br><br>state=Puducherry<br>month=Jul<br>estimated unemployment rate=%{marker.size}<br>longitude=%{lat}<br>latitude=%{lon}<extra></extra>",
           "hovertext": [
            "Puducherry"
           ],
           "lat": [
            11.9416
           ],
           "legendgroup": "Puducherry",
           "lon": [
            79.8083
           ],
           "marker": {
            "color": "#B6E880",
            "size": [
             15.47
            ],
            "sizemode": "area",
            "sizeref": 0.189625,
            "symbol": "circle"
           },
           "mode": "markers",
           "name": "Puducherry",
           "showlegend": true,
           "type": "scattergeo"
          },
          {
           "geo": "geo",
           "hovertemplate": "<b>%{hovertext}</b><br><br>state=Punjab<br>month=Jul<br>estimated unemployment rate=%{marker.size}<br>longitude=%{lat}<br>latitude=%{lon}<extra></extra>",
           "hovertext": [
            "Punjab"
           ],
           "lat": [
            31.1471
           ],
           "legendgroup": "Punjab",
           "lon": [
            75.3412
           ],
           "marker": {
            "color": "#FF97FF",
            "size": [
             9.19
            ],
            "sizemode": "area",
            "sizeref": 0.189625,
            "symbol": "circle"
           },
           "mode": "markers",
           "name": "Punjab",
           "showlegend": true,
           "type": "scattergeo"
          },
          {
           "geo": "geo",
           "hovertemplate": "<b>%{hovertext}</b><br><br>state=Rajasthan<br>month=Jul<br>estimated unemployment rate=%{marker.size}<br>longitude=%{lat}<br>latitude=%{lon}<extra></extra>",
           "hovertext": [
            "Rajasthan"
           ],
           "lat": [
            27.0238
           ],
           "legendgroup": "Rajasthan",
           "lon": [
            74.2179
           ],
           "marker": {
            "color": "#FECB52",
            "size": [
             15.81
            ],
            "sizemode": "area",
            "sizeref": 0.189625,
            "symbol": "circle"
           },
           "mode": "markers",
           "name": "Rajasthan",
           "showlegend": true,
           "type": "scattergeo"
          },
          {
           "geo": "geo",
           "hovertemplate": "<b>%{hovertext}</b><br><br>state=Sikkim<br>month=Jul<br>estimated unemployment rate=%{marker.size}<br>longitude=%{lat}<br>latitude=%{lon}<extra></extra>",
           "hovertext": [
            "Sikkim"
           ],
           "lat": [
            27.533
           ],
           "legendgroup": "Sikkim",
           "lon": [
            88.5122
           ],
           "marker": {
            "color": "#636efa",
            "size": [
             4.45
            ],
            "sizemode": "area",
            "sizeref": 0.189625,
            "symbol": "circle"
           },
           "mode": "markers",
           "name": "Sikkim",
           "showlegend": true,
           "type": "scattergeo"
          },
          {
           "geo": "geo",
           "hovertemplate": "<b>%{hovertext}</b><br><br>state=Tamil Nadu<br>month=Jul<br>estimated unemployment rate=%{marker.size}<br>longitude=%{lat}<br>latitude=%{lon}<extra></extra>",
           "hovertext": [
            "Tamil Nadu"
           ],
           "lat": [
            11.1271
           ],
           "legendgroup": "Tamil Nadu",
           "lon": [
            78.6569
           ],
           "marker": {
            "color": "#EF553B",
            "size": [
             6.81
            ],
            "sizemode": "area",
            "sizeref": 0.189625,
            "symbol": "circle"
           },
           "mode": "markers",
           "name": "Tamil Nadu",
           "showlegend": true,
           "type": "scattergeo"
          },
          {
           "geo": "geo",
           "hovertemplate": "<b>%{hovertext}</b><br><br>state=Telangana<br>month=Jul<br>estimated unemployment rate=%{marker.size}<br>longitude=%{lat}<br>latitude=%{lon}<extra></extra>",
           "hovertext": [
            "Telangana"
           ],
           "lat": [
            18.1124
           ],
           "legendgroup": "Telangana",
           "lon": [
            79.0193
           ],
           "marker": {
            "color": "#00cc96",
            "size": [
             5.36
            ],
            "sizemode": "area",
            "sizeref": 0.189625,
            "symbol": "circle"
           },
           "mode": "markers",
           "name": "Telangana",
           "showlegend": true,
           "type": "scattergeo"
          },
          {
           "geo": "geo",
           "hovertemplate": "<b>%{hovertext}</b><br><br>state=Tripura<br>month=Jul<br>estimated unemployment rate=%{marker.size}<br>longitude=%{lat}<br>latitude=%{lon}<extra></extra>",
           "hovertext": [
            "Tripura"
           ],
           "lat": [
            23.9408
           ],
           "legendgroup": "Tripura",
           "lon": [
            91.9882
           ],
           "marker": {
            "color": "#ab63fa",
            "size": [
             18.24
            ],
            "sizemode": "area",
            "sizeref": 0.189625,
            "symbol": "circle"
           },
           "mode": "markers",
           "name": "Tripura",
           "showlegend": true,
           "type": "scattergeo"
          },
          {
           "geo": "geo",
           "hovertemplate": "<b>%{hovertext}</b><br><br>state=Uttar Pradesh<br>month=Jul<br>estimated unemployment rate=%{marker.size}<br>longitude=%{lat}<br>latitude=%{lon}<extra></extra>",
           "hovertext": [
            "Uttar Pradesh"
           ],
           "lat": [
            26.8467
           ],
           "legendgroup": "Uttar Pradesh",
           "lon": [
            80.9462
           ],
           "marker": {
            "color": "#FFA15A",
            "size": [
             5.56
            ],
            "sizemode": "area",
            "sizeref": 0.189625,
            "symbol": "circle"
           },
           "mode": "markers",
           "name": "Uttar Pradesh",
           "showlegend": true,
           "type": "scattergeo"
          },
          {
           "geo": "geo",
           "hovertemplate": "<b>%{hovertext}</b><br><br>state=Uttarakhand<br>month=Jul<br>estimated unemployment rate=%{marker.size}<br>longitude=%{lat}<br>latitude=%{lon}<extra></extra>",
           "hovertext": [
            "Uttarakhand"
           ],
           "lat": [
            30.0668
           ],
           "legendgroup": "Uttarakhand",
           "lon": [
            79.0193
           ],
           "marker": {
            "color": "#19d3f3",
            "size": [
             12.38
            ],
            "sizemode": "area",
            "sizeref": 0.189625,
            "symbol": "circle"
           },
           "mode": "markers",
           "name": "Uttarakhand",
           "showlegend": true,
           "type": "scattergeo"
          },
          {
           "geo": "geo",
           "hovertemplate": "<b>%{hovertext}</b><br><br>state=West Bengal<br>month=Jul<br>estimated unemployment rate=%{marker.size}<br>longitude=%{lat}<br>latitude=%{lon}<extra></extra>",
           "hovertext": [
            "West Bengal"
           ],
           "lat": [
            22.9868
           ],
           "legendgroup": "West Bengal",
           "lon": [
            87.855
           ],
           "marker": {
            "color": "#FF6692",
            "size": [
             6.83
            ],
            "sizemode": "area",
            "sizeref": 0.189625,
            "symbol": "circle"
           },
           "mode": "markers",
           "name": "West Bengal",
           "showlegend": true,
           "type": "scattergeo"
          }
         ],
         "name": "Jul"
        },
        {
         "data": [
          {
           "geo": "geo",
           "hovertemplate": "<b>%{hovertext}</b><br><br>state=Andhra Pradesh<br>month=Aug<br>estimated unemployment rate=%{marker.size}<br>longitude=%{lat}<br>latitude=%{lon}<extra></extra>",
           "hovertext": [
            "Andhra Pradesh"
           ],
           "lat": [
            15.9129
           ],
           "legendgroup": "Andhra Pradesh",
           "lon": [
            79.74
           ],
           "marker": {
            "color": "#636efa",
            "size": [
             6.96
            ],
            "sizemode": "area",
            "sizeref": 0.189625,
            "symbol": "circle"
           },
           "mode": "markers",
           "name": "Andhra Pradesh",
           "showlegend": true,
           "type": "scattergeo"
          },
          {
           "geo": "geo",
           "hovertemplate": "<b>%{hovertext}</b><br><br>state=Assam<br>month=Aug<br>estimated unemployment rate=%{marker.size}<br>longitude=%{lat}<br>latitude=%{lon}<extra></extra>",
           "hovertext": [
            "Assam"
           ],
           "lat": [
            26.2006
           ],
           "legendgroup": "Assam",
           "lon": [
            92.9376
           ],
           "marker": {
            "color": "#EF553B",
            "size": [
             5.53
            ],
            "sizemode": "area",
            "sizeref": 0.189625,
            "symbol": "circle"
           },
           "mode": "markers",
           "name": "Assam",
           "showlegend": true,
           "type": "scattergeo"
          },
          {
           "geo": "geo",
           "hovertemplate": "<b>%{hovertext}</b><br><br>state=Bihar<br>month=Aug<br>estimated unemployment rate=%{marker.size}<br>longitude=%{lat}<br>latitude=%{lon}<extra></extra>",
           "hovertext": [
            "Bihar"
           ],
           "lat": [
            25.0961
           ],
           "legendgroup": "Bihar",
           "lon": [
            85.3131
           ],
           "marker": {
            "color": "#00cc96",
            "size": [
             13.44
            ],
            "sizemode": "area",
            "sizeref": 0.189625,
            "symbol": "circle"
           },
           "mode": "markers",
           "name": "Bihar",
           "showlegend": true,
           "type": "scattergeo"
          },
          {
           "geo": "geo",
           "hovertemplate": "<b>%{hovertext}</b><br><br>state=Chhattisgarh<br>month=Aug<br>estimated unemployment rate=%{marker.size}<br>longitude=%{lat}<br>latitude=%{lon}<extra></extra>",
           "hovertext": [
            "Chhattisgarh"
           ],
           "lat": [
            21.2787
           ],
           "legendgroup": "Chhattisgarh",
           "lon": [
            81.8661
           ],
           "marker": {
            "color": "#ab63fa",
            "size": [
             5.63
            ],
            "sizemode": "area",
            "sizeref": 0.189625,
            "symbol": "circle"
           },
           "mode": "markers",
           "name": "Chhattisgarh",
           "showlegend": true,
           "type": "scattergeo"
          },
          {
           "geo": "geo",
           "hovertemplate": "<b>%{hovertext}</b><br><br>state=Delhi<br>month=Aug<br>estimated unemployment rate=%{marker.size}<br>longitude=%{lat}<br>latitude=%{lon}<extra></extra>",
           "hovertext": [
            "Delhi"
           ],
           "lat": [
            28.7041
           ],
           "legendgroup": "Delhi",
           "lon": [
            77.1025
           ],
           "marker": {
            "color": "#FFA15A",
            "size": [
             13.79
            ],
            "sizemode": "area",
            "sizeref": 0.189625,
            "symbol": "circle"
           },
           "mode": "markers",
           "name": "Delhi",
           "showlegend": true,
           "type": "scattergeo"
          },
          {
           "geo": "geo",
           "hovertemplate": "<b>%{hovertext}</b><br><br>state=Goa<br>month=Aug<br>estimated unemployment rate=%{marker.size}<br>longitude=%{lat}<br>latitude=%{lon}<extra></extra>",
           "hovertext": [
            "Goa"
           ],
           "lat": [
            15.2993
           ],
           "legendgroup": "Goa",
           "lon": [
            74.124
           ],
           "marker": {
            "color": "#19d3f3",
            "size": [
             16.21
            ],
            "sizemode": "area",
            "sizeref": 0.189625,
            "symbol": "circle"
           },
           "mode": "markers",
           "name": "Goa",
           "showlegend": true,
           "type": "scattergeo"
          },
          {
           "geo": "geo",
           "hovertemplate": "<b>%{hovertext}</b><br><br>state=Gujarat<br>month=Aug<br>estimated unemployment rate=%{marker.size}<br>longitude=%{lat}<br>latitude=%{lon}<extra></extra>",
           "hovertext": [
            "Gujarat"
           ],
           "lat": [
            22.2587
           ],
           "legendgroup": "Gujarat",
           "lon": [
            71.1924
           ],
           "marker": {
            "color": "#FF6692",
            "size": [
             1.87
            ],
            "sizemode": "area",
            "sizeref": 0.189625,
            "symbol": "circle"
           },
           "mode": "markers",
           "name": "Gujarat",
           "showlegend": true,
           "type": "scattergeo"
          },
          {
           "geo": "geo",
           "hovertemplate": "<b>%{hovertext}</b><br><br>state=Haryana<br>month=Aug<br>estimated unemployment rate=%{marker.size}<br>longitude=%{lat}<br>latitude=%{lon}<extra></extra>",
           "hovertext": [
            "Haryana"
           ],
           "lat": [
            29.0588
           ],
           "legendgroup": "Haryana",
           "lon": [
            76.0856
           ],
           "marker": {
            "color": "#B6E880",
            "size": [
             33.5
            ],
            "sizemode": "area",
            "sizeref": 0.189625,
            "symbol": "circle"
           },
           "mode": "markers",
           "name": "Haryana",
           "showlegend": true,
           "type": "scattergeo"
          },
          {
           "geo": "geo",
           "hovertemplate": "<b>%{hovertext}</b><br><br>state=Himachal Pradesh<br>month=Aug<br>estimated unemployment rate=%{marker.size}<br>longitude=%{lat}<br>latitude=%{lon}<extra></extra>",
           "hovertext": [
            "Himachal Pradesh"
           ],
           "lat": [
            31.1048
           ],
           "legendgroup": "Himachal Pradesh",
           "lon": [
            77.1734
           ],
           "marker": {
            "color": "#FF97FF",
            "size": [
             15.79
            ],
            "sizemode": "area",
            "sizeref": 0.189625,
            "symbol": "circle"
           },
           "mode": "markers",
           "name": "Himachal Pradesh",
           "showlegend": true,
           "type": "scattergeo"
          },
          {
           "geo": "geo",
           "hovertemplate": "<b>%{hovertext}</b><br><br>state=Jammu & Kashmir<br>month=Aug<br>estimated unemployment rate=%{marker.size}<br>longitude=%{lat}<br>latitude=%{lon}<extra></extra>",
           "hovertext": [
            "Jammu & Kashmir"
           ],
           "lat": [
            33.7782
           ],
           "legendgroup": "Jammu & Kashmir",
           "lon": [
            76.5762
           ],
           "marker": {
            "color": "#FECB52",
            "size": [
             11.09
            ],
            "sizemode": "area",
            "sizeref": 0.189625,
            "symbol": "circle"
           },
           "mode": "markers",
           "name": "Jammu & Kashmir",
           "showlegend": true,
           "type": "scattergeo"
          },
          {
           "geo": "geo",
           "hovertemplate": "<b>%{hovertext}</b><br><br>state=Jharkhand<br>month=Aug<br>estimated unemployment rate=%{marker.size}<br>longitude=%{lat}<br>latitude=%{lon}<extra></extra>",
           "hovertext": [
            "Jharkhand"
           ],
           "lat": [
            23.6102
           ],
           "legendgroup": "Jharkhand",
           "lon": [
            85.2799
           ],
           "marker": {
            "color": "#636efa",
            "size": [
             9.76
            ],
            "sizemode": "area",
            "sizeref": 0.189625,
            "symbol": "circle"
           },
           "mode": "markers",
           "name": "Jharkhand",
           "showlegend": true,
           "type": "scattergeo"
          },
          {
           "geo": "geo",
           "hovertemplate": "<b>%{hovertext}</b><br><br>state=Karnataka<br>month=Aug<br>estimated unemployment rate=%{marker.size}<br>longitude=%{lat}<br>latitude=%{lon}<extra></extra>",
           "hovertext": [
            "Karnataka"
           ],
           "lat": [
            15.3173
           ],
           "legendgroup": "Karnataka",
           "lon": [
            75.7139
           ],
           "marker": {
            "color": "#EF553B",
            "size": [
             0.5
            ],
            "sizemode": "area",
            "sizeref": 0.189625,
            "symbol": "circle"
           },
           "mode": "markers",
           "name": "Karnataka",
           "showlegend": true,
           "type": "scattergeo"
          },
          {
           "geo": "geo",
           "hovertemplate": "<b>%{hovertext}</b><br><br>state=Kerala<br>month=Aug<br>estimated unemployment rate=%{marker.size}<br>longitude=%{lat}<br>latitude=%{lon}<extra></extra>",
           "hovertext": [
            "Kerala"
           ],
           "lat": [
            10.8505
           ],
           "legendgroup": "Kerala",
           "lon": [
            76.2711
           ],
           "marker": {
            "color": "#00cc96",
            "size": [
             10.98
            ],
            "sizemode": "area",
            "sizeref": 0.189625,
            "symbol": "circle"
           },
           "mode": "markers",
           "name": "Kerala",
           "showlegend": true,
           "type": "scattergeo"
          },
          {
           "geo": "geo",
           "hovertemplate": "<b>%{hovertext}</b><br><br>state=Madhya Pradesh<br>month=Aug<br>estimated unemployment rate=%{marker.size}<br>longitude=%{lat}<br>latitude=%{lon}<extra></extra>",
           "hovertext": [
            "Madhya Pradesh"
           ],
           "lat": [
            22.9734
           ],
           "legendgroup": "Madhya Pradesh",
           "lon": [
            78.6569
           ],
           "marker": {
            "color": "#ab63fa",
            "size": [
             4.7
            ],
            "sizemode": "area",
            "sizeref": 0.189625,
            "symbol": "circle"
           },
           "mode": "markers",
           "name": "Madhya Pradesh",
           "showlegend": true,
           "type": "scattergeo"
          },
          {
           "geo": "geo",
           "hovertemplate": "<b>%{hovertext}</b><br><br>state=Maharashtra<br>month=Aug<br>estimated unemployment rate=%{marker.size}<br>longitude=%{lat}<br>latitude=%{lon}<extra></extra>",
           "hovertext": [
            "Maharashtra"
           ],
           "lat": [
            19.7515
           ],
           "legendgroup": "Maharashtra",
           "lon": [
            75.7139
           ],
           "marker": {
            "color": "#FFA15A",
            "size": [
             6.23
            ],
            "sizemode": "area",
            "sizeref": 0.189625,
            "symbol": "circle"
           },
           "mode": "markers",
           "name": "Maharashtra",
           "showlegend": true,
           "type": "scattergeo"
          },
          {
           "geo": "geo",
           "hovertemplate": "<b>%{hovertext}</b><br><br>state=Meghalaya<br>month=Aug<br>estimated unemployment rate=%{marker.size}<br>longitude=%{lat}<br>latitude=%{lon}<extra></extra>",
           "hovertext": [
            "Meghalaya"
           ],
           "lat": [
            25.467
           ],
           "legendgroup": "Meghalaya",
           "lon": [
            91.3662
           ],
           "marker": {
            "color": "#19d3f3",
            "size": [
             3.74
            ],
            "sizemode": "area",
            "sizeref": 0.189625,
            "symbol": "circle"
           },
           "mode": "markers",
           "name": "Meghalaya",
           "showlegend": true,
           "type": "scattergeo"
          },
          {
           "geo": "geo",
           "hovertemplate": "<b>%{hovertext}</b><br><br>state=Odisha<br>month=Aug<br>estimated unemployment rate=%{marker.size}<br>longitude=%{lat}<br>latitude=%{lon}<extra></extra>",
           "hovertext": [
            "Odisha"
           ],
           "lat": [
            20.9517
           ],
           "legendgroup": "Odisha",
           "lon": [
            85.0985
           ],
           "marker": {
            "color": "#FF6692",
            "size": [
             1.42
            ],
            "sizemode": "area",
            "sizeref": 0.189625,
            "symbol": "circle"
           },
           "mode": "markers",
           "name": "Odisha",
           "showlegend": true,
           "type": "scattergeo"
          },
          {
           "geo": "geo",
           "hovertemplate": "<b>%{hovertext}</b><br><br>state=Puducherry<br>month=Aug<br>estimated unemployment rate=%{marker.size}<br>longitude=%{lat}<br>latitude=%{lon}<extra></extra>",
           "hovertext": [
            "Puducherry"
           ],
           "lat": [
            11.9416
           ],
           "legendgroup": "Puducherry",
           "lon": [
            79.8083
           ],
           "marker": {
            "color": "#B6E880",
            "size": [
             5.05
            ],
            "sizemode": "area",
            "sizeref": 0.189625,
            "symbol": "circle"
           },
           "mode": "markers",
           "name": "Puducherry",
           "showlegend": true,
           "type": "scattergeo"
          },
          {
           "geo": "geo",
           "hovertemplate": "<b>%{hovertext}</b><br><br>state=Punjab<br>month=Aug<br>estimated unemployment rate=%{marker.size}<br>longitude=%{lat}<br>latitude=%{lon}<extra></extra>",
           "hovertext": [
            "Punjab"
           ],
           "lat": [
            31.1471
           ],
           "legendgroup": "Punjab",
           "lon": [
            75.3412
           ],
           "marker": {
            "color": "#FF97FF",
            "size": [
             10.99
            ],
            "sizemode": "area",
            "sizeref": 0.189625,
            "symbol": "circle"
           },
           "mode": "markers",
           "name": "Punjab",
           "showlegend": true,
           "type": "scattergeo"
          },
          {
           "geo": "geo",
           "hovertemplate": "<b>%{hovertext}</b><br><br>state=Rajasthan<br>month=Aug<br>estimated unemployment rate=%{marker.size}<br>longitude=%{lat}<br>latitude=%{lon}<extra></extra>",
           "hovertext": [
            "Rajasthan"
           ],
           "lat": [
            27.0238
           ],
           "legendgroup": "Rajasthan",
           "lon": [
            74.2179
           ],
           "marker": {
            "color": "#FECB52",
            "size": [
             17.51
            ],
            "sizemode": "area",
            "sizeref": 0.189625,
            "symbol": "circle"
           },
           "mode": "markers",
           "name": "Rajasthan",
           "showlegend": true,
           "type": "scattergeo"
          },
          {
           "geo": "geo",
           "hovertemplate": "<b>%{hovertext}</b><br><br>state=Sikkim<br>month=Aug<br>estimated unemployment rate=%{marker.size}<br>longitude=%{lat}<br>latitude=%{lon}<extra></extra>",
           "hovertext": [
            "Sikkim"
           ],
           "lat": [
            27.533
           ],
           "legendgroup": "Sikkim",
           "lon": [
            88.5122
           ],
           "marker": {
            "color": "#636efa",
            "size": [
             12.49
            ],
            "sizemode": "area",
            "sizeref": 0.189625,
            "symbol": "circle"
           },
           "mode": "markers",
           "name": "Sikkim",
           "showlegend": true,
           "type": "scattergeo"
          },
          {
           "geo": "geo",
           "hovertemplate": "<b>%{hovertext}</b><br><br>state=Tamil Nadu<br>month=Aug<br>estimated unemployment rate=%{marker.size}<br>longitude=%{lat}<br>latitude=%{lon}<extra></extra>",
           "hovertext": [
            "Tamil Nadu"
           ],
           "lat": [
            11.1271
           ],
           "legendgroup": "Tamil Nadu",
           "lon": [
            78.6569
           ],
           "marker": {
            "color": "#EF553B",
            "size": [
             2.65
            ],
            "sizemode": "area",
            "sizeref": 0.189625,
            "symbol": "circle"
           },
           "mode": "markers",
           "name": "Tamil Nadu",
           "showlegend": true,
           "type": "scattergeo"
          },
          {
           "geo": "geo",
           "hovertemplate": "<b>%{hovertext}</b><br><br>state=Telangana<br>month=Aug<br>estimated unemployment rate=%{marker.size}<br>longitude=%{lat}<br>latitude=%{lon}<extra></extra>",
           "hovertext": [
            "Telangana"
           ],
           "lat": [
            18.1124
           ],
           "legendgroup": "Telangana",
           "lon": [
            79.0193
           ],
           "marker": {
            "color": "#00cc96",
            "size": [
             5.79
            ],
            "sizemode": "area",
            "sizeref": 0.189625,
            "symbol": "circle"
           },
           "mode": "markers",
           "name": "Telangana",
           "showlegend": true,
           "type": "scattergeo"
          },
          {
           "geo": "geo",
           "hovertemplate": "<b>%{hovertext}</b><br><br>state=Tripura<br>month=Aug<br>estimated unemployment rate=%{marker.size}<br>longitude=%{lat}<br>latitude=%{lon}<extra></extra>",
           "hovertext": [
            "Tripura"
           ],
           "lat": [
            23.9408
           ],
           "legendgroup": "Tripura",
           "lon": [
            91.9882
           ],
           "marker": {
            "color": "#ab63fa",
            "size": [
             27.92
            ],
            "sizemode": "area",
            "sizeref": 0.189625,
            "symbol": "circle"
           },
           "mode": "markers",
           "name": "Tripura",
           "showlegend": true,
           "type": "scattergeo"
          },
          {
           "geo": "geo",
           "hovertemplate": "<b>%{hovertext}</b><br><br>state=Uttar Pradesh<br>month=Aug<br>estimated unemployment rate=%{marker.size}<br>longitude=%{lat}<br>latitude=%{lon}<extra></extra>",
           "hovertext": [
            "Uttar Pradesh"
           ],
           "lat": [
            26.8467
           ],
           "legendgroup": "Uttar Pradesh",
           "lon": [
            80.9462
           ],
           "marker": {
            "color": "#FFA15A",
            "size": [
             5.79
            ],
            "sizemode": "area",
            "sizeref": 0.189625,
            "symbol": "circle"
           },
           "mode": "markers",
           "name": "Uttar Pradesh",
           "showlegend": true,
           "type": "scattergeo"
          },
          {
           "geo": "geo",
           "hovertemplate": "<b>%{hovertext}</b><br><br>state=Uttarakhand<br>month=Aug<br>estimated unemployment rate=%{marker.size}<br>longitude=%{lat}<br>latitude=%{lon}<extra></extra>",
           "hovertext": [
            "Uttarakhand"
           ],
           "lat": [
            30.0668
           ],
           "legendgroup": "Uttarakhand",
           "lon": [
            79.0193
           ],
           "marker": {
            "color": "#19d3f3",
            "size": [
             14.26
            ],
            "sizemode": "area",
            "sizeref": 0.189625,
            "symbol": "circle"
           },
           "mode": "markers",
           "name": "Uttarakhand",
           "showlegend": true,
           "type": "scattergeo"
          },
          {
           "geo": "geo",
           "hovertemplate": "<b>%{hovertext}</b><br><br>state=West Bengal<br>month=Aug<br>estimated unemployment rate=%{marker.size}<br>longitude=%{lat}<br>latitude=%{lon}<extra></extra>",
           "hovertext": [
            "West Bengal"
           ],
           "lat": [
            22.9868
           ],
           "legendgroup": "West Bengal",
           "lon": [
            87.855
           ],
           "marker": {
            "color": "#FF6692",
            "size": [
             14.87
            ],
            "sizemode": "area",
            "sizeref": 0.189625,
            "symbol": "circle"
           },
           "mode": "markers",
           "name": "West Bengal",
           "showlegend": true,
           "type": "scattergeo"
          }
         ],
         "name": "Aug"
        },
        {
         "data": [
          {
           "geo": "geo",
           "hovertemplate": "<b>%{hovertext}</b><br><br>state=Andhra Pradesh<br>month=Sep<br>estimated unemployment rate=%{marker.size}<br>longitude=%{lat}<br>latitude=%{lon}<extra></extra>",
           "hovertext": [
            "Andhra Pradesh"
           ],
           "lat": [
            15.9129
           ],
           "legendgroup": "Andhra Pradesh",
           "lon": [
            79.74
           ],
           "marker": {
            "color": "#636efa",
            "size": [
             6.4
            ],
            "sizemode": "area",
            "sizeref": 0.189625,
            "symbol": "circle"
           },
           "mode": "markers",
           "name": "Andhra Pradesh",
           "showlegend": true,
           "type": "scattergeo"
          },
          {
           "geo": "geo",
           "hovertemplate": "<b>%{hovertext}</b><br><br>state=Assam<br>month=Sep<br>estimated unemployment rate=%{marker.size}<br>longitude=%{lat}<br>latitude=%{lon}<extra></extra>",
           "hovertext": [
            "Assam"
           ],
           "lat": [
            26.2006
           ],
           "legendgroup": "Assam",
           "lon": [
            92.9376
           ],
           "marker": {
            "color": "#EF553B",
            "size": [
             1.19
            ],
            "sizemode": "area",
            "sizeref": 0.189625,
            "symbol": "circle"
           },
           "mode": "markers",
           "name": "Assam",
           "showlegend": true,
           "type": "scattergeo"
          },
          {
           "geo": "geo",
           "hovertemplate": "<b>%{hovertext}</b><br><br>state=Bihar<br>month=Sep<br>estimated unemployment rate=%{marker.size}<br>longitude=%{lat}<br>latitude=%{lon}<extra></extra>",
           "hovertext": [
            "Bihar"
           ],
           "lat": [
            25.0961
           ],
           "legendgroup": "Bihar",
           "lon": [
            85.3131
           ],
           "marker": {
            "color": "#00cc96",
            "size": [
             11.91
            ],
            "sizemode": "area",
            "sizeref": 0.189625,
            "symbol": "circle"
           },
           "mode": "markers",
           "name": "Bihar",
           "showlegend": true,
           "type": "scattergeo"
          },
          {
           "geo": "geo",
           "hovertemplate": "<b>%{hovertext}</b><br><br>state=Chhattisgarh<br>month=Sep<br>estimated unemployment rate=%{marker.size}<br>longitude=%{lat}<br>latitude=%{lon}<extra></extra>",
           "hovertext": [
            "Chhattisgarh"
           ],
           "lat": [
            21.2787
           ],
           "legendgroup": "Chhattisgarh",
           "lon": [
            81.8661
           ],
           "marker": {
            "color": "#ab63fa",
            "size": [
             1.96
            ],
            "sizemode": "area",
            "sizeref": 0.189625,
            "symbol": "circle"
           },
           "mode": "markers",
           "name": "Chhattisgarh",
           "showlegend": true,
           "type": "scattergeo"
          },
          {
           "geo": "geo",
           "hovertemplate": "<b>%{hovertext}</b><br><br>state=Delhi<br>month=Sep<br>estimated unemployment rate=%{marker.size}<br>longitude=%{lat}<br>latitude=%{lon}<extra></extra>",
           "hovertext": [
            "Delhi"
           ],
           "lat": [
            28.7041
           ],
           "legendgroup": "Delhi",
           "lon": [
            77.1025
           ],
           "marker": {
            "color": "#FFA15A",
            "size": [
             12.53
            ],
            "sizemode": "area",
            "sizeref": 0.189625,
            "symbol": "circle"
           },
           "mode": "markers",
           "name": "Delhi",
           "showlegend": true,
           "type": "scattergeo"
          },
          {
           "geo": "geo",
           "hovertemplate": "<b>%{hovertext}</b><br><br>state=Goa<br>month=Sep<br>estimated unemployment rate=%{marker.size}<br>longitude=%{lat}<br>latitude=%{lon}<extra></extra>",
           "hovertext": [
            "Goa"
           ],
           "lat": [
            15.2993
           ],
           "legendgroup": "Goa",
           "lon": [
            74.124
           ],
           "marker": {
            "color": "#19d3f3",
            "size": [
             15.38
            ],
            "sizemode": "area",
            "sizeref": 0.189625,
            "symbol": "circle"
           },
           "mode": "markers",
           "name": "Goa",
           "showlegend": true,
           "type": "scattergeo"
          },
          {
           "geo": "geo",
           "hovertemplate": "<b>%{hovertext}</b><br><br>state=Gujarat<br>month=Sep<br>estimated unemployment rate=%{marker.size}<br>longitude=%{lat}<br>latitude=%{lon}<extra></extra>",
           "hovertext": [
            "Gujarat"
           ],
           "lat": [
            22.2587
           ],
           "legendgroup": "Gujarat",
           "lon": [
            71.1924
           ],
           "marker": {
            "color": "#FF6692",
            "size": [
             3.42
            ],
            "sizemode": "area",
            "sizeref": 0.189625,
            "symbol": "circle"
           },
           "mode": "markers",
           "name": "Gujarat",
           "showlegend": true,
           "type": "scattergeo"
          },
          {
           "geo": "geo",
           "hovertemplate": "<b>%{hovertext}</b><br><br>state=Haryana<br>month=Sep<br>estimated unemployment rate=%{marker.size}<br>longitude=%{lat}<br>latitude=%{lon}<extra></extra>",
           "hovertext": [
            "Haryana"
           ],
           "lat": [
            29.0588
           ],
           "legendgroup": "Haryana",
           "lon": [
            76.0856
           ],
           "marker": {
            "color": "#B6E880",
            "size": [
             19.68
            ],
            "sizemode": "area",
            "sizeref": 0.189625,
            "symbol": "circle"
           },
           "mode": "markers",
           "name": "Haryana",
           "showlegend": true,
           "type": "scattergeo"
          },
          {
           "geo": "geo",
           "hovertemplate": "<b>%{hovertext}</b><br><br>state=Himachal Pradesh<br>month=Sep<br>estimated unemployment rate=%{marker.size}<br>longitude=%{lat}<br>latitude=%{lon}<extra></extra>",
           "hovertext": [
            "Himachal Pradesh"
           ],
           "lat": [
            31.1048
           ],
           "legendgroup": "Himachal Pradesh",
           "lon": [
            77.1734
           ],
           "marker": {
            "color": "#FF97FF",
            "size": [
             12.04
            ],
            "sizemode": "area",
            "sizeref": 0.189625,
            "symbol": "circle"
           },
           "mode": "markers",
           "name": "Himachal Pradesh",
           "showlegend": true,
           "type": "scattergeo"
          },
          {
           "geo": "geo",
           "hovertemplate": "<b>%{hovertext}</b><br><br>state=Jammu & Kashmir<br>month=Sep<br>estimated unemployment rate=%{marker.size}<br>longitude=%{lat}<br>latitude=%{lon}<extra></extra>",
           "hovertext": [
            "Jammu & Kashmir"
           ],
           "lat": [
            33.7782
           ],
           "legendgroup": "Jammu & Kashmir",
           "lon": [
            76.5762
           ],
           "marker": {
            "color": "#FECB52",
            "size": [
             16.17
            ],
            "sizemode": "area",
            "sizeref": 0.189625,
            "symbol": "circle"
           },
           "mode": "markers",
           "name": "Jammu & Kashmir",
           "showlegend": true,
           "type": "scattergeo"
          },
          {
           "geo": "geo",
           "hovertemplate": "<b>%{hovertext}</b><br><br>state=Jharkhand<br>month=Sep<br>estimated unemployment rate=%{marker.size}<br>longitude=%{lat}<br>latitude=%{lon}<extra></extra>",
           "hovertext": [
            "Jharkhand"
           ],
           "lat": [
            23.6102
           ],
           "legendgroup": "Jharkhand",
           "lon": [
            85.2799
           ],
           "marker": {
            "color": "#636efa",
            "size": [
             8.24
            ],
            "sizemode": "area",
            "sizeref": 0.189625,
            "symbol": "circle"
           },
           "mode": "markers",
           "name": "Jharkhand",
           "showlegend": true,
           "type": "scattergeo"
          },
          {
           "geo": "geo",
           "hovertemplate": "<b>%{hovertext}</b><br><br>state=Karnataka<br>month=Sep<br>estimated unemployment rate=%{marker.size}<br>longitude=%{lat}<br>latitude=%{lon}<extra></extra>",
           "hovertext": [
            "Karnataka"
           ],
           "lat": [
            15.3173
           ],
           "legendgroup": "Karnataka",
           "lon": [
            75.7139
           ],
           "marker": {
            "color": "#EF553B",
            "size": [
             2.41
            ],
            "sizemode": "area",
            "sizeref": 0.189625,
            "symbol": "circle"
           },
           "mode": "markers",
           "name": "Karnataka",
           "showlegend": true,
           "type": "scattergeo"
          },
          {
           "geo": "geo",
           "hovertemplate": "<b>%{hovertext}</b><br><br>state=Kerala<br>month=Sep<br>estimated unemployment rate=%{marker.size}<br>longitude=%{lat}<br>latitude=%{lon}<extra></extra>",
           "hovertext": [
            "Kerala"
           ],
           "lat": [
            10.8505
           ],
           "legendgroup": "Kerala",
           "lon": [
            76.2711
           ],
           "marker": {
            "color": "#00cc96",
            "size": [
             5.91
            ],
            "sizemode": "area",
            "sizeref": 0.189625,
            "symbol": "circle"
           },
           "mode": "markers",
           "name": "Kerala",
           "showlegend": true,
           "type": "scattergeo"
          },
          {
           "geo": "geo",
           "hovertemplate": "<b>%{hovertext}</b><br><br>state=Madhya Pradesh<br>month=Sep<br>estimated unemployment rate=%{marker.size}<br>longitude=%{lat}<br>latitude=%{lon}<extra></extra>",
           "hovertext": [
            "Madhya Pradesh"
           ],
           "lat": [
            22.9734
           ],
           "legendgroup": "Madhya Pradesh",
           "lon": [
            78.6569
           ],
           "marker": {
            "color": "#ab63fa",
            "size": [
             3.91
            ],
            "sizemode": "area",
            "sizeref": 0.189625,
            "symbol": "circle"
           },
           "mode": "markers",
           "name": "Madhya Pradesh",
           "showlegend": true,
           "type": "scattergeo"
          },
          {
           "geo": "geo",
           "hovertemplate": "<b>%{hovertext}</b><br><br>state=Maharashtra<br>month=Sep<br>estimated unemployment rate=%{marker.size}<br>longitude=%{lat}<br>latitude=%{lon}<extra></extra>",
           "hovertext": [
            "Maharashtra"
           ],
           "lat": [
            19.7515
           ],
           "legendgroup": "Maharashtra",
           "lon": [
            75.7139
           ],
           "marker": {
            "color": "#FFA15A",
            "size": [
             4.55
            ],
            "sizemode": "area",
            "sizeref": 0.189625,
            "symbol": "circle"
           },
           "mode": "markers",
           "name": "Maharashtra",
           "showlegend": true,
           "type": "scattergeo"
          },
          {
           "geo": "geo",
           "hovertemplate": "<b>%{hovertext}</b><br><br>state=Meghalaya<br>month=Sep<br>estimated unemployment rate=%{marker.size}<br>longitude=%{lat}<br>latitude=%{lon}<extra></extra>",
           "hovertext": [
            "Meghalaya"
           ],
           "lat": [
            25.467
           ],
           "legendgroup": "Meghalaya",
           "lon": [
            91.3662
           ],
           "marker": {
            "color": "#19d3f3",
            "size": [
             4.29
            ],
            "sizemode": "area",
            "sizeref": 0.189625,
            "symbol": "circle"
           },
           "mode": "markers",
           "name": "Meghalaya",
           "showlegend": true,
           "type": "scattergeo"
          },
          {
           "geo": "geo",
           "hovertemplate": "<b>%{hovertext}</b><br><br>state=Odisha<br>month=Sep<br>estimated unemployment rate=%{marker.size}<br>longitude=%{lat}<br>latitude=%{lon}<extra></extra>",
           "hovertext": [
            "Odisha"
           ],
           "lat": [
            20.9517
           ],
           "legendgroup": "Odisha",
           "lon": [
            85.0985
           ],
           "marker": {
            "color": "#FF6692",
            "size": [
             2.1
            ],
            "sizemode": "area",
            "sizeref": 0.189625,
            "symbol": "circle"
           },
           "mode": "markers",
           "name": "Odisha",
           "showlegend": true,
           "type": "scattergeo"
          },
          {
           "geo": "geo",
           "hovertemplate": "<b>%{hovertext}</b><br><br>state=Puducherry<br>month=Sep<br>estimated unemployment rate=%{marker.size}<br>longitude=%{lat}<br>latitude=%{lon}<extra></extra>",
           "hovertext": [
            "Puducherry"
           ],
           "lat": [
            11.9416
           ],
           "legendgroup": "Puducherry",
           "lon": [
            79.8083
           ],
           "marker": {
            "color": "#B6E880",
            "size": [
             10.9
            ],
            "sizemode": "area",
            "sizeref": 0.189625,
            "symbol": "circle"
           },
           "mode": "markers",
           "name": "Puducherry",
           "showlegend": true,
           "type": "scattergeo"
          },
          {
           "geo": "geo",
           "hovertemplate": "<b>%{hovertext}</b><br><br>state=Punjab<br>month=Sep<br>estimated unemployment rate=%{marker.size}<br>longitude=%{lat}<br>latitude=%{lon}<extra></extra>",
           "hovertext": [
            "Punjab"
           ],
           "lat": [
            31.1471
           ],
           "legendgroup": "Punjab",
           "lon": [
            75.3412
           ],
           "marker": {
            "color": "#FF97FF",
            "size": [
             9.61
            ],
            "sizemode": "area",
            "sizeref": 0.189625,
            "symbol": "circle"
           },
           "mode": "markers",
           "name": "Punjab",
           "showlegend": true,
           "type": "scattergeo"
          },
          {
           "geo": "geo",
           "hovertemplate": "<b>%{hovertext}</b><br><br>state=Rajasthan<br>month=Sep<br>estimated unemployment rate=%{marker.size}<br>longitude=%{lat}<br>latitude=%{lon}<extra></extra>",
           "hovertext": [
            "Rajasthan"
           ],
           "lat": [
            27.0238
           ],
           "legendgroup": "Rajasthan",
           "lon": [
            74.2179
           ],
           "marker": {
            "color": "#FECB52",
            "size": [
             15.35
            ],
            "sizemode": "area",
            "sizeref": 0.189625,
            "symbol": "circle"
           },
           "mode": "markers",
           "name": "Rajasthan",
           "showlegend": true,
           "type": "scattergeo"
          },
          {
           "geo": "geo",
           "hovertemplate": "<b>%{hovertext}</b><br><br>state=Sikkim<br>month=Sep<br>estimated unemployment rate=%{marker.size}<br>longitude=%{lat}<br>latitude=%{lon}<extra></extra>",
           "hovertext": [
            "Sikkim"
           ],
           "lat": [
            27.533
           ],
           "legendgroup": "Sikkim",
           "lon": [
            88.5122
           ],
           "marker": {
            "color": "#636efa",
            "size": [
             5.7
            ],
            "sizemode": "area",
            "sizeref": 0.189625,
            "symbol": "circle"
           },
           "mode": "markers",
           "name": "Sikkim",
           "showlegend": true,
           "type": "scattergeo"
          },
          {
           "geo": "geo",
           "hovertemplate": "<b>%{hovertext}</b><br><br>state=Tamil Nadu<br>month=Sep<br>estimated unemployment rate=%{marker.size}<br>longitude=%{lat}<br>latitude=%{lon}<extra></extra>",
           "hovertext": [
            "Tamil Nadu"
           ],
           "lat": [
            11.1271
           ],
           "legendgroup": "Tamil Nadu",
           "lon": [
            78.6569
           ],
           "marker": {
            "color": "#EF553B",
            "size": [
             5
            ],
            "sizemode": "area",
            "sizeref": 0.189625,
            "symbol": "circle"
           },
           "mode": "markers",
           "name": "Tamil Nadu",
           "showlegend": true,
           "type": "scattergeo"
          },
          {
           "geo": "geo",
           "hovertemplate": "<b>%{hovertext}</b><br><br>state=Telangana<br>month=Sep<br>estimated unemployment rate=%{marker.size}<br>longitude=%{lat}<br>latitude=%{lon}<extra></extra>",
           "hovertext": [
            "Telangana"
           ],
           "lat": [
            18.1124
           ],
           "legendgroup": "Telangana",
           "lon": [
            79.0193
           ],
           "marker": {
            "color": "#00cc96",
            "size": [
             3.27
            ],
            "sizemode": "area",
            "sizeref": 0.189625,
            "symbol": "circle"
           },
           "mode": "markers",
           "name": "Telangana",
           "showlegend": true,
           "type": "scattergeo"
          },
          {
           "geo": "geo",
           "hovertemplate": "<b>%{hovertext}</b><br><br>state=Tripura<br>month=Sep<br>estimated unemployment rate=%{marker.size}<br>longitude=%{lat}<br>latitude=%{lon}<extra></extra>",
           "hovertext": [
            "Tripura"
           ],
           "lat": [
            23.9408
           ],
           "legendgroup": "Tripura",
           "lon": [
            91.9882
           ],
           "marker": {
            "color": "#ab63fa",
            "size": [
             17.35
            ],
            "sizemode": "area",
            "sizeref": 0.189625,
            "symbol": "circle"
           },
           "mode": "markers",
           "name": "Tripura",
           "showlegend": true,
           "type": "scattergeo"
          },
          {
           "geo": "geo",
           "hovertemplate": "<b>%{hovertext}</b><br><br>state=Uttar Pradesh<br>month=Sep<br>estimated unemployment rate=%{marker.size}<br>longitude=%{lat}<br>latitude=%{lon}<extra></extra>",
           "hovertext": [
            "Uttar Pradesh"
           ],
           "lat": [
            26.8467
           ],
           "legendgroup": "Uttar Pradesh",
           "lon": [
            80.9462
           ],
           "marker": {
            "color": "#FFA15A",
            "size": [
             4.18
            ],
            "sizemode": "area",
            "sizeref": 0.189625,
            "symbol": "circle"
           },
           "mode": "markers",
           "name": "Uttar Pradesh",
           "showlegend": true,
           "type": "scattergeo"
          },
          {
           "geo": "geo",
           "hovertemplate": "<b>%{hovertext}</b><br><br>state=Uttarakhand<br>month=Sep<br>estimated unemployment rate=%{marker.size}<br>longitude=%{lat}<br>latitude=%{lon}<extra></extra>",
           "hovertext": [
            "Uttarakhand"
           ],
           "lat": [
            30.0668
           ],
           "legendgroup": "Uttarakhand",
           "lon": [
            79.0193
           ],
           "marker": {
            "color": "#19d3f3",
            "size": [
             22.26
            ],
            "sizemode": "area",
            "sizeref": 0.189625,
            "symbol": "circle"
           },
           "mode": "markers",
           "name": "Uttarakhand",
           "showlegend": true,
           "type": "scattergeo"
          },
          {
           "geo": "geo",
           "hovertemplate": "<b>%{hovertext}</b><br><br>state=West Bengal<br>month=Sep<br>estimated unemployment rate=%{marker.size}<br>longitude=%{lat}<br>latitude=%{lon}<extra></extra>",
           "hovertext": [
            "West Bengal"
           ],
           "lat": [
            22.9868
           ],
           "legendgroup": "West Bengal",
           "lon": [
            87.855
           ],
           "marker": {
            "color": "#FF6692",
            "size": [
             9.35
            ],
            "sizemode": "area",
            "sizeref": 0.189625,
            "symbol": "circle"
           },
           "mode": "markers",
           "name": "West Bengal",
           "showlegend": true,
           "type": "scattergeo"
          }
         ],
         "name": "Sep"
        },
        {
         "data": [
          {
           "geo": "geo",
           "hovertemplate": "<b>%{hovertext}</b><br><br>state=Andhra Pradesh<br>month=Oct<br>estimated unemployment rate=%{marker.size}<br>longitude=%{lat}<br>latitude=%{lon}<extra></extra>",
           "hovertext": [
            "Andhra Pradesh"
           ],
           "lat": [
            15.9129
           ],
           "legendgroup": "Andhra Pradesh",
           "lon": [
            79.74
           ],
           "marker": {
            "color": "#636efa",
            "size": [
             6.59
            ],
            "sizemode": "area",
            "sizeref": 0.189625,
            "symbol": "circle"
           },
           "mode": "markers",
           "name": "Andhra Pradesh",
           "showlegend": true,
           "type": "scattergeo"
          },
          {
           "geo": "geo",
           "hovertemplate": "<b>%{hovertext}</b><br><br>state=Assam<br>month=Oct<br>estimated unemployment rate=%{marker.size}<br>longitude=%{lat}<br>latitude=%{lon}<extra></extra>",
           "hovertext": [
            "Assam"
           ],
           "lat": [
            26.2006
           ],
           "legendgroup": "Assam",
           "lon": [
            92.9376
           ],
           "marker": {
            "color": "#EF553B",
            "size": [
             3.02
            ],
            "sizemode": "area",
            "sizeref": 0.189625,
            "symbol": "circle"
           },
           "mode": "markers",
           "name": "Assam",
           "showlegend": true,
           "type": "scattergeo"
          },
          {
           "geo": "geo",
           "hovertemplate": "<b>%{hovertext}</b><br><br>state=Bihar<br>month=Oct<br>estimated unemployment rate=%{marker.size}<br>longitude=%{lat}<br>latitude=%{lon}<extra></extra>",
           "hovertext": [
            "Bihar"
           ],
           "lat": [
            25.0961
           ],
           "legendgroup": "Bihar",
           "lon": [
            85.3131
           ],
           "marker": {
            "color": "#00cc96",
            "size": [
             9.82
            ],
            "sizemode": "area",
            "sizeref": 0.189625,
            "symbol": "circle"
           },
           "mode": "markers",
           "name": "Bihar",
           "showlegend": true,
           "type": "scattergeo"
          },
          {
           "geo": "geo",
           "hovertemplate": "<b>%{hovertext}</b><br><br>state=Chhattisgarh<br>month=Oct<br>estimated unemployment rate=%{marker.size}<br>longitude=%{lat}<br>latitude=%{lon}<extra></extra>",
           "hovertext": [
            "Chhattisgarh"
           ],
           "lat": [
            21.2787
           ],
           "legendgroup": "Chhattisgarh",
           "lon": [
            81.8661
           ],
           "marker": {
            "color": "#ab63fa",
            "size": [
             6.62
            ],
            "sizemode": "area",
            "sizeref": 0.189625,
            "symbol": "circle"
           },
           "mode": "markers",
           "name": "Chhattisgarh",
           "showlegend": true,
           "type": "scattergeo"
          },
          {
           "geo": "geo",
           "hovertemplate": "<b>%{hovertext}</b><br><br>state=Delhi<br>month=Oct<br>estimated unemployment rate=%{marker.size}<br>longitude=%{lat}<br>latitude=%{lon}<extra></extra>",
           "hovertext": [
            "Delhi"
           ],
           "lat": [
            28.7041
           ],
           "legendgroup": "Delhi",
           "lon": [
            77.1025
           ],
           "marker": {
            "color": "#FFA15A",
            "size": [
             6.27
            ],
            "sizemode": "area",
            "sizeref": 0.189625,
            "symbol": "circle"
           },
           "mode": "markers",
           "name": "Delhi",
           "showlegend": true,
           "type": "scattergeo"
          },
          {
           "geo": "geo",
           "hovertemplate": "<b>%{hovertext}</b><br><br>state=Goa<br>month=Oct<br>estimated unemployment rate=%{marker.size}<br>longitude=%{lat}<br>latitude=%{lon}<extra></extra>",
           "hovertext": [
            "Goa"
           ],
           "lat": [
            15.2993
           ],
           "legendgroup": "Goa",
           "lon": [
            74.124
           ],
           "marker": {
            "color": "#19d3f3",
            "size": [
             11.54
            ],
            "sizemode": "area",
            "sizeref": 0.189625,
            "symbol": "circle"
           },
           "mode": "markers",
           "name": "Goa",
           "showlegend": true,
           "type": "scattergeo"
          },
          {
           "geo": "geo",
           "hovertemplate": "<b>%{hovertext}</b><br><br>state=Gujarat<br>month=Oct<br>estimated unemployment rate=%{marker.size}<br>longitude=%{lat}<br>latitude=%{lon}<extra></extra>",
           "hovertext": [
            "Gujarat"
           ],
           "lat": [
            22.2587
           ],
           "legendgroup": "Gujarat",
           "lon": [
            71.1924
           ],
           "marker": {
            "color": "#FF6692",
            "size": [
             4.03
            ],
            "sizemode": "area",
            "sizeref": 0.189625,
            "symbol": "circle"
           },
           "mode": "markers",
           "name": "Gujarat",
           "showlegend": true,
           "type": "scattergeo"
          },
          {
           "geo": "geo",
           "hovertemplate": "<b>%{hovertext}</b><br><br>state=Haryana<br>month=Oct<br>estimated unemployment rate=%{marker.size}<br>longitude=%{lat}<br>latitude=%{lon}<extra></extra>",
           "hovertext": [
            "Haryana"
           ],
           "lat": [
            29.0588
           ],
           "legendgroup": "Haryana",
           "lon": [
            76.0856
           ],
           "marker": {
            "color": "#B6E880",
            "size": [
             27.31
            ],
            "sizemode": "area",
            "sizeref": 0.189625,
            "symbol": "circle"
           },
           "mode": "markers",
           "name": "Haryana",
           "showlegend": true,
           "type": "scattergeo"
          },
          {
           "geo": "geo",
           "hovertemplate": "<b>%{hovertext}</b><br><br>state=Himachal Pradesh<br>month=Oct<br>estimated unemployment rate=%{marker.size}<br>longitude=%{lat}<br>latitude=%{lon}<extra></extra>",
           "hovertext": [
            "Himachal Pradesh"
           ],
           "lat": [
            31.1048
           ],
           "legendgroup": "Himachal Pradesh",
           "lon": [
            77.1734
           ],
           "marker": {
            "color": "#FF97FF",
            "size": [
             13.46
            ],
            "sizemode": "area",
            "sizeref": 0.189625,
            "symbol": "circle"
           },
           "mode": "markers",
           "name": "Himachal Pradesh",
           "showlegend": true,
           "type": "scattergeo"
          },
          {
           "geo": "geo",
           "hovertemplate": "<b>%{hovertext}</b><br><br>state=Jammu & Kashmir<br>month=Oct<br>estimated unemployment rate=%{marker.size}<br>longitude=%{lat}<br>latitude=%{lon}<extra></extra>",
           "hovertext": [
            "Jammu & Kashmir"
           ],
           "lat": [
            33.7782
           ],
           "legendgroup": "Jammu & Kashmir",
           "lon": [
            76.5762
           ],
           "marker": {
            "color": "#FECB52",
            "size": [
             16.14
            ],
            "sizemode": "area",
            "sizeref": 0.189625,
            "symbol": "circle"
           },
           "mode": "markers",
           "name": "Jammu & Kashmir",
           "showlegend": true,
           "type": "scattergeo"
          },
          {
           "geo": "geo",
           "hovertemplate": "<b>%{hovertext}</b><br><br>state=Jharkhand<br>month=Oct<br>estimated unemployment rate=%{marker.size}<br>longitude=%{lat}<br>latitude=%{lon}<extra></extra>",
           "hovertext": [
            "Jharkhand"
           ],
           "lat": [
            23.6102
           ],
           "legendgroup": "Jharkhand",
           "lon": [
            85.2799
           ],
           "marker": {
            "color": "#636efa",
            "size": [
             11.8
            ],
            "sizemode": "area",
            "sizeref": 0.189625,
            "symbol": "circle"
           },
           "mode": "markers",
           "name": "Jharkhand",
           "showlegend": true,
           "type": "scattergeo"
          },
          {
           "geo": "geo",
           "hovertemplate": "<b>%{hovertext}</b><br><br>state=Karnataka<br>month=Oct<br>estimated unemployment rate=%{marker.size}<br>longitude=%{lat}<br>latitude=%{lon}<extra></extra>",
           "hovertext": [
            "Karnataka"
           ],
           "lat": [
            15.3173
           ],
           "legendgroup": "Karnataka",
           "lon": [
            75.7139
           ],
           "marker": {
            "color": "#EF553B",
            "size": [
             1.58
            ],
            "sizemode": "area",
            "sizeref": 0.189625,
            "symbol": "circle"
           },
           "mode": "markers",
           "name": "Karnataka",
           "showlegend": true,
           "type": "scattergeo"
          },
          {
           "geo": "geo",
           "hovertemplate": "<b>%{hovertext}</b><br><br>state=Kerala<br>month=Oct<br>estimated unemployment rate=%{marker.size}<br>longitude=%{lat}<br>latitude=%{lon}<extra></extra>",
           "hovertext": [
            "Kerala"
           ],
           "lat": [
            10.8505
           ],
           "legendgroup": "Kerala",
           "lon": [
            76.2711
           ],
           "marker": {
            "color": "#00cc96",
            "size": [
             3.88
            ],
            "sizemode": "area",
            "sizeref": 0.189625,
            "symbol": "circle"
           },
           "mode": "markers",
           "name": "Kerala",
           "showlegend": true,
           "type": "scattergeo"
          },
          {
           "geo": "geo",
           "hovertemplate": "<b>%{hovertext}</b><br><br>state=Madhya Pradesh<br>month=Oct<br>estimated unemployment rate=%{marker.size}<br>longitude=%{lat}<br>latitude=%{lon}<extra></extra>",
           "hovertext": [
            "Madhya Pradesh"
           ],
           "lat": [
            22.9734
           ],
           "legendgroup": "Madhya Pradesh",
           "lon": [
            78.6569
           ],
           "marker": {
            "color": "#ab63fa",
            "size": [
             3.13
            ],
            "sizemode": "area",
            "sizeref": 0.189625,
            "symbol": "circle"
           },
           "mode": "markers",
           "name": "Madhya Pradesh",
           "showlegend": true,
           "type": "scattergeo"
          },
          {
           "geo": "geo",
           "hovertemplate": "<b>%{hovertext}</b><br><br>state=Maharashtra<br>month=Oct<br>estimated unemployment rate=%{marker.size}<br>longitude=%{lat}<br>latitude=%{lon}<extra></extra>",
           "hovertext": [
            "Maharashtra"
           ],
           "lat": [
            19.7515
           ],
           "legendgroup": "Maharashtra",
           "lon": [
            75.7139
           ],
           "marker": {
            "color": "#FFA15A",
            "size": [
             4.1
            ],
            "sizemode": "area",
            "sizeref": 0.189625,
            "symbol": "circle"
           },
           "mode": "markers",
           "name": "Maharashtra",
           "showlegend": true,
           "type": "scattergeo"
          },
          {
           "geo": "geo",
           "hovertemplate": "<b>%{hovertext}</b><br><br>state=Meghalaya<br>month=Oct<br>estimated unemployment rate=%{marker.size}<br>longitude=%{lat}<br>latitude=%{lon}<extra></extra>",
           "hovertext": [
            "Meghalaya"
           ],
           "lat": [
            25.467
           ],
           "legendgroup": "Meghalaya",
           "lon": [
            91.3662
           ],
           "marker": {
            "color": "#19d3f3",
            "size": [
             4.6
            ],
            "sizemode": "area",
            "sizeref": 0.189625,
            "symbol": "circle"
           },
           "mode": "markers",
           "name": "Meghalaya",
           "showlegend": true,
           "type": "scattergeo"
          },
          {
           "geo": "geo",
           "hovertemplate": "<b>%{hovertext}</b><br><br>state=Odisha<br>month=Oct<br>estimated unemployment rate=%{marker.size}<br>longitude=%{lat}<br>latitude=%{lon}<extra></extra>",
           "hovertext": [
            "Odisha"
           ],
           "lat": [
            20.9517
           ],
           "legendgroup": "Odisha",
           "lon": [
            85.0985
           ],
           "marker": {
            "color": "#FF6692",
            "size": [
             2.18
            ],
            "sizemode": "area",
            "sizeref": 0.189625,
            "symbol": "circle"
           },
           "mode": "markers",
           "name": "Odisha",
           "showlegend": true,
           "type": "scattergeo"
          },
          {
           "geo": "geo",
           "hovertemplate": "<b>%{hovertext}</b><br><br>state=Puducherry<br>month=Oct<br>estimated unemployment rate=%{marker.size}<br>longitude=%{lat}<br>latitude=%{lon}<extra></extra>",
           "hovertext": [
            "Puducherry"
           ],
           "lat": [
            11.9416
           ],
           "legendgroup": "Puducherry",
           "lon": [
            79.8083
           ],
           "marker": {
            "color": "#B6E880",
            "size": [
             6.18
            ],
            "sizemode": "area",
            "sizeref": 0.189625,
            "symbol": "circle"
           },
           "mode": "markers",
           "name": "Puducherry",
           "showlegend": true,
           "type": "scattergeo"
          },
          {
           "geo": "geo",
           "hovertemplate": "<b>%{hovertext}</b><br><br>state=Punjab<br>month=Oct<br>estimated unemployment rate=%{marker.size}<br>longitude=%{lat}<br>latitude=%{lon}<extra></extra>",
           "hovertext": [
            "Punjab"
           ],
           "lat": [
            31.1471
           ],
           "legendgroup": "Punjab",
           "lon": [
            75.3412
           ],
           "marker": {
            "color": "#FF97FF",
            "size": [
             9.88
            ],
            "sizemode": "area",
            "sizeref": 0.189625,
            "symbol": "circle"
           },
           "mode": "markers",
           "name": "Punjab",
           "showlegend": true,
           "type": "scattergeo"
          },
          {
           "geo": "geo",
           "hovertemplate": "<b>%{hovertext}</b><br><br>state=Rajasthan<br>month=Oct<br>estimated unemployment rate=%{marker.size}<br>longitude=%{lat}<br>latitude=%{lon}<extra></extra>",
           "hovertext": [
            "Rajasthan"
           ],
           "lat": [
            27.0238
           ],
           "legendgroup": "Rajasthan",
           "lon": [
            74.2179
           ],
           "marker": {
            "color": "#FECB52",
            "size": [
             24.15
            ],
            "sizemode": "area",
            "sizeref": 0.189625,
            "symbol": "circle"
           },
           "mode": "markers",
           "name": "Rajasthan",
           "showlegend": true,
           "type": "scattergeo"
          },
          {
           "geo": "geo",
           "hovertemplate": "<b>%{hovertext}</b><br><br>state=Sikkim<br>month=Oct<br>estimated unemployment rate=%{marker.size}<br>longitude=%{lat}<br>latitude=%{lon}<extra></extra>",
           "hovertext": [
            "Sikkim"
           ],
           "lat": [
            27.533
           ],
           "legendgroup": "Sikkim",
           "lon": [
            88.5122
           ],
           "marker": {
            "color": "#636efa",
            "size": [
             0.88
            ],
            "sizemode": "area",
            "sizeref": 0.189625,
            "symbol": "circle"
           },
           "mode": "markers",
           "name": "Sikkim",
           "showlegend": true,
           "type": "scattergeo"
          },
          {
           "geo": "geo",
           "hovertemplate": "<b>%{hovertext}</b><br><br>state=Tamil Nadu<br>month=Oct<br>estimated unemployment rate=%{marker.size}<br>longitude=%{lat}<br>latitude=%{lon}<extra></extra>",
           "hovertext": [
            "Tamil Nadu"
           ],
           "lat": [
            11.1271
           ],
           "legendgroup": "Tamil Nadu",
           "lon": [
            78.6569
           ],
           "marker": {
            "color": "#EF553B",
            "size": [
             2.16
            ],
            "sizemode": "area",
            "sizeref": 0.189625,
            "symbol": "circle"
           },
           "mode": "markers",
           "name": "Tamil Nadu",
           "showlegend": true,
           "type": "scattergeo"
          },
          {
           "geo": "geo",
           "hovertemplate": "<b>%{hovertext}</b><br><br>state=Telangana<br>month=Oct<br>estimated unemployment rate=%{marker.size}<br>longitude=%{lat}<br>latitude=%{lon}<extra></extra>",
           "hovertext": [
            "Telangana"
           ],
           "lat": [
            18.1124
           ],
           "legendgroup": "Telangana",
           "lon": [
            79.0193
           ],
           "marker": {
            "color": "#00cc96",
            "size": [
             2.86
            ],
            "sizemode": "area",
            "sizeref": 0.189625,
            "symbol": "circle"
           },
           "mode": "markers",
           "name": "Telangana",
           "showlegend": true,
           "type": "scattergeo"
          },
          {
           "geo": "geo",
           "hovertemplate": "<b>%{hovertext}</b><br><br>state=Tripura<br>month=Oct<br>estimated unemployment rate=%{marker.size}<br>longitude=%{lat}<br>latitude=%{lon}<extra></extra>",
           "hovertext": [
            "Tripura"
           ],
           "lat": [
            23.9408
           ],
           "legendgroup": "Tripura",
           "lon": [
            91.9882
           ],
           "marker": {
            "color": "#ab63fa",
            "size": [
             11.57
            ],
            "sizemode": "area",
            "sizeref": 0.189625,
            "symbol": "circle"
           },
           "mode": "markers",
           "name": "Tripura",
           "showlegend": true,
           "type": "scattergeo"
          },
          {
           "geo": "geo",
           "hovertemplate": "<b>%{hovertext}</b><br><br>state=Uttar Pradesh<br>month=Oct<br>estimated unemployment rate=%{marker.size}<br>longitude=%{lat}<br>latitude=%{lon}<extra></extra>",
           "hovertext": [
            "Uttar Pradesh"
           ],
           "lat": [
            26.8467
           ],
           "legendgroup": "Uttar Pradesh",
           "lon": [
            80.9462
           ],
           "marker": {
            "color": "#FFA15A",
            "size": [
             3.75
            ],
            "sizemode": "area",
            "sizeref": 0.189625,
            "symbol": "circle"
           },
           "mode": "markers",
           "name": "Uttar Pradesh",
           "showlegend": true,
           "type": "scattergeo"
          },
          {
           "geo": "geo",
           "hovertemplate": "<b>%{hovertext}</b><br><br>state=Uttarakhand<br>month=Oct<br>estimated unemployment rate=%{marker.size}<br>longitude=%{lat}<br>latitude=%{lon}<extra></extra>",
           "hovertext": [
            "Uttarakhand"
           ],
           "lat": [
            30.0668
           ],
           "legendgroup": "Uttarakhand",
           "lon": [
            79.0193
           ],
           "marker": {
            "color": "#19d3f3",
            "size": [
             9.23
            ],
            "sizemode": "area",
            "sizeref": 0.189625,
            "symbol": "circle"
           },
           "mode": "markers",
           "name": "Uttarakhand",
           "showlegend": true,
           "type": "scattergeo"
          },
          {
           "geo": "geo",
           "hovertemplate": "<b>%{hovertext}</b><br><br>state=West Bengal<br>month=Oct<br>estimated unemployment rate=%{marker.size}<br>longitude=%{lat}<br>latitude=%{lon}<extra></extra>",
           "hovertext": [
            "West Bengal"
           ],
           "lat": [
            22.9868
           ],
           "legendgroup": "West Bengal",
           "lon": [
            87.855
           ],
           "marker": {
            "color": "#FF6692",
            "size": [
             9.98
            ],
            "sizemode": "area",
            "sizeref": 0.189625,
            "symbol": "circle"
           },
           "mode": "markers",
           "name": "West Bengal",
           "showlegend": true,
           "type": "scattergeo"
          }
         ],
         "name": "Oct"
        }
       ],
       "layout": {
        "geo": {
         "center": {},
         "domain": {
          "x": [
           0,
           1
          ],
          "y": [
           0,
           1
          ]
         },
         "lataxis": {
          "range": [
           5,
           40
          ]
         },
         "lonaxis": {
          "range": [
           65,
           100
          ]
         },
         "oceancolor": "lightblue",
         "scope": "asia",
         "showocean": true
        },
        "legend": {
         "itemsizing": "constant",
         "title": {
          "text": "state"
         },
         "tracegroupgap": 0
        },
        "sliders": [
         {
          "active": 0,
          "currentvalue": {
           "prefix": "month="
          },
          "len": 0.9,
          "pad": {
           "b": 10,
           "t": 60
          },
          "steps": [
           {
            "args": [
             [
              "Jan"
             ],
             {
              "frame": {
               "duration": 0,
               "redraw": true
              },
              "fromcurrent": true,
              "mode": "immediate",
              "transition": {
               "duration": 0,
               "easing": "linear"
              }
             }
            ],
            "label": "Jan",
            "method": "animate"
           },
           {
            "args": [
             [
              "Feb"
             ],
             {
              "frame": {
               "duration": 0,
               "redraw": true
              },
              "fromcurrent": true,
              "mode": "immediate",
              "transition": {
               "duration": 0,
               "easing": "linear"
              }
             }
            ],
            "label": "Feb",
            "method": "animate"
           },
           {
            "args": [
             [
              "Mar"
             ],
             {
              "frame": {
               "duration": 0,
               "redraw": true
              },
              "fromcurrent": true,
              "mode": "immediate",
              "transition": {
               "duration": 0,
               "easing": "linear"
              }
             }
            ],
            "label": "Mar",
            "method": "animate"
           },
           {
            "args": [
             [
              "Apr"
             ],
             {
              "frame": {
               "duration": 0,
               "redraw": true
              },
              "fromcurrent": true,
              "mode": "immediate",
              "transition": {
               "duration": 0,
               "easing": "linear"
              }
             }
            ],
            "label": "Apr",
            "method": "animate"
           },
           {
            "args": [
             [
              "May"
             ],
             {
              "frame": {
               "duration": 0,
               "redraw": true
              },
              "fromcurrent": true,
              "mode": "immediate",
              "transition": {
               "duration": 0,
               "easing": "linear"
              }
             }
            ],
            "label": "May",
            "method": "animate"
           },
           {
            "args": [
             [
              "Jun"
             ],
             {
              "frame": {
               "duration": 0,
               "redraw": true
              },
              "fromcurrent": true,
              "mode": "immediate",
              "transition": {
               "duration": 0,
               "easing": "linear"
              }
             }
            ],
            "label": "Jun",
            "method": "animate"
           },
           {
            "args": [
             [
              "Jul"
             ],
             {
              "frame": {
               "duration": 0,
               "redraw": true
              },
              "fromcurrent": true,
              "mode": "immediate",
              "transition": {
               "duration": 0,
               "easing": "linear"
              }
             }
            ],
            "label": "Jul",
            "method": "animate"
           },
           {
            "args": [
             [
              "Aug"
             ],
             {
              "frame": {
               "duration": 0,
               "redraw": true
              },
              "fromcurrent": true,
              "mode": "immediate",
              "transition": {
               "duration": 0,
               "easing": "linear"
              }
             }
            ],
            "label": "Aug",
            "method": "animate"
           },
           {
            "args": [
             [
              "Sep"
             ],
             {
              "frame": {
               "duration": 0,
               "redraw": true
              },
              "fromcurrent": true,
              "mode": "immediate",
              "transition": {
               "duration": 0,
               "easing": "linear"
              }
             }
            ],
            "label": "Sep",
            "method": "animate"
           },
           {
            "args": [
             [
              "Oct"
             ],
             {
              "frame": {
               "duration": 0,
               "redraw": true
              },
              "fromcurrent": true,
              "mode": "immediate",
              "transition": {
               "duration": 0,
               "easing": "linear"
              }
             }
            ],
            "label": "Oct",
            "method": "animate"
           }
          ],
          "x": 0.1,
          "xanchor": "left",
          "y": 0,
          "yanchor": "top"
         }
        ],
        "template": {
         "data": {
          "bar": [
           {
            "error_x": {
             "color": "#2a3f5f"
            },
            "error_y": {
             "color": "#2a3f5f"
            },
            "marker": {
             "line": {
              "color": "#E5ECF6",
              "width": 0.5
             },
             "pattern": {
              "fillmode": "overlay",
              "size": 10,
              "solidity": 0.2
             }
            },
            "type": "bar"
           }
          ],
          "barpolar": [
           {
            "marker": {
             "line": {
              "color": "#E5ECF6",
              "width": 0.5
             },
             "pattern": {
              "fillmode": "overlay",
              "size": 10,
              "solidity": 0.2
             }
            },
            "type": "barpolar"
           }
          ],
          "carpet": [
           {
            "aaxis": {
             "endlinecolor": "#2a3f5f",
             "gridcolor": "white",
             "linecolor": "white",
             "minorgridcolor": "white",
             "startlinecolor": "#2a3f5f"
            },
            "baxis": {
             "endlinecolor": "#2a3f5f",
             "gridcolor": "white",
             "linecolor": "white",
             "minorgridcolor": "white",
             "startlinecolor": "#2a3f5f"
            },
            "type": "carpet"
           }
          ],
          "choropleth": [
           {
            "colorbar": {
             "outlinewidth": 0,
             "ticks": ""
            },
            "type": "choropleth"
           }
          ],
          "contour": [
           {
            "colorbar": {
             "outlinewidth": 0,
             "ticks": ""
            },
            "colorscale": [
             [
              0,
              "#0d0887"
             ],
             [
              0.1111111111111111,
              "#46039f"
             ],
             [
              0.2222222222222222,
              "#7201a8"
             ],
             [
              0.3333333333333333,
              "#9c179e"
             ],
             [
              0.4444444444444444,
              "#bd3786"
             ],
             [
              0.5555555555555556,
              "#d8576b"
             ],
             [
              0.6666666666666666,
              "#ed7953"
             ],
             [
              0.7777777777777778,
              "#fb9f3a"
             ],
             [
              0.8888888888888888,
              "#fdca26"
             ],
             [
              1,
              "#f0f921"
             ]
            ],
            "type": "contour"
           }
          ],
          "contourcarpet": [
           {
            "colorbar": {
             "outlinewidth": 0,
             "ticks": ""
            },
            "type": "contourcarpet"
           }
          ],
          "heatmap": [
           {
            "colorbar": {
             "outlinewidth": 0,
             "ticks": ""
            },
            "colorscale": [
             [
              0,
              "#0d0887"
             ],
             [
              0.1111111111111111,
              "#46039f"
             ],
             [
              0.2222222222222222,
              "#7201a8"
             ],
             [
              0.3333333333333333,
              "#9c179e"
             ],
             [
              0.4444444444444444,
              "#bd3786"
             ],
             [
              0.5555555555555556,
              "#d8576b"
             ],
             [
              0.6666666666666666,
              "#ed7953"
             ],
             [
              0.7777777777777778,
              "#fb9f3a"
             ],
             [
              0.8888888888888888,
              "#fdca26"
             ],
             [
              1,
              "#f0f921"
             ]
            ],
            "type": "heatmap"
           }
          ],
          "heatmapgl": [
           {
            "colorbar": {
             "outlinewidth": 0,
             "ticks": ""
            },
            "colorscale": [
             [
              0,
              "#0d0887"
             ],
             [
              0.1111111111111111,
              "#46039f"
             ],
             [
              0.2222222222222222,
              "#7201a8"
             ],
             [
              0.3333333333333333,
              "#9c179e"
             ],
             [
              0.4444444444444444,
              "#bd3786"
             ],
             [
              0.5555555555555556,
              "#d8576b"
             ],
             [
              0.6666666666666666,
              "#ed7953"
             ],
             [
              0.7777777777777778,
              "#fb9f3a"
             ],
             [
              0.8888888888888888,
              "#fdca26"
             ],
             [
              1,
              "#f0f921"
             ]
            ],
            "type": "heatmapgl"
           }
          ],
          "histogram": [
           {
            "marker": {
             "pattern": {
              "fillmode": "overlay",
              "size": 10,
              "solidity": 0.2
             }
            },
            "type": "histogram"
           }
          ],
          "histogram2d": [
           {
            "colorbar": {
             "outlinewidth": 0,
             "ticks": ""
            },
            "colorscale": [
             [
              0,
              "#0d0887"
             ],
             [
              0.1111111111111111,
              "#46039f"
             ],
             [
              0.2222222222222222,
              "#7201a8"
             ],
             [
              0.3333333333333333,
              "#9c179e"
             ],
             [
              0.4444444444444444,
              "#bd3786"
             ],
             [
              0.5555555555555556,
              "#d8576b"
             ],
             [
              0.6666666666666666,
              "#ed7953"
             ],
             [
              0.7777777777777778,
              "#fb9f3a"
             ],
             [
              0.8888888888888888,
              "#fdca26"
             ],
             [
              1,
              "#f0f921"
             ]
            ],
            "type": "histogram2d"
           }
          ],
          "histogram2dcontour": [
           {
            "colorbar": {
             "outlinewidth": 0,
             "ticks": ""
            },
            "colorscale": [
             [
              0,
              "#0d0887"
             ],
             [
              0.1111111111111111,
              "#46039f"
             ],
             [
              0.2222222222222222,
              "#7201a8"
             ],
             [
              0.3333333333333333,
              "#9c179e"
             ],
             [
              0.4444444444444444,
              "#bd3786"
             ],
             [
              0.5555555555555556,
              "#d8576b"
             ],
             [
              0.6666666666666666,
              "#ed7953"
             ],
             [
              0.7777777777777778,
              "#fb9f3a"
             ],
             [
              0.8888888888888888,
              "#fdca26"
             ],
             [
              1,
              "#f0f921"
             ]
            ],
            "type": "histogram2dcontour"
           }
          ],
          "mesh3d": [
           {
            "colorbar": {
             "outlinewidth": 0,
             "ticks": ""
            },
            "type": "mesh3d"
           }
          ],
          "parcoords": [
           {
            "line": {
             "colorbar": {
              "outlinewidth": 0,
              "ticks": ""
             }
            },
            "type": "parcoords"
           }
          ],
          "pie": [
           {
            "automargin": true,
            "type": "pie"
           }
          ],
          "scatter": [
           {
            "fillpattern": {
             "fillmode": "overlay",
             "size": 10,
             "solidity": 0.2
            },
            "type": "scatter"
           }
          ],
          "scatter3d": [
           {
            "line": {
             "colorbar": {
              "outlinewidth": 0,
              "ticks": ""
             }
            },
            "marker": {
             "colorbar": {
              "outlinewidth": 0,
              "ticks": ""
             }
            },
            "type": "scatter3d"
           }
          ],
          "scattercarpet": [
           {
            "marker": {
             "colorbar": {
              "outlinewidth": 0,
              "ticks": ""
             }
            },
            "type": "scattercarpet"
           }
          ],
          "scattergeo": [
           {
            "marker": {
             "colorbar": {
              "outlinewidth": 0,
              "ticks": ""
             }
            },
            "type": "scattergeo"
           }
          ],
          "scattergl": [
           {
            "marker": {
             "colorbar": {
              "outlinewidth": 0,
              "ticks": ""
             }
            },
            "type": "scattergl"
           }
          ],
          "scattermapbox": [
           {
            "marker": {
             "colorbar": {
              "outlinewidth": 0,
              "ticks": ""
             }
            },
            "type": "scattermapbox"
           }
          ],
          "scatterpolar": [
           {
            "marker": {
             "colorbar": {
              "outlinewidth": 0,
              "ticks": ""
             }
            },
            "type": "scatterpolar"
           }
          ],
          "scatterpolargl": [
           {
            "marker": {
             "colorbar": {
              "outlinewidth": 0,
              "ticks": ""
             }
            },
            "type": "scatterpolargl"
           }
          ],
          "scatterternary": [
           {
            "marker": {
             "colorbar": {
              "outlinewidth": 0,
              "ticks": ""
             }
            },
            "type": "scatterternary"
           }
          ],
          "surface": [
           {
            "colorbar": {
             "outlinewidth": 0,
             "ticks": ""
            },
            "colorscale": [
             [
              0,
              "#0d0887"
             ],
             [
              0.1111111111111111,
              "#46039f"
             ],
             [
              0.2222222222222222,
              "#7201a8"
             ],
             [
              0.3333333333333333,
              "#9c179e"
             ],
             [
              0.4444444444444444,
              "#bd3786"
             ],
             [
              0.5555555555555556,
              "#d8576b"
             ],
             [
              0.6666666666666666,
              "#ed7953"
             ],
             [
              0.7777777777777778,
              "#fb9f3a"
             ],
             [
              0.8888888888888888,
              "#fdca26"
             ],
             [
              1,
              "#f0f921"
             ]
            ],
            "type": "surface"
           }
          ],
          "table": [
           {
            "cells": {
             "fill": {
              "color": "#EBF0F8"
             },
             "line": {
              "color": "white"
             }
            },
            "header": {
             "fill": {
              "color": "#C8D4E3"
             },
             "line": {
              "color": "white"
             }
            },
            "type": "table"
           }
          ]
         },
         "layout": {
          "annotationdefaults": {
           "arrowcolor": "#2a3f5f",
           "arrowhead": 0,
           "arrowwidth": 1
          },
          "autotypenumbers": "strict",
          "coloraxis": {
           "colorbar": {
            "outlinewidth": 0,
            "ticks": ""
           }
          },
          "colorscale": {
           "diverging": [
            [
             0,
             "#8e0152"
            ],
            [
             0.1,
             "#c51b7d"
            ],
            [
             0.2,
             "#de77ae"
            ],
            [
             0.3,
             "#f1b6da"
            ],
            [
             0.4,
             "#fde0ef"
            ],
            [
             0.5,
             "#f7f7f7"
            ],
            [
             0.6,
             "#e6f5d0"
            ],
            [
             0.7,
             "#b8e186"
            ],
            [
             0.8,
             "#7fbc41"
            ],
            [
             0.9,
             "#4d9221"
            ],
            [
             1,
             "#276419"
            ]
           ],
           "sequential": [
            [
             0,
             "#0d0887"
            ],
            [
             0.1111111111111111,
             "#46039f"
            ],
            [
             0.2222222222222222,
             "#7201a8"
            ],
            [
             0.3333333333333333,
             "#9c179e"
            ],
            [
             0.4444444444444444,
             "#bd3786"
            ],
            [
             0.5555555555555556,
             "#d8576b"
            ],
            [
             0.6666666666666666,
             "#ed7953"
            ],
            [
             0.7777777777777778,
             "#fb9f3a"
            ],
            [
             0.8888888888888888,
             "#fdca26"
            ],
            [
             1,
             "#f0f921"
            ]
           ],
           "sequentialminus": [
            [
             0,
             "#0d0887"
            ],
            [
             0.1111111111111111,
             "#46039f"
            ],
            [
             0.2222222222222222,
             "#7201a8"
            ],
            [
             0.3333333333333333,
             "#9c179e"
            ],
            [
             0.4444444444444444,
             "#bd3786"
            ],
            [
             0.5555555555555556,
             "#d8576b"
            ],
            [
             0.6666666666666666,
             "#ed7953"
            ],
            [
             0.7777777777777778,
             "#fb9f3a"
            ],
            [
             0.8888888888888888,
             "#fdca26"
            ],
            [
             1,
             "#f0f921"
            ]
           ]
          },
          "colorway": [
           "#636efa",
           "#EF553B",
           "#00cc96",
           "#ab63fa",
           "#FFA15A",
           "#19d3f3",
           "#FF6692",
           "#B6E880",
           "#FF97FF",
           "#FECB52"
          ],
          "font": {
           "color": "#2a3f5f"
          },
          "geo": {
           "bgcolor": "white",
           "lakecolor": "white",
           "landcolor": "#E5ECF6",
           "showlakes": true,
           "showland": true,
           "subunitcolor": "white"
          },
          "hoverlabel": {
           "align": "left"
          },
          "hovermode": "closest",
          "mapbox": {
           "style": "light"
          },
          "paper_bgcolor": "white",
          "plot_bgcolor": "#E5ECF6",
          "polar": {
           "angularaxis": {
            "gridcolor": "white",
            "linecolor": "white",
            "ticks": ""
           },
           "bgcolor": "#E5ECF6",
           "radialaxis": {
            "gridcolor": "white",
            "linecolor": "white",
            "ticks": ""
           }
          },
          "scene": {
           "xaxis": {
            "backgroundcolor": "#E5ECF6",
            "gridcolor": "white",
            "gridwidth": 2,
            "linecolor": "white",
            "showbackground": true,
            "ticks": "",
            "zerolinecolor": "white"
           },
           "yaxis": {
            "backgroundcolor": "#E5ECF6",
            "gridcolor": "white",
            "gridwidth": 2,
            "linecolor": "white",
            "showbackground": true,
            "ticks": "",
            "zerolinecolor": "white"
           },
           "zaxis": {
            "backgroundcolor": "#E5ECF6",
            "gridcolor": "white",
            "gridwidth": 2,
            "linecolor": "white",
            "showbackground": true,
            "ticks": "",
            "zerolinecolor": "white"
           }
          },
          "shapedefaults": {
           "line": {
            "color": "#2a3f5f"
           }
          },
          "ternary": {
           "aaxis": {
            "gridcolor": "white",
            "linecolor": "white",
            "ticks": ""
           },
           "baxis": {
            "gridcolor": "white",
            "linecolor": "white",
            "ticks": ""
           },
           "bgcolor": "#E5ECF6",
           "caxis": {
            "gridcolor": "white",
            "linecolor": "white",
            "ticks": ""
           }
          },
          "title": {
           "x": 0.05
          },
          "xaxis": {
           "automargin": true,
           "gridcolor": "white",
           "linecolor": "white",
           "ticks": "",
           "title": {
            "standoff": 15
           },
           "zerolinecolor": "white",
           "zerolinewidth": 2
          },
          "yaxis": {
           "automargin": true,
           "gridcolor": "white",
           "linecolor": "white",
           "ticks": "",
           "title": {
            "standoff": 15
           },
           "zerolinecolor": "white",
           "zerolinewidth": 2
          }
         }
        },
        "title": {
         "text": "Impack of lockdown on employement in India"
        },
        "updatemenus": [
         {
          "buttons": [
           {
            "args": [
             null,
             {
              "frame": {
               "duration": 2000,
               "redraw": true
              },
              "fromcurrent": true,
              "mode": "immediate",
              "transition": {
               "duration": 500,
               "easing": "linear"
              }
             }
            ],
            "label": "&#9654;",
            "method": "animate"
           },
           {
            "args": [
             [
              null
             ],
             {
              "frame": {
               "duration": 0,
               "redraw": true
              },
              "fromcurrent": true,
              "mode": "immediate",
              "transition": {
               "duration": 0,
               "easing": "linear"
              }
             }
            ],
            "label": "&#9724;",
            "method": "animate"
           }
          ],
          "direction": "left",
          "pad": {
           "r": 10,
           "t": 70
          },
          "showactive": false,
          "type": "buttons",
          "x": 0.1,
          "xanchor": "right",
          "y": 0,
          "yanchor": "top"
         }
        ]
       }
      }
     },
     "metadata": {},
     "output_type": "display_data"
    }
   ],
   "source": [
    "fig = px.scatter_geo(df,'longitude', 'latitude', color=\"state\",\n",
    "                     hover_name=\"state\", size=\"estimated unemployment rate\",\n",
    "                     animation_frame=\"month\",scope='asia',title='Impack of lockdown on employement in India')\n",
    "\n",
    "fig.layout.updatemenus[0].buttons[0].args[1][\"frame\"][\"duration\"] = 2000\n",
    "\n",
    "fig.update_geos(lataxis_range=[5,40], lonaxis_range=[65, 100],oceancolor=\"lightblue\",\n",
    "    showocean=True)\n",
    "\n",
    "fig.show()"
   ]
  },
  {
   "cell_type": "markdown",
   "id": "60ac6580",
   "metadata": {
    "papermill": {
     "duration": 0.012787,
     "end_time": "2023-01-24T18:21:10.486432",
     "exception": false,
     "start_time": "2023-01-24T18:21:10.473645",
     "status": "completed"
    },
    "tags": []
   },
   "source": [
    "## Regional Analysis"
   ]
  },
  {
   "cell_type": "code",
   "execution_count": 19,
   "id": "f0059d04",
   "metadata": {
    "execution": {
     "iopub.execute_input": "2023-01-24T18:21:10.512494Z",
     "iopub.status.busy": "2023-01-24T18:21:10.512123Z",
     "iopub.status.idle": "2023-01-24T18:21:10.518387Z",
     "shell.execute_reply": "2023-01-24T18:21:10.517368Z"
    },
    "papermill": {
     "duration": 0.021908,
     "end_time": "2023-01-24T18:21:10.520587",
     "exception": false,
     "start_time": "2023-01-24T18:21:10.498679",
     "status": "completed"
    },
    "tags": []
   },
   "outputs": [
    {
     "data": {
      "text/plain": [
       "array(['South', 'Northeast', 'East', 'West', 'North'], dtype=object)"
      ]
     },
     "execution_count": 19,
     "metadata": {},
     "output_type": "execute_result"
    }
   ],
   "source": [
    "df.region.unique()"
   ]
  },
  {
   "cell_type": "markdown",
   "id": "2421af1e",
   "metadata": {
    "papermill": {
     "duration": 0.011203,
     "end_time": "2023-01-24T18:21:10.543527",
     "exception": false,
     "start_time": "2023-01-24T18:21:10.532324",
     "status": "completed"
    },
    "tags": []
   },
   "source": [
    "#####  In this data set India is divided into Five regions\n",
    "###### North INDIA\n",
    "###### North-East INDIA\n",
    "###### East INDIA\n",
    "###### West INDIA\n",
    "###### South INDIA\n",
    "\n",
    "We will make data frame grouped by region"
   ]
  },
  {
   "cell_type": "code",
   "execution_count": 20,
   "id": "5239a045",
   "metadata": {
    "execution": {
     "iopub.execute_input": "2023-01-24T18:21:10.568914Z",
     "iopub.status.busy": "2023-01-24T18:21:10.568340Z",
     "iopub.status.idle": "2023-01-24T18:21:10.576593Z",
     "shell.execute_reply": "2023-01-24T18:21:10.575714Z"
    },
    "papermill": {
     "duration": 0.023821,
     "end_time": "2023-01-24T18:21:10.579011",
     "exception": false,
     "start_time": "2023-01-24T18:21:10.555190",
     "status": "completed"
    },
    "tags": []
   },
   "outputs": [],
   "source": [
    "# numeric data grouped by region\n",
    "\n",
    "region = df.groupby([\"region\"])[['estimated unemployment rate', \"estimated employed\", \"estimated labour participation rate\"]].mean()\n",
    "region = pd.DataFrame(region).reset_index()"
   ]
  },
  {
   "cell_type": "code",
   "execution_count": 21,
   "id": "aaddeee0",
   "metadata": {
    "execution": {
     "iopub.execute_input": "2023-01-24T18:21:10.605045Z",
     "iopub.status.busy": "2023-01-24T18:21:10.604412Z",
     "iopub.status.idle": "2023-01-24T18:21:10.694284Z",
     "shell.execute_reply": "2023-01-24T18:21:10.692993Z"
    },
    "papermill": {
     "duration": 0.105767,
     "end_time": "2023-01-24T18:21:10.696810",
     "exception": false,
     "start_time": "2023-01-24T18:21:10.591043",
     "status": "completed"
    },
    "tags": []
   },
   "outputs": [
    {
     "data": {
      "application/vnd.plotly.v1+json": {
       "config": {
        "plotlyServerURL": "https://plot.ly"
       },
       "data": [
        {
         "dimensions": [
          {
           "axis": {
            "matches": true
           },
           "label": "estimated unemployment rate",
           "values": [
            5.48,
            5.83,
            5.79,
            20.51,
            17.43,
            3.31,
            8.34,
            6.96,
            6.4,
            6.59,
            2.86,
            3.61,
            3.46,
            29.84,
            19.97,
            8.44,
            4.01,
            0.5,
            2.41,
            1.58,
            5.31,
            7.6,
            8.99,
            16.99,
            17.88,
            9.71,
            7.09,
            10.98,
            5.91,
            3.88,
            0.58,
            1.76,
            1.2,
            75.85,
            58.19,
            4.24,
            15.47,
            5.05,
            10.9,
            6.18,
            1.57,
            2.09,
            6.4,
            49.83,
            33.16,
            12.2,
            6.81,
            2.65,
            5,
            2.16,
            5.49,
            8.29,
            5.77,
            6.25,
            14.7,
            10.55,
            5.36,
            5.79,
            3.27,
            2.86
           ]
          },
          {
           "axis": {
            "matches": true
           },
           "label": "estimated employed",
           "values": [
            16635535,
            16545652,
            15881197,
            11336911,
            12988845,
            19805400,
            15431615,
            15251776,
            15220312,
            15157557,
            22688028,
            21677719,
            22079653,
            16718395,
            19397853,
            24215057,
            22885616,
            24094289,
            20127176,
            22356390,
            9904534,
            9828023,
            8221728,
            3933276,
            7921962,
            9228268,
            9504420,
            9031944,
            9240913,
            9152881,
            457950,
            493961,
            421028,
            117542,
            172308,
            367135,
            386563,
            396006,
            411717,
            428419,
            26881641,
            27570589,
            26830768,
            9719167,
            11483256,
            19096847,
            24572827,
            27046415,
            23025845,
            23651626,
            17609295,
            16825970,
            17341613,
            12172230,
            14977774,
            15108910,
            15679417,
            18185429,
            16961448,
            17578739
           ]
          },
          {
           "axis": {
            "matches": true
           },
           "label": "estimated labour participation rate",
           "values": [
            41.02,
            40.9,
            39.18,
            33.1,
            36.46,
            47.41,
            38.91,
            37.83,
            37.47,
            37.34,
            42.18,
            40.54,
            41.14,
            42.78,
            43.43,
            47.29,
            42.55,
            43.13,
            36.66,
            40.3,
            37.12,
            37.71,
            32,
            16.77,
            34.11,
            36.11,
            36.1,
            35.78,
            34.6,
            33.52,
            37.46,
            40.8,
            34.49,
            39.3,
            33.19,
            30.8,
            36.64,
            33.34,
            36.84,
            36.32,
            41.96,
            43.2,
            43.91,
            29.63,
            26.23,
            33.16,
            40.13,
            42.22,
            36.77,
            36.62,
            59.25,
            58.24,
            58.31,
            41.06,
            55.43,
            53.22,
            52.1,
            60.59,
            54.94,
            56.58
           ]
          }
         ],
         "hovertemplate": "region=South<br>%{xaxis.title.text}=%{x}<br>%{yaxis.title.text}=%{y}<extra></extra>",
         "legendgroup": "South",
         "marker": {
          "color": "#636efa",
          "symbol": "circle"
         },
         "name": "South",
         "showlegend": true,
         "type": "splom"
        },
        {
         "dimensions": [
          {
           "axis": {
            "matches": true
           },
           "label": "estimated unemployment rate",
           "values": [
            4.66,
            4.41,
            4.77,
            11.06,
            9.55,
            0.6,
            3.77,
            5.53,
            1.19,
            3.02,
            1.66,
            3.59,
            1.58,
            10.03,
            5.92,
            1.15,
            2.1,
            3.74,
            4.29,
            4.6,
            23.57,
            2.28,
            24.51,
            4.46,
            4.45,
            12.49,
            5.7,
            0.88,
            32.67,
            28.4,
            29.95,
            41.23,
            21.51,
            21.71,
            18.24,
            27.92,
            17.35,
            11.57
           ]
          },
          {
           "axis": {
            "matches": true
           },
           "label": "estimated employed",
           "values": [
            13051904,
            10088268,
            11542888,
            6830817,
            11367897,
            9095944,
            10286757,
            9781310,
            14107641,
            11949329,
            1491093,
            1346829,
            1482351,
            965057,
            1215064,
            1350794,
            1448106,
            1357643,
            1459726,
            1381490,
            262895,
            215303,
            193427,
            221058,
            265175,
            244462,
            231798,
            242068,
            1508130,
            1584686,
            1511217,
            971514,
            1290986,
            1494140,
            1348849,
            1318621,
            1368244,
            1576529
           ]
          },
          {
           "axis": {
            "matches": true
           },
           "label": "estimated labour participation rate",
           "values": [
            52.98,
            40.77,
            46.73,
            29.55,
            48.26,
            35.07,
            40.88,
            39.52,
            54.38,
            46.84,
            65.49,
            60.2,
            64.74,
            45.99,
            55.24,
            58.31,
            62.96,
            59.88,
            64.6,
            61.18,
            60.59,
            38.7,
            44.88,
            40.4,
            48.32,
            48.49,
            42.54,
            42.13,
            69.69,
            68.74,
            66.89,
            51.16,
            50.81,
            58.85,
            50.78,
            56.21,
            50.77,
            54.58
           ]
          }
         ],
         "hovertemplate": "region=Northeast<br>%{xaxis.title.text}=%{x}<br>%{yaxis.title.text}=%{y}<extra></extra>",
         "legendgroup": "Northeast",
         "marker": {
          "color": "#EF553B",
          "symbol": "circle"
         },
         "name": "Northeast",
         "showlegend": true,
         "type": "splom"
        },
        {
         "dimensions": [
          {
           "axis": {
            "matches": true
           },
           "label": "estimated unemployment rate",
           "values": [
            10.61,
            10.29,
            15.43,
            46.64,
            45.96,
            17.82,
            12.79,
            13.44,
            11.91,
            9.82,
            10.61,
            11.85,
            8.23,
            47.09,
            59.23,
            20.95,
            7.63,
            9.76,
            8.24,
            11.8,
            1.9,
            3.12,
            13.08,
            23.76,
            11.41,
            3.77,
            1.88,
            1.42,
            2.1,
            2.18,
            6.94,
            4.92,
            6.92,
            17.41,
            17.41,
            7.29,
            6.83,
            14.87,
            9.35,
            9.98
           ]
          },
          {
           "axis": {
            "matches": true
           },
           "label": "estimated employed",
           "values": [
            26397671,
            26281655,
            25717519,
            16046236,
            16280203,
            23963933,
            24989370,
            23795534,
            26902907,
            25693252,
            10198029,
            10425425,
            9638115,
            5335262,
            4145385,
            8622722,
            9521900,
            9331640,
            10185670,
            10302276,
            13743448,
            14280735,
            12272109,
            6865693,
            11730937,
            12903993,
            13614400,
            14154039,
            13608422,
            14094553,
            35820789,
            36964178,
            35903917,
            26938836,
            28356675,
            30726310,
            35372506,
            33298644,
            35707239,
            33962549
           ]
          },
          {
           "axis": {
            "matches": true
           },
           "label": "estimated labour participation rate",
           "values": [
            37.72,
            37.35,
            38.69,
            38.17,
            38.16,
            36.86,
            36.14,
            34.59,
            38.35,
            35.7,
            42.92,
            44.4,
            39.34,
            37.69,
            37.92,
            40.59,
            38.27,
            38.31,
            41.04,
            43.08,
            39.44,
            41.44,
            39.62,
            25.23,
            37.04,
            37.45,
            38.69,
            39.96,
            38.63,
            39.98,
            47.35,
            47.74,
            47.27,
            39.9,
            41.92,
            40.39,
            46.17,
            47.48,
            47.73,
            45.63
           ]
          }
         ],
         "hovertemplate": "region=East<br>%{xaxis.title.text}=%{x}<br>%{yaxis.title.text}=%{y}<extra></extra>",
         "legendgroup": "East",
         "marker": {
          "color": "#00cc96",
          "symbol": "circle"
         },
         "name": "East",
         "showlegend": true,
         "type": "splom"
        },
        {
         "dimensions": [
          {
           "axis": {
            "matches": true
           },
           "label": "estimated unemployment rate",
           "values": [
            9.65,
            8.38,
            7.54,
            3.41,
            10.5,
            14.23,
            10.27,
            5.63,
            1.96,
            6.62,
            8.89,
            2.81,
            5.25,
            13.31,
            21.25,
            9.96,
            17.07,
            16.21,
            15.38,
            11.54,
            5.54,
            6.38,
            6.66,
            18.71,
            12.11,
            3.2,
            1.84,
            1.87,
            3.42,
            4.03,
            4.11,
            4.57,
            2.22,
            12.36,
            21.98,
            6.48,
            5.08,
            4.7,
            3.91,
            3.13,
            4.95,
            4.69,
            5.79,
            20.9,
            15.46,
            9.23,
            3.89,
            6.23,
            4.55,
            4.1
           ]
          },
          {
           "axis": {
            "matches": true
           },
           "label": "estimated employed",
           "values": [
            8552172,
            9195114,
            9302317,
            7600448,
            6991217,
            7332807,
            8620294,
            9050422,
            9021854,
            8546847,
            416750,
            478068,
            411761,
            500614,
            378244,
            489111,
            458876,
            473016,
            425004,
            392304,
            24126346,
            24757795,
            23566641,
            15288878,
            17836936,
            23657055,
            24276120,
            22817232,
            25010199,
            25970259,
            23018632,
            22711479,
            22867164,
            19041832,
            18443927,
            23054646,
            23940158,
            23619011,
            23341952,
            23144552,
            42596868,
            42416317,
            40196806,
            27689253,
            32116847,
            39708538,
            40998545,
            40963616,
            42042911,
            43317881
           ]
          },
          {
           "axis": {
            "matches": true
           },
           "label": "estimated labour participation rate",
           "values": [
            43.08,
            45.58,
            45.59,
            35.58,
            35.23,
            38.48,
            43.14,
            42.97,
            41.14,
            40.82,
            35.73,
            38.38,
            33.88,
            44.97,
            37.36,
            42.21,
            42.94,
            43.76,
            38.89,
            34.3,
            48.49,
            50.11,
            47.75,
            35.5,
            38.23,
            45.96,
            46.41,
            43.55,
            48.41,
            50.49,
            39.42,
            39,
            38.24,
            35.45,
            38.48,
            40.04,
            40.88,
            40.08,
            39.2,
            38.47,
            44.19,
            43.8,
            41.91,
            34.32,
            37.17,
            42.71,
            41.57,
            42.49,
            42.75,
            43.75
           ]
          }
         ],
         "hovertemplate": "region=West<br>%{xaxis.title.text}=%{x}<br>%{yaxis.title.text}=%{y}<extra></extra>",
         "legendgroup": "West",
         "marker": {
          "color": "#ab63fa",
          "symbol": "circle"
         },
         "name": "West",
         "showlegend": true,
         "type": "splom"
        },
        {
         "dimensions": [
          {
           "axis": {
            "matches": true
           },
           "label": "estimated unemployment rate",
           "values": [
            22.23,
            14.84,
            17.04,
            16.68,
            42.27,
            18.19,
            20.3,
            13.79,
            12.53,
            6.27,
            20.34,
            25.77,
            25.05,
            43.22,
            29.02,
            26.7,
            24.18,
            33.5,
            19.68,
            27.31,
            16.83,
            16.84,
            18.76,
            2.2,
            26.95,
            13.47,
            24.31,
            15.79,
            12.04,
            13.46,
            21.08,
            20.78,
            15.5,
            18.74,
            17.92,
            10.88,
            11.09,
            16.17,
            16.14,
            11.11,
            10.97,
            10.32,
            2.86,
            28.33,
            16.55,
            9.19,
            10.99,
            9.61,
            9.88,
            10.97,
            15.16,
            11.9,
            17.7,
            15.74,
            14.39,
            15.81,
            17.51,
            15.35,
            24.15,
            7.58,
            8.98,
            10.11,
            21.54,
            20.41,
            9.47,
            5.56,
            5.79,
            4.18,
            3.75,
            5.49,
            4.99,
            19.85,
            6.48,
            8.01,
            8.61,
            12.38,
            14.26,
            22.26,
            9.23
           ]
          },
          {
           "axis": {
            "matches": true
           },
           "label": "estimated employed",
           "values": [
            5805284,
            5856307,
            5553805,
            3119274,
            2632404,
            4418914,
            4291053,
            4850107,
            4958373,
            4842698,
            7693231,
            7322942,
            6641555,
            5647630,
            6437868,
            6951934,
            6800652,
            7113788,
            7132439,
            6698551,
            2287632,
            2180268,
            2021858,
            1131128,
            1897639,
            2199683,
            2229456,
            2029740,
            2237480,
            2123965,
            3453025,
            3223513,
            3359107,
            3246493,
            3202336,
            3558889,
            3429950,
            3210281,
            3106691,
            9442093,
            9229047,
            9975485,
            7020565,
            6872938,
            8390766,
            9732417,
            9386169,
            8980432,
            8800430,
            20641716,
            20328915,
            20024680,
            15984142,
            19826602,
            20506612,
            19932393,
            20014060,
            20149594,
            19908808,
            59433759,
            58060531,
            56976338,
            50915056,
            49801902,
            55380649,
            56201654,
            55831744,
            56106836,
            56539521,
            2711639,
            3020931,
            2539302,
            2720115,
            2694072,
            2656071,
            2938552,
            2717528,
            2695230,
            2739309
           ]
          },
          {
           "axis": {
            "matches": true
           },
           "label": "estimated labour participation rate",
           "values": [
            47.79,
            43.92,
            42.65,
            23.8,
            28.91,
            34.17,
            33.97,
            35.41,
            35.59,
            32.36,
            43.36,
            44.21,
            39.63,
            44.38,
            40.39,
            42.14,
            39.77,
            47.32,
            39.2,
            40.6,
            45.5,
            43.3,
            41.04,
            19.04,
            42.7,
            41.72,
            48.25,
            39.42,
            41.54,
            40.01,
            42.2,
            39.17,
            38.18,
            38.21,
            37.24,
            38.03,
            36.66,
            36.31,
            35.05,
            42.82,
            41.72,
            44.69,
            28.99,
            38.39,
            40.18,
            42.76,
            41.99,
            39.5,
            38.75,
            40.51,
            41.77,
            39.54,
            33.71,
            40.74,
            41.38,
            40.8,
            41.71,
            40.83,
            44.92,
            39.63,
            39.23,
            38.89,
            39.73,
            38.22,
            37.29,
            36.19,
            35.96,
            35.45,
            35.49,
            32.99,
            36.48,
            36.27,
            33.23,
            33.38,
            33.06,
            38.07,
            35.9,
            39.18,
            34.03
           ]
          }
         ],
         "hovertemplate": "region=North<br>%{xaxis.title.text}=%{x}<br>%{yaxis.title.text}=%{y}<extra></extra>",
         "legendgroup": "North",
         "marker": {
          "color": "#FFA15A",
          "symbol": "circle"
         },
         "name": "North",
         "showlegend": true,
         "type": "splom"
        }
       ],
       "layout": {
        "dragmode": "select",
        "legend": {
         "title": {
          "text": "region"
         },
         "tracegroupgap": 0
        },
        "margin": {
         "t": 60
        },
        "template": {
         "data": {
          "bar": [
           {
            "error_x": {
             "color": "#2a3f5f"
            },
            "error_y": {
             "color": "#2a3f5f"
            },
            "marker": {
             "line": {
              "color": "#E5ECF6",
              "width": 0.5
             },
             "pattern": {
              "fillmode": "overlay",
              "size": 10,
              "solidity": 0.2
             }
            },
            "type": "bar"
           }
          ],
          "barpolar": [
           {
            "marker": {
             "line": {
              "color": "#E5ECF6",
              "width": 0.5
             },
             "pattern": {
              "fillmode": "overlay",
              "size": 10,
              "solidity": 0.2
             }
            },
            "type": "barpolar"
           }
          ],
          "carpet": [
           {
            "aaxis": {
             "endlinecolor": "#2a3f5f",
             "gridcolor": "white",
             "linecolor": "white",
             "minorgridcolor": "white",
             "startlinecolor": "#2a3f5f"
            },
            "baxis": {
             "endlinecolor": "#2a3f5f",
             "gridcolor": "white",
             "linecolor": "white",
             "minorgridcolor": "white",
             "startlinecolor": "#2a3f5f"
            },
            "type": "carpet"
           }
          ],
          "choropleth": [
           {
            "colorbar": {
             "outlinewidth": 0,
             "ticks": ""
            },
            "type": "choropleth"
           }
          ],
          "contour": [
           {
            "colorbar": {
             "outlinewidth": 0,
             "ticks": ""
            },
            "colorscale": [
             [
              0,
              "#0d0887"
             ],
             [
              0.1111111111111111,
              "#46039f"
             ],
             [
              0.2222222222222222,
              "#7201a8"
             ],
             [
              0.3333333333333333,
              "#9c179e"
             ],
             [
              0.4444444444444444,
              "#bd3786"
             ],
             [
              0.5555555555555556,
              "#d8576b"
             ],
             [
              0.6666666666666666,
              "#ed7953"
             ],
             [
              0.7777777777777778,
              "#fb9f3a"
             ],
             [
              0.8888888888888888,
              "#fdca26"
             ],
             [
              1,
              "#f0f921"
             ]
            ],
            "type": "contour"
           }
          ],
          "contourcarpet": [
           {
            "colorbar": {
             "outlinewidth": 0,
             "ticks": ""
            },
            "type": "contourcarpet"
           }
          ],
          "heatmap": [
           {
            "colorbar": {
             "outlinewidth": 0,
             "ticks": ""
            },
            "colorscale": [
             [
              0,
              "#0d0887"
             ],
             [
              0.1111111111111111,
              "#46039f"
             ],
             [
              0.2222222222222222,
              "#7201a8"
             ],
             [
              0.3333333333333333,
              "#9c179e"
             ],
             [
              0.4444444444444444,
              "#bd3786"
             ],
             [
              0.5555555555555556,
              "#d8576b"
             ],
             [
              0.6666666666666666,
              "#ed7953"
             ],
             [
              0.7777777777777778,
              "#fb9f3a"
             ],
             [
              0.8888888888888888,
              "#fdca26"
             ],
             [
              1,
              "#f0f921"
             ]
            ],
            "type": "heatmap"
           }
          ],
          "heatmapgl": [
           {
            "colorbar": {
             "outlinewidth": 0,
             "ticks": ""
            },
            "colorscale": [
             [
              0,
              "#0d0887"
             ],
             [
              0.1111111111111111,
              "#46039f"
             ],
             [
              0.2222222222222222,
              "#7201a8"
             ],
             [
              0.3333333333333333,
              "#9c179e"
             ],
             [
              0.4444444444444444,
              "#bd3786"
             ],
             [
              0.5555555555555556,
              "#d8576b"
             ],
             [
              0.6666666666666666,
              "#ed7953"
             ],
             [
              0.7777777777777778,
              "#fb9f3a"
             ],
             [
              0.8888888888888888,
              "#fdca26"
             ],
             [
              1,
              "#f0f921"
             ]
            ],
            "type": "heatmapgl"
           }
          ],
          "histogram": [
           {
            "marker": {
             "pattern": {
              "fillmode": "overlay",
              "size": 10,
              "solidity": 0.2
             }
            },
            "type": "histogram"
           }
          ],
          "histogram2d": [
           {
            "colorbar": {
             "outlinewidth": 0,
             "ticks": ""
            },
            "colorscale": [
             [
              0,
              "#0d0887"
             ],
             [
              0.1111111111111111,
              "#46039f"
             ],
             [
              0.2222222222222222,
              "#7201a8"
             ],
             [
              0.3333333333333333,
              "#9c179e"
             ],
             [
              0.4444444444444444,
              "#bd3786"
             ],
             [
              0.5555555555555556,
              "#d8576b"
             ],
             [
              0.6666666666666666,
              "#ed7953"
             ],
             [
              0.7777777777777778,
              "#fb9f3a"
             ],
             [
              0.8888888888888888,
              "#fdca26"
             ],
             [
              1,
              "#f0f921"
             ]
            ],
            "type": "histogram2d"
           }
          ],
          "histogram2dcontour": [
           {
            "colorbar": {
             "outlinewidth": 0,
             "ticks": ""
            },
            "colorscale": [
             [
              0,
              "#0d0887"
             ],
             [
              0.1111111111111111,
              "#46039f"
             ],
             [
              0.2222222222222222,
              "#7201a8"
             ],
             [
              0.3333333333333333,
              "#9c179e"
             ],
             [
              0.4444444444444444,
              "#bd3786"
             ],
             [
              0.5555555555555556,
              "#d8576b"
             ],
             [
              0.6666666666666666,
              "#ed7953"
             ],
             [
              0.7777777777777778,
              "#fb9f3a"
             ],
             [
              0.8888888888888888,
              "#fdca26"
             ],
             [
              1,
              "#f0f921"
             ]
            ],
            "type": "histogram2dcontour"
           }
          ],
          "mesh3d": [
           {
            "colorbar": {
             "outlinewidth": 0,
             "ticks": ""
            },
            "type": "mesh3d"
           }
          ],
          "parcoords": [
           {
            "line": {
             "colorbar": {
              "outlinewidth": 0,
              "ticks": ""
             }
            },
            "type": "parcoords"
           }
          ],
          "pie": [
           {
            "automargin": true,
            "type": "pie"
           }
          ],
          "scatter": [
           {
            "fillpattern": {
             "fillmode": "overlay",
             "size": 10,
             "solidity": 0.2
            },
            "type": "scatter"
           }
          ],
          "scatter3d": [
           {
            "line": {
             "colorbar": {
              "outlinewidth": 0,
              "ticks": ""
             }
            },
            "marker": {
             "colorbar": {
              "outlinewidth": 0,
              "ticks": ""
             }
            },
            "type": "scatter3d"
           }
          ],
          "scattercarpet": [
           {
            "marker": {
             "colorbar": {
              "outlinewidth": 0,
              "ticks": ""
             }
            },
            "type": "scattercarpet"
           }
          ],
          "scattergeo": [
           {
            "marker": {
             "colorbar": {
              "outlinewidth": 0,
              "ticks": ""
             }
            },
            "type": "scattergeo"
           }
          ],
          "scattergl": [
           {
            "marker": {
             "colorbar": {
              "outlinewidth": 0,
              "ticks": ""
             }
            },
            "type": "scattergl"
           }
          ],
          "scattermapbox": [
           {
            "marker": {
             "colorbar": {
              "outlinewidth": 0,
              "ticks": ""
             }
            },
            "type": "scattermapbox"
           }
          ],
          "scatterpolar": [
           {
            "marker": {
             "colorbar": {
              "outlinewidth": 0,
              "ticks": ""
             }
            },
            "type": "scatterpolar"
           }
          ],
          "scatterpolargl": [
           {
            "marker": {
             "colorbar": {
              "outlinewidth": 0,
              "ticks": ""
             }
            },
            "type": "scatterpolargl"
           }
          ],
          "scatterternary": [
           {
            "marker": {
             "colorbar": {
              "outlinewidth": 0,
              "ticks": ""
             }
            },
            "type": "scatterternary"
           }
          ],
          "surface": [
           {
            "colorbar": {
             "outlinewidth": 0,
             "ticks": ""
            },
            "colorscale": [
             [
              0,
              "#0d0887"
             ],
             [
              0.1111111111111111,
              "#46039f"
             ],
             [
              0.2222222222222222,
              "#7201a8"
             ],
             [
              0.3333333333333333,
              "#9c179e"
             ],
             [
              0.4444444444444444,
              "#bd3786"
             ],
             [
              0.5555555555555556,
              "#d8576b"
             ],
             [
              0.6666666666666666,
              "#ed7953"
             ],
             [
              0.7777777777777778,
              "#fb9f3a"
             ],
             [
              0.8888888888888888,
              "#fdca26"
             ],
             [
              1,
              "#f0f921"
             ]
            ],
            "type": "surface"
           }
          ],
          "table": [
           {
            "cells": {
             "fill": {
              "color": "#EBF0F8"
             },
             "line": {
              "color": "white"
             }
            },
            "header": {
             "fill": {
              "color": "#C8D4E3"
             },
             "line": {
              "color": "white"
             }
            },
            "type": "table"
           }
          ]
         },
         "layout": {
          "annotationdefaults": {
           "arrowcolor": "#2a3f5f",
           "arrowhead": 0,
           "arrowwidth": 1
          },
          "autotypenumbers": "strict",
          "coloraxis": {
           "colorbar": {
            "outlinewidth": 0,
            "ticks": ""
           }
          },
          "colorscale": {
           "diverging": [
            [
             0,
             "#8e0152"
            ],
            [
             0.1,
             "#c51b7d"
            ],
            [
             0.2,
             "#de77ae"
            ],
            [
             0.3,
             "#f1b6da"
            ],
            [
             0.4,
             "#fde0ef"
            ],
            [
             0.5,
             "#f7f7f7"
            ],
            [
             0.6,
             "#e6f5d0"
            ],
            [
             0.7,
             "#b8e186"
            ],
            [
             0.8,
             "#7fbc41"
            ],
            [
             0.9,
             "#4d9221"
            ],
            [
             1,
             "#276419"
            ]
           ],
           "sequential": [
            [
             0,
             "#0d0887"
            ],
            [
             0.1111111111111111,
             "#46039f"
            ],
            [
             0.2222222222222222,
             "#7201a8"
            ],
            [
             0.3333333333333333,
             "#9c179e"
            ],
            [
             0.4444444444444444,
             "#bd3786"
            ],
            [
             0.5555555555555556,
             "#d8576b"
            ],
            [
             0.6666666666666666,
             "#ed7953"
            ],
            [
             0.7777777777777778,
             "#fb9f3a"
            ],
            [
             0.8888888888888888,
             "#fdca26"
            ],
            [
             1,
             "#f0f921"
            ]
           ],
           "sequentialminus": [
            [
             0,
             "#0d0887"
            ],
            [
             0.1111111111111111,
             "#46039f"
            ],
            [
             0.2222222222222222,
             "#7201a8"
            ],
            [
             0.3333333333333333,
             "#9c179e"
            ],
            [
             0.4444444444444444,
             "#bd3786"
            ],
            [
             0.5555555555555556,
             "#d8576b"
            ],
            [
             0.6666666666666666,
             "#ed7953"
            ],
            [
             0.7777777777777778,
             "#fb9f3a"
            ],
            [
             0.8888888888888888,
             "#fdca26"
            ],
            [
             1,
             "#f0f921"
            ]
           ]
          },
          "colorway": [
           "#636efa",
           "#EF553B",
           "#00cc96",
           "#ab63fa",
           "#FFA15A",
           "#19d3f3",
           "#FF6692",
           "#B6E880",
           "#FF97FF",
           "#FECB52"
          ],
          "font": {
           "color": "#2a3f5f"
          },
          "geo": {
           "bgcolor": "white",
           "lakecolor": "white",
           "landcolor": "#E5ECF6",
           "showlakes": true,
           "showland": true,
           "subunitcolor": "white"
          },
          "hoverlabel": {
           "align": "left"
          },
          "hovermode": "closest",
          "mapbox": {
           "style": "light"
          },
          "paper_bgcolor": "white",
          "plot_bgcolor": "#E5ECF6",
          "polar": {
           "angularaxis": {
            "gridcolor": "white",
            "linecolor": "white",
            "ticks": ""
           },
           "bgcolor": "#E5ECF6",
           "radialaxis": {
            "gridcolor": "white",
            "linecolor": "white",
            "ticks": ""
           }
          },
          "scene": {
           "xaxis": {
            "backgroundcolor": "#E5ECF6",
            "gridcolor": "white",
            "gridwidth": 2,
            "linecolor": "white",
            "showbackground": true,
            "ticks": "",
            "zerolinecolor": "white"
           },
           "yaxis": {
            "backgroundcolor": "#E5ECF6",
            "gridcolor": "white",
            "gridwidth": 2,
            "linecolor": "white",
            "showbackground": true,
            "ticks": "",
            "zerolinecolor": "white"
           },
           "zaxis": {
            "backgroundcolor": "#E5ECF6",
            "gridcolor": "white",
            "gridwidth": 2,
            "linecolor": "white",
            "showbackground": true,
            "ticks": "",
            "zerolinecolor": "white"
           }
          },
          "shapedefaults": {
           "line": {
            "color": "#2a3f5f"
           }
          },
          "ternary": {
           "aaxis": {
            "gridcolor": "white",
            "linecolor": "white",
            "ticks": ""
           },
           "baxis": {
            "gridcolor": "white",
            "linecolor": "white",
            "ticks": ""
           },
           "bgcolor": "#E5ECF6",
           "caxis": {
            "gridcolor": "white",
            "linecolor": "white",
            "ticks": ""
           }
          },
          "title": {
           "x": 0.05
          },
          "xaxis": {
           "automargin": true,
           "gridcolor": "white",
           "linecolor": "white",
           "ticks": "",
           "title": {
            "standoff": 15
           },
           "zerolinecolor": "white",
           "zerolinewidth": 2
          },
          "yaxis": {
           "automargin": true,
           "gridcolor": "white",
           "linecolor": "white",
           "ticks": "",
           "title": {
            "standoff": 15
           },
           "zerolinecolor": "white",
           "zerolinewidth": 2
          }
         }
        }
       }
      }
     },
     "metadata": {},
     "output_type": "display_data"
    }
   ],
   "source": [
    "# scatter plot\n",
    "\n",
    "fig = px.scatter_matrix(df, dimensions=['estimated unemployment rate','estimated employed','estimated labour participation rate'], color='region')\n",
    "fig.show()"
   ]
  },
  {
   "cell_type": "code",
   "execution_count": 22,
   "id": "fed61d31",
   "metadata": {
    "execution": {
     "iopub.execute_input": "2023-01-24T18:21:10.723485Z",
     "iopub.status.busy": "2023-01-24T18:21:10.723083Z",
     "iopub.status.idle": "2023-01-24T18:21:10.791981Z",
     "shell.execute_reply": "2023-01-24T18:21:10.790788Z"
    },
    "papermill": {
     "duration": 0.085195,
     "end_time": "2023-01-24T18:21:10.794452",
     "exception": false,
     "start_time": "2023-01-24T18:21:10.709257",
     "status": "completed"
    },
    "tags": []
   },
   "outputs": [
    {
     "data": {
      "application/vnd.plotly.v1+json": {
       "config": {
        "plotlyServerURL": "https://plot.ly"
       },
       "data": [
        {
         "alignmentgroup": "True",
         "hovertemplate": "region=%{x}<br>estimated unemployment rate=%{y}<extra></extra>",
         "legendgroup": "East",
         "marker": {
          "color": "#636efa",
          "pattern": {
           "shape": ""
          }
         },
         "name": "East",
         "offsetgroup": "East",
         "orientation": "v",
         "showlegend": true,
         "textposition": "auto",
         "type": "bar",
         "x": [
          "East"
         ],
         "xaxis": "x",
         "y": [
          13.916
         ],
         "yaxis": "y"
        },
        {
         "alignmentgroup": "True",
         "hovertemplate": "region=%{x}<br>estimated unemployment rate=%{y}<extra></extra>",
         "legendgroup": "North",
         "marker": {
          "color": "#EF553B",
          "pattern": {
           "shape": ""
          }
         },
         "name": "North",
         "offsetgroup": "North",
         "orientation": "v",
         "showlegend": true,
         "textposition": "auto",
         "type": "bar",
         "x": [
          "North"
         ],
         "xaxis": "x",
         "y": [
          15.889620253164557
         ],
         "yaxis": "y"
        },
        {
         "alignmentgroup": "True",
         "hovertemplate": "region=%{x}<br>estimated unemployment rate=%{y}<extra></extra>",
         "legendgroup": "Northeast",
         "marker": {
          "color": "#00cc96",
          "pattern": {
           "shape": ""
          }
         },
         "name": "Northeast",
         "offsetgroup": "Northeast",
         "orientation": "v",
         "showlegend": true,
         "textposition": "auto",
         "type": "bar",
         "x": [
          "Northeast"
         ],
         "xaxis": "x",
         "y": [
          10.950263157894737
         ],
         "yaxis": "y"
        },
        {
         "alignmentgroup": "True",
         "hovertemplate": "region=%{x}<br>estimated unemployment rate=%{y}<extra></extra>",
         "legendgroup": "South",
         "marker": {
          "color": "#ab63fa",
          "pattern": {
           "shape": ""
          }
         },
         "name": "South",
         "offsetgroup": "South",
         "orientation": "v",
         "showlegend": true,
         "textposition": "auto",
         "type": "bar",
         "x": [
          "South"
         ],
         "xaxis": "x",
         "y": [
          10.454666666666666
         ],
         "yaxis": "y"
        },
        {
         "alignmentgroup": "True",
         "hovertemplate": "region=%{x}<br>estimated unemployment rate=%{y}<extra></extra>",
         "legendgroup": "West",
         "marker": {
          "color": "#FFA15A",
          "pattern": {
           "shape": ""
          }
         },
         "name": "West",
         "offsetgroup": "West",
         "orientation": "v",
         "showlegend": true,
         "textposition": "auto",
         "type": "bar",
         "x": [
          "West"
         ],
         "xaxis": "x",
         "y": [
          8.238999999999999
         ],
         "yaxis": "y"
        }
       ],
       "layout": {
        "barmode": "relative",
        "legend": {
         "title": {
          "text": "region"
         },
         "tracegroupgap": 0
        },
        "template": {
         "data": {
          "bar": [
           {
            "error_x": {
             "color": "#2a3f5f"
            },
            "error_y": {
             "color": "#2a3f5f"
            },
            "marker": {
             "line": {
              "color": "#E5ECF6",
              "width": 0.5
             },
             "pattern": {
              "fillmode": "overlay",
              "size": 10,
              "solidity": 0.2
             }
            },
            "type": "bar"
           }
          ],
          "barpolar": [
           {
            "marker": {
             "line": {
              "color": "#E5ECF6",
              "width": 0.5
             },
             "pattern": {
              "fillmode": "overlay",
              "size": 10,
              "solidity": 0.2
             }
            },
            "type": "barpolar"
           }
          ],
          "carpet": [
           {
            "aaxis": {
             "endlinecolor": "#2a3f5f",
             "gridcolor": "white",
             "linecolor": "white",
             "minorgridcolor": "white",
             "startlinecolor": "#2a3f5f"
            },
            "baxis": {
             "endlinecolor": "#2a3f5f",
             "gridcolor": "white",
             "linecolor": "white",
             "minorgridcolor": "white",
             "startlinecolor": "#2a3f5f"
            },
            "type": "carpet"
           }
          ],
          "choropleth": [
           {
            "colorbar": {
             "outlinewidth": 0,
             "ticks": ""
            },
            "type": "choropleth"
           }
          ],
          "contour": [
           {
            "colorbar": {
             "outlinewidth": 0,
             "ticks": ""
            },
            "colorscale": [
             [
              0,
              "#0d0887"
             ],
             [
              0.1111111111111111,
              "#46039f"
             ],
             [
              0.2222222222222222,
              "#7201a8"
             ],
             [
              0.3333333333333333,
              "#9c179e"
             ],
             [
              0.4444444444444444,
              "#bd3786"
             ],
             [
              0.5555555555555556,
              "#d8576b"
             ],
             [
              0.6666666666666666,
              "#ed7953"
             ],
             [
              0.7777777777777778,
              "#fb9f3a"
             ],
             [
              0.8888888888888888,
              "#fdca26"
             ],
             [
              1,
              "#f0f921"
             ]
            ],
            "type": "contour"
           }
          ],
          "contourcarpet": [
           {
            "colorbar": {
             "outlinewidth": 0,
             "ticks": ""
            },
            "type": "contourcarpet"
           }
          ],
          "heatmap": [
           {
            "colorbar": {
             "outlinewidth": 0,
             "ticks": ""
            },
            "colorscale": [
             [
              0,
              "#0d0887"
             ],
             [
              0.1111111111111111,
              "#46039f"
             ],
             [
              0.2222222222222222,
              "#7201a8"
             ],
             [
              0.3333333333333333,
              "#9c179e"
             ],
             [
              0.4444444444444444,
              "#bd3786"
             ],
             [
              0.5555555555555556,
              "#d8576b"
             ],
             [
              0.6666666666666666,
              "#ed7953"
             ],
             [
              0.7777777777777778,
              "#fb9f3a"
             ],
             [
              0.8888888888888888,
              "#fdca26"
             ],
             [
              1,
              "#f0f921"
             ]
            ],
            "type": "heatmap"
           }
          ],
          "heatmapgl": [
           {
            "colorbar": {
             "outlinewidth": 0,
             "ticks": ""
            },
            "colorscale": [
             [
              0,
              "#0d0887"
             ],
             [
              0.1111111111111111,
              "#46039f"
             ],
             [
              0.2222222222222222,
              "#7201a8"
             ],
             [
              0.3333333333333333,
              "#9c179e"
             ],
             [
              0.4444444444444444,
              "#bd3786"
             ],
             [
              0.5555555555555556,
              "#d8576b"
             ],
             [
              0.6666666666666666,
              "#ed7953"
             ],
             [
              0.7777777777777778,
              "#fb9f3a"
             ],
             [
              0.8888888888888888,
              "#fdca26"
             ],
             [
              1,
              "#f0f921"
             ]
            ],
            "type": "heatmapgl"
           }
          ],
          "histogram": [
           {
            "marker": {
             "pattern": {
              "fillmode": "overlay",
              "size": 10,
              "solidity": 0.2
             }
            },
            "type": "histogram"
           }
          ],
          "histogram2d": [
           {
            "colorbar": {
             "outlinewidth": 0,
             "ticks": ""
            },
            "colorscale": [
             [
              0,
              "#0d0887"
             ],
             [
              0.1111111111111111,
              "#46039f"
             ],
             [
              0.2222222222222222,
              "#7201a8"
             ],
             [
              0.3333333333333333,
              "#9c179e"
             ],
             [
              0.4444444444444444,
              "#bd3786"
             ],
             [
              0.5555555555555556,
              "#d8576b"
             ],
             [
              0.6666666666666666,
              "#ed7953"
             ],
             [
              0.7777777777777778,
              "#fb9f3a"
             ],
             [
              0.8888888888888888,
              "#fdca26"
             ],
             [
              1,
              "#f0f921"
             ]
            ],
            "type": "histogram2d"
           }
          ],
          "histogram2dcontour": [
           {
            "colorbar": {
             "outlinewidth": 0,
             "ticks": ""
            },
            "colorscale": [
             [
              0,
              "#0d0887"
             ],
             [
              0.1111111111111111,
              "#46039f"
             ],
             [
              0.2222222222222222,
              "#7201a8"
             ],
             [
              0.3333333333333333,
              "#9c179e"
             ],
             [
              0.4444444444444444,
              "#bd3786"
             ],
             [
              0.5555555555555556,
              "#d8576b"
             ],
             [
              0.6666666666666666,
              "#ed7953"
             ],
             [
              0.7777777777777778,
              "#fb9f3a"
             ],
             [
              0.8888888888888888,
              "#fdca26"
             ],
             [
              1,
              "#f0f921"
             ]
            ],
            "type": "histogram2dcontour"
           }
          ],
          "mesh3d": [
           {
            "colorbar": {
             "outlinewidth": 0,
             "ticks": ""
            },
            "type": "mesh3d"
           }
          ],
          "parcoords": [
           {
            "line": {
             "colorbar": {
              "outlinewidth": 0,
              "ticks": ""
             }
            },
            "type": "parcoords"
           }
          ],
          "pie": [
           {
            "automargin": true,
            "type": "pie"
           }
          ],
          "scatter": [
           {
            "fillpattern": {
             "fillmode": "overlay",
             "size": 10,
             "solidity": 0.2
            },
            "type": "scatter"
           }
          ],
          "scatter3d": [
           {
            "line": {
             "colorbar": {
              "outlinewidth": 0,
              "ticks": ""
             }
            },
            "marker": {
             "colorbar": {
              "outlinewidth": 0,
              "ticks": ""
             }
            },
            "type": "scatter3d"
           }
          ],
          "scattercarpet": [
           {
            "marker": {
             "colorbar": {
              "outlinewidth": 0,
              "ticks": ""
             }
            },
            "type": "scattercarpet"
           }
          ],
          "scattergeo": [
           {
            "marker": {
             "colorbar": {
              "outlinewidth": 0,
              "ticks": ""
             }
            },
            "type": "scattergeo"
           }
          ],
          "scattergl": [
           {
            "marker": {
             "colorbar": {
              "outlinewidth": 0,
              "ticks": ""
             }
            },
            "type": "scattergl"
           }
          ],
          "scattermapbox": [
           {
            "marker": {
             "colorbar": {
              "outlinewidth": 0,
              "ticks": ""
             }
            },
            "type": "scattermapbox"
           }
          ],
          "scatterpolar": [
           {
            "marker": {
             "colorbar": {
              "outlinewidth": 0,
              "ticks": ""
             }
            },
            "type": "scatterpolar"
           }
          ],
          "scatterpolargl": [
           {
            "marker": {
             "colorbar": {
              "outlinewidth": 0,
              "ticks": ""
             }
            },
            "type": "scatterpolargl"
           }
          ],
          "scatterternary": [
           {
            "marker": {
             "colorbar": {
              "outlinewidth": 0,
              "ticks": ""
             }
            },
            "type": "scatterternary"
           }
          ],
          "surface": [
           {
            "colorbar": {
             "outlinewidth": 0,
             "ticks": ""
            },
            "colorscale": [
             [
              0,
              "#0d0887"
             ],
             [
              0.1111111111111111,
              "#46039f"
             ],
             [
              0.2222222222222222,
              "#7201a8"
             ],
             [
              0.3333333333333333,
              "#9c179e"
             ],
             [
              0.4444444444444444,
              "#bd3786"
             ],
             [
              0.5555555555555556,
              "#d8576b"
             ],
             [
              0.6666666666666666,
              "#ed7953"
             ],
             [
              0.7777777777777778,
              "#fb9f3a"
             ],
             [
              0.8888888888888888,
              "#fdca26"
             ],
             [
              1,
              "#f0f921"
             ]
            ],
            "type": "surface"
           }
          ],
          "table": [
           {
            "cells": {
             "fill": {
              "color": "#EBF0F8"
             },
             "line": {
              "color": "white"
             }
            },
            "header": {
             "fill": {
              "color": "#C8D4E3"
             },
             "line": {
              "color": "white"
             }
            },
            "type": "table"
           }
          ]
         },
         "layout": {
          "annotationdefaults": {
           "arrowcolor": "#2a3f5f",
           "arrowhead": 0,
           "arrowwidth": 1
          },
          "autotypenumbers": "strict",
          "coloraxis": {
           "colorbar": {
            "outlinewidth": 0,
            "ticks": ""
           }
          },
          "colorscale": {
           "diverging": [
            [
             0,
             "#8e0152"
            ],
            [
             0.1,
             "#c51b7d"
            ],
            [
             0.2,
             "#de77ae"
            ],
            [
             0.3,
             "#f1b6da"
            ],
            [
             0.4,
             "#fde0ef"
            ],
            [
             0.5,
             "#f7f7f7"
            ],
            [
             0.6,
             "#e6f5d0"
            ],
            [
             0.7,
             "#b8e186"
            ],
            [
             0.8,
             "#7fbc41"
            ],
            [
             0.9,
             "#4d9221"
            ],
            [
             1,
             "#276419"
            ]
           ],
           "sequential": [
            [
             0,
             "#0d0887"
            ],
            [
             0.1111111111111111,
             "#46039f"
            ],
            [
             0.2222222222222222,
             "#7201a8"
            ],
            [
             0.3333333333333333,
             "#9c179e"
            ],
            [
             0.4444444444444444,
             "#bd3786"
            ],
            [
             0.5555555555555556,
             "#d8576b"
            ],
            [
             0.6666666666666666,
             "#ed7953"
            ],
            [
             0.7777777777777778,
             "#fb9f3a"
            ],
            [
             0.8888888888888888,
             "#fdca26"
            ],
            [
             1,
             "#f0f921"
            ]
           ],
           "sequentialminus": [
            [
             0,
             "#0d0887"
            ],
            [
             0.1111111111111111,
             "#46039f"
            ],
            [
             0.2222222222222222,
             "#7201a8"
            ],
            [
             0.3333333333333333,
             "#9c179e"
            ],
            [
             0.4444444444444444,
             "#bd3786"
            ],
            [
             0.5555555555555556,
             "#d8576b"
            ],
            [
             0.6666666666666666,
             "#ed7953"
            ],
            [
             0.7777777777777778,
             "#fb9f3a"
            ],
            [
             0.8888888888888888,
             "#fdca26"
            ],
            [
             1,
             "#f0f921"
            ]
           ]
          },
          "colorway": [
           "#636efa",
           "#EF553B",
           "#00cc96",
           "#ab63fa",
           "#FFA15A",
           "#19d3f3",
           "#FF6692",
           "#B6E880",
           "#FF97FF",
           "#FECB52"
          ],
          "font": {
           "color": "#2a3f5f"
          },
          "geo": {
           "bgcolor": "white",
           "lakecolor": "white",
           "landcolor": "#E5ECF6",
           "showlakes": true,
           "showland": true,
           "subunitcolor": "white"
          },
          "hoverlabel": {
           "align": "left"
          },
          "hovermode": "closest",
          "mapbox": {
           "style": "light"
          },
          "paper_bgcolor": "white",
          "plot_bgcolor": "#E5ECF6",
          "polar": {
           "angularaxis": {
            "gridcolor": "white",
            "linecolor": "white",
            "ticks": ""
           },
           "bgcolor": "#E5ECF6",
           "radialaxis": {
            "gridcolor": "white",
            "linecolor": "white",
            "ticks": ""
           }
          },
          "scene": {
           "xaxis": {
            "backgroundcolor": "#E5ECF6",
            "gridcolor": "white",
            "gridwidth": 2,
            "linecolor": "white",
            "showbackground": true,
            "ticks": "",
            "zerolinecolor": "white"
           },
           "yaxis": {
            "backgroundcolor": "#E5ECF6",
            "gridcolor": "white",
            "gridwidth": 2,
            "linecolor": "white",
            "showbackground": true,
            "ticks": "",
            "zerolinecolor": "white"
           },
           "zaxis": {
            "backgroundcolor": "#E5ECF6",
            "gridcolor": "white",
            "gridwidth": 2,
            "linecolor": "white",
            "showbackground": true,
            "ticks": "",
            "zerolinecolor": "white"
           }
          },
          "shapedefaults": {
           "line": {
            "color": "#2a3f5f"
           }
          },
          "ternary": {
           "aaxis": {
            "gridcolor": "white",
            "linecolor": "white",
            "ticks": ""
           },
           "baxis": {
            "gridcolor": "white",
            "linecolor": "white",
            "ticks": ""
           },
           "bgcolor": "#E5ECF6",
           "caxis": {
            "gridcolor": "white",
            "linecolor": "white",
            "ticks": ""
           }
          },
          "title": {
           "x": 0.05
          },
          "xaxis": {
           "automargin": true,
           "gridcolor": "white",
           "linecolor": "white",
           "ticks": "",
           "title": {
            "standoff": 15
           },
           "zerolinecolor": "white",
           "zerolinewidth": 2
          },
          "yaxis": {
           "automargin": true,
           "gridcolor": "white",
           "linecolor": "white",
           "ticks": "",
           "title": {
            "standoff": 15
           },
           "zerolinecolor": "white",
           "zerolinewidth": 2
          }
         }
        },
        "title": {
         "text": "Average Unemployment Rate (Region)"
        },
        "xaxis": {
         "anchor": "y",
         "categoryarray": [
          "East",
          "North",
          "Northeast",
          "South",
          "West"
         ],
         "categoryorder": "total descending",
         "domain": [
          0,
          1
         ],
         "title": {
          "text": "region"
         }
        },
        "yaxis": {
         "anchor": "x",
         "domain": [
          0,
          1
         ],
         "title": {
          "text": "estimated unemployment rate"
         }
        }
       }
      }
     },
     "metadata": {},
     "output_type": "display_data"
    }
   ],
   "source": [
    "# Average Unemployment Rate\n",
    "\n",
    "fig = px.bar(region, x=\"region\", y=\"estimated unemployment rate\", color=\"region\", title=\"Average Unemployment Rate (Region)\")\n",
    "fig.update_layout(xaxis={'categoryorder':'total descending'})\n",
    "fig.show()"
   ]
  },
  {
   "cell_type": "code",
   "execution_count": 23,
   "id": "9d9f46c3",
   "metadata": {
    "execution": {
     "iopub.execute_input": "2023-01-24T18:21:10.821318Z",
     "iopub.status.busy": "2023-01-24T18:21:10.820916Z",
     "iopub.status.idle": "2023-01-24T18:21:11.822968Z",
     "shell.execute_reply": "2023-01-24T18:21:11.821892Z"
    },
    "papermill": {
     "duration": 1.018902,
     "end_time": "2023-01-24T18:21:11.826048",
     "exception": false,
     "start_time": "2023-01-24T18:21:10.807146",
     "status": "completed"
    },
    "tags": []
   },
   "outputs": [
    {
     "data": {
      "application/vnd.plotly.v1+json": {
       "config": {
        "plotlyServerURL": "https://plot.ly"
       },
       "data": [
        {
         "alignmentgroup": "True",
         "hovertemplate": "state=Andhra Pradesh<br>month=Jan<br>region=%{x}<br>estimated unemployment rate=%{y}<extra></extra>",
         "legendgroup": "Andhra Pradesh",
         "marker": {
          "color": "#636efa",
          "pattern": {
           "shape": ""
          }
         },
         "name": "Andhra Pradesh",
         "offsetgroup": "Andhra Pradesh",
         "orientation": "v",
         "showlegend": true,
         "textposition": "auto",
         "type": "bar",
         "x": [
          "South"
         ],
         "xaxis": "x",
         "y": [
          5.48
         ],
         "yaxis": "y"
        },
        {
         "alignmentgroup": "True",
         "hovertemplate": "state=Assam<br>month=Jan<br>region=%{x}<br>estimated unemployment rate=%{y}<extra></extra>",
         "legendgroup": "Assam",
         "marker": {
          "color": "#EF553B",
          "pattern": {
           "shape": ""
          }
         },
         "name": "Assam",
         "offsetgroup": "Assam",
         "orientation": "v",
         "showlegend": true,
         "textposition": "auto",
         "type": "bar",
         "x": [
          "Northeast"
         ],
         "xaxis": "x",
         "y": [
          4.66
         ],
         "yaxis": "y"
        },
        {
         "alignmentgroup": "True",
         "hovertemplate": "state=Bihar<br>month=Jan<br>region=%{x}<br>estimated unemployment rate=%{y}<extra></extra>",
         "legendgroup": "Bihar",
         "marker": {
          "color": "#00cc96",
          "pattern": {
           "shape": ""
          }
         },
         "name": "Bihar",
         "offsetgroup": "Bihar",
         "orientation": "v",
         "showlegend": true,
         "textposition": "auto",
         "type": "bar",
         "x": [
          "East"
         ],
         "xaxis": "x",
         "y": [
          10.61
         ],
         "yaxis": "y"
        },
        {
         "alignmentgroup": "True",
         "hovertemplate": "state=Chhattisgarh<br>month=Jan<br>region=%{x}<br>estimated unemployment rate=%{y}<extra></extra>",
         "legendgroup": "Chhattisgarh",
         "marker": {
          "color": "#ab63fa",
          "pattern": {
           "shape": ""
          }
         },
         "name": "Chhattisgarh",
         "offsetgroup": "Chhattisgarh",
         "orientation": "v",
         "showlegend": true,
         "textposition": "auto",
         "type": "bar",
         "x": [
          "West"
         ],
         "xaxis": "x",
         "y": [
          9.65
         ],
         "yaxis": "y"
        },
        {
         "alignmentgroup": "True",
         "hovertemplate": "state=Delhi<br>month=Jan<br>region=%{x}<br>estimated unemployment rate=%{y}<extra></extra>",
         "legendgroup": "Delhi",
         "marker": {
          "color": "#FFA15A",
          "pattern": {
           "shape": ""
          }
         },
         "name": "Delhi",
         "offsetgroup": "Delhi",
         "orientation": "v",
         "showlegend": true,
         "textposition": "auto",
         "type": "bar",
         "x": [
          "North"
         ],
         "xaxis": "x",
         "y": [
          22.23
         ],
         "yaxis": "y"
        },
        {
         "alignmentgroup": "True",
         "hovertemplate": "state=Goa<br>month=Jan<br>region=%{x}<br>estimated unemployment rate=%{y}<extra></extra>",
         "legendgroup": "Goa",
         "marker": {
          "color": "#19d3f3",
          "pattern": {
           "shape": ""
          }
         },
         "name": "Goa",
         "offsetgroup": "Goa",
         "orientation": "v",
         "showlegend": true,
         "textposition": "auto",
         "type": "bar",
         "x": [
          "West"
         ],
         "xaxis": "x",
         "y": [
          8.89
         ],
         "yaxis": "y"
        },
        {
         "alignmentgroup": "True",
         "hovertemplate": "state=Gujarat<br>month=Jan<br>region=%{x}<br>estimated unemployment rate=%{y}<extra></extra>",
         "legendgroup": "Gujarat",
         "marker": {
          "color": "#FF6692",
          "pattern": {
           "shape": ""
          }
         },
         "name": "Gujarat",
         "offsetgroup": "Gujarat",
         "orientation": "v",
         "showlegend": true,
         "textposition": "auto",
         "type": "bar",
         "x": [
          "West"
         ],
         "xaxis": "x",
         "y": [
          5.54
         ],
         "yaxis": "y"
        },
        {
         "alignmentgroup": "True",
         "hovertemplate": "state=Haryana<br>month=Jan<br>region=%{x}<br>estimated unemployment rate=%{y}<extra></extra>",
         "legendgroup": "Haryana",
         "marker": {
          "color": "#B6E880",
          "pattern": {
           "shape": ""
          }
         },
         "name": "Haryana",
         "offsetgroup": "Haryana",
         "orientation": "v",
         "showlegend": true,
         "textposition": "auto",
         "type": "bar",
         "x": [
          "North"
         ],
         "xaxis": "x",
         "y": [
          20.34
         ],
         "yaxis": "y"
        },
        {
         "alignmentgroup": "True",
         "hovertemplate": "state=Himachal Pradesh<br>month=Jan<br>region=%{x}<br>estimated unemployment rate=%{y}<extra></extra>",
         "legendgroup": "Himachal Pradesh",
         "marker": {
          "color": "#FF97FF",
          "pattern": {
           "shape": ""
          }
         },
         "name": "Himachal Pradesh",
         "offsetgroup": "Himachal Pradesh",
         "orientation": "v",
         "showlegend": true,
         "textposition": "auto",
         "type": "bar",
         "x": [
          "North"
         ],
         "xaxis": "x",
         "y": [
          16.83
         ],
         "yaxis": "y"
        },
        {
         "alignmentgroup": "True",
         "hovertemplate": "state=Jammu & Kashmir<br>month=Jan<br>region=%{x}<br>estimated unemployment rate=%{y}<extra></extra>",
         "legendgroup": "Jammu & Kashmir",
         "marker": {
          "color": "#FECB52",
          "pattern": {
           "shape": ""
          }
         },
         "name": "Jammu & Kashmir",
         "offsetgroup": "Jammu & Kashmir",
         "orientation": "v",
         "showlegend": true,
         "textposition": "auto",
         "type": "bar",
         "x": [
          "North"
         ],
         "xaxis": "x",
         "y": [
          21.08
         ],
         "yaxis": "y"
        },
        {
         "alignmentgroup": "True",
         "hovertemplate": "state=Jharkhand<br>month=Jan<br>region=%{x}<br>estimated unemployment rate=%{y}<extra></extra>",
         "legendgroup": "Jharkhand",
         "marker": {
          "color": "#636efa",
          "pattern": {
           "shape": ""
          }
         },
         "name": "Jharkhand",
         "offsetgroup": "Jharkhand",
         "orientation": "v",
         "showlegend": true,
         "textposition": "auto",
         "type": "bar",
         "x": [
          "East"
         ],
         "xaxis": "x",
         "y": [
          10.61
         ],
         "yaxis": "y"
        },
        {
         "alignmentgroup": "True",
         "hovertemplate": "state=Karnataka<br>month=Jan<br>region=%{x}<br>estimated unemployment rate=%{y}<extra></extra>",
         "legendgroup": "Karnataka",
         "marker": {
          "color": "#EF553B",
          "pattern": {
           "shape": ""
          }
         },
         "name": "Karnataka",
         "offsetgroup": "Karnataka",
         "orientation": "v",
         "showlegend": true,
         "textposition": "auto",
         "type": "bar",
         "x": [
          "South"
         ],
         "xaxis": "x",
         "y": [
          2.86
         ],
         "yaxis": "y"
        },
        {
         "alignmentgroup": "True",
         "hovertemplate": "state=Kerala<br>month=Jan<br>region=%{x}<br>estimated unemployment rate=%{y}<extra></extra>",
         "legendgroup": "Kerala",
         "marker": {
          "color": "#00cc96",
          "pattern": {
           "shape": ""
          }
         },
         "name": "Kerala",
         "offsetgroup": "Kerala",
         "orientation": "v",
         "showlegend": true,
         "textposition": "auto",
         "type": "bar",
         "x": [
          "South"
         ],
         "xaxis": "x",
         "y": [
          5.31
         ],
         "yaxis": "y"
        },
        {
         "alignmentgroup": "True",
         "hovertemplate": "state=Madhya Pradesh<br>month=Jan<br>region=%{x}<br>estimated unemployment rate=%{y}<extra></extra>",
         "legendgroup": "Madhya Pradesh",
         "marker": {
          "color": "#ab63fa",
          "pattern": {
           "shape": ""
          }
         },
         "name": "Madhya Pradesh",
         "offsetgroup": "Madhya Pradesh",
         "orientation": "v",
         "showlegend": true,
         "textposition": "auto",
         "type": "bar",
         "x": [
          "West"
         ],
         "xaxis": "x",
         "y": [
          4.11
         ],
         "yaxis": "y"
        },
        {
         "alignmentgroup": "True",
         "hovertemplate": "state=Maharashtra<br>month=Jan<br>region=%{x}<br>estimated unemployment rate=%{y}<extra></extra>",
         "legendgroup": "Maharashtra",
         "marker": {
          "color": "#FFA15A",
          "pattern": {
           "shape": ""
          }
         },
         "name": "Maharashtra",
         "offsetgroup": "Maharashtra",
         "orientation": "v",
         "showlegend": true,
         "textposition": "auto",
         "type": "bar",
         "x": [
          "West"
         ],
         "xaxis": "x",
         "y": [
          4.95
         ],
         "yaxis": "y"
        },
        {
         "alignmentgroup": "True",
         "hovertemplate": "state=Meghalaya<br>month=Jan<br>region=%{x}<br>estimated unemployment rate=%{y}<extra></extra>",
         "legendgroup": "Meghalaya",
         "marker": {
          "color": "#19d3f3",
          "pattern": {
           "shape": ""
          }
         },
         "name": "Meghalaya",
         "offsetgroup": "Meghalaya",
         "orientation": "v",
         "showlegend": true,
         "textposition": "auto",
         "type": "bar",
         "x": [
          "Northeast"
         ],
         "xaxis": "x",
         "y": [
          1.66
         ],
         "yaxis": "y"
        },
        {
         "alignmentgroup": "True",
         "hovertemplate": "state=Odisha<br>month=Jan<br>region=%{x}<br>estimated unemployment rate=%{y}<extra></extra>",
         "legendgroup": "Odisha",
         "marker": {
          "color": "#FF6692",
          "pattern": {
           "shape": ""
          }
         },
         "name": "Odisha",
         "offsetgroup": "Odisha",
         "orientation": "v",
         "showlegend": true,
         "textposition": "auto",
         "type": "bar",
         "x": [
          "East"
         ],
         "xaxis": "x",
         "y": [
          1.9
         ],
         "yaxis": "y"
        },
        {
         "alignmentgroup": "True",
         "hovertemplate": "state=Puducherry<br>month=Jan<br>region=%{x}<br>estimated unemployment rate=%{y}<extra></extra>",
         "legendgroup": "Puducherry",
         "marker": {
          "color": "#B6E880",
          "pattern": {
           "shape": ""
          }
         },
         "name": "Puducherry",
         "offsetgroup": "Puducherry",
         "orientation": "v",
         "showlegend": true,
         "textposition": "auto",
         "type": "bar",
         "x": [
          "South"
         ],
         "xaxis": "x",
         "y": [
          0.58
         ],
         "yaxis": "y"
        },
        {
         "alignmentgroup": "True",
         "hovertemplate": "state=Punjab<br>month=Jan<br>region=%{x}<br>estimated unemployment rate=%{y}<extra></extra>",
         "legendgroup": "Punjab",
         "marker": {
          "color": "#FF97FF",
          "pattern": {
           "shape": ""
          }
         },
         "name": "Punjab",
         "offsetgroup": "Punjab",
         "orientation": "v",
         "showlegend": true,
         "textposition": "auto",
         "type": "bar",
         "x": [
          "North"
         ],
         "xaxis": "x",
         "y": [
          11.11
         ],
         "yaxis": "y"
        },
        {
         "alignmentgroup": "True",
         "hovertemplate": "state=Rajasthan<br>month=Jan<br>region=%{x}<br>estimated unemployment rate=%{y}<extra></extra>",
         "legendgroup": "Rajasthan",
         "marker": {
          "color": "#FECB52",
          "pattern": {
           "shape": ""
          }
         },
         "name": "Rajasthan",
         "offsetgroup": "Rajasthan",
         "orientation": "v",
         "showlegend": true,
         "textposition": "auto",
         "type": "bar",
         "x": [
          "North"
         ],
         "xaxis": "x",
         "y": [
          10.97
         ],
         "yaxis": "y"
        },
        {
         "alignmentgroup": "True",
         "hovertemplate": "state=Tamil Nadu<br>month=Jan<br>region=%{x}<br>estimated unemployment rate=%{y}<extra></extra>",
         "legendgroup": "Tamil Nadu",
         "marker": {
          "color": "#EF553B",
          "pattern": {
           "shape": ""
          }
         },
         "name": "Tamil Nadu",
         "offsetgroup": "Tamil Nadu",
         "orientation": "v",
         "showlegend": true,
         "textposition": "auto",
         "type": "bar",
         "x": [
          "South"
         ],
         "xaxis": "x",
         "y": [
          1.57
         ],
         "yaxis": "y"
        },
        {
         "alignmentgroup": "True",
         "hovertemplate": "state=Telangana<br>month=Jan<br>region=%{x}<br>estimated unemployment rate=%{y}<extra></extra>",
         "legendgroup": "Telangana",
         "marker": {
          "color": "#00cc96",
          "pattern": {
           "shape": ""
          }
         },
         "name": "Telangana",
         "offsetgroup": "Telangana",
         "orientation": "v",
         "showlegend": true,
         "textposition": "auto",
         "type": "bar",
         "x": [
          "South"
         ],
         "xaxis": "x",
         "y": [
          5.49
         ],
         "yaxis": "y"
        },
        {
         "alignmentgroup": "True",
         "hovertemplate": "state=Tripura<br>month=Jan<br>region=%{x}<br>estimated unemployment rate=%{y}<extra></extra>",
         "legendgroup": "Tripura",
         "marker": {
          "color": "#ab63fa",
          "pattern": {
           "shape": ""
          }
         },
         "name": "Tripura",
         "offsetgroup": "Tripura",
         "orientation": "v",
         "showlegend": true,
         "textposition": "auto",
         "type": "bar",
         "x": [
          "Northeast"
         ],
         "xaxis": "x",
         "y": [
          32.67
         ],
         "yaxis": "y"
        },
        {
         "alignmentgroup": "True",
         "hovertemplate": "state=Uttar Pradesh<br>month=Jan<br>region=%{x}<br>estimated unemployment rate=%{y}<extra></extra>",
         "legendgroup": "Uttar Pradesh",
         "marker": {
          "color": "#FFA15A",
          "pattern": {
           "shape": ""
          }
         },
         "name": "Uttar Pradesh",
         "offsetgroup": "Uttar Pradesh",
         "orientation": "v",
         "showlegend": true,
         "textposition": "auto",
         "type": "bar",
         "x": [
          "North"
         ],
         "xaxis": "x",
         "y": [
          7.58
         ],
         "yaxis": "y"
        },
        {
         "alignmentgroup": "True",
         "hovertemplate": "state=Uttarakhand<br>month=Jan<br>region=%{x}<br>estimated unemployment rate=%{y}<extra></extra>",
         "legendgroup": "Uttarakhand",
         "marker": {
          "color": "#19d3f3",
          "pattern": {
           "shape": ""
          }
         },
         "name": "Uttarakhand",
         "offsetgroup": "Uttarakhand",
         "orientation": "v",
         "showlegend": true,
         "textposition": "auto",
         "type": "bar",
         "x": [
          "North"
         ],
         "xaxis": "x",
         "y": [
          5.49
         ],
         "yaxis": "y"
        },
        {
         "alignmentgroup": "True",
         "hovertemplate": "state=West Bengal<br>month=Jan<br>region=%{x}<br>estimated unemployment rate=%{y}<extra></extra>",
         "legendgroup": "West Bengal",
         "marker": {
          "color": "#FF6692",
          "pattern": {
           "shape": ""
          }
         },
         "name": "West Bengal",
         "offsetgroup": "West Bengal",
         "orientation": "v",
         "showlegend": true,
         "textposition": "auto",
         "type": "bar",
         "x": [
          "East"
         ],
         "xaxis": "x",
         "y": [
          6.94
         ],
         "yaxis": "y"
        }
       ],
       "frames": [
        {
         "data": [
          {
           "alignmentgroup": "True",
           "hovertemplate": "state=Andhra Pradesh<br>month=Jan<br>region=%{x}<br>estimated unemployment rate=%{y}<extra></extra>",
           "legendgroup": "Andhra Pradesh",
           "marker": {
            "color": "#636efa",
            "pattern": {
             "shape": ""
            }
           },
           "name": "Andhra Pradesh",
           "offsetgroup": "Andhra Pradesh",
           "orientation": "v",
           "showlegend": true,
           "textposition": "auto",
           "type": "bar",
           "x": [
            "South"
           ],
           "xaxis": "x",
           "y": [
            5.48
           ],
           "yaxis": "y"
          },
          {
           "alignmentgroup": "True",
           "hovertemplate": "state=Assam<br>month=Jan<br>region=%{x}<br>estimated unemployment rate=%{y}<extra></extra>",
           "legendgroup": "Assam",
           "marker": {
            "color": "#EF553B",
            "pattern": {
             "shape": ""
            }
           },
           "name": "Assam",
           "offsetgroup": "Assam",
           "orientation": "v",
           "showlegend": true,
           "textposition": "auto",
           "type": "bar",
           "x": [
            "Northeast"
           ],
           "xaxis": "x",
           "y": [
            4.66
           ],
           "yaxis": "y"
          },
          {
           "alignmentgroup": "True",
           "hovertemplate": "state=Bihar<br>month=Jan<br>region=%{x}<br>estimated unemployment rate=%{y}<extra></extra>",
           "legendgroup": "Bihar",
           "marker": {
            "color": "#00cc96",
            "pattern": {
             "shape": ""
            }
           },
           "name": "Bihar",
           "offsetgroup": "Bihar",
           "orientation": "v",
           "showlegend": true,
           "textposition": "auto",
           "type": "bar",
           "x": [
            "East"
           ],
           "xaxis": "x",
           "y": [
            10.61
           ],
           "yaxis": "y"
          },
          {
           "alignmentgroup": "True",
           "hovertemplate": "state=Chhattisgarh<br>month=Jan<br>region=%{x}<br>estimated unemployment rate=%{y}<extra></extra>",
           "legendgroup": "Chhattisgarh",
           "marker": {
            "color": "#ab63fa",
            "pattern": {
             "shape": ""
            }
           },
           "name": "Chhattisgarh",
           "offsetgroup": "Chhattisgarh",
           "orientation": "v",
           "showlegend": true,
           "textposition": "auto",
           "type": "bar",
           "x": [
            "West"
           ],
           "xaxis": "x",
           "y": [
            9.65
           ],
           "yaxis": "y"
          },
          {
           "alignmentgroup": "True",
           "hovertemplate": "state=Delhi<br>month=Jan<br>region=%{x}<br>estimated unemployment rate=%{y}<extra></extra>",
           "legendgroup": "Delhi",
           "marker": {
            "color": "#FFA15A",
            "pattern": {
             "shape": ""
            }
           },
           "name": "Delhi",
           "offsetgroup": "Delhi",
           "orientation": "v",
           "showlegend": true,
           "textposition": "auto",
           "type": "bar",
           "x": [
            "North"
           ],
           "xaxis": "x",
           "y": [
            22.23
           ],
           "yaxis": "y"
          },
          {
           "alignmentgroup": "True",
           "hovertemplate": "state=Goa<br>month=Jan<br>region=%{x}<br>estimated unemployment rate=%{y}<extra></extra>",
           "legendgroup": "Goa",
           "marker": {
            "color": "#19d3f3",
            "pattern": {
             "shape": ""
            }
           },
           "name": "Goa",
           "offsetgroup": "Goa",
           "orientation": "v",
           "showlegend": true,
           "textposition": "auto",
           "type": "bar",
           "x": [
            "West"
           ],
           "xaxis": "x",
           "y": [
            8.89
           ],
           "yaxis": "y"
          },
          {
           "alignmentgroup": "True",
           "hovertemplate": "state=Gujarat<br>month=Jan<br>region=%{x}<br>estimated unemployment rate=%{y}<extra></extra>",
           "legendgroup": "Gujarat",
           "marker": {
            "color": "#FF6692",
            "pattern": {
             "shape": ""
            }
           },
           "name": "Gujarat",
           "offsetgroup": "Gujarat",
           "orientation": "v",
           "showlegend": true,
           "textposition": "auto",
           "type": "bar",
           "x": [
            "West"
           ],
           "xaxis": "x",
           "y": [
            5.54
           ],
           "yaxis": "y"
          },
          {
           "alignmentgroup": "True",
           "hovertemplate": "state=Haryana<br>month=Jan<br>region=%{x}<br>estimated unemployment rate=%{y}<extra></extra>",
           "legendgroup": "Haryana",
           "marker": {
            "color": "#B6E880",
            "pattern": {
             "shape": ""
            }
           },
           "name": "Haryana",
           "offsetgroup": "Haryana",
           "orientation": "v",
           "showlegend": true,
           "textposition": "auto",
           "type": "bar",
           "x": [
            "North"
           ],
           "xaxis": "x",
           "y": [
            20.34
           ],
           "yaxis": "y"
          },
          {
           "alignmentgroup": "True",
           "hovertemplate": "state=Himachal Pradesh<br>month=Jan<br>region=%{x}<br>estimated unemployment rate=%{y}<extra></extra>",
           "legendgroup": "Himachal Pradesh",
           "marker": {
            "color": "#FF97FF",
            "pattern": {
             "shape": ""
            }
           },
           "name": "Himachal Pradesh",
           "offsetgroup": "Himachal Pradesh",
           "orientation": "v",
           "showlegend": true,
           "textposition": "auto",
           "type": "bar",
           "x": [
            "North"
           ],
           "xaxis": "x",
           "y": [
            16.83
           ],
           "yaxis": "y"
          },
          {
           "alignmentgroup": "True",
           "hovertemplate": "state=Jammu & Kashmir<br>month=Jan<br>region=%{x}<br>estimated unemployment rate=%{y}<extra></extra>",
           "legendgroup": "Jammu & Kashmir",
           "marker": {
            "color": "#FECB52",
            "pattern": {
             "shape": ""
            }
           },
           "name": "Jammu & Kashmir",
           "offsetgroup": "Jammu & Kashmir",
           "orientation": "v",
           "showlegend": true,
           "textposition": "auto",
           "type": "bar",
           "x": [
            "North"
           ],
           "xaxis": "x",
           "y": [
            21.08
           ],
           "yaxis": "y"
          },
          {
           "alignmentgroup": "True",
           "hovertemplate": "state=Jharkhand<br>month=Jan<br>region=%{x}<br>estimated unemployment rate=%{y}<extra></extra>",
           "legendgroup": "Jharkhand",
           "marker": {
            "color": "#636efa",
            "pattern": {
             "shape": ""
            }
           },
           "name": "Jharkhand",
           "offsetgroup": "Jharkhand",
           "orientation": "v",
           "showlegend": true,
           "textposition": "auto",
           "type": "bar",
           "x": [
            "East"
           ],
           "xaxis": "x",
           "y": [
            10.61
           ],
           "yaxis": "y"
          },
          {
           "alignmentgroup": "True",
           "hovertemplate": "state=Karnataka<br>month=Jan<br>region=%{x}<br>estimated unemployment rate=%{y}<extra></extra>",
           "legendgroup": "Karnataka",
           "marker": {
            "color": "#EF553B",
            "pattern": {
             "shape": ""
            }
           },
           "name": "Karnataka",
           "offsetgroup": "Karnataka",
           "orientation": "v",
           "showlegend": true,
           "textposition": "auto",
           "type": "bar",
           "x": [
            "South"
           ],
           "xaxis": "x",
           "y": [
            2.86
           ],
           "yaxis": "y"
          },
          {
           "alignmentgroup": "True",
           "hovertemplate": "state=Kerala<br>month=Jan<br>region=%{x}<br>estimated unemployment rate=%{y}<extra></extra>",
           "legendgroup": "Kerala",
           "marker": {
            "color": "#00cc96",
            "pattern": {
             "shape": ""
            }
           },
           "name": "Kerala",
           "offsetgroup": "Kerala",
           "orientation": "v",
           "showlegend": true,
           "textposition": "auto",
           "type": "bar",
           "x": [
            "South"
           ],
           "xaxis": "x",
           "y": [
            5.31
           ],
           "yaxis": "y"
          },
          {
           "alignmentgroup": "True",
           "hovertemplate": "state=Madhya Pradesh<br>month=Jan<br>region=%{x}<br>estimated unemployment rate=%{y}<extra></extra>",
           "legendgroup": "Madhya Pradesh",
           "marker": {
            "color": "#ab63fa",
            "pattern": {
             "shape": ""
            }
           },
           "name": "Madhya Pradesh",
           "offsetgroup": "Madhya Pradesh",
           "orientation": "v",
           "showlegend": true,
           "textposition": "auto",
           "type": "bar",
           "x": [
            "West"
           ],
           "xaxis": "x",
           "y": [
            4.11
           ],
           "yaxis": "y"
          },
          {
           "alignmentgroup": "True",
           "hovertemplate": "state=Maharashtra<br>month=Jan<br>region=%{x}<br>estimated unemployment rate=%{y}<extra></extra>",
           "legendgroup": "Maharashtra",
           "marker": {
            "color": "#FFA15A",
            "pattern": {
             "shape": ""
            }
           },
           "name": "Maharashtra",
           "offsetgroup": "Maharashtra",
           "orientation": "v",
           "showlegend": true,
           "textposition": "auto",
           "type": "bar",
           "x": [
            "West"
           ],
           "xaxis": "x",
           "y": [
            4.95
           ],
           "yaxis": "y"
          },
          {
           "alignmentgroup": "True",
           "hovertemplate": "state=Meghalaya<br>month=Jan<br>region=%{x}<br>estimated unemployment rate=%{y}<extra></extra>",
           "legendgroup": "Meghalaya",
           "marker": {
            "color": "#19d3f3",
            "pattern": {
             "shape": ""
            }
           },
           "name": "Meghalaya",
           "offsetgroup": "Meghalaya",
           "orientation": "v",
           "showlegend": true,
           "textposition": "auto",
           "type": "bar",
           "x": [
            "Northeast"
           ],
           "xaxis": "x",
           "y": [
            1.66
           ],
           "yaxis": "y"
          },
          {
           "alignmentgroup": "True",
           "hovertemplate": "state=Odisha<br>month=Jan<br>region=%{x}<br>estimated unemployment rate=%{y}<extra></extra>",
           "legendgroup": "Odisha",
           "marker": {
            "color": "#FF6692",
            "pattern": {
             "shape": ""
            }
           },
           "name": "Odisha",
           "offsetgroup": "Odisha",
           "orientation": "v",
           "showlegend": true,
           "textposition": "auto",
           "type": "bar",
           "x": [
            "East"
           ],
           "xaxis": "x",
           "y": [
            1.9
           ],
           "yaxis": "y"
          },
          {
           "alignmentgroup": "True",
           "hovertemplate": "state=Puducherry<br>month=Jan<br>region=%{x}<br>estimated unemployment rate=%{y}<extra></extra>",
           "legendgroup": "Puducherry",
           "marker": {
            "color": "#B6E880",
            "pattern": {
             "shape": ""
            }
           },
           "name": "Puducherry",
           "offsetgroup": "Puducherry",
           "orientation": "v",
           "showlegend": true,
           "textposition": "auto",
           "type": "bar",
           "x": [
            "South"
           ],
           "xaxis": "x",
           "y": [
            0.58
           ],
           "yaxis": "y"
          },
          {
           "alignmentgroup": "True",
           "hovertemplate": "state=Punjab<br>month=Jan<br>region=%{x}<br>estimated unemployment rate=%{y}<extra></extra>",
           "legendgroup": "Punjab",
           "marker": {
            "color": "#FF97FF",
            "pattern": {
             "shape": ""
            }
           },
           "name": "Punjab",
           "offsetgroup": "Punjab",
           "orientation": "v",
           "showlegend": true,
           "textposition": "auto",
           "type": "bar",
           "x": [
            "North"
           ],
           "xaxis": "x",
           "y": [
            11.11
           ],
           "yaxis": "y"
          },
          {
           "alignmentgroup": "True",
           "hovertemplate": "state=Rajasthan<br>month=Jan<br>region=%{x}<br>estimated unemployment rate=%{y}<extra></extra>",
           "legendgroup": "Rajasthan",
           "marker": {
            "color": "#FECB52",
            "pattern": {
             "shape": ""
            }
           },
           "name": "Rajasthan",
           "offsetgroup": "Rajasthan",
           "orientation": "v",
           "showlegend": true,
           "textposition": "auto",
           "type": "bar",
           "x": [
            "North"
           ],
           "xaxis": "x",
           "y": [
            10.97
           ],
           "yaxis": "y"
          },
          {
           "alignmentgroup": "True",
           "hovertemplate": "state=Tamil Nadu<br>month=Jan<br>region=%{x}<br>estimated unemployment rate=%{y}<extra></extra>",
           "legendgroup": "Tamil Nadu",
           "marker": {
            "color": "#EF553B",
            "pattern": {
             "shape": ""
            }
           },
           "name": "Tamil Nadu",
           "offsetgroup": "Tamil Nadu",
           "orientation": "v",
           "showlegend": true,
           "textposition": "auto",
           "type": "bar",
           "x": [
            "South"
           ],
           "xaxis": "x",
           "y": [
            1.57
           ],
           "yaxis": "y"
          },
          {
           "alignmentgroup": "True",
           "hovertemplate": "state=Telangana<br>month=Jan<br>region=%{x}<br>estimated unemployment rate=%{y}<extra></extra>",
           "legendgroup": "Telangana",
           "marker": {
            "color": "#00cc96",
            "pattern": {
             "shape": ""
            }
           },
           "name": "Telangana",
           "offsetgroup": "Telangana",
           "orientation": "v",
           "showlegend": true,
           "textposition": "auto",
           "type": "bar",
           "x": [
            "South"
           ],
           "xaxis": "x",
           "y": [
            5.49
           ],
           "yaxis": "y"
          },
          {
           "alignmentgroup": "True",
           "hovertemplate": "state=Tripura<br>month=Jan<br>region=%{x}<br>estimated unemployment rate=%{y}<extra></extra>",
           "legendgroup": "Tripura",
           "marker": {
            "color": "#ab63fa",
            "pattern": {
             "shape": ""
            }
           },
           "name": "Tripura",
           "offsetgroup": "Tripura",
           "orientation": "v",
           "showlegend": true,
           "textposition": "auto",
           "type": "bar",
           "x": [
            "Northeast"
           ],
           "xaxis": "x",
           "y": [
            32.67
           ],
           "yaxis": "y"
          },
          {
           "alignmentgroup": "True",
           "hovertemplate": "state=Uttar Pradesh<br>month=Jan<br>region=%{x}<br>estimated unemployment rate=%{y}<extra></extra>",
           "legendgroup": "Uttar Pradesh",
           "marker": {
            "color": "#FFA15A",
            "pattern": {
             "shape": ""
            }
           },
           "name": "Uttar Pradesh",
           "offsetgroup": "Uttar Pradesh",
           "orientation": "v",
           "showlegend": true,
           "textposition": "auto",
           "type": "bar",
           "x": [
            "North"
           ],
           "xaxis": "x",
           "y": [
            7.58
           ],
           "yaxis": "y"
          },
          {
           "alignmentgroup": "True",
           "hovertemplate": "state=Uttarakhand<br>month=Jan<br>region=%{x}<br>estimated unemployment rate=%{y}<extra></extra>",
           "legendgroup": "Uttarakhand",
           "marker": {
            "color": "#19d3f3",
            "pattern": {
             "shape": ""
            }
           },
           "name": "Uttarakhand",
           "offsetgroup": "Uttarakhand",
           "orientation": "v",
           "showlegend": true,
           "textposition": "auto",
           "type": "bar",
           "x": [
            "North"
           ],
           "xaxis": "x",
           "y": [
            5.49
           ],
           "yaxis": "y"
          },
          {
           "alignmentgroup": "True",
           "hovertemplate": "state=West Bengal<br>month=Jan<br>region=%{x}<br>estimated unemployment rate=%{y}<extra></extra>",
           "legendgroup": "West Bengal",
           "marker": {
            "color": "#FF6692",
            "pattern": {
             "shape": ""
            }
           },
           "name": "West Bengal",
           "offsetgroup": "West Bengal",
           "orientation": "v",
           "showlegend": true,
           "textposition": "auto",
           "type": "bar",
           "x": [
            "East"
           ],
           "xaxis": "x",
           "y": [
            6.94
           ],
           "yaxis": "y"
          }
         ],
         "name": "Jan"
        },
        {
         "data": [
          {
           "alignmentgroup": "True",
           "hovertemplate": "state=Andhra Pradesh<br>month=Feb<br>region=%{x}<br>estimated unemployment rate=%{y}<extra></extra>",
           "legendgroup": "Andhra Pradesh",
           "marker": {
            "color": "#636efa",
            "pattern": {
             "shape": ""
            }
           },
           "name": "Andhra Pradesh",
           "offsetgroup": "Andhra Pradesh",
           "orientation": "v",
           "showlegend": true,
           "textposition": "auto",
           "type": "bar",
           "x": [
            "South"
           ],
           "xaxis": "x",
           "y": [
            5.83
           ],
           "yaxis": "y"
          },
          {
           "alignmentgroup": "True",
           "hovertemplate": "state=Assam<br>month=Feb<br>region=%{x}<br>estimated unemployment rate=%{y}<extra></extra>",
           "legendgroup": "Assam",
           "marker": {
            "color": "#EF553B",
            "pattern": {
             "shape": ""
            }
           },
           "name": "Assam",
           "offsetgroup": "Assam",
           "orientation": "v",
           "showlegend": true,
           "textposition": "auto",
           "type": "bar",
           "x": [
            "Northeast"
           ],
           "xaxis": "x",
           "y": [
            4.41
           ],
           "yaxis": "y"
          },
          {
           "alignmentgroup": "True",
           "hovertemplate": "state=Bihar<br>month=Feb<br>region=%{x}<br>estimated unemployment rate=%{y}<extra></extra>",
           "legendgroup": "Bihar",
           "marker": {
            "color": "#00cc96",
            "pattern": {
             "shape": ""
            }
           },
           "name": "Bihar",
           "offsetgroup": "Bihar",
           "orientation": "v",
           "showlegend": true,
           "textposition": "auto",
           "type": "bar",
           "x": [
            "East"
           ],
           "xaxis": "x",
           "y": [
            10.29
           ],
           "yaxis": "y"
          },
          {
           "alignmentgroup": "True",
           "hovertemplate": "state=Chhattisgarh<br>month=Feb<br>region=%{x}<br>estimated unemployment rate=%{y}<extra></extra>",
           "legendgroup": "Chhattisgarh",
           "marker": {
            "color": "#ab63fa",
            "pattern": {
             "shape": ""
            }
           },
           "name": "Chhattisgarh",
           "offsetgroup": "Chhattisgarh",
           "orientation": "v",
           "showlegend": true,
           "textposition": "auto",
           "type": "bar",
           "x": [
            "West"
           ],
           "xaxis": "x",
           "y": [
            8.38
           ],
           "yaxis": "y"
          },
          {
           "alignmentgroup": "True",
           "hovertemplate": "state=Delhi<br>month=Feb<br>region=%{x}<br>estimated unemployment rate=%{y}<extra></extra>",
           "legendgroup": "Delhi",
           "marker": {
            "color": "#FFA15A",
            "pattern": {
             "shape": ""
            }
           },
           "name": "Delhi",
           "offsetgroup": "Delhi",
           "orientation": "v",
           "showlegend": true,
           "textposition": "auto",
           "type": "bar",
           "x": [
            "North"
           ],
           "xaxis": "x",
           "y": [
            14.84
           ],
           "yaxis": "y"
          },
          {
           "alignmentgroup": "True",
           "hovertemplate": "state=Goa<br>month=Feb<br>region=%{x}<br>estimated unemployment rate=%{y}<extra></extra>",
           "legendgroup": "Goa",
           "marker": {
            "color": "#19d3f3",
            "pattern": {
             "shape": ""
            }
           },
           "name": "Goa",
           "offsetgroup": "Goa",
           "orientation": "v",
           "showlegend": true,
           "textposition": "auto",
           "type": "bar",
           "x": [
            "West"
           ],
           "xaxis": "x",
           "y": [
            2.81
           ],
           "yaxis": "y"
          },
          {
           "alignmentgroup": "True",
           "hovertemplate": "state=Gujarat<br>month=Feb<br>region=%{x}<br>estimated unemployment rate=%{y}<extra></extra>",
           "legendgroup": "Gujarat",
           "marker": {
            "color": "#FF6692",
            "pattern": {
             "shape": ""
            }
           },
           "name": "Gujarat",
           "offsetgroup": "Gujarat",
           "orientation": "v",
           "showlegend": true,
           "textposition": "auto",
           "type": "bar",
           "x": [
            "West"
           ],
           "xaxis": "x",
           "y": [
            6.38
           ],
           "yaxis": "y"
          },
          {
           "alignmentgroup": "True",
           "hovertemplate": "state=Haryana<br>month=Feb<br>region=%{x}<br>estimated unemployment rate=%{y}<extra></extra>",
           "legendgroup": "Haryana",
           "marker": {
            "color": "#B6E880",
            "pattern": {
             "shape": ""
            }
           },
           "name": "Haryana",
           "offsetgroup": "Haryana",
           "orientation": "v",
           "showlegend": true,
           "textposition": "auto",
           "type": "bar",
           "x": [
            "North"
           ],
           "xaxis": "x",
           "y": [
            25.77
           ],
           "yaxis": "y"
          },
          {
           "alignmentgroup": "True",
           "hovertemplate": "state=Himachal Pradesh<br>month=Feb<br>region=%{x}<br>estimated unemployment rate=%{y}<extra></extra>",
           "legendgroup": "Himachal Pradesh",
           "marker": {
            "color": "#FF97FF",
            "pattern": {
             "shape": ""
            }
           },
           "name": "Himachal Pradesh",
           "offsetgroup": "Himachal Pradesh",
           "orientation": "v",
           "showlegend": true,
           "textposition": "auto",
           "type": "bar",
           "x": [
            "North"
           ],
           "xaxis": "x",
           "y": [
            16.84
           ],
           "yaxis": "y"
          },
          {
           "alignmentgroup": "True",
           "hovertemplate": "state=Jammu & Kashmir<br>month=Feb<br>region=%{x}<br>estimated unemployment rate=%{y}<extra></extra>",
           "legendgroup": "Jammu & Kashmir",
           "marker": {
            "color": "#FECB52",
            "pattern": {
             "shape": ""
            }
           },
           "name": "Jammu & Kashmir",
           "offsetgroup": "Jammu & Kashmir",
           "orientation": "v",
           "showlegend": true,
           "textposition": "auto",
           "type": "bar",
           "x": [
            "North"
           ],
           "xaxis": "x",
           "y": [
            20.78
           ],
           "yaxis": "y"
          },
          {
           "alignmentgroup": "True",
           "hovertemplate": "state=Jharkhand<br>month=Feb<br>region=%{x}<br>estimated unemployment rate=%{y}<extra></extra>",
           "legendgroup": "Jharkhand",
           "marker": {
            "color": "#636efa",
            "pattern": {
             "shape": ""
            }
           },
           "name": "Jharkhand",
           "offsetgroup": "Jharkhand",
           "orientation": "v",
           "showlegend": true,
           "textposition": "auto",
           "type": "bar",
           "x": [
            "East"
           ],
           "xaxis": "x",
           "y": [
            11.85
           ],
           "yaxis": "y"
          },
          {
           "alignmentgroup": "True",
           "hovertemplate": "state=Karnataka<br>month=Feb<br>region=%{x}<br>estimated unemployment rate=%{y}<extra></extra>",
           "legendgroup": "Karnataka",
           "marker": {
            "color": "#EF553B",
            "pattern": {
             "shape": ""
            }
           },
           "name": "Karnataka",
           "offsetgroup": "Karnataka",
           "orientation": "v",
           "showlegend": true,
           "textposition": "auto",
           "type": "bar",
           "x": [
            "South"
           ],
           "xaxis": "x",
           "y": [
            3.61
           ],
           "yaxis": "y"
          },
          {
           "alignmentgroup": "True",
           "hovertemplate": "state=Kerala<br>month=Feb<br>region=%{x}<br>estimated unemployment rate=%{y}<extra></extra>",
           "legendgroup": "Kerala",
           "marker": {
            "color": "#00cc96",
            "pattern": {
             "shape": ""
            }
           },
           "name": "Kerala",
           "offsetgroup": "Kerala",
           "orientation": "v",
           "showlegend": true,
           "textposition": "auto",
           "type": "bar",
           "x": [
            "South"
           ],
           "xaxis": "x",
           "y": [
            7.6
           ],
           "yaxis": "y"
          },
          {
           "alignmentgroup": "True",
           "hovertemplate": "state=Madhya Pradesh<br>month=Feb<br>region=%{x}<br>estimated unemployment rate=%{y}<extra></extra>",
           "legendgroup": "Madhya Pradesh",
           "marker": {
            "color": "#ab63fa",
            "pattern": {
             "shape": ""
            }
           },
           "name": "Madhya Pradesh",
           "offsetgroup": "Madhya Pradesh",
           "orientation": "v",
           "showlegend": true,
           "textposition": "auto",
           "type": "bar",
           "x": [
            "West"
           ],
           "xaxis": "x",
           "y": [
            4.57
           ],
           "yaxis": "y"
          },
          {
           "alignmentgroup": "True",
           "hovertemplate": "state=Maharashtra<br>month=Feb<br>region=%{x}<br>estimated unemployment rate=%{y}<extra></extra>",
           "legendgroup": "Maharashtra",
           "marker": {
            "color": "#FFA15A",
            "pattern": {
             "shape": ""
            }
           },
           "name": "Maharashtra",
           "offsetgroup": "Maharashtra",
           "orientation": "v",
           "showlegend": true,
           "textposition": "auto",
           "type": "bar",
           "x": [
            "West"
           ],
           "xaxis": "x",
           "y": [
            4.69
           ],
           "yaxis": "y"
          },
          {
           "alignmentgroup": "True",
           "hovertemplate": "state=Meghalaya<br>month=Feb<br>region=%{x}<br>estimated unemployment rate=%{y}<extra></extra>",
           "legendgroup": "Meghalaya",
           "marker": {
            "color": "#19d3f3",
            "pattern": {
             "shape": ""
            }
           },
           "name": "Meghalaya",
           "offsetgroup": "Meghalaya",
           "orientation": "v",
           "showlegend": true,
           "textposition": "auto",
           "type": "bar",
           "x": [
            "Northeast"
           ],
           "xaxis": "x",
           "y": [
            3.59
           ],
           "yaxis": "y"
          },
          {
           "alignmentgroup": "True",
           "hovertemplate": "state=Odisha<br>month=Feb<br>region=%{x}<br>estimated unemployment rate=%{y}<extra></extra>",
           "legendgroup": "Odisha",
           "marker": {
            "color": "#FF6692",
            "pattern": {
             "shape": ""
            }
           },
           "name": "Odisha",
           "offsetgroup": "Odisha",
           "orientation": "v",
           "showlegend": true,
           "textposition": "auto",
           "type": "bar",
           "x": [
            "East"
           ],
           "xaxis": "x",
           "y": [
            3.12
           ],
           "yaxis": "y"
          },
          {
           "alignmentgroup": "True",
           "hovertemplate": "state=Puducherry<br>month=Feb<br>region=%{x}<br>estimated unemployment rate=%{y}<extra></extra>",
           "legendgroup": "Puducherry",
           "marker": {
            "color": "#B6E880",
            "pattern": {
             "shape": ""
            }
           },
           "name": "Puducherry",
           "offsetgroup": "Puducherry",
           "orientation": "v",
           "showlegend": true,
           "textposition": "auto",
           "type": "bar",
           "x": [
            "South"
           ],
           "xaxis": "x",
           "y": [
            1.76
           ],
           "yaxis": "y"
          },
          {
           "alignmentgroup": "True",
           "hovertemplate": "state=Punjab<br>month=Feb<br>region=%{x}<br>estimated unemployment rate=%{y}<extra></extra>",
           "legendgroup": "Punjab",
           "marker": {
            "color": "#FF97FF",
            "pattern": {
             "shape": ""
            }
           },
           "name": "Punjab",
           "offsetgroup": "Punjab",
           "orientation": "v",
           "showlegend": true,
           "textposition": "auto",
           "type": "bar",
           "x": [
            "North"
           ],
           "xaxis": "x",
           "y": [
            10.97
           ],
           "yaxis": "y"
          },
          {
           "alignmentgroup": "True",
           "hovertemplate": "state=Rajasthan<br>month=Feb<br>region=%{x}<br>estimated unemployment rate=%{y}<extra></extra>",
           "legendgroup": "Rajasthan",
           "marker": {
            "color": "#FECB52",
            "pattern": {
             "shape": ""
            }
           },
           "name": "Rajasthan",
           "offsetgroup": "Rajasthan",
           "orientation": "v",
           "showlegend": true,
           "textposition": "auto",
           "type": "bar",
           "x": [
            "North"
           ],
           "xaxis": "x",
           "y": [
            15.16
           ],
           "yaxis": "y"
          },
          {
           "alignmentgroup": "True",
           "hovertemplate": "state=Tamil Nadu<br>month=Feb<br>region=%{x}<br>estimated unemployment rate=%{y}<extra></extra>",
           "legendgroup": "Tamil Nadu",
           "marker": {
            "color": "#EF553B",
            "pattern": {
             "shape": ""
            }
           },
           "name": "Tamil Nadu",
           "offsetgroup": "Tamil Nadu",
           "orientation": "v",
           "showlegend": true,
           "textposition": "auto",
           "type": "bar",
           "x": [
            "South"
           ],
           "xaxis": "x",
           "y": [
            2.09
           ],
           "yaxis": "y"
          },
          {
           "alignmentgroup": "True",
           "hovertemplate": "state=Telangana<br>month=Feb<br>region=%{x}<br>estimated unemployment rate=%{y}<extra></extra>",
           "legendgroup": "Telangana",
           "marker": {
            "color": "#00cc96",
            "pattern": {
             "shape": ""
            }
           },
           "name": "Telangana",
           "offsetgroup": "Telangana",
           "orientation": "v",
           "showlegend": true,
           "textposition": "auto",
           "type": "bar",
           "x": [
            "South"
           ],
           "xaxis": "x",
           "y": [
            8.29
           ],
           "yaxis": "y"
          },
          {
           "alignmentgroup": "True",
           "hovertemplate": "state=Tripura<br>month=Feb<br>region=%{x}<br>estimated unemployment rate=%{y}<extra></extra>",
           "legendgroup": "Tripura",
           "marker": {
            "color": "#ab63fa",
            "pattern": {
             "shape": ""
            }
           },
           "name": "Tripura",
           "offsetgroup": "Tripura",
           "orientation": "v",
           "showlegend": true,
           "textposition": "auto",
           "type": "bar",
           "x": [
            "Northeast"
           ],
           "xaxis": "x",
           "y": [
            28.4
           ],
           "yaxis": "y"
          },
          {
           "alignmentgroup": "True",
           "hovertemplate": "state=Uttar Pradesh<br>month=Feb<br>region=%{x}<br>estimated unemployment rate=%{y}<extra></extra>",
           "legendgroup": "Uttar Pradesh",
           "marker": {
            "color": "#FFA15A",
            "pattern": {
             "shape": ""
            }
           },
           "name": "Uttar Pradesh",
           "offsetgroup": "Uttar Pradesh",
           "orientation": "v",
           "showlegend": true,
           "textposition": "auto",
           "type": "bar",
           "x": [
            "North"
           ],
           "xaxis": "x",
           "y": [
            8.98
           ],
           "yaxis": "y"
          },
          {
           "alignmentgroup": "True",
           "hovertemplate": "state=Uttarakhand<br>month=Feb<br>region=%{x}<br>estimated unemployment rate=%{y}<extra></extra>",
           "legendgroup": "Uttarakhand",
           "marker": {
            "color": "#19d3f3",
            "pattern": {
             "shape": ""
            }
           },
           "name": "Uttarakhand",
           "offsetgroup": "Uttarakhand",
           "orientation": "v",
           "showlegend": true,
           "textposition": "auto",
           "type": "bar",
           "x": [
            "North"
           ],
           "xaxis": "x",
           "y": [
            4.99
           ],
           "yaxis": "y"
          },
          {
           "alignmentgroup": "True",
           "hovertemplate": "state=West Bengal<br>month=Feb<br>region=%{x}<br>estimated unemployment rate=%{y}<extra></extra>",
           "legendgroup": "West Bengal",
           "marker": {
            "color": "#FF6692",
            "pattern": {
             "shape": ""
            }
           },
           "name": "West Bengal",
           "offsetgroup": "West Bengal",
           "orientation": "v",
           "showlegend": true,
           "textposition": "auto",
           "type": "bar",
           "x": [
            "East"
           ],
           "xaxis": "x",
           "y": [
            4.92
           ],
           "yaxis": "y"
          }
         ],
         "name": "Feb"
        },
        {
         "data": [
          {
           "alignmentgroup": "True",
           "hovertemplate": "state=Andhra Pradesh<br>month=Mar<br>region=%{x}<br>estimated unemployment rate=%{y}<extra></extra>",
           "legendgroup": "Andhra Pradesh",
           "marker": {
            "color": "#636efa",
            "pattern": {
             "shape": ""
            }
           },
           "name": "Andhra Pradesh",
           "offsetgroup": "Andhra Pradesh",
           "orientation": "v",
           "showlegend": true,
           "textposition": "auto",
           "type": "bar",
           "x": [
            "South"
           ],
           "xaxis": "x",
           "y": [
            5.79
           ],
           "yaxis": "y"
          },
          {
           "alignmentgroup": "True",
           "hovertemplate": "state=Assam<br>month=Mar<br>region=%{x}<br>estimated unemployment rate=%{y}<extra></extra>",
           "legendgroup": "Assam",
           "marker": {
            "color": "#EF553B",
            "pattern": {
             "shape": ""
            }
           },
           "name": "Assam",
           "offsetgroup": "Assam",
           "orientation": "v",
           "showlegend": true,
           "textposition": "auto",
           "type": "bar",
           "x": [
            "Northeast"
           ],
           "xaxis": "x",
           "y": [
            4.77
           ],
           "yaxis": "y"
          },
          {
           "alignmentgroup": "True",
           "hovertemplate": "state=Bihar<br>month=Mar<br>region=%{x}<br>estimated unemployment rate=%{y}<extra></extra>",
           "legendgroup": "Bihar",
           "marker": {
            "color": "#00cc96",
            "pattern": {
             "shape": ""
            }
           },
           "name": "Bihar",
           "offsetgroup": "Bihar",
           "orientation": "v",
           "showlegend": true,
           "textposition": "auto",
           "type": "bar",
           "x": [
            "East"
           ],
           "xaxis": "x",
           "y": [
            15.43
           ],
           "yaxis": "y"
          },
          {
           "alignmentgroup": "True",
           "hovertemplate": "state=Chhattisgarh<br>month=Mar<br>region=%{x}<br>estimated unemployment rate=%{y}<extra></extra>",
           "legendgroup": "Chhattisgarh",
           "marker": {
            "color": "#ab63fa",
            "pattern": {
             "shape": ""
            }
           },
           "name": "Chhattisgarh",
           "offsetgroup": "Chhattisgarh",
           "orientation": "v",
           "showlegend": true,
           "textposition": "auto",
           "type": "bar",
           "x": [
            "West"
           ],
           "xaxis": "x",
           "y": [
            7.54
           ],
           "yaxis": "y"
          },
          {
           "alignmentgroup": "True",
           "hovertemplate": "state=Delhi<br>month=Mar<br>region=%{x}<br>estimated unemployment rate=%{y}<extra></extra>",
           "legendgroup": "Delhi",
           "marker": {
            "color": "#FFA15A",
            "pattern": {
             "shape": ""
            }
           },
           "name": "Delhi",
           "offsetgroup": "Delhi",
           "orientation": "v",
           "showlegend": true,
           "textposition": "auto",
           "type": "bar",
           "x": [
            "North"
           ],
           "xaxis": "x",
           "y": [
            17.04
           ],
           "yaxis": "y"
          },
          {
           "alignmentgroup": "True",
           "hovertemplate": "state=Goa<br>month=Mar<br>region=%{x}<br>estimated unemployment rate=%{y}<extra></extra>",
           "legendgroup": "Goa",
           "marker": {
            "color": "#19d3f3",
            "pattern": {
             "shape": ""
            }
           },
           "name": "Goa",
           "offsetgroup": "Goa",
           "orientation": "v",
           "showlegend": true,
           "textposition": "auto",
           "type": "bar",
           "x": [
            "West"
           ],
           "xaxis": "x",
           "y": [
            5.25
           ],
           "yaxis": "y"
          },
          {
           "alignmentgroup": "True",
           "hovertemplate": "state=Gujarat<br>month=Mar<br>region=%{x}<br>estimated unemployment rate=%{y}<extra></extra>",
           "legendgroup": "Gujarat",
           "marker": {
            "color": "#FF6692",
            "pattern": {
             "shape": ""
            }
           },
           "name": "Gujarat",
           "offsetgroup": "Gujarat",
           "orientation": "v",
           "showlegend": true,
           "textposition": "auto",
           "type": "bar",
           "x": [
            "West"
           ],
           "xaxis": "x",
           "y": [
            6.66
           ],
           "yaxis": "y"
          },
          {
           "alignmentgroup": "True",
           "hovertemplate": "state=Haryana<br>month=Mar<br>region=%{x}<br>estimated unemployment rate=%{y}<extra></extra>",
           "legendgroup": "Haryana",
           "marker": {
            "color": "#B6E880",
            "pattern": {
             "shape": ""
            }
           },
           "name": "Haryana",
           "offsetgroup": "Haryana",
           "orientation": "v",
           "showlegend": true,
           "textposition": "auto",
           "type": "bar",
           "x": [
            "North"
           ],
           "xaxis": "x",
           "y": [
            25.05
           ],
           "yaxis": "y"
          },
          {
           "alignmentgroup": "True",
           "hovertemplate": "state=Himachal Pradesh<br>month=Mar<br>region=%{x}<br>estimated unemployment rate=%{y}<extra></extra>",
           "legendgroup": "Himachal Pradesh",
           "marker": {
            "color": "#FF97FF",
            "pattern": {
             "shape": ""
            }
           },
           "name": "Himachal Pradesh",
           "offsetgroup": "Himachal Pradesh",
           "orientation": "v",
           "showlegend": true,
           "textposition": "auto",
           "type": "bar",
           "x": [
            "North"
           ],
           "xaxis": "x",
           "y": [
            18.76
           ],
           "yaxis": "y"
          },
          {
           "alignmentgroup": "True",
           "hovertemplate": "state=Jammu & Kashmir<br>month=Mar<br>region=%{x}<br>estimated unemployment rate=%{y}<extra></extra>",
           "legendgroup": "Jammu & Kashmir",
           "marker": {
            "color": "#FECB52",
            "pattern": {
             "shape": ""
            }
           },
           "name": "Jammu & Kashmir",
           "offsetgroup": "Jammu & Kashmir",
           "orientation": "v",
           "showlegend": true,
           "textposition": "auto",
           "type": "bar",
           "x": [
            "North"
           ],
           "xaxis": "x",
           "y": [
            15.5
           ],
           "yaxis": "y"
          },
          {
           "alignmentgroup": "True",
           "hovertemplate": "state=Jharkhand<br>month=Mar<br>region=%{x}<br>estimated unemployment rate=%{y}<extra></extra>",
           "legendgroup": "Jharkhand",
           "marker": {
            "color": "#636efa",
            "pattern": {
             "shape": ""
            }
           },
           "name": "Jharkhand",
           "offsetgroup": "Jharkhand",
           "orientation": "v",
           "showlegend": true,
           "textposition": "auto",
           "type": "bar",
           "x": [
            "East"
           ],
           "xaxis": "x",
           "y": [
            8.23
           ],
           "yaxis": "y"
          },
          {
           "alignmentgroup": "True",
           "hovertemplate": "state=Karnataka<br>month=Mar<br>region=%{x}<br>estimated unemployment rate=%{y}<extra></extra>",
           "legendgroup": "Karnataka",
           "marker": {
            "color": "#EF553B",
            "pattern": {
             "shape": ""
            }
           },
           "name": "Karnataka",
           "offsetgroup": "Karnataka",
           "orientation": "v",
           "showlegend": true,
           "textposition": "auto",
           "type": "bar",
           "x": [
            "South"
           ],
           "xaxis": "x",
           "y": [
            3.46
           ],
           "yaxis": "y"
          },
          {
           "alignmentgroup": "True",
           "hovertemplate": "state=Kerala<br>month=Mar<br>region=%{x}<br>estimated unemployment rate=%{y}<extra></extra>",
           "legendgroup": "Kerala",
           "marker": {
            "color": "#00cc96",
            "pattern": {
             "shape": ""
            }
           },
           "name": "Kerala",
           "offsetgroup": "Kerala",
           "orientation": "v",
           "showlegend": true,
           "textposition": "auto",
           "type": "bar",
           "x": [
            "South"
           ],
           "xaxis": "x",
           "y": [
            8.99
           ],
           "yaxis": "y"
          },
          {
           "alignmentgroup": "True",
           "hovertemplate": "state=Madhya Pradesh<br>month=Mar<br>region=%{x}<br>estimated unemployment rate=%{y}<extra></extra>",
           "legendgroup": "Madhya Pradesh",
           "marker": {
            "color": "#ab63fa",
            "pattern": {
             "shape": ""
            }
           },
           "name": "Madhya Pradesh",
           "offsetgroup": "Madhya Pradesh",
           "orientation": "v",
           "showlegend": true,
           "textposition": "auto",
           "type": "bar",
           "x": [
            "West"
           ],
           "xaxis": "x",
           "y": [
            2.22
           ],
           "yaxis": "y"
          },
          {
           "alignmentgroup": "True",
           "hovertemplate": "state=Maharashtra<br>month=Mar<br>region=%{x}<br>estimated unemployment rate=%{y}<extra></extra>",
           "legendgroup": "Maharashtra",
           "marker": {
            "color": "#FFA15A",
            "pattern": {
             "shape": ""
            }
           },
           "name": "Maharashtra",
           "offsetgroup": "Maharashtra",
           "orientation": "v",
           "showlegend": true,
           "textposition": "auto",
           "type": "bar",
           "x": [
            "West"
           ],
           "xaxis": "x",
           "y": [
            5.79
           ],
           "yaxis": "y"
          },
          {
           "alignmentgroup": "True",
           "hovertemplate": "state=Meghalaya<br>month=Mar<br>region=%{x}<br>estimated unemployment rate=%{y}<extra></extra>",
           "legendgroup": "Meghalaya",
           "marker": {
            "color": "#19d3f3",
            "pattern": {
             "shape": ""
            }
           },
           "name": "Meghalaya",
           "offsetgroup": "Meghalaya",
           "orientation": "v",
           "showlegend": true,
           "textposition": "auto",
           "type": "bar",
           "x": [
            "Northeast"
           ],
           "xaxis": "x",
           "y": [
            1.58
           ],
           "yaxis": "y"
          },
          {
           "alignmentgroup": "True",
           "hovertemplate": "state=Odisha<br>month=Mar<br>region=%{x}<br>estimated unemployment rate=%{y}<extra></extra>",
           "legendgroup": "Odisha",
           "marker": {
            "color": "#FF6692",
            "pattern": {
             "shape": ""
            }
           },
           "name": "Odisha",
           "offsetgroup": "Odisha",
           "orientation": "v",
           "showlegend": true,
           "textposition": "auto",
           "type": "bar",
           "x": [
            "East"
           ],
           "xaxis": "x",
           "y": [
            13.08
           ],
           "yaxis": "y"
          },
          {
           "alignmentgroup": "True",
           "hovertemplate": "state=Puducherry<br>month=Mar<br>region=%{x}<br>estimated unemployment rate=%{y}<extra></extra>",
           "legendgroup": "Puducherry",
           "marker": {
            "color": "#B6E880",
            "pattern": {
             "shape": ""
            }
           },
           "name": "Puducherry",
           "offsetgroup": "Puducherry",
           "orientation": "v",
           "showlegend": true,
           "textposition": "auto",
           "type": "bar",
           "x": [
            "South"
           ],
           "xaxis": "x",
           "y": [
            1.2
           ],
           "yaxis": "y"
          },
          {
           "alignmentgroup": "True",
           "hovertemplate": "state=Punjab<br>month=Mar<br>region=%{x}<br>estimated unemployment rate=%{y}<extra></extra>",
           "legendgroup": "Punjab",
           "marker": {
            "color": "#FF97FF",
            "pattern": {
             "shape": ""
            }
           },
           "name": "Punjab",
           "offsetgroup": "Punjab",
           "orientation": "v",
           "showlegend": true,
           "textposition": "auto",
           "type": "bar",
           "x": [
            "North"
           ],
           "xaxis": "x",
           "y": [
            10.32
           ],
           "yaxis": "y"
          },
          {
           "alignmentgroup": "True",
           "hovertemplate": "state=Rajasthan<br>month=Mar<br>region=%{x}<br>estimated unemployment rate=%{y}<extra></extra>",
           "legendgroup": "Rajasthan",
           "marker": {
            "color": "#FECB52",
            "pattern": {
             "shape": ""
            }
           },
           "name": "Rajasthan",
           "offsetgroup": "Rajasthan",
           "orientation": "v",
           "showlegend": true,
           "textposition": "auto",
           "type": "bar",
           "x": [
            "North"
           ],
           "xaxis": "x",
           "y": [
            11.9
           ],
           "yaxis": "y"
          },
          {
           "alignmentgroup": "True",
           "hovertemplate": "state=Sikkim<br>month=Mar<br>region=%{x}<br>estimated unemployment rate=%{y}<extra></extra>",
           "legendgroup": "Sikkim",
           "marker": {
            "color": "#636efa",
            "pattern": {
             "shape": ""
            }
           },
           "name": "Sikkim",
           "offsetgroup": "Sikkim",
           "orientation": "v",
           "showlegend": true,
           "textposition": "auto",
           "type": "bar",
           "x": [
            "Northeast"
           ],
           "xaxis": "x",
           "y": [
            23.57
           ],
           "yaxis": "y"
          },
          {
           "alignmentgroup": "True",
           "hovertemplate": "state=Tamil Nadu<br>month=Mar<br>region=%{x}<br>estimated unemployment rate=%{y}<extra></extra>",
           "legendgroup": "Tamil Nadu",
           "marker": {
            "color": "#EF553B",
            "pattern": {
             "shape": ""
            }
           },
           "name": "Tamil Nadu",
           "offsetgroup": "Tamil Nadu",
           "orientation": "v",
           "showlegend": true,
           "textposition": "auto",
           "type": "bar",
           "x": [
            "South"
           ],
           "xaxis": "x",
           "y": [
            6.4
           ],
           "yaxis": "y"
          },
          {
           "alignmentgroup": "True",
           "hovertemplate": "state=Telangana<br>month=Mar<br>region=%{x}<br>estimated unemployment rate=%{y}<extra></extra>",
           "legendgroup": "Telangana",
           "marker": {
            "color": "#00cc96",
            "pattern": {
             "shape": ""
            }
           },
           "name": "Telangana",
           "offsetgroup": "Telangana",
           "orientation": "v",
           "showlegend": true,
           "textposition": "auto",
           "type": "bar",
           "x": [
            "South"
           ],
           "xaxis": "x",
           "y": [
            5.77
           ],
           "yaxis": "y"
          },
          {
           "alignmentgroup": "True",
           "hovertemplate": "state=Tripura<br>month=Mar<br>region=%{x}<br>estimated unemployment rate=%{y}<extra></extra>",
           "legendgroup": "Tripura",
           "marker": {
            "color": "#ab63fa",
            "pattern": {
             "shape": ""
            }
           },
           "name": "Tripura",
           "offsetgroup": "Tripura",
           "orientation": "v",
           "showlegend": true,
           "textposition": "auto",
           "type": "bar",
           "x": [
            "Northeast"
           ],
           "xaxis": "x",
           "y": [
            29.95
           ],
           "yaxis": "y"
          },
          {
           "alignmentgroup": "True",
           "hovertemplate": "state=Uttar Pradesh<br>month=Mar<br>region=%{x}<br>estimated unemployment rate=%{y}<extra></extra>",
           "legendgroup": "Uttar Pradesh",
           "marker": {
            "color": "#FFA15A",
            "pattern": {
             "shape": ""
            }
           },
           "name": "Uttar Pradesh",
           "offsetgroup": "Uttar Pradesh",
           "orientation": "v",
           "showlegend": true,
           "textposition": "auto",
           "type": "bar",
           "x": [
            "North"
           ],
           "xaxis": "x",
           "y": [
            10.11
           ],
           "yaxis": "y"
          },
          {
           "alignmentgroup": "True",
           "hovertemplate": "state=Uttarakhand<br>month=Mar<br>region=%{x}<br>estimated unemployment rate=%{y}<extra></extra>",
           "legendgroup": "Uttarakhand",
           "marker": {
            "color": "#19d3f3",
            "pattern": {
             "shape": ""
            }
           },
           "name": "Uttarakhand",
           "offsetgroup": "Uttarakhand",
           "orientation": "v",
           "showlegend": true,
           "textposition": "auto",
           "type": "bar",
           "x": [
            "North"
           ],
           "xaxis": "x",
           "y": [
            19.85
           ],
           "yaxis": "y"
          },
          {
           "alignmentgroup": "True",
           "hovertemplate": "state=West Bengal<br>month=Mar<br>region=%{x}<br>estimated unemployment rate=%{y}<extra></extra>",
           "legendgroup": "West Bengal",
           "marker": {
            "color": "#FF6692",
            "pattern": {
             "shape": ""
            }
           },
           "name": "West Bengal",
           "offsetgroup": "West Bengal",
           "orientation": "v",
           "showlegend": true,
           "textposition": "auto",
           "type": "bar",
           "x": [
            "East"
           ],
           "xaxis": "x",
           "y": [
            6.92
           ],
           "yaxis": "y"
          }
         ],
         "name": "Mar"
        },
        {
         "data": [
          {
           "alignmentgroup": "True",
           "hovertemplate": "state=Andhra Pradesh<br>month=Apr<br>region=%{x}<br>estimated unemployment rate=%{y}<extra></extra>",
           "legendgroup": "Andhra Pradesh",
           "marker": {
            "color": "#636efa",
            "pattern": {
             "shape": ""
            }
           },
           "name": "Andhra Pradesh",
           "offsetgroup": "Andhra Pradesh",
           "orientation": "v",
           "showlegend": true,
           "textposition": "auto",
           "type": "bar",
           "x": [
            "South"
           ],
           "xaxis": "x",
           "y": [
            20.51
           ],
           "yaxis": "y"
          },
          {
           "alignmentgroup": "True",
           "hovertemplate": "state=Assam<br>month=Apr<br>region=%{x}<br>estimated unemployment rate=%{y}<extra></extra>",
           "legendgroup": "Assam",
           "marker": {
            "color": "#EF553B",
            "pattern": {
             "shape": ""
            }
           },
           "name": "Assam",
           "offsetgroup": "Assam",
           "orientation": "v",
           "showlegend": true,
           "textposition": "auto",
           "type": "bar",
           "x": [
            "Northeast"
           ],
           "xaxis": "x",
           "y": [
            11.06
           ],
           "yaxis": "y"
          },
          {
           "alignmentgroup": "True",
           "hovertemplate": "state=Bihar<br>month=Apr<br>region=%{x}<br>estimated unemployment rate=%{y}<extra></extra>",
           "legendgroup": "Bihar",
           "marker": {
            "color": "#00cc96",
            "pattern": {
             "shape": ""
            }
           },
           "name": "Bihar",
           "offsetgroup": "Bihar",
           "orientation": "v",
           "showlegend": true,
           "textposition": "auto",
           "type": "bar",
           "x": [
            "East"
           ],
           "xaxis": "x",
           "y": [
            46.64
           ],
           "yaxis": "y"
          },
          {
           "alignmentgroup": "True",
           "hovertemplate": "state=Chhattisgarh<br>month=Apr<br>region=%{x}<br>estimated unemployment rate=%{y}<extra></extra>",
           "legendgroup": "Chhattisgarh",
           "marker": {
            "color": "#ab63fa",
            "pattern": {
             "shape": ""
            }
           },
           "name": "Chhattisgarh",
           "offsetgroup": "Chhattisgarh",
           "orientation": "v",
           "showlegend": true,
           "textposition": "auto",
           "type": "bar",
           "x": [
            "West"
           ],
           "xaxis": "x",
           "y": [
            3.41
           ],
           "yaxis": "y"
          },
          {
           "alignmentgroup": "True",
           "hovertemplate": "state=Delhi<br>month=Apr<br>region=%{x}<br>estimated unemployment rate=%{y}<extra></extra>",
           "legendgroup": "Delhi",
           "marker": {
            "color": "#FFA15A",
            "pattern": {
             "shape": ""
            }
           },
           "name": "Delhi",
           "offsetgroup": "Delhi",
           "orientation": "v",
           "showlegend": true,
           "textposition": "auto",
           "type": "bar",
           "x": [
            "North"
           ],
           "xaxis": "x",
           "y": [
            16.68
           ],
           "yaxis": "y"
          },
          {
           "alignmentgroup": "True",
           "hovertemplate": "state=Goa<br>month=Apr<br>region=%{x}<br>estimated unemployment rate=%{y}<extra></extra>",
           "legendgroup": "Goa",
           "marker": {
            "color": "#19d3f3",
            "pattern": {
             "shape": ""
            }
           },
           "name": "Goa",
           "offsetgroup": "Goa",
           "orientation": "v",
           "showlegend": true,
           "textposition": "auto",
           "type": "bar",
           "x": [
            "West"
           ],
           "xaxis": "x",
           "y": [
            13.31
           ],
           "yaxis": "y"
          },
          {
           "alignmentgroup": "True",
           "hovertemplate": "state=Gujarat<br>month=Apr<br>region=%{x}<br>estimated unemployment rate=%{y}<extra></extra>",
           "legendgroup": "Gujarat",
           "marker": {
            "color": "#FF6692",
            "pattern": {
             "shape": ""
            }
           },
           "name": "Gujarat",
           "offsetgroup": "Gujarat",
           "orientation": "v",
           "showlegend": true,
           "textposition": "auto",
           "type": "bar",
           "x": [
            "West"
           ],
           "xaxis": "x",
           "y": [
            18.71
           ],
           "yaxis": "y"
          },
          {
           "alignmentgroup": "True",
           "hovertemplate": "state=Haryana<br>month=Apr<br>region=%{x}<br>estimated unemployment rate=%{y}<extra></extra>",
           "legendgroup": "Haryana",
           "marker": {
            "color": "#B6E880",
            "pattern": {
             "shape": ""
            }
           },
           "name": "Haryana",
           "offsetgroup": "Haryana",
           "orientation": "v",
           "showlegend": true,
           "textposition": "auto",
           "type": "bar",
           "x": [
            "North"
           ],
           "xaxis": "x",
           "y": [
            43.22
           ],
           "yaxis": "y"
          },
          {
           "alignmentgroup": "True",
           "hovertemplate": "state=Himachal Pradesh<br>month=Apr<br>region=%{x}<br>estimated unemployment rate=%{y}<extra></extra>",
           "legendgroup": "Himachal Pradesh",
           "marker": {
            "color": "#FF97FF",
            "pattern": {
             "shape": ""
            }
           },
           "name": "Himachal Pradesh",
           "offsetgroup": "Himachal Pradesh",
           "orientation": "v",
           "showlegend": true,
           "textposition": "auto",
           "type": "bar",
           "x": [
            "North"
           ],
           "xaxis": "x",
           "y": [
            2.2
           ],
           "yaxis": "y"
          },
          {
           "alignmentgroup": "True",
           "hovertemplate": "state=Jharkhand<br>month=Apr<br>region=%{x}<br>estimated unemployment rate=%{y}<extra></extra>",
           "legendgroup": "Jharkhand",
           "marker": {
            "color": "#636efa",
            "pattern": {
             "shape": ""
            }
           },
           "name": "Jharkhand",
           "offsetgroup": "Jharkhand",
           "orientation": "v",
           "showlegend": true,
           "textposition": "auto",
           "type": "bar",
           "x": [
            "East"
           ],
           "xaxis": "x",
           "y": [
            47.09
           ],
           "yaxis": "y"
          },
          {
           "alignmentgroup": "True",
           "hovertemplate": "state=Karnataka<br>month=Apr<br>region=%{x}<br>estimated unemployment rate=%{y}<extra></extra>",
           "legendgroup": "Karnataka",
           "marker": {
            "color": "#EF553B",
            "pattern": {
             "shape": ""
            }
           },
           "name": "Karnataka",
           "offsetgroup": "Karnataka",
           "orientation": "v",
           "showlegend": true,
           "textposition": "auto",
           "type": "bar",
           "x": [
            "South"
           ],
           "xaxis": "x",
           "y": [
            29.84
           ],
           "yaxis": "y"
          },
          {
           "alignmentgroup": "True",
           "hovertemplate": "state=Kerala<br>month=Apr<br>region=%{x}<br>estimated unemployment rate=%{y}<extra></extra>",
           "legendgroup": "Kerala",
           "marker": {
            "color": "#00cc96",
            "pattern": {
             "shape": ""
            }
           },
           "name": "Kerala",
           "offsetgroup": "Kerala",
           "orientation": "v",
           "showlegend": true,
           "textposition": "auto",
           "type": "bar",
           "x": [
            "South"
           ],
           "xaxis": "x",
           "y": [
            16.99
           ],
           "yaxis": "y"
          },
          {
           "alignmentgroup": "True",
           "hovertemplate": "state=Madhya Pradesh<br>month=Apr<br>region=%{x}<br>estimated unemployment rate=%{y}<extra></extra>",
           "legendgroup": "Madhya Pradesh",
           "marker": {
            "color": "#ab63fa",
            "pattern": {
             "shape": ""
            }
           },
           "name": "Madhya Pradesh",
           "offsetgroup": "Madhya Pradesh",
           "orientation": "v",
           "showlegend": true,
           "textposition": "auto",
           "type": "bar",
           "x": [
            "West"
           ],
           "xaxis": "x",
           "y": [
            12.36
           ],
           "yaxis": "y"
          },
          {
           "alignmentgroup": "True",
           "hovertemplate": "state=Maharashtra<br>month=Apr<br>region=%{x}<br>estimated unemployment rate=%{y}<extra></extra>",
           "legendgroup": "Maharashtra",
           "marker": {
            "color": "#FFA15A",
            "pattern": {
             "shape": ""
            }
           },
           "name": "Maharashtra",
           "offsetgroup": "Maharashtra",
           "orientation": "v",
           "showlegend": true,
           "textposition": "auto",
           "type": "bar",
           "x": [
            "West"
           ],
           "xaxis": "x",
           "y": [
            20.9
           ],
           "yaxis": "y"
          },
          {
           "alignmentgroup": "True",
           "hovertemplate": "state=Meghalaya<br>month=Apr<br>region=%{x}<br>estimated unemployment rate=%{y}<extra></extra>",
           "legendgroup": "Meghalaya",
           "marker": {
            "color": "#19d3f3",
            "pattern": {
             "shape": ""
            }
           },
           "name": "Meghalaya",
           "offsetgroup": "Meghalaya",
           "orientation": "v",
           "showlegend": true,
           "textposition": "auto",
           "type": "bar",
           "x": [
            "Northeast"
           ],
           "xaxis": "x",
           "y": [
            10.03
           ],
           "yaxis": "y"
          },
          {
           "alignmentgroup": "True",
           "hovertemplate": "state=Odisha<br>month=Apr<br>region=%{x}<br>estimated unemployment rate=%{y}<extra></extra>",
           "legendgroup": "Odisha",
           "marker": {
            "color": "#FF6692",
            "pattern": {
             "shape": ""
            }
           },
           "name": "Odisha",
           "offsetgroup": "Odisha",
           "orientation": "v",
           "showlegend": true,
           "textposition": "auto",
           "type": "bar",
           "x": [
            "East"
           ],
           "xaxis": "x",
           "y": [
            23.76
           ],
           "yaxis": "y"
          },
          {
           "alignmentgroup": "True",
           "hovertemplate": "state=Puducherry<br>month=Apr<br>region=%{x}<br>estimated unemployment rate=%{y}<extra></extra>",
           "legendgroup": "Puducherry",
           "marker": {
            "color": "#B6E880",
            "pattern": {
             "shape": ""
            }
           },
           "name": "Puducherry",
           "offsetgroup": "Puducherry",
           "orientation": "v",
           "showlegend": true,
           "textposition": "auto",
           "type": "bar",
           "x": [
            "South"
           ],
           "xaxis": "x",
           "y": [
            75.85
           ],
           "yaxis": "y"
          },
          {
           "alignmentgroup": "True",
           "hovertemplate": "state=Punjab<br>month=Apr<br>region=%{x}<br>estimated unemployment rate=%{y}<extra></extra>",
           "legendgroup": "Punjab",
           "marker": {
            "color": "#FF97FF",
            "pattern": {
             "shape": ""
            }
           },
           "name": "Punjab",
           "offsetgroup": "Punjab",
           "orientation": "v",
           "showlegend": true,
           "textposition": "auto",
           "type": "bar",
           "x": [
            "North"
           ],
           "xaxis": "x",
           "y": [
            2.86
           ],
           "yaxis": "y"
          },
          {
           "alignmentgroup": "True",
           "hovertemplate": "state=Rajasthan<br>month=Apr<br>region=%{x}<br>estimated unemployment rate=%{y}<extra></extra>",
           "legendgroup": "Rajasthan",
           "marker": {
            "color": "#FECB52",
            "pattern": {
             "shape": ""
            }
           },
           "name": "Rajasthan",
           "offsetgroup": "Rajasthan",
           "orientation": "v",
           "showlegend": true,
           "textposition": "auto",
           "type": "bar",
           "x": [
            "North"
           ],
           "xaxis": "x",
           "y": [
            17.7
           ],
           "yaxis": "y"
          },
          {
           "alignmentgroup": "True",
           "hovertemplate": "state=Sikkim<br>month=Apr<br>region=%{x}<br>estimated unemployment rate=%{y}<extra></extra>",
           "legendgroup": "Sikkim",
           "marker": {
            "color": "#636efa",
            "pattern": {
             "shape": ""
            }
           },
           "name": "Sikkim",
           "offsetgroup": "Sikkim",
           "orientation": "v",
           "showlegend": true,
           "textposition": "auto",
           "type": "bar",
           "x": [
            "Northeast"
           ],
           "xaxis": "x",
           "y": [
            2.28
           ],
           "yaxis": "y"
          },
          {
           "alignmentgroup": "True",
           "hovertemplate": "state=Tamil Nadu<br>month=Apr<br>region=%{x}<br>estimated unemployment rate=%{y}<extra></extra>",
           "legendgroup": "Tamil Nadu",
           "marker": {
            "color": "#EF553B",
            "pattern": {
             "shape": ""
            }
           },
           "name": "Tamil Nadu",
           "offsetgroup": "Tamil Nadu",
           "orientation": "v",
           "showlegend": true,
           "textposition": "auto",
           "type": "bar",
           "x": [
            "South"
           ],
           "xaxis": "x",
           "y": [
            49.83
           ],
           "yaxis": "y"
          },
          {
           "alignmentgroup": "True",
           "hovertemplate": "state=Telangana<br>month=Apr<br>region=%{x}<br>estimated unemployment rate=%{y}<extra></extra>",
           "legendgroup": "Telangana",
           "marker": {
            "color": "#00cc96",
            "pattern": {
             "shape": ""
            }
           },
           "name": "Telangana",
           "offsetgroup": "Telangana",
           "orientation": "v",
           "showlegend": true,
           "textposition": "auto",
           "type": "bar",
           "x": [
            "South"
           ],
           "xaxis": "x",
           "y": [
            6.25
           ],
           "yaxis": "y"
          },
          {
           "alignmentgroup": "True",
           "hovertemplate": "state=Tripura<br>month=Apr<br>region=%{x}<br>estimated unemployment rate=%{y}<extra></extra>",
           "legendgroup": "Tripura",
           "marker": {
            "color": "#ab63fa",
            "pattern": {
             "shape": ""
            }
           },
           "name": "Tripura",
           "offsetgroup": "Tripura",
           "orientation": "v",
           "showlegend": true,
           "textposition": "auto",
           "type": "bar",
           "x": [
            "Northeast"
           ],
           "xaxis": "x",
           "y": [
            41.23
           ],
           "yaxis": "y"
          },
          {
           "alignmentgroup": "True",
           "hovertemplate": "state=Uttar Pradesh<br>month=Apr<br>region=%{x}<br>estimated unemployment rate=%{y}<extra></extra>",
           "legendgroup": "Uttar Pradesh",
           "marker": {
            "color": "#FFA15A",
            "pattern": {
             "shape": ""
            }
           },
           "name": "Uttar Pradesh",
           "offsetgroup": "Uttar Pradesh",
           "orientation": "v",
           "showlegend": true,
           "textposition": "auto",
           "type": "bar",
           "x": [
            "North"
           ],
           "xaxis": "x",
           "y": [
            21.54
           ],
           "yaxis": "y"
          },
          {
           "alignmentgroup": "True",
           "hovertemplate": "state=Uttarakhand<br>month=Apr<br>region=%{x}<br>estimated unemployment rate=%{y}<extra></extra>",
           "legendgroup": "Uttarakhand",
           "marker": {
            "color": "#19d3f3",
            "pattern": {
             "shape": ""
            }
           },
           "name": "Uttarakhand",
           "offsetgroup": "Uttarakhand",
           "orientation": "v",
           "showlegend": true,
           "textposition": "auto",
           "type": "bar",
           "x": [
            "North"
           ],
           "xaxis": "x",
           "y": [
            6.48
           ],
           "yaxis": "y"
          },
          {
           "alignmentgroup": "True",
           "hovertemplate": "state=West Bengal<br>month=Apr<br>region=%{x}<br>estimated unemployment rate=%{y}<extra></extra>",
           "legendgroup": "West Bengal",
           "marker": {
            "color": "#FF6692",
            "pattern": {
             "shape": ""
            }
           },
           "name": "West Bengal",
           "offsetgroup": "West Bengal",
           "orientation": "v",
           "showlegend": true,
           "textposition": "auto",
           "type": "bar",
           "x": [
            "East"
           ],
           "xaxis": "x",
           "y": [
            17.41
           ],
           "yaxis": "y"
          }
         ],
         "name": "Apr"
        },
        {
         "data": [
          {
           "alignmentgroup": "True",
           "hovertemplate": "state=Andhra Pradesh<br>month=May<br>region=%{x}<br>estimated unemployment rate=%{y}<extra></extra>",
           "legendgroup": "Andhra Pradesh",
           "marker": {
            "color": "#636efa",
            "pattern": {
             "shape": ""
            }
           },
           "name": "Andhra Pradesh",
           "offsetgroup": "Andhra Pradesh",
           "orientation": "v",
           "showlegend": true,
           "textposition": "auto",
           "type": "bar",
           "x": [
            "South"
           ],
           "xaxis": "x",
           "y": [
            17.43
           ],
           "yaxis": "y"
          },
          {
           "alignmentgroup": "True",
           "hovertemplate": "state=Assam<br>month=May<br>region=%{x}<br>estimated unemployment rate=%{y}<extra></extra>",
           "legendgroup": "Assam",
           "marker": {
            "color": "#EF553B",
            "pattern": {
             "shape": ""
            }
           },
           "name": "Assam",
           "offsetgroup": "Assam",
           "orientation": "v",
           "showlegend": true,
           "textposition": "auto",
           "type": "bar",
           "x": [
            "Northeast"
           ],
           "xaxis": "x",
           "y": [
            9.55
           ],
           "yaxis": "y"
          },
          {
           "alignmentgroup": "True",
           "hovertemplate": "state=Bihar<br>month=May<br>region=%{x}<br>estimated unemployment rate=%{y}<extra></extra>",
           "legendgroup": "Bihar",
           "marker": {
            "color": "#00cc96",
            "pattern": {
             "shape": ""
            }
           },
           "name": "Bihar",
           "offsetgroup": "Bihar",
           "orientation": "v",
           "showlegend": true,
           "textposition": "auto",
           "type": "bar",
           "x": [
            "East"
           ],
           "xaxis": "x",
           "y": [
            45.96
           ],
           "yaxis": "y"
          },
          {
           "alignmentgroup": "True",
           "hovertemplate": "state=Chhattisgarh<br>month=May<br>region=%{x}<br>estimated unemployment rate=%{y}<extra></extra>",
           "legendgroup": "Chhattisgarh",
           "marker": {
            "color": "#ab63fa",
            "pattern": {
             "shape": ""
            }
           },
           "name": "Chhattisgarh",
           "offsetgroup": "Chhattisgarh",
           "orientation": "v",
           "showlegend": true,
           "textposition": "auto",
           "type": "bar",
           "x": [
            "West"
           ],
           "xaxis": "x",
           "y": [
            10.5
           ],
           "yaxis": "y"
          },
          {
           "alignmentgroup": "True",
           "hovertemplate": "state=Delhi<br>month=May<br>region=%{x}<br>estimated unemployment rate=%{y}<extra></extra>",
           "legendgroup": "Delhi",
           "marker": {
            "color": "#FFA15A",
            "pattern": {
             "shape": ""
            }
           },
           "name": "Delhi",
           "offsetgroup": "Delhi",
           "orientation": "v",
           "showlegend": true,
           "textposition": "auto",
           "type": "bar",
           "x": [
            "North"
           ],
           "xaxis": "x",
           "y": [
            42.27
           ],
           "yaxis": "y"
          },
          {
           "alignmentgroup": "True",
           "hovertemplate": "state=Goa<br>month=May<br>region=%{x}<br>estimated unemployment rate=%{y}<extra></extra>",
           "legendgroup": "Goa",
           "marker": {
            "color": "#19d3f3",
            "pattern": {
             "shape": ""
            }
           },
           "name": "Goa",
           "offsetgroup": "Goa",
           "orientation": "v",
           "showlegend": true,
           "textposition": "auto",
           "type": "bar",
           "x": [
            "West"
           ],
           "xaxis": "x",
           "y": [
            21.25
           ],
           "yaxis": "y"
          },
          {
           "alignmentgroup": "True",
           "hovertemplate": "state=Gujarat<br>month=May<br>region=%{x}<br>estimated unemployment rate=%{y}<extra></extra>",
           "legendgroup": "Gujarat",
           "marker": {
            "color": "#FF6692",
            "pattern": {
             "shape": ""
            }
           },
           "name": "Gujarat",
           "offsetgroup": "Gujarat",
           "orientation": "v",
           "showlegend": true,
           "textposition": "auto",
           "type": "bar",
           "x": [
            "West"
           ],
           "xaxis": "x",
           "y": [
            12.11
           ],
           "yaxis": "y"
          },
          {
           "alignmentgroup": "True",
           "hovertemplate": "state=Haryana<br>month=May<br>region=%{x}<br>estimated unemployment rate=%{y}<extra></extra>",
           "legendgroup": "Haryana",
           "marker": {
            "color": "#B6E880",
            "pattern": {
             "shape": ""
            }
           },
           "name": "Haryana",
           "offsetgroup": "Haryana",
           "orientation": "v",
           "showlegend": true,
           "textposition": "auto",
           "type": "bar",
           "x": [
            "North"
           ],
           "xaxis": "x",
           "y": [
            29.02
           ],
           "yaxis": "y"
          },
          {
           "alignmentgroup": "True",
           "hovertemplate": "state=Himachal Pradesh<br>month=May<br>region=%{x}<br>estimated unemployment rate=%{y}<extra></extra>",
           "legendgroup": "Himachal Pradesh",
           "marker": {
            "color": "#FF97FF",
            "pattern": {
             "shape": ""
            }
           },
           "name": "Himachal Pradesh",
           "offsetgroup": "Himachal Pradesh",
           "orientation": "v",
           "showlegend": true,
           "textposition": "auto",
           "type": "bar",
           "x": [
            "North"
           ],
           "xaxis": "x",
           "y": [
            26.95
           ],
           "yaxis": "y"
          },
          {
           "alignmentgroup": "True",
           "hovertemplate": "state=Jammu & Kashmir<br>month=May<br>region=%{x}<br>estimated unemployment rate=%{y}<extra></extra>",
           "legendgroup": "Jammu & Kashmir",
           "marker": {
            "color": "#FECB52",
            "pattern": {
             "shape": ""
            }
           },
           "name": "Jammu & Kashmir",
           "offsetgroup": "Jammu & Kashmir",
           "orientation": "v",
           "showlegend": true,
           "textposition": "auto",
           "type": "bar",
           "x": [
            "North"
           ],
           "xaxis": "x",
           "y": [
            18.74
           ],
           "yaxis": "y"
          },
          {
           "alignmentgroup": "True",
           "hovertemplate": "state=Jharkhand<br>month=May<br>region=%{x}<br>estimated unemployment rate=%{y}<extra></extra>",
           "legendgroup": "Jharkhand",
           "marker": {
            "color": "#636efa",
            "pattern": {
             "shape": ""
            }
           },
           "name": "Jharkhand",
           "offsetgroup": "Jharkhand",
           "orientation": "v",
           "showlegend": true,
           "textposition": "auto",
           "type": "bar",
           "x": [
            "East"
           ],
           "xaxis": "x",
           "y": [
            59.23
           ],
           "yaxis": "y"
          },
          {
           "alignmentgroup": "True",
           "hovertemplate": "state=Karnataka<br>month=May<br>region=%{x}<br>estimated unemployment rate=%{y}<extra></extra>",
           "legendgroup": "Karnataka",
           "marker": {
            "color": "#EF553B",
            "pattern": {
             "shape": ""
            }
           },
           "name": "Karnataka",
           "offsetgroup": "Karnataka",
           "orientation": "v",
           "showlegend": true,
           "textposition": "auto",
           "type": "bar",
           "x": [
            "South"
           ],
           "xaxis": "x",
           "y": [
            19.97
           ],
           "yaxis": "y"
          },
          {
           "alignmentgroup": "True",
           "hovertemplate": "state=Kerala<br>month=May<br>region=%{x}<br>estimated unemployment rate=%{y}<extra></extra>",
           "legendgroup": "Kerala",
           "marker": {
            "color": "#00cc96",
            "pattern": {
             "shape": ""
            }
           },
           "name": "Kerala",
           "offsetgroup": "Kerala",
           "orientation": "v",
           "showlegend": true,
           "textposition": "auto",
           "type": "bar",
           "x": [
            "South"
           ],
           "xaxis": "x",
           "y": [
            17.88
           ],
           "yaxis": "y"
          },
          {
           "alignmentgroup": "True",
           "hovertemplate": "state=Madhya Pradesh<br>month=May<br>region=%{x}<br>estimated unemployment rate=%{y}<extra></extra>",
           "legendgroup": "Madhya Pradesh",
           "marker": {
            "color": "#ab63fa",
            "pattern": {
             "shape": ""
            }
           },
           "name": "Madhya Pradesh",
           "offsetgroup": "Madhya Pradesh",
           "orientation": "v",
           "showlegend": true,
           "textposition": "auto",
           "type": "bar",
           "x": [
            "West"
           ],
           "xaxis": "x",
           "y": [
            21.98
           ],
           "yaxis": "y"
          },
          {
           "alignmentgroup": "True",
           "hovertemplate": "state=Maharashtra<br>month=May<br>region=%{x}<br>estimated unemployment rate=%{y}<extra></extra>",
           "legendgroup": "Maharashtra",
           "marker": {
            "color": "#FFA15A",
            "pattern": {
             "shape": ""
            }
           },
           "name": "Maharashtra",
           "offsetgroup": "Maharashtra",
           "orientation": "v",
           "showlegend": true,
           "textposition": "auto",
           "type": "bar",
           "x": [
            "West"
           ],
           "xaxis": "x",
           "y": [
            15.46
           ],
           "yaxis": "y"
          },
          {
           "alignmentgroup": "True",
           "hovertemplate": "state=Meghalaya<br>month=May<br>region=%{x}<br>estimated unemployment rate=%{y}<extra></extra>",
           "legendgroup": "Meghalaya",
           "marker": {
            "color": "#19d3f3",
            "pattern": {
             "shape": ""
            }
           },
           "name": "Meghalaya",
           "offsetgroup": "Meghalaya",
           "orientation": "v",
           "showlegend": true,
           "textposition": "auto",
           "type": "bar",
           "x": [
            "Northeast"
           ],
           "xaxis": "x",
           "y": [
            5.92
           ],
           "yaxis": "y"
          },
          {
           "alignmentgroup": "True",
           "hovertemplate": "state=Odisha<br>month=May<br>region=%{x}<br>estimated unemployment rate=%{y}<extra></extra>",
           "legendgroup": "Odisha",
           "marker": {
            "color": "#FF6692",
            "pattern": {
             "shape": ""
            }
           },
           "name": "Odisha",
           "offsetgroup": "Odisha",
           "orientation": "v",
           "showlegend": true,
           "textposition": "auto",
           "type": "bar",
           "x": [
            "East"
           ],
           "xaxis": "x",
           "y": [
            11.41
           ],
           "yaxis": "y"
          },
          {
           "alignmentgroup": "True",
           "hovertemplate": "state=Puducherry<br>month=May<br>region=%{x}<br>estimated unemployment rate=%{y}<extra></extra>",
           "legendgroup": "Puducherry",
           "marker": {
            "color": "#B6E880",
            "pattern": {
             "shape": ""
            }
           },
           "name": "Puducherry",
           "offsetgroup": "Puducherry",
           "orientation": "v",
           "showlegend": true,
           "textposition": "auto",
           "type": "bar",
           "x": [
            "South"
           ],
           "xaxis": "x",
           "y": [
            58.19
           ],
           "yaxis": "y"
          },
          {
           "alignmentgroup": "True",
           "hovertemplate": "state=Punjab<br>month=May<br>region=%{x}<br>estimated unemployment rate=%{y}<extra></extra>",
           "legendgroup": "Punjab",
           "marker": {
            "color": "#FF97FF",
            "pattern": {
             "shape": ""
            }
           },
           "name": "Punjab",
           "offsetgroup": "Punjab",
           "orientation": "v",
           "showlegend": true,
           "textposition": "auto",
           "type": "bar",
           "x": [
            "North"
           ],
           "xaxis": "x",
           "y": [
            28.33
           ],
           "yaxis": "y"
          },
          {
           "alignmentgroup": "True",
           "hovertemplate": "state=Rajasthan<br>month=May<br>region=%{x}<br>estimated unemployment rate=%{y}<extra></extra>",
           "legendgroup": "Rajasthan",
           "marker": {
            "color": "#FECB52",
            "pattern": {
             "shape": ""
            }
           },
           "name": "Rajasthan",
           "offsetgroup": "Rajasthan",
           "orientation": "v",
           "showlegend": true,
           "textposition": "auto",
           "type": "bar",
           "x": [
            "North"
           ],
           "xaxis": "x",
           "y": [
            15.74
           ],
           "yaxis": "y"
          },
          {
           "alignmentgroup": "True",
           "hovertemplate": "state=Sikkim<br>month=May<br>region=%{x}<br>estimated unemployment rate=%{y}<extra></extra>",
           "legendgroup": "Sikkim",
           "marker": {
            "color": "#636efa",
            "pattern": {
             "shape": ""
            }
           },
           "name": "Sikkim",
           "offsetgroup": "Sikkim",
           "orientation": "v",
           "showlegend": true,
           "textposition": "auto",
           "type": "bar",
           "x": [
            "Northeast"
           ],
           "xaxis": "x",
           "y": [
            24.51
           ],
           "yaxis": "y"
          },
          {
           "alignmentgroup": "True",
           "hovertemplate": "state=Tamil Nadu<br>month=May<br>region=%{x}<br>estimated unemployment rate=%{y}<extra></extra>",
           "legendgroup": "Tamil Nadu",
           "marker": {
            "color": "#EF553B",
            "pattern": {
             "shape": ""
            }
           },
           "name": "Tamil Nadu",
           "offsetgroup": "Tamil Nadu",
           "orientation": "v",
           "showlegend": true,
           "textposition": "auto",
           "type": "bar",
           "x": [
            "South"
           ],
           "xaxis": "x",
           "y": [
            33.16
           ],
           "yaxis": "y"
          },
          {
           "alignmentgroup": "True",
           "hovertemplate": "state=Telangana<br>month=May<br>region=%{x}<br>estimated unemployment rate=%{y}<extra></extra>",
           "legendgroup": "Telangana",
           "marker": {
            "color": "#00cc96",
            "pattern": {
             "shape": ""
            }
           },
           "name": "Telangana",
           "offsetgroup": "Telangana",
           "orientation": "v",
           "showlegend": true,
           "textposition": "auto",
           "type": "bar",
           "x": [
            "South"
           ],
           "xaxis": "x",
           "y": [
            14.7
           ],
           "yaxis": "y"
          },
          {
           "alignmentgroup": "True",
           "hovertemplate": "state=Tripura<br>month=May<br>region=%{x}<br>estimated unemployment rate=%{y}<extra></extra>",
           "legendgroup": "Tripura",
           "marker": {
            "color": "#ab63fa",
            "pattern": {
             "shape": ""
            }
           },
           "name": "Tripura",
           "offsetgroup": "Tripura",
           "orientation": "v",
           "showlegend": true,
           "textposition": "auto",
           "type": "bar",
           "x": [
            "Northeast"
           ],
           "xaxis": "x",
           "y": [
            21.51
           ],
           "yaxis": "y"
          },
          {
           "alignmentgroup": "True",
           "hovertemplate": "state=Uttar Pradesh<br>month=May<br>region=%{x}<br>estimated unemployment rate=%{y}<extra></extra>",
           "legendgroup": "Uttar Pradesh",
           "marker": {
            "color": "#FFA15A",
            "pattern": {
             "shape": ""
            }
           },
           "name": "Uttar Pradesh",
           "offsetgroup": "Uttar Pradesh",
           "orientation": "v",
           "showlegend": true,
           "textposition": "auto",
           "type": "bar",
           "x": [
            "North"
           ],
           "xaxis": "x",
           "y": [
            20.41
           ],
           "yaxis": "y"
          },
          {
           "alignmentgroup": "True",
           "hovertemplate": "state=Uttarakhand<br>month=May<br>region=%{x}<br>estimated unemployment rate=%{y}<extra></extra>",
           "legendgroup": "Uttarakhand",
           "marker": {
            "color": "#19d3f3",
            "pattern": {
             "shape": ""
            }
           },
           "name": "Uttarakhand",
           "offsetgroup": "Uttarakhand",
           "orientation": "v",
           "showlegend": true,
           "textposition": "auto",
           "type": "bar",
           "x": [
            "North"
           ],
           "xaxis": "x",
           "y": [
            8.01
           ],
           "yaxis": "y"
          },
          {
           "alignmentgroup": "True",
           "hovertemplate": "state=West Bengal<br>month=May<br>region=%{x}<br>estimated unemployment rate=%{y}<extra></extra>",
           "legendgroup": "West Bengal",
           "marker": {
            "color": "#FF6692",
            "pattern": {
             "shape": ""
            }
           },
           "name": "West Bengal",
           "offsetgroup": "West Bengal",
           "orientation": "v",
           "showlegend": true,
           "textposition": "auto",
           "type": "bar",
           "x": [
            "East"
           ],
           "xaxis": "x",
           "y": [
            17.41
           ],
           "yaxis": "y"
          }
         ],
         "name": "May"
        },
        {
         "data": [
          {
           "alignmentgroup": "True",
           "hovertemplate": "state=Andhra Pradesh<br>month=Jun<br>region=%{x}<br>estimated unemployment rate=%{y}<extra></extra>",
           "legendgroup": "Andhra Pradesh",
           "marker": {
            "color": "#636efa",
            "pattern": {
             "shape": ""
            }
           },
           "name": "Andhra Pradesh",
           "offsetgroup": "Andhra Pradesh",
           "orientation": "v",
           "showlegend": true,
           "textposition": "auto",
           "type": "bar",
           "x": [
            "South"
           ],
           "xaxis": "x",
           "y": [
            3.31
           ],
           "yaxis": "y"
          },
          {
           "alignmentgroup": "True",
           "hovertemplate": "state=Assam<br>month=Jun<br>region=%{x}<br>estimated unemployment rate=%{y}<extra></extra>",
           "legendgroup": "Assam",
           "marker": {
            "color": "#EF553B",
            "pattern": {
             "shape": ""
            }
           },
           "name": "Assam",
           "offsetgroup": "Assam",
           "orientation": "v",
           "showlegend": true,
           "textposition": "auto",
           "type": "bar",
           "x": [
            "Northeast"
           ],
           "xaxis": "x",
           "y": [
            0.6
           ],
           "yaxis": "y"
          },
          {
           "alignmentgroup": "True",
           "hovertemplate": "state=Bihar<br>month=Jun<br>region=%{x}<br>estimated unemployment rate=%{y}<extra></extra>",
           "legendgroup": "Bihar",
           "marker": {
            "color": "#00cc96",
            "pattern": {
             "shape": ""
            }
           },
           "name": "Bihar",
           "offsetgroup": "Bihar",
           "orientation": "v",
           "showlegend": true,
           "textposition": "auto",
           "type": "bar",
           "x": [
            "East"
           ],
           "xaxis": "x",
           "y": [
            17.82
           ],
           "yaxis": "y"
          },
          {
           "alignmentgroup": "True",
           "hovertemplate": "state=Chhattisgarh<br>month=Jun<br>region=%{x}<br>estimated unemployment rate=%{y}<extra></extra>",
           "legendgroup": "Chhattisgarh",
           "marker": {
            "color": "#ab63fa",
            "pattern": {
             "shape": ""
            }
           },
           "name": "Chhattisgarh",
           "offsetgroup": "Chhattisgarh",
           "orientation": "v",
           "showlegend": true,
           "textposition": "auto",
           "type": "bar",
           "x": [
            "West"
           ],
           "xaxis": "x",
           "y": [
            14.23
           ],
           "yaxis": "y"
          },
          {
           "alignmentgroup": "True",
           "hovertemplate": "state=Delhi<br>month=Jun<br>region=%{x}<br>estimated unemployment rate=%{y}<extra></extra>",
           "legendgroup": "Delhi",
           "marker": {
            "color": "#FFA15A",
            "pattern": {
             "shape": ""
            }
           },
           "name": "Delhi",
           "offsetgroup": "Delhi",
           "orientation": "v",
           "showlegend": true,
           "textposition": "auto",
           "type": "bar",
           "x": [
            "North"
           ],
           "xaxis": "x",
           "y": [
            18.19
           ],
           "yaxis": "y"
          },
          {
           "alignmentgroup": "True",
           "hovertemplate": "state=Goa<br>month=Jun<br>region=%{x}<br>estimated unemployment rate=%{y}<extra></extra>",
           "legendgroup": "Goa",
           "marker": {
            "color": "#19d3f3",
            "pattern": {
             "shape": ""
            }
           },
           "name": "Goa",
           "offsetgroup": "Goa",
           "orientation": "v",
           "showlegend": true,
           "textposition": "auto",
           "type": "bar",
           "x": [
            "West"
           ],
           "xaxis": "x",
           "y": [
            9.96
           ],
           "yaxis": "y"
          },
          {
           "alignmentgroup": "True",
           "hovertemplate": "state=Gujarat<br>month=Jun<br>region=%{x}<br>estimated unemployment rate=%{y}<extra></extra>",
           "legendgroup": "Gujarat",
           "marker": {
            "color": "#FF6692",
            "pattern": {
             "shape": ""
            }
           },
           "name": "Gujarat",
           "offsetgroup": "Gujarat",
           "orientation": "v",
           "showlegend": true,
           "textposition": "auto",
           "type": "bar",
           "x": [
            "West"
           ],
           "xaxis": "x",
           "y": [
            3.2
           ],
           "yaxis": "y"
          },
          {
           "alignmentgroup": "True",
           "hovertemplate": "state=Haryana<br>month=Jun<br>region=%{x}<br>estimated unemployment rate=%{y}<extra></extra>",
           "legendgroup": "Haryana",
           "marker": {
            "color": "#B6E880",
            "pattern": {
             "shape": ""
            }
           },
           "name": "Haryana",
           "offsetgroup": "Haryana",
           "orientation": "v",
           "showlegend": true,
           "textposition": "auto",
           "type": "bar",
           "x": [
            "North"
           ],
           "xaxis": "x",
           "y": [
            26.7
           ],
           "yaxis": "y"
          },
          {
           "alignmentgroup": "True",
           "hovertemplate": "state=Himachal Pradesh<br>month=Jun<br>region=%{x}<br>estimated unemployment rate=%{y}<extra></extra>",
           "legendgroup": "Himachal Pradesh",
           "marker": {
            "color": "#FF97FF",
            "pattern": {
             "shape": ""
            }
           },
           "name": "Himachal Pradesh",
           "offsetgroup": "Himachal Pradesh",
           "orientation": "v",
           "showlegend": true,
           "textposition": "auto",
           "type": "bar",
           "x": [
            "North"
           ],
           "xaxis": "x",
           "y": [
            13.47
           ],
           "yaxis": "y"
          },
          {
           "alignmentgroup": "True",
           "hovertemplate": "state=Jammu & Kashmir<br>month=Jun<br>region=%{x}<br>estimated unemployment rate=%{y}<extra></extra>",
           "legendgroup": "Jammu & Kashmir",
           "marker": {
            "color": "#FECB52",
            "pattern": {
             "shape": ""
            }
           },
           "name": "Jammu & Kashmir",
           "offsetgroup": "Jammu & Kashmir",
           "orientation": "v",
           "showlegend": true,
           "textposition": "auto",
           "type": "bar",
           "x": [
            "North"
           ],
           "xaxis": "x",
           "y": [
            17.92
           ],
           "yaxis": "y"
          },
          {
           "alignmentgroup": "True",
           "hovertemplate": "state=Jharkhand<br>month=Jun<br>region=%{x}<br>estimated unemployment rate=%{y}<extra></extra>",
           "legendgroup": "Jharkhand",
           "marker": {
            "color": "#636efa",
            "pattern": {
             "shape": ""
            }
           },
           "name": "Jharkhand",
           "offsetgroup": "Jharkhand",
           "orientation": "v",
           "showlegend": true,
           "textposition": "auto",
           "type": "bar",
           "x": [
            "East"
           ],
           "xaxis": "x",
           "y": [
            20.95
           ],
           "yaxis": "y"
          },
          {
           "alignmentgroup": "True",
           "hovertemplate": "state=Karnataka<br>month=Jun<br>region=%{x}<br>estimated unemployment rate=%{y}<extra></extra>",
           "legendgroup": "Karnataka",
           "marker": {
            "color": "#EF553B",
            "pattern": {
             "shape": ""
            }
           },
           "name": "Karnataka",
           "offsetgroup": "Karnataka",
           "orientation": "v",
           "showlegend": true,
           "textposition": "auto",
           "type": "bar",
           "x": [
            "South"
           ],
           "xaxis": "x",
           "y": [
            8.44
           ],
           "yaxis": "y"
          },
          {
           "alignmentgroup": "True",
           "hovertemplate": "state=Kerala<br>month=Jun<br>region=%{x}<br>estimated unemployment rate=%{y}<extra></extra>",
           "legendgroup": "Kerala",
           "marker": {
            "color": "#00cc96",
            "pattern": {
             "shape": ""
            }
           },
           "name": "Kerala",
           "offsetgroup": "Kerala",
           "orientation": "v",
           "showlegend": true,
           "textposition": "auto",
           "type": "bar",
           "x": [
            "South"
           ],
           "xaxis": "x",
           "y": [
            9.71
           ],
           "yaxis": "y"
          },
          {
           "alignmentgroup": "True",
           "hovertemplate": "state=Madhya Pradesh<br>month=Jun<br>region=%{x}<br>estimated unemployment rate=%{y}<extra></extra>",
           "legendgroup": "Madhya Pradesh",
           "marker": {
            "color": "#ab63fa",
            "pattern": {
             "shape": ""
            }
           },
           "name": "Madhya Pradesh",
           "offsetgroup": "Madhya Pradesh",
           "orientation": "v",
           "showlegend": true,
           "textposition": "auto",
           "type": "bar",
           "x": [
            "West"
           ],
           "xaxis": "x",
           "y": [
            6.48
           ],
           "yaxis": "y"
          },
          {
           "alignmentgroup": "True",
           "hovertemplate": "state=Maharashtra<br>month=Jun<br>region=%{x}<br>estimated unemployment rate=%{y}<extra></extra>",
           "legendgroup": "Maharashtra",
           "marker": {
            "color": "#FFA15A",
            "pattern": {
             "shape": ""
            }
           },
           "name": "Maharashtra",
           "offsetgroup": "Maharashtra",
           "orientation": "v",
           "showlegend": true,
           "textposition": "auto",
           "type": "bar",
           "x": [
            "West"
           ],
           "xaxis": "x",
           "y": [
            9.23
           ],
           "yaxis": "y"
          },
          {
           "alignmentgroup": "True",
           "hovertemplate": "state=Meghalaya<br>month=Jun<br>region=%{x}<br>estimated unemployment rate=%{y}<extra></extra>",
           "legendgroup": "Meghalaya",
           "marker": {
            "color": "#19d3f3",
            "pattern": {
             "shape": ""
            }
           },
           "name": "Meghalaya",
           "offsetgroup": "Meghalaya",
           "orientation": "v",
           "showlegend": true,
           "textposition": "auto",
           "type": "bar",
           "x": [
            "Northeast"
           ],
           "xaxis": "x",
           "y": [
            1.15
           ],
           "yaxis": "y"
          },
          {
           "alignmentgroup": "True",
           "hovertemplate": "state=Odisha<br>month=Jun<br>region=%{x}<br>estimated unemployment rate=%{y}<extra></extra>",
           "legendgroup": "Odisha",
           "marker": {
            "color": "#FF6692",
            "pattern": {
             "shape": ""
            }
           },
           "name": "Odisha",
           "offsetgroup": "Odisha",
           "orientation": "v",
           "showlegend": true,
           "textposition": "auto",
           "type": "bar",
           "x": [
            "East"
           ],
           "xaxis": "x",
           "y": [
            3.77
           ],
           "yaxis": "y"
          },
          {
           "alignmentgroup": "True",
           "hovertemplate": "state=Puducherry<br>month=Jun<br>region=%{x}<br>estimated unemployment rate=%{y}<extra></extra>",
           "legendgroup": "Puducherry",
           "marker": {
            "color": "#B6E880",
            "pattern": {
             "shape": ""
            }
           },
           "name": "Puducherry",
           "offsetgroup": "Puducherry",
           "orientation": "v",
           "showlegend": true,
           "textposition": "auto",
           "type": "bar",
           "x": [
            "South"
           ],
           "xaxis": "x",
           "y": [
            4.24
           ],
           "yaxis": "y"
          },
          {
           "alignmentgroup": "True",
           "hovertemplate": "state=Punjab<br>month=Jun<br>region=%{x}<br>estimated unemployment rate=%{y}<extra></extra>",
           "legendgroup": "Punjab",
           "marker": {
            "color": "#FF97FF",
            "pattern": {
             "shape": ""
            }
           },
           "name": "Punjab",
           "offsetgroup": "Punjab",
           "orientation": "v",
           "showlegend": true,
           "textposition": "auto",
           "type": "bar",
           "x": [
            "North"
           ],
           "xaxis": "x",
           "y": [
            16.55
           ],
           "yaxis": "y"
          },
          {
           "alignmentgroup": "True",
           "hovertemplate": "state=Rajasthan<br>month=Jun<br>region=%{x}<br>estimated unemployment rate=%{y}<extra></extra>",
           "legendgroup": "Rajasthan",
           "marker": {
            "color": "#FECB52",
            "pattern": {
             "shape": ""
            }
           },
           "name": "Rajasthan",
           "offsetgroup": "Rajasthan",
           "orientation": "v",
           "showlegend": true,
           "textposition": "auto",
           "type": "bar",
           "x": [
            "North"
           ],
           "xaxis": "x",
           "y": [
            14.39
           ],
           "yaxis": "y"
          },
          {
           "alignmentgroup": "True",
           "hovertemplate": "state=Sikkim<br>month=Jun<br>region=%{x}<br>estimated unemployment rate=%{y}<extra></extra>",
           "legendgroup": "Sikkim",
           "marker": {
            "color": "#636efa",
            "pattern": {
             "shape": ""
            }
           },
           "name": "Sikkim",
           "offsetgroup": "Sikkim",
           "orientation": "v",
           "showlegend": true,
           "textposition": "auto",
           "type": "bar",
           "x": [
            "Northeast"
           ],
           "xaxis": "x",
           "y": [
            4.46
           ],
           "yaxis": "y"
          },
          {
           "alignmentgroup": "True",
           "hovertemplate": "state=Tamil Nadu<br>month=Jun<br>region=%{x}<br>estimated unemployment rate=%{y}<extra></extra>",
           "legendgroup": "Tamil Nadu",
           "marker": {
            "color": "#EF553B",
            "pattern": {
             "shape": ""
            }
           },
           "name": "Tamil Nadu",
           "offsetgroup": "Tamil Nadu",
           "orientation": "v",
           "showlegend": true,
           "textposition": "auto",
           "type": "bar",
           "x": [
            "South"
           ],
           "xaxis": "x",
           "y": [
            12.2
           ],
           "yaxis": "y"
          },
          {
           "alignmentgroup": "True",
           "hovertemplate": "state=Telangana<br>month=Jun<br>region=%{x}<br>estimated unemployment rate=%{y}<extra></extra>",
           "legendgroup": "Telangana",
           "marker": {
            "color": "#00cc96",
            "pattern": {
             "shape": ""
            }
           },
           "name": "Telangana",
           "offsetgroup": "Telangana",
           "orientation": "v",
           "showlegend": true,
           "textposition": "auto",
           "type": "bar",
           "x": [
            "South"
           ],
           "xaxis": "x",
           "y": [
            10.55
           ],
           "yaxis": "y"
          },
          {
           "alignmentgroup": "True",
           "hovertemplate": "state=Tripura<br>month=Jun<br>region=%{x}<br>estimated unemployment rate=%{y}<extra></extra>",
           "legendgroup": "Tripura",
           "marker": {
            "color": "#ab63fa",
            "pattern": {
             "shape": ""
            }
           },
           "name": "Tripura",
           "offsetgroup": "Tripura",
           "orientation": "v",
           "showlegend": true,
           "textposition": "auto",
           "type": "bar",
           "x": [
            "Northeast"
           ],
           "xaxis": "x",
           "y": [
            21.71
           ],
           "yaxis": "y"
          },
          {
           "alignmentgroup": "True",
           "hovertemplate": "state=Uttar Pradesh<br>month=Jun<br>region=%{x}<br>estimated unemployment rate=%{y}<extra></extra>",
           "legendgroup": "Uttar Pradesh",
           "marker": {
            "color": "#FFA15A",
            "pattern": {
             "shape": ""
            }
           },
           "name": "Uttar Pradesh",
           "offsetgroup": "Uttar Pradesh",
           "orientation": "v",
           "showlegend": true,
           "textposition": "auto",
           "type": "bar",
           "x": [
            "North"
           ],
           "xaxis": "x",
           "y": [
            9.47
           ],
           "yaxis": "y"
          },
          {
           "alignmentgroup": "True",
           "hovertemplate": "state=Uttarakhand<br>month=Jun<br>region=%{x}<br>estimated unemployment rate=%{y}<extra></extra>",
           "legendgroup": "Uttarakhand",
           "marker": {
            "color": "#19d3f3",
            "pattern": {
             "shape": ""
            }
           },
           "name": "Uttarakhand",
           "offsetgroup": "Uttarakhand",
           "orientation": "v",
           "showlegend": true,
           "textposition": "auto",
           "type": "bar",
           "x": [
            "North"
           ],
           "xaxis": "x",
           "y": [
            8.61
           ],
           "yaxis": "y"
          },
          {
           "alignmentgroup": "True",
           "hovertemplate": "state=West Bengal<br>month=Jun<br>region=%{x}<br>estimated unemployment rate=%{y}<extra></extra>",
           "legendgroup": "West Bengal",
           "marker": {
            "color": "#FF6692",
            "pattern": {
             "shape": ""
            }
           },
           "name": "West Bengal",
           "offsetgroup": "West Bengal",
           "orientation": "v",
           "showlegend": true,
           "textposition": "auto",
           "type": "bar",
           "x": [
            "East"
           ],
           "xaxis": "x",
           "y": [
            7.29
           ],
           "yaxis": "y"
          }
         ],
         "name": "Jun"
        },
        {
         "data": [
          {
           "alignmentgroup": "True",
           "hovertemplate": "state=Andhra Pradesh<br>month=Jul<br>region=%{x}<br>estimated unemployment rate=%{y}<extra></extra>",
           "legendgroup": "Andhra Pradesh",
           "marker": {
            "color": "#636efa",
            "pattern": {
             "shape": ""
            }
           },
           "name": "Andhra Pradesh",
           "offsetgroup": "Andhra Pradesh",
           "orientation": "v",
           "showlegend": true,
           "textposition": "auto",
           "type": "bar",
           "x": [
            "South"
           ],
           "xaxis": "x",
           "y": [
            8.34
           ],
           "yaxis": "y"
          },
          {
           "alignmentgroup": "True",
           "hovertemplate": "state=Assam<br>month=Jul<br>region=%{x}<br>estimated unemployment rate=%{y}<extra></extra>",
           "legendgroup": "Assam",
           "marker": {
            "color": "#EF553B",
            "pattern": {
             "shape": ""
            }
           },
           "name": "Assam",
           "offsetgroup": "Assam",
           "orientation": "v",
           "showlegend": true,
           "textposition": "auto",
           "type": "bar",
           "x": [
            "Northeast"
           ],
           "xaxis": "x",
           "y": [
            3.77
           ],
           "yaxis": "y"
          },
          {
           "alignmentgroup": "True",
           "hovertemplate": "state=Bihar<br>month=Jul<br>region=%{x}<br>estimated unemployment rate=%{y}<extra></extra>",
           "legendgroup": "Bihar",
           "marker": {
            "color": "#00cc96",
            "pattern": {
             "shape": ""
            }
           },
           "name": "Bihar",
           "offsetgroup": "Bihar",
           "orientation": "v",
           "showlegend": true,
           "textposition": "auto",
           "type": "bar",
           "x": [
            "East"
           ],
           "xaxis": "x",
           "y": [
            12.79
           ],
           "yaxis": "y"
          },
          {
           "alignmentgroup": "True",
           "hovertemplate": "state=Chhattisgarh<br>month=Jul<br>region=%{x}<br>estimated unemployment rate=%{y}<extra></extra>",
           "legendgroup": "Chhattisgarh",
           "marker": {
            "color": "#ab63fa",
            "pattern": {
             "shape": ""
            }
           },
           "name": "Chhattisgarh",
           "offsetgroup": "Chhattisgarh",
           "orientation": "v",
           "showlegend": true,
           "textposition": "auto",
           "type": "bar",
           "x": [
            "West"
           ],
           "xaxis": "x",
           "y": [
            10.27
           ],
           "yaxis": "y"
          },
          {
           "alignmentgroup": "True",
           "hovertemplate": "state=Delhi<br>month=Jul<br>region=%{x}<br>estimated unemployment rate=%{y}<extra></extra>",
           "legendgroup": "Delhi",
           "marker": {
            "color": "#FFA15A",
            "pattern": {
             "shape": ""
            }
           },
           "name": "Delhi",
           "offsetgroup": "Delhi",
           "orientation": "v",
           "showlegend": true,
           "textposition": "auto",
           "type": "bar",
           "x": [
            "North"
           ],
           "xaxis": "x",
           "y": [
            20.3
           ],
           "yaxis": "y"
          },
          {
           "alignmentgroup": "True",
           "hovertemplate": "state=Goa<br>month=Jul<br>region=%{x}<br>estimated unemployment rate=%{y}<extra></extra>",
           "legendgroup": "Goa",
           "marker": {
            "color": "#19d3f3",
            "pattern": {
             "shape": ""
            }
           },
           "name": "Goa",
           "offsetgroup": "Goa",
           "orientation": "v",
           "showlegend": true,
           "textposition": "auto",
           "type": "bar",
           "x": [
            "West"
           ],
           "xaxis": "x",
           "y": [
            17.07
           ],
           "yaxis": "y"
          },
          {
           "alignmentgroup": "True",
           "hovertemplate": "state=Gujarat<br>month=Jul<br>region=%{x}<br>estimated unemployment rate=%{y}<extra></extra>",
           "legendgroup": "Gujarat",
           "marker": {
            "color": "#FF6692",
            "pattern": {
             "shape": ""
            }
           },
           "name": "Gujarat",
           "offsetgroup": "Gujarat",
           "orientation": "v",
           "showlegend": true,
           "textposition": "auto",
           "type": "bar",
           "x": [
            "West"
           ],
           "xaxis": "x",
           "y": [
            1.84
           ],
           "yaxis": "y"
          },
          {
           "alignmentgroup": "True",
           "hovertemplate": "state=Haryana<br>month=Jul<br>region=%{x}<br>estimated unemployment rate=%{y}<extra></extra>",
           "legendgroup": "Haryana",
           "marker": {
            "color": "#B6E880",
            "pattern": {
             "shape": ""
            }
           },
           "name": "Haryana",
           "offsetgroup": "Haryana",
           "orientation": "v",
           "showlegend": true,
           "textposition": "auto",
           "type": "bar",
           "x": [
            "North"
           ],
           "xaxis": "x",
           "y": [
            24.18
           ],
           "yaxis": "y"
          },
          {
           "alignmentgroup": "True",
           "hovertemplate": "state=Himachal Pradesh<br>month=Jul<br>region=%{x}<br>estimated unemployment rate=%{y}<extra></extra>",
           "legendgroup": "Himachal Pradesh",
           "marker": {
            "color": "#FF97FF",
            "pattern": {
             "shape": ""
            }
           },
           "name": "Himachal Pradesh",
           "offsetgroup": "Himachal Pradesh",
           "orientation": "v",
           "showlegend": true,
           "textposition": "auto",
           "type": "bar",
           "x": [
            "North"
           ],
           "xaxis": "x",
           "y": [
            24.31
           ],
           "yaxis": "y"
          },
          {
           "alignmentgroup": "True",
           "hovertemplate": "state=Jammu & Kashmir<br>month=Jul<br>region=%{x}<br>estimated unemployment rate=%{y}<extra></extra>",
           "legendgroup": "Jammu & Kashmir",
           "marker": {
            "color": "#FECB52",
            "pattern": {
             "shape": ""
            }
           },
           "name": "Jammu & Kashmir",
           "offsetgroup": "Jammu & Kashmir",
           "orientation": "v",
           "showlegend": true,
           "textposition": "auto",
           "type": "bar",
           "x": [
            "North"
           ],
           "xaxis": "x",
           "y": [
            10.88
           ],
           "yaxis": "y"
          },
          {
           "alignmentgroup": "True",
           "hovertemplate": "state=Jharkhand<br>month=Jul<br>region=%{x}<br>estimated unemployment rate=%{y}<extra></extra>",
           "legendgroup": "Jharkhand",
           "marker": {
            "color": "#636efa",
            "pattern": {
             "shape": ""
            }
           },
           "name": "Jharkhand",
           "offsetgroup": "Jharkhand",
           "orientation": "v",
           "showlegend": true,
           "textposition": "auto",
           "type": "bar",
           "x": [
            "East"
           ],
           "xaxis": "x",
           "y": [
            7.63
           ],
           "yaxis": "y"
          },
          {
           "alignmentgroup": "True",
           "hovertemplate": "state=Karnataka<br>month=Jul<br>region=%{x}<br>estimated unemployment rate=%{y}<extra></extra>",
           "legendgroup": "Karnataka",
           "marker": {
            "color": "#EF553B",
            "pattern": {
             "shape": ""
            }
           },
           "name": "Karnataka",
           "offsetgroup": "Karnataka",
           "orientation": "v",
           "showlegend": true,
           "textposition": "auto",
           "type": "bar",
           "x": [
            "South"
           ],
           "xaxis": "x",
           "y": [
            4.01
           ],
           "yaxis": "y"
          },
          {
           "alignmentgroup": "True",
           "hovertemplate": "state=Kerala<br>month=Jul<br>region=%{x}<br>estimated unemployment rate=%{y}<extra></extra>",
           "legendgroup": "Kerala",
           "marker": {
            "color": "#00cc96",
            "pattern": {
             "shape": ""
            }
           },
           "name": "Kerala",
           "offsetgroup": "Kerala",
           "orientation": "v",
           "showlegend": true,
           "textposition": "auto",
           "type": "bar",
           "x": [
            "South"
           ],
           "xaxis": "x",
           "y": [
            7.09
           ],
           "yaxis": "y"
          },
          {
           "alignmentgroup": "True",
           "hovertemplate": "state=Madhya Pradesh<br>month=Jul<br>region=%{x}<br>estimated unemployment rate=%{y}<extra></extra>",
           "legendgroup": "Madhya Pradesh",
           "marker": {
            "color": "#ab63fa",
            "pattern": {
             "shape": ""
            }
           },
           "name": "Madhya Pradesh",
           "offsetgroup": "Madhya Pradesh",
           "orientation": "v",
           "showlegend": true,
           "textposition": "auto",
           "type": "bar",
           "x": [
            "West"
           ],
           "xaxis": "x",
           "y": [
            5.08
           ],
           "yaxis": "y"
          },
          {
           "alignmentgroup": "True",
           "hovertemplate": "state=Maharashtra<br>month=Jul<br>region=%{x}<br>estimated unemployment rate=%{y}<extra></extra>",
           "legendgroup": "Maharashtra",
           "marker": {
            "color": "#FFA15A",
            "pattern": {
             "shape": ""
            }
           },
           "name": "Maharashtra",
           "offsetgroup": "Maharashtra",
           "orientation": "v",
           "showlegend": true,
           "textposition": "auto",
           "type": "bar",
           "x": [
            "West"
           ],
           "xaxis": "x",
           "y": [
            3.89
           ],
           "yaxis": "y"
          },
          {
           "alignmentgroup": "True",
           "hovertemplate": "state=Meghalaya<br>month=Jul<br>region=%{x}<br>estimated unemployment rate=%{y}<extra></extra>",
           "legendgroup": "Meghalaya",
           "marker": {
            "color": "#19d3f3",
            "pattern": {
             "shape": ""
            }
           },
           "name": "Meghalaya",
           "offsetgroup": "Meghalaya",
           "orientation": "v",
           "showlegend": true,
           "textposition": "auto",
           "type": "bar",
           "x": [
            "Northeast"
           ],
           "xaxis": "x",
           "y": [
            2.1
           ],
           "yaxis": "y"
          },
          {
           "alignmentgroup": "True",
           "hovertemplate": "state=Odisha<br>month=Jul<br>region=%{x}<br>estimated unemployment rate=%{y}<extra></extra>",
           "legendgroup": "Odisha",
           "marker": {
            "color": "#FF6692",
            "pattern": {
             "shape": ""
            }
           },
           "name": "Odisha",
           "offsetgroup": "Odisha",
           "orientation": "v",
           "showlegend": true,
           "textposition": "auto",
           "type": "bar",
           "x": [
            "East"
           ],
           "xaxis": "x",
           "y": [
            1.88
           ],
           "yaxis": "y"
          },
          {
           "alignmentgroup": "True",
           "hovertemplate": "state=Puducherry<br>month=Jul<br>region=%{x}<br>estimated unemployment rate=%{y}<extra></extra>",
           "legendgroup": "Puducherry",
           "marker": {
            "color": "#B6E880",
            "pattern": {
             "shape": ""
            }
           },
           "name": "Puducherry",
           "offsetgroup": "Puducherry",
           "orientation": "v",
           "showlegend": true,
           "textposition": "auto",
           "type": "bar",
           "x": [
            "South"
           ],
           "xaxis": "x",
           "y": [
            15.47
           ],
           "yaxis": "y"
          },
          {
           "alignmentgroup": "True",
           "hovertemplate": "state=Punjab<br>month=Jul<br>region=%{x}<br>estimated unemployment rate=%{y}<extra></extra>",
           "legendgroup": "Punjab",
           "marker": {
            "color": "#FF97FF",
            "pattern": {
             "shape": ""
            }
           },
           "name": "Punjab",
           "offsetgroup": "Punjab",
           "orientation": "v",
           "showlegend": true,
           "textposition": "auto",
           "type": "bar",
           "x": [
            "North"
           ],
           "xaxis": "x",
           "y": [
            9.19
           ],
           "yaxis": "y"
          },
          {
           "alignmentgroup": "True",
           "hovertemplate": "state=Rajasthan<br>month=Jul<br>region=%{x}<br>estimated unemployment rate=%{y}<extra></extra>",
           "legendgroup": "Rajasthan",
           "marker": {
            "color": "#FECB52",
            "pattern": {
             "shape": ""
            }
           },
           "name": "Rajasthan",
           "offsetgroup": "Rajasthan",
           "orientation": "v",
           "showlegend": true,
           "textposition": "auto",
           "type": "bar",
           "x": [
            "North"
           ],
           "xaxis": "x",
           "y": [
            15.81
           ],
           "yaxis": "y"
          },
          {
           "alignmentgroup": "True",
           "hovertemplate": "state=Sikkim<br>month=Jul<br>region=%{x}<br>estimated unemployment rate=%{y}<extra></extra>",
           "legendgroup": "Sikkim",
           "marker": {
            "color": "#636efa",
            "pattern": {
             "shape": ""
            }
           },
           "name": "Sikkim",
           "offsetgroup": "Sikkim",
           "orientation": "v",
           "showlegend": true,
           "textposition": "auto",
           "type": "bar",
           "x": [
            "Northeast"
           ],
           "xaxis": "x",
           "y": [
            4.45
           ],
           "yaxis": "y"
          },
          {
           "alignmentgroup": "True",
           "hovertemplate": "state=Tamil Nadu<br>month=Jul<br>region=%{x}<br>estimated unemployment rate=%{y}<extra></extra>",
           "legendgroup": "Tamil Nadu",
           "marker": {
            "color": "#EF553B",
            "pattern": {
             "shape": ""
            }
           },
           "name": "Tamil Nadu",
           "offsetgroup": "Tamil Nadu",
           "orientation": "v",
           "showlegend": true,
           "textposition": "auto",
           "type": "bar",
           "x": [
            "South"
           ],
           "xaxis": "x",
           "y": [
            6.81
           ],
           "yaxis": "y"
          },
          {
           "alignmentgroup": "True",
           "hovertemplate": "state=Telangana<br>month=Jul<br>region=%{x}<br>estimated unemployment rate=%{y}<extra></extra>",
           "legendgroup": "Telangana",
           "marker": {
            "color": "#00cc96",
            "pattern": {
             "shape": ""
            }
           },
           "name": "Telangana",
           "offsetgroup": "Telangana",
           "orientation": "v",
           "showlegend": true,
           "textposition": "auto",
           "type": "bar",
           "x": [
            "South"
           ],
           "xaxis": "x",
           "y": [
            5.36
           ],
           "yaxis": "y"
          },
          {
           "alignmentgroup": "True",
           "hovertemplate": "state=Tripura<br>month=Jul<br>region=%{x}<br>estimated unemployment rate=%{y}<extra></extra>",
           "legendgroup": "Tripura",
           "marker": {
            "color": "#ab63fa",
            "pattern": {
             "shape": ""
            }
           },
           "name": "Tripura",
           "offsetgroup": "Tripura",
           "orientation": "v",
           "showlegend": true,
           "textposition": "auto",
           "type": "bar",
           "x": [
            "Northeast"
           ],
           "xaxis": "x",
           "y": [
            18.24
           ],
           "yaxis": "y"
          },
          {
           "alignmentgroup": "True",
           "hovertemplate": "state=Uttar Pradesh<br>month=Jul<br>region=%{x}<br>estimated unemployment rate=%{y}<extra></extra>",
           "legendgroup": "Uttar Pradesh",
           "marker": {
            "color": "#FFA15A",
            "pattern": {
             "shape": ""
            }
           },
           "name": "Uttar Pradesh",
           "offsetgroup": "Uttar Pradesh",
           "orientation": "v",
           "showlegend": true,
           "textposition": "auto",
           "type": "bar",
           "x": [
            "North"
           ],
           "xaxis": "x",
           "y": [
            5.56
           ],
           "yaxis": "y"
          },
          {
           "alignmentgroup": "True",
           "hovertemplate": "state=Uttarakhand<br>month=Jul<br>region=%{x}<br>estimated unemployment rate=%{y}<extra></extra>",
           "legendgroup": "Uttarakhand",
           "marker": {
            "color": "#19d3f3",
            "pattern": {
             "shape": ""
            }
           },
           "name": "Uttarakhand",
           "offsetgroup": "Uttarakhand",
           "orientation": "v",
           "showlegend": true,
           "textposition": "auto",
           "type": "bar",
           "x": [
            "North"
           ],
           "xaxis": "x",
           "y": [
            12.38
           ],
           "yaxis": "y"
          },
          {
           "alignmentgroup": "True",
           "hovertemplate": "state=West Bengal<br>month=Jul<br>region=%{x}<br>estimated unemployment rate=%{y}<extra></extra>",
           "legendgroup": "West Bengal",
           "marker": {
            "color": "#FF6692",
            "pattern": {
             "shape": ""
            }
           },
           "name": "West Bengal",
           "offsetgroup": "West Bengal",
           "orientation": "v",
           "showlegend": true,
           "textposition": "auto",
           "type": "bar",
           "x": [
            "East"
           ],
           "xaxis": "x",
           "y": [
            6.83
           ],
           "yaxis": "y"
          }
         ],
         "name": "Jul"
        },
        {
         "data": [
          {
           "alignmentgroup": "True",
           "hovertemplate": "state=Andhra Pradesh<br>month=Aug<br>region=%{x}<br>estimated unemployment rate=%{y}<extra></extra>",
           "legendgroup": "Andhra Pradesh",
           "marker": {
            "color": "#636efa",
            "pattern": {
             "shape": ""
            }
           },
           "name": "Andhra Pradesh",
           "offsetgroup": "Andhra Pradesh",
           "orientation": "v",
           "showlegend": true,
           "textposition": "auto",
           "type": "bar",
           "x": [
            "South"
           ],
           "xaxis": "x",
           "y": [
            6.96
           ],
           "yaxis": "y"
          },
          {
           "alignmentgroup": "True",
           "hovertemplate": "state=Assam<br>month=Aug<br>region=%{x}<br>estimated unemployment rate=%{y}<extra></extra>",
           "legendgroup": "Assam",
           "marker": {
            "color": "#EF553B",
            "pattern": {
             "shape": ""
            }
           },
           "name": "Assam",
           "offsetgroup": "Assam",
           "orientation": "v",
           "showlegend": true,
           "textposition": "auto",
           "type": "bar",
           "x": [
            "Northeast"
           ],
           "xaxis": "x",
           "y": [
            5.53
           ],
           "yaxis": "y"
          },
          {
           "alignmentgroup": "True",
           "hovertemplate": "state=Bihar<br>month=Aug<br>region=%{x}<br>estimated unemployment rate=%{y}<extra></extra>",
           "legendgroup": "Bihar",
           "marker": {
            "color": "#00cc96",
            "pattern": {
             "shape": ""
            }
           },
           "name": "Bihar",
           "offsetgroup": "Bihar",
           "orientation": "v",
           "showlegend": true,
           "textposition": "auto",
           "type": "bar",
           "x": [
            "East"
           ],
           "xaxis": "x",
           "y": [
            13.44
           ],
           "yaxis": "y"
          },
          {
           "alignmentgroup": "True",
           "hovertemplate": "state=Chhattisgarh<br>month=Aug<br>region=%{x}<br>estimated unemployment rate=%{y}<extra></extra>",
           "legendgroup": "Chhattisgarh",
           "marker": {
            "color": "#ab63fa",
            "pattern": {
             "shape": ""
            }
           },
           "name": "Chhattisgarh",
           "offsetgroup": "Chhattisgarh",
           "orientation": "v",
           "showlegend": true,
           "textposition": "auto",
           "type": "bar",
           "x": [
            "West"
           ],
           "xaxis": "x",
           "y": [
            5.63
           ],
           "yaxis": "y"
          },
          {
           "alignmentgroup": "True",
           "hovertemplate": "state=Delhi<br>month=Aug<br>region=%{x}<br>estimated unemployment rate=%{y}<extra></extra>",
           "legendgroup": "Delhi",
           "marker": {
            "color": "#FFA15A",
            "pattern": {
             "shape": ""
            }
           },
           "name": "Delhi",
           "offsetgroup": "Delhi",
           "orientation": "v",
           "showlegend": true,
           "textposition": "auto",
           "type": "bar",
           "x": [
            "North"
           ],
           "xaxis": "x",
           "y": [
            13.79
           ],
           "yaxis": "y"
          },
          {
           "alignmentgroup": "True",
           "hovertemplate": "state=Goa<br>month=Aug<br>region=%{x}<br>estimated unemployment rate=%{y}<extra></extra>",
           "legendgroup": "Goa",
           "marker": {
            "color": "#19d3f3",
            "pattern": {
             "shape": ""
            }
           },
           "name": "Goa",
           "offsetgroup": "Goa",
           "orientation": "v",
           "showlegend": true,
           "textposition": "auto",
           "type": "bar",
           "x": [
            "West"
           ],
           "xaxis": "x",
           "y": [
            16.21
           ],
           "yaxis": "y"
          },
          {
           "alignmentgroup": "True",
           "hovertemplate": "state=Gujarat<br>month=Aug<br>region=%{x}<br>estimated unemployment rate=%{y}<extra></extra>",
           "legendgroup": "Gujarat",
           "marker": {
            "color": "#FF6692",
            "pattern": {
             "shape": ""
            }
           },
           "name": "Gujarat",
           "offsetgroup": "Gujarat",
           "orientation": "v",
           "showlegend": true,
           "textposition": "auto",
           "type": "bar",
           "x": [
            "West"
           ],
           "xaxis": "x",
           "y": [
            1.87
           ],
           "yaxis": "y"
          },
          {
           "alignmentgroup": "True",
           "hovertemplate": "state=Haryana<br>month=Aug<br>region=%{x}<br>estimated unemployment rate=%{y}<extra></extra>",
           "legendgroup": "Haryana",
           "marker": {
            "color": "#B6E880",
            "pattern": {
             "shape": ""
            }
           },
           "name": "Haryana",
           "offsetgroup": "Haryana",
           "orientation": "v",
           "showlegend": true,
           "textposition": "auto",
           "type": "bar",
           "x": [
            "North"
           ],
           "xaxis": "x",
           "y": [
            33.5
           ],
           "yaxis": "y"
          },
          {
           "alignmentgroup": "True",
           "hovertemplate": "state=Himachal Pradesh<br>month=Aug<br>region=%{x}<br>estimated unemployment rate=%{y}<extra></extra>",
           "legendgroup": "Himachal Pradesh",
           "marker": {
            "color": "#FF97FF",
            "pattern": {
             "shape": ""
            }
           },
           "name": "Himachal Pradesh",
           "offsetgroup": "Himachal Pradesh",
           "orientation": "v",
           "showlegend": true,
           "textposition": "auto",
           "type": "bar",
           "x": [
            "North"
           ],
           "xaxis": "x",
           "y": [
            15.79
           ],
           "yaxis": "y"
          },
          {
           "alignmentgroup": "True",
           "hovertemplate": "state=Jammu & Kashmir<br>month=Aug<br>region=%{x}<br>estimated unemployment rate=%{y}<extra></extra>",
           "legendgroup": "Jammu & Kashmir",
           "marker": {
            "color": "#FECB52",
            "pattern": {
             "shape": ""
            }
           },
           "name": "Jammu & Kashmir",
           "offsetgroup": "Jammu & Kashmir",
           "orientation": "v",
           "showlegend": true,
           "textposition": "auto",
           "type": "bar",
           "x": [
            "North"
           ],
           "xaxis": "x",
           "y": [
            11.09
           ],
           "yaxis": "y"
          },
          {
           "alignmentgroup": "True",
           "hovertemplate": "state=Jharkhand<br>month=Aug<br>region=%{x}<br>estimated unemployment rate=%{y}<extra></extra>",
           "legendgroup": "Jharkhand",
           "marker": {
            "color": "#636efa",
            "pattern": {
             "shape": ""
            }
           },
           "name": "Jharkhand",
           "offsetgroup": "Jharkhand",
           "orientation": "v",
           "showlegend": true,
           "textposition": "auto",
           "type": "bar",
           "x": [
            "East"
           ],
           "xaxis": "x",
           "y": [
            9.76
           ],
           "yaxis": "y"
          },
          {
           "alignmentgroup": "True",
           "hovertemplate": "state=Karnataka<br>month=Aug<br>region=%{x}<br>estimated unemployment rate=%{y}<extra></extra>",
           "legendgroup": "Karnataka",
           "marker": {
            "color": "#EF553B",
            "pattern": {
             "shape": ""
            }
           },
           "name": "Karnataka",
           "offsetgroup": "Karnataka",
           "orientation": "v",
           "showlegend": true,
           "textposition": "auto",
           "type": "bar",
           "x": [
            "South"
           ],
           "xaxis": "x",
           "y": [
            0.5
           ],
           "yaxis": "y"
          },
          {
           "alignmentgroup": "True",
           "hovertemplate": "state=Kerala<br>month=Aug<br>region=%{x}<br>estimated unemployment rate=%{y}<extra></extra>",
           "legendgroup": "Kerala",
           "marker": {
            "color": "#00cc96",
            "pattern": {
             "shape": ""
            }
           },
           "name": "Kerala",
           "offsetgroup": "Kerala",
           "orientation": "v",
           "showlegend": true,
           "textposition": "auto",
           "type": "bar",
           "x": [
            "South"
           ],
           "xaxis": "x",
           "y": [
            10.98
           ],
           "yaxis": "y"
          },
          {
           "alignmentgroup": "True",
           "hovertemplate": "state=Madhya Pradesh<br>month=Aug<br>region=%{x}<br>estimated unemployment rate=%{y}<extra></extra>",
           "legendgroup": "Madhya Pradesh",
           "marker": {
            "color": "#ab63fa",
            "pattern": {
             "shape": ""
            }
           },
           "name": "Madhya Pradesh",
           "offsetgroup": "Madhya Pradesh",
           "orientation": "v",
           "showlegend": true,
           "textposition": "auto",
           "type": "bar",
           "x": [
            "West"
           ],
           "xaxis": "x",
           "y": [
            4.7
           ],
           "yaxis": "y"
          },
          {
           "alignmentgroup": "True",
           "hovertemplate": "state=Maharashtra<br>month=Aug<br>region=%{x}<br>estimated unemployment rate=%{y}<extra></extra>",
           "legendgroup": "Maharashtra",
           "marker": {
            "color": "#FFA15A",
            "pattern": {
             "shape": ""
            }
           },
           "name": "Maharashtra",
           "offsetgroup": "Maharashtra",
           "orientation": "v",
           "showlegend": true,
           "textposition": "auto",
           "type": "bar",
           "x": [
            "West"
           ],
           "xaxis": "x",
           "y": [
            6.23
           ],
           "yaxis": "y"
          },
          {
           "alignmentgroup": "True",
           "hovertemplate": "state=Meghalaya<br>month=Aug<br>region=%{x}<br>estimated unemployment rate=%{y}<extra></extra>",
           "legendgroup": "Meghalaya",
           "marker": {
            "color": "#19d3f3",
            "pattern": {
             "shape": ""
            }
           },
           "name": "Meghalaya",
           "offsetgroup": "Meghalaya",
           "orientation": "v",
           "showlegend": true,
           "textposition": "auto",
           "type": "bar",
           "x": [
            "Northeast"
           ],
           "xaxis": "x",
           "y": [
            3.74
           ],
           "yaxis": "y"
          },
          {
           "alignmentgroup": "True",
           "hovertemplate": "state=Odisha<br>month=Aug<br>region=%{x}<br>estimated unemployment rate=%{y}<extra></extra>",
           "legendgroup": "Odisha",
           "marker": {
            "color": "#FF6692",
            "pattern": {
             "shape": ""
            }
           },
           "name": "Odisha",
           "offsetgroup": "Odisha",
           "orientation": "v",
           "showlegend": true,
           "textposition": "auto",
           "type": "bar",
           "x": [
            "East"
           ],
           "xaxis": "x",
           "y": [
            1.42
           ],
           "yaxis": "y"
          },
          {
           "alignmentgroup": "True",
           "hovertemplate": "state=Puducherry<br>month=Aug<br>region=%{x}<br>estimated unemployment rate=%{y}<extra></extra>",
           "legendgroup": "Puducherry",
           "marker": {
            "color": "#B6E880",
            "pattern": {
             "shape": ""
            }
           },
           "name": "Puducherry",
           "offsetgroup": "Puducherry",
           "orientation": "v",
           "showlegend": true,
           "textposition": "auto",
           "type": "bar",
           "x": [
            "South"
           ],
           "xaxis": "x",
           "y": [
            5.05
           ],
           "yaxis": "y"
          },
          {
           "alignmentgroup": "True",
           "hovertemplate": "state=Punjab<br>month=Aug<br>region=%{x}<br>estimated unemployment rate=%{y}<extra></extra>",
           "legendgroup": "Punjab",
           "marker": {
            "color": "#FF97FF",
            "pattern": {
             "shape": ""
            }
           },
           "name": "Punjab",
           "offsetgroup": "Punjab",
           "orientation": "v",
           "showlegend": true,
           "textposition": "auto",
           "type": "bar",
           "x": [
            "North"
           ],
           "xaxis": "x",
           "y": [
            10.99
           ],
           "yaxis": "y"
          },
          {
           "alignmentgroup": "True",
           "hovertemplate": "state=Rajasthan<br>month=Aug<br>region=%{x}<br>estimated unemployment rate=%{y}<extra></extra>",
           "legendgroup": "Rajasthan",
           "marker": {
            "color": "#FECB52",
            "pattern": {
             "shape": ""
            }
           },
           "name": "Rajasthan",
           "offsetgroup": "Rajasthan",
           "orientation": "v",
           "showlegend": true,
           "textposition": "auto",
           "type": "bar",
           "x": [
            "North"
           ],
           "xaxis": "x",
           "y": [
            17.51
           ],
           "yaxis": "y"
          },
          {
           "alignmentgroup": "True",
           "hovertemplate": "state=Sikkim<br>month=Aug<br>region=%{x}<br>estimated unemployment rate=%{y}<extra></extra>",
           "legendgroup": "Sikkim",
           "marker": {
            "color": "#636efa",
            "pattern": {
             "shape": ""
            }
           },
           "name": "Sikkim",
           "offsetgroup": "Sikkim",
           "orientation": "v",
           "showlegend": true,
           "textposition": "auto",
           "type": "bar",
           "x": [
            "Northeast"
           ],
           "xaxis": "x",
           "y": [
            12.49
           ],
           "yaxis": "y"
          },
          {
           "alignmentgroup": "True",
           "hovertemplate": "state=Tamil Nadu<br>month=Aug<br>region=%{x}<br>estimated unemployment rate=%{y}<extra></extra>",
           "legendgroup": "Tamil Nadu",
           "marker": {
            "color": "#EF553B",
            "pattern": {
             "shape": ""
            }
           },
           "name": "Tamil Nadu",
           "offsetgroup": "Tamil Nadu",
           "orientation": "v",
           "showlegend": true,
           "textposition": "auto",
           "type": "bar",
           "x": [
            "South"
           ],
           "xaxis": "x",
           "y": [
            2.65
           ],
           "yaxis": "y"
          },
          {
           "alignmentgroup": "True",
           "hovertemplate": "state=Telangana<br>month=Aug<br>region=%{x}<br>estimated unemployment rate=%{y}<extra></extra>",
           "legendgroup": "Telangana",
           "marker": {
            "color": "#00cc96",
            "pattern": {
             "shape": ""
            }
           },
           "name": "Telangana",
           "offsetgroup": "Telangana",
           "orientation": "v",
           "showlegend": true,
           "textposition": "auto",
           "type": "bar",
           "x": [
            "South"
           ],
           "xaxis": "x",
           "y": [
            5.79
           ],
           "yaxis": "y"
          },
          {
           "alignmentgroup": "True",
           "hovertemplate": "state=Tripura<br>month=Aug<br>region=%{x}<br>estimated unemployment rate=%{y}<extra></extra>",
           "legendgroup": "Tripura",
           "marker": {
            "color": "#ab63fa",
            "pattern": {
             "shape": ""
            }
           },
           "name": "Tripura",
           "offsetgroup": "Tripura",
           "orientation": "v",
           "showlegend": true,
           "textposition": "auto",
           "type": "bar",
           "x": [
            "Northeast"
           ],
           "xaxis": "x",
           "y": [
            27.92
           ],
           "yaxis": "y"
          },
          {
           "alignmentgroup": "True",
           "hovertemplate": "state=Uttar Pradesh<br>month=Aug<br>region=%{x}<br>estimated unemployment rate=%{y}<extra></extra>",
           "legendgroup": "Uttar Pradesh",
           "marker": {
            "color": "#FFA15A",
            "pattern": {
             "shape": ""
            }
           },
           "name": "Uttar Pradesh",
           "offsetgroup": "Uttar Pradesh",
           "orientation": "v",
           "showlegend": true,
           "textposition": "auto",
           "type": "bar",
           "x": [
            "North"
           ],
           "xaxis": "x",
           "y": [
            5.79
           ],
           "yaxis": "y"
          },
          {
           "alignmentgroup": "True",
           "hovertemplate": "state=Uttarakhand<br>month=Aug<br>region=%{x}<br>estimated unemployment rate=%{y}<extra></extra>",
           "legendgroup": "Uttarakhand",
           "marker": {
            "color": "#19d3f3",
            "pattern": {
             "shape": ""
            }
           },
           "name": "Uttarakhand",
           "offsetgroup": "Uttarakhand",
           "orientation": "v",
           "showlegend": true,
           "textposition": "auto",
           "type": "bar",
           "x": [
            "North"
           ],
           "xaxis": "x",
           "y": [
            14.26
           ],
           "yaxis": "y"
          },
          {
           "alignmentgroup": "True",
           "hovertemplate": "state=West Bengal<br>month=Aug<br>region=%{x}<br>estimated unemployment rate=%{y}<extra></extra>",
           "legendgroup": "West Bengal",
           "marker": {
            "color": "#FF6692",
            "pattern": {
             "shape": ""
            }
           },
           "name": "West Bengal",
           "offsetgroup": "West Bengal",
           "orientation": "v",
           "showlegend": true,
           "textposition": "auto",
           "type": "bar",
           "x": [
            "East"
           ],
           "xaxis": "x",
           "y": [
            14.87
           ],
           "yaxis": "y"
          }
         ],
         "name": "Aug"
        },
        {
         "data": [
          {
           "alignmentgroup": "True",
           "hovertemplate": "state=Andhra Pradesh<br>month=Sep<br>region=%{x}<br>estimated unemployment rate=%{y}<extra></extra>",
           "legendgroup": "Andhra Pradesh",
           "marker": {
            "color": "#636efa",
            "pattern": {
             "shape": ""
            }
           },
           "name": "Andhra Pradesh",
           "offsetgroup": "Andhra Pradesh",
           "orientation": "v",
           "showlegend": true,
           "textposition": "auto",
           "type": "bar",
           "x": [
            "South"
           ],
           "xaxis": "x",
           "y": [
            6.4
           ],
           "yaxis": "y"
          },
          {
           "alignmentgroup": "True",
           "hovertemplate": "state=Assam<br>month=Sep<br>region=%{x}<br>estimated unemployment rate=%{y}<extra></extra>",
           "legendgroup": "Assam",
           "marker": {
            "color": "#EF553B",
            "pattern": {
             "shape": ""
            }
           },
           "name": "Assam",
           "offsetgroup": "Assam",
           "orientation": "v",
           "showlegend": true,
           "textposition": "auto",
           "type": "bar",
           "x": [
            "Northeast"
           ],
           "xaxis": "x",
           "y": [
            1.19
           ],
           "yaxis": "y"
          },
          {
           "alignmentgroup": "True",
           "hovertemplate": "state=Bihar<br>month=Sep<br>region=%{x}<br>estimated unemployment rate=%{y}<extra></extra>",
           "legendgroup": "Bihar",
           "marker": {
            "color": "#00cc96",
            "pattern": {
             "shape": ""
            }
           },
           "name": "Bihar",
           "offsetgroup": "Bihar",
           "orientation": "v",
           "showlegend": true,
           "textposition": "auto",
           "type": "bar",
           "x": [
            "East"
           ],
           "xaxis": "x",
           "y": [
            11.91
           ],
           "yaxis": "y"
          },
          {
           "alignmentgroup": "True",
           "hovertemplate": "state=Chhattisgarh<br>month=Sep<br>region=%{x}<br>estimated unemployment rate=%{y}<extra></extra>",
           "legendgroup": "Chhattisgarh",
           "marker": {
            "color": "#ab63fa",
            "pattern": {
             "shape": ""
            }
           },
           "name": "Chhattisgarh",
           "offsetgroup": "Chhattisgarh",
           "orientation": "v",
           "showlegend": true,
           "textposition": "auto",
           "type": "bar",
           "x": [
            "West"
           ],
           "xaxis": "x",
           "y": [
            1.96
           ],
           "yaxis": "y"
          },
          {
           "alignmentgroup": "True",
           "hovertemplate": "state=Delhi<br>month=Sep<br>region=%{x}<br>estimated unemployment rate=%{y}<extra></extra>",
           "legendgroup": "Delhi",
           "marker": {
            "color": "#FFA15A",
            "pattern": {
             "shape": ""
            }
           },
           "name": "Delhi",
           "offsetgroup": "Delhi",
           "orientation": "v",
           "showlegend": true,
           "textposition": "auto",
           "type": "bar",
           "x": [
            "North"
           ],
           "xaxis": "x",
           "y": [
            12.53
           ],
           "yaxis": "y"
          },
          {
           "alignmentgroup": "True",
           "hovertemplate": "state=Goa<br>month=Sep<br>region=%{x}<br>estimated unemployment rate=%{y}<extra></extra>",
           "legendgroup": "Goa",
           "marker": {
            "color": "#19d3f3",
            "pattern": {
             "shape": ""
            }
           },
           "name": "Goa",
           "offsetgroup": "Goa",
           "orientation": "v",
           "showlegend": true,
           "textposition": "auto",
           "type": "bar",
           "x": [
            "West"
           ],
           "xaxis": "x",
           "y": [
            15.38
           ],
           "yaxis": "y"
          },
          {
           "alignmentgroup": "True",
           "hovertemplate": "state=Gujarat<br>month=Sep<br>region=%{x}<br>estimated unemployment rate=%{y}<extra></extra>",
           "legendgroup": "Gujarat",
           "marker": {
            "color": "#FF6692",
            "pattern": {
             "shape": ""
            }
           },
           "name": "Gujarat",
           "offsetgroup": "Gujarat",
           "orientation": "v",
           "showlegend": true,
           "textposition": "auto",
           "type": "bar",
           "x": [
            "West"
           ],
           "xaxis": "x",
           "y": [
            3.42
           ],
           "yaxis": "y"
          },
          {
           "alignmentgroup": "True",
           "hovertemplate": "state=Haryana<br>month=Sep<br>region=%{x}<br>estimated unemployment rate=%{y}<extra></extra>",
           "legendgroup": "Haryana",
           "marker": {
            "color": "#B6E880",
            "pattern": {
             "shape": ""
            }
           },
           "name": "Haryana",
           "offsetgroup": "Haryana",
           "orientation": "v",
           "showlegend": true,
           "textposition": "auto",
           "type": "bar",
           "x": [
            "North"
           ],
           "xaxis": "x",
           "y": [
            19.68
           ],
           "yaxis": "y"
          },
          {
           "alignmentgroup": "True",
           "hovertemplate": "state=Himachal Pradesh<br>month=Sep<br>region=%{x}<br>estimated unemployment rate=%{y}<extra></extra>",
           "legendgroup": "Himachal Pradesh",
           "marker": {
            "color": "#FF97FF",
            "pattern": {
             "shape": ""
            }
           },
           "name": "Himachal Pradesh",
           "offsetgroup": "Himachal Pradesh",
           "orientation": "v",
           "showlegend": true,
           "textposition": "auto",
           "type": "bar",
           "x": [
            "North"
           ],
           "xaxis": "x",
           "y": [
            12.04
           ],
           "yaxis": "y"
          },
          {
           "alignmentgroup": "True",
           "hovertemplate": "state=Jammu & Kashmir<br>month=Sep<br>region=%{x}<br>estimated unemployment rate=%{y}<extra></extra>",
           "legendgroup": "Jammu & Kashmir",
           "marker": {
            "color": "#FECB52",
            "pattern": {
             "shape": ""
            }
           },
           "name": "Jammu & Kashmir",
           "offsetgroup": "Jammu & Kashmir",
           "orientation": "v",
           "showlegend": true,
           "textposition": "auto",
           "type": "bar",
           "x": [
            "North"
           ],
           "xaxis": "x",
           "y": [
            16.17
           ],
           "yaxis": "y"
          },
          {
           "alignmentgroup": "True",
           "hovertemplate": "state=Jharkhand<br>month=Sep<br>region=%{x}<br>estimated unemployment rate=%{y}<extra></extra>",
           "legendgroup": "Jharkhand",
           "marker": {
            "color": "#636efa",
            "pattern": {
             "shape": ""
            }
           },
           "name": "Jharkhand",
           "offsetgroup": "Jharkhand",
           "orientation": "v",
           "showlegend": true,
           "textposition": "auto",
           "type": "bar",
           "x": [
            "East"
           ],
           "xaxis": "x",
           "y": [
            8.24
           ],
           "yaxis": "y"
          },
          {
           "alignmentgroup": "True",
           "hovertemplate": "state=Karnataka<br>month=Sep<br>region=%{x}<br>estimated unemployment rate=%{y}<extra></extra>",
           "legendgroup": "Karnataka",
           "marker": {
            "color": "#EF553B",
            "pattern": {
             "shape": ""
            }
           },
           "name": "Karnataka",
           "offsetgroup": "Karnataka",
           "orientation": "v",
           "showlegend": true,
           "textposition": "auto",
           "type": "bar",
           "x": [
            "South"
           ],
           "xaxis": "x",
           "y": [
            2.41
           ],
           "yaxis": "y"
          },
          {
           "alignmentgroup": "True",
           "hovertemplate": "state=Kerala<br>month=Sep<br>region=%{x}<br>estimated unemployment rate=%{y}<extra></extra>",
           "legendgroup": "Kerala",
           "marker": {
            "color": "#00cc96",
            "pattern": {
             "shape": ""
            }
           },
           "name": "Kerala",
           "offsetgroup": "Kerala",
           "orientation": "v",
           "showlegend": true,
           "textposition": "auto",
           "type": "bar",
           "x": [
            "South"
           ],
           "xaxis": "x",
           "y": [
            5.91
           ],
           "yaxis": "y"
          },
          {
           "alignmentgroup": "True",
           "hovertemplate": "state=Madhya Pradesh<br>month=Sep<br>region=%{x}<br>estimated unemployment rate=%{y}<extra></extra>",
           "legendgroup": "Madhya Pradesh",
           "marker": {
            "color": "#ab63fa",
            "pattern": {
             "shape": ""
            }
           },
           "name": "Madhya Pradesh",
           "offsetgroup": "Madhya Pradesh",
           "orientation": "v",
           "showlegend": true,
           "textposition": "auto",
           "type": "bar",
           "x": [
            "West"
           ],
           "xaxis": "x",
           "y": [
            3.91
           ],
           "yaxis": "y"
          },
          {
           "alignmentgroup": "True",
           "hovertemplate": "state=Maharashtra<br>month=Sep<br>region=%{x}<br>estimated unemployment rate=%{y}<extra></extra>",
           "legendgroup": "Maharashtra",
           "marker": {
            "color": "#FFA15A",
            "pattern": {
             "shape": ""
            }
           },
           "name": "Maharashtra",
           "offsetgroup": "Maharashtra",
           "orientation": "v",
           "showlegend": true,
           "textposition": "auto",
           "type": "bar",
           "x": [
            "West"
           ],
           "xaxis": "x",
           "y": [
            4.55
           ],
           "yaxis": "y"
          },
          {
           "alignmentgroup": "True",
           "hovertemplate": "state=Meghalaya<br>month=Sep<br>region=%{x}<br>estimated unemployment rate=%{y}<extra></extra>",
           "legendgroup": "Meghalaya",
           "marker": {
            "color": "#19d3f3",
            "pattern": {
             "shape": ""
            }
           },
           "name": "Meghalaya",
           "offsetgroup": "Meghalaya",
           "orientation": "v",
           "showlegend": true,
           "textposition": "auto",
           "type": "bar",
           "x": [
            "Northeast"
           ],
           "xaxis": "x",
           "y": [
            4.29
           ],
           "yaxis": "y"
          },
          {
           "alignmentgroup": "True",
           "hovertemplate": "state=Odisha<br>month=Sep<br>region=%{x}<br>estimated unemployment rate=%{y}<extra></extra>",
           "legendgroup": "Odisha",
           "marker": {
            "color": "#FF6692",
            "pattern": {
             "shape": ""
            }
           },
           "name": "Odisha",
           "offsetgroup": "Odisha",
           "orientation": "v",
           "showlegend": true,
           "textposition": "auto",
           "type": "bar",
           "x": [
            "East"
           ],
           "xaxis": "x",
           "y": [
            2.1
           ],
           "yaxis": "y"
          },
          {
           "alignmentgroup": "True",
           "hovertemplate": "state=Puducherry<br>month=Sep<br>region=%{x}<br>estimated unemployment rate=%{y}<extra></extra>",
           "legendgroup": "Puducherry",
           "marker": {
            "color": "#B6E880",
            "pattern": {
             "shape": ""
            }
           },
           "name": "Puducherry",
           "offsetgroup": "Puducherry",
           "orientation": "v",
           "showlegend": true,
           "textposition": "auto",
           "type": "bar",
           "x": [
            "South"
           ],
           "xaxis": "x",
           "y": [
            10.9
           ],
           "yaxis": "y"
          },
          {
           "alignmentgroup": "True",
           "hovertemplate": "state=Punjab<br>month=Sep<br>region=%{x}<br>estimated unemployment rate=%{y}<extra></extra>",
           "legendgroup": "Punjab",
           "marker": {
            "color": "#FF97FF",
            "pattern": {
             "shape": ""
            }
           },
           "name": "Punjab",
           "offsetgroup": "Punjab",
           "orientation": "v",
           "showlegend": true,
           "textposition": "auto",
           "type": "bar",
           "x": [
            "North"
           ],
           "xaxis": "x",
           "y": [
            9.61
           ],
           "yaxis": "y"
          },
          {
           "alignmentgroup": "True",
           "hovertemplate": "state=Rajasthan<br>month=Sep<br>region=%{x}<br>estimated unemployment rate=%{y}<extra></extra>",
           "legendgroup": "Rajasthan",
           "marker": {
            "color": "#FECB52",
            "pattern": {
             "shape": ""
            }
           },
           "name": "Rajasthan",
           "offsetgroup": "Rajasthan",
           "orientation": "v",
           "showlegend": true,
           "textposition": "auto",
           "type": "bar",
           "x": [
            "North"
           ],
           "xaxis": "x",
           "y": [
            15.35
           ],
           "yaxis": "y"
          },
          {
           "alignmentgroup": "True",
           "hovertemplate": "state=Sikkim<br>month=Sep<br>region=%{x}<br>estimated unemployment rate=%{y}<extra></extra>",
           "legendgroup": "Sikkim",
           "marker": {
            "color": "#636efa",
            "pattern": {
             "shape": ""
            }
           },
           "name": "Sikkim",
           "offsetgroup": "Sikkim",
           "orientation": "v",
           "showlegend": true,
           "textposition": "auto",
           "type": "bar",
           "x": [
            "Northeast"
           ],
           "xaxis": "x",
           "y": [
            5.7
           ],
           "yaxis": "y"
          },
          {
           "alignmentgroup": "True",
           "hovertemplate": "state=Tamil Nadu<br>month=Sep<br>region=%{x}<br>estimated unemployment rate=%{y}<extra></extra>",
           "legendgroup": "Tamil Nadu",
           "marker": {
            "color": "#EF553B",
            "pattern": {
             "shape": ""
            }
           },
           "name": "Tamil Nadu",
           "offsetgroup": "Tamil Nadu",
           "orientation": "v",
           "showlegend": true,
           "textposition": "auto",
           "type": "bar",
           "x": [
            "South"
           ],
           "xaxis": "x",
           "y": [
            5
           ],
           "yaxis": "y"
          },
          {
           "alignmentgroup": "True",
           "hovertemplate": "state=Telangana<br>month=Sep<br>region=%{x}<br>estimated unemployment rate=%{y}<extra></extra>",
           "legendgroup": "Telangana",
           "marker": {
            "color": "#00cc96",
            "pattern": {
             "shape": ""
            }
           },
           "name": "Telangana",
           "offsetgroup": "Telangana",
           "orientation": "v",
           "showlegend": true,
           "textposition": "auto",
           "type": "bar",
           "x": [
            "South"
           ],
           "xaxis": "x",
           "y": [
            3.27
           ],
           "yaxis": "y"
          },
          {
           "alignmentgroup": "True",
           "hovertemplate": "state=Tripura<br>month=Sep<br>region=%{x}<br>estimated unemployment rate=%{y}<extra></extra>",
           "legendgroup": "Tripura",
           "marker": {
            "color": "#ab63fa",
            "pattern": {
             "shape": ""
            }
           },
           "name": "Tripura",
           "offsetgroup": "Tripura",
           "orientation": "v",
           "showlegend": true,
           "textposition": "auto",
           "type": "bar",
           "x": [
            "Northeast"
           ],
           "xaxis": "x",
           "y": [
            17.35
           ],
           "yaxis": "y"
          },
          {
           "alignmentgroup": "True",
           "hovertemplate": "state=Uttar Pradesh<br>month=Sep<br>region=%{x}<br>estimated unemployment rate=%{y}<extra></extra>",
           "legendgroup": "Uttar Pradesh",
           "marker": {
            "color": "#FFA15A",
            "pattern": {
             "shape": ""
            }
           },
           "name": "Uttar Pradesh",
           "offsetgroup": "Uttar Pradesh",
           "orientation": "v",
           "showlegend": true,
           "textposition": "auto",
           "type": "bar",
           "x": [
            "North"
           ],
           "xaxis": "x",
           "y": [
            4.18
           ],
           "yaxis": "y"
          },
          {
           "alignmentgroup": "True",
           "hovertemplate": "state=Uttarakhand<br>month=Sep<br>region=%{x}<br>estimated unemployment rate=%{y}<extra></extra>",
           "legendgroup": "Uttarakhand",
           "marker": {
            "color": "#19d3f3",
            "pattern": {
             "shape": ""
            }
           },
           "name": "Uttarakhand",
           "offsetgroup": "Uttarakhand",
           "orientation": "v",
           "showlegend": true,
           "textposition": "auto",
           "type": "bar",
           "x": [
            "North"
           ],
           "xaxis": "x",
           "y": [
            22.26
           ],
           "yaxis": "y"
          },
          {
           "alignmentgroup": "True",
           "hovertemplate": "state=West Bengal<br>month=Sep<br>region=%{x}<br>estimated unemployment rate=%{y}<extra></extra>",
           "legendgroup": "West Bengal",
           "marker": {
            "color": "#FF6692",
            "pattern": {
             "shape": ""
            }
           },
           "name": "West Bengal",
           "offsetgroup": "West Bengal",
           "orientation": "v",
           "showlegend": true,
           "textposition": "auto",
           "type": "bar",
           "x": [
            "East"
           ],
           "xaxis": "x",
           "y": [
            9.35
           ],
           "yaxis": "y"
          }
         ],
         "name": "Sep"
        },
        {
         "data": [
          {
           "alignmentgroup": "True",
           "hovertemplate": "state=Andhra Pradesh<br>month=Oct<br>region=%{x}<br>estimated unemployment rate=%{y}<extra></extra>",
           "legendgroup": "Andhra Pradesh",
           "marker": {
            "color": "#636efa",
            "pattern": {
             "shape": ""
            }
           },
           "name": "Andhra Pradesh",
           "offsetgroup": "Andhra Pradesh",
           "orientation": "v",
           "showlegend": true,
           "textposition": "auto",
           "type": "bar",
           "x": [
            "South"
           ],
           "xaxis": "x",
           "y": [
            6.59
           ],
           "yaxis": "y"
          },
          {
           "alignmentgroup": "True",
           "hovertemplate": "state=Assam<br>month=Oct<br>region=%{x}<br>estimated unemployment rate=%{y}<extra></extra>",
           "legendgroup": "Assam",
           "marker": {
            "color": "#EF553B",
            "pattern": {
             "shape": ""
            }
           },
           "name": "Assam",
           "offsetgroup": "Assam",
           "orientation": "v",
           "showlegend": true,
           "textposition": "auto",
           "type": "bar",
           "x": [
            "Northeast"
           ],
           "xaxis": "x",
           "y": [
            3.02
           ],
           "yaxis": "y"
          },
          {
           "alignmentgroup": "True",
           "hovertemplate": "state=Bihar<br>month=Oct<br>region=%{x}<br>estimated unemployment rate=%{y}<extra></extra>",
           "legendgroup": "Bihar",
           "marker": {
            "color": "#00cc96",
            "pattern": {
             "shape": ""
            }
           },
           "name": "Bihar",
           "offsetgroup": "Bihar",
           "orientation": "v",
           "showlegend": true,
           "textposition": "auto",
           "type": "bar",
           "x": [
            "East"
           ],
           "xaxis": "x",
           "y": [
            9.82
           ],
           "yaxis": "y"
          },
          {
           "alignmentgroup": "True",
           "hovertemplate": "state=Chhattisgarh<br>month=Oct<br>region=%{x}<br>estimated unemployment rate=%{y}<extra></extra>",
           "legendgroup": "Chhattisgarh",
           "marker": {
            "color": "#ab63fa",
            "pattern": {
             "shape": ""
            }
           },
           "name": "Chhattisgarh",
           "offsetgroup": "Chhattisgarh",
           "orientation": "v",
           "showlegend": true,
           "textposition": "auto",
           "type": "bar",
           "x": [
            "West"
           ],
           "xaxis": "x",
           "y": [
            6.62
           ],
           "yaxis": "y"
          },
          {
           "alignmentgroup": "True",
           "hovertemplate": "state=Delhi<br>month=Oct<br>region=%{x}<br>estimated unemployment rate=%{y}<extra></extra>",
           "legendgroup": "Delhi",
           "marker": {
            "color": "#FFA15A",
            "pattern": {
             "shape": ""
            }
           },
           "name": "Delhi",
           "offsetgroup": "Delhi",
           "orientation": "v",
           "showlegend": true,
           "textposition": "auto",
           "type": "bar",
           "x": [
            "North"
           ],
           "xaxis": "x",
           "y": [
            6.27
           ],
           "yaxis": "y"
          },
          {
           "alignmentgroup": "True",
           "hovertemplate": "state=Goa<br>month=Oct<br>region=%{x}<br>estimated unemployment rate=%{y}<extra></extra>",
           "legendgroup": "Goa",
           "marker": {
            "color": "#19d3f3",
            "pattern": {
             "shape": ""
            }
           },
           "name": "Goa",
           "offsetgroup": "Goa",
           "orientation": "v",
           "showlegend": true,
           "textposition": "auto",
           "type": "bar",
           "x": [
            "West"
           ],
           "xaxis": "x",
           "y": [
            11.54
           ],
           "yaxis": "y"
          },
          {
           "alignmentgroup": "True",
           "hovertemplate": "state=Gujarat<br>month=Oct<br>region=%{x}<br>estimated unemployment rate=%{y}<extra></extra>",
           "legendgroup": "Gujarat",
           "marker": {
            "color": "#FF6692",
            "pattern": {
             "shape": ""
            }
           },
           "name": "Gujarat",
           "offsetgroup": "Gujarat",
           "orientation": "v",
           "showlegend": true,
           "textposition": "auto",
           "type": "bar",
           "x": [
            "West"
           ],
           "xaxis": "x",
           "y": [
            4.03
           ],
           "yaxis": "y"
          },
          {
           "alignmentgroup": "True",
           "hovertemplate": "state=Haryana<br>month=Oct<br>region=%{x}<br>estimated unemployment rate=%{y}<extra></extra>",
           "legendgroup": "Haryana",
           "marker": {
            "color": "#B6E880",
            "pattern": {
             "shape": ""
            }
           },
           "name": "Haryana",
           "offsetgroup": "Haryana",
           "orientation": "v",
           "showlegend": true,
           "textposition": "auto",
           "type": "bar",
           "x": [
            "North"
           ],
           "xaxis": "x",
           "y": [
            27.31
           ],
           "yaxis": "y"
          },
          {
           "alignmentgroup": "True",
           "hovertemplate": "state=Himachal Pradesh<br>month=Oct<br>region=%{x}<br>estimated unemployment rate=%{y}<extra></extra>",
           "legendgroup": "Himachal Pradesh",
           "marker": {
            "color": "#FF97FF",
            "pattern": {
             "shape": ""
            }
           },
           "name": "Himachal Pradesh",
           "offsetgroup": "Himachal Pradesh",
           "orientation": "v",
           "showlegend": true,
           "textposition": "auto",
           "type": "bar",
           "x": [
            "North"
           ],
           "xaxis": "x",
           "y": [
            13.46
           ],
           "yaxis": "y"
          },
          {
           "alignmentgroup": "True",
           "hovertemplate": "state=Jammu & Kashmir<br>month=Oct<br>region=%{x}<br>estimated unemployment rate=%{y}<extra></extra>",
           "legendgroup": "Jammu & Kashmir",
           "marker": {
            "color": "#FECB52",
            "pattern": {
             "shape": ""
            }
           },
           "name": "Jammu & Kashmir",
           "offsetgroup": "Jammu & Kashmir",
           "orientation": "v",
           "showlegend": true,
           "textposition": "auto",
           "type": "bar",
           "x": [
            "North"
           ],
           "xaxis": "x",
           "y": [
            16.14
           ],
           "yaxis": "y"
          },
          {
           "alignmentgroup": "True",
           "hovertemplate": "state=Jharkhand<br>month=Oct<br>region=%{x}<br>estimated unemployment rate=%{y}<extra></extra>",
           "legendgroup": "Jharkhand",
           "marker": {
            "color": "#636efa",
            "pattern": {
             "shape": ""
            }
           },
           "name": "Jharkhand",
           "offsetgroup": "Jharkhand",
           "orientation": "v",
           "showlegend": true,
           "textposition": "auto",
           "type": "bar",
           "x": [
            "East"
           ],
           "xaxis": "x",
           "y": [
            11.8
           ],
           "yaxis": "y"
          },
          {
           "alignmentgroup": "True",
           "hovertemplate": "state=Karnataka<br>month=Oct<br>region=%{x}<br>estimated unemployment rate=%{y}<extra></extra>",
           "legendgroup": "Karnataka",
           "marker": {
            "color": "#EF553B",
            "pattern": {
             "shape": ""
            }
           },
           "name": "Karnataka",
           "offsetgroup": "Karnataka",
           "orientation": "v",
           "showlegend": true,
           "textposition": "auto",
           "type": "bar",
           "x": [
            "South"
           ],
           "xaxis": "x",
           "y": [
            1.58
           ],
           "yaxis": "y"
          },
          {
           "alignmentgroup": "True",
           "hovertemplate": "state=Kerala<br>month=Oct<br>region=%{x}<br>estimated unemployment rate=%{y}<extra></extra>",
           "legendgroup": "Kerala",
           "marker": {
            "color": "#00cc96",
            "pattern": {
             "shape": ""
            }
           },
           "name": "Kerala",
           "offsetgroup": "Kerala",
           "orientation": "v",
           "showlegend": true,
           "textposition": "auto",
           "type": "bar",
           "x": [
            "South"
           ],
           "xaxis": "x",
           "y": [
            3.88
           ],
           "yaxis": "y"
          },
          {
           "alignmentgroup": "True",
           "hovertemplate": "state=Madhya Pradesh<br>month=Oct<br>region=%{x}<br>estimated unemployment rate=%{y}<extra></extra>",
           "legendgroup": "Madhya Pradesh",
           "marker": {
            "color": "#ab63fa",
            "pattern": {
             "shape": ""
            }
           },
           "name": "Madhya Pradesh",
           "offsetgroup": "Madhya Pradesh",
           "orientation": "v",
           "showlegend": true,
           "textposition": "auto",
           "type": "bar",
           "x": [
            "West"
           ],
           "xaxis": "x",
           "y": [
            3.13
           ],
           "yaxis": "y"
          },
          {
           "alignmentgroup": "True",
           "hovertemplate": "state=Maharashtra<br>month=Oct<br>region=%{x}<br>estimated unemployment rate=%{y}<extra></extra>",
           "legendgroup": "Maharashtra",
           "marker": {
            "color": "#FFA15A",
            "pattern": {
             "shape": ""
            }
           },
           "name": "Maharashtra",
           "offsetgroup": "Maharashtra",
           "orientation": "v",
           "showlegend": true,
           "textposition": "auto",
           "type": "bar",
           "x": [
            "West"
           ],
           "xaxis": "x",
           "y": [
            4.1
           ],
           "yaxis": "y"
          },
          {
           "alignmentgroup": "True",
           "hovertemplate": "state=Meghalaya<br>month=Oct<br>region=%{x}<br>estimated unemployment rate=%{y}<extra></extra>",
           "legendgroup": "Meghalaya",
           "marker": {
            "color": "#19d3f3",
            "pattern": {
             "shape": ""
            }
           },
           "name": "Meghalaya",
           "offsetgroup": "Meghalaya",
           "orientation": "v",
           "showlegend": true,
           "textposition": "auto",
           "type": "bar",
           "x": [
            "Northeast"
           ],
           "xaxis": "x",
           "y": [
            4.6
           ],
           "yaxis": "y"
          },
          {
           "alignmentgroup": "True",
           "hovertemplate": "state=Odisha<br>month=Oct<br>region=%{x}<br>estimated unemployment rate=%{y}<extra></extra>",
           "legendgroup": "Odisha",
           "marker": {
            "color": "#FF6692",
            "pattern": {
             "shape": ""
            }
           },
           "name": "Odisha",
           "offsetgroup": "Odisha",
           "orientation": "v",
           "showlegend": true,
           "textposition": "auto",
           "type": "bar",
           "x": [
            "East"
           ],
           "xaxis": "x",
           "y": [
            2.18
           ],
           "yaxis": "y"
          },
          {
           "alignmentgroup": "True",
           "hovertemplate": "state=Puducherry<br>month=Oct<br>region=%{x}<br>estimated unemployment rate=%{y}<extra></extra>",
           "legendgroup": "Puducherry",
           "marker": {
            "color": "#B6E880",
            "pattern": {
             "shape": ""
            }
           },
           "name": "Puducherry",
           "offsetgroup": "Puducherry",
           "orientation": "v",
           "showlegend": true,
           "textposition": "auto",
           "type": "bar",
           "x": [
            "South"
           ],
           "xaxis": "x",
           "y": [
            6.18
           ],
           "yaxis": "y"
          },
          {
           "alignmentgroup": "True",
           "hovertemplate": "state=Punjab<br>month=Oct<br>region=%{x}<br>estimated unemployment rate=%{y}<extra></extra>",
           "legendgroup": "Punjab",
           "marker": {
            "color": "#FF97FF",
            "pattern": {
             "shape": ""
            }
           },
           "name": "Punjab",
           "offsetgroup": "Punjab",
           "orientation": "v",
           "showlegend": true,
           "textposition": "auto",
           "type": "bar",
           "x": [
            "North"
           ],
           "xaxis": "x",
           "y": [
            9.88
           ],
           "yaxis": "y"
          },
          {
           "alignmentgroup": "True",
           "hovertemplate": "state=Rajasthan<br>month=Oct<br>region=%{x}<br>estimated unemployment rate=%{y}<extra></extra>",
           "legendgroup": "Rajasthan",
           "marker": {
            "color": "#FECB52",
            "pattern": {
             "shape": ""
            }
           },
           "name": "Rajasthan",
           "offsetgroup": "Rajasthan",
           "orientation": "v",
           "showlegend": true,
           "textposition": "auto",
           "type": "bar",
           "x": [
            "North"
           ],
           "xaxis": "x",
           "y": [
            24.15
           ],
           "yaxis": "y"
          },
          {
           "alignmentgroup": "True",
           "hovertemplate": "state=Sikkim<br>month=Oct<br>region=%{x}<br>estimated unemployment rate=%{y}<extra></extra>",
           "legendgroup": "Sikkim",
           "marker": {
            "color": "#636efa",
            "pattern": {
             "shape": ""
            }
           },
           "name": "Sikkim",
           "offsetgroup": "Sikkim",
           "orientation": "v",
           "showlegend": true,
           "textposition": "auto",
           "type": "bar",
           "x": [
            "Northeast"
           ],
           "xaxis": "x",
           "y": [
            0.88
           ],
           "yaxis": "y"
          },
          {
           "alignmentgroup": "True",
           "hovertemplate": "state=Tamil Nadu<br>month=Oct<br>region=%{x}<br>estimated unemployment rate=%{y}<extra></extra>",
           "legendgroup": "Tamil Nadu",
           "marker": {
            "color": "#EF553B",
            "pattern": {
             "shape": ""
            }
           },
           "name": "Tamil Nadu",
           "offsetgroup": "Tamil Nadu",
           "orientation": "v",
           "showlegend": true,
           "textposition": "auto",
           "type": "bar",
           "x": [
            "South"
           ],
           "xaxis": "x",
           "y": [
            2.16
           ],
           "yaxis": "y"
          },
          {
           "alignmentgroup": "True",
           "hovertemplate": "state=Telangana<br>month=Oct<br>region=%{x}<br>estimated unemployment rate=%{y}<extra></extra>",
           "legendgroup": "Telangana",
           "marker": {
            "color": "#00cc96",
            "pattern": {
             "shape": ""
            }
           },
           "name": "Telangana",
           "offsetgroup": "Telangana",
           "orientation": "v",
           "showlegend": true,
           "textposition": "auto",
           "type": "bar",
           "x": [
            "South"
           ],
           "xaxis": "x",
           "y": [
            2.86
           ],
           "yaxis": "y"
          },
          {
           "alignmentgroup": "True",
           "hovertemplate": "state=Tripura<br>month=Oct<br>region=%{x}<br>estimated unemployment rate=%{y}<extra></extra>",
           "legendgroup": "Tripura",
           "marker": {
            "color": "#ab63fa",
            "pattern": {
             "shape": ""
            }
           },
           "name": "Tripura",
           "offsetgroup": "Tripura",
           "orientation": "v",
           "showlegend": true,
           "textposition": "auto",
           "type": "bar",
           "x": [
            "Northeast"
           ],
           "xaxis": "x",
           "y": [
            11.57
           ],
           "yaxis": "y"
          },
          {
           "alignmentgroup": "True",
           "hovertemplate": "state=Uttar Pradesh<br>month=Oct<br>region=%{x}<br>estimated unemployment rate=%{y}<extra></extra>",
           "legendgroup": "Uttar Pradesh",
           "marker": {
            "color": "#FFA15A",
            "pattern": {
             "shape": ""
            }
           },
           "name": "Uttar Pradesh",
           "offsetgroup": "Uttar Pradesh",
           "orientation": "v",
           "showlegend": true,
           "textposition": "auto",
           "type": "bar",
           "x": [
            "North"
           ],
           "xaxis": "x",
           "y": [
            3.75
           ],
           "yaxis": "y"
          },
          {
           "alignmentgroup": "True",
           "hovertemplate": "state=Uttarakhand<br>month=Oct<br>region=%{x}<br>estimated unemployment rate=%{y}<extra></extra>",
           "legendgroup": "Uttarakhand",
           "marker": {
            "color": "#19d3f3",
            "pattern": {
             "shape": ""
            }
           },
           "name": "Uttarakhand",
           "offsetgroup": "Uttarakhand",
           "orientation": "v",
           "showlegend": true,
           "textposition": "auto",
           "type": "bar",
           "x": [
            "North"
           ],
           "xaxis": "x",
           "y": [
            9.23
           ],
           "yaxis": "y"
          },
          {
           "alignmentgroup": "True",
           "hovertemplate": "state=West Bengal<br>month=Oct<br>region=%{x}<br>estimated unemployment rate=%{y}<extra></extra>",
           "legendgroup": "West Bengal",
           "marker": {
            "color": "#FF6692",
            "pattern": {
             "shape": ""
            }
           },
           "name": "West Bengal",
           "offsetgroup": "West Bengal",
           "orientation": "v",
           "showlegend": true,
           "textposition": "auto",
           "type": "bar",
           "x": [
            "East"
           ],
           "xaxis": "x",
           "y": [
            9.98
           ],
           "yaxis": "y"
          }
         ],
         "name": "Oct"
        }
       ],
       "layout": {
        "barmode": "relative",
        "legend": {
         "title": {
          "text": "state"
         },
         "tracegroupgap": 0
        },
        "sliders": [
         {
          "active": 0,
          "currentvalue": {
           "prefix": "month="
          },
          "len": 0.9,
          "pad": {
           "b": 10,
           "t": 60
          },
          "steps": [
           {
            "args": [
             [
              "Jan"
             ],
             {
              "frame": {
               "duration": 0,
               "redraw": true
              },
              "fromcurrent": true,
              "mode": "immediate",
              "transition": {
               "duration": 0,
               "easing": "linear"
              }
             }
            ],
            "label": "Jan",
            "method": "animate"
           },
           {
            "args": [
             [
              "Feb"
             ],
             {
              "frame": {
               "duration": 0,
               "redraw": true
              },
              "fromcurrent": true,
              "mode": "immediate",
              "transition": {
               "duration": 0,
               "easing": "linear"
              }
             }
            ],
            "label": "Feb",
            "method": "animate"
           },
           {
            "args": [
             [
              "Mar"
             ],
             {
              "frame": {
               "duration": 0,
               "redraw": true
              },
              "fromcurrent": true,
              "mode": "immediate",
              "transition": {
               "duration": 0,
               "easing": "linear"
              }
             }
            ],
            "label": "Mar",
            "method": "animate"
           },
           {
            "args": [
             [
              "Apr"
             ],
             {
              "frame": {
               "duration": 0,
               "redraw": true
              },
              "fromcurrent": true,
              "mode": "immediate",
              "transition": {
               "duration": 0,
               "easing": "linear"
              }
             }
            ],
            "label": "Apr",
            "method": "animate"
           },
           {
            "args": [
             [
              "May"
             ],
             {
              "frame": {
               "duration": 0,
               "redraw": true
              },
              "fromcurrent": true,
              "mode": "immediate",
              "transition": {
               "duration": 0,
               "easing": "linear"
              }
             }
            ],
            "label": "May",
            "method": "animate"
           },
           {
            "args": [
             [
              "Jun"
             ],
             {
              "frame": {
               "duration": 0,
               "redraw": true
              },
              "fromcurrent": true,
              "mode": "immediate",
              "transition": {
               "duration": 0,
               "easing": "linear"
              }
             }
            ],
            "label": "Jun",
            "method": "animate"
           },
           {
            "args": [
             [
              "Jul"
             ],
             {
              "frame": {
               "duration": 0,
               "redraw": true
              },
              "fromcurrent": true,
              "mode": "immediate",
              "transition": {
               "duration": 0,
               "easing": "linear"
              }
             }
            ],
            "label": "Jul",
            "method": "animate"
           },
           {
            "args": [
             [
              "Aug"
             ],
             {
              "frame": {
               "duration": 0,
               "redraw": true
              },
              "fromcurrent": true,
              "mode": "immediate",
              "transition": {
               "duration": 0,
               "easing": "linear"
              }
             }
            ],
            "label": "Aug",
            "method": "animate"
           },
           {
            "args": [
             [
              "Sep"
             ],
             {
              "frame": {
               "duration": 0,
               "redraw": true
              },
              "fromcurrent": true,
              "mode": "immediate",
              "transition": {
               "duration": 0,
               "easing": "linear"
              }
             }
            ],
            "label": "Sep",
            "method": "animate"
           },
           {
            "args": [
             [
              "Oct"
             ],
             {
              "frame": {
               "duration": 0,
               "redraw": true
              },
              "fromcurrent": true,
              "mode": "immediate",
              "transition": {
               "duration": 0,
               "easing": "linear"
              }
             }
            ],
            "label": "Oct",
            "method": "animate"
           }
          ],
          "x": 0.1,
          "xanchor": "left",
          "y": 0,
          "yanchor": "top"
         }
        ],
        "template": {
         "data": {
          "bar": [
           {
            "error_x": {
             "color": "#2a3f5f"
            },
            "error_y": {
             "color": "#2a3f5f"
            },
            "marker": {
             "line": {
              "color": "#E5ECF6",
              "width": 0.5
             },
             "pattern": {
              "fillmode": "overlay",
              "size": 10,
              "solidity": 0.2
             }
            },
            "type": "bar"
           }
          ],
          "barpolar": [
           {
            "marker": {
             "line": {
              "color": "#E5ECF6",
              "width": 0.5
             },
             "pattern": {
              "fillmode": "overlay",
              "size": 10,
              "solidity": 0.2
             }
            },
            "type": "barpolar"
           }
          ],
          "carpet": [
           {
            "aaxis": {
             "endlinecolor": "#2a3f5f",
             "gridcolor": "white",
             "linecolor": "white",
             "minorgridcolor": "white",
             "startlinecolor": "#2a3f5f"
            },
            "baxis": {
             "endlinecolor": "#2a3f5f",
             "gridcolor": "white",
             "linecolor": "white",
             "minorgridcolor": "white",
             "startlinecolor": "#2a3f5f"
            },
            "type": "carpet"
           }
          ],
          "choropleth": [
           {
            "colorbar": {
             "outlinewidth": 0,
             "ticks": ""
            },
            "type": "choropleth"
           }
          ],
          "contour": [
           {
            "colorbar": {
             "outlinewidth": 0,
             "ticks": ""
            },
            "colorscale": [
             [
              0,
              "#0d0887"
             ],
             [
              0.1111111111111111,
              "#46039f"
             ],
             [
              0.2222222222222222,
              "#7201a8"
             ],
             [
              0.3333333333333333,
              "#9c179e"
             ],
             [
              0.4444444444444444,
              "#bd3786"
             ],
             [
              0.5555555555555556,
              "#d8576b"
             ],
             [
              0.6666666666666666,
              "#ed7953"
             ],
             [
              0.7777777777777778,
              "#fb9f3a"
             ],
             [
              0.8888888888888888,
              "#fdca26"
             ],
             [
              1,
              "#f0f921"
             ]
            ],
            "type": "contour"
           }
          ],
          "contourcarpet": [
           {
            "colorbar": {
             "outlinewidth": 0,
             "ticks": ""
            },
            "type": "contourcarpet"
           }
          ],
          "heatmap": [
           {
            "colorbar": {
             "outlinewidth": 0,
             "ticks": ""
            },
            "colorscale": [
             [
              0,
              "#0d0887"
             ],
             [
              0.1111111111111111,
              "#46039f"
             ],
             [
              0.2222222222222222,
              "#7201a8"
             ],
             [
              0.3333333333333333,
              "#9c179e"
             ],
             [
              0.4444444444444444,
              "#bd3786"
             ],
             [
              0.5555555555555556,
              "#d8576b"
             ],
             [
              0.6666666666666666,
              "#ed7953"
             ],
             [
              0.7777777777777778,
              "#fb9f3a"
             ],
             [
              0.8888888888888888,
              "#fdca26"
             ],
             [
              1,
              "#f0f921"
             ]
            ],
            "type": "heatmap"
           }
          ],
          "heatmapgl": [
           {
            "colorbar": {
             "outlinewidth": 0,
             "ticks": ""
            },
            "colorscale": [
             [
              0,
              "#0d0887"
             ],
             [
              0.1111111111111111,
              "#46039f"
             ],
             [
              0.2222222222222222,
              "#7201a8"
             ],
             [
              0.3333333333333333,
              "#9c179e"
             ],
             [
              0.4444444444444444,
              "#bd3786"
             ],
             [
              0.5555555555555556,
              "#d8576b"
             ],
             [
              0.6666666666666666,
              "#ed7953"
             ],
             [
              0.7777777777777778,
              "#fb9f3a"
             ],
             [
              0.8888888888888888,
              "#fdca26"
             ],
             [
              1,
              "#f0f921"
             ]
            ],
            "type": "heatmapgl"
           }
          ],
          "histogram": [
           {
            "marker": {
             "pattern": {
              "fillmode": "overlay",
              "size": 10,
              "solidity": 0.2
             }
            },
            "type": "histogram"
           }
          ],
          "histogram2d": [
           {
            "colorbar": {
             "outlinewidth": 0,
             "ticks": ""
            },
            "colorscale": [
             [
              0,
              "#0d0887"
             ],
             [
              0.1111111111111111,
              "#46039f"
             ],
             [
              0.2222222222222222,
              "#7201a8"
             ],
             [
              0.3333333333333333,
              "#9c179e"
             ],
             [
              0.4444444444444444,
              "#bd3786"
             ],
             [
              0.5555555555555556,
              "#d8576b"
             ],
             [
              0.6666666666666666,
              "#ed7953"
             ],
             [
              0.7777777777777778,
              "#fb9f3a"
             ],
             [
              0.8888888888888888,
              "#fdca26"
             ],
             [
              1,
              "#f0f921"
             ]
            ],
            "type": "histogram2d"
           }
          ],
          "histogram2dcontour": [
           {
            "colorbar": {
             "outlinewidth": 0,
             "ticks": ""
            },
            "colorscale": [
             [
              0,
              "#0d0887"
             ],
             [
              0.1111111111111111,
              "#46039f"
             ],
             [
              0.2222222222222222,
              "#7201a8"
             ],
             [
              0.3333333333333333,
              "#9c179e"
             ],
             [
              0.4444444444444444,
              "#bd3786"
             ],
             [
              0.5555555555555556,
              "#d8576b"
             ],
             [
              0.6666666666666666,
              "#ed7953"
             ],
             [
              0.7777777777777778,
              "#fb9f3a"
             ],
             [
              0.8888888888888888,
              "#fdca26"
             ],
             [
              1,
              "#f0f921"
             ]
            ],
            "type": "histogram2dcontour"
           }
          ],
          "mesh3d": [
           {
            "colorbar": {
             "outlinewidth": 0,
             "ticks": ""
            },
            "type": "mesh3d"
           }
          ],
          "parcoords": [
           {
            "line": {
             "colorbar": {
              "outlinewidth": 0,
              "ticks": ""
             }
            },
            "type": "parcoords"
           }
          ],
          "pie": [
           {
            "automargin": true,
            "type": "pie"
           }
          ],
          "scatter": [
           {
            "fillpattern": {
             "fillmode": "overlay",
             "size": 10,
             "solidity": 0.2
            },
            "type": "scatter"
           }
          ],
          "scatter3d": [
           {
            "line": {
             "colorbar": {
              "outlinewidth": 0,
              "ticks": ""
             }
            },
            "marker": {
             "colorbar": {
              "outlinewidth": 0,
              "ticks": ""
             }
            },
            "type": "scatter3d"
           }
          ],
          "scattercarpet": [
           {
            "marker": {
             "colorbar": {
              "outlinewidth": 0,
              "ticks": ""
             }
            },
            "type": "scattercarpet"
           }
          ],
          "scattergeo": [
           {
            "marker": {
             "colorbar": {
              "outlinewidth": 0,
              "ticks": ""
             }
            },
            "type": "scattergeo"
           }
          ],
          "scattergl": [
           {
            "marker": {
             "colorbar": {
              "outlinewidth": 0,
              "ticks": ""
             }
            },
            "type": "scattergl"
           }
          ],
          "scattermapbox": [
           {
            "marker": {
             "colorbar": {
              "outlinewidth": 0,
              "ticks": ""
             }
            },
            "type": "scattermapbox"
           }
          ],
          "scatterpolar": [
           {
            "marker": {
             "colorbar": {
              "outlinewidth": 0,
              "ticks": ""
             }
            },
            "type": "scatterpolar"
           }
          ],
          "scatterpolargl": [
           {
            "marker": {
             "colorbar": {
              "outlinewidth": 0,
              "ticks": ""
             }
            },
            "type": "scatterpolargl"
           }
          ],
          "scatterternary": [
           {
            "marker": {
             "colorbar": {
              "outlinewidth": 0,
              "ticks": ""
             }
            },
            "type": "scatterternary"
           }
          ],
          "surface": [
           {
            "colorbar": {
             "outlinewidth": 0,
             "ticks": ""
            },
            "colorscale": [
             [
              0,
              "#0d0887"
             ],
             [
              0.1111111111111111,
              "#46039f"
             ],
             [
              0.2222222222222222,
              "#7201a8"
             ],
             [
              0.3333333333333333,
              "#9c179e"
             ],
             [
              0.4444444444444444,
              "#bd3786"
             ],
             [
              0.5555555555555556,
              "#d8576b"
             ],
             [
              0.6666666666666666,
              "#ed7953"
             ],
             [
              0.7777777777777778,
              "#fb9f3a"
             ],
             [
              0.8888888888888888,
              "#fdca26"
             ],
             [
              1,
              "#f0f921"
             ]
            ],
            "type": "surface"
           }
          ],
          "table": [
           {
            "cells": {
             "fill": {
              "color": "#EBF0F8"
             },
             "line": {
              "color": "white"
             }
            },
            "header": {
             "fill": {
              "color": "#C8D4E3"
             },
             "line": {
              "color": "white"
             }
            },
            "type": "table"
           }
          ]
         },
         "layout": {
          "annotationdefaults": {
           "arrowcolor": "#2a3f5f",
           "arrowhead": 0,
           "arrowwidth": 1
          },
          "autotypenumbers": "strict",
          "coloraxis": {
           "colorbar": {
            "outlinewidth": 0,
            "ticks": ""
           }
          },
          "colorscale": {
           "diverging": [
            [
             0,
             "#8e0152"
            ],
            [
             0.1,
             "#c51b7d"
            ],
            [
             0.2,
             "#de77ae"
            ],
            [
             0.3,
             "#f1b6da"
            ],
            [
             0.4,
             "#fde0ef"
            ],
            [
             0.5,
             "#f7f7f7"
            ],
            [
             0.6,
             "#e6f5d0"
            ],
            [
             0.7,
             "#b8e186"
            ],
            [
             0.8,
             "#7fbc41"
            ],
            [
             0.9,
             "#4d9221"
            ],
            [
             1,
             "#276419"
            ]
           ],
           "sequential": [
            [
             0,
             "#0d0887"
            ],
            [
             0.1111111111111111,
             "#46039f"
            ],
            [
             0.2222222222222222,
             "#7201a8"
            ],
            [
             0.3333333333333333,
             "#9c179e"
            ],
            [
             0.4444444444444444,
             "#bd3786"
            ],
            [
             0.5555555555555556,
             "#d8576b"
            ],
            [
             0.6666666666666666,
             "#ed7953"
            ],
            [
             0.7777777777777778,
             "#fb9f3a"
            ],
            [
             0.8888888888888888,
             "#fdca26"
            ],
            [
             1,
             "#f0f921"
            ]
           ],
           "sequentialminus": [
            [
             0,
             "#0d0887"
            ],
            [
             0.1111111111111111,
             "#46039f"
            ],
            [
             0.2222222222222222,
             "#7201a8"
            ],
            [
             0.3333333333333333,
             "#9c179e"
            ],
            [
             0.4444444444444444,
             "#bd3786"
            ],
            [
             0.5555555555555556,
             "#d8576b"
            ],
            [
             0.6666666666666666,
             "#ed7953"
            ],
            [
             0.7777777777777778,
             "#fb9f3a"
            ],
            [
             0.8888888888888888,
             "#fdca26"
            ],
            [
             1,
             "#f0f921"
            ]
           ]
          },
          "colorway": [
           "#636efa",
           "#EF553B",
           "#00cc96",
           "#ab63fa",
           "#FFA15A",
           "#19d3f3",
           "#FF6692",
           "#B6E880",
           "#FF97FF",
           "#FECB52"
          ],
          "font": {
           "color": "#2a3f5f"
          },
          "geo": {
           "bgcolor": "white",
           "lakecolor": "white",
           "landcolor": "#E5ECF6",
           "showlakes": true,
           "showland": true,
           "subunitcolor": "white"
          },
          "hoverlabel": {
           "align": "left"
          },
          "hovermode": "closest",
          "mapbox": {
           "style": "light"
          },
          "paper_bgcolor": "white",
          "plot_bgcolor": "#E5ECF6",
          "polar": {
           "angularaxis": {
            "gridcolor": "white",
            "linecolor": "white",
            "ticks": ""
           },
           "bgcolor": "#E5ECF6",
           "radialaxis": {
            "gridcolor": "white",
            "linecolor": "white",
            "ticks": ""
           }
          },
          "scene": {
           "xaxis": {
            "backgroundcolor": "#E5ECF6",
            "gridcolor": "white",
            "gridwidth": 2,
            "linecolor": "white",
            "showbackground": true,
            "ticks": "",
            "zerolinecolor": "white"
           },
           "yaxis": {
            "backgroundcolor": "#E5ECF6",
            "gridcolor": "white",
            "gridwidth": 2,
            "linecolor": "white",
            "showbackground": true,
            "ticks": "",
            "zerolinecolor": "white"
           },
           "zaxis": {
            "backgroundcolor": "#E5ECF6",
            "gridcolor": "white",
            "gridwidth": 2,
            "linecolor": "white",
            "showbackground": true,
            "ticks": "",
            "zerolinecolor": "white"
           }
          },
          "shapedefaults": {
           "line": {
            "color": "#2a3f5f"
           }
          },
          "ternary": {
           "aaxis": {
            "gridcolor": "white",
            "linecolor": "white",
            "ticks": ""
           },
           "baxis": {
            "gridcolor": "white",
            "linecolor": "white",
            "ticks": ""
           },
           "bgcolor": "#E5ECF6",
           "caxis": {
            "gridcolor": "white",
            "linecolor": "white",
            "ticks": ""
           }
          },
          "title": {
           "x": 0.05
          },
          "xaxis": {
           "automargin": true,
           "gridcolor": "white",
           "linecolor": "white",
           "ticks": "",
           "title": {
            "standoff": 15
           },
           "zerolinecolor": "white",
           "zerolinewidth": 2
          },
          "yaxis": {
           "automargin": true,
           "gridcolor": "white",
           "linecolor": "white",
           "ticks": "",
           "title": {
            "standoff": 15
           },
           "zerolinecolor": "white",
           "zerolinewidth": 2
          }
         }
        },
        "title": {
         "text": "Unemployment rate from Jan 2020 to Oct 2020"
        },
        "updatemenus": [
         {
          "buttons": [
           {
            "args": [
             null,
             {
              "frame": {
               "duration": 2000,
               "redraw": true
              },
              "fromcurrent": true,
              "mode": "immediate",
              "transition": {
               "duration": 500,
               "easing": "linear"
              }
             }
            ],
            "label": "&#9654;",
            "method": "animate"
           },
           {
            "args": [
             [
              null
             ],
             {
              "frame": {
               "duration": 0,
               "redraw": true
              },
              "fromcurrent": true,
              "mode": "immediate",
              "transition": {
               "duration": 0,
               "easing": "linear"
              }
             }
            ],
            "label": "&#9724;",
            "method": "animate"
           }
          ],
          "direction": "left",
          "pad": {
           "r": 10,
           "t": 70
          },
          "showactive": false,
          "type": "buttons",
          "x": 0.1,
          "xanchor": "right",
          "y": 0,
          "yanchor": "top"
         }
        ],
        "xaxis": {
         "anchor": "y",
         "categoryorder": "total descending",
         "domain": [
          0,
          1
         ],
         "title": {
          "text": "region"
         }
        },
        "yaxis": {
         "anchor": "x",
         "domain": [
          0,
          1
         ],
         "title": {
          "text": "estimated unemployment rate"
         }
        }
       }
      }
     },
     "metadata": {},
     "output_type": "display_data"
    }
   ],
   "source": [
    "fig = px.bar(df, x='region',y='estimated unemployment rate', animation_frame = 'month', color='state',\n",
    "            title='Unemployment rate from Jan 2020 to Oct 2020')\n",
    "\n",
    "fig.update_layout(xaxis={'categoryorder':'total descending'})\n",
    "fig.layout.updatemenus[0].buttons[0].args[1][\"frame\"][\"duration\"] = 2000\n",
    "\n",
    "fig.show()"
   ]
  },
  {
   "cell_type": "code",
   "execution_count": 24,
   "id": "f0bc0fbe",
   "metadata": {
    "execution": {
     "iopub.execute_input": "2023-01-24T18:21:11.854327Z",
     "iopub.status.busy": "2023-01-24T18:21:11.853950Z",
     "iopub.status.idle": "2023-01-24T18:21:11.869153Z",
     "shell.execute_reply": "2023-01-24T18:21:11.867941Z"
    },
    "papermill": {
     "duration": 0.032531,
     "end_time": "2023-01-24T18:21:11.872093",
     "exception": false,
     "start_time": "2023-01-24T18:21:11.839562",
     "status": "completed"
    },
    "tags": []
   },
   "outputs": [
    {
     "data": {
      "text/html": [
       "<div>\n",
       "<style scoped>\n",
       "    .dataframe tbody tr th:only-of-type {\n",
       "        vertical-align: middle;\n",
       "    }\n",
       "\n",
       "    .dataframe tbody tr th {\n",
       "        vertical-align: top;\n",
       "    }\n",
       "\n",
       "    .dataframe thead th {\n",
       "        text-align: right;\n",
       "    }\n",
       "</style>\n",
       "<table border=\"1\" class=\"dataframe\">\n",
       "  <thead>\n",
       "    <tr style=\"text-align: right;\">\n",
       "      <th></th>\n",
       "      <th>region</th>\n",
       "      <th>state</th>\n",
       "      <th>estimated unemployment rate</th>\n",
       "    </tr>\n",
       "  </thead>\n",
       "  <tbody>\n",
       "    <tr>\n",
       "      <th>0</th>\n",
       "      <td>East</td>\n",
       "      <td>Bihar</td>\n",
       "      <td>19.471</td>\n",
       "    </tr>\n",
       "    <tr>\n",
       "      <th>1</th>\n",
       "      <td>East</td>\n",
       "      <td>Jharkhand</td>\n",
       "      <td>19.539</td>\n",
       "    </tr>\n",
       "    <tr>\n",
       "      <th>2</th>\n",
       "      <td>East</td>\n",
       "      <td>Odisha</td>\n",
       "      <td>6.462</td>\n",
       "    </tr>\n",
       "    <tr>\n",
       "      <th>3</th>\n",
       "      <td>East</td>\n",
       "      <td>West Bengal</td>\n",
       "      <td>10.192</td>\n",
       "    </tr>\n",
       "    <tr>\n",
       "      <th>4</th>\n",
       "      <td>North</td>\n",
       "      <td>Delhi</td>\n",
       "      <td>18.414</td>\n",
       "    </tr>\n",
       "  </tbody>\n",
       "</table>\n",
       "</div>"
      ],
      "text/plain": [
       "  region        state  estimated unemployment rate\n",
       "0   East        Bihar                       19.471\n",
       "1   East    Jharkhand                       19.539\n",
       "2   East       Odisha                        6.462\n",
       "3   East  West Bengal                       10.192\n",
       "4  North        Delhi                       18.414"
      ]
     },
     "execution_count": 24,
     "metadata": {},
     "output_type": "execute_result"
    }
   ],
   "source": [
    "unemployment = df.groupby(['region','state'])['estimated unemployment rate'].mean().reset_index()\n",
    "\n",
    "unemployment.head()"
   ]
  },
  {
   "cell_type": "code",
   "execution_count": 25,
   "id": "afea783f",
   "metadata": {
    "execution": {
     "iopub.execute_input": "2023-01-24T18:21:11.901587Z",
     "iopub.status.busy": "2023-01-24T18:21:11.901227Z",
     "iopub.status.idle": "2023-01-24T18:21:11.995696Z",
     "shell.execute_reply": "2023-01-24T18:21:11.994089Z"
    },
    "papermill": {
     "duration": 0.112728,
     "end_time": "2023-01-24T18:21:11.998507",
     "exception": false,
     "start_time": "2023-01-24T18:21:11.885779",
     "status": "completed"
    },
    "tags": []
   },
   "outputs": [
    {
     "data": {
      "application/vnd.plotly.v1+json": {
       "config": {
        "plotlyServerURL": "https://plot.ly"
       },
       "data": [
        {
         "branchvalues": "total",
         "domain": {
          "x": [
           0,
           1
          ],
          "y": [
           0,
           1
          ]
         },
         "hovertemplate": "labels=%{label}<br>estimated unemployment rate=%{value}<br>parent=%{parent}<br>id=%{id}<extra></extra>",
         "ids": [
          "South/Andhra Pradesh",
          "Northeast/Assam",
          "East/Bihar",
          "West/Chhattisgarh",
          "North/Delhi",
          "West/Goa",
          "West/Gujarat",
          "North/Haryana",
          "North/Himachal Pradesh",
          "North/Jammu & Kashmir",
          "East/Jharkhand",
          "South/Karnataka",
          "South/Kerala",
          "West/Madhya Pradesh",
          "West/Maharashtra",
          "Northeast/Meghalaya",
          "East/Odisha",
          "South/Puducherry",
          "North/Punjab",
          "North/Rajasthan",
          "Northeast/Sikkim",
          "South/Tamil Nadu",
          "South/Telangana",
          "Northeast/Tripura",
          "North/Uttar Pradesh",
          "North/Uttarakhand",
          "East/West Bengal",
          "East",
          "North",
          "Northeast",
          "South",
          "West"
         ],
         "labels": [
          "Andhra Pradesh",
          "Assam",
          "Bihar",
          "Chhattisgarh",
          "Delhi",
          "Goa",
          "Gujarat",
          "Haryana",
          "Himachal Pradesh",
          "Jammu & Kashmir",
          "Jharkhand",
          "Karnataka",
          "Kerala",
          "Madhya Pradesh",
          "Maharashtra",
          "Meghalaya",
          "Odisha",
          "Puducherry",
          "Punjab",
          "Rajasthan",
          "Sikkim",
          "Tamil Nadu",
          "Telangana",
          "Tripura",
          "Uttar Pradesh",
          "Uttarakhand",
          "West Bengal",
          "East",
          "North",
          "Northeast",
          "South",
          "West"
         ],
         "name": "",
         "parents": [
          "South",
          "Northeast",
          "East",
          "West",
          "North",
          "West",
          "West",
          "North",
          "North",
          "North",
          "East",
          "South",
          "South",
          "West",
          "West",
          "Northeast",
          "East",
          "South",
          "North",
          "North",
          "Northeast",
          "South",
          "South",
          "Northeast",
          "North",
          "North",
          "East",
          "",
          "",
          "",
          "",
          ""
         ],
         "type": "sunburst",
         "values": [
          8.664,
          4.856,
          19.471,
          7.819,
          18.414,
          12.167,
          6.3759999999999994,
          27.476999999999997,
          16.065,
          16.477777777777778,
          19.538999999999998,
          7.667999999999999,
          9.434000000000001,
          6.854000000000001,
          7.979000000000001,
          3.8659999999999997,
          6.462000000000001,
          17.942,
          11.981,
          15.868,
          9.7925,
          12.187,
          6.833,
          25.055,
          9.737,
          11.156,
          10.192,
          55.664,
          127.17577777777778,
          43.5695,
          62.727999999999994,
          41.195
         ]
        }
       ],
       "layout": {
        "height": 650,
        "legend": {
         "tracegroupgap": 0
        },
        "template": {
         "data": {
          "bar": [
           {
            "error_x": {
             "color": "#2a3f5f"
            },
            "error_y": {
             "color": "#2a3f5f"
            },
            "marker": {
             "line": {
              "color": "#E5ECF6",
              "width": 0.5
             },
             "pattern": {
              "fillmode": "overlay",
              "size": 10,
              "solidity": 0.2
             }
            },
            "type": "bar"
           }
          ],
          "barpolar": [
           {
            "marker": {
             "line": {
              "color": "#E5ECF6",
              "width": 0.5
             },
             "pattern": {
              "fillmode": "overlay",
              "size": 10,
              "solidity": 0.2
             }
            },
            "type": "barpolar"
           }
          ],
          "carpet": [
           {
            "aaxis": {
             "endlinecolor": "#2a3f5f",
             "gridcolor": "white",
             "linecolor": "white",
             "minorgridcolor": "white",
             "startlinecolor": "#2a3f5f"
            },
            "baxis": {
             "endlinecolor": "#2a3f5f",
             "gridcolor": "white",
             "linecolor": "white",
             "minorgridcolor": "white",
             "startlinecolor": "#2a3f5f"
            },
            "type": "carpet"
           }
          ],
          "choropleth": [
           {
            "colorbar": {
             "outlinewidth": 0,
             "ticks": ""
            },
            "type": "choropleth"
           }
          ],
          "contour": [
           {
            "colorbar": {
             "outlinewidth": 0,
             "ticks": ""
            },
            "colorscale": [
             [
              0,
              "#0d0887"
             ],
             [
              0.1111111111111111,
              "#46039f"
             ],
             [
              0.2222222222222222,
              "#7201a8"
             ],
             [
              0.3333333333333333,
              "#9c179e"
             ],
             [
              0.4444444444444444,
              "#bd3786"
             ],
             [
              0.5555555555555556,
              "#d8576b"
             ],
             [
              0.6666666666666666,
              "#ed7953"
             ],
             [
              0.7777777777777778,
              "#fb9f3a"
             ],
             [
              0.8888888888888888,
              "#fdca26"
             ],
             [
              1,
              "#f0f921"
             ]
            ],
            "type": "contour"
           }
          ],
          "contourcarpet": [
           {
            "colorbar": {
             "outlinewidth": 0,
             "ticks": ""
            },
            "type": "contourcarpet"
           }
          ],
          "heatmap": [
           {
            "colorbar": {
             "outlinewidth": 0,
             "ticks": ""
            },
            "colorscale": [
             [
              0,
              "#0d0887"
             ],
             [
              0.1111111111111111,
              "#46039f"
             ],
             [
              0.2222222222222222,
              "#7201a8"
             ],
             [
              0.3333333333333333,
              "#9c179e"
             ],
             [
              0.4444444444444444,
              "#bd3786"
             ],
             [
              0.5555555555555556,
              "#d8576b"
             ],
             [
              0.6666666666666666,
              "#ed7953"
             ],
             [
              0.7777777777777778,
              "#fb9f3a"
             ],
             [
              0.8888888888888888,
              "#fdca26"
             ],
             [
              1,
              "#f0f921"
             ]
            ],
            "type": "heatmap"
           }
          ],
          "heatmapgl": [
           {
            "colorbar": {
             "outlinewidth": 0,
             "ticks": ""
            },
            "colorscale": [
             [
              0,
              "#0d0887"
             ],
             [
              0.1111111111111111,
              "#46039f"
             ],
             [
              0.2222222222222222,
              "#7201a8"
             ],
             [
              0.3333333333333333,
              "#9c179e"
             ],
             [
              0.4444444444444444,
              "#bd3786"
             ],
             [
              0.5555555555555556,
              "#d8576b"
             ],
             [
              0.6666666666666666,
              "#ed7953"
             ],
             [
              0.7777777777777778,
              "#fb9f3a"
             ],
             [
              0.8888888888888888,
              "#fdca26"
             ],
             [
              1,
              "#f0f921"
             ]
            ],
            "type": "heatmapgl"
           }
          ],
          "histogram": [
           {
            "marker": {
             "pattern": {
              "fillmode": "overlay",
              "size": 10,
              "solidity": 0.2
             }
            },
            "type": "histogram"
           }
          ],
          "histogram2d": [
           {
            "colorbar": {
             "outlinewidth": 0,
             "ticks": ""
            },
            "colorscale": [
             [
              0,
              "#0d0887"
             ],
             [
              0.1111111111111111,
              "#46039f"
             ],
             [
              0.2222222222222222,
              "#7201a8"
             ],
             [
              0.3333333333333333,
              "#9c179e"
             ],
             [
              0.4444444444444444,
              "#bd3786"
             ],
             [
              0.5555555555555556,
              "#d8576b"
             ],
             [
              0.6666666666666666,
              "#ed7953"
             ],
             [
              0.7777777777777778,
              "#fb9f3a"
             ],
             [
              0.8888888888888888,
              "#fdca26"
             ],
             [
              1,
              "#f0f921"
             ]
            ],
            "type": "histogram2d"
           }
          ],
          "histogram2dcontour": [
           {
            "colorbar": {
             "outlinewidth": 0,
             "ticks": ""
            },
            "colorscale": [
             [
              0,
              "#0d0887"
             ],
             [
              0.1111111111111111,
              "#46039f"
             ],
             [
              0.2222222222222222,
              "#7201a8"
             ],
             [
              0.3333333333333333,
              "#9c179e"
             ],
             [
              0.4444444444444444,
              "#bd3786"
             ],
             [
              0.5555555555555556,
              "#d8576b"
             ],
             [
              0.6666666666666666,
              "#ed7953"
             ],
             [
              0.7777777777777778,
              "#fb9f3a"
             ],
             [
              0.8888888888888888,
              "#fdca26"
             ],
             [
              1,
              "#f0f921"
             ]
            ],
            "type": "histogram2dcontour"
           }
          ],
          "mesh3d": [
           {
            "colorbar": {
             "outlinewidth": 0,
             "ticks": ""
            },
            "type": "mesh3d"
           }
          ],
          "parcoords": [
           {
            "line": {
             "colorbar": {
              "outlinewidth": 0,
              "ticks": ""
             }
            },
            "type": "parcoords"
           }
          ],
          "pie": [
           {
            "automargin": true,
            "type": "pie"
           }
          ],
          "scatter": [
           {
            "fillpattern": {
             "fillmode": "overlay",
             "size": 10,
             "solidity": 0.2
            },
            "type": "scatter"
           }
          ],
          "scatter3d": [
           {
            "line": {
             "colorbar": {
              "outlinewidth": 0,
              "ticks": ""
             }
            },
            "marker": {
             "colorbar": {
              "outlinewidth": 0,
              "ticks": ""
             }
            },
            "type": "scatter3d"
           }
          ],
          "scattercarpet": [
           {
            "marker": {
             "colorbar": {
              "outlinewidth": 0,
              "ticks": ""
             }
            },
            "type": "scattercarpet"
           }
          ],
          "scattergeo": [
           {
            "marker": {
             "colorbar": {
              "outlinewidth": 0,
              "ticks": ""
             }
            },
            "type": "scattergeo"
           }
          ],
          "scattergl": [
           {
            "marker": {
             "colorbar": {
              "outlinewidth": 0,
              "ticks": ""
             }
            },
            "type": "scattergl"
           }
          ],
          "scattermapbox": [
           {
            "marker": {
             "colorbar": {
              "outlinewidth": 0,
              "ticks": ""
             }
            },
            "type": "scattermapbox"
           }
          ],
          "scatterpolar": [
           {
            "marker": {
             "colorbar": {
              "outlinewidth": 0,
              "ticks": ""
             }
            },
            "type": "scatterpolar"
           }
          ],
          "scatterpolargl": [
           {
            "marker": {
             "colorbar": {
              "outlinewidth": 0,
              "ticks": ""
             }
            },
            "type": "scatterpolargl"
           }
          ],
          "scatterternary": [
           {
            "marker": {
             "colorbar": {
              "outlinewidth": 0,
              "ticks": ""
             }
            },
            "type": "scatterternary"
           }
          ],
          "surface": [
           {
            "colorbar": {
             "outlinewidth": 0,
             "ticks": ""
            },
            "colorscale": [
             [
              0,
              "#0d0887"
             ],
             [
              0.1111111111111111,
              "#46039f"
             ],
             [
              0.2222222222222222,
              "#7201a8"
             ],
             [
              0.3333333333333333,
              "#9c179e"
             ],
             [
              0.4444444444444444,
              "#bd3786"
             ],
             [
              0.5555555555555556,
              "#d8576b"
             ],
             [
              0.6666666666666666,
              "#ed7953"
             ],
             [
              0.7777777777777778,
              "#fb9f3a"
             ],
             [
              0.8888888888888888,
              "#fdca26"
             ],
             [
              1,
              "#f0f921"
             ]
            ],
            "type": "surface"
           }
          ],
          "table": [
           {
            "cells": {
             "fill": {
              "color": "#EBF0F8"
             },
             "line": {
              "color": "white"
             }
            },
            "header": {
             "fill": {
              "color": "#C8D4E3"
             },
             "line": {
              "color": "white"
             }
            },
            "type": "table"
           }
          ]
         },
         "layout": {
          "annotationdefaults": {
           "arrowcolor": "#2a3f5f",
           "arrowhead": 0,
           "arrowwidth": 1
          },
          "autotypenumbers": "strict",
          "coloraxis": {
           "colorbar": {
            "outlinewidth": 0,
            "ticks": ""
           }
          },
          "colorscale": {
           "diverging": [
            [
             0,
             "#8e0152"
            ],
            [
             0.1,
             "#c51b7d"
            ],
            [
             0.2,
             "#de77ae"
            ],
            [
             0.3,
             "#f1b6da"
            ],
            [
             0.4,
             "#fde0ef"
            ],
            [
             0.5,
             "#f7f7f7"
            ],
            [
             0.6,
             "#e6f5d0"
            ],
            [
             0.7,
             "#b8e186"
            ],
            [
             0.8,
             "#7fbc41"
            ],
            [
             0.9,
             "#4d9221"
            ],
            [
             1,
             "#276419"
            ]
           ],
           "sequential": [
            [
             0,
             "#0d0887"
            ],
            [
             0.1111111111111111,
             "#46039f"
            ],
            [
             0.2222222222222222,
             "#7201a8"
            ],
            [
             0.3333333333333333,
             "#9c179e"
            ],
            [
             0.4444444444444444,
             "#bd3786"
            ],
            [
             0.5555555555555556,
             "#d8576b"
            ],
            [
             0.6666666666666666,
             "#ed7953"
            ],
            [
             0.7777777777777778,
             "#fb9f3a"
            ],
            [
             0.8888888888888888,
             "#fdca26"
            ],
            [
             1,
             "#f0f921"
            ]
           ],
           "sequentialminus": [
            [
             0,
             "#0d0887"
            ],
            [
             0.1111111111111111,
             "#46039f"
            ],
            [
             0.2222222222222222,
             "#7201a8"
            ],
            [
             0.3333333333333333,
             "#9c179e"
            ],
            [
             0.4444444444444444,
             "#bd3786"
            ],
            [
             0.5555555555555556,
             "#d8576b"
            ],
            [
             0.6666666666666666,
             "#ed7953"
            ],
            [
             0.7777777777777778,
             "#fb9f3a"
            ],
            [
             0.8888888888888888,
             "#fdca26"
            ],
            [
             1,
             "#f0f921"
            ]
           ]
          },
          "colorway": [
           "#636efa",
           "#EF553B",
           "#00cc96",
           "#ab63fa",
           "#FFA15A",
           "#19d3f3",
           "#FF6692",
           "#B6E880",
           "#FF97FF",
           "#FECB52"
          ],
          "font": {
           "color": "#2a3f5f"
          },
          "geo": {
           "bgcolor": "white",
           "lakecolor": "white",
           "landcolor": "#E5ECF6",
           "showlakes": true,
           "showland": true,
           "subunitcolor": "white"
          },
          "hoverlabel": {
           "align": "left"
          },
          "hovermode": "closest",
          "mapbox": {
           "style": "light"
          },
          "paper_bgcolor": "white",
          "plot_bgcolor": "#E5ECF6",
          "polar": {
           "angularaxis": {
            "gridcolor": "white",
            "linecolor": "white",
            "ticks": ""
           },
           "bgcolor": "#E5ECF6",
           "radialaxis": {
            "gridcolor": "white",
            "linecolor": "white",
            "ticks": ""
           }
          },
          "scene": {
           "xaxis": {
            "backgroundcolor": "#E5ECF6",
            "gridcolor": "white",
            "gridwidth": 2,
            "linecolor": "white",
            "showbackground": true,
            "ticks": "",
            "zerolinecolor": "white"
           },
           "yaxis": {
            "backgroundcolor": "#E5ECF6",
            "gridcolor": "white",
            "gridwidth": 2,
            "linecolor": "white",
            "showbackground": true,
            "ticks": "",
            "zerolinecolor": "white"
           },
           "zaxis": {
            "backgroundcolor": "#E5ECF6",
            "gridcolor": "white",
            "gridwidth": 2,
            "linecolor": "white",
            "showbackground": true,
            "ticks": "",
            "zerolinecolor": "white"
           }
          },
          "shapedefaults": {
           "line": {
            "color": "#2a3f5f"
           }
          },
          "ternary": {
           "aaxis": {
            "gridcolor": "white",
            "linecolor": "white",
            "ticks": ""
           },
           "baxis": {
            "gridcolor": "white",
            "linecolor": "white",
            "ticks": ""
           },
           "bgcolor": "#E5ECF6",
           "caxis": {
            "gridcolor": "white",
            "linecolor": "white",
            "ticks": ""
           }
          },
          "title": {
           "x": 0.05
          },
          "xaxis": {
           "automargin": true,
           "gridcolor": "white",
           "linecolor": "white",
           "ticks": "",
           "title": {
            "standoff": 15
           },
           "zerolinecolor": "white",
           "zerolinewidth": 2
          },
          "yaxis": {
           "automargin": true,
           "gridcolor": "white",
           "linecolor": "white",
           "ticks": "",
           "title": {
            "standoff": 15
           },
           "zerolinecolor": "white",
           "zerolinewidth": 2
          }
         }
        },
        "title": {
         "text": "Unemployment rate in every State and Region"
        }
       }
      }
     },
     "metadata": {},
     "output_type": "display_data"
    }
   ],
   "source": [
    "fig = px.sunburst(unemployment, path=['region','state'], values='estimated unemployment rate',\n",
    "                  title= 'Unemployment rate in every State and Region', height=650)\n",
    "fig.show()"
   ]
  },
  {
   "cell_type": "markdown",
   "id": "940a6953",
   "metadata": {
    "papermill": {
     "duration": 0.013476,
     "end_time": "2023-01-24T18:21:12.025960",
     "exception": false,
     "start_time": "2023-01-24T18:21:12.012484",
     "status": "completed"
    },
    "tags": []
   },
   "source": [
    "### Unemployment rate before and after Lockdown"
   ]
  },
  {
   "cell_type": "code",
   "execution_count": 26,
   "id": "5a36ebc8",
   "metadata": {
    "execution": {
     "iopub.execute_input": "2023-01-24T18:21:12.055347Z",
     "iopub.status.busy": "2023-01-24T18:21:12.054956Z",
     "iopub.status.idle": "2023-01-24T18:21:12.063767Z",
     "shell.execute_reply": "2023-01-24T18:21:12.062225Z"
    },
    "papermill": {
     "duration": 0.026222,
     "end_time": "2023-01-24T18:21:12.066077",
     "exception": false,
     "start_time": "2023-01-24T18:21:12.039855",
     "status": "completed"
    },
    "tags": []
   },
   "outputs": [],
   "source": [
    "# data p\n",
    "\n",
    "before_lockdown = df[(df['month_int'] >= 1) & (df['month_int'] <4)]\n",
    "after_lockdown = df[(df['month_int'] >= 4) & (df['month_int'] <=6)]"
   ]
  },
  {
   "cell_type": "code",
   "execution_count": 27,
   "id": "c4101105",
   "metadata": {
    "execution": {
     "iopub.execute_input": "2023-01-24T18:21:12.095267Z",
     "iopub.status.busy": "2023-01-24T18:21:12.094897Z",
     "iopub.status.idle": "2023-01-24T18:21:12.111813Z",
     "shell.execute_reply": "2023-01-24T18:21:12.110668Z"
    },
    "papermill": {
     "duration": 0.034112,
     "end_time": "2023-01-24T18:21:12.113887",
     "exception": false,
     "start_time": "2023-01-24T18:21:12.079775",
     "status": "completed"
    },
    "tags": []
   },
   "outputs": [
    {
     "data": {
      "text/html": [
       "<div>\n",
       "<style scoped>\n",
       "    .dataframe tbody tr th:only-of-type {\n",
       "        vertical-align: middle;\n",
       "    }\n",
       "\n",
       "    .dataframe tbody tr th {\n",
       "        vertical-align: top;\n",
       "    }\n",
       "\n",
       "    .dataframe thead th {\n",
       "        text-align: right;\n",
       "    }\n",
       "</style>\n",
       "<table border=\"1\" class=\"dataframe\">\n",
       "  <thead>\n",
       "    <tr style=\"text-align: right;\">\n",
       "      <th></th>\n",
       "      <th>state</th>\n",
       "      <th>unemployment rate before lockdown</th>\n",
       "      <th>unemployment rate after lockdown</th>\n",
       "    </tr>\n",
       "  </thead>\n",
       "  <tbody>\n",
       "    <tr>\n",
       "      <th>0</th>\n",
       "      <td>Andhra Pradesh</td>\n",
       "      <td>5.700000</td>\n",
       "      <td>13.750000</td>\n",
       "    </tr>\n",
       "    <tr>\n",
       "      <th>1</th>\n",
       "      <td>Assam</td>\n",
       "      <td>4.613333</td>\n",
       "      <td>7.070000</td>\n",
       "    </tr>\n",
       "    <tr>\n",
       "      <th>2</th>\n",
       "      <td>Bihar</td>\n",
       "      <td>12.110000</td>\n",
       "      <td>36.806667</td>\n",
       "    </tr>\n",
       "    <tr>\n",
       "      <th>3</th>\n",
       "      <td>Chhattisgarh</td>\n",
       "      <td>8.523333</td>\n",
       "      <td>9.380000</td>\n",
       "    </tr>\n",
       "    <tr>\n",
       "      <th>4</th>\n",
       "      <td>Delhi</td>\n",
       "      <td>18.036667</td>\n",
       "      <td>25.713333</td>\n",
       "    </tr>\n",
       "  </tbody>\n",
       "</table>\n",
       "</div>"
      ],
      "text/plain": [
       "            state  unemployment rate before lockdown  \\\n",
       "0  Andhra Pradesh                           5.700000   \n",
       "1           Assam                           4.613333   \n",
       "2           Bihar                          12.110000   \n",
       "3    Chhattisgarh                           8.523333   \n",
       "4           Delhi                          18.036667   \n",
       "\n",
       "   unemployment rate after lockdown  \n",
       "0                         13.750000  \n",
       "1                          7.070000  \n",
       "2                         36.806667  \n",
       "3                          9.380000  \n",
       "4                         25.713333  "
      ]
     },
     "execution_count": 27,
     "metadata": {},
     "output_type": "execute_result"
    }
   ],
   "source": [
    "\n",
    "af_lockdown = after_lockdown.groupby('state')['estimated unemployment rate'].mean().reset_index()\n",
    "\n",
    "lockdown = before_lockdown.groupby('state')['estimated unemployment rate'].mean().reset_index()\n",
    "lockdown['unemployment rate after lockdown'] = af_lockdown['estimated unemployment rate']\n",
    "\n",
    "lockdown.columns = ['state','unemployment rate before lockdown','unemployment rate after lockdown']\n",
    "lockdown.head()"
   ]
  },
  {
   "cell_type": "code",
   "execution_count": 28,
   "id": "bfc46950",
   "metadata": {
    "execution": {
     "iopub.execute_input": "2023-01-24T18:21:12.142973Z",
     "iopub.status.busy": "2023-01-24T18:21:12.142619Z",
     "iopub.status.idle": "2023-01-24T18:21:12.149141Z",
     "shell.execute_reply": "2023-01-24T18:21:12.147982Z"
    },
    "papermill": {
     "duration": 0.023457,
     "end_time": "2023-01-24T18:21:12.151072",
     "exception": false,
     "start_time": "2023-01-24T18:21:12.127615",
     "status": "completed"
    },
    "tags": []
   },
   "outputs": [],
   "source": [
    "# Unemployment rate change after lockdown\n",
    "\n",
    "lockdown['rate change in unemployment'] = round(lockdown['unemployment rate after lockdown'] - lockdown['unemployment rate before lockdown']\n",
    "                                                /lockdown['unemployment rate before lockdown'],2)\n"
   ]
  },
  {
   "cell_type": "code",
   "execution_count": 29,
   "id": "308d96bb",
   "metadata": {
    "execution": {
     "iopub.execute_input": "2023-01-24T18:21:12.179387Z",
     "iopub.status.busy": "2023-01-24T18:21:12.179051Z",
     "iopub.status.idle": "2023-01-24T18:21:12.303753Z",
     "shell.execute_reply": "2023-01-24T18:21:12.302778Z"
    },
    "papermill": {
     "duration": 0.141211,
     "end_time": "2023-01-24T18:21:12.305788",
     "exception": false,
     "start_time": "2023-01-24T18:21:12.164577",
     "status": "completed"
    },
    "tags": []
   },
   "outputs": [
    {
     "data": {
      "application/vnd.plotly.v1+json": {
       "config": {
        "plotlyServerURL": "https://plot.ly"
       },
       "data": [
        {
         "alignmentgroup": "True",
         "hovertemplate": "state=%{x}<br>rate change in unemployment=%{marker.color}<extra></extra>",
         "legendgroup": "",
         "marker": {
          "color": [
           12.75,
           6.07,
           35.81,
           8.38,
           24.71,
           13.84,
           10.34,
           31.98,
           13.21,
           17.33,
           41.42,
           18.42,
           13.86,
           12.61,
           14.2,
           4.7,
           11.98,
           45.09,
           14.91,
           14.94,
           9.42,
           30.73,
           9.5,
           27.15,
           16.14,
           6.7,
           13.04
          ],
          "coloraxis": "coloraxis",
          "pattern": {
           "shape": ""
          }
         },
         "name": "",
         "offsetgroup": "",
         "orientation": "v",
         "showlegend": false,
         "textposition": "auto",
         "type": "bar",
         "x": [
          "Andhra Pradesh",
          "Assam",
          "Bihar",
          "Chhattisgarh",
          "Delhi",
          "Goa",
          "Gujarat",
          "Haryana",
          "Himachal Pradesh",
          "Jammu & Kashmir",
          "Jharkhand",
          "Karnataka",
          "Kerala",
          "Madhya Pradesh",
          "Maharashtra",
          "Meghalaya",
          "Odisha",
          "Puducherry",
          "Punjab",
          "Rajasthan",
          "Sikkim",
          "Tamil Nadu",
          "Telangana",
          "Tripura",
          "Uttar Pradesh",
          "Uttarakhand",
          "West Bengal"
         ],
         "xaxis": "x",
         "y": [
          12.75,
          6.07,
          35.81,
          8.38,
          24.71,
          13.84,
          10.34,
          31.98,
          13.21,
          17.33,
          41.42,
          18.42,
          13.86,
          12.61,
          14.2,
          4.7,
          11.98,
          45.09,
          14.91,
          14.94,
          9.42,
          30.73,
          9.5,
          27.15,
          16.14,
          6.7,
          13.04
         ],
         "yaxis": "y"
        }
       ],
       "layout": {
        "barmode": "relative",
        "coloraxis": {
         "colorbar": {
          "title": {
           "text": "rate change in unemployment"
          }
         },
         "colorscale": [
          [
           0,
           "rgb(20,44,66)"
          ],
          [
           1,
           "rgb(90,179,244)"
          ]
         ]
        },
        "legend": {
         "tracegroupgap": 0
        },
        "template": {
         "data": {
          "bar": [
           {
            "error_x": {
             "color": "rgb(51,51,51)"
            },
            "error_y": {
             "color": "rgb(51,51,51)"
            },
            "marker": {
             "line": {
              "color": "rgb(237,237,237)",
              "width": 0.5
             },
             "pattern": {
              "fillmode": "overlay",
              "size": 10,
              "solidity": 0.2
             }
            },
            "type": "bar"
           }
          ],
          "barpolar": [
           {
            "marker": {
             "line": {
              "color": "rgb(237,237,237)",
              "width": 0.5
             },
             "pattern": {
              "fillmode": "overlay",
              "size": 10,
              "solidity": 0.2
             }
            },
            "type": "barpolar"
           }
          ],
          "carpet": [
           {
            "aaxis": {
             "endlinecolor": "rgb(51,51,51)",
             "gridcolor": "white",
             "linecolor": "white",
             "minorgridcolor": "white",
             "startlinecolor": "rgb(51,51,51)"
            },
            "baxis": {
             "endlinecolor": "rgb(51,51,51)",
             "gridcolor": "white",
             "linecolor": "white",
             "minorgridcolor": "white",
             "startlinecolor": "rgb(51,51,51)"
            },
            "type": "carpet"
           }
          ],
          "choropleth": [
           {
            "colorbar": {
             "outlinewidth": 0,
             "tickcolor": "rgb(237,237,237)",
             "ticklen": 6,
             "ticks": "inside"
            },
            "type": "choropleth"
           }
          ],
          "contour": [
           {
            "colorbar": {
             "outlinewidth": 0,
             "tickcolor": "rgb(237,237,237)",
             "ticklen": 6,
             "ticks": "inside"
            },
            "colorscale": [
             [
              0,
              "rgb(20,44,66)"
             ],
             [
              1,
              "rgb(90,179,244)"
             ]
            ],
            "type": "contour"
           }
          ],
          "contourcarpet": [
           {
            "colorbar": {
             "outlinewidth": 0,
             "tickcolor": "rgb(237,237,237)",
             "ticklen": 6,
             "ticks": "inside"
            },
            "type": "contourcarpet"
           }
          ],
          "heatmap": [
           {
            "colorbar": {
             "outlinewidth": 0,
             "tickcolor": "rgb(237,237,237)",
             "ticklen": 6,
             "ticks": "inside"
            },
            "colorscale": [
             [
              0,
              "rgb(20,44,66)"
             ],
             [
              1,
              "rgb(90,179,244)"
             ]
            ],
            "type": "heatmap"
           }
          ],
          "heatmapgl": [
           {
            "colorbar": {
             "outlinewidth": 0,
             "tickcolor": "rgb(237,237,237)",
             "ticklen": 6,
             "ticks": "inside"
            },
            "colorscale": [
             [
              0,
              "rgb(20,44,66)"
             ],
             [
              1,
              "rgb(90,179,244)"
             ]
            ],
            "type": "heatmapgl"
           }
          ],
          "histogram": [
           {
            "marker": {
             "pattern": {
              "fillmode": "overlay",
              "size": 10,
              "solidity": 0.2
             }
            },
            "type": "histogram"
           }
          ],
          "histogram2d": [
           {
            "colorbar": {
             "outlinewidth": 0,
             "tickcolor": "rgb(237,237,237)",
             "ticklen": 6,
             "ticks": "inside"
            },
            "colorscale": [
             [
              0,
              "rgb(20,44,66)"
             ],
             [
              1,
              "rgb(90,179,244)"
             ]
            ],
            "type": "histogram2d"
           }
          ],
          "histogram2dcontour": [
           {
            "colorbar": {
             "outlinewidth": 0,
             "tickcolor": "rgb(237,237,237)",
             "ticklen": 6,
             "ticks": "inside"
            },
            "colorscale": [
             [
              0,
              "rgb(20,44,66)"
             ],
             [
              1,
              "rgb(90,179,244)"
             ]
            ],
            "type": "histogram2dcontour"
           }
          ],
          "mesh3d": [
           {
            "colorbar": {
             "outlinewidth": 0,
             "tickcolor": "rgb(237,237,237)",
             "ticklen": 6,
             "ticks": "inside"
            },
            "type": "mesh3d"
           }
          ],
          "parcoords": [
           {
            "line": {
             "colorbar": {
              "outlinewidth": 0,
              "tickcolor": "rgb(237,237,237)",
              "ticklen": 6,
              "ticks": "inside"
             }
            },
            "type": "parcoords"
           }
          ],
          "pie": [
           {
            "automargin": true,
            "type": "pie"
           }
          ],
          "scatter": [
           {
            "fillpattern": {
             "fillmode": "overlay",
             "size": 10,
             "solidity": 0.2
            },
            "type": "scatter"
           }
          ],
          "scatter3d": [
           {
            "line": {
             "colorbar": {
              "outlinewidth": 0,
              "tickcolor": "rgb(237,237,237)",
              "ticklen": 6,
              "ticks": "inside"
             }
            },
            "marker": {
             "colorbar": {
              "outlinewidth": 0,
              "tickcolor": "rgb(237,237,237)",
              "ticklen": 6,
              "ticks": "inside"
             }
            },
            "type": "scatter3d"
           }
          ],
          "scattercarpet": [
           {
            "marker": {
             "colorbar": {
              "outlinewidth": 0,
              "tickcolor": "rgb(237,237,237)",
              "ticklen": 6,
              "ticks": "inside"
             }
            },
            "type": "scattercarpet"
           }
          ],
          "scattergeo": [
           {
            "marker": {
             "colorbar": {
              "outlinewidth": 0,
              "tickcolor": "rgb(237,237,237)",
              "ticklen": 6,
              "ticks": "inside"
             }
            },
            "type": "scattergeo"
           }
          ],
          "scattergl": [
           {
            "marker": {
             "colorbar": {
              "outlinewidth": 0,
              "tickcolor": "rgb(237,237,237)",
              "ticklen": 6,
              "ticks": "inside"
             }
            },
            "type": "scattergl"
           }
          ],
          "scattermapbox": [
           {
            "marker": {
             "colorbar": {
              "outlinewidth": 0,
              "tickcolor": "rgb(237,237,237)",
              "ticklen": 6,
              "ticks": "inside"
             }
            },
            "type": "scattermapbox"
           }
          ],
          "scatterpolar": [
           {
            "marker": {
             "colorbar": {
              "outlinewidth": 0,
              "tickcolor": "rgb(237,237,237)",
              "ticklen": 6,
              "ticks": "inside"
             }
            },
            "type": "scatterpolar"
           }
          ],
          "scatterpolargl": [
           {
            "marker": {
             "colorbar": {
              "outlinewidth": 0,
              "tickcolor": "rgb(237,237,237)",
              "ticklen": 6,
              "ticks": "inside"
             }
            },
            "type": "scatterpolargl"
           }
          ],
          "scatterternary": [
           {
            "marker": {
             "colorbar": {
              "outlinewidth": 0,
              "tickcolor": "rgb(237,237,237)",
              "ticklen": 6,
              "ticks": "inside"
             }
            },
            "type": "scatterternary"
           }
          ],
          "surface": [
           {
            "colorbar": {
             "outlinewidth": 0,
             "tickcolor": "rgb(237,237,237)",
             "ticklen": 6,
             "ticks": "inside"
            },
            "colorscale": [
             [
              0,
              "rgb(20,44,66)"
             ],
             [
              1,
              "rgb(90,179,244)"
             ]
            ],
            "type": "surface"
           }
          ],
          "table": [
           {
            "cells": {
             "fill": {
              "color": "rgb(237,237,237)"
             },
             "line": {
              "color": "white"
             }
            },
            "header": {
             "fill": {
              "color": "rgb(217,217,217)"
             },
             "line": {
              "color": "white"
             }
            },
            "type": "table"
           }
          ]
         },
         "layout": {
          "annotationdefaults": {
           "arrowhead": 0,
           "arrowwidth": 1
          },
          "autotypenumbers": "strict",
          "coloraxis": {
           "colorbar": {
            "outlinewidth": 0,
            "tickcolor": "rgb(237,237,237)",
            "ticklen": 6,
            "ticks": "inside"
           }
          },
          "colorscale": {
           "sequential": [
            [
             0,
             "rgb(20,44,66)"
            ],
            [
             1,
             "rgb(90,179,244)"
            ]
           ],
           "sequentialminus": [
            [
             0,
             "rgb(20,44,66)"
            ],
            [
             1,
             "rgb(90,179,244)"
            ]
           ]
          },
          "colorway": [
           "#F8766D",
           "#A3A500",
           "#00BF7D",
           "#00B0F6",
           "#E76BF3"
          ],
          "font": {
           "color": "rgb(51,51,51)"
          },
          "geo": {
           "bgcolor": "white",
           "lakecolor": "white",
           "landcolor": "rgb(237,237,237)",
           "showlakes": true,
           "showland": true,
           "subunitcolor": "white"
          },
          "hoverlabel": {
           "align": "left"
          },
          "hovermode": "closest",
          "paper_bgcolor": "white",
          "plot_bgcolor": "rgb(237,237,237)",
          "polar": {
           "angularaxis": {
            "gridcolor": "white",
            "linecolor": "white",
            "showgrid": true,
            "tickcolor": "rgb(51,51,51)",
            "ticks": "outside"
           },
           "bgcolor": "rgb(237,237,237)",
           "radialaxis": {
            "gridcolor": "white",
            "linecolor": "white",
            "showgrid": true,
            "tickcolor": "rgb(51,51,51)",
            "ticks": "outside"
           }
          },
          "scene": {
           "xaxis": {
            "backgroundcolor": "rgb(237,237,237)",
            "gridcolor": "white",
            "gridwidth": 2,
            "linecolor": "white",
            "showbackground": true,
            "showgrid": true,
            "tickcolor": "rgb(51,51,51)",
            "ticks": "outside",
            "zerolinecolor": "white"
           },
           "yaxis": {
            "backgroundcolor": "rgb(237,237,237)",
            "gridcolor": "white",
            "gridwidth": 2,
            "linecolor": "white",
            "showbackground": true,
            "showgrid": true,
            "tickcolor": "rgb(51,51,51)",
            "ticks": "outside",
            "zerolinecolor": "white"
           },
           "zaxis": {
            "backgroundcolor": "rgb(237,237,237)",
            "gridcolor": "white",
            "gridwidth": 2,
            "linecolor": "white",
            "showbackground": true,
            "showgrid": true,
            "tickcolor": "rgb(51,51,51)",
            "ticks": "outside",
            "zerolinecolor": "white"
           }
          },
          "shapedefaults": {
           "fillcolor": "black",
           "line": {
            "width": 0
           },
           "opacity": 0.3
          },
          "ternary": {
           "aaxis": {
            "gridcolor": "white",
            "linecolor": "white",
            "showgrid": true,
            "tickcolor": "rgb(51,51,51)",
            "ticks": "outside"
           },
           "baxis": {
            "gridcolor": "white",
            "linecolor": "white",
            "showgrid": true,
            "tickcolor": "rgb(51,51,51)",
            "ticks": "outside"
           },
           "bgcolor": "rgb(237,237,237)",
           "caxis": {
            "gridcolor": "white",
            "linecolor": "white",
            "showgrid": true,
            "tickcolor": "rgb(51,51,51)",
            "ticks": "outside"
           }
          },
          "xaxis": {
           "automargin": true,
           "gridcolor": "white",
           "linecolor": "white",
           "showgrid": true,
           "tickcolor": "rgb(51,51,51)",
           "ticks": "outside",
           "title": {
            "standoff": 15
           },
           "zerolinecolor": "white"
          },
          "yaxis": {
           "automargin": true,
           "gridcolor": "white",
           "linecolor": "white",
           "showgrid": true,
           "tickcolor": "rgb(51,51,51)",
           "ticks": "outside",
           "title": {
            "standoff": 15
           },
           "zerolinecolor": "white"
          }
         }
        },
        "title": {
         "text": "Percentage change in Unemployment rate in each state after lockdown"
        },
        "xaxis": {
         "anchor": "y",
         "categoryorder": "total ascending",
         "domain": [
          0,
          1
         ],
         "title": {
          "text": "state"
         }
        },
        "yaxis": {
         "anchor": "x",
         "domain": [
          0,
          1
         ],
         "title": {
          "text": "rate change in unemployment"
         }
        }
       }
      }
     },
     "metadata": {},
     "output_type": "display_data"
    }
   ],
   "source": [
    "fig = px.bar(lockdown, x='state',y='rate change in unemployment',color='rate change in unemployment',\n",
    "            title='Percentage change in Unemployment rate in each state after lockdown', template=\"ggplot2\")\n",
    "fig.update_layout(xaxis={'categoryorder':'total ascending'})\n",
    "fig.show()\n"
   ]
  },
  {
   "cell_type": "markdown",
   "id": "f982fa51",
   "metadata": {
    "papermill": {
     "duration": 0.014587,
     "end_time": "2023-01-24T18:21:12.334883",
     "exception": false,
     "start_time": "2023-01-24T18:21:12.320296",
     "status": "completed"
    },
    "tags": []
   },
   "source": [
    "#### Thankyou"
   ]
  }
 ],
 "metadata": {
  "kernelspec": {
   "display_name": "Python 3",
   "language": "python",
   "name": "python3"
  },
  "language_info": {
   "codemirror_mode": {
    "name": "ipython",
    "version": 3
   },
   "file_extension": ".py",
   "mimetype": "text/x-python",
   "name": "python",
   "nbconvert_exporter": "python",
   "pygments_lexer": "ipython3",
   "version": "3.10.9"
  },
  "papermill": {
   "default_parameters": {},
   "duration": 16.786039,
   "end_time": "2023-01-24T18:21:13.170801",
   "environment_variables": {},
   "exception": null,
   "input_path": "__notebook__.ipynb",
   "output_path": "__notebook__.ipynb",
   "parameters": {},
   "start_time": "2023-01-24T18:20:56.384762",
   "version": "2.3.4"
  }
 },
 "nbformat": 4,
 "nbformat_minor": 5
}
